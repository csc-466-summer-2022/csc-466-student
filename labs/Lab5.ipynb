{
 "cells": [
  {
   "cell_type": "markdown",
   "metadata": {},
   "source": [
    "# Lab 5\n",
    "\n",
    "## Ensemble Learning\n",
    "\n",
    "For this lab, we will implement a bagging and boosting. Due to the increased simplicity when implementing regression with boosted trees over classification, we will stick to regression for this lab. Classification is a straightforward extension.\n",
    "\n",
    "There are two main exercises and questions in the lab. "
   ]
  },
  {
   "cell_type": "code",
   "execution_count": 51,
   "metadata": {},
   "outputs": [],
   "source": [
    "from pathlib import Path\n",
    "home = str(Path.home()) # all other paths are relative to this path. change to something else if this is not the case on your system"
   ]
  },
  {
   "cell_type": "code",
   "execution_count": 52,
   "metadata": {},
   "outputs": [
    {
     "name": "stdout",
     "output_type": "stream",
     "text": [
      "The autoreload extension is already loaded. To reload it, use:\n",
      "  %reload_ext autoreload\n"
     ]
    }
   ],
   "source": [
    "%load_ext autoreload\n",
    "%autoreload 2\n",
    "\n",
    "# make sure your run the cell above before running this\n",
    "import Lab5_helper"
   ]
  },
  {
   "cell_type": "markdown",
   "metadata": {},
   "source": [
    "For developing this lab, we can our three gene dataset. We will try to predict the value of ESR1 from the other two genes."
   ]
  },
  {
   "cell_type": "code",
   "execution_count": 53,
   "metadata": {},
   "outputs": [
    {
     "data": {
      "text/html": [
       "<div>\n",
       "<style scoped>\n",
       "    .dataframe tbody tr th:only-of-type {\n",
       "        vertical-align: middle;\n",
       "    }\n",
       "\n",
       "    .dataframe tbody tr th {\n",
       "        vertical-align: top;\n",
       "    }\n",
       "\n",
       "    .dataframe thead th {\n",
       "        text-align: right;\n",
       "    }\n",
       "</style>\n",
       "<table border=\"1\" class=\"dataframe\">\n",
       "  <thead>\n",
       "    <tr style=\"text-align: right;\">\n",
       "      <th></th>\n",
       "      <th>ESR1</th>\n",
       "      <th>AURKA</th>\n",
       "      <th>ERBB2</th>\n",
       "      <th>Subtype</th>\n",
       "    </tr>\n",
       "  </thead>\n",
       "  <tbody>\n",
       "    <tr>\n",
       "      <th>0</th>\n",
       "      <td>0.804501</td>\n",
       "      <td>0.264356</td>\n",
       "      <td>6.941677</td>\n",
       "      <td>LumA</td>\n",
       "    </tr>\n",
       "    <tr>\n",
       "      <th>1</th>\n",
       "      <td>0.163597</td>\n",
       "      <td>0.589052</td>\n",
       "      <td>6.551394</td>\n",
       "      <td>Basal</td>\n",
       "    </tr>\n",
       "    <tr>\n",
       "      <th>2</th>\n",
       "      <td>0.569347</td>\n",
       "      <td>0.189531</td>\n",
       "      <td>7.056530</td>\n",
       "      <td>LumA</td>\n",
       "    </tr>\n",
       "    <tr>\n",
       "      <th>3</th>\n",
       "      <td>0.847584</td>\n",
       "      <td>0.264849</td>\n",
       "      <td>7.028625</td>\n",
       "      <td>LumB</td>\n",
       "    </tr>\n",
       "    <tr>\n",
       "      <th>4</th>\n",
       "      <td>0.442474</td>\n",
       "      <td>0.526040</td>\n",
       "      <td>8.783604</td>\n",
       "      <td>LumB</td>\n",
       "    </tr>\n",
       "  </tbody>\n",
       "</table>\n",
       "</div>"
      ],
      "text/plain": [
       "       ESR1     AURKA     ERBB2 Subtype\n",
       "0  0.804501  0.264356  6.941677    LumA\n",
       "1  0.163597  0.589052  6.551394   Basal\n",
       "2  0.569347  0.189531  7.056530    LumA\n",
       "3  0.847584  0.264849  7.028625    LumB\n",
       "4  0.442474  0.526040  8.783604    LumB"
      ]
     },
     "execution_count": 53,
     "metadata": {},
     "output_type": "execute_result"
    }
   ],
   "source": [
    "import pandas as pd\n",
    "import numpy as np\n",
    "\n",
    "df = pd.read_csv(\n",
    "    f\"{home}/csc-466-student/data/breast_cancer_three_gene.csv\",index_col=0\n",
    ")\n",
    "df.head()"
   ]
  },
  {
   "cell_type": "markdown",
   "metadata": {},
   "source": [
    "We need to do some simple preprocessing before our neural network can deal with this data. "
   ]
  },
  {
   "cell_type": "code",
   "execution_count": 54,
   "metadata": {},
   "outputs": [
    {
     "data": {
      "text/html": [
       "<div>\n",
       "<style scoped>\n",
       "    .dataframe tbody tr th:only-of-type {\n",
       "        vertical-align: middle;\n",
       "    }\n",
       "\n",
       "    .dataframe tbody tr th {\n",
       "        vertical-align: top;\n",
       "    }\n",
       "\n",
       "    .dataframe thead th {\n",
       "        text-align: right;\n",
       "    }\n",
       "</style>\n",
       "<table border=\"1\" class=\"dataframe\">\n",
       "  <thead>\n",
       "    <tr style=\"text-align: right;\">\n",
       "      <th></th>\n",
       "      <th>ESR1</th>\n",
       "      <th>AURKA</th>\n",
       "      <th>ERBB2</th>\n",
       "    </tr>\n",
       "  </thead>\n",
       "  <tbody>\n",
       "    <tr>\n",
       "      <th>0</th>\n",
       "      <td>0.804501</td>\n",
       "      <td>0.264356</td>\n",
       "      <td>6.941677</td>\n",
       "    </tr>\n",
       "    <tr>\n",
       "      <th>1</th>\n",
       "      <td>0.163597</td>\n",
       "      <td>0.589052</td>\n",
       "      <td>6.551394</td>\n",
       "    </tr>\n",
       "    <tr>\n",
       "      <th>2</th>\n",
       "      <td>0.569347</td>\n",
       "      <td>0.189531</td>\n",
       "      <td>7.056530</td>\n",
       "    </tr>\n",
       "    <tr>\n",
       "      <th>3</th>\n",
       "      <td>0.847584</td>\n",
       "      <td>0.264849</td>\n",
       "      <td>7.028625</td>\n",
       "    </tr>\n",
       "    <tr>\n",
       "      <th>4</th>\n",
       "      <td>0.442474</td>\n",
       "      <td>0.526040</td>\n",
       "      <td>8.783604</td>\n",
       "    </tr>\n",
       "    <tr>\n",
       "      <th>...</th>\n",
       "      <td>...</td>\n",
       "      <td>...</td>\n",
       "      <td>...</td>\n",
       "    </tr>\n",
       "    <tr>\n",
       "      <th>2128</th>\n",
       "      <td>0.635455</td>\n",
       "      <td>0.143977</td>\n",
       "      <td>7.159443</td>\n",
       "    </tr>\n",
       "    <tr>\n",
       "      <th>2129</th>\n",
       "      <td>0.632849</td>\n",
       "      <td>0.258203</td>\n",
       "      <td>7.145417</td>\n",
       "    </tr>\n",
       "    <tr>\n",
       "      <th>2130</th>\n",
       "      <td>0.662344</td>\n",
       "      <td>0.243027</td>\n",
       "      <td>6.936228</td>\n",
       "    </tr>\n",
       "    <tr>\n",
       "      <th>2131</th>\n",
       "      <td>0.086119</td>\n",
       "      <td>0.479997</td>\n",
       "      <td>7.671082</td>\n",
       "    </tr>\n",
       "    <tr>\n",
       "      <th>2132</th>\n",
       "      <td>0.684853</td>\n",
       "      <td>0.295967</td>\n",
       "      <td>7.045126</td>\n",
       "    </tr>\n",
       "  </tbody>\n",
       "</table>\n",
       "<p>2133 rows × 3 columns</p>\n",
       "</div>"
      ],
      "text/plain": [
       "          ESR1     AURKA     ERBB2\n",
       "0     0.804501  0.264356  6.941677\n",
       "1     0.163597  0.589052  6.551394\n",
       "2     0.569347  0.189531  7.056530\n",
       "3     0.847584  0.264849  7.028625\n",
       "4     0.442474  0.526040  8.783604\n",
       "...        ...       ...       ...\n",
       "2128  0.635455  0.143977  7.159443\n",
       "2129  0.632849  0.258203  7.145417\n",
       "2130  0.662344  0.243027  6.936228\n",
       "2131  0.086119  0.479997  7.671082\n",
       "2132  0.684853  0.295967  7.045126\n",
       "\n",
       "[2133 rows x 3 columns]"
      ]
     },
     "execution_count": 54,
     "metadata": {},
     "output_type": "execute_result"
    }
   ],
   "source": [
    "X = df.drop('Subtype',axis=1)#.dropna()\n",
    "X"
   ]
  },
  {
   "cell_type": "code",
   "execution_count": 55,
   "metadata": {},
   "outputs": [
    {
     "data": {
      "text/html": [
       "<div>\n",
       "<style scoped>\n",
       "    .dataframe tbody tr th:only-of-type {\n",
       "        vertical-align: middle;\n",
       "    }\n",
       "\n",
       "    .dataframe tbody tr th {\n",
       "        vertical-align: top;\n",
       "    }\n",
       "\n",
       "    .dataframe thead th {\n",
       "        text-align: right;\n",
       "    }\n",
       "</style>\n",
       "<table border=\"1\" class=\"dataframe\">\n",
       "  <thead>\n",
       "    <tr style=\"text-align: right;\">\n",
       "      <th></th>\n",
       "      <th>AURKA</th>\n",
       "      <th>ERBB2</th>\n",
       "    </tr>\n",
       "  </thead>\n",
       "  <tbody>\n",
       "    <tr>\n",
       "      <th>0</th>\n",
       "      <td>0.264356</td>\n",
       "      <td>6.941677</td>\n",
       "    </tr>\n",
       "    <tr>\n",
       "      <th>1</th>\n",
       "      <td>0.589052</td>\n",
       "      <td>6.551394</td>\n",
       "    </tr>\n",
       "    <tr>\n",
       "      <th>2</th>\n",
       "      <td>0.189531</td>\n",
       "      <td>7.056530</td>\n",
       "    </tr>\n",
       "    <tr>\n",
       "      <th>3</th>\n",
       "      <td>0.264849</td>\n",
       "      <td>7.028625</td>\n",
       "    </tr>\n",
       "    <tr>\n",
       "      <th>4</th>\n",
       "      <td>0.526040</td>\n",
       "      <td>8.783604</td>\n",
       "    </tr>\n",
       "    <tr>\n",
       "      <th>...</th>\n",
       "      <td>...</td>\n",
       "      <td>...</td>\n",
       "    </tr>\n",
       "    <tr>\n",
       "      <th>2128</th>\n",
       "      <td>0.143977</td>\n",
       "      <td>7.159443</td>\n",
       "    </tr>\n",
       "    <tr>\n",
       "      <th>2129</th>\n",
       "      <td>0.258203</td>\n",
       "      <td>7.145417</td>\n",
       "    </tr>\n",
       "    <tr>\n",
       "      <th>2130</th>\n",
       "      <td>0.243027</td>\n",
       "      <td>6.936228</td>\n",
       "    </tr>\n",
       "    <tr>\n",
       "      <th>2131</th>\n",
       "      <td>0.479997</td>\n",
       "      <td>7.671082</td>\n",
       "    </tr>\n",
       "    <tr>\n",
       "      <th>2132</th>\n",
       "      <td>0.295967</td>\n",
       "      <td>7.045126</td>\n",
       "    </tr>\n",
       "  </tbody>\n",
       "</table>\n",
       "<p>2133 rows × 2 columns</p>\n",
       "</div>"
      ],
      "text/plain": [
       "         AURKA     ERBB2\n",
       "0     0.264356  6.941677\n",
       "1     0.589052  6.551394\n",
       "2     0.189531  7.056530\n",
       "3     0.264849  7.028625\n",
       "4     0.526040  8.783604\n",
       "...        ...       ...\n",
       "2128  0.143977  7.159443\n",
       "2129  0.258203  7.145417\n",
       "2130  0.243027  6.936228\n",
       "2131  0.479997  7.671082\n",
       "2132  0.295967  7.045126\n",
       "\n",
       "[2133 rows x 2 columns]"
      ]
     },
     "execution_count": 55,
     "metadata": {},
     "output_type": "execute_result"
    }
   ],
   "source": [
    "t = X['ESR1']\n",
    "X2 = pd.get_dummies(X.drop('ESR1',axis=1))\n",
    "X2"
   ]
  },
  {
   "cell_type": "markdown",
   "metadata": {},
   "source": [
    "#### Exercise 1\n",
    "Implement bagging using regression trees as the (weak) individual learner. You should be able to reach a similar accuray to my implementation."
   ]
  },
  {
   "cell_type": "code",
   "execution_count": 56,
   "metadata": {},
   "outputs": [
    {
     "name": "stdout",
     "output_type": "stream",
     "text": [
      "Our prediction for Fare is off by 0.16748799642382256\n"
     ]
    }
   ],
   "source": [
    "import numpy as np\n",
    "learner = Lab5_helper.get_learner(X2,t) # Here is how to get a single weak learner to help build your ensembles\n",
    "y = learner.predict(X2) # As usual, here is how to get predictions\n",
    "RMSE = np.sqrt(((y-t)**2).sum()/len(t)) # Here is a sample calculation of the root mean squared error\n",
    "print('Our prediction for Fare is off by',RMSE)"
   ]
  },
  {
   "cell_type": "code",
   "execution_count": 57,
   "metadata": {},
   "outputs": [
    {
     "data": {
      "text/plain": [
       "0.22817351105917555"
      ]
     },
     "execution_count": 57,
     "metadata": {},
     "output_type": "execute_result"
    }
   ],
   "source": [
    "from sklearn.model_selection import train_test_split\n",
    "\n",
    "ntrials = 50\n",
    "# when you are debugging you will want to lower this number\n",
    "RMSEs = []\n",
    "for trial in range(ntrials):\n",
    "    X_train, X_test, t_train, t_test = train_test_split(X2, t, test_size=0.25,random_state=trial)\n",
    "    trees = Lab5_helper.make_trees(X_train,t_train,ntrees=100)\n",
    "    y = Lab5_helper.make_prediction(trees,X_test)\n",
    "    RMSEs.append(np.sqrt(((y-t_test)**2).sum()/len(t_test)))\n",
    "np.median(RMSEs)"
   ]
  },
  {
   "cell_type": "markdown",
   "metadata": {},
   "source": [
    "**Problem 1:** How do we know this is behaving as expected when there is so much randomness? This is a very similar to a question about how can we compare two algorithms? Let's examine this by changing the number of trees in bagging between 25 and 100. Then we will see if we can detect a difference.\n",
    "\n",
    "**Your answer here: https://canvas.calpoly.edu/courses/81417/assignments/545575**"
   ]
  },
  {
   "cell_type": "code",
   "execution_count": 58,
   "metadata": {},
   "outputs": [
    {
     "name": "stderr",
     "output_type": "stream",
     "text": [
      "/tmp/ipykernel_3724411/2355050195.py:9: FutureWarning: The frame.append method is deprecated and will be removed from pandas in a future version. Use pandas.concat instead.\n",
      "  results = results.append(results2)\n"
     ]
    }
   ],
   "source": [
    "results = pd.DataFrame({'RMSE':RMSEs,'Method':'Bagging (ntrees=100)'})\n",
    "RMSEs = []\n",
    "for trial in range(ntrials):\n",
    "    X_train, X_test, t_train, t_test = train_test_split(X2, t, test_size=0.25,random_state=trial)\n",
    "    trees = Lab5_helper.make_trees(X_train,t_train,ntrees=25)\n",
    "    y = Lab5_helper.make_prediction(trees,X_test)\n",
    "    RMSEs.append(np.sqrt(((y-t_test)**2).sum()/len(t_test)))\n",
    "results2 = pd.DataFrame({'RMSE':RMSEs,'Method':'Bagging (ntrees=25)'})\n",
    "results = results.append(results2)"
   ]
  },
  {
   "cell_type": "code",
   "execution_count": 59,
   "metadata": {},
   "outputs": [
    {
     "data": {
      "text/plain": [
       "Method\n",
       "Bagging (ntrees=100)    0.228174\n",
       "Bagging (ntrees=25)     0.229689\n",
       "Name: RMSE, dtype: float64"
      ]
     },
     "execution_count": 59,
     "metadata": {},
     "output_type": "execute_result"
    }
   ],
   "source": [
    "results.groupby('Method')['RMSE'].median()"
   ]
  },
  {
   "cell_type": "code",
   "execution_count": 60,
   "metadata": {},
   "outputs": [
    {
     "data": {
      "text/plain": [
       "Method\n",
       "Bagging (ntrees=100)    0.228465\n",
       "Bagging (ntrees=25)     0.230261\n",
       "Name: RMSE, dtype: float64"
      ]
     },
     "execution_count": 60,
     "metadata": {},
     "output_type": "execute_result"
    }
   ],
   "source": [
    "results.groupby('Method')['RMSE'].mean()"
   ]
  },
  {
   "cell_type": "markdown",
   "metadata": {},
   "source": [
    "This looks promising! But what do the statistics tell us?"
   ]
  },
  {
   "cell_type": "code",
   "execution_count": 61,
   "metadata": {},
   "outputs": [
    {
     "data": {
      "text/html": [
       "\n",
       "<div id=\"altair-viz-dc6d5873349e43caa811a90c9db909b1\"></div>\n",
       "<script type=\"text/javascript\">\n",
       "  var VEGA_DEBUG = (typeof VEGA_DEBUG == \"undefined\") ? {} : VEGA_DEBUG;\n",
       "  (function(spec, embedOpt){\n",
       "    let outputDiv = document.currentScript.previousElementSibling;\n",
       "    if (outputDiv.id !== \"altair-viz-dc6d5873349e43caa811a90c9db909b1\") {\n",
       "      outputDiv = document.getElementById(\"altair-viz-dc6d5873349e43caa811a90c9db909b1\");\n",
       "    }\n",
       "    const paths = {\n",
       "      \"vega\": \"https://cdn.jsdelivr.net/npm//vega@5?noext\",\n",
       "      \"vega-lib\": \"https://cdn.jsdelivr.net/npm//vega-lib?noext\",\n",
       "      \"vega-lite\": \"https://cdn.jsdelivr.net/npm//vega-lite@4.17.0?noext\",\n",
       "      \"vega-embed\": \"https://cdn.jsdelivr.net/npm//vega-embed@6?noext\",\n",
       "    };\n",
       "\n",
       "    function maybeLoadScript(lib, version) {\n",
       "      var key = `${lib.replace(\"-\", \"\")}_version`;\n",
       "      return (VEGA_DEBUG[key] == version) ?\n",
       "        Promise.resolve(paths[lib]) :\n",
       "        new Promise(function(resolve, reject) {\n",
       "          var s = document.createElement('script');\n",
       "          document.getElementsByTagName(\"head\")[0].appendChild(s);\n",
       "          s.async = true;\n",
       "          s.onload = () => {\n",
       "            VEGA_DEBUG[key] = version;\n",
       "            return resolve(paths[lib]);\n",
       "          };\n",
       "          s.onerror = () => reject(`Error loading script: ${paths[lib]}`);\n",
       "          s.src = paths[lib];\n",
       "        });\n",
       "    }\n",
       "\n",
       "    function showError(err) {\n",
       "      outputDiv.innerHTML = `<div class=\"error\" style=\"color:red;\">${err}</div>`;\n",
       "      throw err;\n",
       "    }\n",
       "\n",
       "    function displayChart(vegaEmbed) {\n",
       "      vegaEmbed(outputDiv, spec, embedOpt)\n",
       "        .catch(err => showError(`Javascript Error: ${err.message}<br>This usually means there's a typo in your chart specification. See the javascript console for the full traceback.`));\n",
       "    }\n",
       "\n",
       "    if(typeof define === \"function\" && define.amd) {\n",
       "      requirejs.config({paths});\n",
       "      require([\"vega-embed\"], displayChart, err => showError(`Error loading script: ${err.message}`));\n",
       "    } else {\n",
       "      maybeLoadScript(\"vega\", \"5\")\n",
       "        .then(() => maybeLoadScript(\"vega-lite\", \"4.17.0\"))\n",
       "        .then(() => maybeLoadScript(\"vega-embed\", \"6\"))\n",
       "        .catch(showError)\n",
       "        .then(() => displayChart(vegaEmbed));\n",
       "    }\n",
       "  })({\"config\": {\"view\": {\"continuousWidth\": 400, \"continuousHeight\": 300}}, \"data\": {\"name\": \"data-fe674fbc808d6171624372f3e5a08cb2\"}, \"mark\": \"boxplot\", \"encoding\": {\"x\": {\"field\": \"Method\", \"type\": \"nominal\"}, \"y\": {\"field\": \"RMSE\", \"type\": \"quantitative\"}}, \"width\": 300, \"$schema\": \"https://vega.github.io/schema/vega-lite/v4.17.0.json\", \"datasets\": {\"data-fe674fbc808d6171624372f3e5a08cb2\": [{\"RMSE\": 0.21778663327152117, \"Method\": \"Bagging (ntrees=100)\"}, {\"RMSE\": 0.23220886019610124, \"Method\": \"Bagging (ntrees=100)\"}, {\"RMSE\": 0.22863393526657252, \"Method\": \"Bagging (ntrees=100)\"}, {\"RMSE\": 0.22031864350103067, \"Method\": \"Bagging (ntrees=100)\"}, {\"RMSE\": 0.22320465038006032, \"Method\": \"Bagging (ntrees=100)\"}, {\"RMSE\": 0.22934644986769756, \"Method\": \"Bagging (ntrees=100)\"}, {\"RMSE\": 0.2389336219732941, \"Method\": \"Bagging (ntrees=100)\"}, {\"RMSE\": 0.22530650571496774, \"Method\": \"Bagging (ntrees=100)\"}, {\"RMSE\": 0.22773164182617983, \"Method\": \"Bagging (ntrees=100)\"}, {\"RMSE\": 0.23555466286648644, \"Method\": \"Bagging (ntrees=100)\"}, {\"RMSE\": 0.23862181555375742, \"Method\": \"Bagging (ntrees=100)\"}, {\"RMSE\": 0.225830868571228, \"Method\": \"Bagging (ntrees=100)\"}, {\"RMSE\": 0.22922402847786705, \"Method\": \"Bagging (ntrees=100)\"}, {\"RMSE\": 0.22861538029217124, \"Method\": \"Bagging (ntrees=100)\"}, {\"RMSE\": 0.2231436581478941, \"Method\": \"Bagging (ntrees=100)\"}, {\"RMSE\": 0.2267132905870359, \"Method\": \"Bagging (ntrees=100)\"}, {\"RMSE\": 0.23506619846623084, \"Method\": \"Bagging (ntrees=100)\"}, {\"RMSE\": 0.22485487582189537, \"Method\": \"Bagging (ntrees=100)\"}, {\"RMSE\": 0.22585613996707807, \"Method\": \"Bagging (ntrees=100)\"}, {\"RMSE\": 0.21921378611146172, \"Method\": \"Bagging (ntrees=100)\"}, {\"RMSE\": 0.22383004935387754, \"Method\": \"Bagging (ntrees=100)\"}, {\"RMSE\": 0.2276356422750192, \"Method\": \"Bagging (ntrees=100)\"}, {\"RMSE\": 0.2308759669935825, \"Method\": \"Bagging (ntrees=100)\"}, {\"RMSE\": 0.22751351732845682, \"Method\": \"Bagging (ntrees=100)\"}, {\"RMSE\": 0.22760029321456596, \"Method\": \"Bagging (ntrees=100)\"}, {\"RMSE\": 0.23434194408922118, \"Method\": \"Bagging (ntrees=100)\"}, {\"RMSE\": 0.2231048800164143, \"Method\": \"Bagging (ntrees=100)\"}, {\"RMSE\": 0.23105390812409635, \"Method\": \"Bagging (ntrees=100)\"}, {\"RMSE\": 0.2328294350309222, \"Method\": \"Bagging (ntrees=100)\"}, {\"RMSE\": 0.23806466312574823, \"Method\": \"Bagging (ntrees=100)\"}, {\"RMSE\": 0.23371197941539437, \"Method\": \"Bagging (ntrees=100)\"}, {\"RMSE\": 0.22392554737401396, \"Method\": \"Bagging (ntrees=100)\"}, {\"RMSE\": 0.2215084327707848, \"Method\": \"Bagging (ntrees=100)\"}, {\"RMSE\": 0.2291950148966845, \"Method\": \"Bagging (ntrees=100)\"}, {\"RMSE\": 0.21902981674644248, \"Method\": \"Bagging (ntrees=100)\"}, {\"RMSE\": 0.23359323707831522, \"Method\": \"Bagging (ntrees=100)\"}, {\"RMSE\": 0.22984231812701983, \"Method\": \"Bagging (ntrees=100)\"}, {\"RMSE\": 0.22258396168210595, \"Method\": \"Bagging (ntrees=100)\"}, {\"RMSE\": 0.22644241751065008, \"Method\": \"Bagging (ntrees=100)\"}, {\"RMSE\": 0.24493732076368588, \"Method\": \"Bagging (ntrees=100)\"}, {\"RMSE\": 0.2262991395982879, \"Method\": \"Bagging (ntrees=100)\"}, {\"RMSE\": 0.2337710745546797, \"Method\": \"Bagging (ntrees=100)\"}, {\"RMSE\": 0.22877179261060265, \"Method\": \"Bagging (ntrees=100)\"}, {\"RMSE\": 0.23024401282303517, \"Method\": \"Bagging (ntrees=100)\"}, {\"RMSE\": 0.22686391201926853, \"Method\": \"Bagging (ntrees=100)\"}, {\"RMSE\": 0.23047406017361485, \"Method\": \"Bagging (ntrees=100)\"}, {\"RMSE\": 0.23959677933446186, \"Method\": \"Bagging (ntrees=100)\"}, {\"RMSE\": 0.23438710159750023, \"Method\": \"Bagging (ntrees=100)\"}, {\"RMSE\": 0.217298561664006, \"Method\": \"Bagging (ntrees=100)\"}, {\"RMSE\": 0.21777469431088675, \"Method\": \"Bagging (ntrees=100)\"}, {\"RMSE\": 0.21753922791546412, \"Method\": \"Bagging (ntrees=25)\"}, {\"RMSE\": 0.23060723385330203, \"Method\": \"Bagging (ntrees=25)\"}, {\"RMSE\": 0.2289651191122277, \"Method\": \"Bagging (ntrees=25)\"}, {\"RMSE\": 0.22239248388892294, \"Method\": \"Bagging (ntrees=25)\"}, {\"RMSE\": 0.22557984386749438, \"Method\": \"Bagging (ntrees=25)\"}, {\"RMSE\": 0.23355014341024874, \"Method\": \"Bagging (ntrees=25)\"}, {\"RMSE\": 0.2402822412706827, \"Method\": \"Bagging (ntrees=25)\"}, {\"RMSE\": 0.22761586358390473, \"Method\": \"Bagging (ntrees=25)\"}, {\"RMSE\": 0.23199924606928424, \"Method\": \"Bagging (ntrees=25)\"}, {\"RMSE\": 0.23754580206694287, \"Method\": \"Bagging (ntrees=25)\"}, {\"RMSE\": 0.24008584957670723, \"Method\": \"Bagging (ntrees=25)\"}, {\"RMSE\": 0.22950901561188408, \"Method\": \"Bagging (ntrees=25)\"}, {\"RMSE\": 0.2298092620282431, \"Method\": \"Bagging (ntrees=25)\"}, {\"RMSE\": 0.2326931205304424, \"Method\": \"Bagging (ntrees=25)\"}, {\"RMSE\": 0.2253845064770565, \"Method\": \"Bagging (ntrees=25)\"}, {\"RMSE\": 0.22717622858252343, \"Method\": \"Bagging (ntrees=25)\"}, {\"RMSE\": 0.23581322199834567, \"Method\": \"Bagging (ntrees=25)\"}, {\"RMSE\": 0.22705787900846194, \"Method\": \"Bagging (ntrees=25)\"}, {\"RMSE\": 0.22905986242133497, \"Method\": \"Bagging (ntrees=25)\"}, {\"RMSE\": 0.2226600913041511, \"Method\": \"Bagging (ntrees=25)\"}, {\"RMSE\": 0.22588346104741305, \"Method\": \"Bagging (ntrees=25)\"}, {\"RMSE\": 0.22804457900834557, \"Method\": \"Bagging (ntrees=25)\"}, {\"RMSE\": 0.23382406736585237, \"Method\": \"Bagging (ntrees=25)\"}, {\"RMSE\": 0.2294893421221403, \"Method\": \"Bagging (ntrees=25)\"}, {\"RMSE\": 0.22777889346708818, \"Method\": \"Bagging (ntrees=25)\"}, {\"RMSE\": 0.23730609873961553, \"Method\": \"Bagging (ntrees=25)\"}, {\"RMSE\": 0.22756685241072305, \"Method\": \"Bagging (ntrees=25)\"}, {\"RMSE\": 0.23259996953058432, \"Method\": \"Bagging (ntrees=25)\"}, {\"RMSE\": 0.23629609916648717, \"Method\": \"Bagging (ntrees=25)\"}, {\"RMSE\": 0.2380948368991959, \"Method\": \"Bagging (ntrees=25)\"}, {\"RMSE\": 0.23487159464995128, \"Method\": \"Bagging (ntrees=25)\"}, {\"RMSE\": 0.22575831000696844, \"Method\": \"Bagging (ntrees=25)\"}, {\"RMSE\": 0.22609688044628387, \"Method\": \"Bagging (ntrees=25)\"}, {\"RMSE\": 0.23015484557611524, \"Method\": \"Bagging (ntrees=25)\"}, {\"RMSE\": 0.21877424323501807, \"Method\": \"Bagging (ntrees=25)\"}, {\"RMSE\": 0.23425765073178986, \"Method\": \"Bagging (ntrees=25)\"}, {\"RMSE\": 0.2310557031875627, \"Method\": \"Bagging (ntrees=25)\"}, {\"RMSE\": 0.22487429918158566, \"Method\": \"Bagging (ntrees=25)\"}, {\"RMSE\": 0.22831785696297127, \"Method\": \"Bagging (ntrees=25)\"}, {\"RMSE\": 0.24482625127177485, \"Method\": \"Bagging (ntrees=25)\"}, {\"RMSE\": 0.22956918096854456, \"Method\": \"Bagging (ntrees=25)\"}, {\"RMSE\": 0.23491228071381018, \"Method\": \"Bagging (ntrees=25)\"}, {\"RMSE\": 0.23029722301203548, \"Method\": \"Bagging (ntrees=25)\"}, {\"RMSE\": 0.23373430077526863, \"Method\": \"Bagging (ntrees=25)\"}, {\"RMSE\": 0.22846699482670735, \"Method\": \"Bagging (ntrees=25)\"}, {\"RMSE\": 0.23265805553063035, \"Method\": \"Bagging (ntrees=25)\"}, {\"RMSE\": 0.23905275666021256, \"Method\": \"Bagging (ntrees=25)\"}, {\"RMSE\": 0.23751460770301155, \"Method\": \"Bagging (ntrees=25)\"}, {\"RMSE\": 0.2158348924806445, \"Method\": \"Bagging (ntrees=25)\"}, {\"RMSE\": 0.21979643528068937, \"Method\": \"Bagging (ntrees=25)\"}]}}, {\"mode\": \"vega-lite\"});\n",
       "</script>"
      ],
      "text/plain": [
       "alt.Chart(...)"
      ]
     },
     "execution_count": 61,
     "metadata": {},
     "output_type": "execute_result"
    }
   ],
   "source": [
    "import altair as alt\n",
    "\n",
    "alt.Chart(results).mark_boxplot().encode(\n",
    "    alt.Y(\"RMSE:Q\"),\n",
    "    x='Method',\n",
    ").properties(width=300)"
   ]
  },
  {
   "cell_type": "markdown",
   "metadata": {},
   "source": [
    "For a moment, let's not worry that the underlying distributions do not look normal. We know how to compare the average of two distributions, the t-test. Let's see what that says:"
   ]
  },
  {
   "cell_type": "code",
   "execution_count": 62,
   "metadata": {},
   "outputs": [
    {
     "data": {
      "text/html": [
       "<div>\n",
       "<style scoped>\n",
       "    .dataframe tbody tr th:only-of-type {\n",
       "        vertical-align: middle;\n",
       "    }\n",
       "\n",
       "    .dataframe tbody tr th {\n",
       "        vertical-align: top;\n",
       "    }\n",
       "\n",
       "    .dataframe thead tr th {\n",
       "        text-align: left;\n",
       "    }\n",
       "</style>\n",
       "<table border=\"1\" class=\"dataframe\">\n",
       "  <thead>\n",
       "    <tr>\n",
       "      <th></th>\n",
       "      <th colspan=\"2\" halign=\"left\">RMSE</th>\n",
       "    </tr>\n",
       "    <tr>\n",
       "      <th>Method</th>\n",
       "      <th>Bagging (ntrees=100)</th>\n",
       "      <th>Bagging (ntrees=25)</th>\n",
       "    </tr>\n",
       "  </thead>\n",
       "  <tbody>\n",
       "    <tr>\n",
       "      <th>0</th>\n",
       "      <td>0.217787</td>\n",
       "      <td>0.217539</td>\n",
       "    </tr>\n",
       "    <tr>\n",
       "      <th>1</th>\n",
       "      <td>0.232209</td>\n",
       "      <td>0.230607</td>\n",
       "    </tr>\n",
       "    <tr>\n",
       "      <th>2</th>\n",
       "      <td>0.228634</td>\n",
       "      <td>0.228965</td>\n",
       "    </tr>\n",
       "    <tr>\n",
       "      <th>3</th>\n",
       "      <td>0.220319</td>\n",
       "      <td>0.222392</td>\n",
       "    </tr>\n",
       "    <tr>\n",
       "      <th>4</th>\n",
       "      <td>0.223205</td>\n",
       "      <td>0.225580</td>\n",
       "    </tr>\n",
       "  </tbody>\n",
       "</table>\n",
       "</div>"
      ],
      "text/plain": [
       "                       RMSE                    \n",
       "Method Bagging (ntrees=100) Bagging (ntrees=25)\n",
       "0                  0.217787            0.217539\n",
       "1                  0.232209            0.230607\n",
       "2                  0.228634            0.228965\n",
       "3                  0.220319            0.222392\n",
       "4                  0.223205            0.225580"
      ]
     },
     "execution_count": 62,
     "metadata": {},
     "output_type": "execute_result"
    }
   ],
   "source": [
    "pivot_results = results.pivot(columns='Method')\n",
    "pivot_results.head()"
   ]
  },
  {
   "cell_type": "code",
   "execution_count": 63,
   "metadata": {},
   "outputs": [
    {
     "data": {
      "text/plain": [
       "MultiIndex([('RMSE', 'Bagging (ntrees=100)'),\n",
       "            ('RMSE',  'Bagging (ntrees=25)')],\n",
       "           names=[None, 'Method'])"
      ]
     },
     "execution_count": 63,
     "metadata": {},
     "output_type": "execute_result"
    }
   ],
   "source": [
    "pivot_results.columns"
   ]
  },
  {
   "cell_type": "code",
   "execution_count": 64,
   "metadata": {},
   "outputs": [
    {
     "name": "stderr",
     "output_type": "stream",
     "text": [
      "/tmp/ipykernel_3724411/954025557.py:2: DeprecationWarning: Please use `ttest_ind` from the `scipy.stats` namespace, the `scipy.stats.stats` namespace is deprecated.\n",
      "  stats.stats.ttest_ind(pivot_results[('RMSE', 'Bagging (ntrees=100)')],pivot_results[('RMSE', 'Bagging (ntrees=25)')],equal_var = True)\n"
     ]
    },
    {
     "data": {
      "text/plain": [
       "Ttest_indResult(statistic=-1.4678094799525085, pvalue=0.14535822079233937)"
      ]
     },
     "execution_count": 64,
     "metadata": {},
     "output_type": "execute_result"
    }
   ],
   "source": [
    "from scipy import stats\n",
    "stats.stats.ttest_ind(pivot_results[('RMSE', 'Bagging (ntrees=100)')],pivot_results[('RMSE', 'Bagging (ntrees=25)')],equal_var = True)"
   ]
  },
  {
   "cell_type": "markdown",
   "metadata": {},
   "source": [
    "So according to this test, we do not see any significant difference between the results."
   ]
  },
  {
   "cell_type": "markdown",
   "metadata": {},
   "source": [
    "**Problem 2.** What if you only used 2 trees? Is there a significant difference between 2 and 25 trees?\n",
    "\n",
    "**Your answer here: https://canvas.calpoly.edu/courses/81417/assignments/545576**"
   ]
  },
  {
   "cell_type": "code",
   "execution_count": 65,
   "metadata": {},
   "outputs": [
    {
     "name": "stderr",
     "output_type": "stream",
     "text": [
      "/tmp/ipykernel_3724411/426162914.py:8: FutureWarning: The frame.append method is deprecated and will be removed from pandas in a future version. Use pandas.concat instead.\n",
      "  results = results.append(results2)\n"
     ]
    }
   ],
   "source": [
    "RMSEs = []\n",
    "for trial in range(ntrials):\n",
    "    X_train, X_test, t_train, t_test = train_test_split(X2, t, test_size=0.25,random_state=trial)\n",
    "    trees = Lab5_helper.make_trees(X_train,t_train,ntrees=2)\n",
    "    y = Lab5_helper.make_prediction(trees,X_test)\n",
    "    RMSEs.append(np.sqrt(((y-t_test)**2).sum()/len(t_test)))\n",
    "results2 = pd.DataFrame({'RMSE':RMSEs,'Method':'Bagging (ntrees=2)'})\n",
    "results = results.append(results2)"
   ]
  },
  {
   "cell_type": "code",
   "execution_count": 66,
   "metadata": {},
   "outputs": [
    {
     "data": {
      "text/plain": [
       "Method\n",
       "Bagging (ntrees=100)    0.228465\n",
       "Bagging (ntrees=2)      0.252451\n",
       "Bagging (ntrees=25)     0.230261\n",
       "Name: RMSE, dtype: float64"
      ]
     },
     "execution_count": 66,
     "metadata": {},
     "output_type": "execute_result"
    }
   ],
   "source": [
    "results.groupby('Method')['RMSE'].mean()"
   ]
  },
  {
   "cell_type": "code",
   "execution_count": 67,
   "metadata": {},
   "outputs": [
    {
     "data": {
      "text/html": [
       "<div>\n",
       "<style scoped>\n",
       "    .dataframe tbody tr th:only-of-type {\n",
       "        vertical-align: middle;\n",
       "    }\n",
       "\n",
       "    .dataframe tbody tr th {\n",
       "        vertical-align: top;\n",
       "    }\n",
       "\n",
       "    .dataframe thead tr th {\n",
       "        text-align: left;\n",
       "    }\n",
       "</style>\n",
       "<table border=\"1\" class=\"dataframe\">\n",
       "  <thead>\n",
       "    <tr>\n",
       "      <th></th>\n",
       "      <th colspan=\"3\" halign=\"left\">RMSE</th>\n",
       "    </tr>\n",
       "    <tr>\n",
       "      <th>Method</th>\n",
       "      <th>Bagging (ntrees=100)</th>\n",
       "      <th>Bagging (ntrees=2)</th>\n",
       "      <th>Bagging (ntrees=25)</th>\n",
       "    </tr>\n",
       "  </thead>\n",
       "  <tbody>\n",
       "    <tr>\n",
       "      <th>0</th>\n",
       "      <td>0.217787</td>\n",
       "      <td>0.247760</td>\n",
       "      <td>0.217539</td>\n",
       "    </tr>\n",
       "    <tr>\n",
       "      <th>1</th>\n",
       "      <td>0.232209</td>\n",
       "      <td>0.255178</td>\n",
       "      <td>0.230607</td>\n",
       "    </tr>\n",
       "    <tr>\n",
       "      <th>2</th>\n",
       "      <td>0.228634</td>\n",
       "      <td>0.247305</td>\n",
       "      <td>0.228965</td>\n",
       "    </tr>\n",
       "    <tr>\n",
       "      <th>3</th>\n",
       "      <td>0.220319</td>\n",
       "      <td>0.248560</td>\n",
       "      <td>0.222392</td>\n",
       "    </tr>\n",
       "    <tr>\n",
       "      <th>4</th>\n",
       "      <td>0.223205</td>\n",
       "      <td>0.238804</td>\n",
       "      <td>0.225580</td>\n",
       "    </tr>\n",
       "  </tbody>\n",
       "</table>\n",
       "</div>"
      ],
      "text/plain": [
       "                       RMSE                                       \n",
       "Method Bagging (ntrees=100) Bagging (ntrees=2) Bagging (ntrees=25)\n",
       "0                  0.217787           0.247760            0.217539\n",
       "1                  0.232209           0.255178            0.230607\n",
       "2                  0.228634           0.247305            0.228965\n",
       "3                  0.220319           0.248560            0.222392\n",
       "4                  0.223205           0.238804            0.225580"
      ]
     },
     "execution_count": 67,
     "metadata": {},
     "output_type": "execute_result"
    }
   ],
   "source": [
    "pivot_results = results.pivot(columns='Method')\n",
    "pivot_results.head()"
   ]
  },
  {
   "cell_type": "code",
   "execution_count": 68,
   "metadata": {},
   "outputs": [
    {
     "name": "stderr",
     "output_type": "stream",
     "text": [
      "/tmp/ipykernel_3724411/2548378023.py:1: DeprecationWarning: Please use `ttest_ind` from the `scipy.stats` namespace, the `scipy.stats.stats` namespace is deprecated.\n",
      "  stats.stats.ttest_ind(pivot_results[('RMSE', 'Bagging (ntrees=100)')],pivot_results[('RMSE', 'Bagging (ntrees=2)')],equal_var = True)\n"
     ]
    },
    {
     "data": {
      "text/plain": [
       "Ttest_indResult(statistic=-17.10360785165843, pvalue=3.5102981433418424e-31)"
      ]
     },
     "execution_count": 68,
     "metadata": {},
     "output_type": "execute_result"
    }
   ],
   "source": [
    "stats.stats.ttest_ind(pivot_results[('RMSE', 'Bagging (ntrees=100)')],pivot_results[('RMSE', 'Bagging (ntrees=2)')],equal_var = True)"
   ]
  },
  {
   "cell_type": "markdown",
   "metadata": {},
   "source": [
    "Finally, we can report a p-value < 0.05! Even if we were to discuss multiple test correction at this time, this would still be a significant result. So bagging is helping us!"
   ]
  },
  {
   "cell_type": "markdown",
   "metadata": {},
   "source": [
    "#### Exercise 2\n",
    "Implement boosting using regression trees as the (weak) individual learner. You should be able to reach a similar accuray to my implementation."
   ]
  },
  {
   "cell_type": "code",
   "execution_count": 69,
   "metadata": {},
   "outputs": [
    {
     "name": "stderr",
     "output_type": "stream",
     "text": [
      "/tmp/ipykernel_3724411/1374651341.py:10: FutureWarning: The frame.append method is deprecated and will be removed from pandas in a future version. Use pandas.concat instead.\n",
      "  results = results.append(results2)\n"
     ]
    }
   ],
   "source": [
    "RMSEs = []\n",
    "for trial in range(ntrials):\n",
    "    X_train, X_test, t_train, t_test = train_test_split(X2, t, test_size=0.25,random_state=trial)\n",
    "    X_train2, X_val, t_train2, t_val = train_test_split(X_train, t_train, test_size=0.25,random_state=trial)\n",
    "    trees,train_RMSEs,val_RMSEs = Lab5_helper.make_trees_boost(X_train2, X_val, t_train2, t_val, max_ntrees=100)\n",
    "    trees = Lab5_helper.cut_trees(trees,val_RMSEs)\n",
    "    y = Lab5_helper.make_prediction_boost(trees,X_test)\n",
    "    RMSEs.append(np.sqrt(((y-t_test)**2).sum()/len(t_test)))\n",
    "results2 = pd.DataFrame({'RMSE':RMSEs,'Method':'Boosting (max_ntrees=100)'})\n",
    "results = results.append(results2)"
   ]
  },
  {
   "cell_type": "code",
   "execution_count": 70,
   "metadata": {},
   "outputs": [
    {
     "data": {
      "text/html": [
       "\n",
       "<div id=\"altair-viz-c701d7e7b4a749ab8764ac42215e2ee7\"></div>\n",
       "<script type=\"text/javascript\">\n",
       "  var VEGA_DEBUG = (typeof VEGA_DEBUG == \"undefined\") ? {} : VEGA_DEBUG;\n",
       "  (function(spec, embedOpt){\n",
       "    let outputDiv = document.currentScript.previousElementSibling;\n",
       "    if (outputDiv.id !== \"altair-viz-c701d7e7b4a749ab8764ac42215e2ee7\") {\n",
       "      outputDiv = document.getElementById(\"altair-viz-c701d7e7b4a749ab8764ac42215e2ee7\");\n",
       "    }\n",
       "    const paths = {\n",
       "      \"vega\": \"https://cdn.jsdelivr.net/npm//vega@5?noext\",\n",
       "      \"vega-lib\": \"https://cdn.jsdelivr.net/npm//vega-lib?noext\",\n",
       "      \"vega-lite\": \"https://cdn.jsdelivr.net/npm//vega-lite@4.17.0?noext\",\n",
       "      \"vega-embed\": \"https://cdn.jsdelivr.net/npm//vega-embed@6?noext\",\n",
       "    };\n",
       "\n",
       "    function maybeLoadScript(lib, version) {\n",
       "      var key = `${lib.replace(\"-\", \"\")}_version`;\n",
       "      return (VEGA_DEBUG[key] == version) ?\n",
       "        Promise.resolve(paths[lib]) :\n",
       "        new Promise(function(resolve, reject) {\n",
       "          var s = document.createElement('script');\n",
       "          document.getElementsByTagName(\"head\")[0].appendChild(s);\n",
       "          s.async = true;\n",
       "          s.onload = () => {\n",
       "            VEGA_DEBUG[key] = version;\n",
       "            return resolve(paths[lib]);\n",
       "          };\n",
       "          s.onerror = () => reject(`Error loading script: ${paths[lib]}`);\n",
       "          s.src = paths[lib];\n",
       "        });\n",
       "    }\n",
       "\n",
       "    function showError(err) {\n",
       "      outputDiv.innerHTML = `<div class=\"error\" style=\"color:red;\">${err}</div>`;\n",
       "      throw err;\n",
       "    }\n",
       "\n",
       "    function displayChart(vegaEmbed) {\n",
       "      vegaEmbed(outputDiv, spec, embedOpt)\n",
       "        .catch(err => showError(`Javascript Error: ${err.message}<br>This usually means there's a typo in your chart specification. See the javascript console for the full traceback.`));\n",
       "    }\n",
       "\n",
       "    if(typeof define === \"function\" && define.amd) {\n",
       "      requirejs.config({paths});\n",
       "      require([\"vega-embed\"], displayChart, err => showError(`Error loading script: ${err.message}`));\n",
       "    } else {\n",
       "      maybeLoadScript(\"vega\", \"5\")\n",
       "        .then(() => maybeLoadScript(\"vega-lite\", \"4.17.0\"))\n",
       "        .then(() => maybeLoadScript(\"vega-embed\", \"6\"))\n",
       "        .catch(showError)\n",
       "        .then(() => displayChart(vegaEmbed));\n",
       "    }\n",
       "  })({\"config\": {\"view\": {\"continuousWidth\": 400, \"continuousHeight\": 300}}, \"data\": {\"name\": \"data-2a9c5c24e71d2569873a8c0688cc648a\"}, \"mark\": \"line\", \"encoding\": {\"color\": {\"field\": \"variable\", \"type\": \"nominal\"}, \"x\": {\"field\": \"ntrees\", \"type\": \"quantitative\"}, \"y\": {\"field\": \"value\", \"scale\": {\"domain\": [0.1, 0.3]}, \"type\": \"quantitative\"}}, \"width\": 500, \"$schema\": \"https://vega.github.io/schema/vega-lite/v4.17.0.json\", \"datasets\": {\"data-2a9c5c24e71d2569873a8c0688cc648a\": [{\"ntrees\": 0, \"variable\": \"train_RMSE\", \"value\": 0.23361175722869007}, {\"ntrees\": 1, \"variable\": \"train_RMSE\", \"value\": 0.22467289521860845}, {\"ntrees\": 2, \"variable\": \"train_RMSE\", \"value\": 0.2203789445442496}, {\"ntrees\": 3, \"variable\": \"train_RMSE\", \"value\": 0.21788041804241934}, {\"ntrees\": 4, \"variable\": \"train_RMSE\", \"value\": 0.21720982515620177}, {\"ntrees\": 5, \"variable\": \"train_RMSE\", \"value\": 0.21552887790550979}, {\"ntrees\": 6, \"variable\": \"train_RMSE\", \"value\": 0.21374371962201774}, {\"ntrees\": 7, \"variable\": \"train_RMSE\", \"value\": 0.21245305316595015}, {\"ntrees\": 8, \"variable\": \"train_RMSE\", \"value\": 0.21053779017866323}, {\"ntrees\": 9, \"variable\": \"train_RMSE\", \"value\": 0.20886199077242953}, {\"ntrees\": 10, \"variable\": \"train_RMSE\", \"value\": 0.20712022394436613}, {\"ntrees\": 11, \"variable\": \"train_RMSE\", \"value\": 0.20672017054224032}, {\"ntrees\": 12, \"variable\": \"train_RMSE\", \"value\": 0.20587828391840005}, {\"ntrees\": 13, \"variable\": \"train_RMSE\", \"value\": 0.20544861132431877}, {\"ntrees\": 14, \"variable\": \"train_RMSE\", \"value\": 0.2048346954228424}, {\"ntrees\": 15, \"variable\": \"train_RMSE\", \"value\": 0.20352053978195564}, {\"ntrees\": 16, \"variable\": \"train_RMSE\", \"value\": 0.20286793439479225}, {\"ntrees\": 17, \"variable\": \"train_RMSE\", \"value\": 0.20129158382258575}, {\"ntrees\": 18, \"variable\": \"train_RMSE\", \"value\": 0.20010736275706562}, {\"ntrees\": 19, \"variable\": \"train_RMSE\", \"value\": 0.19919345006446754}, {\"ntrees\": 20, \"variable\": \"train_RMSE\", \"value\": 0.19895216434417928}, {\"ntrees\": 21, \"variable\": \"train_RMSE\", \"value\": 0.19812804234784298}, {\"ntrees\": 22, \"variable\": \"train_RMSE\", \"value\": 0.19747128125581975}, {\"ntrees\": 23, \"variable\": \"train_RMSE\", \"value\": 0.19657358462326335}, {\"ntrees\": 24, \"variable\": \"train_RMSE\", \"value\": 0.19608302516197298}, {\"ntrees\": 25, \"variable\": \"train_RMSE\", \"value\": 0.19479443357672677}, {\"ntrees\": 26, \"variable\": \"train_RMSE\", \"value\": 0.19237033383852628}, {\"ntrees\": 27, \"variable\": \"train_RMSE\", \"value\": 0.19211474149366173}, {\"ntrees\": 28, \"variable\": \"train_RMSE\", \"value\": 0.19135644632680948}, {\"ntrees\": 29, \"variable\": \"train_RMSE\", \"value\": 0.1908610465351189}, {\"ntrees\": 30, \"variable\": \"train_RMSE\", \"value\": 0.19009192647488787}, {\"ntrees\": 31, \"variable\": \"train_RMSE\", \"value\": 0.189509808766116}, {\"ntrees\": 32, \"variable\": \"train_RMSE\", \"value\": 0.18929168751030157}, {\"ntrees\": 33, \"variable\": \"train_RMSE\", \"value\": 0.1879696515477533}, {\"ntrees\": 34, \"variable\": \"train_RMSE\", \"value\": 0.18684976710761927}, {\"ntrees\": 35, \"variable\": \"train_RMSE\", \"value\": 0.1864641758267184}, {\"ntrees\": 36, \"variable\": \"train_RMSE\", \"value\": 0.1861304322368956}, {\"ntrees\": 37, \"variable\": \"train_RMSE\", \"value\": 0.1847914749004286}, {\"ntrees\": 38, \"variable\": \"train_RMSE\", \"value\": 0.1837024342857772}, {\"ntrees\": 39, \"variable\": \"train_RMSE\", \"value\": 0.18230887948734958}, {\"ntrees\": 40, \"variable\": \"train_RMSE\", \"value\": 0.18216870902587426}, {\"ntrees\": 41, \"variable\": \"train_RMSE\", \"value\": 0.18100083273345663}, {\"ntrees\": 42, \"variable\": \"train_RMSE\", \"value\": 0.18034087924669126}, {\"ntrees\": 43, \"variable\": \"train_RMSE\", \"value\": 0.17989825205381435}, {\"ntrees\": 44, \"variable\": \"train_RMSE\", \"value\": 0.17966146428166282}, {\"ntrees\": 45, \"variable\": \"train_RMSE\", \"value\": 0.179398066093959}, {\"ntrees\": 46, \"variable\": \"train_RMSE\", \"value\": 0.179298761908683}, {\"ntrees\": 47, \"variable\": \"train_RMSE\", \"value\": 0.17870837679998047}, {\"ntrees\": 48, \"variable\": \"train_RMSE\", \"value\": 0.17812223768851845}, {\"ntrees\": 49, \"variable\": \"train_RMSE\", \"value\": 0.17702048072435167}, {\"ntrees\": 50, \"variable\": \"train_RMSE\", \"value\": 0.17601885837972062}, {\"ntrees\": 51, \"variable\": \"train_RMSE\", \"value\": 0.17523783097344936}, {\"ntrees\": 52, \"variable\": \"train_RMSE\", \"value\": 0.17473332094408514}, {\"ntrees\": 53, \"variable\": \"train_RMSE\", \"value\": 0.1742728350691829}, {\"ntrees\": 54, \"variable\": \"train_RMSE\", \"value\": 0.17292044227568926}, {\"ntrees\": 55, \"variable\": \"train_RMSE\", \"value\": 0.17245778297558545}, {\"ntrees\": 56, \"variable\": \"train_RMSE\", \"value\": 0.17165797207469224}, {\"ntrees\": 57, \"variable\": \"train_RMSE\", \"value\": 0.171000519281327}, {\"ntrees\": 58, \"variable\": \"train_RMSE\", \"value\": 0.16989451284822463}, {\"ntrees\": 59, \"variable\": \"train_RMSE\", \"value\": 0.16856926218057444}, {\"ntrees\": 60, \"variable\": \"train_RMSE\", \"value\": 0.16796761970488058}, {\"ntrees\": 61, \"variable\": \"train_RMSE\", \"value\": 0.16727120932971953}, {\"ntrees\": 62, \"variable\": \"train_RMSE\", \"value\": 0.16666698798131688}, {\"ntrees\": 63, \"variable\": \"train_RMSE\", \"value\": 0.1662878362587993}, {\"ntrees\": 64, \"variable\": \"train_RMSE\", \"value\": 0.16621466332854445}, {\"ntrees\": 65, \"variable\": \"train_RMSE\", \"value\": 0.16557402843202912}, {\"ntrees\": 66, \"variable\": \"train_RMSE\", \"value\": 0.16526236431318495}, {\"ntrees\": 67, \"variable\": \"train_RMSE\", \"value\": 0.16483457027848888}, {\"ntrees\": 68, \"variable\": \"train_RMSE\", \"value\": 0.16427119399268886}, {\"ntrees\": 69, \"variable\": \"train_RMSE\", \"value\": 0.1631623416719142}, {\"ntrees\": 70, \"variable\": \"train_RMSE\", \"value\": 0.16214946038369626}, {\"ntrees\": 71, \"variable\": \"train_RMSE\", \"value\": 0.1617093350028622}, {\"ntrees\": 72, \"variable\": \"train_RMSE\", \"value\": 0.16074984720594165}, {\"ntrees\": 73, \"variable\": \"train_RMSE\", \"value\": 0.15965871343771185}, {\"ntrees\": 74, \"variable\": \"train_RMSE\", \"value\": 0.1593336643699821}, {\"ntrees\": 75, \"variable\": \"train_RMSE\", \"value\": 0.1589914985757942}, {\"ntrees\": 76, \"variable\": \"train_RMSE\", \"value\": 0.1584769575483242}, {\"ntrees\": 77, \"variable\": \"train_RMSE\", \"value\": 0.1576605288931892}, {\"ntrees\": 78, \"variable\": \"train_RMSE\", \"value\": 0.15731155485432397}, {\"ntrees\": 79, \"variable\": \"train_RMSE\", \"value\": 0.15685232065003663}, {\"ntrees\": 80, \"variable\": \"train_RMSE\", \"value\": 0.15605587399651485}, {\"ntrees\": 81, \"variable\": \"train_RMSE\", \"value\": 0.15536463002820713}, {\"ntrees\": 82, \"variable\": \"train_RMSE\", \"value\": 0.15474880384241804}, {\"ntrees\": 83, \"variable\": \"train_RMSE\", \"value\": 0.15402226931761473}, {\"ntrees\": 84, \"variable\": \"train_RMSE\", \"value\": 0.15378880091131855}, {\"ntrees\": 85, \"variable\": \"train_RMSE\", \"value\": 0.15354762077760617}, {\"ntrees\": 86, \"variable\": \"train_RMSE\", \"value\": 0.15317516361953615}, {\"ntrees\": 87, \"variable\": \"train_RMSE\", \"value\": 0.15214261168313137}, {\"ntrees\": 88, \"variable\": \"train_RMSE\", \"value\": 0.15156687802946375}, {\"ntrees\": 89, \"variable\": \"train_RMSE\", \"value\": 0.15090136356415765}, {\"ntrees\": 90, \"variable\": \"train_RMSE\", \"value\": 0.14967295825633922}, {\"ntrees\": 91, \"variable\": \"train_RMSE\", \"value\": 0.149131769181507}, {\"ntrees\": 92, \"variable\": \"train_RMSE\", \"value\": 0.14840983923501935}, {\"ntrees\": 93, \"variable\": \"train_RMSE\", \"value\": 0.14809275121960633}, {\"ntrees\": 94, \"variable\": \"train_RMSE\", \"value\": 0.1472372584610971}, {\"ntrees\": 95, \"variable\": \"train_RMSE\", \"value\": 0.1469008197571982}, {\"ntrees\": 96, \"variable\": \"train_RMSE\", \"value\": 0.14616117508948584}, {\"ntrees\": 97, \"variable\": \"train_RMSE\", \"value\": 0.14565462636548612}, {\"ntrees\": 98, \"variable\": \"train_RMSE\", \"value\": 0.14496693208159378}, {\"ntrees\": 99, \"variable\": \"train_RMSE\", \"value\": 0.14425728705470325}, {\"ntrees\": 0, \"variable\": \"val_RMSE\", \"value\": 0.23973819660998597}, {\"ntrees\": 1, \"variable\": \"val_RMSE\", \"value\": 0.23046953632996314}, {\"ntrees\": 2, \"variable\": \"val_RMSE\", \"value\": 0.22892013770888642}, {\"ntrees\": 3, \"variable\": \"val_RMSE\", \"value\": 0.22722958455611408}, {\"ntrees\": 4, \"variable\": \"val_RMSE\", \"value\": 0.22860744582240541}, {\"ntrees\": 5, \"variable\": \"val_RMSE\", \"value\": 0.22840946775884619}, {\"ntrees\": 6, \"variable\": \"val_RMSE\", \"value\": 0.22895916877507488}, {\"ntrees\": 7, \"variable\": \"val_RMSE\", \"value\": 0.22818095109781375}, {\"ntrees\": 8, \"variable\": \"val_RMSE\", \"value\": 0.23023885317593426}, {\"ntrees\": 9, \"variable\": \"val_RMSE\", \"value\": 0.23190282300981335}, {\"ntrees\": 10, \"variable\": \"val_RMSE\", \"value\": 0.23482275939072553}, {\"ntrees\": 11, \"variable\": \"val_RMSE\", \"value\": 0.23528008604540296}, {\"ntrees\": 12, \"variable\": \"val_RMSE\", \"value\": 0.2356016733642785}, {\"ntrees\": 13, \"variable\": \"val_RMSE\", \"value\": 0.23506278755259852}, {\"ntrees\": 14, \"variable\": \"val_RMSE\", \"value\": 0.23394783376893946}, {\"ntrees\": 15, \"variable\": \"val_RMSE\", \"value\": 0.23398924374435132}, {\"ntrees\": 16, \"variable\": \"val_RMSE\", \"value\": 0.23590235419045927}, {\"ntrees\": 17, \"variable\": \"val_RMSE\", \"value\": 0.23593002645183903}, {\"ntrees\": 18, \"variable\": \"val_RMSE\", \"value\": 0.23478184207109173}, {\"ntrees\": 19, \"variable\": \"val_RMSE\", \"value\": 0.23385598420764148}, {\"ntrees\": 20, \"variable\": \"val_RMSE\", \"value\": 0.23358012677957987}, {\"ntrees\": 21, \"variable\": \"val_RMSE\", \"value\": 0.2332437762826006}, {\"ntrees\": 22, \"variable\": \"val_RMSE\", \"value\": 0.23318000375159018}, {\"ntrees\": 23, \"variable\": \"val_RMSE\", \"value\": 0.23294667114269707}, {\"ntrees\": 24, \"variable\": \"val_RMSE\", \"value\": 0.23320332338749117}, {\"ntrees\": 25, \"variable\": \"val_RMSE\", \"value\": 0.23604371781112846}, {\"ntrees\": 26, \"variable\": \"val_RMSE\", \"value\": 0.23870211735199878}, {\"ntrees\": 27, \"variable\": \"val_RMSE\", \"value\": 0.23877057550684877}, {\"ntrees\": 28, \"variable\": \"val_RMSE\", \"value\": 0.24062122167104047}, {\"ntrees\": 29, \"variable\": \"val_RMSE\", \"value\": 0.2423589886925264}, {\"ntrees\": 30, \"variable\": \"val_RMSE\", \"value\": 0.24252085107334068}, {\"ntrees\": 31, \"variable\": \"val_RMSE\", \"value\": 0.2429388922461712}, {\"ntrees\": 32, \"variable\": \"val_RMSE\", \"value\": 0.24338824535899165}, {\"ntrees\": 33, \"variable\": \"val_RMSE\", \"value\": 0.24364312268939997}, {\"ntrees\": 34, \"variable\": \"val_RMSE\", \"value\": 0.2432541383339274}, {\"ntrees\": 35, \"variable\": \"val_RMSE\", \"value\": 0.2447834637315164}, {\"ntrees\": 36, \"variable\": \"val_RMSE\", \"value\": 0.2445308852134705}, {\"ntrees\": 37, \"variable\": \"val_RMSE\", \"value\": 0.24469032118146608}, {\"ntrees\": 38, \"variable\": \"val_RMSE\", \"value\": 0.24473038532618432}, {\"ntrees\": 39, \"variable\": \"val_RMSE\", \"value\": 0.2435948696657567}, {\"ntrees\": 40, \"variable\": \"val_RMSE\", \"value\": 0.2440825876810649}, {\"ntrees\": 41, \"variable\": \"val_RMSE\", \"value\": 0.24345892143439626}, {\"ntrees\": 42, \"variable\": \"val_RMSE\", \"value\": 0.24381924661835455}, {\"ntrees\": 43, \"variable\": \"val_RMSE\", \"value\": 0.2436629659013623}, {\"ntrees\": 44, \"variable\": \"val_RMSE\", \"value\": 0.24350526977873302}, {\"ntrees\": 45, \"variable\": \"val_RMSE\", \"value\": 0.24350186837685892}, {\"ntrees\": 46, \"variable\": \"val_RMSE\", \"value\": 0.24350216888529835}, {\"ntrees\": 47, \"variable\": \"val_RMSE\", \"value\": 0.2442330375573449}, {\"ntrees\": 48, \"variable\": \"val_RMSE\", \"value\": 0.24393226042971072}, {\"ntrees\": 49, \"variable\": \"val_RMSE\", \"value\": 0.24413791115399852}, {\"ntrees\": 50, \"variable\": \"val_RMSE\", \"value\": 0.24515332113777177}, {\"ntrees\": 51, \"variable\": \"val_RMSE\", \"value\": 0.24419762180275256}, {\"ntrees\": 52, \"variable\": \"val_RMSE\", \"value\": 0.24455734304054344}, {\"ntrees\": 53, \"variable\": \"val_RMSE\", \"value\": 0.245911453230399}, {\"ntrees\": 54, \"variable\": \"val_RMSE\", \"value\": 0.24749705159427404}, {\"ntrees\": 55, \"variable\": \"val_RMSE\", \"value\": 0.24795955263809108}, {\"ntrees\": 56, \"variable\": \"val_RMSE\", \"value\": 0.2501998210621391}, {\"ntrees\": 57, \"variable\": \"val_RMSE\", \"value\": 0.25025346444519325}, {\"ntrees\": 58, \"variable\": \"val_RMSE\", \"value\": 0.25037901292737924}, {\"ntrees\": 59, \"variable\": \"val_RMSE\", \"value\": 0.2494187658020986}, {\"ntrees\": 60, \"variable\": \"val_RMSE\", \"value\": 0.2491254057816074}, {\"ntrees\": 61, \"variable\": \"val_RMSE\", \"value\": 0.25028729761719876}, {\"ntrees\": 62, \"variable\": \"val_RMSE\", \"value\": 0.2510874073999459}, {\"ntrees\": 63, \"variable\": \"val_RMSE\", \"value\": 0.25263097822673847}, {\"ntrees\": 64, \"variable\": \"val_RMSE\", \"value\": 0.25236669803557077}, {\"ntrees\": 65, \"variable\": \"val_RMSE\", \"value\": 0.25201252685523057}, {\"ntrees\": 66, \"variable\": \"val_RMSE\", \"value\": 0.25192535415774614}, {\"ntrees\": 67, \"variable\": \"val_RMSE\", \"value\": 0.25226229013044327}, {\"ntrees\": 68, \"variable\": \"val_RMSE\", \"value\": 0.2533025481635391}, {\"ntrees\": 69, \"variable\": \"val_RMSE\", \"value\": 0.25126625977013206}, {\"ntrees\": 70, \"variable\": \"val_RMSE\", \"value\": 0.2521989220261704}, {\"ntrees\": 71, \"variable\": \"val_RMSE\", \"value\": 0.2521309207022636}, {\"ntrees\": 72, \"variable\": \"val_RMSE\", \"value\": 0.25492726096454416}, {\"ntrees\": 73, \"variable\": \"val_RMSE\", \"value\": 0.2562678476536983}, {\"ntrees\": 74, \"variable\": \"val_RMSE\", \"value\": 0.2562692549729885}, {\"ntrees\": 75, \"variable\": \"val_RMSE\", \"value\": 0.2569073484212061}, {\"ntrees\": 76, \"variable\": \"val_RMSE\", \"value\": 0.2575922329076769}, {\"ntrees\": 77, \"variable\": \"val_RMSE\", \"value\": 0.2570270162581464}, {\"ntrees\": 78, \"variable\": \"val_RMSE\", \"value\": 0.258029610991704}, {\"ntrees\": 79, \"variable\": \"val_RMSE\", \"value\": 0.25681080001902895}, {\"ntrees\": 80, \"variable\": \"val_RMSE\", \"value\": 0.2586629995965122}, {\"ntrees\": 81, \"variable\": \"val_RMSE\", \"value\": 0.2593987283910193}, {\"ntrees\": 82, \"variable\": \"val_RMSE\", \"value\": 0.2600175276952536}, {\"ntrees\": 83, \"variable\": \"val_RMSE\", \"value\": 0.2597323665470617}, {\"ntrees\": 84, \"variable\": \"val_RMSE\", \"value\": 0.260034608636653}, {\"ntrees\": 85, \"variable\": \"val_RMSE\", \"value\": 0.2600234054957392}, {\"ntrees\": 86, \"variable\": \"val_RMSE\", \"value\": 0.2603463481799646}, {\"ntrees\": 87, \"variable\": \"val_RMSE\", \"value\": 0.26039787831288186}, {\"ntrees\": 88, \"variable\": \"val_RMSE\", \"value\": 0.26056393608340017}, {\"ntrees\": 89, \"variable\": \"val_RMSE\", \"value\": 0.2605502449133512}, {\"ntrees\": 90, \"variable\": \"val_RMSE\", \"value\": 0.2643049340941438}, {\"ntrees\": 91, \"variable\": \"val_RMSE\", \"value\": 0.26430872971613373}, {\"ntrees\": 92, \"variable\": \"val_RMSE\", \"value\": 0.26448417185457823}, {\"ntrees\": 93, \"variable\": \"val_RMSE\", \"value\": 0.26516112296170796}, {\"ntrees\": 94, \"variable\": \"val_RMSE\", \"value\": 0.26472867994831445}, {\"ntrees\": 95, \"variable\": \"val_RMSE\", \"value\": 0.26435158144757925}, {\"ntrees\": 96, \"variable\": \"val_RMSE\", \"value\": 0.26445544518050845}, {\"ntrees\": 97, \"variable\": \"val_RMSE\", \"value\": 0.2647301199254928}, {\"ntrees\": 98, \"variable\": \"val_RMSE\", \"value\": 0.2642696723721989}, {\"ntrees\": 99, \"variable\": \"val_RMSE\", \"value\": 0.2647223515136993}]}}, {\"mode\": \"vega-lite\"});\n",
       "</script>"
      ],
      "text/plain": [
       "alt.Chart(...)"
      ]
     },
     "execution_count": 70,
     "metadata": {},
     "output_type": "execute_result"
    }
   ],
   "source": [
    "source = pd.DataFrame({\"train_RMSE\":train_RMSEs,\"val_RMSE\":val_RMSEs, \"ntrees\":np.arange(len(val_RMSEs))}).melt(id_vars=['ntrees'])\n",
    "\n",
    "alt.Chart(source).mark_line().encode(\n",
    "    y = alt.Y(\"value:Q\", scale=alt.Scale(domain=[0.1, 0.3])),\n",
    "    x = 'ntrees',\n",
    "    color='variable'\n",
    ").properties(width=500)"
   ]
  },
  {
   "cell_type": "code",
   "execution_count": 71,
   "metadata": {},
   "outputs": [
    {
     "data": {
      "text/plain": [
       "Method\n",
       "Boosting (max_ntrees=100)    0.226319\n",
       "Bagging (ntrees=100)         0.228174\n",
       "Bagging (ntrees=25)          0.229689\n",
       "Bagging (ntrees=2)           0.251441\n",
       "Name: RMSE, dtype: float64"
      ]
     },
     "execution_count": 71,
     "metadata": {},
     "output_type": "execute_result"
    }
   ],
   "source": [
    "results.groupby('Method')['RMSE'].median().sort_values()"
   ]
  },
  {
   "cell_type": "code",
   "execution_count": 72,
   "metadata": {},
   "outputs": [
    {
     "data": {
      "text/plain": [
       "Method\n",
       "Boosting (max_ntrees=100)    0.227613\n",
       "Bagging (ntrees=100)         0.228465\n",
       "Bagging (ntrees=25)          0.230261\n",
       "Bagging (ntrees=2)           0.252451\n",
       "Name: RMSE, dtype: float64"
      ]
     },
     "execution_count": 72,
     "metadata": {},
     "output_type": "execute_result"
    }
   ],
   "source": [
    "results.groupby('Method')['RMSE'].mean().sort_values()"
   ]
  },
  {
   "cell_type": "code",
   "execution_count": 73,
   "metadata": {},
   "outputs": [
    {
     "data": {
      "text/plain": [
       "0.22761342508021085"
      ]
     },
     "execution_count": 73,
     "metadata": {},
     "output_type": "execute_result"
    }
   ],
   "source": [
    "np.mean(RMSEs)"
   ]
  },
  {
   "cell_type": "code",
   "execution_count": 74,
   "metadata": {},
   "outputs": [
    {
     "data": {
      "text/html": [
       "\n",
       "<div id=\"altair-viz-325e62ff623d4388a15bab626b9e58f3\"></div>\n",
       "<script type=\"text/javascript\">\n",
       "  var VEGA_DEBUG = (typeof VEGA_DEBUG == \"undefined\") ? {} : VEGA_DEBUG;\n",
       "  (function(spec, embedOpt){\n",
       "    let outputDiv = document.currentScript.previousElementSibling;\n",
       "    if (outputDiv.id !== \"altair-viz-325e62ff623d4388a15bab626b9e58f3\") {\n",
       "      outputDiv = document.getElementById(\"altair-viz-325e62ff623d4388a15bab626b9e58f3\");\n",
       "    }\n",
       "    const paths = {\n",
       "      \"vega\": \"https://cdn.jsdelivr.net/npm//vega@5?noext\",\n",
       "      \"vega-lib\": \"https://cdn.jsdelivr.net/npm//vega-lib?noext\",\n",
       "      \"vega-lite\": \"https://cdn.jsdelivr.net/npm//vega-lite@4.17.0?noext\",\n",
       "      \"vega-embed\": \"https://cdn.jsdelivr.net/npm//vega-embed@6?noext\",\n",
       "    };\n",
       "\n",
       "    function maybeLoadScript(lib, version) {\n",
       "      var key = `${lib.replace(\"-\", \"\")}_version`;\n",
       "      return (VEGA_DEBUG[key] == version) ?\n",
       "        Promise.resolve(paths[lib]) :\n",
       "        new Promise(function(resolve, reject) {\n",
       "          var s = document.createElement('script');\n",
       "          document.getElementsByTagName(\"head\")[0].appendChild(s);\n",
       "          s.async = true;\n",
       "          s.onload = () => {\n",
       "            VEGA_DEBUG[key] = version;\n",
       "            return resolve(paths[lib]);\n",
       "          };\n",
       "          s.onerror = () => reject(`Error loading script: ${paths[lib]}`);\n",
       "          s.src = paths[lib];\n",
       "        });\n",
       "    }\n",
       "\n",
       "    function showError(err) {\n",
       "      outputDiv.innerHTML = `<div class=\"error\" style=\"color:red;\">${err}</div>`;\n",
       "      throw err;\n",
       "    }\n",
       "\n",
       "    function displayChart(vegaEmbed) {\n",
       "      vegaEmbed(outputDiv, spec, embedOpt)\n",
       "        .catch(err => showError(`Javascript Error: ${err.message}<br>This usually means there's a typo in your chart specification. See the javascript console for the full traceback.`));\n",
       "    }\n",
       "\n",
       "    if(typeof define === \"function\" && define.amd) {\n",
       "      requirejs.config({paths});\n",
       "      require([\"vega-embed\"], displayChart, err => showError(`Error loading script: ${err.message}`));\n",
       "    } else {\n",
       "      maybeLoadScript(\"vega\", \"5\")\n",
       "        .then(() => maybeLoadScript(\"vega-lite\", \"4.17.0\"))\n",
       "        .then(() => maybeLoadScript(\"vega-embed\", \"6\"))\n",
       "        .catch(showError)\n",
       "        .then(() => displayChart(vegaEmbed));\n",
       "    }\n",
       "  })({\"config\": {\"view\": {\"continuousWidth\": 400, \"continuousHeight\": 300}}, \"data\": {\"name\": \"data-8f4a4f4472b6d3879ac60f26ec8d5468\"}, \"mark\": \"boxplot\", \"encoding\": {\"x\": {\"field\": \"Method\", \"type\": \"nominal\"}, \"y\": {\"field\": \"RMSE\", \"scale\": {\"domain\": [0.2, 0.3]}, \"type\": \"quantitative\"}}, \"width\": 300, \"$schema\": \"https://vega.github.io/schema/vega-lite/v4.17.0.json\", \"datasets\": {\"data-8f4a4f4472b6d3879ac60f26ec8d5468\": [{\"RMSE\": 0.21778663327152117, \"Method\": \"Bagging (ntrees=100)\"}, {\"RMSE\": 0.23220886019610124, \"Method\": \"Bagging (ntrees=100)\"}, {\"RMSE\": 0.22863393526657252, \"Method\": \"Bagging (ntrees=100)\"}, {\"RMSE\": 0.22031864350103067, \"Method\": \"Bagging (ntrees=100)\"}, {\"RMSE\": 0.22320465038006032, \"Method\": \"Bagging (ntrees=100)\"}, {\"RMSE\": 0.22934644986769756, \"Method\": \"Bagging (ntrees=100)\"}, {\"RMSE\": 0.2389336219732941, \"Method\": \"Bagging (ntrees=100)\"}, {\"RMSE\": 0.22530650571496774, \"Method\": \"Bagging (ntrees=100)\"}, {\"RMSE\": 0.22773164182617983, \"Method\": \"Bagging (ntrees=100)\"}, {\"RMSE\": 0.23555466286648644, \"Method\": \"Bagging (ntrees=100)\"}, {\"RMSE\": 0.23862181555375742, \"Method\": \"Bagging (ntrees=100)\"}, {\"RMSE\": 0.225830868571228, \"Method\": \"Bagging (ntrees=100)\"}, {\"RMSE\": 0.22922402847786705, \"Method\": \"Bagging (ntrees=100)\"}, {\"RMSE\": 0.22861538029217124, \"Method\": \"Bagging (ntrees=100)\"}, {\"RMSE\": 0.2231436581478941, \"Method\": \"Bagging (ntrees=100)\"}, {\"RMSE\": 0.2267132905870359, \"Method\": \"Bagging (ntrees=100)\"}, {\"RMSE\": 0.23506619846623084, \"Method\": \"Bagging (ntrees=100)\"}, {\"RMSE\": 0.22485487582189537, \"Method\": \"Bagging (ntrees=100)\"}, {\"RMSE\": 0.22585613996707807, \"Method\": \"Bagging (ntrees=100)\"}, {\"RMSE\": 0.21921378611146172, \"Method\": \"Bagging (ntrees=100)\"}, {\"RMSE\": 0.22383004935387754, \"Method\": \"Bagging (ntrees=100)\"}, {\"RMSE\": 0.2276356422750192, \"Method\": \"Bagging (ntrees=100)\"}, {\"RMSE\": 0.2308759669935825, \"Method\": \"Bagging (ntrees=100)\"}, {\"RMSE\": 0.22751351732845682, \"Method\": \"Bagging (ntrees=100)\"}, {\"RMSE\": 0.22760029321456596, \"Method\": \"Bagging (ntrees=100)\"}, {\"RMSE\": 0.23434194408922118, \"Method\": \"Bagging (ntrees=100)\"}, {\"RMSE\": 0.2231048800164143, \"Method\": \"Bagging (ntrees=100)\"}, {\"RMSE\": 0.23105390812409635, \"Method\": \"Bagging (ntrees=100)\"}, {\"RMSE\": 0.2328294350309222, \"Method\": \"Bagging (ntrees=100)\"}, {\"RMSE\": 0.23806466312574823, \"Method\": \"Bagging (ntrees=100)\"}, {\"RMSE\": 0.23371197941539437, \"Method\": \"Bagging (ntrees=100)\"}, {\"RMSE\": 0.22392554737401396, \"Method\": \"Bagging (ntrees=100)\"}, {\"RMSE\": 0.2215084327707848, \"Method\": \"Bagging (ntrees=100)\"}, {\"RMSE\": 0.2291950148966845, \"Method\": \"Bagging (ntrees=100)\"}, {\"RMSE\": 0.21902981674644248, \"Method\": \"Bagging (ntrees=100)\"}, {\"RMSE\": 0.23359323707831522, \"Method\": \"Bagging (ntrees=100)\"}, {\"RMSE\": 0.22984231812701983, \"Method\": \"Bagging (ntrees=100)\"}, {\"RMSE\": 0.22258396168210595, \"Method\": \"Bagging (ntrees=100)\"}, {\"RMSE\": 0.22644241751065008, \"Method\": \"Bagging (ntrees=100)\"}, {\"RMSE\": 0.24493732076368588, \"Method\": \"Bagging (ntrees=100)\"}, {\"RMSE\": 0.2262991395982879, \"Method\": \"Bagging (ntrees=100)\"}, {\"RMSE\": 0.2337710745546797, \"Method\": \"Bagging (ntrees=100)\"}, {\"RMSE\": 0.22877179261060265, \"Method\": \"Bagging (ntrees=100)\"}, {\"RMSE\": 0.23024401282303517, \"Method\": \"Bagging (ntrees=100)\"}, {\"RMSE\": 0.22686391201926853, \"Method\": \"Bagging (ntrees=100)\"}, {\"RMSE\": 0.23047406017361485, \"Method\": \"Bagging (ntrees=100)\"}, {\"RMSE\": 0.23959677933446186, \"Method\": \"Bagging (ntrees=100)\"}, {\"RMSE\": 0.23438710159750023, \"Method\": \"Bagging (ntrees=100)\"}, {\"RMSE\": 0.217298561664006, \"Method\": \"Bagging (ntrees=100)\"}, {\"RMSE\": 0.21777469431088675, \"Method\": \"Bagging (ntrees=100)\"}, {\"RMSE\": 0.21753922791546412, \"Method\": \"Bagging (ntrees=25)\"}, {\"RMSE\": 0.23060723385330203, \"Method\": \"Bagging (ntrees=25)\"}, {\"RMSE\": 0.2289651191122277, \"Method\": \"Bagging (ntrees=25)\"}, {\"RMSE\": 0.22239248388892294, \"Method\": \"Bagging (ntrees=25)\"}, {\"RMSE\": 0.22557984386749438, \"Method\": \"Bagging (ntrees=25)\"}, {\"RMSE\": 0.23355014341024874, \"Method\": \"Bagging (ntrees=25)\"}, {\"RMSE\": 0.2402822412706827, \"Method\": \"Bagging (ntrees=25)\"}, {\"RMSE\": 0.22761586358390473, \"Method\": \"Bagging (ntrees=25)\"}, {\"RMSE\": 0.23199924606928424, \"Method\": \"Bagging (ntrees=25)\"}, {\"RMSE\": 0.23754580206694287, \"Method\": \"Bagging (ntrees=25)\"}, {\"RMSE\": 0.24008584957670723, \"Method\": \"Bagging (ntrees=25)\"}, {\"RMSE\": 0.22950901561188408, \"Method\": \"Bagging (ntrees=25)\"}, {\"RMSE\": 0.2298092620282431, \"Method\": \"Bagging (ntrees=25)\"}, {\"RMSE\": 0.2326931205304424, \"Method\": \"Bagging (ntrees=25)\"}, {\"RMSE\": 0.2253845064770565, \"Method\": \"Bagging (ntrees=25)\"}, {\"RMSE\": 0.22717622858252343, \"Method\": \"Bagging (ntrees=25)\"}, {\"RMSE\": 0.23581322199834567, \"Method\": \"Bagging (ntrees=25)\"}, {\"RMSE\": 0.22705787900846194, \"Method\": \"Bagging (ntrees=25)\"}, {\"RMSE\": 0.22905986242133497, \"Method\": \"Bagging (ntrees=25)\"}, {\"RMSE\": 0.2226600913041511, \"Method\": \"Bagging (ntrees=25)\"}, {\"RMSE\": 0.22588346104741305, \"Method\": \"Bagging (ntrees=25)\"}, {\"RMSE\": 0.22804457900834557, \"Method\": \"Bagging (ntrees=25)\"}, {\"RMSE\": 0.23382406736585237, \"Method\": \"Bagging (ntrees=25)\"}, {\"RMSE\": 0.2294893421221403, \"Method\": \"Bagging (ntrees=25)\"}, {\"RMSE\": 0.22777889346708818, \"Method\": \"Bagging (ntrees=25)\"}, {\"RMSE\": 0.23730609873961553, \"Method\": \"Bagging (ntrees=25)\"}, {\"RMSE\": 0.22756685241072305, \"Method\": \"Bagging (ntrees=25)\"}, {\"RMSE\": 0.23259996953058432, \"Method\": \"Bagging (ntrees=25)\"}, {\"RMSE\": 0.23629609916648717, \"Method\": \"Bagging (ntrees=25)\"}, {\"RMSE\": 0.2380948368991959, \"Method\": \"Bagging (ntrees=25)\"}, {\"RMSE\": 0.23487159464995128, \"Method\": \"Bagging (ntrees=25)\"}, {\"RMSE\": 0.22575831000696844, \"Method\": \"Bagging (ntrees=25)\"}, {\"RMSE\": 0.22609688044628387, \"Method\": \"Bagging (ntrees=25)\"}, {\"RMSE\": 0.23015484557611524, \"Method\": \"Bagging (ntrees=25)\"}, {\"RMSE\": 0.21877424323501807, \"Method\": \"Bagging (ntrees=25)\"}, {\"RMSE\": 0.23425765073178986, \"Method\": \"Bagging (ntrees=25)\"}, {\"RMSE\": 0.2310557031875627, \"Method\": \"Bagging (ntrees=25)\"}, {\"RMSE\": 0.22487429918158566, \"Method\": \"Bagging (ntrees=25)\"}, {\"RMSE\": 0.22831785696297127, \"Method\": \"Bagging (ntrees=25)\"}, {\"RMSE\": 0.24482625127177485, \"Method\": \"Bagging (ntrees=25)\"}, {\"RMSE\": 0.22956918096854456, \"Method\": \"Bagging (ntrees=25)\"}, {\"RMSE\": 0.23491228071381018, \"Method\": \"Bagging (ntrees=25)\"}, {\"RMSE\": 0.23029722301203548, \"Method\": \"Bagging (ntrees=25)\"}, {\"RMSE\": 0.23373430077526863, \"Method\": \"Bagging (ntrees=25)\"}, {\"RMSE\": 0.22846699482670735, \"Method\": \"Bagging (ntrees=25)\"}, {\"RMSE\": 0.23265805553063035, \"Method\": \"Bagging (ntrees=25)\"}, {\"RMSE\": 0.23905275666021256, \"Method\": \"Bagging (ntrees=25)\"}, {\"RMSE\": 0.23751460770301155, \"Method\": \"Bagging (ntrees=25)\"}, {\"RMSE\": 0.2158348924806445, \"Method\": \"Bagging (ntrees=25)\"}, {\"RMSE\": 0.21979643528068937, \"Method\": \"Bagging (ntrees=25)\"}, {\"RMSE\": 0.24776000942622753, \"Method\": \"Bagging (ntrees=2)\"}, {\"RMSE\": 0.25517758736125534, \"Method\": \"Bagging (ntrees=2)\"}, {\"RMSE\": 0.24730543035345415, \"Method\": \"Bagging (ntrees=2)\"}, {\"RMSE\": 0.2485597326461566, \"Method\": \"Bagging (ntrees=2)\"}, {\"RMSE\": 0.23880415753128975, \"Method\": \"Bagging (ntrees=2)\"}, {\"RMSE\": 0.2565989452702322, \"Method\": \"Bagging (ntrees=2)\"}, {\"RMSE\": 0.2630938849112039, \"Method\": \"Bagging (ntrees=2)\"}, {\"RMSE\": 0.25019762180956895, \"Method\": \"Bagging (ntrees=2)\"}, {\"RMSE\": 0.2510968814311339, \"Method\": \"Bagging (ntrees=2)\"}, {\"RMSE\": 0.26172801073175955, \"Method\": \"Bagging (ntrees=2)\"}, {\"RMSE\": 0.2673252099286908, \"Method\": \"Bagging (ntrees=2)\"}, {\"RMSE\": 0.23986200310470723, \"Method\": \"Bagging (ntrees=2)\"}, {\"RMSE\": 0.2539718199355863, \"Method\": \"Bagging (ntrees=2)\"}, {\"RMSE\": 0.25479783109761117, \"Method\": \"Bagging (ntrees=2)\"}, {\"RMSE\": 0.26320000021555656, \"Method\": \"Bagging (ntrees=2)\"}, {\"RMSE\": 0.25085896364037175, \"Method\": \"Bagging (ntrees=2)\"}, {\"RMSE\": 0.25802779196726205, \"Method\": \"Bagging (ntrees=2)\"}, {\"RMSE\": 0.25178482366997634, \"Method\": \"Bagging (ntrees=2)\"}, {\"RMSE\": 0.2612885891428789, \"Method\": \"Bagging (ntrees=2)\"}, {\"RMSE\": 0.24991881156331064, \"Method\": \"Bagging (ntrees=2)\"}, {\"RMSE\": 0.24678071035968657, \"Method\": \"Bagging (ntrees=2)\"}, {\"RMSE\": 0.25402375368032004, \"Method\": \"Bagging (ntrees=2)\"}, {\"RMSE\": 0.26657879964938913, \"Method\": \"Bagging (ntrees=2)\"}, {\"RMSE\": 0.26433423340633083, \"Method\": \"Bagging (ntrees=2)\"}, {\"RMSE\": 0.24279690603755838, \"Method\": \"Bagging (ntrees=2)\"}, {\"RMSE\": 0.25644527993485944, \"Method\": \"Bagging (ntrees=2)\"}, {\"RMSE\": 0.24739044027054302, \"Method\": \"Bagging (ntrees=2)\"}, {\"RMSE\": 0.2598725798684113, \"Method\": \"Bagging (ntrees=2)\"}, {\"RMSE\": 0.24904349307274867, \"Method\": \"Bagging (ntrees=2)\"}, {\"RMSE\": 0.2542731081130209, \"Method\": \"Bagging (ntrees=2)\"}, {\"RMSE\": 0.250454392517202, \"Method\": \"Bagging (ntrees=2)\"}, {\"RMSE\": 0.23912803621309073, \"Method\": \"Bagging (ntrees=2)\"}, {\"RMSE\": 0.24683040838248202, \"Method\": \"Bagging (ntrees=2)\"}, {\"RMSE\": 0.2445764219309793, \"Method\": \"Bagging (ntrees=2)\"}, {\"RMSE\": 0.24234983360575132, \"Method\": \"Bagging (ntrees=2)\"}, {\"RMSE\": 0.26249578282600877, \"Method\": \"Bagging (ntrees=2)\"}, {\"RMSE\": 0.24420446661987782, \"Method\": \"Bagging (ntrees=2)\"}, {\"RMSE\": 0.24472159788241904, \"Method\": \"Bagging (ntrees=2)\"}, {\"RMSE\": 0.25024121704392555, \"Method\": \"Bagging (ntrees=2)\"}, {\"RMSE\": 0.26649730109485253, \"Method\": \"Bagging (ntrees=2)\"}, {\"RMSE\": 0.24140749707214867, \"Method\": \"Bagging (ntrees=2)\"}, {\"RMSE\": 0.245971214653961, \"Method\": \"Bagging (ntrees=2)\"}, {\"RMSE\": 0.2483476788804279, \"Method\": \"Bagging (ntrees=2)\"}, {\"RMSE\": 0.25202201443328826, \"Method\": \"Bagging (ntrees=2)\"}, {\"RMSE\": 0.25931286664604036, \"Method\": \"Bagging (ntrees=2)\"}, {\"RMSE\": 0.26103141612314334, \"Method\": \"Bagging (ntrees=2)\"}, {\"RMSE\": 0.2612583085731646, \"Method\": \"Bagging (ntrees=2)\"}, {\"RMSE\": 0.25332666523651204, \"Method\": \"Bagging (ntrees=2)\"}, {\"RMSE\": 0.2523868079937007, \"Method\": \"Bagging (ntrees=2)\"}, {\"RMSE\": 0.24309092710967187, \"Method\": \"Bagging (ntrees=2)\"}, {\"RMSE\": 0.2171222409162828, \"Method\": \"Boosting (max_ntrees=100)\"}, {\"RMSE\": 0.229317479576057, \"Method\": \"Boosting (max_ntrees=100)\"}, {\"RMSE\": 0.23003148332184079, \"Method\": \"Boosting (max_ntrees=100)\"}, {\"RMSE\": 0.21592722410447454, \"Method\": \"Boosting (max_ntrees=100)\"}, {\"RMSE\": 0.22304518647219143, \"Method\": \"Boosting (max_ntrees=100)\"}, {\"RMSE\": 0.22492120849014904, \"Method\": \"Boosting (max_ntrees=100)\"}, {\"RMSE\": 0.23798666453431072, \"Method\": \"Boosting (max_ntrees=100)\"}, {\"RMSE\": 0.22472640516896566, \"Method\": \"Boosting (max_ntrees=100)\"}, {\"RMSE\": 0.2222799117469352, \"Method\": \"Boosting (max_ntrees=100)\"}, {\"RMSE\": 0.23122095466583842, \"Method\": \"Boosting (max_ntrees=100)\"}, {\"RMSE\": 0.2263651475698427, \"Method\": \"Boosting (max_ntrees=100)\"}, {\"RMSE\": 0.22627351095886977, \"Method\": \"Boosting (max_ntrees=100)\"}, {\"RMSE\": 0.22854023496845344, \"Method\": \"Boosting (max_ntrees=100)\"}, {\"RMSE\": 0.22567136231557292, \"Method\": \"Boosting (max_ntrees=100)\"}, {\"RMSE\": 0.21983993807825283, \"Method\": \"Boosting (max_ntrees=100)\"}, {\"RMSE\": 0.23079831291792263, \"Method\": \"Boosting (max_ntrees=100)\"}, {\"RMSE\": 0.22593427674063452, \"Method\": \"Boosting (max_ntrees=100)\"}, {\"RMSE\": 0.22680070345229314, \"Method\": \"Boosting (max_ntrees=100)\"}, {\"RMSE\": 0.22533482375332034, \"Method\": \"Boosting (max_ntrees=100)\"}, {\"RMSE\": 0.22342813417964605, \"Method\": \"Boosting (max_ntrees=100)\"}, {\"RMSE\": 0.23175878751294376, \"Method\": \"Boosting (max_ntrees=100)\"}, {\"RMSE\": 0.23595615118675242, \"Method\": \"Boosting (max_ntrees=100)\"}, {\"RMSE\": 0.22965983183651673, \"Method\": \"Boosting (max_ntrees=100)\"}, {\"RMSE\": 0.22758975909691562, \"Method\": \"Boosting (max_ntrees=100)\"}, {\"RMSE\": 0.2228900886770328, \"Method\": \"Boosting (max_ntrees=100)\"}, {\"RMSE\": 0.24414059289631176, \"Method\": \"Boosting (max_ntrees=100)\"}, {\"RMSE\": 0.22346361450543395, \"Method\": \"Boosting (max_ntrees=100)\"}, {\"RMSE\": 0.22584381975283072, \"Method\": \"Boosting (max_ntrees=100)\"}, {\"RMSE\": 0.23185220936978465, \"Method\": \"Boosting (max_ntrees=100)\"}, {\"RMSE\": 0.24165622537493742, \"Method\": \"Boosting (max_ntrees=100)\"}, {\"RMSE\": 0.22805194234918283, \"Method\": \"Boosting (max_ntrees=100)\"}, {\"RMSE\": 0.21917567195381235, \"Method\": \"Boosting (max_ntrees=100)\"}, {\"RMSE\": 0.2256790478876625, \"Method\": \"Boosting (max_ntrees=100)\"}, {\"RMSE\": 0.2299279699579699, \"Method\": \"Boosting (max_ntrees=100)\"}, {\"RMSE\": 0.2208207792177795, \"Method\": \"Boosting (max_ntrees=100)\"}, {\"RMSE\": 0.22132015756325268, \"Method\": \"Boosting (max_ntrees=100)\"}, {\"RMSE\": 0.23380101383062282, \"Method\": \"Boosting (max_ntrees=100)\"}, {\"RMSE\": 0.2231798753991582, \"Method\": \"Boosting (max_ntrees=100)\"}, {\"RMSE\": 0.21965356845903125, \"Method\": \"Boosting (max_ntrees=100)\"}, {\"RMSE\": 0.23896806603428217, \"Method\": \"Boosting (max_ntrees=100)\"}, {\"RMSE\": 0.2319202237961624, \"Method\": \"Boosting (max_ntrees=100)\"}, {\"RMSE\": 0.23698539391007173, \"Method\": \"Boosting (max_ntrees=100)\"}, {\"RMSE\": 0.2219628343700613, \"Method\": \"Boosting (max_ntrees=100)\"}, {\"RMSE\": 0.23472765013365743, \"Method\": \"Boosting (max_ntrees=100)\"}, {\"RMSE\": 0.2240221463041687, \"Method\": \"Boosting (max_ntrees=100)\"}, {\"RMSE\": 0.23416186962859808, \"Method\": \"Boosting (max_ntrees=100)\"}, {\"RMSE\": 0.23152411818426055, \"Method\": \"Boosting (max_ntrees=100)\"}, {\"RMSE\": 0.24070441472510534, \"Method\": \"Boosting (max_ntrees=100)\"}, {\"RMSE\": 0.21020860399408453, \"Method\": \"Boosting (max_ntrees=100)\"}, {\"RMSE\": 0.2234996221703033, \"Method\": \"Boosting (max_ntrees=100)\"}]}}, {\"mode\": \"vega-lite\"});\n",
       "</script>"
      ],
      "text/plain": [
       "alt.Chart(...)"
      ]
     },
     "execution_count": 74,
     "metadata": {},
     "output_type": "execute_result"
    }
   ],
   "source": [
    "import altair as alt\n",
    "\n",
    "alt.Chart(results).mark_boxplot().encode(\n",
    "    alt.Y(\"RMSE:Q\", scale=alt.Scale(domain=[0.2, 0.3])),\n",
    "    x='Method',\n",
    ").properties(width=300)"
   ]
  },
  {
   "cell_type": "markdown",
   "metadata": {},
   "source": [
    "**Problem 3.** How would you compare (using t-test) whether the boosting algorithm is better than bagging (ntrees=100)?"
   ]
  },
  {
   "cell_type": "code",
   "execution_count": 75,
   "metadata": {},
   "outputs": [
    {
     "name": "stderr",
     "output_type": "stream",
     "text": [
      "/tmp/ipykernel_3724411/3104878890.py:3: DeprecationWarning: Please use `ttest_ind` from the `scipy.stats` namespace, the `scipy.stats.stats` namespace is deprecated.\n",
      "  stats.stats.ttest_ind(pivot_results[('RMSE', 'Bagging (ntrees=100)')],pivot_results[('RMSE', 'Boosting (max_ntrees=100)')],equal_var = True)\n"
     ]
    },
    {
     "data": {
      "text/plain": [
       "Ttest_indResult(statistic=0.6510203654798702, pvalue=0.5165569376678337)"
      ]
     },
     "execution_count": 75,
     "metadata": {},
     "output_type": "execute_result"
    }
   ],
   "source": [
    "# Your solution here: https://canvas.calpoly.edu/courses/81417/assignments/545577"
   ]
  },
  {
   "cell_type": "code",
   "execution_count": 76,
   "metadata": {},
   "outputs": [],
   "source": [
    "# Good job!\n",
    "# Don't forget to push with ./submit.sh"
   ]
  },
  {
   "cell_type": "markdown",
   "metadata": {},
   "source": [
    "#### Having trouble with the test cases and the autograder?\n",
    "\n",
    "You can always load up the answers for the autograder. The autograder runs your code and compares your answer to the expected answer. I manually review your code, so there is no need to hide this from you.\n",
    "\n",
    "```python\n",
    "import joblib\n",
    "answers = joblib.load(f\"{home}/csc-466-student/tests/answers_Lab5.joblib\")\n",
    "answers.keys()\n",
    "```"
   ]
  }
 ],
 "metadata": {
  "kernelspec": {
   "display_name": "Python 3 (ipykernel)",
   "language": "python",
   "name": "python3"
  },
  "language_info": {
   "codemirror_mode": {
    "name": "ipython",
    "version": 3
   },
   "file_extension": ".py",
   "mimetype": "text/x-python",
   "name": "python",
   "nbconvert_exporter": "python",
   "pygments_lexer": "ipython3",
   "version": "3.9.7"
  }
 },
 "nbformat": 4,
 "nbformat_minor": 4
}
