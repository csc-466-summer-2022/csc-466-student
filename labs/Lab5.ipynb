{
 "cells": [
  {
   "cell_type": "markdown",
   "metadata": {},
   "source": [
    "# Lab 5\n",
    "\n",
    "## Ensemble Learning\n",
    "\n",
    "For this lab, we will implement a bagging and boosting. Due to the increased simplicity when implementing regression with boosted trees over classification, we will stick to regression for this lab. Classification is a straightforward extension.\n",
    "\n",
    "There are two main exercises and questions in the lab. "
   ]
  },
  {
   "cell_type": "code",
   "execution_count": 60,
   "metadata": {
    "tags": []
   },
   "outputs": [],
   "source": [
    "from pathlib import Path\n",
    "home = str(Path.home()) # all other paths are relative to this path. change to something else if this is not the case on your system"
   ]
  },
  {
   "cell_type": "code",
   "execution_count": 61,
   "metadata": {
    "tags": []
   },
   "outputs": [
    {
     "name": "stdout",
     "output_type": "stream",
     "text": [
      "The autoreload extension is already loaded. To reload it, use:\n",
      "  %reload_ext autoreload\n"
     ]
    }
   ],
   "source": [
    "%load_ext autoreload\n",
    "%autoreload 2\n",
    "\n",
    "# make sure your run the cell above before running this\n",
    "import Lab5_helper"
   ]
  },
  {
   "cell_type": "markdown",
   "metadata": {},
   "source": [
    "For developing this lab, we can our three gene dataset. We will try to predict the value of ESR1 from the other two genes."
   ]
  },
  {
   "cell_type": "code",
   "execution_count": 62,
   "metadata": {
    "tags": []
   },
   "outputs": [
    {
     "data": {
      "text/html": [
       "<div>\n",
       "<style scoped>\n",
       "    .dataframe tbody tr th:only-of-type {\n",
       "        vertical-align: middle;\n",
       "    }\n",
       "\n",
       "    .dataframe tbody tr th {\n",
       "        vertical-align: top;\n",
       "    }\n",
       "\n",
       "    .dataframe thead th {\n",
       "        text-align: right;\n",
       "    }\n",
       "</style>\n",
       "<table border=\"1\" class=\"dataframe\">\n",
       "  <thead>\n",
       "    <tr style=\"text-align: right;\">\n",
       "      <th></th>\n",
       "      <th>ESR1</th>\n",
       "      <th>AURKA</th>\n",
       "      <th>ERBB2</th>\n",
       "      <th>Subtype</th>\n",
       "    </tr>\n",
       "  </thead>\n",
       "  <tbody>\n",
       "    <tr>\n",
       "      <th>0</th>\n",
       "      <td>0.804501</td>\n",
       "      <td>0.264356</td>\n",
       "      <td>6.941677</td>\n",
       "      <td>LumA</td>\n",
       "    </tr>\n",
       "    <tr>\n",
       "      <th>1</th>\n",
       "      <td>0.163597</td>\n",
       "      <td>0.589052</td>\n",
       "      <td>6.551394</td>\n",
       "      <td>Basal</td>\n",
       "    </tr>\n",
       "    <tr>\n",
       "      <th>2</th>\n",
       "      <td>0.569347</td>\n",
       "      <td>0.189531</td>\n",
       "      <td>7.056530</td>\n",
       "      <td>LumA</td>\n",
       "    </tr>\n",
       "    <tr>\n",
       "      <th>3</th>\n",
       "      <td>0.847584</td>\n",
       "      <td>0.264849</td>\n",
       "      <td>7.028625</td>\n",
       "      <td>LumB</td>\n",
       "    </tr>\n",
       "    <tr>\n",
       "      <th>4</th>\n",
       "      <td>0.442474</td>\n",
       "      <td>0.526040</td>\n",
       "      <td>8.783604</td>\n",
       "      <td>LumB</td>\n",
       "    </tr>\n",
       "  </tbody>\n",
       "</table>\n",
       "</div>"
      ],
      "text/plain": [
       "       ESR1     AURKA     ERBB2 Subtype\n",
       "0  0.804501  0.264356  6.941677    LumA\n",
       "1  0.163597  0.589052  6.551394   Basal\n",
       "2  0.569347  0.189531  7.056530    LumA\n",
       "3  0.847584  0.264849  7.028625    LumB\n",
       "4  0.442474  0.526040  8.783604    LumB"
      ]
     },
     "execution_count": 62,
     "metadata": {},
     "output_type": "execute_result"
    }
   ],
   "source": [
    "import pandas as pd\n",
    "import numpy as np\n",
    "\n",
    "df = pd.read_csv(\n",
    "    f\"{home}/csc-466-student/data/breast_cancer_three_gene.csv\",index_col=0\n",
    ")\n",
    "df.head()"
   ]
  },
  {
   "cell_type": "markdown",
   "metadata": {},
   "source": [
    "We need to do some simple preprocessing before our neural network can deal with this data. "
   ]
  },
  {
   "cell_type": "code",
   "execution_count": 63,
   "metadata": {
    "tags": []
   },
   "outputs": [
    {
     "data": {
      "text/html": [
       "<div>\n",
       "<style scoped>\n",
       "    .dataframe tbody tr th:only-of-type {\n",
       "        vertical-align: middle;\n",
       "    }\n",
       "\n",
       "    .dataframe tbody tr th {\n",
       "        vertical-align: top;\n",
       "    }\n",
       "\n",
       "    .dataframe thead th {\n",
       "        text-align: right;\n",
       "    }\n",
       "</style>\n",
       "<table border=\"1\" class=\"dataframe\">\n",
       "  <thead>\n",
       "    <tr style=\"text-align: right;\">\n",
       "      <th></th>\n",
       "      <th>ESR1</th>\n",
       "      <th>AURKA</th>\n",
       "      <th>ERBB2</th>\n",
       "    </tr>\n",
       "  </thead>\n",
       "  <tbody>\n",
       "    <tr>\n",
       "      <th>0</th>\n",
       "      <td>0.804501</td>\n",
       "      <td>0.264356</td>\n",
       "      <td>6.941677</td>\n",
       "    </tr>\n",
       "    <tr>\n",
       "      <th>1</th>\n",
       "      <td>0.163597</td>\n",
       "      <td>0.589052</td>\n",
       "      <td>6.551394</td>\n",
       "    </tr>\n",
       "    <tr>\n",
       "      <th>2</th>\n",
       "      <td>0.569347</td>\n",
       "      <td>0.189531</td>\n",
       "      <td>7.056530</td>\n",
       "    </tr>\n",
       "    <tr>\n",
       "      <th>3</th>\n",
       "      <td>0.847584</td>\n",
       "      <td>0.264849</td>\n",
       "      <td>7.028625</td>\n",
       "    </tr>\n",
       "    <tr>\n",
       "      <th>4</th>\n",
       "      <td>0.442474</td>\n",
       "      <td>0.526040</td>\n",
       "      <td>8.783604</td>\n",
       "    </tr>\n",
       "    <tr>\n",
       "      <th>...</th>\n",
       "      <td>...</td>\n",
       "      <td>...</td>\n",
       "      <td>...</td>\n",
       "    </tr>\n",
       "    <tr>\n",
       "      <th>2128</th>\n",
       "      <td>0.635455</td>\n",
       "      <td>0.143977</td>\n",
       "      <td>7.159443</td>\n",
       "    </tr>\n",
       "    <tr>\n",
       "      <th>2129</th>\n",
       "      <td>0.632849</td>\n",
       "      <td>0.258203</td>\n",
       "      <td>7.145417</td>\n",
       "    </tr>\n",
       "    <tr>\n",
       "      <th>2130</th>\n",
       "      <td>0.662344</td>\n",
       "      <td>0.243027</td>\n",
       "      <td>6.936228</td>\n",
       "    </tr>\n",
       "    <tr>\n",
       "      <th>2131</th>\n",
       "      <td>0.086119</td>\n",
       "      <td>0.479997</td>\n",
       "      <td>7.671082</td>\n",
       "    </tr>\n",
       "    <tr>\n",
       "      <th>2132</th>\n",
       "      <td>0.684853</td>\n",
       "      <td>0.295967</td>\n",
       "      <td>7.045126</td>\n",
       "    </tr>\n",
       "  </tbody>\n",
       "</table>\n",
       "<p>2133 rows × 3 columns</p>\n",
       "</div>"
      ],
      "text/plain": [
       "          ESR1     AURKA     ERBB2\n",
       "0     0.804501  0.264356  6.941677\n",
       "1     0.163597  0.589052  6.551394\n",
       "2     0.569347  0.189531  7.056530\n",
       "3     0.847584  0.264849  7.028625\n",
       "4     0.442474  0.526040  8.783604\n",
       "...        ...       ...       ...\n",
       "2128  0.635455  0.143977  7.159443\n",
       "2129  0.632849  0.258203  7.145417\n",
       "2130  0.662344  0.243027  6.936228\n",
       "2131  0.086119  0.479997  7.671082\n",
       "2132  0.684853  0.295967  7.045126\n",
       "\n",
       "[2133 rows x 3 columns]"
      ]
     },
     "execution_count": 63,
     "metadata": {},
     "output_type": "execute_result"
    }
   ],
   "source": [
    "X = df.drop('Subtype',axis=1)#.dropna()\n",
    "X"
   ]
  },
  {
   "cell_type": "code",
   "execution_count": 64,
   "metadata": {
    "tags": []
   },
   "outputs": [
    {
     "data": {
      "text/html": [
       "<div>\n",
       "<style scoped>\n",
       "    .dataframe tbody tr th:only-of-type {\n",
       "        vertical-align: middle;\n",
       "    }\n",
       "\n",
       "    .dataframe tbody tr th {\n",
       "        vertical-align: top;\n",
       "    }\n",
       "\n",
       "    .dataframe thead th {\n",
       "        text-align: right;\n",
       "    }\n",
       "</style>\n",
       "<table border=\"1\" class=\"dataframe\">\n",
       "  <thead>\n",
       "    <tr style=\"text-align: right;\">\n",
       "      <th></th>\n",
       "      <th>AURKA</th>\n",
       "      <th>ERBB2</th>\n",
       "    </tr>\n",
       "  </thead>\n",
       "  <tbody>\n",
       "    <tr>\n",
       "      <th>0</th>\n",
       "      <td>0.264356</td>\n",
       "      <td>6.941677</td>\n",
       "    </tr>\n",
       "    <tr>\n",
       "      <th>1</th>\n",
       "      <td>0.589052</td>\n",
       "      <td>6.551394</td>\n",
       "    </tr>\n",
       "    <tr>\n",
       "      <th>2</th>\n",
       "      <td>0.189531</td>\n",
       "      <td>7.056530</td>\n",
       "    </tr>\n",
       "    <tr>\n",
       "      <th>3</th>\n",
       "      <td>0.264849</td>\n",
       "      <td>7.028625</td>\n",
       "    </tr>\n",
       "    <tr>\n",
       "      <th>4</th>\n",
       "      <td>0.526040</td>\n",
       "      <td>8.783604</td>\n",
       "    </tr>\n",
       "    <tr>\n",
       "      <th>...</th>\n",
       "      <td>...</td>\n",
       "      <td>...</td>\n",
       "    </tr>\n",
       "    <tr>\n",
       "      <th>2128</th>\n",
       "      <td>0.143977</td>\n",
       "      <td>7.159443</td>\n",
       "    </tr>\n",
       "    <tr>\n",
       "      <th>2129</th>\n",
       "      <td>0.258203</td>\n",
       "      <td>7.145417</td>\n",
       "    </tr>\n",
       "    <tr>\n",
       "      <th>2130</th>\n",
       "      <td>0.243027</td>\n",
       "      <td>6.936228</td>\n",
       "    </tr>\n",
       "    <tr>\n",
       "      <th>2131</th>\n",
       "      <td>0.479997</td>\n",
       "      <td>7.671082</td>\n",
       "    </tr>\n",
       "    <tr>\n",
       "      <th>2132</th>\n",
       "      <td>0.295967</td>\n",
       "      <td>7.045126</td>\n",
       "    </tr>\n",
       "  </tbody>\n",
       "</table>\n",
       "<p>2133 rows × 2 columns</p>\n",
       "</div>"
      ],
      "text/plain": [
       "         AURKA     ERBB2\n",
       "0     0.264356  6.941677\n",
       "1     0.589052  6.551394\n",
       "2     0.189531  7.056530\n",
       "3     0.264849  7.028625\n",
       "4     0.526040  8.783604\n",
       "...        ...       ...\n",
       "2128  0.143977  7.159443\n",
       "2129  0.258203  7.145417\n",
       "2130  0.243027  6.936228\n",
       "2131  0.479997  7.671082\n",
       "2132  0.295967  7.045126\n",
       "\n",
       "[2133 rows x 2 columns]"
      ]
     },
     "execution_count": 64,
     "metadata": {},
     "output_type": "execute_result"
    }
   ],
   "source": [
    "t = X['ESR1']\n",
    "X2 = pd.get_dummies(X.drop('ESR1',axis=1))\n",
    "X2"
   ]
  },
  {
   "cell_type": "markdown",
   "metadata": {},
   "source": [
    "#### Exercise 1\n",
    "Implement bagging using regression trees as the (weak) individual learner. You should be able to reach a similar accuray to my implementation."
   ]
  },
  {
   "cell_type": "code",
   "execution_count": 65,
   "metadata": {
    "tags": []
   },
   "outputs": [
    {
     "name": "stdout",
     "output_type": "stream",
     "text": [
      "Our prediction for Fare is off by 0.16748799642382256\n"
     ]
    }
   ],
   "source": [
    "import numpy as np\n",
    "learner = Lab5_helper.get_learner(X2,t) # Here is how to get a single weak learner to help build your ensembles\n",
    "y = learner.predict(X2) # As usual, here is how to get predictions\n",
    "RMSE = np.sqrt(((y-t)**2).sum()/len(t)) # Here is a sample calculation of the root mean squared error\n",
    "print('Our prediction for Fare is off by',RMSE)"
   ]
  },
  {
   "cell_type": "code",
   "execution_count": 66,
   "metadata": {
    "tags": []
   },
   "outputs": [
    {
     "data": {
      "text/plain": [
       "0.22886581783352655"
      ]
     },
     "execution_count": 66,
     "metadata": {},
     "output_type": "execute_result"
    }
   ],
   "source": [
    "from sklearn.model_selection import train_test_split\n",
    "\n",
    "ntrials = 50\n",
    "# when you are debugging you will want to lower this number\n",
    "RMSEs = []\n",
    "for trial in range(ntrials):\n",
    "    X_train, X_test, t_train, t_test = train_test_split(X2, t, test_size=0.25,random_state=trial)\n",
    "    trees = Lab5_helper.make_trees(X_train,t_train,ntrees=100)\n",
    "    y = Lab5_helper.make_prediction(trees,X_test)\n",
    "    RMSEs.append(np.sqrt(((y-t_test)**2).sum()/len(t_test)))\n",
    "np.median(RMSEs)"
   ]
  },
  {
   "cell_type": "markdown",
   "metadata": {},
   "source": [
    "**Problem 1:** How do we know this is behaving as expected when there is so much randomness? This is a very similar to a question about how can we compare two algorithms? Let's examine this by changing the number of trees in bagging between 25 and 100. Then we will see if we can detect a difference.\n",
    "\n",
    "**Upload your solution to Canvas.**"
   ]
  },
  {
   "cell_type": "code",
   "execution_count": 67,
   "metadata": {
    "tags": []
   },
   "outputs": [],
   "source": [
    "results = pd.DataFrame({'RMSE':RMSEs,'Method':'Bagging (ntrees=100)'})\n",
    "RMSEs = []\n",
    "for trial in range(ntrials):\n",
    "    X_train, X_test, t_train, t_test = train_test_split(X2, t, test_size=0.25,random_state=trial)\n",
    "    trees = Lab5_helper.make_trees(X_train,t_train,ntrees=25)\n",
    "    y = Lab5_helper.make_prediction(trees,X_test)\n",
    "    RMSEs.append(np.sqrt(((y-t_test)**2).sum()/len(t_test)))\n",
    "results2 = pd.DataFrame({'RMSE':RMSEs,'Method':'Bagging (ntrees=25)'})\n",
    "results = pd.concat((results,results2))"
   ]
  },
  {
   "cell_type": "code",
   "execution_count": 68,
   "metadata": {
    "tags": []
   },
   "outputs": [
    {
     "data": {
      "text/plain": [
       "Method\n",
       "Bagging (ntrees=100)    0.228866\n",
       "Bagging (ntrees=25)     0.229073\n",
       "Name: RMSE, dtype: float64"
      ]
     },
     "execution_count": 68,
     "metadata": {},
     "output_type": "execute_result"
    }
   ],
   "source": [
    "results.groupby('Method')['RMSE'].median()"
   ]
  },
  {
   "cell_type": "code",
   "execution_count": 69,
   "metadata": {
    "tags": []
   },
   "outputs": [
    {
     "data": {
      "text/plain": [
       "Method\n",
       "Bagging (ntrees=100)    0.228508\n",
       "Bagging (ntrees=25)     0.229338\n",
       "Name: RMSE, dtype: float64"
      ]
     },
     "execution_count": 69,
     "metadata": {},
     "output_type": "execute_result"
    }
   ],
   "source": [
    "results.groupby('Method')['RMSE'].mean()"
   ]
  },
  {
   "cell_type": "markdown",
   "metadata": {},
   "source": [
    "This looks promising! But what do the statistics tell us?"
   ]
  },
  {
   "cell_type": "code",
   "execution_count": 70,
   "metadata": {
    "tags": []
   },
   "outputs": [
    {
     "data": {
      "text/html": [
       "\n",
       "<style>\n",
       "  #altair-viz-de2b2a1187bd4481806db2bac38763b2.vega-embed {\n",
       "    width: 100%;\n",
       "    display: flex;\n",
       "  }\n",
       "\n",
       "  #altair-viz-de2b2a1187bd4481806db2bac38763b2.vega-embed details,\n",
       "  #altair-viz-de2b2a1187bd4481806db2bac38763b2.vega-embed details summary {\n",
       "    position: relative;\n",
       "  }\n",
       "</style>\n",
       "<div id=\"altair-viz-de2b2a1187bd4481806db2bac38763b2\"></div>\n",
       "<script type=\"text/javascript\">\n",
       "  var VEGA_DEBUG = (typeof VEGA_DEBUG == \"undefined\") ? {} : VEGA_DEBUG;\n",
       "  (function(spec, embedOpt){\n",
       "    let outputDiv = document.currentScript.previousElementSibling;\n",
       "    if (outputDiv.id !== \"altair-viz-de2b2a1187bd4481806db2bac38763b2\") {\n",
       "      outputDiv = document.getElementById(\"altair-viz-de2b2a1187bd4481806db2bac38763b2\");\n",
       "    }\n",
       "    const paths = {\n",
       "      \"vega\": \"https://cdn.jsdelivr.net/npm/vega@5?noext\",\n",
       "      \"vega-lib\": \"https://cdn.jsdelivr.net/npm/vega-lib?noext\",\n",
       "      \"vega-lite\": \"https://cdn.jsdelivr.net/npm/vega-lite@5.8.0?noext\",\n",
       "      \"vega-embed\": \"https://cdn.jsdelivr.net/npm/vega-embed@6?noext\",\n",
       "    };\n",
       "\n",
       "    function maybeLoadScript(lib, version) {\n",
       "      var key = `${lib.replace(\"-\", \"\")}_version`;\n",
       "      return (VEGA_DEBUG[key] == version) ?\n",
       "        Promise.resolve(paths[lib]) :\n",
       "        new Promise(function(resolve, reject) {\n",
       "          var s = document.createElement('script');\n",
       "          document.getElementsByTagName(\"head\")[0].appendChild(s);\n",
       "          s.async = true;\n",
       "          s.onload = () => {\n",
       "            VEGA_DEBUG[key] = version;\n",
       "            return resolve(paths[lib]);\n",
       "          };\n",
       "          s.onerror = () => reject(`Error loading script: ${paths[lib]}`);\n",
       "          s.src = paths[lib];\n",
       "        });\n",
       "    }\n",
       "\n",
       "    function showError(err) {\n",
       "      outputDiv.innerHTML = `<div class=\"error\" style=\"color:red;\">${err}</div>`;\n",
       "      throw err;\n",
       "    }\n",
       "\n",
       "    function displayChart(vegaEmbed) {\n",
       "      vegaEmbed(outputDiv, spec, embedOpt)\n",
       "        .catch(err => showError(`Javascript Error: ${err.message}<br>This usually means there's a typo in your chart specification. See the javascript console for the full traceback.`));\n",
       "    }\n",
       "\n",
       "    if(typeof define === \"function\" && define.amd) {\n",
       "      requirejs.config({paths});\n",
       "      require([\"vega-embed\"], displayChart, err => showError(`Error loading script: ${err.message}`));\n",
       "    } else {\n",
       "      maybeLoadScript(\"vega\", \"5\")\n",
       "        .then(() => maybeLoadScript(\"vega-lite\", \"5.8.0\"))\n",
       "        .then(() => maybeLoadScript(\"vega-embed\", \"6\"))\n",
       "        .catch(showError)\n",
       "        .then(() => displayChart(vegaEmbed));\n",
       "    }\n",
       "  })({\"config\": {\"view\": {\"continuousWidth\": 300, \"continuousHeight\": 300}}, \"data\": {\"name\": \"data-3b234216b4e758409f4af97aed5fcb04\"}, \"mark\": {\"type\": \"boxplot\"}, \"encoding\": {\"x\": {\"field\": \"Method\", \"type\": \"nominal\"}, \"y\": {\"field\": \"RMSE\", \"type\": \"quantitative\"}}, \"width\": 300, \"$schema\": \"https://vega.github.io/schema/vega-lite/v5.8.0.json\", \"datasets\": {\"data-3b234216b4e758409f4af97aed5fcb04\": [{\"RMSE\": 0.2182082267782227, \"Method\": \"Bagging (ntrees=100)\"}, {\"RMSE\": 0.22955196627275162, \"Method\": \"Bagging (ntrees=100)\"}, {\"RMSE\": 0.22828203444616135, \"Method\": \"Bagging (ntrees=100)\"}, {\"RMSE\": 0.22221697781203018, \"Method\": \"Bagging (ntrees=100)\"}, {\"RMSE\": 0.22374136187824567, \"Method\": \"Bagging (ntrees=100)\"}, {\"RMSE\": 0.22906151198375949, \"Method\": \"Bagging (ntrees=100)\"}, {\"RMSE\": 0.23712935790129414, \"Method\": \"Bagging (ntrees=100)\"}, {\"RMSE\": 0.2276056075252365, \"Method\": \"Bagging (ntrees=100)\"}, {\"RMSE\": 0.22700778039777303, \"Method\": \"Bagging (ntrees=100)\"}, {\"RMSE\": 0.23547443338342425, \"Method\": \"Bagging (ntrees=100)\"}, {\"RMSE\": 0.23710186986882315, \"Method\": \"Bagging (ntrees=100)\"}, {\"RMSE\": 0.2258719309875206, \"Method\": \"Bagging (ntrees=100)\"}, {\"RMSE\": 0.23004165721077416, \"Method\": \"Bagging (ntrees=100)\"}, {\"RMSE\": 0.23017742115648365, \"Method\": \"Bagging (ntrees=100)\"}, {\"RMSE\": 0.22298517342903848, \"Method\": \"Bagging (ntrees=100)\"}, {\"RMSE\": 0.22584066981593084, \"Method\": \"Bagging (ntrees=100)\"}, {\"RMSE\": 0.23497046354544476, \"Method\": \"Bagging (ntrees=100)\"}, {\"RMSE\": 0.2239717327402515, \"Method\": \"Bagging (ntrees=100)\"}, {\"RMSE\": 0.22763220499768533, \"Method\": \"Bagging (ntrees=100)\"}, {\"RMSE\": 0.22039171792948498, \"Method\": \"Bagging (ntrees=100)\"}, {\"RMSE\": 0.223281025227275, \"Method\": \"Bagging (ntrees=100)\"}, {\"RMSE\": 0.22889708601481892, \"Method\": \"Bagging (ntrees=100)\"}, {\"RMSE\": 0.2322103258688766, \"Method\": \"Bagging (ntrees=100)\"}, {\"RMSE\": 0.22883454965223415, \"Method\": \"Bagging (ntrees=100)\"}, {\"RMSE\": 0.22957588635153311, \"Method\": \"Bagging (ntrees=100)\"}, {\"RMSE\": 0.23482708471548566, \"Method\": \"Bagging (ntrees=100)\"}, {\"RMSE\": 0.22327543497861937, \"Method\": \"Bagging (ntrees=100)\"}, {\"RMSE\": 0.23081236336744845, \"Method\": \"Bagging (ntrees=100)\"}, {\"RMSE\": 0.23208080060719508, \"Method\": \"Bagging (ntrees=100)\"}, {\"RMSE\": 0.2351944896261178, \"Method\": \"Bagging (ntrees=100)\"}, {\"RMSE\": 0.23410094084057426, \"Method\": \"Bagging (ntrees=100)\"}, {\"RMSE\": 0.22492309452662748, \"Method\": \"Bagging (ntrees=100)\"}, {\"RMSE\": 0.22382390313788414, \"Method\": \"Bagging (ntrees=100)\"}, {\"RMSE\": 0.22941685747637117, \"Method\": \"Bagging (ntrees=100)\"}, {\"RMSE\": 0.219446138881207, \"Method\": \"Bagging (ntrees=100)\"}, {\"RMSE\": 0.23252946670579228, \"Method\": \"Bagging (ntrees=100)\"}, {\"RMSE\": 0.23012360170007506, \"Method\": \"Bagging (ntrees=100)\"}, {\"RMSE\": 0.22054716629737697, \"Method\": \"Bagging (ntrees=100)\"}, {\"RMSE\": 0.22593026205252226, \"Method\": \"Bagging (ntrees=100)\"}, {\"RMSE\": 0.24527545986846247, \"Method\": \"Bagging (ntrees=100)\"}, {\"RMSE\": 0.2264205227255332, \"Method\": \"Bagging (ntrees=100)\"}, {\"RMSE\": 0.23466266924922236, \"Method\": \"Bagging (ntrees=100)\"}, {\"RMSE\": 0.22759885679531572, \"Method\": \"Bagging (ntrees=100)\"}, {\"RMSE\": 0.22982284554243826, \"Method\": \"Bagging (ntrees=100)\"}, {\"RMSE\": 0.22517567883052725, \"Method\": \"Bagging (ntrees=100)\"}, {\"RMSE\": 0.2300788976657825, \"Method\": \"Bagging (ntrees=100)\"}, {\"RMSE\": 0.24002023931783084, \"Method\": \"Bagging (ntrees=100)\"}, {\"RMSE\": 0.2351611554113944, \"Method\": \"Bagging (ntrees=100)\"}, {\"RMSE\": 0.21597571921302977, \"Method\": \"Bagging (ntrees=100)\"}, {\"RMSE\": 0.2181220923608837, \"Method\": \"Bagging (ntrees=100)\"}, {\"RMSE\": 0.21570014896145176, \"Method\": \"Bagging (ntrees=25)\"}, {\"RMSE\": 0.23448217291234427, \"Method\": \"Bagging (ntrees=25)\"}, {\"RMSE\": 0.2308736239590906, \"Method\": \"Bagging (ntrees=25)\"}, {\"RMSE\": 0.22407155516108326, \"Method\": \"Bagging (ntrees=25)\"}, {\"RMSE\": 0.22427288640428725, \"Method\": \"Bagging (ntrees=25)\"}, {\"RMSE\": 0.23420874061352753, \"Method\": \"Bagging (ntrees=25)\"}, {\"RMSE\": 0.23760975771748966, \"Method\": \"Bagging (ntrees=25)\"}, {\"RMSE\": 0.22811767983433015, \"Method\": \"Bagging (ntrees=25)\"}, {\"RMSE\": 0.22770377896061034, \"Method\": \"Bagging (ntrees=25)\"}, {\"RMSE\": 0.23592283501945127, \"Method\": \"Bagging (ntrees=25)\"}, {\"RMSE\": 0.23824709563408727, \"Method\": \"Bagging (ntrees=25)\"}, {\"RMSE\": 0.2298751803665013, \"Method\": \"Bagging (ntrees=25)\"}, {\"RMSE\": 0.22998833402866492, \"Method\": \"Bagging (ntrees=25)\"}, {\"RMSE\": 0.22830106204222522, \"Method\": \"Bagging (ntrees=25)\"}, {\"RMSE\": 0.2211568022829587, \"Method\": \"Bagging (ntrees=25)\"}, {\"RMSE\": 0.22653023350039841, \"Method\": \"Bagging (ntrees=25)\"}, {\"RMSE\": 0.23580311513655275, \"Method\": \"Bagging (ntrees=25)\"}, {\"RMSE\": 0.2250608653304943, \"Method\": \"Bagging (ntrees=25)\"}, {\"RMSE\": 0.22826810596118702, \"Method\": \"Bagging (ntrees=25)\"}, {\"RMSE\": 0.21837273903750526, \"Method\": \"Bagging (ntrees=25)\"}, {\"RMSE\": 0.22469326313269672, \"Method\": \"Bagging (ntrees=25)\"}, {\"RMSE\": 0.22924894165066034, \"Method\": \"Bagging (ntrees=25)\"}, {\"RMSE\": 0.2378418382681312, \"Method\": \"Bagging (ntrees=25)\"}, {\"RMSE\": 0.22966407483018764, \"Method\": \"Bagging (ntrees=25)\"}, {\"RMSE\": 0.22889746050859214, \"Method\": \"Bagging (ntrees=25)\"}, {\"RMSE\": 0.23581781393698634, \"Method\": \"Bagging (ntrees=25)\"}, {\"RMSE\": 0.22284427105619753, \"Method\": \"Bagging (ntrees=25)\"}, {\"RMSE\": 0.23359861128375192, \"Method\": \"Bagging (ntrees=25)\"}, {\"RMSE\": 0.23072831103914557, \"Method\": \"Bagging (ntrees=25)\"}, {\"RMSE\": 0.23857663549374566, \"Method\": \"Bagging (ntrees=25)\"}, {\"RMSE\": 0.23519328260097383, \"Method\": \"Bagging (ntrees=25)\"}, {\"RMSE\": 0.22505515678906762, \"Method\": \"Bagging (ntrees=25)\"}, {\"RMSE\": 0.2239157053894813, \"Method\": \"Bagging (ntrees=25)\"}, {\"RMSE\": 0.23125560809898266, \"Method\": \"Bagging (ntrees=25)\"}, {\"RMSE\": 0.22139305661395078, \"Method\": \"Bagging (ntrees=25)\"}, {\"RMSE\": 0.23139240988998583, \"Method\": \"Bagging (ntrees=25)\"}, {\"RMSE\": 0.23222229521282045, \"Method\": \"Bagging (ntrees=25)\"}, {\"RMSE\": 0.22195322789879393, \"Method\": \"Bagging (ntrees=25)\"}, {\"RMSE\": 0.22838548709691944, \"Method\": \"Bagging (ntrees=25)\"}, {\"RMSE\": 0.24374905487674875, \"Method\": \"Bagging (ntrees=25)\"}, {\"RMSE\": 0.22886206656448854, \"Method\": \"Bagging (ntrees=25)\"}, {\"RMSE\": 0.23272716628257784, \"Method\": \"Bagging (ntrees=25)\"}, {\"RMSE\": 0.228796174968038, \"Method\": \"Bagging (ntrees=25)\"}, {\"RMSE\": 0.22853456923526527, \"Method\": \"Bagging (ntrees=25)\"}, {\"RMSE\": 0.22468597562862008, \"Method\": \"Bagging (ntrees=25)\"}, {\"RMSE\": 0.23033156156128032, \"Method\": \"Bagging (ntrees=25)\"}, {\"RMSE\": 0.23887683190019607, \"Method\": \"Bagging (ntrees=25)\"}, {\"RMSE\": 0.23684720801711387, \"Method\": \"Bagging (ntrees=25)\"}, {\"RMSE\": 0.21685863073557038, \"Method\": \"Bagging (ntrees=25)\"}, {\"RMSE\": 0.2193905752825008, \"Method\": \"Bagging (ntrees=25)\"}]}}, {\"mode\": \"vega-lite\"});\n",
       "</script>"
      ],
      "text/plain": [
       "alt.Chart(...)"
      ]
     },
     "execution_count": 70,
     "metadata": {},
     "output_type": "execute_result"
    }
   ],
   "source": [
    "import altair as alt\n",
    "\n",
    "alt.Chart(results).mark_boxplot().encode(\n",
    "    alt.Y(\"RMSE:Q\"),\n",
    "    x='Method',\n",
    ").properties(width=300)"
   ]
  },
  {
   "cell_type": "markdown",
   "metadata": {},
   "source": [
    "For a moment, let's not worry that the underlying distributions do not look normal. We know how to compare the average of two distributions, the t-test. Let's see what that says:"
   ]
  },
  {
   "cell_type": "code",
   "execution_count": 71,
   "metadata": {
    "tags": []
   },
   "outputs": [
    {
     "data": {
      "text/html": [
       "<div>\n",
       "<style scoped>\n",
       "    .dataframe tbody tr th:only-of-type {\n",
       "        vertical-align: middle;\n",
       "    }\n",
       "\n",
       "    .dataframe tbody tr th {\n",
       "        vertical-align: top;\n",
       "    }\n",
       "\n",
       "    .dataframe thead tr th {\n",
       "        text-align: left;\n",
       "    }\n",
       "</style>\n",
       "<table border=\"1\" class=\"dataframe\">\n",
       "  <thead>\n",
       "    <tr>\n",
       "      <th></th>\n",
       "      <th colspan=\"2\" halign=\"left\">RMSE</th>\n",
       "    </tr>\n",
       "    <tr>\n",
       "      <th>Method</th>\n",
       "      <th>Bagging (ntrees=100)</th>\n",
       "      <th>Bagging (ntrees=25)</th>\n",
       "    </tr>\n",
       "  </thead>\n",
       "  <tbody>\n",
       "    <tr>\n",
       "      <th>0</th>\n",
       "      <td>0.218208</td>\n",
       "      <td>0.215700</td>\n",
       "    </tr>\n",
       "    <tr>\n",
       "      <th>1</th>\n",
       "      <td>0.229552</td>\n",
       "      <td>0.234482</td>\n",
       "    </tr>\n",
       "    <tr>\n",
       "      <th>2</th>\n",
       "      <td>0.228282</td>\n",
       "      <td>0.230874</td>\n",
       "    </tr>\n",
       "    <tr>\n",
       "      <th>3</th>\n",
       "      <td>0.222217</td>\n",
       "      <td>0.224072</td>\n",
       "    </tr>\n",
       "    <tr>\n",
       "      <th>4</th>\n",
       "      <td>0.223741</td>\n",
       "      <td>0.224273</td>\n",
       "    </tr>\n",
       "  </tbody>\n",
       "</table>\n",
       "</div>"
      ],
      "text/plain": [
       "                       RMSE                    \n",
       "Method Bagging (ntrees=100) Bagging (ntrees=25)\n",
       "0                  0.218208            0.215700\n",
       "1                  0.229552            0.234482\n",
       "2                  0.228282            0.230874\n",
       "3                  0.222217            0.224072\n",
       "4                  0.223741            0.224273"
      ]
     },
     "execution_count": 71,
     "metadata": {},
     "output_type": "execute_result"
    }
   ],
   "source": [
    "pivot_results = results.pivot(columns='Method')\n",
    "pivot_results.head()"
   ]
  },
  {
   "cell_type": "code",
   "execution_count": 72,
   "metadata": {
    "tags": []
   },
   "outputs": [
    {
     "data": {
      "text/plain": [
       "MultiIndex([('RMSE', 'Bagging (ntrees=100)'),\n",
       "            ('RMSE',  'Bagging (ntrees=25)')],\n",
       "           names=[None, 'Method'])"
      ]
     },
     "execution_count": 72,
     "metadata": {},
     "output_type": "execute_result"
    }
   ],
   "source": [
    "pivot_results.columns"
   ]
  },
  {
   "cell_type": "code",
   "execution_count": 73,
   "metadata": {
    "tags": []
   },
   "outputs": [
    {
     "data": {
      "text/plain": [
       "TtestResult(statistic=-0.6817259720600158, pvalue=0.497020215753743, df=98.0)"
      ]
     },
     "execution_count": 73,
     "metadata": {},
     "output_type": "execute_result"
    }
   ],
   "source": [
    "from scipy import stats\n",
    "stats.ttest_ind(pivot_results[('RMSE', 'Bagging (ntrees=100)')],pivot_results[('RMSE', 'Bagging (ntrees=25)')],equal_var = True)"
   ]
  },
  {
   "cell_type": "markdown",
   "metadata": {},
   "source": [
    "So according to this test, we do not see any significant difference between the results."
   ]
  },
  {
   "cell_type": "markdown",
   "metadata": {},
   "source": [
    "**Problem 2.** What if you only used 2 trees? Is there a significant difference between 2 and 25 trees?\n",
    "\n",
    "**Upload your solution to Canvas.**"
   ]
  },
  {
   "cell_type": "code",
   "execution_count": 74,
   "metadata": {
    "tags": []
   },
   "outputs": [],
   "source": [
    "RMSEs = []\n",
    "for trial in range(ntrials):\n",
    "    X_train, X_test, t_train, t_test = train_test_split(X2, t, test_size=0.25,random_state=trial)\n",
    "    trees = Lab5_helper.make_trees(X_train,t_train,ntrees=2)\n",
    "    y = Lab5_helper.make_prediction(trees,X_test)\n",
    "    RMSEs.append(np.sqrt(((y-t_test)**2).sum()/len(t_test)))\n",
    "results2 = pd.DataFrame({'RMSE':RMSEs,'Method':'Bagging (ntrees=2)'})\n",
    "results = pd.concat((results,results2))"
   ]
  },
  {
   "cell_type": "code",
   "execution_count": 75,
   "metadata": {
    "tags": []
   },
   "outputs": [
    {
     "data": {
      "text/plain": [
       "Method\n",
       "Bagging (ntrees=100)    0.228508\n",
       "Bagging (ntrees=2)      0.252671\n",
       "Bagging (ntrees=25)     0.229338\n",
       "Name: RMSE, dtype: float64"
      ]
     },
     "execution_count": 75,
     "metadata": {},
     "output_type": "execute_result"
    }
   ],
   "source": [
    "results.groupby('Method')['RMSE'].mean()"
   ]
  },
  {
   "cell_type": "code",
   "execution_count": 76,
   "metadata": {
    "tags": []
   },
   "outputs": [
    {
     "data": {
      "text/html": [
       "<div>\n",
       "<style scoped>\n",
       "    .dataframe tbody tr th:only-of-type {\n",
       "        vertical-align: middle;\n",
       "    }\n",
       "\n",
       "    .dataframe tbody tr th {\n",
       "        vertical-align: top;\n",
       "    }\n",
       "\n",
       "    .dataframe thead tr th {\n",
       "        text-align: left;\n",
       "    }\n",
       "</style>\n",
       "<table border=\"1\" class=\"dataframe\">\n",
       "  <thead>\n",
       "    <tr>\n",
       "      <th></th>\n",
       "      <th colspan=\"3\" halign=\"left\">RMSE</th>\n",
       "    </tr>\n",
       "    <tr>\n",
       "      <th>Method</th>\n",
       "      <th>Bagging (ntrees=100)</th>\n",
       "      <th>Bagging (ntrees=2)</th>\n",
       "      <th>Bagging (ntrees=25)</th>\n",
       "    </tr>\n",
       "  </thead>\n",
       "  <tbody>\n",
       "    <tr>\n",
       "      <th>0</th>\n",
       "      <td>0.218208</td>\n",
       "      <td>0.247168</td>\n",
       "      <td>0.215700</td>\n",
       "    </tr>\n",
       "    <tr>\n",
       "      <th>1</th>\n",
       "      <td>0.229552</td>\n",
       "      <td>0.252632</td>\n",
       "      <td>0.234482</td>\n",
       "    </tr>\n",
       "    <tr>\n",
       "      <th>2</th>\n",
       "      <td>0.228282</td>\n",
       "      <td>0.252155</td>\n",
       "      <td>0.230874</td>\n",
       "    </tr>\n",
       "    <tr>\n",
       "      <th>3</th>\n",
       "      <td>0.222217</td>\n",
       "      <td>0.241399</td>\n",
       "      <td>0.224072</td>\n",
       "    </tr>\n",
       "    <tr>\n",
       "      <th>4</th>\n",
       "      <td>0.223741</td>\n",
       "      <td>0.253457</td>\n",
       "      <td>0.224273</td>\n",
       "    </tr>\n",
       "  </tbody>\n",
       "</table>\n",
       "</div>"
      ],
      "text/plain": [
       "                       RMSE                                       \n",
       "Method Bagging (ntrees=100) Bagging (ntrees=2) Bagging (ntrees=25)\n",
       "0                  0.218208           0.247168            0.215700\n",
       "1                  0.229552           0.252632            0.234482\n",
       "2                  0.228282           0.252155            0.230874\n",
       "3                  0.222217           0.241399            0.224072\n",
       "4                  0.223741           0.253457            0.224273"
      ]
     },
     "execution_count": 76,
     "metadata": {},
     "output_type": "execute_result"
    }
   ],
   "source": [
    "pivot_results = results.pivot(columns='Method')\n",
    "pivot_results.head()"
   ]
  },
  {
   "cell_type": "code",
   "execution_count": 77,
   "metadata": {
    "tags": []
   },
   "outputs": [
    {
     "data": {
      "text/plain": [
       "TtestResult(statistic=-18.9620925979147, pvalue=1.4603609043497772e-34, df=98.0)"
      ]
     },
     "execution_count": 77,
     "metadata": {},
     "output_type": "execute_result"
    }
   ],
   "source": [
    "stats.ttest_ind(pivot_results[('RMSE', 'Bagging (ntrees=100)')],pivot_results[('RMSE', 'Bagging (ntrees=2)')],equal_var = True)"
   ]
  },
  {
   "cell_type": "markdown",
   "metadata": {},
   "source": [
    "Finally, we can report a p-value < 0.05! Even if we were to discuss multiple test correction at this time, this would still be a significant result. So bagging is helping us!"
   ]
  },
  {
   "cell_type": "markdown",
   "metadata": {},
   "source": [
    "#### Exercise 2\n",
    "Implement boosting using regression trees as the (weak) individual learner. You should be able to reach a similar accuray to my implementation."
   ]
  },
  {
   "cell_type": "code",
   "execution_count": 78,
   "metadata": {
    "tags": []
   },
   "outputs": [],
   "source": [
    "RMSEs = []\n",
    "for trial in range(ntrials):\n",
    "    X_train, X_test, t_train, t_test = train_test_split(X2, t, test_size=0.25,random_state=trial)\n",
    "    X_train2, X_val, t_train2, t_val = train_test_split(X_train, t_train, test_size=0.25,random_state=trial)\n",
    "    trees,train_RMSEs,val_RMSEs = Lab5_helper.make_trees_boost(X_train2, X_val, t_train2, t_val, max_ntrees=100)\n",
    "    trees = Lab5_helper.cut_trees(trees,val_RMSEs)\n",
    "    y = Lab5_helper.make_prediction_boost(trees,X_test)\n",
    "    RMSEs.append(np.sqrt(((y-t_test)**2).sum()/len(t_test)))\n",
    "results2 = pd.DataFrame({'RMSE':RMSEs,'Method':'Boosting (max_ntrees=100)'})\n",
    "results = pd.concat((results,results2))"
   ]
  },
  {
   "cell_type": "code",
   "execution_count": 79,
   "metadata": {
    "tags": []
   },
   "outputs": [
    {
     "data": {
      "text/html": [
       "\n",
       "<style>\n",
       "  #altair-viz-5acc7335f9f440918b0cc2788c0b24e6.vega-embed {\n",
       "    width: 100%;\n",
       "    display: flex;\n",
       "  }\n",
       "\n",
       "  #altair-viz-5acc7335f9f440918b0cc2788c0b24e6.vega-embed details,\n",
       "  #altair-viz-5acc7335f9f440918b0cc2788c0b24e6.vega-embed details summary {\n",
       "    position: relative;\n",
       "  }\n",
       "</style>\n",
       "<div id=\"altair-viz-5acc7335f9f440918b0cc2788c0b24e6\"></div>\n",
       "<script type=\"text/javascript\">\n",
       "  var VEGA_DEBUG = (typeof VEGA_DEBUG == \"undefined\") ? {} : VEGA_DEBUG;\n",
       "  (function(spec, embedOpt){\n",
       "    let outputDiv = document.currentScript.previousElementSibling;\n",
       "    if (outputDiv.id !== \"altair-viz-5acc7335f9f440918b0cc2788c0b24e6\") {\n",
       "      outputDiv = document.getElementById(\"altair-viz-5acc7335f9f440918b0cc2788c0b24e6\");\n",
       "    }\n",
       "    const paths = {\n",
       "      \"vega\": \"https://cdn.jsdelivr.net/npm/vega@5?noext\",\n",
       "      \"vega-lib\": \"https://cdn.jsdelivr.net/npm/vega-lib?noext\",\n",
       "      \"vega-lite\": \"https://cdn.jsdelivr.net/npm/vega-lite@5.8.0?noext\",\n",
       "      \"vega-embed\": \"https://cdn.jsdelivr.net/npm/vega-embed@6?noext\",\n",
       "    };\n",
       "\n",
       "    function maybeLoadScript(lib, version) {\n",
       "      var key = `${lib.replace(\"-\", \"\")}_version`;\n",
       "      return (VEGA_DEBUG[key] == version) ?\n",
       "        Promise.resolve(paths[lib]) :\n",
       "        new Promise(function(resolve, reject) {\n",
       "          var s = document.createElement('script');\n",
       "          document.getElementsByTagName(\"head\")[0].appendChild(s);\n",
       "          s.async = true;\n",
       "          s.onload = () => {\n",
       "            VEGA_DEBUG[key] = version;\n",
       "            return resolve(paths[lib]);\n",
       "          };\n",
       "          s.onerror = () => reject(`Error loading script: ${paths[lib]}`);\n",
       "          s.src = paths[lib];\n",
       "        });\n",
       "    }\n",
       "\n",
       "    function showError(err) {\n",
       "      outputDiv.innerHTML = `<div class=\"error\" style=\"color:red;\">${err}</div>`;\n",
       "      throw err;\n",
       "    }\n",
       "\n",
       "    function displayChart(vegaEmbed) {\n",
       "      vegaEmbed(outputDiv, spec, embedOpt)\n",
       "        .catch(err => showError(`Javascript Error: ${err.message}<br>This usually means there's a typo in your chart specification. See the javascript console for the full traceback.`));\n",
       "    }\n",
       "\n",
       "    if(typeof define === \"function\" && define.amd) {\n",
       "      requirejs.config({paths});\n",
       "      require([\"vega-embed\"], displayChart, err => showError(`Error loading script: ${err.message}`));\n",
       "    } else {\n",
       "      maybeLoadScript(\"vega\", \"5\")\n",
       "        .then(() => maybeLoadScript(\"vega-lite\", \"5.8.0\"))\n",
       "        .then(() => maybeLoadScript(\"vega-embed\", \"6\"))\n",
       "        .catch(showError)\n",
       "        .then(() => displayChart(vegaEmbed));\n",
       "    }\n",
       "  })({\"config\": {\"view\": {\"continuousWidth\": 300, \"continuousHeight\": 300}}, \"data\": {\"name\": \"data-1a72009da8e9f6bea6b28114881e814e\"}, \"mark\": {\"type\": \"line\"}, \"encoding\": {\"color\": {\"field\": \"variable\", \"type\": \"nominal\"}, \"x\": {\"field\": \"ntrees\", \"type\": \"quantitative\"}, \"y\": {\"field\": \"value\", \"scale\": {\"domain\": [0.1, 0.3]}, \"type\": \"quantitative\"}}, \"width\": 500, \"$schema\": \"https://vega.github.io/schema/vega-lite/v5.8.0.json\", \"datasets\": {\"data-1a72009da8e9f6bea6b28114881e814e\": [{\"ntrees\": 0, \"variable\": \"train_RMSE\", \"value\": 0.23361175722869007}, {\"ntrees\": 1, \"variable\": \"train_RMSE\", \"value\": 0.22467289521860842}, {\"ntrees\": 2, \"variable\": \"train_RMSE\", \"value\": 0.2203789445442496}, {\"ntrees\": 3, \"variable\": \"train_RMSE\", \"value\": 0.2178804180424193}, {\"ntrees\": 4, \"variable\": \"train_RMSE\", \"value\": 0.21720982515620177}, {\"ntrees\": 5, \"variable\": \"train_RMSE\", \"value\": 0.21552887790550976}, {\"ntrees\": 6, \"variable\": \"train_RMSE\", \"value\": 0.2137437196220177}, {\"ntrees\": 7, \"variable\": \"train_RMSE\", \"value\": 0.21245305316595015}, {\"ntrees\": 8, \"variable\": \"train_RMSE\", \"value\": 0.21053779017866323}, {\"ntrees\": 9, \"variable\": \"train_RMSE\", \"value\": 0.20886199077242953}, {\"ntrees\": 10, \"variable\": \"train_RMSE\", \"value\": 0.20712022394436613}, {\"ntrees\": 11, \"variable\": \"train_RMSE\", \"value\": 0.20672017054224032}, {\"ntrees\": 12, \"variable\": \"train_RMSE\", \"value\": 0.20587828391840005}, {\"ntrees\": 13, \"variable\": \"train_RMSE\", \"value\": 0.20544861132431877}, {\"ntrees\": 14, \"variable\": \"train_RMSE\", \"value\": 0.2048346954228424}, {\"ntrees\": 15, \"variable\": \"train_RMSE\", \"value\": 0.2035205397819556}, {\"ntrees\": 16, \"variable\": \"train_RMSE\", \"value\": 0.20286793439479225}, {\"ntrees\": 17, \"variable\": \"train_RMSE\", \"value\": 0.20129158382258575}, {\"ntrees\": 18, \"variable\": \"train_RMSE\", \"value\": 0.20010736275706562}, {\"ntrees\": 19, \"variable\": \"train_RMSE\", \"value\": 0.19919345006446754}, {\"ntrees\": 20, \"variable\": \"train_RMSE\", \"value\": 0.19895216434417928}, {\"ntrees\": 21, \"variable\": \"train_RMSE\", \"value\": 0.19812804234784298}, {\"ntrees\": 22, \"variable\": \"train_RMSE\", \"value\": 0.19747128125581973}, {\"ntrees\": 23, \"variable\": \"train_RMSE\", \"value\": 0.19657358462326335}, {\"ntrees\": 24, \"variable\": \"train_RMSE\", \"value\": 0.19608302516197298}, {\"ntrees\": 25, \"variable\": \"train_RMSE\", \"value\": 0.19479443357672677}, {\"ntrees\": 26, \"variable\": \"train_RMSE\", \"value\": 0.19237033383852625}, {\"ntrees\": 27, \"variable\": \"train_RMSE\", \"value\": 0.19211474149366173}, {\"ntrees\": 28, \"variable\": \"train_RMSE\", \"value\": 0.19135644632680948}, {\"ntrees\": 29, \"variable\": \"train_RMSE\", \"value\": 0.1908610465351189}, {\"ntrees\": 30, \"variable\": \"train_RMSE\", \"value\": 0.19009192647488787}, {\"ntrees\": 31, \"variable\": \"train_RMSE\", \"value\": 0.189509808766116}, {\"ntrees\": 32, \"variable\": \"train_RMSE\", \"value\": 0.18929168751030157}, {\"ntrees\": 33, \"variable\": \"train_RMSE\", \"value\": 0.1879696515477533}, {\"ntrees\": 34, \"variable\": \"train_RMSE\", \"value\": 0.18684976710761927}, {\"ntrees\": 35, \"variable\": \"train_RMSE\", \"value\": 0.1864641758267184}, {\"ntrees\": 36, \"variable\": \"train_RMSE\", \"value\": 0.1861304322368956}, {\"ntrees\": 37, \"variable\": \"train_RMSE\", \"value\": 0.1847914749004286}, {\"ntrees\": 38, \"variable\": \"train_RMSE\", \"value\": 0.18370243428577718}, {\"ntrees\": 39, \"variable\": \"train_RMSE\", \"value\": 0.18230887948734958}, {\"ntrees\": 40, \"variable\": \"train_RMSE\", \"value\": 0.18216870902587426}, {\"ntrees\": 41, \"variable\": \"train_RMSE\", \"value\": 0.18100083273345666}, {\"ntrees\": 42, \"variable\": \"train_RMSE\", \"value\": 0.18034087924669126}, {\"ntrees\": 43, \"variable\": \"train_RMSE\", \"value\": 0.17989825205381435}, {\"ntrees\": 44, \"variable\": \"train_RMSE\", \"value\": 0.17966146428166282}, {\"ntrees\": 45, \"variable\": \"train_RMSE\", \"value\": 0.17939806609395897}, {\"ntrees\": 46, \"variable\": \"train_RMSE\", \"value\": 0.17929876190868302}, {\"ntrees\": 47, \"variable\": \"train_RMSE\", \"value\": 0.1787083767999805}, {\"ntrees\": 48, \"variable\": \"train_RMSE\", \"value\": 0.17812223768851845}, {\"ntrees\": 49, \"variable\": \"train_RMSE\", \"value\": 0.17702048072435167}, {\"ntrees\": 50, \"variable\": \"train_RMSE\", \"value\": 0.17601885837972062}, {\"ntrees\": 51, \"variable\": \"train_RMSE\", \"value\": 0.17523783097344936}, {\"ntrees\": 52, \"variable\": \"train_RMSE\", \"value\": 0.17473332094408517}, {\"ntrees\": 53, \"variable\": \"train_RMSE\", \"value\": 0.1742728350691829}, {\"ntrees\": 54, \"variable\": \"train_RMSE\", \"value\": 0.17292044227568926}, {\"ntrees\": 55, \"variable\": \"train_RMSE\", \"value\": 0.17245778297558545}, {\"ntrees\": 56, \"variable\": \"train_RMSE\", \"value\": 0.17165797207469224}, {\"ntrees\": 57, \"variable\": \"train_RMSE\", \"value\": 0.171000519281327}, {\"ntrees\": 58, \"variable\": \"train_RMSE\", \"value\": 0.16989451284822463}, {\"ntrees\": 59, \"variable\": \"train_RMSE\", \"value\": 0.16856926218057444}, {\"ntrees\": 60, \"variable\": \"train_RMSE\", \"value\": 0.16796761970488058}, {\"ntrees\": 61, \"variable\": \"train_RMSE\", \"value\": 0.16727120932971953}, {\"ntrees\": 62, \"variable\": \"train_RMSE\", \"value\": 0.1666669879813169}, {\"ntrees\": 63, \"variable\": \"train_RMSE\", \"value\": 0.16628783625879934}, {\"ntrees\": 64, \"variable\": \"train_RMSE\", \"value\": 0.16621466332854443}, {\"ntrees\": 65, \"variable\": \"train_RMSE\", \"value\": 0.16557402843202912}, {\"ntrees\": 66, \"variable\": \"train_RMSE\", \"value\": 0.16526236431318495}, {\"ntrees\": 67, \"variable\": \"train_RMSE\", \"value\": 0.16483457027848888}, {\"ntrees\": 68, \"variable\": \"train_RMSE\", \"value\": 0.16427119399268889}, {\"ntrees\": 69, \"variable\": \"train_RMSE\", \"value\": 0.1631623416719142}, {\"ntrees\": 70, \"variable\": \"train_RMSE\", \"value\": 0.16214946038369626}, {\"ntrees\": 71, \"variable\": \"train_RMSE\", \"value\": 0.16170933500286216}, {\"ntrees\": 72, \"variable\": \"train_RMSE\", \"value\": 0.16074984720594168}, {\"ntrees\": 73, \"variable\": \"train_RMSE\", \"value\": 0.15965871343771182}, {\"ntrees\": 74, \"variable\": \"train_RMSE\", \"value\": 0.1593336643699821}, {\"ntrees\": 75, \"variable\": \"train_RMSE\", \"value\": 0.1589914985757942}, {\"ntrees\": 76, \"variable\": \"train_RMSE\", \"value\": 0.1584769575483242}, {\"ntrees\": 77, \"variable\": \"train_RMSE\", \"value\": 0.1576605288931892}, {\"ntrees\": 78, \"variable\": \"train_RMSE\", \"value\": 0.15731155485432397}, {\"ntrees\": 79, \"variable\": \"train_RMSE\", \"value\": 0.15685232065003663}, {\"ntrees\": 80, \"variable\": \"train_RMSE\", \"value\": 0.15605587399651485}, {\"ntrees\": 81, \"variable\": \"train_RMSE\", \"value\": 0.15536463002820713}, {\"ntrees\": 82, \"variable\": \"train_RMSE\", \"value\": 0.15474880384241804}, {\"ntrees\": 83, \"variable\": \"train_RMSE\", \"value\": 0.15402226931761473}, {\"ntrees\": 84, \"variable\": \"train_RMSE\", \"value\": 0.15378880091131855}, {\"ntrees\": 85, \"variable\": \"train_RMSE\", \"value\": 0.15354762077760617}, {\"ntrees\": 86, \"variable\": \"train_RMSE\", \"value\": 0.15317516361953615}, {\"ntrees\": 87, \"variable\": \"train_RMSE\", \"value\": 0.15214261168313137}, {\"ntrees\": 88, \"variable\": \"train_RMSE\", \"value\": 0.15156687802946375}, {\"ntrees\": 89, \"variable\": \"train_RMSE\", \"value\": 0.15090136356415765}, {\"ntrees\": 90, \"variable\": \"train_RMSE\", \"value\": 0.14967295825633922}, {\"ntrees\": 91, \"variable\": \"train_RMSE\", \"value\": 0.149131769181507}, {\"ntrees\": 92, \"variable\": \"train_RMSE\", \"value\": 0.14840983923501935}, {\"ntrees\": 93, \"variable\": \"train_RMSE\", \"value\": 0.14809275121960633}, {\"ntrees\": 94, \"variable\": \"train_RMSE\", \"value\": 0.1472372584610971}, {\"ntrees\": 95, \"variable\": \"train_RMSE\", \"value\": 0.1469008197571982}, {\"ntrees\": 96, \"variable\": \"train_RMSE\", \"value\": 0.14616117508948584}, {\"ntrees\": 97, \"variable\": \"train_RMSE\", \"value\": 0.14565462636548612}, {\"ntrees\": 98, \"variable\": \"train_RMSE\", \"value\": 0.14496693208159378}, {\"ntrees\": 99, \"variable\": \"train_RMSE\", \"value\": 0.14425728705470325}, {\"ntrees\": 0, \"variable\": \"val_RMSE\", \"value\": 0.239738196609986}, {\"ntrees\": 1, \"variable\": \"val_RMSE\", \"value\": 0.23046953632996312}, {\"ntrees\": 2, \"variable\": \"val_RMSE\", \"value\": 0.2289201377088864}, {\"ntrees\": 3, \"variable\": \"val_RMSE\", \"value\": 0.22722958455611408}, {\"ntrees\": 4, \"variable\": \"val_RMSE\", \"value\": 0.22860744582240541}, {\"ntrees\": 5, \"variable\": \"val_RMSE\", \"value\": 0.22840946775884613}, {\"ntrees\": 6, \"variable\": \"val_RMSE\", \"value\": 0.22895916877507486}, {\"ntrees\": 7, \"variable\": \"val_RMSE\", \"value\": 0.22818095109781375}, {\"ntrees\": 8, \"variable\": \"val_RMSE\", \"value\": 0.23023885317593423}, {\"ntrees\": 9, \"variable\": \"val_RMSE\", \"value\": 0.23190282300981332}, {\"ntrees\": 10, \"variable\": \"val_RMSE\", \"value\": 0.2348227593907255}, {\"ntrees\": 11, \"variable\": \"val_RMSE\", \"value\": 0.23528008604540296}, {\"ntrees\": 12, \"variable\": \"val_RMSE\", \"value\": 0.23560167336427848}, {\"ntrees\": 13, \"variable\": \"val_RMSE\", \"value\": 0.23506278755259852}, {\"ntrees\": 14, \"variable\": \"val_RMSE\", \"value\": 0.23394783376893943}, {\"ntrees\": 15, \"variable\": \"val_RMSE\", \"value\": 0.2339892437443513}, {\"ntrees\": 16, \"variable\": \"val_RMSE\", \"value\": 0.23590235419045924}, {\"ntrees\": 17, \"variable\": \"val_RMSE\", \"value\": 0.235930026451839}, {\"ntrees\": 18, \"variable\": \"val_RMSE\", \"value\": 0.23478184207109173}, {\"ntrees\": 19, \"variable\": \"val_RMSE\", \"value\": 0.23385598420764148}, {\"ntrees\": 20, \"variable\": \"val_RMSE\", \"value\": 0.23329740678649308}, {\"ntrees\": 21, \"variable\": \"val_RMSE\", \"value\": 0.23296013474996927}, {\"ntrees\": 22, \"variable\": \"val_RMSE\", \"value\": 0.2328970164752284}, {\"ntrees\": 23, \"variable\": \"val_RMSE\", \"value\": 0.23266329887422232}, {\"ntrees\": 24, \"variable\": \"val_RMSE\", \"value\": 0.2329113590219609}, {\"ntrees\": 25, \"variable\": \"val_RMSE\", \"value\": 0.23576704650995794}, {\"ntrees\": 26, \"variable\": \"val_RMSE\", \"value\": 0.23842838692946836}, {\"ntrees\": 27, \"variable\": \"val_RMSE\", \"value\": 0.23854250922742615}, {\"ntrees\": 28, \"variable\": \"val_RMSE\", \"value\": 0.24039390429301685}, {\"ntrees\": 29, \"variable\": \"val_RMSE\", \"value\": 0.24213339043754592}, {\"ntrees\": 30, \"variable\": \"val_RMSE\", \"value\": 0.2422959306772316}, {\"ntrees\": 31, \"variable\": \"val_RMSE\", \"value\": 0.24271394532600263}, {\"ntrees\": 32, \"variable\": \"val_RMSE\", \"value\": 0.2431638231594982}, {\"ntrees\": 33, \"variable\": \"val_RMSE\", \"value\": 0.24341945847336302}, {\"ntrees\": 34, \"variable\": \"val_RMSE\", \"value\": 0.243030501624625}, {\"ntrees\": 35, \"variable\": \"val_RMSE\", \"value\": 0.24456110079356627}, {\"ntrees\": 36, \"variable\": \"val_RMSE\", \"value\": 0.24430851751619417}, {\"ntrees\": 37, \"variable\": \"val_RMSE\", \"value\": 0.24446751682290527}, {\"ntrees\": 38, \"variable\": \"val_RMSE\", \"value\": 0.24450580975419198}, {\"ntrees\": 39, \"variable\": \"val_RMSE\", \"value\": 0.24336973572230403}, {\"ntrees\": 40, \"variable\": \"val_RMSE\", \"value\": 0.24385840650810695}, {\"ntrees\": 41, \"variable\": \"val_RMSE\", \"value\": 0.24323406945827047}, {\"ntrees\": 42, \"variable\": \"val_RMSE\", \"value\": 0.24359617167084813}, {\"ntrees\": 43, \"variable\": \"val_RMSE\", \"value\": 0.24343974388547876}, {\"ntrees\": 44, \"variable\": \"val_RMSE\", \"value\": 0.24329174559524042}, {\"ntrees\": 45, \"variable\": \"val_RMSE\", \"value\": 0.2432880708385254}, {\"ntrees\": 46, \"variable\": \"val_RMSE\", \"value\": 0.24328839304114339}, {\"ntrees\": 47, \"variable\": \"val_RMSE\", \"value\": 0.244017966289678}, {\"ntrees\": 48, \"variable\": \"val_RMSE\", \"value\": 0.24371818917239638}, {\"ntrees\": 49, \"variable\": \"val_RMSE\", \"value\": 0.24392555108336478}, {\"ntrees\": 50, \"variable\": \"val_RMSE\", \"value\": 0.2449426777722954}, {\"ntrees\": 51, \"variable\": \"val_RMSE\", \"value\": 0.24398664481444066}, {\"ntrees\": 52, \"variable\": \"val_RMSE\", \"value\": 0.2443428087473711}, {\"ntrees\": 53, \"variable\": \"val_RMSE\", \"value\": 0.24567930155514273}, {\"ntrees\": 54, \"variable\": \"val_RMSE\", \"value\": 0.247268471465032}, {\"ntrees\": 55, \"variable\": \"val_RMSE\", \"value\": 0.24773086487731438}, {\"ntrees\": 56, \"variable\": \"val_RMSE\", \"value\": 0.24997450610242464}, {\"ntrees\": 57, \"variable\": \"val_RMSE\", \"value\": 0.25002858374160847}, {\"ntrees\": 58, \"variable\": \"val_RMSE\", \"value\": 0.2501524935800871}, {\"ntrees\": 59, \"variable\": \"val_RMSE\", \"value\": 0.2491919479787255}, {\"ntrees\": 60, \"variable\": \"val_RMSE\", \"value\": 0.24889870431579394}, {\"ntrees\": 61, \"variable\": \"val_RMSE\", \"value\": 0.2500608169700772}, {\"ntrees\": 62, \"variable\": \"val_RMSE\", \"value\": 0.2508585965295185}, {\"ntrees\": 63, \"variable\": \"val_RMSE\", \"value\": 0.2524041478105584}, {\"ntrees\": 64, \"variable\": \"val_RMSE\", \"value\": 0.25210540268916726}, {\"ntrees\": 65, \"variable\": \"val_RMSE\", \"value\": 0.25175112761498164}, {\"ntrees\": 66, \"variable\": \"val_RMSE\", \"value\": 0.2516727401062891}, {\"ntrees\": 67, \"variable\": \"val_RMSE\", \"value\": 0.2520096094758442}, {\"ntrees\": 68, \"variable\": \"val_RMSE\", \"value\": 0.25304535937747763}, {\"ntrees\": 69, \"variable\": \"val_RMSE\", \"value\": 0.2510081898860333}, {\"ntrees\": 70, \"variable\": \"val_RMSE\", \"value\": 0.25194180434033053}, {\"ntrees\": 71, \"variable\": \"val_RMSE\", \"value\": 0.25187074435076434}, {\"ntrees\": 72, \"variable\": \"val_RMSE\", \"value\": 0.2546679437802091}, {\"ntrees\": 73, \"variable\": \"val_RMSE\", \"value\": 0.2560104424612739}, {\"ntrees\": 74, \"variable\": \"val_RMSE\", \"value\": 0.2560118137394802}, {\"ntrees\": 75, \"variable\": \"val_RMSE\", \"value\": 0.25665030551384066}, {\"ntrees\": 76, \"variable\": \"val_RMSE\", \"value\": 0.2573369395220231}, {\"ntrees\": 77, \"variable\": \"val_RMSE\", \"value\": 0.256776596053633}, {\"ntrees\": 78, \"variable\": \"val_RMSE\", \"value\": 0.2577814014238586}, {\"ntrees\": 79, \"variable\": \"val_RMSE\", \"value\": 0.25655791598199196}, {\"ntrees\": 80, \"variable\": \"val_RMSE\", \"value\": 0.2584120622304953}, {\"ntrees\": 81, \"variable\": \"val_RMSE\", \"value\": 0.2591486670671849}, {\"ntrees\": 82, \"variable\": \"val_RMSE\", \"value\": 0.2597683223917541}, {\"ntrees\": 83, \"variable\": \"val_RMSE\", \"value\": 0.25948784078906795}, {\"ntrees\": 84, \"variable\": \"val_RMSE\", \"value\": 0.259790007545101}, {\"ntrees\": 85, \"variable\": \"val_RMSE\", \"value\": 0.2597786601654194}, {\"ntrees\": 86, \"variable\": \"val_RMSE\", \"value\": 0.2601021876252311}, {\"ntrees\": 87, \"variable\": \"val_RMSE\", \"value\": 0.260152862677993}, {\"ntrees\": 88, \"variable\": \"val_RMSE\", \"value\": 0.26031971129883047}, {\"ntrees\": 89, \"variable\": \"val_RMSE\", \"value\": 0.2603047954907222}, {\"ntrees\": 90, \"variable\": \"val_RMSE\", \"value\": 0.264062889176055}, {\"ntrees\": 91, \"variable\": \"val_RMSE\", \"value\": 0.26406599019438115}, {\"ntrees\": 92, \"variable\": \"val_RMSE\", \"value\": 0.26424239627217844}, {\"ntrees\": 93, \"variable\": \"val_RMSE\", \"value\": 0.26491788373263686}, {\"ntrees\": 94, \"variable\": \"val_RMSE\", \"value\": 0.2644861545309753}, {\"ntrees\": 95, \"variable\": \"val_RMSE\", \"value\": 0.26410819796430146}, {\"ntrees\": 96, \"variable\": \"val_RMSE\", \"value\": 0.26421300847384804}, {\"ntrees\": 97, \"variable\": \"val_RMSE\", \"value\": 0.26448747263141775}, {\"ntrees\": 98, \"variable\": \"val_RMSE\", \"value\": 0.264026542972301}, {\"ntrees\": 99, \"variable\": \"val_RMSE\", \"value\": 0.2644800918952069}]}}, {\"mode\": \"vega-lite\"});\n",
       "</script>"
      ],
      "text/plain": [
       "alt.Chart(...)"
      ]
     },
     "execution_count": 79,
     "metadata": {},
     "output_type": "execute_result"
    }
   ],
   "source": [
    "source = pd.DataFrame({\"train_RMSE\":train_RMSEs,\"val_RMSE\":val_RMSEs, \"ntrees\":np.arange(len(val_RMSEs))}).melt(id_vars=['ntrees'])\n",
    "\n",
    "alt.Chart(source).mark_line().encode(\n",
    "    y = alt.Y(\"value:Q\", scale=alt.Scale(domain=[0.1, 0.3])),\n",
    "    x = 'ntrees',\n",
    "    color='variable'\n",
    ").properties(width=500)"
   ]
  },
  {
   "cell_type": "code",
   "execution_count": 80,
   "metadata": {
    "tags": []
   },
   "outputs": [
    {
     "data": {
      "text/plain": [
       "Method\n",
       "Boosting (max_ntrees=100)    0.226319\n",
       "Bagging (ntrees=100)         0.228866\n",
       "Bagging (ntrees=25)          0.229073\n",
       "Bagging (ntrees=2)           0.252394\n",
       "Name: RMSE, dtype: float64"
      ]
     },
     "execution_count": 80,
     "metadata": {},
     "output_type": "execute_result"
    }
   ],
   "source": [
    "results.groupby('Method')['RMSE'].median().sort_values()"
   ]
  },
  {
   "cell_type": "code",
   "execution_count": 81,
   "metadata": {
    "tags": []
   },
   "outputs": [
    {
     "data": {
      "text/plain": [
       "Method\n",
       "Boosting (max_ntrees=100)    0.227601\n",
       "Bagging (ntrees=100)         0.228508\n",
       "Bagging (ntrees=25)          0.229338\n",
       "Bagging (ntrees=2)           0.252671\n",
       "Name: RMSE, dtype: float64"
      ]
     },
     "execution_count": 81,
     "metadata": {},
     "output_type": "execute_result"
    }
   ],
   "source": [
    "results.groupby('Method')['RMSE'].mean().sort_values()"
   ]
  },
  {
   "cell_type": "code",
   "execution_count": 82,
   "metadata": {
    "tags": []
   },
   "outputs": [
    {
     "data": {
      "text/plain": [
       "0.22760114405291318"
      ]
     },
     "execution_count": 82,
     "metadata": {},
     "output_type": "execute_result"
    }
   ],
   "source": [
    "np.mean(RMSEs)"
   ]
  },
  {
   "cell_type": "code",
   "execution_count": 83,
   "metadata": {
    "tags": []
   },
   "outputs": [
    {
     "data": {
      "text/html": [
       "\n",
       "<style>\n",
       "  #altair-viz-42a2946ffe884175a63b8c0fe3dc27e7.vega-embed {\n",
       "    width: 100%;\n",
       "    display: flex;\n",
       "  }\n",
       "\n",
       "  #altair-viz-42a2946ffe884175a63b8c0fe3dc27e7.vega-embed details,\n",
       "  #altair-viz-42a2946ffe884175a63b8c0fe3dc27e7.vega-embed details summary {\n",
       "    position: relative;\n",
       "  }\n",
       "</style>\n",
       "<div id=\"altair-viz-42a2946ffe884175a63b8c0fe3dc27e7\"></div>\n",
       "<script type=\"text/javascript\">\n",
       "  var VEGA_DEBUG = (typeof VEGA_DEBUG == \"undefined\") ? {} : VEGA_DEBUG;\n",
       "  (function(spec, embedOpt){\n",
       "    let outputDiv = document.currentScript.previousElementSibling;\n",
       "    if (outputDiv.id !== \"altair-viz-42a2946ffe884175a63b8c0fe3dc27e7\") {\n",
       "      outputDiv = document.getElementById(\"altair-viz-42a2946ffe884175a63b8c0fe3dc27e7\");\n",
       "    }\n",
       "    const paths = {\n",
       "      \"vega\": \"https://cdn.jsdelivr.net/npm/vega@5?noext\",\n",
       "      \"vega-lib\": \"https://cdn.jsdelivr.net/npm/vega-lib?noext\",\n",
       "      \"vega-lite\": \"https://cdn.jsdelivr.net/npm/vega-lite@5.8.0?noext\",\n",
       "      \"vega-embed\": \"https://cdn.jsdelivr.net/npm/vega-embed@6?noext\",\n",
       "    };\n",
       "\n",
       "    function maybeLoadScript(lib, version) {\n",
       "      var key = `${lib.replace(\"-\", \"\")}_version`;\n",
       "      return (VEGA_DEBUG[key] == version) ?\n",
       "        Promise.resolve(paths[lib]) :\n",
       "        new Promise(function(resolve, reject) {\n",
       "          var s = document.createElement('script');\n",
       "          document.getElementsByTagName(\"head\")[0].appendChild(s);\n",
       "          s.async = true;\n",
       "          s.onload = () => {\n",
       "            VEGA_DEBUG[key] = version;\n",
       "            return resolve(paths[lib]);\n",
       "          };\n",
       "          s.onerror = () => reject(`Error loading script: ${paths[lib]}`);\n",
       "          s.src = paths[lib];\n",
       "        });\n",
       "    }\n",
       "\n",
       "    function showError(err) {\n",
       "      outputDiv.innerHTML = `<div class=\"error\" style=\"color:red;\">${err}</div>`;\n",
       "      throw err;\n",
       "    }\n",
       "\n",
       "    function displayChart(vegaEmbed) {\n",
       "      vegaEmbed(outputDiv, spec, embedOpt)\n",
       "        .catch(err => showError(`Javascript Error: ${err.message}<br>This usually means there's a typo in your chart specification. See the javascript console for the full traceback.`));\n",
       "    }\n",
       "\n",
       "    if(typeof define === \"function\" && define.amd) {\n",
       "      requirejs.config({paths});\n",
       "      require([\"vega-embed\"], displayChart, err => showError(`Error loading script: ${err.message}`));\n",
       "    } else {\n",
       "      maybeLoadScript(\"vega\", \"5\")\n",
       "        .then(() => maybeLoadScript(\"vega-lite\", \"5.8.0\"))\n",
       "        .then(() => maybeLoadScript(\"vega-embed\", \"6\"))\n",
       "        .catch(showError)\n",
       "        .then(() => displayChart(vegaEmbed));\n",
       "    }\n",
       "  })({\"config\": {\"view\": {\"continuousWidth\": 300, \"continuousHeight\": 300}}, \"data\": {\"name\": \"data-7941b87668d8d1d46adf61c431de1b54\"}, \"mark\": {\"type\": \"boxplot\"}, \"encoding\": {\"x\": {\"field\": \"Method\", \"type\": \"nominal\"}, \"y\": {\"field\": \"RMSE\", \"scale\": {\"domain\": [0.2, 0.3]}, \"type\": \"quantitative\"}}, \"width\": 300, \"$schema\": \"https://vega.github.io/schema/vega-lite/v5.8.0.json\", \"datasets\": {\"data-7941b87668d8d1d46adf61c431de1b54\": [{\"RMSE\": 0.2182082267782227, \"Method\": \"Bagging (ntrees=100)\"}, {\"RMSE\": 0.22955196627275162, \"Method\": \"Bagging (ntrees=100)\"}, {\"RMSE\": 0.22828203444616135, \"Method\": \"Bagging (ntrees=100)\"}, {\"RMSE\": 0.22221697781203018, \"Method\": \"Bagging (ntrees=100)\"}, {\"RMSE\": 0.22374136187824567, \"Method\": \"Bagging (ntrees=100)\"}, {\"RMSE\": 0.22906151198375949, \"Method\": \"Bagging (ntrees=100)\"}, {\"RMSE\": 0.23712935790129414, \"Method\": \"Bagging (ntrees=100)\"}, {\"RMSE\": 0.2276056075252365, \"Method\": \"Bagging (ntrees=100)\"}, {\"RMSE\": 0.22700778039777303, \"Method\": \"Bagging (ntrees=100)\"}, {\"RMSE\": 0.23547443338342425, \"Method\": \"Bagging (ntrees=100)\"}, {\"RMSE\": 0.23710186986882315, \"Method\": \"Bagging (ntrees=100)\"}, {\"RMSE\": 0.2258719309875206, \"Method\": \"Bagging (ntrees=100)\"}, {\"RMSE\": 0.23004165721077416, \"Method\": \"Bagging (ntrees=100)\"}, {\"RMSE\": 0.23017742115648365, \"Method\": \"Bagging (ntrees=100)\"}, {\"RMSE\": 0.22298517342903848, \"Method\": \"Bagging (ntrees=100)\"}, {\"RMSE\": 0.22584066981593084, \"Method\": \"Bagging (ntrees=100)\"}, {\"RMSE\": 0.23497046354544476, \"Method\": \"Bagging (ntrees=100)\"}, {\"RMSE\": 0.2239717327402515, \"Method\": \"Bagging (ntrees=100)\"}, {\"RMSE\": 0.22763220499768533, \"Method\": \"Bagging (ntrees=100)\"}, {\"RMSE\": 0.22039171792948498, \"Method\": \"Bagging (ntrees=100)\"}, {\"RMSE\": 0.223281025227275, \"Method\": \"Bagging (ntrees=100)\"}, {\"RMSE\": 0.22889708601481892, \"Method\": \"Bagging (ntrees=100)\"}, {\"RMSE\": 0.2322103258688766, \"Method\": \"Bagging (ntrees=100)\"}, {\"RMSE\": 0.22883454965223415, \"Method\": \"Bagging (ntrees=100)\"}, {\"RMSE\": 0.22957588635153311, \"Method\": \"Bagging (ntrees=100)\"}, {\"RMSE\": 0.23482708471548566, \"Method\": \"Bagging (ntrees=100)\"}, {\"RMSE\": 0.22327543497861937, \"Method\": \"Bagging (ntrees=100)\"}, {\"RMSE\": 0.23081236336744845, \"Method\": \"Bagging (ntrees=100)\"}, {\"RMSE\": 0.23208080060719508, \"Method\": \"Bagging (ntrees=100)\"}, {\"RMSE\": 0.2351944896261178, \"Method\": \"Bagging (ntrees=100)\"}, {\"RMSE\": 0.23410094084057426, \"Method\": \"Bagging (ntrees=100)\"}, {\"RMSE\": 0.22492309452662748, \"Method\": \"Bagging (ntrees=100)\"}, {\"RMSE\": 0.22382390313788414, \"Method\": \"Bagging (ntrees=100)\"}, {\"RMSE\": 0.22941685747637117, \"Method\": \"Bagging (ntrees=100)\"}, {\"RMSE\": 0.219446138881207, \"Method\": \"Bagging (ntrees=100)\"}, {\"RMSE\": 0.23252946670579228, \"Method\": \"Bagging (ntrees=100)\"}, {\"RMSE\": 0.23012360170007506, \"Method\": \"Bagging (ntrees=100)\"}, {\"RMSE\": 0.22054716629737697, \"Method\": \"Bagging (ntrees=100)\"}, {\"RMSE\": 0.22593026205252226, \"Method\": \"Bagging (ntrees=100)\"}, {\"RMSE\": 0.24527545986846247, \"Method\": \"Bagging (ntrees=100)\"}, {\"RMSE\": 0.2264205227255332, \"Method\": \"Bagging (ntrees=100)\"}, {\"RMSE\": 0.23466266924922236, \"Method\": \"Bagging (ntrees=100)\"}, {\"RMSE\": 0.22759885679531572, \"Method\": \"Bagging (ntrees=100)\"}, {\"RMSE\": 0.22982284554243826, \"Method\": \"Bagging (ntrees=100)\"}, {\"RMSE\": 0.22517567883052725, \"Method\": \"Bagging (ntrees=100)\"}, {\"RMSE\": 0.2300788976657825, \"Method\": \"Bagging (ntrees=100)\"}, {\"RMSE\": 0.24002023931783084, \"Method\": \"Bagging (ntrees=100)\"}, {\"RMSE\": 0.2351611554113944, \"Method\": \"Bagging (ntrees=100)\"}, {\"RMSE\": 0.21597571921302977, \"Method\": \"Bagging (ntrees=100)\"}, {\"RMSE\": 0.2181220923608837, \"Method\": \"Bagging (ntrees=100)\"}, {\"RMSE\": 0.21570014896145176, \"Method\": \"Bagging (ntrees=25)\"}, {\"RMSE\": 0.23448217291234427, \"Method\": \"Bagging (ntrees=25)\"}, {\"RMSE\": 0.2308736239590906, \"Method\": \"Bagging (ntrees=25)\"}, {\"RMSE\": 0.22407155516108326, \"Method\": \"Bagging (ntrees=25)\"}, {\"RMSE\": 0.22427288640428725, \"Method\": \"Bagging (ntrees=25)\"}, {\"RMSE\": 0.23420874061352753, \"Method\": \"Bagging (ntrees=25)\"}, {\"RMSE\": 0.23760975771748966, \"Method\": \"Bagging (ntrees=25)\"}, {\"RMSE\": 0.22811767983433015, \"Method\": \"Bagging (ntrees=25)\"}, {\"RMSE\": 0.22770377896061034, \"Method\": \"Bagging (ntrees=25)\"}, {\"RMSE\": 0.23592283501945127, \"Method\": \"Bagging (ntrees=25)\"}, {\"RMSE\": 0.23824709563408727, \"Method\": \"Bagging (ntrees=25)\"}, {\"RMSE\": 0.2298751803665013, \"Method\": \"Bagging (ntrees=25)\"}, {\"RMSE\": 0.22998833402866492, \"Method\": \"Bagging (ntrees=25)\"}, {\"RMSE\": 0.22830106204222522, \"Method\": \"Bagging (ntrees=25)\"}, {\"RMSE\": 0.2211568022829587, \"Method\": \"Bagging (ntrees=25)\"}, {\"RMSE\": 0.22653023350039841, \"Method\": \"Bagging (ntrees=25)\"}, {\"RMSE\": 0.23580311513655275, \"Method\": \"Bagging (ntrees=25)\"}, {\"RMSE\": 0.2250608653304943, \"Method\": \"Bagging (ntrees=25)\"}, {\"RMSE\": 0.22826810596118702, \"Method\": \"Bagging (ntrees=25)\"}, {\"RMSE\": 0.21837273903750526, \"Method\": \"Bagging (ntrees=25)\"}, {\"RMSE\": 0.22469326313269672, \"Method\": \"Bagging (ntrees=25)\"}, {\"RMSE\": 0.22924894165066034, \"Method\": \"Bagging (ntrees=25)\"}, {\"RMSE\": 0.2378418382681312, \"Method\": \"Bagging (ntrees=25)\"}, {\"RMSE\": 0.22966407483018764, \"Method\": \"Bagging (ntrees=25)\"}, {\"RMSE\": 0.22889746050859214, \"Method\": \"Bagging (ntrees=25)\"}, {\"RMSE\": 0.23581781393698634, \"Method\": \"Bagging (ntrees=25)\"}, {\"RMSE\": 0.22284427105619753, \"Method\": \"Bagging (ntrees=25)\"}, {\"RMSE\": 0.23359861128375192, \"Method\": \"Bagging (ntrees=25)\"}, {\"RMSE\": 0.23072831103914557, \"Method\": \"Bagging (ntrees=25)\"}, {\"RMSE\": 0.23857663549374566, \"Method\": \"Bagging (ntrees=25)\"}, {\"RMSE\": 0.23519328260097383, \"Method\": \"Bagging (ntrees=25)\"}, {\"RMSE\": 0.22505515678906762, \"Method\": \"Bagging (ntrees=25)\"}, {\"RMSE\": 0.2239157053894813, \"Method\": \"Bagging (ntrees=25)\"}, {\"RMSE\": 0.23125560809898266, \"Method\": \"Bagging (ntrees=25)\"}, {\"RMSE\": 0.22139305661395078, \"Method\": \"Bagging (ntrees=25)\"}, {\"RMSE\": 0.23139240988998583, \"Method\": \"Bagging (ntrees=25)\"}, {\"RMSE\": 0.23222229521282045, \"Method\": \"Bagging (ntrees=25)\"}, {\"RMSE\": 0.22195322789879393, \"Method\": \"Bagging (ntrees=25)\"}, {\"RMSE\": 0.22838548709691944, \"Method\": \"Bagging (ntrees=25)\"}, {\"RMSE\": 0.24374905487674875, \"Method\": \"Bagging (ntrees=25)\"}, {\"RMSE\": 0.22886206656448854, \"Method\": \"Bagging (ntrees=25)\"}, {\"RMSE\": 0.23272716628257784, \"Method\": \"Bagging (ntrees=25)\"}, {\"RMSE\": 0.228796174968038, \"Method\": \"Bagging (ntrees=25)\"}, {\"RMSE\": 0.22853456923526527, \"Method\": \"Bagging (ntrees=25)\"}, {\"RMSE\": 0.22468597562862008, \"Method\": \"Bagging (ntrees=25)\"}, {\"RMSE\": 0.23033156156128032, \"Method\": \"Bagging (ntrees=25)\"}, {\"RMSE\": 0.23887683190019607, \"Method\": \"Bagging (ntrees=25)\"}, {\"RMSE\": 0.23684720801711387, \"Method\": \"Bagging (ntrees=25)\"}, {\"RMSE\": 0.21685863073557038, \"Method\": \"Bagging (ntrees=25)\"}, {\"RMSE\": 0.2193905752825008, \"Method\": \"Bagging (ntrees=25)\"}, {\"RMSE\": 0.24716779863265292, \"Method\": \"Bagging (ntrees=2)\"}, {\"RMSE\": 0.25263247444198417, \"Method\": \"Bagging (ntrees=2)\"}, {\"RMSE\": 0.25215505666363613, \"Method\": \"Bagging (ntrees=2)\"}, {\"RMSE\": 0.24139850606941637, \"Method\": \"Bagging (ntrees=2)\"}, {\"RMSE\": 0.25345650863907093, \"Method\": \"Bagging (ntrees=2)\"}, {\"RMSE\": 0.2528454112766051, \"Method\": \"Bagging (ntrees=2)\"}, {\"RMSE\": 0.2579988627644437, \"Method\": \"Bagging (ntrees=2)\"}, {\"RMSE\": 0.2581072143035146, \"Method\": \"Bagging (ntrees=2)\"}, {\"RMSE\": 0.24224971603023007, \"Method\": \"Bagging (ntrees=2)\"}, {\"RMSE\": 0.2573826598656123, \"Method\": \"Bagging (ntrees=2)\"}, {\"RMSE\": 0.26245018360387834, \"Method\": \"Bagging (ntrees=2)\"}, {\"RMSE\": 0.2503413993817925, \"Method\": \"Bagging (ntrees=2)\"}, {\"RMSE\": 0.24876222139270393, \"Method\": \"Bagging (ntrees=2)\"}, {\"RMSE\": 0.2536242254995201, \"Method\": \"Bagging (ntrees=2)\"}, {\"RMSE\": 0.24888983270154003, \"Method\": \"Bagging (ntrees=2)\"}, {\"RMSE\": 0.24511041995332714, \"Method\": \"Bagging (ntrees=2)\"}, {\"RMSE\": 0.24972768643875784, \"Method\": \"Bagging (ntrees=2)\"}, {\"RMSE\": 0.2484838737382611, \"Method\": \"Bagging (ntrees=2)\"}, {\"RMSE\": 0.25197152372177306, \"Method\": \"Bagging (ntrees=2)\"}, {\"RMSE\": 0.24819842457338342, \"Method\": \"Bagging (ntrees=2)\"}, {\"RMSE\": 0.2487356234882786, \"Method\": \"Bagging (ntrees=2)\"}, {\"RMSE\": 0.2506781167018318, \"Method\": \"Bagging (ntrees=2)\"}, {\"RMSE\": 0.25464587361091096, \"Method\": \"Bagging (ntrees=2)\"}, {\"RMSE\": 0.25526548860298937, \"Method\": \"Bagging (ntrees=2)\"}, {\"RMSE\": 0.24869624517595096, \"Method\": \"Bagging (ntrees=2)\"}, {\"RMSE\": 0.24834689537541363, \"Method\": \"Bagging (ntrees=2)\"}, {\"RMSE\": 0.2561109542107658, \"Method\": \"Bagging (ntrees=2)\"}, {\"RMSE\": 0.24489148303842456, \"Method\": \"Bagging (ntrees=2)\"}, {\"RMSE\": 0.25554922530082747, \"Method\": \"Bagging (ntrees=2)\"}, {\"RMSE\": 0.2599331931151059, \"Method\": \"Bagging (ntrees=2)\"}, {\"RMSE\": 0.2602186304972951, \"Method\": \"Bagging (ntrees=2)\"}, {\"RMSE\": 0.2579823034453874, \"Method\": \"Bagging (ntrees=2)\"}, {\"RMSE\": 0.2475526629517443, \"Method\": \"Bagging (ntrees=2)\"}, {\"RMSE\": 0.25328189922087574, \"Method\": \"Bagging (ntrees=2)\"}, {\"RMSE\": 0.24518848801703105, \"Method\": \"Bagging (ntrees=2)\"}, {\"RMSE\": 0.24761404342929677, \"Method\": \"Bagging (ntrees=2)\"}, {\"RMSE\": 0.25972104949678537, \"Method\": \"Bagging (ntrees=2)\"}, {\"RMSE\": 0.24991732232934574, \"Method\": \"Bagging (ntrees=2)\"}, {\"RMSE\": 0.24544601570944133, \"Method\": \"Bagging (ntrees=2)\"}, {\"RMSE\": 0.2593316776103596, \"Method\": \"Bagging (ntrees=2)\"}, {\"RMSE\": 0.2407584823842083, \"Method\": \"Bagging (ntrees=2)\"}, {\"RMSE\": 0.2630570762904312, \"Method\": \"Bagging (ntrees=2)\"}, {\"RMSE\": 0.26547763641226263, \"Method\": \"Bagging (ntrees=2)\"}, {\"RMSE\": 0.260749148090627, \"Method\": \"Bagging (ntrees=2)\"}, {\"RMSE\": 0.26059533667619855, \"Method\": \"Bagging (ntrees=2)\"}, {\"RMSE\": 0.24912236641194946, \"Method\": \"Bagging (ntrees=2)\"}, {\"RMSE\": 0.27015041236695814, \"Method\": \"Bagging (ntrees=2)\"}, {\"RMSE\": 0.26018099465691263, \"Method\": \"Bagging (ntrees=2)\"}, {\"RMSE\": 0.23872735512450147, \"Method\": \"Bagging (ntrees=2)\"}, {\"RMSE\": 0.25266467572246, \"Method\": \"Bagging (ntrees=2)\"}, {\"RMSE\": 0.2171222409162828, \"Method\": \"Boosting (max_ntrees=100)\"}, {\"RMSE\": 0.229317479576057, \"Method\": \"Boosting (max_ntrees=100)\"}, {\"RMSE\": 0.23003148332184079, \"Method\": \"Boosting (max_ntrees=100)\"}, {\"RMSE\": 0.2159272241044745, \"Method\": \"Boosting (max_ntrees=100)\"}, {\"RMSE\": 0.22304518647219143, \"Method\": \"Boosting (max_ntrees=100)\"}, {\"RMSE\": 0.22492120849014907, \"Method\": \"Boosting (max_ntrees=100)\"}, {\"RMSE\": 0.23798666453431072, \"Method\": \"Boosting (max_ntrees=100)\"}, {\"RMSE\": 0.22472640516896564, \"Method\": \"Boosting (max_ntrees=100)\"}, {\"RMSE\": 0.22227991174693523, \"Method\": \"Boosting (max_ntrees=100)\"}, {\"RMSE\": 0.2312209546658384, \"Method\": \"Boosting (max_ntrees=100)\"}, {\"RMSE\": 0.22636514756984266, \"Method\": \"Boosting (max_ntrees=100)\"}, {\"RMSE\": 0.22627351095886977, \"Method\": \"Boosting (max_ntrees=100)\"}, {\"RMSE\": 0.22854023496845344, \"Method\": \"Boosting (max_ntrees=100)\"}, {\"RMSE\": 0.22567136231557292, \"Method\": \"Boosting (max_ntrees=100)\"}, {\"RMSE\": 0.21983993807825283, \"Method\": \"Boosting (max_ntrees=100)\"}, {\"RMSE\": 0.23079831291792263, \"Method\": \"Boosting (max_ntrees=100)\"}, {\"RMSE\": 0.22593427674063452, \"Method\": \"Boosting (max_ntrees=100)\"}, {\"RMSE\": 0.2268007034522932, \"Method\": \"Boosting (max_ntrees=100)\"}, {\"RMSE\": 0.22533482375332037, \"Method\": \"Boosting (max_ntrees=100)\"}, {\"RMSE\": 0.22342813417964605, \"Method\": \"Boosting (max_ntrees=100)\"}, {\"RMSE\": 0.23175878751294376, \"Method\": \"Boosting (max_ntrees=100)\"}, {\"RMSE\": 0.23595615118675242, \"Method\": \"Boosting (max_ntrees=100)\"}, {\"RMSE\": 0.2296598318365168, \"Method\": \"Boosting (max_ntrees=100)\"}, {\"RMSE\": 0.22758975909691564, \"Method\": \"Boosting (max_ntrees=100)\"}, {\"RMSE\": 0.22289008867703283, \"Method\": \"Boosting (max_ntrees=100)\"}, {\"RMSE\": 0.24414059289631176, \"Method\": \"Boosting (max_ntrees=100)\"}, {\"RMSE\": 0.22346361450543392, \"Method\": \"Boosting (max_ntrees=100)\"}, {\"RMSE\": 0.22584381975283074, \"Method\": \"Boosting (max_ntrees=100)\"}, {\"RMSE\": 0.23123815800490283, \"Method\": \"Boosting (max_ntrees=100)\"}, {\"RMSE\": 0.24165622537493742, \"Method\": \"Boosting (max_ntrees=100)\"}, {\"RMSE\": 0.22805194234918283, \"Method\": \"Boosting (max_ntrees=100)\"}, {\"RMSE\": 0.21917567195381235, \"Method\": \"Boosting (max_ntrees=100)\"}, {\"RMSE\": 0.22567904788766247, \"Method\": \"Boosting (max_ntrees=100)\"}, {\"RMSE\": 0.2299279699579699, \"Method\": \"Boosting (max_ntrees=100)\"}, {\"RMSE\": 0.2208207792177795, \"Method\": \"Boosting (max_ntrees=100)\"}, {\"RMSE\": 0.2213201575632527, \"Method\": \"Boosting (max_ntrees=100)\"}, {\"RMSE\": 0.23380101383062285, \"Method\": \"Boosting (max_ntrees=100)\"}, {\"RMSE\": 0.2231798753991582, \"Method\": \"Boosting (max_ntrees=100)\"}, {\"RMSE\": 0.21965356845903125, \"Method\": \"Boosting (max_ntrees=100)\"}, {\"RMSE\": 0.23896806603428214, \"Method\": \"Boosting (max_ntrees=100)\"}, {\"RMSE\": 0.2319202237961623, \"Method\": \"Boosting (max_ntrees=100)\"}, {\"RMSE\": 0.23698539391007173, \"Method\": \"Boosting (max_ntrees=100)\"}, {\"RMSE\": 0.22196283437006134, \"Method\": \"Boosting (max_ntrees=100)\"}, {\"RMSE\": 0.23472765013365743, \"Method\": \"Boosting (max_ntrees=100)\"}, {\"RMSE\": 0.22402214630416872, \"Method\": \"Boosting (max_ntrees=100)\"}, {\"RMSE\": 0.2341618696285981, \"Method\": \"Boosting (max_ntrees=100)\"}, {\"RMSE\": 0.23152411818426055, \"Method\": \"Boosting (max_ntrees=100)\"}, {\"RMSE\": 0.24070441472510534, \"Method\": \"Boosting (max_ntrees=100)\"}, {\"RMSE\": 0.2102086039940845, \"Method\": \"Boosting (max_ntrees=100)\"}, {\"RMSE\": 0.22349962217030328, \"Method\": \"Boosting (max_ntrees=100)\"}]}}, {\"mode\": \"vega-lite\"});\n",
       "</script>"
      ],
      "text/plain": [
       "alt.Chart(...)"
      ]
     },
     "execution_count": 83,
     "metadata": {},
     "output_type": "execute_result"
    }
   ],
   "source": [
    "import altair as alt\n",
    "\n",
    "alt.Chart(results).mark_boxplot().encode(\n",
    "    alt.Y(\"RMSE:Q\", scale=alt.Scale(domain=[0.2, 0.3])),\n",
    "    x='Method',\n",
    ").properties(width=300)"
   ]
  },
  {
   "cell_type": "markdown",
   "metadata": {},
   "source": [
    "**Problem 3.** How would you compare (using t-test) whether the boosting algorithm is better than bagging (ntrees=100)?"
   ]
  },
  {
   "cell_type": "code",
   "execution_count": 84,
   "metadata": {
    "tags": []
   },
   "outputs": [
    {
     "data": {
      "text/plain": [
       "TtestResult(statistic=0.7037056342652332, pvalue=0.48328475855002784, df=98.0)"
      ]
     },
     "execution_count": 84,
     "metadata": {},
     "output_type": "execute_result"
    }
   ],
   "source": [
    "#"
   ]
  },
  {
   "cell_type": "markdown",
   "metadata": {},
   "source": [
    "**Upload your solution to Canvas.**"
   ]
  },
  {
   "cell_type": "code",
   "execution_count": 85,
   "metadata": {
    "tags": []
   },
   "outputs": [],
   "source": [
    "# Good job!\n",
    "# Don't forget to push with ./submit.sh"
   ]
  },
  {
   "cell_type": "markdown",
   "metadata": {},
   "source": [
    "#### Having trouble with the test cases and the autograder?\n",
    "\n",
    "You can always load up the answers for the autograder. The autograder runs your code and compares your answer to the expected answer. I manually review your code, so there is no need to hide this from you.\n",
    "\n",
    "```python\n",
    "import joblib\n",
    "answers = joblib.load(f\"{home}/csc-466-student/tests/answers_Lab5.joblib\")\n",
    "answers.keys()\n",
    "```"
   ]
  },
  {
   "cell_type": "code",
   "execution_count": null,
   "metadata": {},
   "outputs": [],
   "source": []
  },
  {
   "cell_type": "code",
   "execution_count": null,
   "metadata": {},
   "outputs": [],
   "source": []
  },
  {
   "cell_type": "code",
   "execution_count": null,
   "metadata": {},
   "outputs": [],
   "source": []
  }
 ],
 "metadata": {
  "kernelspec": {
   "display_name": "Python 3 (ipykernel)",
   "language": "python",
   "name": "python3"
  },
  "language_info": {
   "codemirror_mode": {
    "name": "ipython",
    "version": 3
   },
   "file_extension": ".py",
   "mimetype": "text/x-python",
   "name": "python",
   "nbconvert_exporter": "python",
   "pygments_lexer": "ipython3",
   "version": "3.9.7"
  }
 },
 "nbformat": 4,
 "nbformat_minor": 4
}
