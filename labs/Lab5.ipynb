{
 "cells": [
  {
   "cell_type": "markdown",
   "metadata": {},
   "source": [
    "# Lab 5\n",
    "\n",
    "## Ensemble Learning\n",
    "\n",
    "For this lab, we will implement a bagging and boosting. Due to the increased simplicity when implementing regression with boosted trees over classification, we will stick to regression for this lab. Classification is a straightforward extension.\n",
    "\n",
    "There are two main exercises and questions in the lab. "
   ]
  },
  {
   "cell_type": "code",
   "execution_count": 1,
   "metadata": {
    "tags": []
   },
   "outputs": [],
   "source": [
    "from pathlib import Path\n",
    "home = str(Path.home()) # all other paths are relative to this path. change to something else if this is not the case on your system"
   ]
  },
  {
   "cell_type": "code",
   "execution_count": 2,
   "metadata": {
    "tags": []
   },
   "outputs": [],
   "source": [
    "%load_ext autoreload\n",
    "%autoreload 2\n",
    "\n",
    "# make sure your run the cell above before running this\n",
    "import Lab5_helper"
   ]
  },
  {
   "cell_type": "markdown",
   "metadata": {},
   "source": [
    "For developing this lab, we can our three gene dataset. We will try to predict the value of ESR1 from the other two genes."
   ]
  },
  {
   "cell_type": "code",
   "execution_count": 3,
   "metadata": {
    "tags": []
   },
   "outputs": [
    {
     "data": {
      "text/html": [
       "<div>\n",
       "<style scoped>\n",
       "    .dataframe tbody tr th:only-of-type {\n",
       "        vertical-align: middle;\n",
       "    }\n",
       "\n",
       "    .dataframe tbody tr th {\n",
       "        vertical-align: top;\n",
       "    }\n",
       "\n",
       "    .dataframe thead th {\n",
       "        text-align: right;\n",
       "    }\n",
       "</style>\n",
       "<table border=\"1\" class=\"dataframe\">\n",
       "  <thead>\n",
       "    <tr style=\"text-align: right;\">\n",
       "      <th></th>\n",
       "      <th>ESR1</th>\n",
       "      <th>AURKA</th>\n",
       "      <th>ERBB2</th>\n",
       "      <th>Subtype</th>\n",
       "    </tr>\n",
       "  </thead>\n",
       "  <tbody>\n",
       "    <tr>\n",
       "      <th>0</th>\n",
       "      <td>0.804501</td>\n",
       "      <td>0.264356</td>\n",
       "      <td>6.941677</td>\n",
       "      <td>LumA</td>\n",
       "    </tr>\n",
       "    <tr>\n",
       "      <th>1</th>\n",
       "      <td>0.163597</td>\n",
       "      <td>0.589052</td>\n",
       "      <td>6.551394</td>\n",
       "      <td>Basal</td>\n",
       "    </tr>\n",
       "    <tr>\n",
       "      <th>2</th>\n",
       "      <td>0.569347</td>\n",
       "      <td>0.189531</td>\n",
       "      <td>7.056530</td>\n",
       "      <td>LumA</td>\n",
       "    </tr>\n",
       "    <tr>\n",
       "      <th>3</th>\n",
       "      <td>0.847584</td>\n",
       "      <td>0.264849</td>\n",
       "      <td>7.028625</td>\n",
       "      <td>LumB</td>\n",
       "    </tr>\n",
       "    <tr>\n",
       "      <th>4</th>\n",
       "      <td>0.442474</td>\n",
       "      <td>0.526040</td>\n",
       "      <td>8.783604</td>\n",
       "      <td>LumB</td>\n",
       "    </tr>\n",
       "  </tbody>\n",
       "</table>\n",
       "</div>"
      ],
      "text/plain": [
       "       ESR1     AURKA     ERBB2 Subtype\n",
       "0  0.804501  0.264356  6.941677    LumA\n",
       "1  0.163597  0.589052  6.551394   Basal\n",
       "2  0.569347  0.189531  7.056530    LumA\n",
       "3  0.847584  0.264849  7.028625    LumB\n",
       "4  0.442474  0.526040  8.783604    LumB"
      ]
     },
     "execution_count": 3,
     "metadata": {},
     "output_type": "execute_result"
    }
   ],
   "source": [
    "import pandas as pd\n",
    "import numpy as np\n",
    "\n",
    "df = pd.read_csv(\n",
    "    f\"{home}/csc-466-student/data/breast_cancer_three_gene.csv\",index_col=0\n",
    ")\n",
    "df.head()"
   ]
  },
  {
   "cell_type": "markdown",
   "metadata": {},
   "source": [
    "We need to do some simple preprocessing before our neural network can deal with this data. "
   ]
  },
  {
   "cell_type": "code",
   "execution_count": 4,
   "metadata": {
    "tags": []
   },
   "outputs": [
    {
     "data": {
      "text/html": [
       "<div>\n",
       "<style scoped>\n",
       "    .dataframe tbody tr th:only-of-type {\n",
       "        vertical-align: middle;\n",
       "    }\n",
       "\n",
       "    .dataframe tbody tr th {\n",
       "        vertical-align: top;\n",
       "    }\n",
       "\n",
       "    .dataframe thead th {\n",
       "        text-align: right;\n",
       "    }\n",
       "</style>\n",
       "<table border=\"1\" class=\"dataframe\">\n",
       "  <thead>\n",
       "    <tr style=\"text-align: right;\">\n",
       "      <th></th>\n",
       "      <th>ESR1</th>\n",
       "      <th>AURKA</th>\n",
       "      <th>ERBB2</th>\n",
       "    </tr>\n",
       "  </thead>\n",
       "  <tbody>\n",
       "    <tr>\n",
       "      <th>0</th>\n",
       "      <td>0.804501</td>\n",
       "      <td>0.264356</td>\n",
       "      <td>6.941677</td>\n",
       "    </tr>\n",
       "    <tr>\n",
       "      <th>1</th>\n",
       "      <td>0.163597</td>\n",
       "      <td>0.589052</td>\n",
       "      <td>6.551394</td>\n",
       "    </tr>\n",
       "    <tr>\n",
       "      <th>2</th>\n",
       "      <td>0.569347</td>\n",
       "      <td>0.189531</td>\n",
       "      <td>7.056530</td>\n",
       "    </tr>\n",
       "    <tr>\n",
       "      <th>3</th>\n",
       "      <td>0.847584</td>\n",
       "      <td>0.264849</td>\n",
       "      <td>7.028625</td>\n",
       "    </tr>\n",
       "    <tr>\n",
       "      <th>4</th>\n",
       "      <td>0.442474</td>\n",
       "      <td>0.526040</td>\n",
       "      <td>8.783604</td>\n",
       "    </tr>\n",
       "    <tr>\n",
       "      <th>...</th>\n",
       "      <td>...</td>\n",
       "      <td>...</td>\n",
       "      <td>...</td>\n",
       "    </tr>\n",
       "    <tr>\n",
       "      <th>2128</th>\n",
       "      <td>0.635455</td>\n",
       "      <td>0.143977</td>\n",
       "      <td>7.159443</td>\n",
       "    </tr>\n",
       "    <tr>\n",
       "      <th>2129</th>\n",
       "      <td>0.632849</td>\n",
       "      <td>0.258203</td>\n",
       "      <td>7.145417</td>\n",
       "    </tr>\n",
       "    <tr>\n",
       "      <th>2130</th>\n",
       "      <td>0.662344</td>\n",
       "      <td>0.243027</td>\n",
       "      <td>6.936228</td>\n",
       "    </tr>\n",
       "    <tr>\n",
       "      <th>2131</th>\n",
       "      <td>0.086119</td>\n",
       "      <td>0.479997</td>\n",
       "      <td>7.671082</td>\n",
       "    </tr>\n",
       "    <tr>\n",
       "      <th>2132</th>\n",
       "      <td>0.684853</td>\n",
       "      <td>0.295967</td>\n",
       "      <td>7.045126</td>\n",
       "    </tr>\n",
       "  </tbody>\n",
       "</table>\n",
       "<p>2133 rows × 3 columns</p>\n",
       "</div>"
      ],
      "text/plain": [
       "          ESR1     AURKA     ERBB2\n",
       "0     0.804501  0.264356  6.941677\n",
       "1     0.163597  0.589052  6.551394\n",
       "2     0.569347  0.189531  7.056530\n",
       "3     0.847584  0.264849  7.028625\n",
       "4     0.442474  0.526040  8.783604\n",
       "...        ...       ...       ...\n",
       "2128  0.635455  0.143977  7.159443\n",
       "2129  0.632849  0.258203  7.145417\n",
       "2130  0.662344  0.243027  6.936228\n",
       "2131  0.086119  0.479997  7.671082\n",
       "2132  0.684853  0.295967  7.045126\n",
       "\n",
       "[2133 rows x 3 columns]"
      ]
     },
     "execution_count": 4,
     "metadata": {},
     "output_type": "execute_result"
    }
   ],
   "source": [
    "X = df.drop('Subtype',axis=1)#.dropna()\n",
    "X"
   ]
  },
  {
   "cell_type": "code",
   "execution_count": 5,
   "metadata": {
    "tags": []
   },
   "outputs": [
    {
     "data": {
      "text/html": [
       "<div>\n",
       "<style scoped>\n",
       "    .dataframe tbody tr th:only-of-type {\n",
       "        vertical-align: middle;\n",
       "    }\n",
       "\n",
       "    .dataframe tbody tr th {\n",
       "        vertical-align: top;\n",
       "    }\n",
       "\n",
       "    .dataframe thead th {\n",
       "        text-align: right;\n",
       "    }\n",
       "</style>\n",
       "<table border=\"1\" class=\"dataframe\">\n",
       "  <thead>\n",
       "    <tr style=\"text-align: right;\">\n",
       "      <th></th>\n",
       "      <th>AURKA</th>\n",
       "      <th>ERBB2</th>\n",
       "    </tr>\n",
       "  </thead>\n",
       "  <tbody>\n",
       "    <tr>\n",
       "      <th>0</th>\n",
       "      <td>0.264356</td>\n",
       "      <td>6.941677</td>\n",
       "    </tr>\n",
       "    <tr>\n",
       "      <th>1</th>\n",
       "      <td>0.589052</td>\n",
       "      <td>6.551394</td>\n",
       "    </tr>\n",
       "    <tr>\n",
       "      <th>2</th>\n",
       "      <td>0.189531</td>\n",
       "      <td>7.056530</td>\n",
       "    </tr>\n",
       "    <tr>\n",
       "      <th>3</th>\n",
       "      <td>0.264849</td>\n",
       "      <td>7.028625</td>\n",
       "    </tr>\n",
       "    <tr>\n",
       "      <th>4</th>\n",
       "      <td>0.526040</td>\n",
       "      <td>8.783604</td>\n",
       "    </tr>\n",
       "    <tr>\n",
       "      <th>...</th>\n",
       "      <td>...</td>\n",
       "      <td>...</td>\n",
       "    </tr>\n",
       "    <tr>\n",
       "      <th>2128</th>\n",
       "      <td>0.143977</td>\n",
       "      <td>7.159443</td>\n",
       "    </tr>\n",
       "    <tr>\n",
       "      <th>2129</th>\n",
       "      <td>0.258203</td>\n",
       "      <td>7.145417</td>\n",
       "    </tr>\n",
       "    <tr>\n",
       "      <th>2130</th>\n",
       "      <td>0.243027</td>\n",
       "      <td>6.936228</td>\n",
       "    </tr>\n",
       "    <tr>\n",
       "      <th>2131</th>\n",
       "      <td>0.479997</td>\n",
       "      <td>7.671082</td>\n",
       "    </tr>\n",
       "    <tr>\n",
       "      <th>2132</th>\n",
       "      <td>0.295967</td>\n",
       "      <td>7.045126</td>\n",
       "    </tr>\n",
       "  </tbody>\n",
       "</table>\n",
       "<p>2133 rows × 2 columns</p>\n",
       "</div>"
      ],
      "text/plain": [
       "         AURKA     ERBB2\n",
       "0     0.264356  6.941677\n",
       "1     0.589052  6.551394\n",
       "2     0.189531  7.056530\n",
       "3     0.264849  7.028625\n",
       "4     0.526040  8.783604\n",
       "...        ...       ...\n",
       "2128  0.143977  7.159443\n",
       "2129  0.258203  7.145417\n",
       "2130  0.243027  6.936228\n",
       "2131  0.479997  7.671082\n",
       "2132  0.295967  7.045126\n",
       "\n",
       "[2133 rows x 2 columns]"
      ]
     },
     "execution_count": 5,
     "metadata": {},
     "output_type": "execute_result"
    }
   ],
   "source": [
    "t = X['ESR1']\n",
    "X2 = pd.get_dummies(X.drop('ESR1',axis=1))\n",
    "X2"
   ]
  },
  {
   "cell_type": "markdown",
   "metadata": {},
   "source": [
    "#### Exercise 1\n",
    "Implement bagging using regression trees as the (weak) individual learner. You should be able to reach a similar accuray to my implementation."
   ]
  },
  {
   "cell_type": "code",
   "execution_count": 6,
   "metadata": {
    "tags": []
   },
   "outputs": [
    {
     "name": "stdout",
     "output_type": "stream",
     "text": [
      "Our prediction for Fare is off by 0.16748799642382256\n"
     ]
    }
   ],
   "source": [
    "import numpy as np\n",
    "learner = Lab5_helper.get_learner(X2,t) # Here is how to get a single weak learner to help build your ensembles\n",
    "y = learner.predict(X2) # As usual, here is how to get predictions\n",
    "RMSE = np.sqrt(((y-t)**2).sum()/len(t)) # Here is a sample calculation of the root mean squared error\n",
    "print('Our prediction for Fare is off by',RMSE)"
   ]
  },
  {
   "cell_type": "code",
   "execution_count": 7,
   "metadata": {
    "tags": []
   },
   "outputs": [
    {
     "data": {
      "text/plain": [
       "0.2281479711094684"
      ]
     },
     "execution_count": 7,
     "metadata": {},
     "output_type": "execute_result"
    }
   ],
   "source": [
    "from sklearn.model_selection import train_test_split\n",
    "\n",
    "ntrials = 50\n",
    "# when you are debugging you will want to lower this number\n",
    "RMSEs = []\n",
    "for trial in range(ntrials):\n",
    "    X_train, X_test, t_train, t_test = train_test_split(X2, t, test_size=0.25,random_state=trial)\n",
    "    trees = Lab5_helper.make_trees(X_train,t_train,ntrees=100)\n",
    "    y = Lab5_helper.make_prediction(trees,X_test)\n",
    "    RMSEs.append(np.sqrt(((y-t_test)**2).sum()/len(t_test)))\n",
    "np.median(RMSEs)"
   ]
  },
  {
   "cell_type": "markdown",
   "metadata": {},
   "source": [
    "**Problem 1:** How do we know this is behaving as expected when there is so much randomness? This is a very similar to a question about how can we compare two algorithms? Let's examine this by changing the number of trees in bagging between 25 and 100. Then we will see if we can detect a difference.\n",
    "\n",
    "**Upload your solution here:** https://canvas.calpoly.edu/courses/89325/assignments/594359"
   ]
  },
  {
   "cell_type": "code",
   "execution_count": 10,
   "metadata": {
    "tags": []
   },
   "outputs": [],
   "source": [
    "results = pd.DataFrame({'RMSE':RMSEs,'Method':'Bagging (ntrees=100)'})\n",
    "RMSEs = []\n",
    "for trial in range(ntrials):\n",
    "    X_train, X_test, t_train, t_test = train_test_split(X2, t, test_size=0.25,random_state=trial)\n",
    "    trees = Lab5_helper.make_trees(X_train,t_train,ntrees=25)\n",
    "    y = Lab5_helper.make_prediction(trees,X_test)\n",
    "    RMSEs.append(np.sqrt(((y-t_test)**2).sum()/len(t_test)))\n",
    "results2 = pd.DataFrame({'RMSE':RMSEs,'Method':'Bagging (ntrees=25)'})\n",
    "results = pd.concat((results,results2))"
   ]
  },
  {
   "cell_type": "code",
   "execution_count": 11,
   "metadata": {
    "tags": []
   },
   "outputs": [
    {
     "data": {
      "text/plain": [
       "Method\n",
       "Bagging (ntrees=100)    0.229828\n",
       "Bagging (ntrees=25)     0.230253\n",
       "Name: RMSE, dtype: float64"
      ]
     },
     "execution_count": 11,
     "metadata": {},
     "output_type": "execute_result"
    }
   ],
   "source": [
    "results.groupby('Method')['RMSE'].median()"
   ]
  },
  {
   "cell_type": "code",
   "execution_count": 12,
   "metadata": {
    "tags": []
   },
   "outputs": [
    {
     "data": {
      "text/plain": [
       "Method\n",
       "Bagging (ntrees=100)    0.229983\n",
       "Bagging (ntrees=25)     0.229978\n",
       "Name: RMSE, dtype: float64"
      ]
     },
     "execution_count": 12,
     "metadata": {},
     "output_type": "execute_result"
    }
   ],
   "source": [
    "results.groupby('Method')['RMSE'].mean()"
   ]
  },
  {
   "cell_type": "markdown",
   "metadata": {},
   "source": [
    "This looks promising! But what do the statistics tell us?"
   ]
  },
  {
   "cell_type": "code",
   "execution_count": 13,
   "metadata": {
    "tags": []
   },
   "outputs": [
    {
     "data": {
      "text/html": [
       "\n",
       "<style>\n",
       "  #altair-viz-338a44c92d6f48468eb8906cb23cdae1.vega-embed {\n",
       "    width: 100%;\n",
       "    display: flex;\n",
       "  }\n",
       "\n",
       "  #altair-viz-338a44c92d6f48468eb8906cb23cdae1.vega-embed details,\n",
       "  #altair-viz-338a44c92d6f48468eb8906cb23cdae1.vega-embed details summary {\n",
       "    position: relative;\n",
       "  }\n",
       "</style>\n",
       "<div id=\"altair-viz-338a44c92d6f48468eb8906cb23cdae1\"></div>\n",
       "<script type=\"text/javascript\">\n",
       "  var VEGA_DEBUG = (typeof VEGA_DEBUG == \"undefined\") ? {} : VEGA_DEBUG;\n",
       "  (function(spec, embedOpt){\n",
       "    let outputDiv = document.currentScript.previousElementSibling;\n",
       "    if (outputDiv.id !== \"altair-viz-338a44c92d6f48468eb8906cb23cdae1\") {\n",
       "      outputDiv = document.getElementById(\"altair-viz-338a44c92d6f48468eb8906cb23cdae1\");\n",
       "    }\n",
       "    const paths = {\n",
       "      \"vega\": \"https://cdn.jsdelivr.net/npm/vega@5?noext\",\n",
       "      \"vega-lib\": \"https://cdn.jsdelivr.net/npm/vega-lib?noext\",\n",
       "      \"vega-lite\": \"https://cdn.jsdelivr.net/npm/vega-lite@5.8.0?noext\",\n",
       "      \"vega-embed\": \"https://cdn.jsdelivr.net/npm/vega-embed@6?noext\",\n",
       "    };\n",
       "\n",
       "    function maybeLoadScript(lib, version) {\n",
       "      var key = `${lib.replace(\"-\", \"\")}_version`;\n",
       "      return (VEGA_DEBUG[key] == version) ?\n",
       "        Promise.resolve(paths[lib]) :\n",
       "        new Promise(function(resolve, reject) {\n",
       "          var s = document.createElement('script');\n",
       "          document.getElementsByTagName(\"head\")[0].appendChild(s);\n",
       "          s.async = true;\n",
       "          s.onload = () => {\n",
       "            VEGA_DEBUG[key] = version;\n",
       "            return resolve(paths[lib]);\n",
       "          };\n",
       "          s.onerror = () => reject(`Error loading script: ${paths[lib]}`);\n",
       "          s.src = paths[lib];\n",
       "        });\n",
       "    }\n",
       "\n",
       "    function showError(err) {\n",
       "      outputDiv.innerHTML = `<div class=\"error\" style=\"color:red;\">${err}</div>`;\n",
       "      throw err;\n",
       "    }\n",
       "\n",
       "    function displayChart(vegaEmbed) {\n",
       "      vegaEmbed(outputDiv, spec, embedOpt)\n",
       "        .catch(err => showError(`Javascript Error: ${err.message}<br>This usually means there's a typo in your chart specification. See the javascript console for the full traceback.`));\n",
       "    }\n",
       "\n",
       "    if(typeof define === \"function\" && define.amd) {\n",
       "      requirejs.config({paths});\n",
       "      require([\"vega-embed\"], displayChart, err => showError(`Error loading script: ${err.message}`));\n",
       "    } else {\n",
       "      maybeLoadScript(\"vega\", \"5\")\n",
       "        .then(() => maybeLoadScript(\"vega-lite\", \"5.8.0\"))\n",
       "        .then(() => maybeLoadScript(\"vega-embed\", \"6\"))\n",
       "        .catch(showError)\n",
       "        .then(() => displayChart(vegaEmbed));\n",
       "    }\n",
       "  })({\"config\": {\"view\": {\"continuousWidth\": 300, \"continuousHeight\": 300}}, \"data\": {\"name\": \"data-ab91f407e34ff3c73e7805a3b2ba97ce\"}, \"mark\": {\"type\": \"boxplot\"}, \"encoding\": {\"x\": {\"field\": \"Method\", \"type\": \"nominal\"}, \"y\": {\"field\": \"RMSE\", \"type\": \"quantitative\"}}, \"width\": 300, \"$schema\": \"https://vega.github.io/schema/vega-lite/v5.8.0.json\", \"datasets\": {\"data-ab91f407e34ff3c73e7805a3b2ba97ce\": [{\"RMSE\": 0.21973342440107393, \"Method\": \"Bagging (ntrees=100)\"}, {\"RMSE\": 0.23168985739867212, \"Method\": \"Bagging (ntrees=100)\"}, {\"RMSE\": 0.2271370419602681, \"Method\": \"Bagging (ntrees=100)\"}, {\"RMSE\": 0.2264188347586091, \"Method\": \"Bagging (ntrees=100)\"}, {\"RMSE\": 0.22542909721677998, \"Method\": \"Bagging (ntrees=100)\"}, {\"RMSE\": 0.23239686002780288, \"Method\": \"Bagging (ntrees=100)\"}, {\"RMSE\": 0.23896975998036987, \"Method\": \"Bagging (ntrees=100)\"}, {\"RMSE\": 0.22599936751955604, \"Method\": \"Bagging (ntrees=100)\"}, {\"RMSE\": 0.2270189831435331, \"Method\": \"Bagging (ntrees=100)\"}, {\"RMSE\": 0.2343795809075679, \"Method\": \"Bagging (ntrees=100)\"}, {\"RMSE\": 0.23951864954961977, \"Method\": \"Bagging (ntrees=100)\"}, {\"RMSE\": 0.22732109660996278, \"Method\": \"Bagging (ntrees=100)\"}, {\"RMSE\": 0.2296042309337072, \"Method\": \"Bagging (ntrees=100)\"}, {\"RMSE\": 0.23306887345269228, \"Method\": \"Bagging (ntrees=100)\"}, {\"RMSE\": 0.22457435074156606, \"Method\": \"Bagging (ntrees=100)\"}, {\"RMSE\": 0.2273799863135227, \"Method\": \"Bagging (ntrees=100)\"}, {\"RMSE\": 0.2350160403515223, \"Method\": \"Bagging (ntrees=100)\"}, {\"RMSE\": 0.22714634501964515, \"Method\": \"Bagging (ntrees=100)\"}, {\"RMSE\": 0.22824677179992983, \"Method\": \"Bagging (ntrees=100)\"}, {\"RMSE\": 0.2227654438810955, \"Method\": \"Bagging (ntrees=100)\"}, {\"RMSE\": 0.22604379048979628, \"Method\": \"Bagging (ntrees=100)\"}, {\"RMSE\": 0.226361688193324, \"Method\": \"Bagging (ntrees=100)\"}, {\"RMSE\": 0.23246795904885592, \"Method\": \"Bagging (ntrees=100)\"}, {\"RMSE\": 0.23074902387353927, \"Method\": \"Bagging (ntrees=100)\"}, {\"RMSE\": 0.2337061208076663, \"Method\": \"Bagging (ntrees=100)\"}, {\"RMSE\": 0.2381295786541823, \"Method\": \"Bagging (ntrees=100)\"}, {\"RMSE\": 0.22406924942423273, \"Method\": \"Bagging (ntrees=100)\"}, {\"RMSE\": 0.23090174394679136, \"Method\": \"Bagging (ntrees=100)\"}, {\"RMSE\": 0.23452377751585773, \"Method\": \"Bagging (ntrees=100)\"}, {\"RMSE\": 0.23811901595301463, \"Method\": \"Bagging (ntrees=100)\"}, {\"RMSE\": 0.23385272820498465, \"Method\": \"Bagging (ntrees=100)\"}, {\"RMSE\": 0.22668945945242266, \"Method\": \"Bagging (ntrees=100)\"}, {\"RMSE\": 0.2241350077170619, \"Method\": \"Bagging (ntrees=100)\"}, {\"RMSE\": 0.23122046976027552, \"Method\": \"Bagging (ntrees=100)\"}, {\"RMSE\": 0.2204532322898531, \"Method\": \"Bagging (ntrees=100)\"}, {\"RMSE\": 0.23751637505745266, \"Method\": \"Bagging (ntrees=100)\"}, {\"RMSE\": 0.2319059471819556, \"Method\": \"Bagging (ntrees=100)\"}, {\"RMSE\": 0.22555373054513603, \"Method\": \"Bagging (ntrees=100)\"}, {\"RMSE\": 0.2300511448423432, \"Method\": \"Bagging (ntrees=100)\"}, {\"RMSE\": 0.24453670079898668, \"Method\": \"Bagging (ntrees=100)\"}, {\"RMSE\": 0.22549509394270553, \"Method\": \"Bagging (ntrees=100)\"}, {\"RMSE\": 0.23476069386883416, \"Method\": \"Bagging (ntrees=100)\"}, {\"RMSE\": 0.22835656796863651, \"Method\": \"Bagging (ntrees=100)\"}, {\"RMSE\": 0.23115398436294876, \"Method\": \"Bagging (ntrees=100)\"}, {\"RMSE\": 0.22848543117292577, \"Method\": \"Bagging (ntrees=100)\"}, {\"RMSE\": 0.23353503380518598, \"Method\": \"Bagging (ntrees=100)\"}, {\"RMSE\": 0.24054920234405425, \"Method\": \"Bagging (ntrees=100)\"}, {\"RMSE\": 0.2345468523720348, \"Method\": \"Bagging (ntrees=100)\"}, {\"RMSE\": 0.21741619220512307, \"Method\": \"Bagging (ntrees=100)\"}, {\"RMSE\": 0.22005382424673936, \"Method\": \"Bagging (ntrees=100)\"}, {\"RMSE\": 0.21879899068604142, \"Method\": \"Bagging (ntrees=25)\"}, {\"RMSE\": 0.23572818595374118, \"Method\": \"Bagging (ntrees=25)\"}, {\"RMSE\": 0.23153031704288177, \"Method\": \"Bagging (ntrees=25)\"}, {\"RMSE\": 0.22391059081000753, \"Method\": \"Bagging (ntrees=25)\"}, {\"RMSE\": 0.22098243650409233, \"Method\": \"Bagging (ntrees=25)\"}, {\"RMSE\": 0.23167963501100652, \"Method\": \"Bagging (ntrees=25)\"}, {\"RMSE\": 0.24018674066893145, \"Method\": \"Bagging (ntrees=25)\"}, {\"RMSE\": 0.22894234214314169, \"Method\": \"Bagging (ntrees=25)\"}, {\"RMSE\": 0.23178572205562595, \"Method\": \"Bagging (ntrees=25)\"}, {\"RMSE\": 0.2390125841031198, \"Method\": \"Bagging (ntrees=25)\"}, {\"RMSE\": 0.24036764619805942, \"Method\": \"Bagging (ntrees=25)\"}, {\"RMSE\": 0.22481585789330108, \"Method\": \"Bagging (ntrees=25)\"}, {\"RMSE\": 0.2308653863141106, \"Method\": \"Bagging (ntrees=25)\"}, {\"RMSE\": 0.23049572272953348, \"Method\": \"Bagging (ntrees=25)\"}, {\"RMSE\": 0.2228926168980904, \"Method\": \"Bagging (ntrees=25)\"}, {\"RMSE\": 0.22902090767098512, \"Method\": \"Bagging (ntrees=25)\"}, {\"RMSE\": 0.23473939455307702, \"Method\": \"Bagging (ntrees=25)\"}, {\"RMSE\": 0.22553111770927284, \"Method\": \"Bagging (ntrees=25)\"}, {\"RMSE\": 0.2289569821351711, \"Method\": \"Bagging (ntrees=25)\"}, {\"RMSE\": 0.21866432282500603, \"Method\": \"Bagging (ntrees=25)\"}, {\"RMSE\": 0.22571490034504343, \"Method\": \"Bagging (ntrees=25)\"}, {\"RMSE\": 0.2292334228221728, \"Method\": \"Bagging (ntrees=25)\"}, {\"RMSE\": 0.23163281607501585, \"Method\": \"Bagging (ntrees=25)\"}, {\"RMSE\": 0.22992174778696106, \"Method\": \"Bagging (ntrees=25)\"}, {\"RMSE\": 0.2309961462873952, \"Method\": \"Bagging (ntrees=25)\"}, {\"RMSE\": 0.23618063218283064, \"Method\": \"Bagging (ntrees=25)\"}, {\"RMSE\": 0.22522373973759124, \"Method\": \"Bagging (ntrees=25)\"}, {\"RMSE\": 0.23610803945418596, \"Method\": \"Bagging (ntrees=25)\"}, {\"RMSE\": 0.23155329480277714, \"Method\": \"Bagging (ntrees=25)\"}, {\"RMSE\": 0.2375829314357279, \"Method\": \"Bagging (ntrees=25)\"}, {\"RMSE\": 0.23573478932234818, \"Method\": \"Bagging (ntrees=25)\"}, {\"RMSE\": 0.22570886432220977, \"Method\": \"Bagging (ntrees=25)\"}, {\"RMSE\": 0.22210203487687, \"Method\": \"Bagging (ntrees=25)\"}, {\"RMSE\": 0.2321083146695493, \"Method\": \"Bagging (ntrees=25)\"}, {\"RMSE\": 0.21959166803214045, \"Method\": \"Bagging (ntrees=25)\"}, {\"RMSE\": 0.23758351499625308, \"Method\": \"Bagging (ntrees=25)\"}, {\"RMSE\": 0.230010572738305, \"Method\": \"Bagging (ntrees=25)\"}, {\"RMSE\": 0.22369361066395346, \"Method\": \"Bagging (ntrees=25)\"}, {\"RMSE\": 0.22672547163474369, \"Method\": \"Bagging (ntrees=25)\"}, {\"RMSE\": 0.24743303311694284, \"Method\": \"Bagging (ntrees=25)\"}, {\"RMSE\": 0.22848201447423666, \"Method\": \"Bagging (ntrees=25)\"}, {\"RMSE\": 0.23523054758370407, \"Method\": \"Bagging (ntrees=25)\"}, {\"RMSE\": 0.22837412673095261, \"Method\": \"Bagging (ntrees=25)\"}, {\"RMSE\": 0.23468489845835167, \"Method\": \"Bagging (ntrees=25)\"}, {\"RMSE\": 0.2277134131371179, \"Method\": \"Bagging (ntrees=25)\"}, {\"RMSE\": 0.23102721096444426, \"Method\": \"Bagging (ntrees=25)\"}, {\"RMSE\": 0.2377857744543373, \"Method\": \"Bagging (ntrees=25)\"}, {\"RMSE\": 0.23626828907702427, \"Method\": \"Bagging (ntrees=25)\"}, {\"RMSE\": 0.21866407556192252, \"Method\": \"Bagging (ntrees=25)\"}, {\"RMSE\": 0.21690475686897542, \"Method\": \"Bagging (ntrees=25)\"}]}}, {\"mode\": \"vega-lite\"});\n",
       "</script>"
      ],
      "text/plain": [
       "alt.Chart(...)"
      ]
     },
     "execution_count": 13,
     "metadata": {},
     "output_type": "execute_result"
    }
   ],
   "source": [
    "import altair as alt\n",
    "\n",
    "alt.Chart(results).mark_boxplot().encode(\n",
    "    alt.Y(\"RMSE:Q\"),\n",
    "    x='Method',\n",
    ").properties(width=300)"
   ]
  },
  {
   "cell_type": "markdown",
   "metadata": {},
   "source": [
    "For a moment, let's not worry that the underlying distributions do not look normal. We know how to compare the average of two distributions, the t-test. Let's see what that says:"
   ]
  },
  {
   "cell_type": "code",
   "execution_count": 14,
   "metadata": {
    "tags": []
   },
   "outputs": [
    {
     "data": {
      "text/html": [
       "<div>\n",
       "<style scoped>\n",
       "    .dataframe tbody tr th:only-of-type {\n",
       "        vertical-align: middle;\n",
       "    }\n",
       "\n",
       "    .dataframe tbody tr th {\n",
       "        vertical-align: top;\n",
       "    }\n",
       "\n",
       "    .dataframe thead tr th {\n",
       "        text-align: left;\n",
       "    }\n",
       "</style>\n",
       "<table border=\"1\" class=\"dataframe\">\n",
       "  <thead>\n",
       "    <tr>\n",
       "      <th></th>\n",
       "      <th colspan=\"2\" halign=\"left\">RMSE</th>\n",
       "    </tr>\n",
       "    <tr>\n",
       "      <th>Method</th>\n",
       "      <th>Bagging (ntrees=100)</th>\n",
       "      <th>Bagging (ntrees=25)</th>\n",
       "    </tr>\n",
       "  </thead>\n",
       "  <tbody>\n",
       "    <tr>\n",
       "      <th>0</th>\n",
       "      <td>0.219733</td>\n",
       "      <td>0.218799</td>\n",
       "    </tr>\n",
       "    <tr>\n",
       "      <th>1</th>\n",
       "      <td>0.231690</td>\n",
       "      <td>0.235728</td>\n",
       "    </tr>\n",
       "    <tr>\n",
       "      <th>2</th>\n",
       "      <td>0.227137</td>\n",
       "      <td>0.231530</td>\n",
       "    </tr>\n",
       "    <tr>\n",
       "      <th>3</th>\n",
       "      <td>0.226419</td>\n",
       "      <td>0.223911</td>\n",
       "    </tr>\n",
       "    <tr>\n",
       "      <th>4</th>\n",
       "      <td>0.225429</td>\n",
       "      <td>0.220982</td>\n",
       "    </tr>\n",
       "  </tbody>\n",
       "</table>\n",
       "</div>"
      ],
      "text/plain": [
       "                       RMSE                    \n",
       "Method Bagging (ntrees=100) Bagging (ntrees=25)\n",
       "0                  0.219733            0.218799\n",
       "1                  0.231690            0.235728\n",
       "2                  0.227137            0.231530\n",
       "3                  0.226419            0.223911\n",
       "4                  0.225429            0.220982"
      ]
     },
     "execution_count": 14,
     "metadata": {},
     "output_type": "execute_result"
    }
   ],
   "source": [
    "pivot_results = results.pivot(columns='Method')\n",
    "pivot_results.head()"
   ]
  },
  {
   "cell_type": "code",
   "execution_count": 15,
   "metadata": {
    "tags": []
   },
   "outputs": [
    {
     "data": {
      "text/plain": [
       "MultiIndex([('RMSE', 'Bagging (ntrees=100)'),\n",
       "            ('RMSE',  'Bagging (ntrees=25)')],\n",
       "           names=[None, 'Method'])"
      ]
     },
     "execution_count": 15,
     "metadata": {},
     "output_type": "execute_result"
    }
   ],
   "source": [
    "pivot_results.columns"
   ]
  },
  {
   "cell_type": "code",
   "execution_count": 17,
   "metadata": {
    "tags": []
   },
   "outputs": [
    {
     "data": {
      "text/plain": [
       "TtestResult(statistic=0.004395061999961273, pvalue=0.9965021935029282, df=98.0)"
      ]
     },
     "execution_count": 17,
     "metadata": {},
     "output_type": "execute_result"
    }
   ],
   "source": [
    "from scipy import stats\n",
    "stats.ttest_ind(pivot_results[('RMSE', 'Bagging (ntrees=100)')],pivot_results[('RMSE', 'Bagging (ntrees=25)')],equal_var = True)"
   ]
  },
  {
   "cell_type": "markdown",
   "metadata": {},
   "source": [
    "So according to this test, we do not see any significant difference between the results."
   ]
  },
  {
   "cell_type": "markdown",
   "metadata": {},
   "source": [
    "**Problem 2.** What if you only used 2 trees? Is there a significant difference between 2 and 25 trees?\n",
    "\n",
    "**Upload your solution here:** https://canvas.calpoly.edu/courses/89325/assignments/594360"
   ]
  },
  {
   "cell_type": "code",
   "execution_count": 19,
   "metadata": {
    "tags": []
   },
   "outputs": [],
   "source": [
    "RMSEs = []\n",
    "for trial in range(ntrials):\n",
    "    X_train, X_test, t_train, t_test = train_test_split(X2, t, test_size=0.25,random_state=trial)\n",
    "    trees = Lab5_helper.make_trees(X_train,t_train,ntrees=2)\n",
    "    y = Lab5_helper.make_prediction(trees,X_test)\n",
    "    RMSEs.append(np.sqrt(((y-t_test)**2).sum()/len(t_test)))\n",
    "results2 = pd.DataFrame({'RMSE':RMSEs,'Method':'Bagging (ntrees=2)'})\n",
    "results = pd.concat((results,results2))"
   ]
  },
  {
   "cell_type": "code",
   "execution_count": 20,
   "metadata": {
    "tags": []
   },
   "outputs": [
    {
     "data": {
      "text/plain": [
       "Method\n",
       "Bagging (ntrees=100)    0.229983\n",
       "Bagging (ntrees=2)      0.253479\n",
       "Bagging (ntrees=25)     0.229978\n",
       "Name: RMSE, dtype: float64"
      ]
     },
     "execution_count": 20,
     "metadata": {},
     "output_type": "execute_result"
    }
   ],
   "source": [
    "results.groupby('Method')['RMSE'].mean()"
   ]
  },
  {
   "cell_type": "code",
   "execution_count": 21,
   "metadata": {
    "tags": []
   },
   "outputs": [
    {
     "data": {
      "text/html": [
       "<div>\n",
       "<style scoped>\n",
       "    .dataframe tbody tr th:only-of-type {\n",
       "        vertical-align: middle;\n",
       "    }\n",
       "\n",
       "    .dataframe tbody tr th {\n",
       "        vertical-align: top;\n",
       "    }\n",
       "\n",
       "    .dataframe thead tr th {\n",
       "        text-align: left;\n",
       "    }\n",
       "</style>\n",
       "<table border=\"1\" class=\"dataframe\">\n",
       "  <thead>\n",
       "    <tr>\n",
       "      <th></th>\n",
       "      <th colspan=\"3\" halign=\"left\">RMSE</th>\n",
       "    </tr>\n",
       "    <tr>\n",
       "      <th>Method</th>\n",
       "      <th>Bagging (ntrees=100)</th>\n",
       "      <th>Bagging (ntrees=2)</th>\n",
       "      <th>Bagging (ntrees=25)</th>\n",
       "    </tr>\n",
       "  </thead>\n",
       "  <tbody>\n",
       "    <tr>\n",
       "      <th>0</th>\n",
       "      <td>0.219733</td>\n",
       "      <td>0.246108</td>\n",
       "      <td>0.218799</td>\n",
       "    </tr>\n",
       "    <tr>\n",
       "      <th>1</th>\n",
       "      <td>0.231690</td>\n",
       "      <td>0.249059</td>\n",
       "      <td>0.235728</td>\n",
       "    </tr>\n",
       "    <tr>\n",
       "      <th>2</th>\n",
       "      <td>0.227137</td>\n",
       "      <td>0.254234</td>\n",
       "      <td>0.231530</td>\n",
       "    </tr>\n",
       "    <tr>\n",
       "      <th>3</th>\n",
       "      <td>0.226419</td>\n",
       "      <td>0.241510</td>\n",
       "      <td>0.223911</td>\n",
       "    </tr>\n",
       "    <tr>\n",
       "      <th>4</th>\n",
       "      <td>0.225429</td>\n",
       "      <td>0.251730</td>\n",
       "      <td>0.220982</td>\n",
       "    </tr>\n",
       "  </tbody>\n",
       "</table>\n",
       "</div>"
      ],
      "text/plain": [
       "                       RMSE                                       \n",
       "Method Bagging (ntrees=100) Bagging (ntrees=2) Bagging (ntrees=25)\n",
       "0                  0.219733           0.246108            0.218799\n",
       "1                  0.231690           0.249059            0.235728\n",
       "2                  0.227137           0.254234            0.231530\n",
       "3                  0.226419           0.241510            0.223911\n",
       "4                  0.225429           0.251730            0.220982"
      ]
     },
     "execution_count": 21,
     "metadata": {},
     "output_type": "execute_result"
    }
   ],
   "source": [
    "pivot_results = results.pivot(columns='Method')\n",
    "pivot_results.head()"
   ]
  },
  {
   "cell_type": "code",
   "execution_count": 23,
   "metadata": {
    "tags": []
   },
   "outputs": [
    {
     "data": {
      "text/plain": [
       "TtestResult(statistic=-18.03839112381544, pvalue=6.625249993949865e-33, df=98.0)"
      ]
     },
     "execution_count": 23,
     "metadata": {},
     "output_type": "execute_result"
    }
   ],
   "source": [
    "stats.ttest_ind(pivot_results[('RMSE', 'Bagging (ntrees=100)')],pivot_results[('RMSE', 'Bagging (ntrees=2)')],equal_var = True)"
   ]
  },
  {
   "cell_type": "markdown",
   "metadata": {},
   "source": [
    "Finally, we can report a p-value < 0.05! Even if we were to discuss multiple test correction at this time, this would still be a significant result. So bagging is helping us!"
   ]
  },
  {
   "cell_type": "markdown",
   "metadata": {},
   "source": [
    "#### Exercise 2\n",
    "Implement boosting using regression trees as the (weak) individual learner. You should be able to reach a similar accuray to my implementation."
   ]
  },
  {
   "cell_type": "code",
   "execution_count": 25,
   "metadata": {
    "tags": []
   },
   "outputs": [],
   "source": [
    "RMSEs = []\n",
    "for trial in range(ntrials):\n",
    "    X_train, X_test, t_train, t_test = train_test_split(X2, t, test_size=0.25,random_state=trial)\n",
    "    X_train2, X_val, t_train2, t_val = train_test_split(X_train, t_train, test_size=0.25,random_state=trial)\n",
    "    trees,train_RMSEs,val_RMSEs = Lab5_helper.make_trees_boost(X_train2, X_val, t_train2, t_val, max_ntrees=100)\n",
    "    trees = Lab5_helper.cut_trees(trees,val_RMSEs)\n",
    "    y = Lab5_helper.make_prediction_boost(trees,X_test)\n",
    "    RMSEs.append(np.sqrt(((y-t_test)**2).sum()/len(t_test)))\n",
    "results2 = pd.DataFrame({'RMSE':RMSEs,'Method':'Boosting (max_ntrees=100)'})\n",
    "results = pd.concat((results,results2))"
   ]
  },
  {
   "cell_type": "code",
   "execution_count": 26,
   "metadata": {
    "tags": []
   },
   "outputs": [
    {
     "data": {
      "text/html": [
       "\n",
       "<style>\n",
       "  #altair-viz-2895cd1017ad42f0ab0810642df18a61.vega-embed {\n",
       "    width: 100%;\n",
       "    display: flex;\n",
       "  }\n",
       "\n",
       "  #altair-viz-2895cd1017ad42f0ab0810642df18a61.vega-embed details,\n",
       "  #altair-viz-2895cd1017ad42f0ab0810642df18a61.vega-embed details summary {\n",
       "    position: relative;\n",
       "  }\n",
       "</style>\n",
       "<div id=\"altair-viz-2895cd1017ad42f0ab0810642df18a61\"></div>\n",
       "<script type=\"text/javascript\">\n",
       "  var VEGA_DEBUG = (typeof VEGA_DEBUG == \"undefined\") ? {} : VEGA_DEBUG;\n",
       "  (function(spec, embedOpt){\n",
       "    let outputDiv = document.currentScript.previousElementSibling;\n",
       "    if (outputDiv.id !== \"altair-viz-2895cd1017ad42f0ab0810642df18a61\") {\n",
       "      outputDiv = document.getElementById(\"altair-viz-2895cd1017ad42f0ab0810642df18a61\");\n",
       "    }\n",
       "    const paths = {\n",
       "      \"vega\": \"https://cdn.jsdelivr.net/npm/vega@5?noext\",\n",
       "      \"vega-lib\": \"https://cdn.jsdelivr.net/npm/vega-lib?noext\",\n",
       "      \"vega-lite\": \"https://cdn.jsdelivr.net/npm/vega-lite@5.8.0?noext\",\n",
       "      \"vega-embed\": \"https://cdn.jsdelivr.net/npm/vega-embed@6?noext\",\n",
       "    };\n",
       "\n",
       "    function maybeLoadScript(lib, version) {\n",
       "      var key = `${lib.replace(\"-\", \"\")}_version`;\n",
       "      return (VEGA_DEBUG[key] == version) ?\n",
       "        Promise.resolve(paths[lib]) :\n",
       "        new Promise(function(resolve, reject) {\n",
       "          var s = document.createElement('script');\n",
       "          document.getElementsByTagName(\"head\")[0].appendChild(s);\n",
       "          s.async = true;\n",
       "          s.onload = () => {\n",
       "            VEGA_DEBUG[key] = version;\n",
       "            return resolve(paths[lib]);\n",
       "          };\n",
       "          s.onerror = () => reject(`Error loading script: ${paths[lib]}`);\n",
       "          s.src = paths[lib];\n",
       "        });\n",
       "    }\n",
       "\n",
       "    function showError(err) {\n",
       "      outputDiv.innerHTML = `<div class=\"error\" style=\"color:red;\">${err}</div>`;\n",
       "      throw err;\n",
       "    }\n",
       "\n",
       "    function displayChart(vegaEmbed) {\n",
       "      vegaEmbed(outputDiv, spec, embedOpt)\n",
       "        .catch(err => showError(`Javascript Error: ${err.message}<br>This usually means there's a typo in your chart specification. See the javascript console for the full traceback.`));\n",
       "    }\n",
       "\n",
       "    if(typeof define === \"function\" && define.amd) {\n",
       "      requirejs.config({paths});\n",
       "      require([\"vega-embed\"], displayChart, err => showError(`Error loading script: ${err.message}`));\n",
       "    } else {\n",
       "      maybeLoadScript(\"vega\", \"5\")\n",
       "        .then(() => maybeLoadScript(\"vega-lite\", \"5.8.0\"))\n",
       "        .then(() => maybeLoadScript(\"vega-embed\", \"6\"))\n",
       "        .catch(showError)\n",
       "        .then(() => displayChart(vegaEmbed));\n",
       "    }\n",
       "  })({\"config\": {\"view\": {\"continuousWidth\": 300, \"continuousHeight\": 300}}, \"data\": {\"name\": \"data-b04b61307e60bade98a7aad5b7590147\"}, \"mark\": {\"type\": \"line\"}, \"encoding\": {\"color\": {\"field\": \"variable\", \"type\": \"nominal\"}, \"x\": {\"field\": \"ntrees\", \"type\": \"quantitative\"}, \"y\": {\"field\": \"value\", \"scale\": {\"domain\": [0.1, 0.3]}, \"type\": \"quantitative\"}}, \"width\": 500, \"$schema\": \"https://vega.github.io/schema/vega-lite/v5.8.0.json\", \"datasets\": {\"data-b04b61307e60bade98a7aad5b7590147\": [{\"ntrees\": 0, \"variable\": \"train_RMSE\", \"value\": 0.23361175722869007}, {\"ntrees\": 1, \"variable\": \"train_RMSE\", \"value\": 0.22467289521860842}, {\"ntrees\": 2, \"variable\": \"train_RMSE\", \"value\": 0.2203789445442496}, {\"ntrees\": 3, \"variable\": \"train_RMSE\", \"value\": 0.21788041804241934}, {\"ntrees\": 4, \"variable\": \"train_RMSE\", \"value\": 0.21720982515620177}, {\"ntrees\": 5, \"variable\": \"train_RMSE\", \"value\": 0.21552887790550979}, {\"ntrees\": 6, \"variable\": \"train_RMSE\", \"value\": 0.21374371962201774}, {\"ntrees\": 7, \"variable\": \"train_RMSE\", \"value\": 0.21245305316595015}, {\"ntrees\": 8, \"variable\": \"train_RMSE\", \"value\": 0.21053779017866323}, {\"ntrees\": 9, \"variable\": \"train_RMSE\", \"value\": 0.20886199077242953}, {\"ntrees\": 10, \"variable\": \"train_RMSE\", \"value\": 0.20712022394436616}, {\"ntrees\": 11, \"variable\": \"train_RMSE\", \"value\": 0.20672017054224032}, {\"ntrees\": 12, \"variable\": \"train_RMSE\", \"value\": 0.20587828391840005}, {\"ntrees\": 13, \"variable\": \"train_RMSE\", \"value\": 0.20544861132431877}, {\"ntrees\": 14, \"variable\": \"train_RMSE\", \"value\": 0.2048346954228424}, {\"ntrees\": 15, \"variable\": \"train_RMSE\", \"value\": 0.2035205397819556}, {\"ntrees\": 16, \"variable\": \"train_RMSE\", \"value\": 0.20286793439479223}, {\"ntrees\": 17, \"variable\": \"train_RMSE\", \"value\": 0.20129158382258575}, {\"ntrees\": 18, \"variable\": \"train_RMSE\", \"value\": 0.20010736275706562}, {\"ntrees\": 19, \"variable\": \"train_RMSE\", \"value\": 0.19919345006446754}, {\"ntrees\": 20, \"variable\": \"train_RMSE\", \"value\": 0.19895216434417928}, {\"ntrees\": 21, \"variable\": \"train_RMSE\", \"value\": 0.19812804234784298}, {\"ntrees\": 22, \"variable\": \"train_RMSE\", \"value\": 0.19747128125581973}, {\"ntrees\": 23, \"variable\": \"train_RMSE\", \"value\": 0.19657358462326335}, {\"ntrees\": 24, \"variable\": \"train_RMSE\", \"value\": 0.19608302516197298}, {\"ntrees\": 25, \"variable\": \"train_RMSE\", \"value\": 0.19479443357672674}, {\"ntrees\": 26, \"variable\": \"train_RMSE\", \"value\": 0.19237033383852625}, {\"ntrees\": 27, \"variable\": \"train_RMSE\", \"value\": 0.19211474149366173}, {\"ntrees\": 28, \"variable\": \"train_RMSE\", \"value\": 0.19135644632680948}, {\"ntrees\": 29, \"variable\": \"train_RMSE\", \"value\": 0.1908610465351189}, {\"ntrees\": 30, \"variable\": \"train_RMSE\", \"value\": 0.19009192647488787}, {\"ntrees\": 31, \"variable\": \"train_RMSE\", \"value\": 0.189509808766116}, {\"ntrees\": 32, \"variable\": \"train_RMSE\", \"value\": 0.18929168751030154}, {\"ntrees\": 33, \"variable\": \"train_RMSE\", \"value\": 0.1879696515477533}, {\"ntrees\": 34, \"variable\": \"train_RMSE\", \"value\": 0.18684976710761927}, {\"ntrees\": 35, \"variable\": \"train_RMSE\", \"value\": 0.18646417582671837}, {\"ntrees\": 36, \"variable\": \"train_RMSE\", \"value\": 0.18613043223689557}, {\"ntrees\": 37, \"variable\": \"train_RMSE\", \"value\": 0.1847914749004286}, {\"ntrees\": 38, \"variable\": \"train_RMSE\", \"value\": 0.1837024342857772}, {\"ntrees\": 39, \"variable\": \"train_RMSE\", \"value\": 0.18230887948734958}, {\"ntrees\": 40, \"variable\": \"train_RMSE\", \"value\": 0.18216870902587426}, {\"ntrees\": 41, \"variable\": \"train_RMSE\", \"value\": 0.18100083273345663}, {\"ntrees\": 42, \"variable\": \"train_RMSE\", \"value\": 0.18034087924669126}, {\"ntrees\": 43, \"variable\": \"train_RMSE\", \"value\": 0.17989825205381435}, {\"ntrees\": 44, \"variable\": \"train_RMSE\", \"value\": 0.17966146428166282}, {\"ntrees\": 45, \"variable\": \"train_RMSE\", \"value\": 0.179398066093959}, {\"ntrees\": 46, \"variable\": \"train_RMSE\", \"value\": 0.179298761908683}, {\"ntrees\": 47, \"variable\": \"train_RMSE\", \"value\": 0.17870837679998047}, {\"ntrees\": 48, \"variable\": \"train_RMSE\", \"value\": 0.17812223768851848}, {\"ntrees\": 49, \"variable\": \"train_RMSE\", \"value\": 0.17702048072435167}, {\"ntrees\": 50, \"variable\": \"train_RMSE\", \"value\": 0.1760188583797206}, {\"ntrees\": 51, \"variable\": \"train_RMSE\", \"value\": 0.17523783097344936}, {\"ntrees\": 52, \"variable\": \"train_RMSE\", \"value\": 0.17473332094408514}, {\"ntrees\": 53, \"variable\": \"train_RMSE\", \"value\": 0.1742728350691829}, {\"ntrees\": 54, \"variable\": \"train_RMSE\", \"value\": 0.17292044227568926}, {\"ntrees\": 55, \"variable\": \"train_RMSE\", \"value\": 0.17245778297558545}, {\"ntrees\": 56, \"variable\": \"train_RMSE\", \"value\": 0.17165797207469224}, {\"ntrees\": 57, \"variable\": \"train_RMSE\", \"value\": 0.171000519281327}, {\"ntrees\": 58, \"variable\": \"train_RMSE\", \"value\": 0.16989451284822463}, {\"ntrees\": 59, \"variable\": \"train_RMSE\", \"value\": 0.16856926218057444}, {\"ntrees\": 60, \"variable\": \"train_RMSE\", \"value\": 0.16796761970488058}, {\"ntrees\": 61, \"variable\": \"train_RMSE\", \"value\": 0.16727120932971953}, {\"ntrees\": 62, \"variable\": \"train_RMSE\", \"value\": 0.16666698798131688}, {\"ntrees\": 63, \"variable\": \"train_RMSE\", \"value\": 0.16628783625879934}, {\"ntrees\": 64, \"variable\": \"train_RMSE\", \"value\": 0.16621466332854445}, {\"ntrees\": 65, \"variable\": \"train_RMSE\", \"value\": 0.16557402843202912}, {\"ntrees\": 66, \"variable\": \"train_RMSE\", \"value\": 0.16526236431318495}, {\"ntrees\": 67, \"variable\": \"train_RMSE\", \"value\": 0.16483457027848888}, {\"ntrees\": 68, \"variable\": \"train_RMSE\", \"value\": 0.16427119399268889}, {\"ntrees\": 69, \"variable\": \"train_RMSE\", \"value\": 0.1631623416719142}, {\"ntrees\": 70, \"variable\": \"train_RMSE\", \"value\": 0.16214946038369626}, {\"ntrees\": 71, \"variable\": \"train_RMSE\", \"value\": 0.1617093350028622}, {\"ntrees\": 72, \"variable\": \"train_RMSE\", \"value\": 0.16074984720594168}, {\"ntrees\": 73, \"variable\": \"train_RMSE\", \"value\": 0.15965871343771185}, {\"ntrees\": 74, \"variable\": \"train_RMSE\", \"value\": 0.1593336643699821}, {\"ntrees\": 75, \"variable\": \"train_RMSE\", \"value\": 0.1589914985757942}, {\"ntrees\": 76, \"variable\": \"train_RMSE\", \"value\": 0.1584769575483242}, {\"ntrees\": 77, \"variable\": \"train_RMSE\", \"value\": 0.1576605288931892}, {\"ntrees\": 78, \"variable\": \"train_RMSE\", \"value\": 0.15731155485432397}, {\"ntrees\": 79, \"variable\": \"train_RMSE\", \"value\": 0.15685232065003663}, {\"ntrees\": 80, \"variable\": \"train_RMSE\", \"value\": 0.15605587399651485}, {\"ntrees\": 81, \"variable\": \"train_RMSE\", \"value\": 0.15536463002820713}, {\"ntrees\": 82, \"variable\": \"train_RMSE\", \"value\": 0.15474880384241804}, {\"ntrees\": 83, \"variable\": \"train_RMSE\", \"value\": 0.15402226931761473}, {\"ntrees\": 84, \"variable\": \"train_RMSE\", \"value\": 0.15378880091131855}, {\"ntrees\": 85, \"variable\": \"train_RMSE\", \"value\": 0.15354762077760617}, {\"ntrees\": 86, \"variable\": \"train_RMSE\", \"value\": 0.15317516361953615}, {\"ntrees\": 87, \"variable\": \"train_RMSE\", \"value\": 0.1521426116831314}, {\"ntrees\": 88, \"variable\": \"train_RMSE\", \"value\": 0.15156687802946375}, {\"ntrees\": 89, \"variable\": \"train_RMSE\", \"value\": 0.15090136356415765}, {\"ntrees\": 90, \"variable\": \"train_RMSE\", \"value\": 0.14967295825633922}, {\"ntrees\": 91, \"variable\": \"train_RMSE\", \"value\": 0.149131769181507}, {\"ntrees\": 92, \"variable\": \"train_RMSE\", \"value\": 0.14840983923501933}, {\"ntrees\": 93, \"variable\": \"train_RMSE\", \"value\": 0.14809275121960633}, {\"ntrees\": 94, \"variable\": \"train_RMSE\", \"value\": 0.1472372584610971}, {\"ntrees\": 95, \"variable\": \"train_RMSE\", \"value\": 0.1469008197571982}, {\"ntrees\": 96, \"variable\": \"train_RMSE\", \"value\": 0.14616117508948584}, {\"ntrees\": 97, \"variable\": \"train_RMSE\", \"value\": 0.14565462636548612}, {\"ntrees\": 98, \"variable\": \"train_RMSE\", \"value\": 0.14496693208159378}, {\"ntrees\": 99, \"variable\": \"train_RMSE\", \"value\": 0.14425728705470325}, {\"ntrees\": 0, \"variable\": \"val_RMSE\", \"value\": 0.23973819660998597}, {\"ntrees\": 1, \"variable\": \"val_RMSE\", \"value\": 0.23046953632996314}, {\"ntrees\": 2, \"variable\": \"val_RMSE\", \"value\": 0.22892013770888642}, {\"ntrees\": 3, \"variable\": \"val_RMSE\", \"value\": 0.22722958455611408}, {\"ntrees\": 4, \"variable\": \"val_RMSE\", \"value\": 0.22860744582240541}, {\"ntrees\": 5, \"variable\": \"val_RMSE\", \"value\": 0.22840946775884619}, {\"ntrees\": 6, \"variable\": \"val_RMSE\", \"value\": 0.22895916877507488}, {\"ntrees\": 7, \"variable\": \"val_RMSE\", \"value\": 0.22818095109781375}, {\"ntrees\": 8, \"variable\": \"val_RMSE\", \"value\": 0.23023885317593426}, {\"ntrees\": 9, \"variable\": \"val_RMSE\", \"value\": 0.23190282300981335}, {\"ntrees\": 10, \"variable\": \"val_RMSE\", \"value\": 0.23482275939072553}, {\"ntrees\": 11, \"variable\": \"val_RMSE\", \"value\": 0.23528008604540296}, {\"ntrees\": 12, \"variable\": \"val_RMSE\", \"value\": 0.23560167336427848}, {\"ntrees\": 13, \"variable\": \"val_RMSE\", \"value\": 0.23506278755259855}, {\"ntrees\": 14, \"variable\": \"val_RMSE\", \"value\": 0.23394783376893946}, {\"ntrees\": 15, \"variable\": \"val_RMSE\", \"value\": 0.23398924374435132}, {\"ntrees\": 16, \"variable\": \"val_RMSE\", \"value\": 0.23590235419045927}, {\"ntrees\": 17, \"variable\": \"val_RMSE\", \"value\": 0.23593002645183903}, {\"ntrees\": 18, \"variable\": \"val_RMSE\", \"value\": 0.23478184207109173}, {\"ntrees\": 19, \"variable\": \"val_RMSE\", \"value\": 0.23385598420764148}, {\"ntrees\": 20, \"variable\": \"val_RMSE\", \"value\": 0.23329740678649308}, {\"ntrees\": 21, \"variable\": \"val_RMSE\", \"value\": 0.23296013474996927}, {\"ntrees\": 22, \"variable\": \"val_RMSE\", \"value\": 0.2328970164752284}, {\"ntrees\": 23, \"variable\": \"val_RMSE\", \"value\": 0.23266329887422232}, {\"ntrees\": 24, \"variable\": \"val_RMSE\", \"value\": 0.2329113590219609}, {\"ntrees\": 25, \"variable\": \"val_RMSE\", \"value\": 0.23576704650995794}, {\"ntrees\": 26, \"variable\": \"val_RMSE\", \"value\": 0.23842838692946838}, {\"ntrees\": 27, \"variable\": \"val_RMSE\", \"value\": 0.23854250922742615}, {\"ntrees\": 28, \"variable\": \"val_RMSE\", \"value\": 0.24039390429301685}, {\"ntrees\": 29, \"variable\": \"val_RMSE\", \"value\": 0.24213339043754592}, {\"ntrees\": 30, \"variable\": \"val_RMSE\", \"value\": 0.2422959306772316}, {\"ntrees\": 31, \"variable\": \"val_RMSE\", \"value\": 0.24271394532600263}, {\"ntrees\": 32, \"variable\": \"val_RMSE\", \"value\": 0.2431638231594982}, {\"ntrees\": 33, \"variable\": \"val_RMSE\", \"value\": 0.24341945847336302}, {\"ntrees\": 34, \"variable\": \"val_RMSE\", \"value\": 0.243030501624625}, {\"ntrees\": 35, \"variable\": \"val_RMSE\", \"value\": 0.2445611007935663}, {\"ntrees\": 36, \"variable\": \"val_RMSE\", \"value\": 0.24430851751619417}, {\"ntrees\": 37, \"variable\": \"val_RMSE\", \"value\": 0.2444675168229053}, {\"ntrees\": 38, \"variable\": \"val_RMSE\", \"value\": 0.24450580975419203}, {\"ntrees\": 39, \"variable\": \"val_RMSE\", \"value\": 0.24336973572230405}, {\"ntrees\": 40, \"variable\": \"val_RMSE\", \"value\": 0.24385840650810695}, {\"ntrees\": 41, \"variable\": \"val_RMSE\", \"value\": 0.2432340694582705}, {\"ntrees\": 42, \"variable\": \"val_RMSE\", \"value\": 0.24359617167084813}, {\"ntrees\": 43, \"variable\": \"val_RMSE\", \"value\": 0.24343974388547876}, {\"ntrees\": 44, \"variable\": \"val_RMSE\", \"value\": 0.24329174559524042}, {\"ntrees\": 45, \"variable\": \"val_RMSE\", \"value\": 0.24328807083852544}, {\"ntrees\": 46, \"variable\": \"val_RMSE\", \"value\": 0.24328839304114339}, {\"ntrees\": 47, \"variable\": \"val_RMSE\", \"value\": 0.244017966289678}, {\"ntrees\": 48, \"variable\": \"val_RMSE\", \"value\": 0.2437181891723964}, {\"ntrees\": 49, \"variable\": \"val_RMSE\", \"value\": 0.24392555108336478}, {\"ntrees\": 50, \"variable\": \"val_RMSE\", \"value\": 0.24494267777229536}, {\"ntrees\": 51, \"variable\": \"val_RMSE\", \"value\": 0.24398664481444066}, {\"ntrees\": 52, \"variable\": \"val_RMSE\", \"value\": 0.2443428087473711}, {\"ntrees\": 53, \"variable\": \"val_RMSE\", \"value\": 0.24567930155514275}, {\"ntrees\": 54, \"variable\": \"val_RMSE\", \"value\": 0.24726847146503203}, {\"ntrees\": 55, \"variable\": \"val_RMSE\", \"value\": 0.2477308648773144}, {\"ntrees\": 56, \"variable\": \"val_RMSE\", \"value\": 0.24997450610242464}, {\"ntrees\": 57, \"variable\": \"val_RMSE\", \"value\": 0.25002858374160847}, {\"ntrees\": 58, \"variable\": \"val_RMSE\", \"value\": 0.2501524935800871}, {\"ntrees\": 59, \"variable\": \"val_RMSE\", \"value\": 0.2491919479787255}, {\"ntrees\": 60, \"variable\": \"val_RMSE\", \"value\": 0.248898704315794}, {\"ntrees\": 61, \"variable\": \"val_RMSE\", \"value\": 0.25006081697007726}, {\"ntrees\": 62, \"variable\": \"val_RMSE\", \"value\": 0.25085859652951853}, {\"ntrees\": 63, \"variable\": \"val_RMSE\", \"value\": 0.2524041478105585}, {\"ntrees\": 64, \"variable\": \"val_RMSE\", \"value\": 0.25210540268916726}, {\"ntrees\": 65, \"variable\": \"val_RMSE\", \"value\": 0.25175112761498164}, {\"ntrees\": 66, \"variable\": \"val_RMSE\", \"value\": 0.25167274010628915}, {\"ntrees\": 67, \"variable\": \"val_RMSE\", \"value\": 0.2520096094758443}, {\"ntrees\": 68, \"variable\": \"val_RMSE\", \"value\": 0.25304535937747763}, {\"ntrees\": 69, \"variable\": \"val_RMSE\", \"value\": 0.2510081898860333}, {\"ntrees\": 70, \"variable\": \"val_RMSE\", \"value\": 0.25194180434033053}, {\"ntrees\": 71, \"variable\": \"val_RMSE\", \"value\": 0.2518707443507644}, {\"ntrees\": 72, \"variable\": \"val_RMSE\", \"value\": 0.2546679437802091}, {\"ntrees\": 73, \"variable\": \"val_RMSE\", \"value\": 0.2560104424612739}, {\"ntrees\": 74, \"variable\": \"val_RMSE\", \"value\": 0.2560118137394802}, {\"ntrees\": 75, \"variable\": \"val_RMSE\", \"value\": 0.25665030551384066}, {\"ntrees\": 76, \"variable\": \"val_RMSE\", \"value\": 0.25733693952202313}, {\"ntrees\": 77, \"variable\": \"val_RMSE\", \"value\": 0.256776596053633}, {\"ntrees\": 78, \"variable\": \"val_RMSE\", \"value\": 0.2577814014238586}, {\"ntrees\": 79, \"variable\": \"val_RMSE\", \"value\": 0.25655791598199196}, {\"ntrees\": 80, \"variable\": \"val_RMSE\", \"value\": 0.25841206223049534}, {\"ntrees\": 81, \"variable\": \"val_RMSE\", \"value\": 0.2591486670671849}, {\"ntrees\": 82, \"variable\": \"val_RMSE\", \"value\": 0.2597683223917541}, {\"ntrees\": 83, \"variable\": \"val_RMSE\", \"value\": 0.25948784078906795}, {\"ntrees\": 84, \"variable\": \"val_RMSE\", \"value\": 0.259790007545101}, {\"ntrees\": 85, \"variable\": \"val_RMSE\", \"value\": 0.2597786601654194}, {\"ntrees\": 86, \"variable\": \"val_RMSE\", \"value\": 0.26010218762523113}, {\"ntrees\": 87, \"variable\": \"val_RMSE\", \"value\": 0.260152862677993}, {\"ntrees\": 88, \"variable\": \"val_RMSE\", \"value\": 0.26031971129883047}, {\"ntrees\": 89, \"variable\": \"val_RMSE\", \"value\": 0.2603047954907223}, {\"ntrees\": 90, \"variable\": \"val_RMSE\", \"value\": 0.264062889176055}, {\"ntrees\": 91, \"variable\": \"val_RMSE\", \"value\": 0.26406599019438115}, {\"ntrees\": 92, \"variable\": \"val_RMSE\", \"value\": 0.26424239627217844}, {\"ntrees\": 93, \"variable\": \"val_RMSE\", \"value\": 0.2649178837326369}, {\"ntrees\": 94, \"variable\": \"val_RMSE\", \"value\": 0.2644861545309753}, {\"ntrees\": 95, \"variable\": \"val_RMSE\", \"value\": 0.2641081979643015}, {\"ntrees\": 96, \"variable\": \"val_RMSE\", \"value\": 0.26421300847384804}, {\"ntrees\": 97, \"variable\": \"val_RMSE\", \"value\": 0.2644874726314178}, {\"ntrees\": 98, \"variable\": \"val_RMSE\", \"value\": 0.264026542972301}, {\"ntrees\": 99, \"variable\": \"val_RMSE\", \"value\": 0.2644800918952069}]}}, {\"mode\": \"vega-lite\"});\n",
       "</script>"
      ],
      "text/plain": [
       "alt.Chart(...)"
      ]
     },
     "execution_count": 26,
     "metadata": {},
     "output_type": "execute_result"
    }
   ],
   "source": [
    "source = pd.DataFrame({\"train_RMSE\":train_RMSEs,\"val_RMSE\":val_RMSEs, \"ntrees\":np.arange(len(val_RMSEs))}).melt(id_vars=['ntrees'])\n",
    "\n",
    "alt.Chart(source).mark_line().encode(\n",
    "    y = alt.Y(\"value:Q\", scale=alt.Scale(domain=[0.1, 0.3])),\n",
    "    x = 'ntrees',\n",
    "    color='variable'\n",
    ").properties(width=500)"
   ]
  },
  {
   "cell_type": "code",
   "execution_count": 27,
   "metadata": {
    "tags": []
   },
   "outputs": [
    {
     "data": {
      "text/plain": [
       "Method\n",
       "Boosting (max_ntrees=100)    0.226319\n",
       "Bagging (ntrees=100)         0.229828\n",
       "Bagging (ntrees=25)          0.230253\n",
       "Bagging (ntrees=2)           0.253677\n",
       "Name: RMSE, dtype: float64"
      ]
     },
     "execution_count": 27,
     "metadata": {},
     "output_type": "execute_result"
    }
   ],
   "source": [
    "results.groupby('Method')['RMSE'].median().sort_values()"
   ]
  },
  {
   "cell_type": "code",
   "execution_count": 28,
   "metadata": {
    "tags": []
   },
   "outputs": [
    {
     "data": {
      "text/plain": [
       "Method\n",
       "Boosting (max_ntrees=100)    0.227613\n",
       "Bagging (ntrees=25)          0.229978\n",
       "Bagging (ntrees=100)         0.229983\n",
       "Bagging (ntrees=2)           0.253479\n",
       "Name: RMSE, dtype: float64"
      ]
     },
     "execution_count": 28,
     "metadata": {},
     "output_type": "execute_result"
    }
   ],
   "source": [
    "results.groupby('Method')['RMSE'].mean().sort_values()"
   ]
  },
  {
   "cell_type": "code",
   "execution_count": 29,
   "metadata": {
    "tags": []
   },
   "outputs": [
    {
     "data": {
      "text/plain": [
       "0.2276134250802108"
      ]
     },
     "execution_count": 29,
     "metadata": {},
     "output_type": "execute_result"
    }
   ],
   "source": [
    "np.mean(RMSEs)"
   ]
  },
  {
   "cell_type": "code",
   "execution_count": 30,
   "metadata": {
    "tags": []
   },
   "outputs": [
    {
     "data": {
      "text/html": [
       "\n",
       "<style>\n",
       "  #altair-viz-551f223cbcdf45489ca65f20fc969b4d.vega-embed {\n",
       "    width: 100%;\n",
       "    display: flex;\n",
       "  }\n",
       "\n",
       "  #altair-viz-551f223cbcdf45489ca65f20fc969b4d.vega-embed details,\n",
       "  #altair-viz-551f223cbcdf45489ca65f20fc969b4d.vega-embed details summary {\n",
       "    position: relative;\n",
       "  }\n",
       "</style>\n",
       "<div id=\"altair-viz-551f223cbcdf45489ca65f20fc969b4d\"></div>\n",
       "<script type=\"text/javascript\">\n",
       "  var VEGA_DEBUG = (typeof VEGA_DEBUG == \"undefined\") ? {} : VEGA_DEBUG;\n",
       "  (function(spec, embedOpt){\n",
       "    let outputDiv = document.currentScript.previousElementSibling;\n",
       "    if (outputDiv.id !== \"altair-viz-551f223cbcdf45489ca65f20fc969b4d\") {\n",
       "      outputDiv = document.getElementById(\"altair-viz-551f223cbcdf45489ca65f20fc969b4d\");\n",
       "    }\n",
       "    const paths = {\n",
       "      \"vega\": \"https://cdn.jsdelivr.net/npm/vega@5?noext\",\n",
       "      \"vega-lib\": \"https://cdn.jsdelivr.net/npm/vega-lib?noext\",\n",
       "      \"vega-lite\": \"https://cdn.jsdelivr.net/npm/vega-lite@5.8.0?noext\",\n",
       "      \"vega-embed\": \"https://cdn.jsdelivr.net/npm/vega-embed@6?noext\",\n",
       "    };\n",
       "\n",
       "    function maybeLoadScript(lib, version) {\n",
       "      var key = `${lib.replace(\"-\", \"\")}_version`;\n",
       "      return (VEGA_DEBUG[key] == version) ?\n",
       "        Promise.resolve(paths[lib]) :\n",
       "        new Promise(function(resolve, reject) {\n",
       "          var s = document.createElement('script');\n",
       "          document.getElementsByTagName(\"head\")[0].appendChild(s);\n",
       "          s.async = true;\n",
       "          s.onload = () => {\n",
       "            VEGA_DEBUG[key] = version;\n",
       "            return resolve(paths[lib]);\n",
       "          };\n",
       "          s.onerror = () => reject(`Error loading script: ${paths[lib]}`);\n",
       "          s.src = paths[lib];\n",
       "        });\n",
       "    }\n",
       "\n",
       "    function showError(err) {\n",
       "      outputDiv.innerHTML = `<div class=\"error\" style=\"color:red;\">${err}</div>`;\n",
       "      throw err;\n",
       "    }\n",
       "\n",
       "    function displayChart(vegaEmbed) {\n",
       "      vegaEmbed(outputDiv, spec, embedOpt)\n",
       "        .catch(err => showError(`Javascript Error: ${err.message}<br>This usually means there's a typo in your chart specification. See the javascript console for the full traceback.`));\n",
       "    }\n",
       "\n",
       "    if(typeof define === \"function\" && define.amd) {\n",
       "      requirejs.config({paths});\n",
       "      require([\"vega-embed\"], displayChart, err => showError(`Error loading script: ${err.message}`));\n",
       "    } else {\n",
       "      maybeLoadScript(\"vega\", \"5\")\n",
       "        .then(() => maybeLoadScript(\"vega-lite\", \"5.8.0\"))\n",
       "        .then(() => maybeLoadScript(\"vega-embed\", \"6\"))\n",
       "        .catch(showError)\n",
       "        .then(() => displayChart(vegaEmbed));\n",
       "    }\n",
       "  })({\"config\": {\"view\": {\"continuousWidth\": 300, \"continuousHeight\": 300}}, \"data\": {\"name\": \"data-12e94761df94850db2dbb859df5b5a86\"}, \"mark\": {\"type\": \"boxplot\"}, \"encoding\": {\"x\": {\"field\": \"Method\", \"type\": \"nominal\"}, \"y\": {\"field\": \"RMSE\", \"scale\": {\"domain\": [0.2, 0.3]}, \"type\": \"quantitative\"}}, \"width\": 300, \"$schema\": \"https://vega.github.io/schema/vega-lite/v5.8.0.json\", \"datasets\": {\"data-12e94761df94850db2dbb859df5b5a86\": [{\"RMSE\": 0.21973342440107393, \"Method\": \"Bagging (ntrees=100)\"}, {\"RMSE\": 0.23168985739867212, \"Method\": \"Bagging (ntrees=100)\"}, {\"RMSE\": 0.2271370419602681, \"Method\": \"Bagging (ntrees=100)\"}, {\"RMSE\": 0.2264188347586091, \"Method\": \"Bagging (ntrees=100)\"}, {\"RMSE\": 0.22542909721677998, \"Method\": \"Bagging (ntrees=100)\"}, {\"RMSE\": 0.23239686002780288, \"Method\": \"Bagging (ntrees=100)\"}, {\"RMSE\": 0.23896975998036987, \"Method\": \"Bagging (ntrees=100)\"}, {\"RMSE\": 0.22599936751955604, \"Method\": \"Bagging (ntrees=100)\"}, {\"RMSE\": 0.2270189831435331, \"Method\": \"Bagging (ntrees=100)\"}, {\"RMSE\": 0.2343795809075679, \"Method\": \"Bagging (ntrees=100)\"}, {\"RMSE\": 0.23951864954961977, \"Method\": \"Bagging (ntrees=100)\"}, {\"RMSE\": 0.22732109660996278, \"Method\": \"Bagging (ntrees=100)\"}, {\"RMSE\": 0.2296042309337072, \"Method\": \"Bagging (ntrees=100)\"}, {\"RMSE\": 0.23306887345269228, \"Method\": \"Bagging (ntrees=100)\"}, {\"RMSE\": 0.22457435074156606, \"Method\": \"Bagging (ntrees=100)\"}, {\"RMSE\": 0.2273799863135227, \"Method\": \"Bagging (ntrees=100)\"}, {\"RMSE\": 0.2350160403515223, \"Method\": \"Bagging (ntrees=100)\"}, {\"RMSE\": 0.22714634501964515, \"Method\": \"Bagging (ntrees=100)\"}, {\"RMSE\": 0.22824677179992983, \"Method\": \"Bagging (ntrees=100)\"}, {\"RMSE\": 0.2227654438810955, \"Method\": \"Bagging (ntrees=100)\"}, {\"RMSE\": 0.22604379048979628, \"Method\": \"Bagging (ntrees=100)\"}, {\"RMSE\": 0.226361688193324, \"Method\": \"Bagging (ntrees=100)\"}, {\"RMSE\": 0.23246795904885592, \"Method\": \"Bagging (ntrees=100)\"}, {\"RMSE\": 0.23074902387353927, \"Method\": \"Bagging (ntrees=100)\"}, {\"RMSE\": 0.2337061208076663, \"Method\": \"Bagging (ntrees=100)\"}, {\"RMSE\": 0.2381295786541823, \"Method\": \"Bagging (ntrees=100)\"}, {\"RMSE\": 0.22406924942423273, \"Method\": \"Bagging (ntrees=100)\"}, {\"RMSE\": 0.23090174394679136, \"Method\": \"Bagging (ntrees=100)\"}, {\"RMSE\": 0.23452377751585773, \"Method\": \"Bagging (ntrees=100)\"}, {\"RMSE\": 0.23811901595301463, \"Method\": \"Bagging (ntrees=100)\"}, {\"RMSE\": 0.23385272820498465, \"Method\": \"Bagging (ntrees=100)\"}, {\"RMSE\": 0.22668945945242266, \"Method\": \"Bagging (ntrees=100)\"}, {\"RMSE\": 0.2241350077170619, \"Method\": \"Bagging (ntrees=100)\"}, {\"RMSE\": 0.23122046976027552, \"Method\": \"Bagging (ntrees=100)\"}, {\"RMSE\": 0.2204532322898531, \"Method\": \"Bagging (ntrees=100)\"}, {\"RMSE\": 0.23751637505745266, \"Method\": \"Bagging (ntrees=100)\"}, {\"RMSE\": 0.2319059471819556, \"Method\": \"Bagging (ntrees=100)\"}, {\"RMSE\": 0.22555373054513603, \"Method\": \"Bagging (ntrees=100)\"}, {\"RMSE\": 0.2300511448423432, \"Method\": \"Bagging (ntrees=100)\"}, {\"RMSE\": 0.24453670079898668, \"Method\": \"Bagging (ntrees=100)\"}, {\"RMSE\": 0.22549509394270553, \"Method\": \"Bagging (ntrees=100)\"}, {\"RMSE\": 0.23476069386883416, \"Method\": \"Bagging (ntrees=100)\"}, {\"RMSE\": 0.22835656796863651, \"Method\": \"Bagging (ntrees=100)\"}, {\"RMSE\": 0.23115398436294876, \"Method\": \"Bagging (ntrees=100)\"}, {\"RMSE\": 0.22848543117292577, \"Method\": \"Bagging (ntrees=100)\"}, {\"RMSE\": 0.23353503380518598, \"Method\": \"Bagging (ntrees=100)\"}, {\"RMSE\": 0.24054920234405425, \"Method\": \"Bagging (ntrees=100)\"}, {\"RMSE\": 0.2345468523720348, \"Method\": \"Bagging (ntrees=100)\"}, {\"RMSE\": 0.21741619220512307, \"Method\": \"Bagging (ntrees=100)\"}, {\"RMSE\": 0.22005382424673936, \"Method\": \"Bagging (ntrees=100)\"}, {\"RMSE\": 0.21879899068604142, \"Method\": \"Bagging (ntrees=25)\"}, {\"RMSE\": 0.23572818595374118, \"Method\": \"Bagging (ntrees=25)\"}, {\"RMSE\": 0.23153031704288177, \"Method\": \"Bagging (ntrees=25)\"}, {\"RMSE\": 0.22391059081000753, \"Method\": \"Bagging (ntrees=25)\"}, {\"RMSE\": 0.22098243650409233, \"Method\": \"Bagging (ntrees=25)\"}, {\"RMSE\": 0.23167963501100652, \"Method\": \"Bagging (ntrees=25)\"}, {\"RMSE\": 0.24018674066893145, \"Method\": \"Bagging (ntrees=25)\"}, {\"RMSE\": 0.22894234214314169, \"Method\": \"Bagging (ntrees=25)\"}, {\"RMSE\": 0.23178572205562595, \"Method\": \"Bagging (ntrees=25)\"}, {\"RMSE\": 0.2390125841031198, \"Method\": \"Bagging (ntrees=25)\"}, {\"RMSE\": 0.24036764619805942, \"Method\": \"Bagging (ntrees=25)\"}, {\"RMSE\": 0.22481585789330108, \"Method\": \"Bagging (ntrees=25)\"}, {\"RMSE\": 0.2308653863141106, \"Method\": \"Bagging (ntrees=25)\"}, {\"RMSE\": 0.23049572272953348, \"Method\": \"Bagging (ntrees=25)\"}, {\"RMSE\": 0.2228926168980904, \"Method\": \"Bagging (ntrees=25)\"}, {\"RMSE\": 0.22902090767098512, \"Method\": \"Bagging (ntrees=25)\"}, {\"RMSE\": 0.23473939455307702, \"Method\": \"Bagging (ntrees=25)\"}, {\"RMSE\": 0.22553111770927284, \"Method\": \"Bagging (ntrees=25)\"}, {\"RMSE\": 0.2289569821351711, \"Method\": \"Bagging (ntrees=25)\"}, {\"RMSE\": 0.21866432282500603, \"Method\": \"Bagging (ntrees=25)\"}, {\"RMSE\": 0.22571490034504343, \"Method\": \"Bagging (ntrees=25)\"}, {\"RMSE\": 0.2292334228221728, \"Method\": \"Bagging (ntrees=25)\"}, {\"RMSE\": 0.23163281607501585, \"Method\": \"Bagging (ntrees=25)\"}, {\"RMSE\": 0.22992174778696106, \"Method\": \"Bagging (ntrees=25)\"}, {\"RMSE\": 0.2309961462873952, \"Method\": \"Bagging (ntrees=25)\"}, {\"RMSE\": 0.23618063218283064, \"Method\": \"Bagging (ntrees=25)\"}, {\"RMSE\": 0.22522373973759124, \"Method\": \"Bagging (ntrees=25)\"}, {\"RMSE\": 0.23610803945418596, \"Method\": \"Bagging (ntrees=25)\"}, {\"RMSE\": 0.23155329480277714, \"Method\": \"Bagging (ntrees=25)\"}, {\"RMSE\": 0.2375829314357279, \"Method\": \"Bagging (ntrees=25)\"}, {\"RMSE\": 0.23573478932234818, \"Method\": \"Bagging (ntrees=25)\"}, {\"RMSE\": 0.22570886432220977, \"Method\": \"Bagging (ntrees=25)\"}, {\"RMSE\": 0.22210203487687, \"Method\": \"Bagging (ntrees=25)\"}, {\"RMSE\": 0.2321083146695493, \"Method\": \"Bagging (ntrees=25)\"}, {\"RMSE\": 0.21959166803214045, \"Method\": \"Bagging (ntrees=25)\"}, {\"RMSE\": 0.23758351499625308, \"Method\": \"Bagging (ntrees=25)\"}, {\"RMSE\": 0.230010572738305, \"Method\": \"Bagging (ntrees=25)\"}, {\"RMSE\": 0.22369361066395346, \"Method\": \"Bagging (ntrees=25)\"}, {\"RMSE\": 0.22672547163474369, \"Method\": \"Bagging (ntrees=25)\"}, {\"RMSE\": 0.24743303311694284, \"Method\": \"Bagging (ntrees=25)\"}, {\"RMSE\": 0.22848201447423666, \"Method\": \"Bagging (ntrees=25)\"}, {\"RMSE\": 0.23523054758370407, \"Method\": \"Bagging (ntrees=25)\"}, {\"RMSE\": 0.22837412673095261, \"Method\": \"Bagging (ntrees=25)\"}, {\"RMSE\": 0.23468489845835167, \"Method\": \"Bagging (ntrees=25)\"}, {\"RMSE\": 0.2277134131371179, \"Method\": \"Bagging (ntrees=25)\"}, {\"RMSE\": 0.23102721096444426, \"Method\": \"Bagging (ntrees=25)\"}, {\"RMSE\": 0.2377857744543373, \"Method\": \"Bagging (ntrees=25)\"}, {\"RMSE\": 0.23626828907702427, \"Method\": \"Bagging (ntrees=25)\"}, {\"RMSE\": 0.21866407556192252, \"Method\": \"Bagging (ntrees=25)\"}, {\"RMSE\": 0.21690475686897542, \"Method\": \"Bagging (ntrees=25)\"}, {\"RMSE\": 0.24610795665959712, \"Method\": \"Bagging (ntrees=2)\"}, {\"RMSE\": 0.24905913276004427, \"Method\": \"Bagging (ntrees=2)\"}, {\"RMSE\": 0.2542342502317079, \"Method\": \"Bagging (ntrees=2)\"}, {\"RMSE\": 0.24151022754917123, \"Method\": \"Bagging (ntrees=2)\"}, {\"RMSE\": 0.25173010692067277, \"Method\": \"Bagging (ntrees=2)\"}, {\"RMSE\": 0.2563612250047801, \"Method\": \"Bagging (ntrees=2)\"}, {\"RMSE\": 0.2652817907500665, \"Method\": \"Bagging (ntrees=2)\"}, {\"RMSE\": 0.24022041253126022, \"Method\": \"Bagging (ntrees=2)\"}, {\"RMSE\": 0.25789677188960497, \"Method\": \"Bagging (ntrees=2)\"}, {\"RMSE\": 0.2680551397149933, \"Method\": \"Bagging (ntrees=2)\"}, {\"RMSE\": 0.2603956554169494, \"Method\": \"Bagging (ntrees=2)\"}, {\"RMSE\": 0.2555319300352988, \"Method\": \"Bagging (ntrees=2)\"}, {\"RMSE\": 0.24592087996956843, \"Method\": \"Bagging (ntrees=2)\"}, {\"RMSE\": 0.2628719397952314, \"Method\": \"Bagging (ntrees=2)\"}, {\"RMSE\": 0.25156810229888993, \"Method\": \"Bagging (ntrees=2)\"}, {\"RMSE\": 0.24976111474954563, \"Method\": \"Bagging (ntrees=2)\"}, {\"RMSE\": 0.2648055731092212, \"Method\": \"Bagging (ntrees=2)\"}, {\"RMSE\": 0.24955031157071775, \"Method\": \"Bagging (ntrees=2)\"}, {\"RMSE\": 0.2540786189389727, \"Method\": \"Bagging (ntrees=2)\"}, {\"RMSE\": 0.24472925104029353, \"Method\": \"Bagging (ntrees=2)\"}, {\"RMSE\": 0.2533484871606066, \"Method\": \"Bagging (ntrees=2)\"}, {\"RMSE\": 0.2565191604318726, \"Method\": \"Bagging (ntrees=2)\"}, {\"RMSE\": 0.24959690510020072, \"Method\": \"Bagging (ntrees=2)\"}, {\"RMSE\": 0.2569784066030545, \"Method\": \"Bagging (ntrees=2)\"}, {\"RMSE\": 0.24097139250891678, \"Method\": \"Bagging (ntrees=2)\"}, {\"RMSE\": 0.2597324444990655, \"Method\": \"Bagging (ntrees=2)\"}, {\"RMSE\": 0.24660640502763873, \"Method\": \"Bagging (ntrees=2)\"}, {\"RMSE\": 0.2655930413483273, \"Method\": \"Bagging (ntrees=2)\"}, {\"RMSE\": 0.2543472739164175, \"Method\": \"Bagging (ntrees=2)\"}, {\"RMSE\": 0.2627277814038463, \"Method\": \"Bagging (ntrees=2)\"}, {\"RMSE\": 0.25815168742272726, \"Method\": \"Bagging (ntrees=2)\"}, {\"RMSE\": 0.24723758451911326, \"Method\": \"Bagging (ntrees=2)\"}, {\"RMSE\": 0.25554772399451786, \"Method\": \"Bagging (ntrees=2)\"}, {\"RMSE\": 0.2512922681400373, \"Method\": \"Bagging (ntrees=2)\"}, {\"RMSE\": 0.24694925634113715, \"Method\": \"Bagging (ntrees=2)\"}, {\"RMSE\": 0.26550968475123593, \"Method\": \"Bagging (ntrees=2)\"}, {\"RMSE\": 0.24543849669844178, \"Method\": \"Bagging (ntrees=2)\"}, {\"RMSE\": 0.2552358116189203, \"Method\": \"Bagging (ntrees=2)\"}, {\"RMSE\": 0.24911945918004513, \"Method\": \"Bagging (ntrees=2)\"}, {\"RMSE\": 0.26204568630273983, \"Method\": \"Bagging (ntrees=2)\"}, {\"RMSE\": 0.24744408379356983, \"Method\": \"Bagging (ntrees=2)\"}, {\"RMSE\": 0.2612559590822233, \"Method\": \"Bagging (ntrees=2)\"}, {\"RMSE\": 0.25445688398476374, \"Method\": \"Bagging (ntrees=2)\"}, {\"RMSE\": 0.2540056683311676, \"Method\": \"Bagging (ntrees=2)\"}, {\"RMSE\": 0.2503548314499483, \"Method\": \"Bagging (ntrees=2)\"}, {\"RMSE\": 0.2501473866370189, \"Method\": \"Bagging (ntrees=2)\"}, {\"RMSE\": 0.2521235355716613, \"Method\": \"Bagging (ntrees=2)\"}, {\"RMSE\": 0.2621852969501614, \"Method\": \"Bagging (ntrees=2)\"}, {\"RMSE\": 0.24166105988652847, \"Method\": \"Bagging (ntrees=2)\"}, {\"RMSE\": 0.24769578819355284, \"Method\": \"Bagging (ntrees=2)\"}, {\"RMSE\": 0.2171222409162828, \"Method\": \"Boosting (max_ntrees=100)\"}, {\"RMSE\": 0.229317479576057, \"Method\": \"Boosting (max_ntrees=100)\"}, {\"RMSE\": 0.23003148332184079, \"Method\": \"Boosting (max_ntrees=100)\"}, {\"RMSE\": 0.21592722410447454, \"Method\": \"Boosting (max_ntrees=100)\"}, {\"RMSE\": 0.2230451864721914, \"Method\": \"Boosting (max_ntrees=100)\"}, {\"RMSE\": 0.22492120849014907, \"Method\": \"Boosting (max_ntrees=100)\"}, {\"RMSE\": 0.23798666453431072, \"Method\": \"Boosting (max_ntrees=100)\"}, {\"RMSE\": 0.22472640516896564, \"Method\": \"Boosting (max_ntrees=100)\"}, {\"RMSE\": 0.2222799117469352, \"Method\": \"Boosting (max_ntrees=100)\"}, {\"RMSE\": 0.23122095466583842, \"Method\": \"Boosting (max_ntrees=100)\"}, {\"RMSE\": 0.22636514756984266, \"Method\": \"Boosting (max_ntrees=100)\"}, {\"RMSE\": 0.2262735109588698, \"Method\": \"Boosting (max_ntrees=100)\"}, {\"RMSE\": 0.22854023496845347, \"Method\": \"Boosting (max_ntrees=100)\"}, {\"RMSE\": 0.22567136231557292, \"Method\": \"Boosting (max_ntrees=100)\"}, {\"RMSE\": 0.21983993807825283, \"Method\": \"Boosting (max_ntrees=100)\"}, {\"RMSE\": 0.23079831291792266, \"Method\": \"Boosting (max_ntrees=100)\"}, {\"RMSE\": 0.22593427674063452, \"Method\": \"Boosting (max_ntrees=100)\"}, {\"RMSE\": 0.22680070345229314, \"Method\": \"Boosting (max_ntrees=100)\"}, {\"RMSE\": 0.22533482375332037, \"Method\": \"Boosting (max_ntrees=100)\"}, {\"RMSE\": 0.22342813417964605, \"Method\": \"Boosting (max_ntrees=100)\"}, {\"RMSE\": 0.23175878751294376, \"Method\": \"Boosting (max_ntrees=100)\"}, {\"RMSE\": 0.23595615118675234, \"Method\": \"Boosting (max_ntrees=100)\"}, {\"RMSE\": 0.22965983183651678, \"Method\": \"Boosting (max_ntrees=100)\"}, {\"RMSE\": 0.22758975909691562, \"Method\": \"Boosting (max_ntrees=100)\"}, {\"RMSE\": 0.2228900886770328, \"Method\": \"Boosting (max_ntrees=100)\"}, {\"RMSE\": 0.24414059289631176, \"Method\": \"Boosting (max_ntrees=100)\"}, {\"RMSE\": 0.22346361450543392, \"Method\": \"Boosting (max_ntrees=100)\"}, {\"RMSE\": 0.22584381975283074, \"Method\": \"Boosting (max_ntrees=100)\"}, {\"RMSE\": 0.23185220936978462, \"Method\": \"Boosting (max_ntrees=100)\"}, {\"RMSE\": 0.24165622537493742, \"Method\": \"Boosting (max_ntrees=100)\"}, {\"RMSE\": 0.22805194234918283, \"Method\": \"Boosting (max_ntrees=100)\"}, {\"RMSE\": 0.21917567195381235, \"Method\": \"Boosting (max_ntrees=100)\"}, {\"RMSE\": 0.2256790478876625, \"Method\": \"Boosting (max_ntrees=100)\"}, {\"RMSE\": 0.2299279699579699, \"Method\": \"Boosting (max_ntrees=100)\"}, {\"RMSE\": 0.22082077921777957, \"Method\": \"Boosting (max_ntrees=100)\"}, {\"RMSE\": 0.22132015756325268, \"Method\": \"Boosting (max_ntrees=100)\"}, {\"RMSE\": 0.23380101383062282, \"Method\": \"Boosting (max_ntrees=100)\"}, {\"RMSE\": 0.2231798753991582, \"Method\": \"Boosting (max_ntrees=100)\"}, {\"RMSE\": 0.21965356845903125, \"Method\": \"Boosting (max_ntrees=100)\"}, {\"RMSE\": 0.23896806603428217, \"Method\": \"Boosting (max_ntrees=100)\"}, {\"RMSE\": 0.23192022379616237, \"Method\": \"Boosting (max_ntrees=100)\"}, {\"RMSE\": 0.23698539391007173, \"Method\": \"Boosting (max_ntrees=100)\"}, {\"RMSE\": 0.2219628343700613, \"Method\": \"Boosting (max_ntrees=100)\"}, {\"RMSE\": 0.23472765013365743, \"Method\": \"Boosting (max_ntrees=100)\"}, {\"RMSE\": 0.2240221463041687, \"Method\": \"Boosting (max_ntrees=100)\"}, {\"RMSE\": 0.23416186962859808, \"Method\": \"Boosting (max_ntrees=100)\"}, {\"RMSE\": 0.23152411818426055, \"Method\": \"Boosting (max_ntrees=100)\"}, {\"RMSE\": 0.24070441472510531, \"Method\": \"Boosting (max_ntrees=100)\"}, {\"RMSE\": 0.2102086039940845, \"Method\": \"Boosting (max_ntrees=100)\"}, {\"RMSE\": 0.2234996221703033, \"Method\": \"Boosting (max_ntrees=100)\"}]}}, {\"mode\": \"vega-lite\"});\n",
       "</script>"
      ],
      "text/plain": [
       "alt.Chart(...)"
      ]
     },
     "execution_count": 30,
     "metadata": {},
     "output_type": "execute_result"
    }
   ],
   "source": [
    "import altair as alt\n",
    "\n",
    "alt.Chart(results).mark_boxplot().encode(\n",
    "    alt.Y(\"RMSE:Q\", scale=alt.Scale(domain=[0.2, 0.3])),\n",
    "    x='Method',\n",
    ").properties(width=300)"
   ]
  },
  {
   "cell_type": "markdown",
   "metadata": {},
   "source": [
    "**Problem 3.** How would you compare (using t-test) whether the boosting algorithm is better than bagging (ntrees=100)?"
   ]
  },
  {
   "cell_type": "code",
   "execution_count": 32,
   "metadata": {
    "tags": []
   },
   "outputs": [
    {
     "data": {
      "text/plain": [
       "TtestResult(statistic=1.8589983107989716, pvalue=0.06602799812025147, df=98.0)"
      ]
     },
     "execution_count": 32,
     "metadata": {},
     "output_type": "execute_result"
    }
   ],
   "source": [
    "#"
   ]
  },
  {
   "cell_type": "markdown",
   "metadata": {},
   "source": [
    "**Upload your solution here:** https://canvas.calpoly.edu/courses/89325/assignments/594361"
   ]
  },
  {
   "cell_type": "code",
   "execution_count": 33,
   "metadata": {
    "tags": []
   },
   "outputs": [],
   "source": [
    "# Good job!\n",
    "# Don't forget to push with ./submit.sh"
   ]
  },
  {
   "cell_type": "markdown",
   "metadata": {},
   "source": [
    "#### Having trouble with the test cases and the autograder?\n",
    "\n",
    "You can always load up the answers for the autograder. The autograder runs your code and compares your answer to the expected answer. I manually review your code, so there is no need to hide this from you.\n",
    "\n",
    "```python\n",
    "import joblib\n",
    "answers = joblib.load(f\"{home}/csc-466-student/tests/answers_Lab5.joblib\")\n",
    "answers.keys()\n",
    "```"
   ]
  },
  {
   "cell_type": "code",
   "execution_count": null,
   "metadata": {},
   "outputs": [],
   "source": []
  }
 ],
 "metadata": {
  "kernelspec": {
   "display_name": "Python 3 (ipykernel)",
   "language": "python",
   "name": "python3"
  },
  "language_info": {
   "codemirror_mode": {
    "name": "ipython",
    "version": 3
   },
   "file_extension": ".py",
   "mimetype": "text/x-python",
   "name": "python",
   "nbconvert_exporter": "python",
   "pygments_lexer": "ipython3",
   "version": "3.9.7"
  }
 },
 "nbformat": 4,
 "nbformat_minor": 4
}
