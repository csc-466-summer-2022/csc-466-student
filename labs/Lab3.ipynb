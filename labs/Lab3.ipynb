{
 "cells": [
  {
   "cell_type": "markdown",
   "metadata": {
    "tags": []
   },
   "source": [
    "# Lab 3\n",
    "\n",
    "## Single Layer Neural Network, Evaluation, and Interpretation\n",
    "\n",
    "This lab is designed to teach you about different strategies for evaluating neural networks and interpreting the results. For this lab, we are going to study different methods for intrepreting a neural network. We are going to use a modified version of the perceptron learning algorithm. I have modified it to use the sigmoid activation function. This means our learning rule is updated. \n",
    "\n",
    "**Note:** Exercises can be autograded and count towards your lab and assignment score. Problems are graded for participation."
   ]
  },
  {
   "cell_type": "code",
   "execution_count": 1,
   "metadata": {
    "tags": []
   },
   "outputs": [],
   "source": [
    "from pathlib import Path \n",
    "home = str(Path.home()) # all other paths are relative to this path. change to something else if this is not the case on your system"
   ]
  },
  {
   "cell_type": "code",
   "execution_count": 2,
   "metadata": {
    "tags": []
   },
   "outputs": [],
   "source": [
    "%load_ext autoreload\n",
    "%autoreload 2\n",
    "\n",
    "# make sure your run the cell above before running this\n",
    "import Lab3_helper"
   ]
  },
  {
   "cell_type": "markdown",
   "metadata": {},
   "source": [
    "For developing this lab, we can use a Heart Disease factors dataset. Description of the data is found https://www.kaggle.com/datasets/kamilpytlak/personal-key-indicators-of-heart-disease."
   ]
  },
  {
   "cell_type": "code",
   "execution_count": 3,
   "metadata": {
    "tags": []
   },
   "outputs": [
    {
     "data": {
      "text/html": [
       "<div>\n",
       "<style scoped>\n",
       "    .dataframe tbody tr th:only-of-type {\n",
       "        vertical-align: middle;\n",
       "    }\n",
       "\n",
       "    .dataframe tbody tr th {\n",
       "        vertical-align: top;\n",
       "    }\n",
       "\n",
       "    .dataframe thead th {\n",
       "        text-align: right;\n",
       "    }\n",
       "</style>\n",
       "<table border=\"1\" class=\"dataframe\">\n",
       "  <thead>\n",
       "    <tr style=\"text-align: right;\">\n",
       "      <th></th>\n",
       "      <th>HeartDisease</th>\n",
       "      <th>BMI</th>\n",
       "      <th>Smoking</th>\n",
       "      <th>AlcoholDrinking</th>\n",
       "      <th>Stroke</th>\n",
       "      <th>PhysicalHealth</th>\n",
       "      <th>MentalHealth</th>\n",
       "      <th>DiffWalking</th>\n",
       "      <th>Sex</th>\n",
       "      <th>AgeCategory</th>\n",
       "      <th>...</th>\n",
       "      <th>difficulty_walking_code</th>\n",
       "      <th>sex_code</th>\n",
       "      <th>age_category</th>\n",
       "      <th>race_code</th>\n",
       "      <th>diabetic_code</th>\n",
       "      <th>physical_activity_code</th>\n",
       "      <th>general_health_code</th>\n",
       "      <th>asthma_code</th>\n",
       "      <th>kidney_disease_code</th>\n",
       "      <th>skin_cancer_code</th>\n",
       "    </tr>\n",
       "  </thead>\n",
       "  <tbody>\n",
       "    <tr>\n",
       "      <th>0</th>\n",
       "      <td>No</td>\n",
       "      <td>16.60</td>\n",
       "      <td>Yes</td>\n",
       "      <td>No</td>\n",
       "      <td>No</td>\n",
       "      <td>3</td>\n",
       "      <td>30</td>\n",
       "      <td>No</td>\n",
       "      <td>Female</td>\n",
       "      <td>55-59</td>\n",
       "      <td>...</td>\n",
       "      <td>0</td>\n",
       "      <td>0</td>\n",
       "      <td>7</td>\n",
       "      <td>5</td>\n",
       "      <td>2</td>\n",
       "      <td>1</td>\n",
       "      <td>4</td>\n",
       "      <td>1</td>\n",
       "      <td>0</td>\n",
       "      <td>1</td>\n",
       "    </tr>\n",
       "    <tr>\n",
       "      <th>1</th>\n",
       "      <td>No</td>\n",
       "      <td>20.34</td>\n",
       "      <td>No</td>\n",
       "      <td>No</td>\n",
       "      <td>Yes</td>\n",
       "      <td>0</td>\n",
       "      <td>0</td>\n",
       "      <td>No</td>\n",
       "      <td>Female</td>\n",
       "      <td>80 or older</td>\n",
       "      <td>...</td>\n",
       "      <td>0</td>\n",
       "      <td>0</td>\n",
       "      <td>12</td>\n",
       "      <td>5</td>\n",
       "      <td>0</td>\n",
       "      <td>1</td>\n",
       "      <td>4</td>\n",
       "      <td>0</td>\n",
       "      <td>0</td>\n",
       "      <td>0</td>\n",
       "    </tr>\n",
       "    <tr>\n",
       "      <th>2</th>\n",
       "      <td>No</td>\n",
       "      <td>26.58</td>\n",
       "      <td>Yes</td>\n",
       "      <td>No</td>\n",
       "      <td>No</td>\n",
       "      <td>20</td>\n",
       "      <td>30</td>\n",
       "      <td>No</td>\n",
       "      <td>Male</td>\n",
       "      <td>65-69</td>\n",
       "      <td>...</td>\n",
       "      <td>0</td>\n",
       "      <td>1</td>\n",
       "      <td>9</td>\n",
       "      <td>5</td>\n",
       "      <td>2</td>\n",
       "      <td>1</td>\n",
       "      <td>1</td>\n",
       "      <td>1</td>\n",
       "      <td>0</td>\n",
       "      <td>0</td>\n",
       "    </tr>\n",
       "    <tr>\n",
       "      <th>3</th>\n",
       "      <td>No</td>\n",
       "      <td>24.21</td>\n",
       "      <td>No</td>\n",
       "      <td>No</td>\n",
       "      <td>No</td>\n",
       "      <td>0</td>\n",
       "      <td>0</td>\n",
       "      <td>No</td>\n",
       "      <td>Female</td>\n",
       "      <td>75-79</td>\n",
       "      <td>...</td>\n",
       "      <td>0</td>\n",
       "      <td>0</td>\n",
       "      <td>11</td>\n",
       "      <td>5</td>\n",
       "      <td>0</td>\n",
       "      <td>0</td>\n",
       "      <td>2</td>\n",
       "      <td>0</td>\n",
       "      <td>0</td>\n",
       "      <td>1</td>\n",
       "    </tr>\n",
       "    <tr>\n",
       "      <th>4</th>\n",
       "      <td>No</td>\n",
       "      <td>23.71</td>\n",
       "      <td>No</td>\n",
       "      <td>No</td>\n",
       "      <td>No</td>\n",
       "      <td>28</td>\n",
       "      <td>0</td>\n",
       "      <td>Yes</td>\n",
       "      <td>Female</td>\n",
       "      <td>40-44</td>\n",
       "      <td>...</td>\n",
       "      <td>1</td>\n",
       "      <td>0</td>\n",
       "      <td>4</td>\n",
       "      <td>5</td>\n",
       "      <td>0</td>\n",
       "      <td>1</td>\n",
       "      <td>4</td>\n",
       "      <td>0</td>\n",
       "      <td>0</td>\n",
       "      <td>0</td>\n",
       "    </tr>\n",
       "  </tbody>\n",
       "</table>\n",
       "<p>5 rows × 32 columns</p>\n",
       "</div>"
      ],
      "text/plain": [
       "  HeartDisease    BMI Smoking AlcoholDrinking Stroke  PhysicalHealth  \\\n",
       "0           No  16.60     Yes              No     No               3   \n",
       "1           No  20.34      No              No    Yes               0   \n",
       "2           No  26.58     Yes              No     No              20   \n",
       "3           No  24.21      No              No     No               0   \n",
       "4           No  23.71      No              No     No              28   \n",
       "\n",
       "   MentalHealth DiffWalking     Sex  AgeCategory  ... difficulty_walking_code  \\\n",
       "0            30          No  Female        55-59  ...                       0   \n",
       "1             0          No  Female  80 or older  ...                       0   \n",
       "2            30          No    Male        65-69  ...                       0   \n",
       "3             0          No  Female        75-79  ...                       0   \n",
       "4             0         Yes  Female        40-44  ...                       1   \n",
       "\n",
       "  sex_code age_category race_code  diabetic_code physical_activity_code  \\\n",
       "0        0            7         5              2                      1   \n",
       "1        0           12         5              0                      1   \n",
       "2        1            9         5              2                      1   \n",
       "3        0           11         5              0                      0   \n",
       "4        0            4         5              0                      1   \n",
       "\n",
       "  general_health_code asthma_code  kidney_disease_code  skin_cancer_code  \n",
       "0                   4           1                    0                 1  \n",
       "1                   4           0                    0                 0  \n",
       "2                   1           1                    0                 0  \n",
       "3                   2           0                    0                 1  \n",
       "4                   4           0                    0                 0  \n",
       "\n",
       "[5 rows x 32 columns]"
      ]
     },
     "execution_count": 3,
     "metadata": {},
     "output_type": "execute_result"
    }
   ],
   "source": [
    "import pandas as pd\n",
    "heartdisease_df = pd.read_csv(\n",
    "    f\"{home}/csc-466-student/data/heart_disease.csv\"\n",
    ")\n",
    "heartdisease_df.head()"
   ]
  },
  {
   "cell_type": "markdown",
   "metadata": {},
   "source": [
    "We need to do some simple preprocessing before our neural network can deal with this data. "
   ]
  },
  {
   "cell_type": "code",
   "execution_count": 4,
   "metadata": {
    "tags": []
   },
   "outputs": [
    {
     "data": {
      "text/html": [
       "<div>\n",
       "<style scoped>\n",
       "    .dataframe tbody tr th:only-of-type {\n",
       "        vertical-align: middle;\n",
       "    }\n",
       "\n",
       "    .dataframe tbody tr th {\n",
       "        vertical-align: top;\n",
       "    }\n",
       "\n",
       "    .dataframe thead th {\n",
       "        text-align: right;\n",
       "    }\n",
       "</style>\n",
       "<table border=\"1\" class=\"dataframe\">\n",
       "  <thead>\n",
       "    <tr style=\"text-align: right;\">\n",
       "      <th></th>\n",
       "      <th>BMI</th>\n",
       "      <th>PhysicalHealth</th>\n",
       "      <th>MentalHealth</th>\n",
       "      <th>SleepTime</th>\n",
       "      <th>smoking_code</th>\n",
       "      <th>alcohol_code</th>\n",
       "      <th>stroke_code</th>\n",
       "      <th>difficulty_walking_code</th>\n",
       "      <th>sex_code</th>\n",
       "      <th>age_category</th>\n",
       "      <th>...</th>\n",
       "      <th>GenHealth_Fair</th>\n",
       "      <th>GenHealth_Good</th>\n",
       "      <th>GenHealth_Poor</th>\n",
       "      <th>GenHealth_Very good</th>\n",
       "      <th>Asthma_No</th>\n",
       "      <th>Asthma_Yes</th>\n",
       "      <th>KidneyDisease_No</th>\n",
       "      <th>KidneyDisease_Yes</th>\n",
       "      <th>SkinCancer_No</th>\n",
       "      <th>SkinCancer_Yes</th>\n",
       "    </tr>\n",
       "  </thead>\n",
       "  <tbody>\n",
       "    <tr>\n",
       "      <th>0</th>\n",
       "      <td>16.60</td>\n",
       "      <td>3</td>\n",
       "      <td>30</td>\n",
       "      <td>5</td>\n",
       "      <td>1</td>\n",
       "      <td>0</td>\n",
       "      <td>0</td>\n",
       "      <td>0</td>\n",
       "      <td>0</td>\n",
       "      <td>7</td>\n",
       "      <td>...</td>\n",
       "      <td>False</td>\n",
       "      <td>False</td>\n",
       "      <td>False</td>\n",
       "      <td>True</td>\n",
       "      <td>False</td>\n",
       "      <td>True</td>\n",
       "      <td>True</td>\n",
       "      <td>False</td>\n",
       "      <td>False</td>\n",
       "      <td>True</td>\n",
       "    </tr>\n",
       "    <tr>\n",
       "      <th>1</th>\n",
       "      <td>20.34</td>\n",
       "      <td>0</td>\n",
       "      <td>0</td>\n",
       "      <td>7</td>\n",
       "      <td>0</td>\n",
       "      <td>0</td>\n",
       "      <td>1</td>\n",
       "      <td>0</td>\n",
       "      <td>0</td>\n",
       "      <td>12</td>\n",
       "      <td>...</td>\n",
       "      <td>False</td>\n",
       "      <td>False</td>\n",
       "      <td>False</td>\n",
       "      <td>True</td>\n",
       "      <td>True</td>\n",
       "      <td>False</td>\n",
       "      <td>True</td>\n",
       "      <td>False</td>\n",
       "      <td>True</td>\n",
       "      <td>False</td>\n",
       "    </tr>\n",
       "    <tr>\n",
       "      <th>2</th>\n",
       "      <td>26.58</td>\n",
       "      <td>20</td>\n",
       "      <td>30</td>\n",
       "      <td>8</td>\n",
       "      <td>1</td>\n",
       "      <td>0</td>\n",
       "      <td>0</td>\n",
       "      <td>0</td>\n",
       "      <td>1</td>\n",
       "      <td>9</td>\n",
       "      <td>...</td>\n",
       "      <td>True</td>\n",
       "      <td>False</td>\n",
       "      <td>False</td>\n",
       "      <td>False</td>\n",
       "      <td>False</td>\n",
       "      <td>True</td>\n",
       "      <td>True</td>\n",
       "      <td>False</td>\n",
       "      <td>True</td>\n",
       "      <td>False</td>\n",
       "    </tr>\n",
       "    <tr>\n",
       "      <th>3</th>\n",
       "      <td>24.21</td>\n",
       "      <td>0</td>\n",
       "      <td>0</td>\n",
       "      <td>6</td>\n",
       "      <td>0</td>\n",
       "      <td>0</td>\n",
       "      <td>0</td>\n",
       "      <td>0</td>\n",
       "      <td>0</td>\n",
       "      <td>11</td>\n",
       "      <td>...</td>\n",
       "      <td>False</td>\n",
       "      <td>True</td>\n",
       "      <td>False</td>\n",
       "      <td>False</td>\n",
       "      <td>True</td>\n",
       "      <td>False</td>\n",
       "      <td>True</td>\n",
       "      <td>False</td>\n",
       "      <td>False</td>\n",
       "      <td>True</td>\n",
       "    </tr>\n",
       "    <tr>\n",
       "      <th>4</th>\n",
       "      <td>23.71</td>\n",
       "      <td>28</td>\n",
       "      <td>0</td>\n",
       "      <td>8</td>\n",
       "      <td>0</td>\n",
       "      <td>0</td>\n",
       "      <td>0</td>\n",
       "      <td>1</td>\n",
       "      <td>0</td>\n",
       "      <td>4</td>\n",
       "      <td>...</td>\n",
       "      <td>False</td>\n",
       "      <td>False</td>\n",
       "      <td>False</td>\n",
       "      <td>True</td>\n",
       "      <td>True</td>\n",
       "      <td>False</td>\n",
       "      <td>True</td>\n",
       "      <td>False</td>\n",
       "      <td>True</td>\n",
       "      <td>False</td>\n",
       "    </tr>\n",
       "  </tbody>\n",
       "</table>\n",
       "<p>5 rows × 63 columns</p>\n",
       "</div>"
      ],
      "text/plain": [
       "     BMI  PhysicalHealth  MentalHealth  SleepTime  smoking_code  alcohol_code  \\\n",
       "0  16.60               3            30          5             1             0   \n",
       "1  20.34               0             0          7             0             0   \n",
       "2  26.58              20            30          8             1             0   \n",
       "3  24.21               0             0          6             0             0   \n",
       "4  23.71              28             0          8             0             0   \n",
       "\n",
       "   stroke_code  difficulty_walking_code  sex_code  age_category  ...  \\\n",
       "0            0                        0         0             7  ...   \n",
       "1            1                        0         0            12  ...   \n",
       "2            0                        0         1             9  ...   \n",
       "3            0                        0         0            11  ...   \n",
       "4            0                        1         0             4  ...   \n",
       "\n",
       "   GenHealth_Fair  GenHealth_Good  GenHealth_Poor  GenHealth_Very good  \\\n",
       "0           False           False           False                 True   \n",
       "1           False           False           False                 True   \n",
       "2            True           False           False                False   \n",
       "3           False            True           False                False   \n",
       "4           False           False           False                 True   \n",
       "\n",
       "   Asthma_No  Asthma_Yes  KidneyDisease_No  KidneyDisease_Yes  SkinCancer_No  \\\n",
       "0      False        True              True              False          False   \n",
       "1       True       False              True              False           True   \n",
       "2      False        True              True              False           True   \n",
       "3       True       False              True              False          False   \n",
       "4       True       False              True              False           True   \n",
       "\n",
       "   SkinCancer_Yes  \n",
       "0            True  \n",
       "1           False  \n",
       "2           False  \n",
       "3            True  \n",
       "4           False  \n",
       "\n",
       "[5 rows x 63 columns]"
      ]
     },
     "execution_count": 4,
     "metadata": {},
     "output_type": "execute_result"
    }
   ],
   "source": [
    "X = heartdisease_df.drop(labels=[\"HeartDisease\", \"heart_disease\"], axis=1)[:1000]\n",
    "X = X.dropna()\n",
    "X = pd.get_dummies(X)\n",
    "X.head()"
   ]
  },
  {
   "cell_type": "code",
   "execution_count": 5,
   "metadata": {
    "tags": []
   },
   "outputs": [
    {
     "data": {
      "text/html": [
       "<div>\n",
       "<style scoped>\n",
       "    .dataframe tbody tr th:only-of-type {\n",
       "        vertical-align: middle;\n",
       "    }\n",
       "\n",
       "    .dataframe tbody tr th {\n",
       "        vertical-align: top;\n",
       "    }\n",
       "\n",
       "    .dataframe thead th {\n",
       "        text-align: right;\n",
       "    }\n",
       "</style>\n",
       "<table border=\"1\" class=\"dataframe\">\n",
       "  <thead>\n",
       "    <tr style=\"text-align: right;\">\n",
       "      <th></th>\n",
       "      <th>BMI</th>\n",
       "      <th>PhysicalHealth</th>\n",
       "      <th>MentalHealth</th>\n",
       "      <th>SleepTime</th>\n",
       "      <th>smoking_code</th>\n",
       "      <th>alcohol_code</th>\n",
       "      <th>stroke_code</th>\n",
       "      <th>difficulty_walking_code</th>\n",
       "      <th>sex_code</th>\n",
       "      <th>age_category</th>\n",
       "      <th>...</th>\n",
       "      <th>GenHealth_Fair</th>\n",
       "      <th>GenHealth_Good</th>\n",
       "      <th>GenHealth_Poor</th>\n",
       "      <th>GenHealth_Very good</th>\n",
       "      <th>Asthma_No</th>\n",
       "      <th>Asthma_Yes</th>\n",
       "      <th>KidneyDisease_No</th>\n",
       "      <th>KidneyDisease_Yes</th>\n",
       "      <th>SkinCancer_No</th>\n",
       "      <th>SkinCancer_Yes</th>\n",
       "    </tr>\n",
       "  </thead>\n",
       "  <tbody>\n",
       "    <tr>\n",
       "      <th>0</th>\n",
       "      <td>-1.902797</td>\n",
       "      <td>-0.178819</td>\n",
       "      <td>3.475697</td>\n",
       "      <td>-1.362385</td>\n",
       "      <td>1.172144</td>\n",
       "      <td>-0.178773</td>\n",
       "      <td>-0.310475</td>\n",
       "      <td>-0.615574</td>\n",
       "      <td>-0.704634</td>\n",
       "      <td>-0.908545</td>\n",
       "      <td>...</td>\n",
       "      <td>-0.474621</td>\n",
       "      <td>-0.730211</td>\n",
       "      <td>-0.290713</td>\n",
       "      <td>1.602765</td>\n",
       "      <td>-2.436904</td>\n",
       "      <td>2.436904</td>\n",
       "      <td>0.272102</td>\n",
       "      <td>-0.272102</td>\n",
       "      <td>-2.063709</td>\n",
       "      <td>2.063709</td>\n",
       "    </tr>\n",
       "    <tr>\n",
       "      <th>1</th>\n",
       "      <td>-1.334008</td>\n",
       "      <td>-0.509150</td>\n",
       "      <td>-0.431922</td>\n",
       "      <td>-0.147055</td>\n",
       "      <td>-0.852284</td>\n",
       "      <td>-0.178773</td>\n",
       "      <td>3.217650</td>\n",
       "      <td>-0.615574</td>\n",
       "      <td>-0.704634</td>\n",
       "      <td>1.150714</td>\n",
       "      <td>...</td>\n",
       "      <td>-0.474621</td>\n",
       "      <td>-0.730211</td>\n",
       "      <td>-0.290713</td>\n",
       "      <td>1.602765</td>\n",
       "      <td>0.409946</td>\n",
       "      <td>-0.409946</td>\n",
       "      <td>0.272102</td>\n",
       "      <td>-0.272102</td>\n",
       "      <td>0.484080</td>\n",
       "      <td>-0.484080</td>\n",
       "    </tr>\n",
       "    <tr>\n",
       "      <th>2</th>\n",
       "      <td>-0.385011</td>\n",
       "      <td>1.693056</td>\n",
       "      <td>3.475697</td>\n",
       "      <td>0.460610</td>\n",
       "      <td>1.172144</td>\n",
       "      <td>-0.178773</td>\n",
       "      <td>-0.310475</td>\n",
       "      <td>-0.615574</td>\n",
       "      <td>1.417757</td>\n",
       "      <td>-0.084842</td>\n",
       "      <td>...</td>\n",
       "      <td>2.104839</td>\n",
       "      <td>-0.730211</td>\n",
       "      <td>-0.290713</td>\n",
       "      <td>-0.623298</td>\n",
       "      <td>-2.436904</td>\n",
       "      <td>2.436904</td>\n",
       "      <td>0.272102</td>\n",
       "      <td>-0.272102</td>\n",
       "      <td>0.484080</td>\n",
       "      <td>-0.484080</td>\n",
       "    </tr>\n",
       "    <tr>\n",
       "      <th>3</th>\n",
       "      <td>-0.745447</td>\n",
       "      <td>-0.509150</td>\n",
       "      <td>-0.431922</td>\n",
       "      <td>-0.754720</td>\n",
       "      <td>-0.852284</td>\n",
       "      <td>-0.178773</td>\n",
       "      <td>-0.310475</td>\n",
       "      <td>-0.615574</td>\n",
       "      <td>-0.704634</td>\n",
       "      <td>0.738862</td>\n",
       "      <td>...</td>\n",
       "      <td>-0.474621</td>\n",
       "      <td>1.368097</td>\n",
       "      <td>-0.290713</td>\n",
       "      <td>-0.623298</td>\n",
       "      <td>0.409946</td>\n",
       "      <td>-0.409946</td>\n",
       "      <td>0.272102</td>\n",
       "      <td>-0.272102</td>\n",
       "      <td>-2.063709</td>\n",
       "      <td>2.063709</td>\n",
       "    </tr>\n",
       "    <tr>\n",
       "      <th>4</th>\n",
       "      <td>-0.821489</td>\n",
       "      <td>2.573939</td>\n",
       "      <td>-0.431922</td>\n",
       "      <td>0.460610</td>\n",
       "      <td>-0.852284</td>\n",
       "      <td>-0.178773</td>\n",
       "      <td>-0.310475</td>\n",
       "      <td>1.622876</td>\n",
       "      <td>-0.704634</td>\n",
       "      <td>-2.144101</td>\n",
       "      <td>...</td>\n",
       "      <td>-0.474621</td>\n",
       "      <td>-0.730211</td>\n",
       "      <td>-0.290713</td>\n",
       "      <td>1.602765</td>\n",
       "      <td>0.409946</td>\n",
       "      <td>-0.409946</td>\n",
       "      <td>0.272102</td>\n",
       "      <td>-0.272102</td>\n",
       "      <td>0.484080</td>\n",
       "      <td>-0.484080</td>\n",
       "    </tr>\n",
       "    <tr>\n",
       "      <th>...</th>\n",
       "      <td>...</td>\n",
       "      <td>...</td>\n",
       "      <td>...</td>\n",
       "      <td>...</td>\n",
       "      <td>...</td>\n",
       "      <td>...</td>\n",
       "      <td>...</td>\n",
       "      <td>...</td>\n",
       "      <td>...</td>\n",
       "      <td>...</td>\n",
       "      <td>...</td>\n",
       "      <td>...</td>\n",
       "      <td>...</td>\n",
       "      <td>...</td>\n",
       "      <td>...</td>\n",
       "      <td>...</td>\n",
       "      <td>...</td>\n",
       "      <td>...</td>\n",
       "      <td>...</td>\n",
       "      <td>...</td>\n",
       "      <td>...</td>\n",
       "    </tr>\n",
       "    <tr>\n",
       "      <th>995</th>\n",
       "      <td>-0.124950</td>\n",
       "      <td>0.591953</td>\n",
       "      <td>2.173157</td>\n",
       "      <td>0.460610</td>\n",
       "      <td>1.172144</td>\n",
       "      <td>-0.178773</td>\n",
       "      <td>-0.310475</td>\n",
       "      <td>-0.615574</td>\n",
       "      <td>-0.704634</td>\n",
       "      <td>-0.084842</td>\n",
       "      <td>...</td>\n",
       "      <td>2.104839</td>\n",
       "      <td>-0.730211</td>\n",
       "      <td>-0.290713</td>\n",
       "      <td>-0.623298</td>\n",
       "      <td>0.409946</td>\n",
       "      <td>-0.409946</td>\n",
       "      <td>0.272102</td>\n",
       "      <td>-0.272102</td>\n",
       "      <td>0.484080</td>\n",
       "      <td>-0.484080</td>\n",
       "    </tr>\n",
       "    <tr>\n",
       "      <th>996</th>\n",
       "      <td>-0.520365</td>\n",
       "      <td>-0.509150</td>\n",
       "      <td>-0.431922</td>\n",
       "      <td>0.460610</td>\n",
       "      <td>1.172144</td>\n",
       "      <td>-0.178773</td>\n",
       "      <td>-0.310475</td>\n",
       "      <td>-0.615574</td>\n",
       "      <td>-0.704634</td>\n",
       "      <td>0.738862</td>\n",
       "      <td>...</td>\n",
       "      <td>-0.474621</td>\n",
       "      <td>-0.730211</td>\n",
       "      <td>-0.290713</td>\n",
       "      <td>-0.623298</td>\n",
       "      <td>0.409946</td>\n",
       "      <td>-0.409946</td>\n",
       "      <td>0.272102</td>\n",
       "      <td>-0.272102</td>\n",
       "      <td>0.484080</td>\n",
       "      <td>-0.484080</td>\n",
       "    </tr>\n",
       "    <tr>\n",
       "      <th>997</th>\n",
       "      <td>-0.322657</td>\n",
       "      <td>-0.399040</td>\n",
       "      <td>-0.431922</td>\n",
       "      <td>0.460610</td>\n",
       "      <td>-0.852284</td>\n",
       "      <td>-0.178773</td>\n",
       "      <td>-0.310475</td>\n",
       "      <td>-0.615574</td>\n",
       "      <td>1.417757</td>\n",
       "      <td>0.327010</td>\n",
       "      <td>...</td>\n",
       "      <td>-0.474621</td>\n",
       "      <td>-0.730211</td>\n",
       "      <td>-0.290713</td>\n",
       "      <td>1.602765</td>\n",
       "      <td>0.409946</td>\n",
       "      <td>-0.409946</td>\n",
       "      <td>0.272102</td>\n",
       "      <td>-0.272102</td>\n",
       "      <td>0.484080</td>\n",
       "      <td>-0.484080</td>\n",
       "    </tr>\n",
       "    <tr>\n",
       "      <th>998</th>\n",
       "      <td>2.308374</td>\n",
       "      <td>2.794160</td>\n",
       "      <td>-0.431922</td>\n",
       "      <td>-0.754720</td>\n",
       "      <td>-0.852284</td>\n",
       "      <td>-0.178773</td>\n",
       "      <td>-0.310475</td>\n",
       "      <td>1.622876</td>\n",
       "      <td>-0.704634</td>\n",
       "      <td>0.327010</td>\n",
       "      <td>...</td>\n",
       "      <td>-0.474621</td>\n",
       "      <td>1.368097</td>\n",
       "      <td>-0.290713</td>\n",
       "      <td>-0.623298</td>\n",
       "      <td>-2.436904</td>\n",
       "      <td>2.436904</td>\n",
       "      <td>0.272102</td>\n",
       "      <td>-0.272102</td>\n",
       "      <td>0.484080</td>\n",
       "      <td>-0.484080</td>\n",
       "    </tr>\n",
       "    <tr>\n",
       "      <th>999</th>\n",
       "      <td>-0.499073</td>\n",
       "      <td>-0.509150</td>\n",
       "      <td>-0.431922</td>\n",
       "      <td>-0.147055</td>\n",
       "      <td>-0.852284</td>\n",
       "      <td>-0.178773</td>\n",
       "      <td>-0.310475</td>\n",
       "      <td>-0.615574</td>\n",
       "      <td>1.417757</td>\n",
       "      <td>0.327010</td>\n",
       "      <td>...</td>\n",
       "      <td>-0.474621</td>\n",
       "      <td>-0.730211</td>\n",
       "      <td>-0.290713</td>\n",
       "      <td>-0.623298</td>\n",
       "      <td>0.409946</td>\n",
       "      <td>-0.409946</td>\n",
       "      <td>0.272102</td>\n",
       "      <td>-0.272102</td>\n",
       "      <td>0.484080</td>\n",
       "      <td>-0.484080</td>\n",
       "    </tr>\n",
       "  </tbody>\n",
       "</table>\n",
       "<p>1000 rows × 63 columns</p>\n",
       "</div>"
      ],
      "text/plain": [
       "          BMI  PhysicalHealth  MentalHealth  SleepTime  smoking_code  \\\n",
       "0   -1.902797       -0.178819      3.475697  -1.362385      1.172144   \n",
       "1   -1.334008       -0.509150     -0.431922  -0.147055     -0.852284   \n",
       "2   -0.385011        1.693056      3.475697   0.460610      1.172144   \n",
       "3   -0.745447       -0.509150     -0.431922  -0.754720     -0.852284   \n",
       "4   -0.821489        2.573939     -0.431922   0.460610     -0.852284   \n",
       "..        ...             ...           ...        ...           ...   \n",
       "995 -0.124950        0.591953      2.173157   0.460610      1.172144   \n",
       "996 -0.520365       -0.509150     -0.431922   0.460610      1.172144   \n",
       "997 -0.322657       -0.399040     -0.431922   0.460610     -0.852284   \n",
       "998  2.308374        2.794160     -0.431922  -0.754720     -0.852284   \n",
       "999 -0.499073       -0.509150     -0.431922  -0.147055     -0.852284   \n",
       "\n",
       "     alcohol_code  stroke_code  difficulty_walking_code  sex_code  \\\n",
       "0       -0.178773    -0.310475                -0.615574 -0.704634   \n",
       "1       -0.178773     3.217650                -0.615574 -0.704634   \n",
       "2       -0.178773    -0.310475                -0.615574  1.417757   \n",
       "3       -0.178773    -0.310475                -0.615574 -0.704634   \n",
       "4       -0.178773    -0.310475                 1.622876 -0.704634   \n",
       "..            ...          ...                      ...       ...   \n",
       "995     -0.178773    -0.310475                -0.615574 -0.704634   \n",
       "996     -0.178773    -0.310475                -0.615574 -0.704634   \n",
       "997     -0.178773    -0.310475                -0.615574  1.417757   \n",
       "998     -0.178773    -0.310475                 1.622876 -0.704634   \n",
       "999     -0.178773    -0.310475                -0.615574  1.417757   \n",
       "\n",
       "     age_category  ...  GenHealth_Fair  GenHealth_Good  GenHealth_Poor  \\\n",
       "0       -0.908545  ...       -0.474621       -0.730211       -0.290713   \n",
       "1        1.150714  ...       -0.474621       -0.730211       -0.290713   \n",
       "2       -0.084842  ...        2.104839       -0.730211       -0.290713   \n",
       "3        0.738862  ...       -0.474621        1.368097       -0.290713   \n",
       "4       -2.144101  ...       -0.474621       -0.730211       -0.290713   \n",
       "..            ...  ...             ...             ...             ...   \n",
       "995     -0.084842  ...        2.104839       -0.730211       -0.290713   \n",
       "996      0.738862  ...       -0.474621       -0.730211       -0.290713   \n",
       "997      0.327010  ...       -0.474621       -0.730211       -0.290713   \n",
       "998      0.327010  ...       -0.474621        1.368097       -0.290713   \n",
       "999      0.327010  ...       -0.474621       -0.730211       -0.290713   \n",
       "\n",
       "     GenHealth_Very good  Asthma_No  Asthma_Yes  KidneyDisease_No  \\\n",
       "0               1.602765  -2.436904    2.436904          0.272102   \n",
       "1               1.602765   0.409946   -0.409946          0.272102   \n",
       "2              -0.623298  -2.436904    2.436904          0.272102   \n",
       "3              -0.623298   0.409946   -0.409946          0.272102   \n",
       "4               1.602765   0.409946   -0.409946          0.272102   \n",
       "..                   ...        ...         ...               ...   \n",
       "995            -0.623298   0.409946   -0.409946          0.272102   \n",
       "996            -0.623298   0.409946   -0.409946          0.272102   \n",
       "997             1.602765   0.409946   -0.409946          0.272102   \n",
       "998            -0.623298  -2.436904    2.436904          0.272102   \n",
       "999            -0.623298   0.409946   -0.409946          0.272102   \n",
       "\n",
       "     KidneyDisease_Yes  SkinCancer_No  SkinCancer_Yes  \n",
       "0            -0.272102      -2.063709        2.063709  \n",
       "1            -0.272102       0.484080       -0.484080  \n",
       "2            -0.272102       0.484080       -0.484080  \n",
       "3            -0.272102      -2.063709        2.063709  \n",
       "4            -0.272102       0.484080       -0.484080  \n",
       "..                 ...            ...             ...  \n",
       "995          -0.272102       0.484080       -0.484080  \n",
       "996          -0.272102       0.484080       -0.484080  \n",
       "997          -0.272102       0.484080       -0.484080  \n",
       "998          -0.272102       0.484080       -0.484080  \n",
       "999          -0.272102       0.484080       -0.484080  \n",
       "\n",
       "[1000 rows x 63 columns]"
      ]
     },
     "execution_count": 5,
     "metadata": {},
     "output_type": "execute_result"
    }
   ],
   "source": [
    "# Standard scaling\n",
    "means = X.mean()\n",
    "sds = X.std()\n",
    "X2 = X.apply(lambda x: (x-means)/sds,axis=1)\n",
    "X2"
   ]
  },
  {
   "cell_type": "code",
   "execution_count": 6,
   "metadata": {
    "tags": []
   },
   "outputs": [
    {
     "data": {
      "text/plain": [
       "heart_disease\n",
       "0    849\n",
       "1    151\n",
       "Name: count, dtype: int64"
      ]
     },
     "execution_count": 6,
     "metadata": {},
     "output_type": "execute_result"
    }
   ],
   "source": [
    "t = heartdisease_df.loc[X2.index,'heart_disease']\n",
    "t.value_counts()"
   ]
  },
  {
   "cell_type": "markdown",
   "metadata": {},
   "source": [
    "#### Problem 1\n",
    "In your own words, describe the preprocessing steps I took above."
   ]
  },
  {
   "cell_type": "markdown",
   "metadata": {},
   "source": [
    "**Upload your solution/answer to Canvas.**"
   ]
  },
  {
   "cell_type": "markdown",
   "metadata": {},
   "source": [
    "### Training the network\n",
    "We are now going to train the network. We'll use the defaults that I've set in the function, but feel free to change them around and see how you can do. I am going to show you how setting the seed makes a difference in training the algorithm."
   ]
  },
  {
   "cell_type": "code",
   "execution_count": 7,
   "metadata": {
    "tags": []
   },
   "outputs": [],
   "source": [
    "seeds = [0,1,2,3,4,5]\n",
    "results = None\n",
    "w = {}\n",
    "X_test = {}\n",
    "t_test = {}\n",
    "for seed in seeds:\n",
    "    w[seed],X_test[seed],t_test[seed],results1 = Lab3_helper.train(X2,t,seed=seed)\n",
    "    if results is None:\n",
    "        results = results1\n",
    "    else:\n",
    "        results = pd.concat([results,results1])"
   ]
  },
  {
   "cell_type": "code",
   "execution_count": 8,
   "metadata": {
    "tags": []
   },
   "outputs": [
    {
     "data": {
      "text/html": [
       "\n",
       "<style>\n",
       "  #altair-viz-03d9e6d2acbf4bfeadf1b95b6ad88bed.vega-embed {\n",
       "    width: 100%;\n",
       "    display: flex;\n",
       "  }\n",
       "\n",
       "  #altair-viz-03d9e6d2acbf4bfeadf1b95b6ad88bed.vega-embed details,\n",
       "  #altair-viz-03d9e6d2acbf4bfeadf1b95b6ad88bed.vega-embed details summary {\n",
       "    position: relative;\n",
       "  }\n",
       "</style>\n",
       "<div id=\"altair-viz-03d9e6d2acbf4bfeadf1b95b6ad88bed\"></div>\n",
       "<script type=\"text/javascript\">\n",
       "  var VEGA_DEBUG = (typeof VEGA_DEBUG == \"undefined\") ? {} : VEGA_DEBUG;\n",
       "  (function(spec, embedOpt){\n",
       "    let outputDiv = document.currentScript.previousElementSibling;\n",
       "    if (outputDiv.id !== \"altair-viz-03d9e6d2acbf4bfeadf1b95b6ad88bed\") {\n",
       "      outputDiv = document.getElementById(\"altair-viz-03d9e6d2acbf4bfeadf1b95b6ad88bed\");\n",
       "    }\n",
       "    const paths = {\n",
       "      \"vega\": \"https://cdn.jsdelivr.net/npm/vega@5?noext\",\n",
       "      \"vega-lib\": \"https://cdn.jsdelivr.net/npm/vega-lib?noext\",\n",
       "      \"vega-lite\": \"https://cdn.jsdelivr.net/npm/vega-lite@5.8.0?noext\",\n",
       "      \"vega-embed\": \"https://cdn.jsdelivr.net/npm/vega-embed@6?noext\",\n",
       "    };\n",
       "\n",
       "    function maybeLoadScript(lib, version) {\n",
       "      var key = `${lib.replace(\"-\", \"\")}_version`;\n",
       "      return (VEGA_DEBUG[key] == version) ?\n",
       "        Promise.resolve(paths[lib]) :\n",
       "        new Promise(function(resolve, reject) {\n",
       "          var s = document.createElement('script');\n",
       "          document.getElementsByTagName(\"head\")[0].appendChild(s);\n",
       "          s.async = true;\n",
       "          s.onload = () => {\n",
       "            VEGA_DEBUG[key] = version;\n",
       "            return resolve(paths[lib]);\n",
       "          };\n",
       "          s.onerror = () => reject(`Error loading script: ${paths[lib]}`);\n",
       "          s.src = paths[lib];\n",
       "        });\n",
       "    }\n",
       "\n",
       "    function showError(err) {\n",
       "      outputDiv.innerHTML = `<div class=\"error\" style=\"color:red;\">${err}</div>`;\n",
       "      throw err;\n",
       "    }\n",
       "\n",
       "    function displayChart(vegaEmbed) {\n",
       "      vegaEmbed(outputDiv, spec, embedOpt)\n",
       "        .catch(err => showError(`Javascript Error: ${err.message}<br>This usually means there's a typo in your chart specification. See the javascript console for the full traceback.`));\n",
       "    }\n",
       "\n",
       "    if(typeof define === \"function\" && define.amd) {\n",
       "      requirejs.config({paths});\n",
       "      require([\"vega-embed\"], displayChart, err => showError(`Error loading script: ${err.message}`));\n",
       "    } else {\n",
       "      maybeLoadScript(\"vega\", \"5\")\n",
       "        .then(() => maybeLoadScript(\"vega-lite\", \"5.8.0\"))\n",
       "        .then(() => maybeLoadScript(\"vega-embed\", \"6\"))\n",
       "        .catch(showError)\n",
       "        .then(() => displayChart(vegaEmbed));\n",
       "    }\n",
       "  })({\"config\": {\"view\": {\"continuousWidth\": 300, \"continuousHeight\": 300}}, \"data\": {\"name\": \"data-c970ecc3e9ea3de89f3aefff4bdf46b1\"}, \"mark\": {\"type\": \"line\"}, \"encoding\": {\"color\": {\"field\": \"variable\", \"type\": \"nominal\"}, \"column\": {\"field\": \"seed\", \"type\": \"quantitative\"}, \"x\": {\"field\": \"epoch\", \"type\": \"quantitative\"}, \"y\": {\"field\": \"value\", \"title\": \"Accuracy\", \"type\": \"quantitative\"}}, \"$schema\": \"https://vega.github.io/schema/vega-lite/v5.8.0.json\", \"datasets\": {\"data-c970ecc3e9ea3de89f3aefff4bdf46b1\": [{\"epoch\": 1, \"seed\": 0, \"variable\": \"train_accuracy\", \"value\": 0.4673469387755102}, {\"epoch\": 2, \"seed\": 0, \"variable\": \"train_accuracy\", \"value\": 0.6795918367346939}, {\"epoch\": 3, \"seed\": 0, \"variable\": \"train_accuracy\", \"value\": 0.6877551020408164}, {\"epoch\": 4, \"seed\": 0, \"variable\": \"train_accuracy\", \"value\": 0.6979591836734694}, {\"epoch\": 5, \"seed\": 0, \"variable\": \"train_accuracy\", \"value\": 0.7}, {\"epoch\": 6, \"seed\": 0, \"variable\": \"train_accuracy\", \"value\": 0.6938775510204082}, {\"epoch\": 7, \"seed\": 0, \"variable\": \"train_accuracy\", \"value\": 0.7040816326530612}, {\"epoch\": 8, \"seed\": 0, \"variable\": \"train_accuracy\", \"value\": 0.7081632653061225}, {\"epoch\": 9, \"seed\": 0, \"variable\": \"train_accuracy\", \"value\": 0.710204081632653}, {\"epoch\": 10, \"seed\": 0, \"variable\": \"train_accuracy\", \"value\": 0.7142857142857143}, {\"epoch\": 11, \"seed\": 0, \"variable\": \"train_accuracy\", \"value\": 0.736734693877551}, {\"epoch\": 12, \"seed\": 0, \"variable\": \"train_accuracy\", \"value\": 0.7591836734693878}, {\"epoch\": 13, \"seed\": 0, \"variable\": \"train_accuracy\", \"value\": 0.7877551020408163}, {\"epoch\": 14, \"seed\": 0, \"variable\": \"train_accuracy\", \"value\": 0.7877551020408163}, {\"epoch\": 15, \"seed\": 0, \"variable\": \"train_accuracy\", \"value\": 0.8122448979591836}, {\"epoch\": 16, \"seed\": 0, \"variable\": \"train_accuracy\", \"value\": 0.8183673469387756}, {\"epoch\": 17, \"seed\": 0, \"variable\": \"train_accuracy\", \"value\": 0.7979591836734694}, {\"epoch\": 18, \"seed\": 0, \"variable\": \"train_accuracy\", \"value\": 0.8183673469387756}, {\"epoch\": 19, \"seed\": 0, \"variable\": \"train_accuracy\", \"value\": 0.8244897959183674}, {\"epoch\": 20, \"seed\": 0, \"variable\": \"train_accuracy\", \"value\": 0.826530612244898}, {\"epoch\": 21, \"seed\": 0, \"variable\": \"train_accuracy\", \"value\": 0.826530612244898}, {\"epoch\": 22, \"seed\": 0, \"variable\": \"train_accuracy\", \"value\": 0.8163265306122449}, {\"epoch\": 23, \"seed\": 0, \"variable\": \"train_accuracy\", \"value\": 0.8244897959183674}, {\"epoch\": 24, \"seed\": 0, \"variable\": \"train_accuracy\", \"value\": 0.8326530612244898}, {\"epoch\": 25, \"seed\": 0, \"variable\": \"train_accuracy\", \"value\": 0.8326530612244898}, {\"epoch\": 26, \"seed\": 0, \"variable\": \"train_accuracy\", \"value\": 0.8367346938775511}, {\"epoch\": 27, \"seed\": 0, \"variable\": \"train_accuracy\", \"value\": 0.8244897959183674}, {\"epoch\": 28, \"seed\": 0, \"variable\": \"train_accuracy\", \"value\": 0.8244897959183674}, {\"epoch\": 29, \"seed\": 0, \"variable\": \"train_accuracy\", \"value\": 0.8367346938775511}, {\"epoch\": 30, \"seed\": 0, \"variable\": \"train_accuracy\", \"value\": 0.8285714285714286}, {\"epoch\": 31, \"seed\": 0, \"variable\": \"train_accuracy\", \"value\": 0.8346938775510204}, {\"epoch\": 32, \"seed\": 0, \"variable\": \"train_accuracy\", \"value\": 0.8326530612244898}, {\"epoch\": 33, \"seed\": 0, \"variable\": \"train_accuracy\", \"value\": 0.8387755102040816}, {\"epoch\": 34, \"seed\": 0, \"variable\": \"train_accuracy\", \"value\": 0.8387755102040816}, {\"epoch\": 35, \"seed\": 0, \"variable\": \"train_accuracy\", \"value\": 0.8346938775510204}, {\"epoch\": 36, \"seed\": 0, \"variable\": \"train_accuracy\", \"value\": 0.8346938775510204}, {\"epoch\": 37, \"seed\": 0, \"variable\": \"train_accuracy\", \"value\": 0.8387755102040816}, {\"epoch\": 38, \"seed\": 0, \"variable\": \"train_accuracy\", \"value\": 0.8163265306122449}, {\"epoch\": 39, \"seed\": 0, \"variable\": \"train_accuracy\", \"value\": 0.7959183673469388}, {\"epoch\": 40, \"seed\": 0, \"variable\": \"train_accuracy\", \"value\": 0.8285714285714286}, {\"epoch\": 41, \"seed\": 0, \"variable\": \"train_accuracy\", \"value\": 0.8204081632653061}, {\"epoch\": 42, \"seed\": 0, \"variable\": \"train_accuracy\", \"value\": 0.8183673469387756}, {\"epoch\": 43, \"seed\": 0, \"variable\": \"train_accuracy\", \"value\": 0.8306122448979592}, {\"epoch\": 44, \"seed\": 0, \"variable\": \"train_accuracy\", \"value\": 0.8285714285714286}, {\"epoch\": 45, \"seed\": 0, \"variable\": \"train_accuracy\", \"value\": 0.8163265306122449}, {\"epoch\": 46, \"seed\": 0, \"variable\": \"train_accuracy\", \"value\": 0.8224489795918367}, {\"epoch\": 47, \"seed\": 0, \"variable\": \"train_accuracy\", \"value\": 0.8326530612244898}, {\"epoch\": 48, \"seed\": 0, \"variable\": \"train_accuracy\", \"value\": 0.8326530612244898}, {\"epoch\": 49, \"seed\": 0, \"variable\": \"train_accuracy\", \"value\": 0.8408163265306122}, {\"epoch\": 50, \"seed\": 0, \"variable\": \"train_accuracy\", \"value\": 0.8428571428571429}, {\"epoch\": 51, \"seed\": 0, \"variable\": \"train_accuracy\", \"value\": 0.8367346938775511}, {\"epoch\": 52, \"seed\": 0, \"variable\": \"train_accuracy\", \"value\": 0.8408163265306122}, {\"epoch\": 53, \"seed\": 0, \"variable\": \"train_accuracy\", \"value\": 0.8448979591836735}, {\"epoch\": 54, \"seed\": 0, \"variable\": \"train_accuracy\", \"value\": 0.8408163265306122}, {\"epoch\": 55, \"seed\": 0, \"variable\": \"train_accuracy\", \"value\": 0.8346938775510204}, {\"epoch\": 56, \"seed\": 0, \"variable\": \"train_accuracy\", \"value\": 0.8285714285714286}, {\"epoch\": 57, \"seed\": 0, \"variable\": \"train_accuracy\", \"value\": 0.8408163265306122}, {\"epoch\": 58, \"seed\": 0, \"variable\": \"train_accuracy\", \"value\": 0.8448979591836735}, {\"epoch\": 59, \"seed\": 0, \"variable\": \"train_accuracy\", \"value\": 0.8408163265306122}, {\"epoch\": 60, \"seed\": 0, \"variable\": \"train_accuracy\", \"value\": 0.8367346938775511}, {\"epoch\": 61, \"seed\": 0, \"variable\": \"train_accuracy\", \"value\": 0.8326530612244898}, {\"epoch\": 62, \"seed\": 0, \"variable\": \"train_accuracy\", \"value\": 0.8387755102040816}, {\"epoch\": 63, \"seed\": 0, \"variable\": \"train_accuracy\", \"value\": 0.8326530612244898}, {\"epoch\": 64, \"seed\": 0, \"variable\": \"train_accuracy\", \"value\": 0.8387755102040816}, {\"epoch\": 65, \"seed\": 0, \"variable\": \"train_accuracy\", \"value\": 0.8387755102040816}, {\"epoch\": 66, \"seed\": 0, \"variable\": \"train_accuracy\", \"value\": 0.8285714285714286}, {\"epoch\": 67, \"seed\": 0, \"variable\": \"train_accuracy\", \"value\": 0.8306122448979592}, {\"epoch\": 68, \"seed\": 0, \"variable\": \"train_accuracy\", \"value\": 0.8367346938775511}, {\"epoch\": 69, \"seed\": 0, \"variable\": \"train_accuracy\", \"value\": 0.8408163265306122}, {\"epoch\": 70, \"seed\": 0, \"variable\": \"train_accuracy\", \"value\": 0.8346938775510204}, {\"epoch\": 71, \"seed\": 0, \"variable\": \"train_accuracy\", \"value\": 0.8387755102040816}, {\"epoch\": 72, \"seed\": 0, \"variable\": \"train_accuracy\", \"value\": 0.8408163265306122}, {\"epoch\": 73, \"seed\": 0, \"variable\": \"train_accuracy\", \"value\": 0.8326530612244898}, {\"epoch\": 74, \"seed\": 0, \"variable\": \"train_accuracy\", \"value\": 0.8387755102040816}, {\"epoch\": 75, \"seed\": 0, \"variable\": \"train_accuracy\", \"value\": 0.8387755102040816}, {\"epoch\": 76, \"seed\": 0, \"variable\": \"train_accuracy\", \"value\": 0.8326530612244898}, {\"epoch\": 77, \"seed\": 0, \"variable\": \"train_accuracy\", \"value\": 0.8367346938775511}, {\"epoch\": 78, \"seed\": 0, \"variable\": \"train_accuracy\", \"value\": 0.8408163265306122}, {\"epoch\": 79, \"seed\": 0, \"variable\": \"train_accuracy\", \"value\": 0.8428571428571429}, {\"epoch\": 80, \"seed\": 0, \"variable\": \"train_accuracy\", \"value\": 0.8408163265306122}, {\"epoch\": 81, \"seed\": 0, \"variable\": \"train_accuracy\", \"value\": 0.8367346938775511}, {\"epoch\": 82, \"seed\": 0, \"variable\": \"train_accuracy\", \"value\": 0.8387755102040816}, {\"epoch\": 83, \"seed\": 0, \"variable\": \"train_accuracy\", \"value\": 0.8408163265306122}, {\"epoch\": 84, \"seed\": 0, \"variable\": \"train_accuracy\", \"value\": 0.8408163265306122}, {\"epoch\": 85, \"seed\": 0, \"variable\": \"train_accuracy\", \"value\": 0.8346938775510204}, {\"epoch\": 86, \"seed\": 0, \"variable\": \"train_accuracy\", \"value\": 0.8428571428571429}, {\"epoch\": 87, \"seed\": 0, \"variable\": \"train_accuracy\", \"value\": 0.8428571428571429}, {\"epoch\": 88, \"seed\": 0, \"variable\": \"train_accuracy\", \"value\": 0.8387755102040816}, {\"epoch\": 89, \"seed\": 0, \"variable\": \"train_accuracy\", \"value\": 0.8408163265306122}, {\"epoch\": 90, \"seed\": 0, \"variable\": \"train_accuracy\", \"value\": 0.8469387755102041}, {\"epoch\": 91, \"seed\": 0, \"variable\": \"train_accuracy\", \"value\": 0.8428571428571429}, {\"epoch\": 92, \"seed\": 0, \"variable\": \"train_accuracy\", \"value\": 0.8367346938775511}, {\"epoch\": 93, \"seed\": 0, \"variable\": \"train_accuracy\", \"value\": 0.8244897959183674}, {\"epoch\": 94, \"seed\": 0, \"variable\": \"train_accuracy\", \"value\": 0.8346938775510204}, {\"epoch\": 95, \"seed\": 0, \"variable\": \"train_accuracy\", \"value\": 0.8408163265306122}, {\"epoch\": 96, \"seed\": 0, \"variable\": \"train_accuracy\", \"value\": 0.8408163265306122}, {\"epoch\": 97, \"seed\": 0, \"variable\": \"train_accuracy\", \"value\": 0.8428571428571429}, {\"epoch\": 98, \"seed\": 0, \"variable\": \"train_accuracy\", \"value\": 0.8367346938775511}, {\"epoch\": 99, \"seed\": 0, \"variable\": \"train_accuracy\", \"value\": 0.8469387755102041}, {\"epoch\": 100, \"seed\": 0, \"variable\": \"train_accuracy\", \"value\": 0.8469387755102041}, {\"epoch\": 101, \"seed\": 0, \"variable\": \"train_accuracy\", \"value\": 0.8326530612244898}, {\"epoch\": 102, \"seed\": 0, \"variable\": \"train_accuracy\", \"value\": 0.8326530612244898}, {\"epoch\": 103, \"seed\": 0, \"variable\": \"train_accuracy\", \"value\": 0.8387755102040816}, {\"epoch\": 104, \"seed\": 0, \"variable\": \"train_accuracy\", \"value\": 0.8408163265306122}, {\"epoch\": 105, \"seed\": 0, \"variable\": \"train_accuracy\", \"value\": 0.8448979591836735}, {\"epoch\": 106, \"seed\": 0, \"variable\": \"train_accuracy\", \"value\": 0.8448979591836735}, {\"epoch\": 107, \"seed\": 0, \"variable\": \"train_accuracy\", \"value\": 0.8428571428571429}, {\"epoch\": 108, \"seed\": 0, \"variable\": \"train_accuracy\", \"value\": 0.8428571428571429}, {\"epoch\": 109, \"seed\": 0, \"variable\": \"train_accuracy\", \"value\": 0.8408163265306122}, {\"epoch\": 110, \"seed\": 0, \"variable\": \"train_accuracy\", \"value\": 0.8326530612244898}, {\"epoch\": 111, \"seed\": 0, \"variable\": \"train_accuracy\", \"value\": 0.8408163265306122}, {\"epoch\": 112, \"seed\": 0, \"variable\": \"train_accuracy\", \"value\": 0.8448979591836735}, {\"epoch\": 113, \"seed\": 0, \"variable\": \"train_accuracy\", \"value\": 0.8387755102040816}, {\"epoch\": 114, \"seed\": 0, \"variable\": \"train_accuracy\", \"value\": 0.8428571428571429}, {\"epoch\": 115, \"seed\": 0, \"variable\": \"train_accuracy\", \"value\": 0.8448979591836735}, {\"epoch\": 116, \"seed\": 0, \"variable\": \"train_accuracy\", \"value\": 0.8448979591836735}, {\"epoch\": 117, \"seed\": 0, \"variable\": \"train_accuracy\", \"value\": 0.8387755102040816}, {\"epoch\": 118, \"seed\": 0, \"variable\": \"train_accuracy\", \"value\": 0.8387755102040816}, {\"epoch\": 119, \"seed\": 0, \"variable\": \"train_accuracy\", \"value\": 0.8408163265306122}, {\"epoch\": 120, \"seed\": 0, \"variable\": \"train_accuracy\", \"value\": 0.8428571428571429}, {\"epoch\": 121, \"seed\": 0, \"variable\": \"train_accuracy\", \"value\": 0.8428571428571429}, {\"epoch\": 122, \"seed\": 0, \"variable\": \"train_accuracy\", \"value\": 0.8408163265306122}, {\"epoch\": 123, \"seed\": 0, \"variable\": \"train_accuracy\", \"value\": 0.8448979591836735}, {\"epoch\": 124, \"seed\": 0, \"variable\": \"train_accuracy\", \"value\": 0.8428571428571429}, {\"epoch\": 125, \"seed\": 0, \"variable\": \"train_accuracy\", \"value\": 0.8408163265306122}, {\"epoch\": 126, \"seed\": 0, \"variable\": \"train_accuracy\", \"value\": 0.8428571428571429}, {\"epoch\": 127, \"seed\": 0, \"variable\": \"train_accuracy\", \"value\": 0.8367346938775511}, {\"epoch\": 128, \"seed\": 0, \"variable\": \"train_accuracy\", \"value\": 0.8428571428571429}, {\"epoch\": 129, \"seed\": 0, \"variable\": \"train_accuracy\", \"value\": 0.8367346938775511}, {\"epoch\": 130, \"seed\": 0, \"variable\": \"train_accuracy\", \"value\": 0.8469387755102041}, {\"epoch\": 131, \"seed\": 0, \"variable\": \"train_accuracy\", \"value\": 0.8469387755102041}, {\"epoch\": 132, \"seed\": 0, \"variable\": \"train_accuracy\", \"value\": 0.8469387755102041}, {\"epoch\": 133, \"seed\": 0, \"variable\": \"train_accuracy\", \"value\": 0.8408163265306122}, {\"epoch\": 134, \"seed\": 0, \"variable\": \"train_accuracy\", \"value\": 0.8306122448979592}, {\"epoch\": 135, \"seed\": 0, \"variable\": \"train_accuracy\", \"value\": 0.8367346938775511}, {\"epoch\": 136, \"seed\": 0, \"variable\": \"train_accuracy\", \"value\": 0.8428571428571429}, {\"epoch\": 137, \"seed\": 0, \"variable\": \"train_accuracy\", \"value\": 0.8469387755102041}, {\"epoch\": 138, \"seed\": 0, \"variable\": \"train_accuracy\", \"value\": 0.8428571428571429}, {\"epoch\": 139, \"seed\": 0, \"variable\": \"train_accuracy\", \"value\": 0.8346938775510204}, {\"epoch\": 140, \"seed\": 0, \"variable\": \"train_accuracy\", \"value\": 0.8367346938775511}, {\"epoch\": 141, \"seed\": 0, \"variable\": \"train_accuracy\", \"value\": 0.8428571428571429}, {\"epoch\": 142, \"seed\": 0, \"variable\": \"train_accuracy\", \"value\": 0.8367346938775511}, {\"epoch\": 143, \"seed\": 0, \"variable\": \"train_accuracy\", \"value\": 0.8408163265306122}, {\"epoch\": 144, \"seed\": 0, \"variable\": \"train_accuracy\", \"value\": 0.8387755102040816}, {\"epoch\": 145, \"seed\": 0, \"variable\": \"train_accuracy\", \"value\": 0.8469387755102041}, {\"epoch\": 146, \"seed\": 0, \"variable\": \"train_accuracy\", \"value\": 0.8489795918367347}, {\"epoch\": 147, \"seed\": 0, \"variable\": \"train_accuracy\", \"value\": 0.8469387755102041}, {\"epoch\": 148, \"seed\": 0, \"variable\": \"train_accuracy\", \"value\": 0.8346938775510204}, {\"epoch\": 149, \"seed\": 0, \"variable\": \"train_accuracy\", \"value\": 0.8326530612244898}, {\"epoch\": 150, \"seed\": 0, \"variable\": \"train_accuracy\", \"value\": 0.8387755102040816}, {\"epoch\": 151, \"seed\": 0, \"variable\": \"train_accuracy\", \"value\": 0.8489795918367347}, {\"epoch\": 152, \"seed\": 0, \"variable\": \"train_accuracy\", \"value\": 0.8489795918367347}, {\"epoch\": 153, \"seed\": 0, \"variable\": \"train_accuracy\", \"value\": 0.8530612244897959}, {\"epoch\": 154, \"seed\": 0, \"variable\": \"train_accuracy\", \"value\": 0.8469387755102041}, {\"epoch\": 155, \"seed\": 0, \"variable\": \"train_accuracy\", \"value\": 0.8428571428571429}, {\"epoch\": 156, \"seed\": 0, \"variable\": \"train_accuracy\", \"value\": 0.8448979591836735}, {\"epoch\": 157, \"seed\": 0, \"variable\": \"train_accuracy\", \"value\": 0.8408163265306122}, {\"epoch\": 158, \"seed\": 0, \"variable\": \"train_accuracy\", \"value\": 0.8408163265306122}, {\"epoch\": 159, \"seed\": 0, \"variable\": \"train_accuracy\", \"value\": 0.8428571428571429}, {\"epoch\": 160, \"seed\": 0, \"variable\": \"train_accuracy\", \"value\": 0.8408163265306122}, {\"epoch\": 161, \"seed\": 0, \"variable\": \"train_accuracy\", \"value\": 0.8367346938775511}, {\"epoch\": 162, \"seed\": 0, \"variable\": \"train_accuracy\", \"value\": 0.8408163265306122}, {\"epoch\": 163, \"seed\": 0, \"variable\": \"train_accuracy\", \"value\": 0.8408163265306122}, {\"epoch\": 164, \"seed\": 0, \"variable\": \"train_accuracy\", \"value\": 0.8489795918367347}, {\"epoch\": 165, \"seed\": 0, \"variable\": \"train_accuracy\", \"value\": 0.8469387755102041}, {\"epoch\": 166, \"seed\": 0, \"variable\": \"train_accuracy\", \"value\": 0.8448979591836735}, {\"epoch\": 167, \"seed\": 0, \"variable\": \"train_accuracy\", \"value\": 0.8367346938775511}, {\"epoch\": 168, \"seed\": 0, \"variable\": \"train_accuracy\", \"value\": 0.8428571428571429}, {\"epoch\": 169, \"seed\": 0, \"variable\": \"train_accuracy\", \"value\": 0.8408163265306122}, {\"epoch\": 170, \"seed\": 0, \"variable\": \"train_accuracy\", \"value\": 0.8428571428571429}, {\"epoch\": 171, \"seed\": 0, \"variable\": \"train_accuracy\", \"value\": 0.8448979591836735}, {\"epoch\": 172, \"seed\": 0, \"variable\": \"train_accuracy\", \"value\": 0.8408163265306122}, {\"epoch\": 173, \"seed\": 0, \"variable\": \"train_accuracy\", \"value\": 0.8489795918367347}, {\"epoch\": 174, \"seed\": 0, \"variable\": \"train_accuracy\", \"value\": 0.8510204081632653}, {\"epoch\": 175, \"seed\": 0, \"variable\": \"train_accuracy\", \"value\": 0.8448979591836735}, {\"epoch\": 176, \"seed\": 0, \"variable\": \"train_accuracy\", \"value\": 0.8408163265306122}, {\"epoch\": 177, \"seed\": 0, \"variable\": \"train_accuracy\", \"value\": 0.8448979591836735}, {\"epoch\": 178, \"seed\": 0, \"variable\": \"train_accuracy\", \"value\": 0.8469387755102041}, {\"epoch\": 179, \"seed\": 0, \"variable\": \"train_accuracy\", \"value\": 0.8428571428571429}, {\"epoch\": 180, \"seed\": 0, \"variable\": \"train_accuracy\", \"value\": 0.8510204081632653}, {\"epoch\": 181, \"seed\": 0, \"variable\": \"train_accuracy\", \"value\": 0.8387755102040816}, {\"epoch\": 182, \"seed\": 0, \"variable\": \"train_accuracy\", \"value\": 0.8469387755102041}, {\"epoch\": 183, \"seed\": 0, \"variable\": \"train_accuracy\", \"value\": 0.8469387755102041}, {\"epoch\": 184, \"seed\": 0, \"variable\": \"train_accuracy\", \"value\": 0.8448979591836735}, {\"epoch\": 185, \"seed\": 0, \"variable\": \"train_accuracy\", \"value\": 0.8408163265306122}, {\"epoch\": 186, \"seed\": 0, \"variable\": \"train_accuracy\", \"value\": 0.8408163265306122}, {\"epoch\": 187, \"seed\": 0, \"variable\": \"train_accuracy\", \"value\": 0.8469387755102041}, {\"epoch\": 188, \"seed\": 0, \"variable\": \"train_accuracy\", \"value\": 0.8448979591836735}, {\"epoch\": 189, \"seed\": 0, \"variable\": \"train_accuracy\", \"value\": 0.8469387755102041}, {\"epoch\": 190, \"seed\": 0, \"variable\": \"train_accuracy\", \"value\": 0.8469387755102041}, {\"epoch\": 191, \"seed\": 0, \"variable\": \"train_accuracy\", \"value\": 0.8408163265306122}, {\"epoch\": 192, \"seed\": 0, \"variable\": \"train_accuracy\", \"value\": 0.8510204081632653}, {\"epoch\": 193, \"seed\": 0, \"variable\": \"train_accuracy\", \"value\": 0.8428571428571429}, {\"epoch\": 194, \"seed\": 0, \"variable\": \"train_accuracy\", \"value\": 0.8489795918367347}, {\"epoch\": 195, \"seed\": 0, \"variable\": \"train_accuracy\", \"value\": 0.8469387755102041}, {\"epoch\": 196, \"seed\": 0, \"variable\": \"train_accuracy\", \"value\": 0.8469387755102041}, {\"epoch\": 197, \"seed\": 0, \"variable\": \"train_accuracy\", \"value\": 0.8408163265306122}, {\"epoch\": 198, \"seed\": 0, \"variable\": \"train_accuracy\", \"value\": 0.8408163265306122}, {\"epoch\": 199, \"seed\": 0, \"variable\": \"train_accuracy\", \"value\": 0.8448979591836735}, {\"epoch\": 200, \"seed\": 0, \"variable\": \"train_accuracy\", \"value\": 0.8428571428571429}, {\"epoch\": 1, \"seed\": 1, \"variable\": \"train_accuracy\", \"value\": 0.4061224489795918}, {\"epoch\": 2, \"seed\": 1, \"variable\": \"train_accuracy\", \"value\": 0.6551020408163265}, {\"epoch\": 3, \"seed\": 1, \"variable\": \"train_accuracy\", \"value\": 0.6795918367346939}, {\"epoch\": 4, \"seed\": 1, \"variable\": \"train_accuracy\", \"value\": 0.7040816326530612}, {\"epoch\": 5, \"seed\": 1, \"variable\": \"train_accuracy\", \"value\": 0.710204081632653}, {\"epoch\": 6, \"seed\": 1, \"variable\": \"train_accuracy\", \"value\": 0.7244897959183674}, {\"epoch\": 7, \"seed\": 1, \"variable\": \"train_accuracy\", \"value\": 0.7326530612244898}, {\"epoch\": 8, \"seed\": 1, \"variable\": \"train_accuracy\", \"value\": 0.7408163265306122}, {\"epoch\": 9, \"seed\": 1, \"variable\": \"train_accuracy\", \"value\": 0.7346938775510204}, {\"epoch\": 10, \"seed\": 1, \"variable\": \"train_accuracy\", \"value\": 0.7755102040816326}, {\"epoch\": 11, \"seed\": 1, \"variable\": \"train_accuracy\", \"value\": 0.7877551020408163}, {\"epoch\": 12, \"seed\": 1, \"variable\": \"train_accuracy\", \"value\": 0.7795918367346939}, {\"epoch\": 13, \"seed\": 1, \"variable\": \"train_accuracy\", \"value\": 0.8122448979591836}, {\"epoch\": 14, \"seed\": 1, \"variable\": \"train_accuracy\", \"value\": 0.7775510204081633}, {\"epoch\": 15, \"seed\": 1, \"variable\": \"train_accuracy\", \"value\": 0.8387755102040816}, {\"epoch\": 16, \"seed\": 1, \"variable\": \"train_accuracy\", \"value\": 0.8408163265306122}, {\"epoch\": 17, \"seed\": 1, \"variable\": \"train_accuracy\", \"value\": 0.8428571428571429}, {\"epoch\": 18, \"seed\": 1, \"variable\": \"train_accuracy\", \"value\": 0.8428571428571429}, {\"epoch\": 19, \"seed\": 1, \"variable\": \"train_accuracy\", \"value\": 0.8428571428571429}, {\"epoch\": 20, \"seed\": 1, \"variable\": \"train_accuracy\", \"value\": 0.8448979591836735}, {\"epoch\": 21, \"seed\": 1, \"variable\": \"train_accuracy\", \"value\": 0.8428571428571429}, {\"epoch\": 22, \"seed\": 1, \"variable\": \"train_accuracy\", \"value\": 0.8530612244897959}, {\"epoch\": 23, \"seed\": 1, \"variable\": \"train_accuracy\", \"value\": 0.8489795918367347}, {\"epoch\": 24, \"seed\": 1, \"variable\": \"train_accuracy\", \"value\": 0.8040816326530612}, {\"epoch\": 25, \"seed\": 1, \"variable\": \"train_accuracy\", \"value\": 0.8326530612244898}, {\"epoch\": 26, \"seed\": 1, \"variable\": \"train_accuracy\", \"value\": 0.8367346938775511}, {\"epoch\": 27, \"seed\": 1, \"variable\": \"train_accuracy\", \"value\": 0.8428571428571429}, {\"epoch\": 28, \"seed\": 1, \"variable\": \"train_accuracy\", \"value\": 0.8428571428571429}, {\"epoch\": 29, \"seed\": 1, \"variable\": \"train_accuracy\", \"value\": 0.8428571428571429}, {\"epoch\": 30, \"seed\": 1, \"variable\": \"train_accuracy\", \"value\": 0.8469387755102041}, {\"epoch\": 31, \"seed\": 1, \"variable\": \"train_accuracy\", \"value\": 0.8489795918367347}, {\"epoch\": 32, \"seed\": 1, \"variable\": \"train_accuracy\", \"value\": 0.8469387755102041}, {\"epoch\": 33, \"seed\": 1, \"variable\": \"train_accuracy\", \"value\": 0.8469387755102041}, {\"epoch\": 34, \"seed\": 1, \"variable\": \"train_accuracy\", \"value\": 0.8428571428571429}, {\"epoch\": 35, \"seed\": 1, \"variable\": \"train_accuracy\", \"value\": 0.8530612244897959}, {\"epoch\": 36, \"seed\": 1, \"variable\": \"train_accuracy\", \"value\": 0.8408163265306122}, {\"epoch\": 37, \"seed\": 1, \"variable\": \"train_accuracy\", \"value\": 0.8306122448979592}, {\"epoch\": 38, \"seed\": 1, \"variable\": \"train_accuracy\", \"value\": 0.8408163265306122}, {\"epoch\": 39, \"seed\": 1, \"variable\": \"train_accuracy\", \"value\": 0.8469387755102041}, {\"epoch\": 40, \"seed\": 1, \"variable\": \"train_accuracy\", \"value\": 0.8448979591836735}, {\"epoch\": 41, \"seed\": 1, \"variable\": \"train_accuracy\", \"value\": 0.8448979591836735}, {\"epoch\": 42, \"seed\": 1, \"variable\": \"train_accuracy\", \"value\": 0.8489795918367347}, {\"epoch\": 43, \"seed\": 1, \"variable\": \"train_accuracy\", \"value\": 0.8489795918367347}, {\"epoch\": 44, \"seed\": 1, \"variable\": \"train_accuracy\", \"value\": 0.8469387755102041}, {\"epoch\": 45, \"seed\": 1, \"variable\": \"train_accuracy\", \"value\": 0.8408163265306122}, {\"epoch\": 46, \"seed\": 1, \"variable\": \"train_accuracy\", \"value\": 0.8387755102040816}, {\"epoch\": 47, \"seed\": 1, \"variable\": \"train_accuracy\", \"value\": 0.8224489795918367}, {\"epoch\": 48, \"seed\": 1, \"variable\": \"train_accuracy\", \"value\": 0.8428571428571429}, {\"epoch\": 49, \"seed\": 1, \"variable\": \"train_accuracy\", \"value\": 0.8428571428571429}, {\"epoch\": 50, \"seed\": 1, \"variable\": \"train_accuracy\", \"value\": 0.8489795918367347}, {\"epoch\": 51, \"seed\": 1, \"variable\": \"train_accuracy\", \"value\": 0.8489795918367347}, {\"epoch\": 52, \"seed\": 1, \"variable\": \"train_accuracy\", \"value\": 0.8551020408163266}, {\"epoch\": 53, \"seed\": 1, \"variable\": \"train_accuracy\", \"value\": 0.8591836734693877}, {\"epoch\": 54, \"seed\": 1, \"variable\": \"train_accuracy\", \"value\": 0.8510204081632653}, {\"epoch\": 55, \"seed\": 1, \"variable\": \"train_accuracy\", \"value\": 0.8489795918367347}, {\"epoch\": 56, \"seed\": 1, \"variable\": \"train_accuracy\", \"value\": 0.8551020408163266}, {\"epoch\": 57, \"seed\": 1, \"variable\": \"train_accuracy\", \"value\": 0.8510204081632653}, {\"epoch\": 58, \"seed\": 1, \"variable\": \"train_accuracy\", \"value\": 0.8612244897959184}, {\"epoch\": 59, \"seed\": 1, \"variable\": \"train_accuracy\", \"value\": 0.8510204081632653}, {\"epoch\": 60, \"seed\": 1, \"variable\": \"train_accuracy\", \"value\": 0.8326530612244898}, {\"epoch\": 61, \"seed\": 1, \"variable\": \"train_accuracy\", \"value\": 0.8448979591836735}, {\"epoch\": 62, \"seed\": 1, \"variable\": \"train_accuracy\", \"value\": 0.8530612244897959}, {\"epoch\": 63, \"seed\": 1, \"variable\": \"train_accuracy\", \"value\": 0.8551020408163266}, {\"epoch\": 64, \"seed\": 1, \"variable\": \"train_accuracy\", \"value\": 0.8428571428571429}, {\"epoch\": 65, \"seed\": 1, \"variable\": \"train_accuracy\", \"value\": 0.8510204081632653}, {\"epoch\": 66, \"seed\": 1, \"variable\": \"train_accuracy\", \"value\": 0.8469387755102041}, {\"epoch\": 67, \"seed\": 1, \"variable\": \"train_accuracy\", \"value\": 0.8428571428571429}, {\"epoch\": 68, \"seed\": 1, \"variable\": \"train_accuracy\", \"value\": 0.8551020408163266}, {\"epoch\": 69, \"seed\": 1, \"variable\": \"train_accuracy\", \"value\": 0.8530612244897959}, {\"epoch\": 70, \"seed\": 1, \"variable\": \"train_accuracy\", \"value\": 0.8530612244897959}, {\"epoch\": 71, \"seed\": 1, \"variable\": \"train_accuracy\", \"value\": 0.8510204081632653}, {\"epoch\": 72, \"seed\": 1, \"variable\": \"train_accuracy\", \"value\": 0.8489795918367347}, {\"epoch\": 73, \"seed\": 1, \"variable\": \"train_accuracy\", \"value\": 0.8612244897959184}, {\"epoch\": 74, \"seed\": 1, \"variable\": \"train_accuracy\", \"value\": 0.8612244897959184}, {\"epoch\": 75, \"seed\": 1, \"variable\": \"train_accuracy\", \"value\": 0.8612244897959184}, {\"epoch\": 76, \"seed\": 1, \"variable\": \"train_accuracy\", \"value\": 0.8551020408163266}, {\"epoch\": 77, \"seed\": 1, \"variable\": \"train_accuracy\", \"value\": 0.8653061224489796}, {\"epoch\": 78, \"seed\": 1, \"variable\": \"train_accuracy\", \"value\": 0.8653061224489796}, {\"epoch\": 79, \"seed\": 1, \"variable\": \"train_accuracy\", \"value\": 0.863265306122449}, {\"epoch\": 80, \"seed\": 1, \"variable\": \"train_accuracy\", \"value\": 0.8551020408163266}, {\"epoch\": 81, \"seed\": 1, \"variable\": \"train_accuracy\", \"value\": 0.8428571428571429}, {\"epoch\": 82, \"seed\": 1, \"variable\": \"train_accuracy\", \"value\": 0.8612244897959184}, {\"epoch\": 83, \"seed\": 1, \"variable\": \"train_accuracy\", \"value\": 0.8448979591836735}, {\"epoch\": 84, \"seed\": 1, \"variable\": \"train_accuracy\", \"value\": 0.8530612244897959}, {\"epoch\": 85, \"seed\": 1, \"variable\": \"train_accuracy\", \"value\": 0.8346938775510204}, {\"epoch\": 86, \"seed\": 1, \"variable\": \"train_accuracy\", \"value\": 0.8469387755102041}, {\"epoch\": 87, \"seed\": 1, \"variable\": \"train_accuracy\", \"value\": 0.8469387755102041}, {\"epoch\": 88, \"seed\": 1, \"variable\": \"train_accuracy\", \"value\": 0.8551020408163266}, {\"epoch\": 89, \"seed\": 1, \"variable\": \"train_accuracy\", \"value\": 0.8612244897959184}, {\"epoch\": 90, \"seed\": 1, \"variable\": \"train_accuracy\", \"value\": 0.8673469387755102}, {\"epoch\": 91, \"seed\": 1, \"variable\": \"train_accuracy\", \"value\": 0.863265306122449}, {\"epoch\": 92, \"seed\": 1, \"variable\": \"train_accuracy\", \"value\": 0.8653061224489796}, {\"epoch\": 93, \"seed\": 1, \"variable\": \"train_accuracy\", \"value\": 0.8530612244897959}, {\"epoch\": 94, \"seed\": 1, \"variable\": \"train_accuracy\", \"value\": 0.8285714285714286}, {\"epoch\": 95, \"seed\": 1, \"variable\": \"train_accuracy\", \"value\": 0.8326530612244898}, {\"epoch\": 96, \"seed\": 1, \"variable\": \"train_accuracy\", \"value\": 0.8408163265306122}, {\"epoch\": 97, \"seed\": 1, \"variable\": \"train_accuracy\", \"value\": 0.8530612244897959}, {\"epoch\": 98, \"seed\": 1, \"variable\": \"train_accuracy\", \"value\": 0.8530612244897959}, {\"epoch\": 99, \"seed\": 1, \"variable\": \"train_accuracy\", \"value\": 0.8530612244897959}, {\"epoch\": 100, \"seed\": 1, \"variable\": \"train_accuracy\", \"value\": 0.8591836734693877}, {\"epoch\": 101, \"seed\": 1, \"variable\": \"train_accuracy\", \"value\": 0.8551020408163266}, {\"epoch\": 102, \"seed\": 1, \"variable\": \"train_accuracy\", \"value\": 0.8530612244897959}, {\"epoch\": 103, \"seed\": 1, \"variable\": \"train_accuracy\", \"value\": 0.8571428571428571}, {\"epoch\": 104, \"seed\": 1, \"variable\": \"train_accuracy\", \"value\": 0.8571428571428571}, {\"epoch\": 105, \"seed\": 1, \"variable\": \"train_accuracy\", \"value\": 0.8591836734693877}, {\"epoch\": 106, \"seed\": 1, \"variable\": \"train_accuracy\", \"value\": 0.8571428571428571}, {\"epoch\": 107, \"seed\": 1, \"variable\": \"train_accuracy\", \"value\": 0.8591836734693877}, {\"epoch\": 108, \"seed\": 1, \"variable\": \"train_accuracy\", \"value\": 0.8612244897959184}, {\"epoch\": 109, \"seed\": 1, \"variable\": \"train_accuracy\", \"value\": 0.8591836734693877}, {\"epoch\": 110, \"seed\": 1, \"variable\": \"train_accuracy\", \"value\": 0.8591836734693877}, {\"epoch\": 111, \"seed\": 1, \"variable\": \"train_accuracy\", \"value\": 0.863265306122449}, {\"epoch\": 112, \"seed\": 1, \"variable\": \"train_accuracy\", \"value\": 0.8489795918367347}, {\"epoch\": 113, \"seed\": 1, \"variable\": \"train_accuracy\", \"value\": 0.8591836734693877}, {\"epoch\": 114, \"seed\": 1, \"variable\": \"train_accuracy\", \"value\": 0.8612244897959184}, {\"epoch\": 115, \"seed\": 1, \"variable\": \"train_accuracy\", \"value\": 0.8612244897959184}, {\"epoch\": 116, \"seed\": 1, \"variable\": \"train_accuracy\", \"value\": 0.8591836734693877}, {\"epoch\": 117, \"seed\": 1, \"variable\": \"train_accuracy\", \"value\": 0.8591836734693877}, {\"epoch\": 118, \"seed\": 1, \"variable\": \"train_accuracy\", \"value\": 0.8612244897959184}, {\"epoch\": 119, \"seed\": 1, \"variable\": \"train_accuracy\", \"value\": 0.863265306122449}, {\"epoch\": 120, \"seed\": 1, \"variable\": \"train_accuracy\", \"value\": 0.8673469387755102}, {\"epoch\": 121, \"seed\": 1, \"variable\": \"train_accuracy\", \"value\": 0.8408163265306122}, {\"epoch\": 122, \"seed\": 1, \"variable\": \"train_accuracy\", \"value\": 0.8142857142857143}, {\"epoch\": 123, \"seed\": 1, \"variable\": \"train_accuracy\", \"value\": 0.8489795918367347}, {\"epoch\": 124, \"seed\": 1, \"variable\": \"train_accuracy\", \"value\": 0.8530612244897959}, {\"epoch\": 125, \"seed\": 1, \"variable\": \"train_accuracy\", \"value\": 0.8551020408163266}, {\"epoch\": 126, \"seed\": 1, \"variable\": \"train_accuracy\", \"value\": 0.8591836734693877}, {\"epoch\": 127, \"seed\": 1, \"variable\": \"train_accuracy\", \"value\": 0.8591836734693877}, {\"epoch\": 128, \"seed\": 1, \"variable\": \"train_accuracy\", \"value\": 0.8571428571428571}, {\"epoch\": 129, \"seed\": 1, \"variable\": \"train_accuracy\", \"value\": 0.8469387755102041}, {\"epoch\": 130, \"seed\": 1, \"variable\": \"train_accuracy\", \"value\": 0.863265306122449}, {\"epoch\": 131, \"seed\": 1, \"variable\": \"train_accuracy\", \"value\": 0.863265306122449}, {\"epoch\": 132, \"seed\": 1, \"variable\": \"train_accuracy\", \"value\": 0.8612244897959184}, {\"epoch\": 133, \"seed\": 1, \"variable\": \"train_accuracy\", \"value\": 0.8571428571428571}, {\"epoch\": 134, \"seed\": 1, \"variable\": \"train_accuracy\", \"value\": 0.8591836734693877}, {\"epoch\": 135, \"seed\": 1, \"variable\": \"train_accuracy\", \"value\": 0.8510204081632653}, {\"epoch\": 136, \"seed\": 1, \"variable\": \"train_accuracy\", \"value\": 0.8673469387755102}, {\"epoch\": 137, \"seed\": 1, \"variable\": \"train_accuracy\", \"value\": 0.8612244897959184}, {\"epoch\": 138, \"seed\": 1, \"variable\": \"train_accuracy\", \"value\": 0.8653061224489796}, {\"epoch\": 139, \"seed\": 1, \"variable\": \"train_accuracy\", \"value\": 0.863265306122449}, {\"epoch\": 140, \"seed\": 1, \"variable\": \"train_accuracy\", \"value\": 0.863265306122449}, {\"epoch\": 141, \"seed\": 1, \"variable\": \"train_accuracy\", \"value\": 0.863265306122449}, {\"epoch\": 142, \"seed\": 1, \"variable\": \"train_accuracy\", \"value\": 0.8653061224489796}, {\"epoch\": 143, \"seed\": 1, \"variable\": \"train_accuracy\", \"value\": 0.8653061224489796}, {\"epoch\": 144, \"seed\": 1, \"variable\": \"train_accuracy\", \"value\": 0.8653061224489796}, {\"epoch\": 145, \"seed\": 1, \"variable\": \"train_accuracy\", \"value\": 0.8653061224489796}, {\"epoch\": 146, \"seed\": 1, \"variable\": \"train_accuracy\", \"value\": 0.863265306122449}, {\"epoch\": 147, \"seed\": 1, \"variable\": \"train_accuracy\", \"value\": 0.863265306122449}, {\"epoch\": 148, \"seed\": 1, \"variable\": \"train_accuracy\", \"value\": 0.8571428571428571}, {\"epoch\": 149, \"seed\": 1, \"variable\": \"train_accuracy\", \"value\": 0.8653061224489796}, {\"epoch\": 150, \"seed\": 1, \"variable\": \"train_accuracy\", \"value\": 0.8551020408163266}, {\"epoch\": 151, \"seed\": 1, \"variable\": \"train_accuracy\", \"value\": 0.8673469387755102}, {\"epoch\": 152, \"seed\": 1, \"variable\": \"train_accuracy\", \"value\": 0.8673469387755102}, {\"epoch\": 153, \"seed\": 1, \"variable\": \"train_accuracy\", \"value\": 0.863265306122449}, {\"epoch\": 154, \"seed\": 1, \"variable\": \"train_accuracy\", \"value\": 0.8612244897959184}, {\"epoch\": 155, \"seed\": 1, \"variable\": \"train_accuracy\", \"value\": 0.8612244897959184}, {\"epoch\": 156, \"seed\": 1, \"variable\": \"train_accuracy\", \"value\": 0.8551020408163266}, {\"epoch\": 157, \"seed\": 1, \"variable\": \"train_accuracy\", \"value\": 0.8591836734693877}, {\"epoch\": 158, \"seed\": 1, \"variable\": \"train_accuracy\", \"value\": 0.8571428571428571}, {\"epoch\": 159, \"seed\": 1, \"variable\": \"train_accuracy\", \"value\": 0.863265306122449}, {\"epoch\": 160, \"seed\": 1, \"variable\": \"train_accuracy\", \"value\": 0.8591836734693877}, {\"epoch\": 161, \"seed\": 1, \"variable\": \"train_accuracy\", \"value\": 0.8551020408163266}, {\"epoch\": 162, \"seed\": 1, \"variable\": \"train_accuracy\", \"value\": 0.8551020408163266}, {\"epoch\": 163, \"seed\": 1, \"variable\": \"train_accuracy\", \"value\": 0.8612244897959184}, {\"epoch\": 164, \"seed\": 1, \"variable\": \"train_accuracy\", \"value\": 0.8612244897959184}, {\"epoch\": 165, \"seed\": 1, \"variable\": \"train_accuracy\", \"value\": 0.8612244897959184}, {\"epoch\": 166, \"seed\": 1, \"variable\": \"train_accuracy\", \"value\": 0.8591836734693877}, {\"epoch\": 167, \"seed\": 1, \"variable\": \"train_accuracy\", \"value\": 0.8612244897959184}, {\"epoch\": 168, \"seed\": 1, \"variable\": \"train_accuracy\", \"value\": 0.8612244897959184}, {\"epoch\": 169, \"seed\": 1, \"variable\": \"train_accuracy\", \"value\": 0.8612244897959184}, {\"epoch\": 170, \"seed\": 1, \"variable\": \"train_accuracy\", \"value\": 0.8653061224489796}, {\"epoch\": 171, \"seed\": 1, \"variable\": \"train_accuracy\", \"value\": 0.8673469387755102}, {\"epoch\": 172, \"seed\": 1, \"variable\": \"train_accuracy\", \"value\": 0.8591836734693877}, {\"epoch\": 173, \"seed\": 1, \"variable\": \"train_accuracy\", \"value\": 0.8571428571428571}, {\"epoch\": 174, \"seed\": 1, \"variable\": \"train_accuracy\", \"value\": 0.863265306122449}, {\"epoch\": 175, \"seed\": 1, \"variable\": \"train_accuracy\", \"value\": 0.8612244897959184}, {\"epoch\": 176, \"seed\": 1, \"variable\": \"train_accuracy\", \"value\": 0.8571428571428571}, {\"epoch\": 177, \"seed\": 1, \"variable\": \"train_accuracy\", \"value\": 0.8612244897959184}, {\"epoch\": 178, \"seed\": 1, \"variable\": \"train_accuracy\", \"value\": 0.8612244897959184}, {\"epoch\": 179, \"seed\": 1, \"variable\": \"train_accuracy\", \"value\": 0.8653061224489796}, {\"epoch\": 180, \"seed\": 1, \"variable\": \"train_accuracy\", \"value\": 0.8693877551020408}, {\"epoch\": 181, \"seed\": 1, \"variable\": \"train_accuracy\", \"value\": 0.8612244897959184}, {\"epoch\": 182, \"seed\": 1, \"variable\": \"train_accuracy\", \"value\": 0.8653061224489796}, {\"epoch\": 183, \"seed\": 1, \"variable\": \"train_accuracy\", \"value\": 0.8571428571428571}, {\"epoch\": 184, \"seed\": 1, \"variable\": \"train_accuracy\", \"value\": 0.8571428571428571}, {\"epoch\": 185, \"seed\": 1, \"variable\": \"train_accuracy\", \"value\": 0.8510204081632653}, {\"epoch\": 186, \"seed\": 1, \"variable\": \"train_accuracy\", \"value\": 0.8510204081632653}, {\"epoch\": 187, \"seed\": 1, \"variable\": \"train_accuracy\", \"value\": 0.8591836734693877}, {\"epoch\": 188, \"seed\": 1, \"variable\": \"train_accuracy\", \"value\": 0.8612244897959184}, {\"epoch\": 189, \"seed\": 1, \"variable\": \"train_accuracy\", \"value\": 0.8591836734693877}, {\"epoch\": 190, \"seed\": 1, \"variable\": \"train_accuracy\", \"value\": 0.863265306122449}, {\"epoch\": 191, \"seed\": 1, \"variable\": \"train_accuracy\", \"value\": 0.8673469387755102}, {\"epoch\": 192, \"seed\": 1, \"variable\": \"train_accuracy\", \"value\": 0.8591836734693877}, {\"epoch\": 193, \"seed\": 1, \"variable\": \"train_accuracy\", \"value\": 0.863265306122449}, {\"epoch\": 194, \"seed\": 1, \"variable\": \"train_accuracy\", \"value\": 0.8551020408163266}, {\"epoch\": 195, \"seed\": 1, \"variable\": \"train_accuracy\", \"value\": 0.8530612244897959}, {\"epoch\": 196, \"seed\": 1, \"variable\": \"train_accuracy\", \"value\": 0.8591836734693877}, {\"epoch\": 197, \"seed\": 1, \"variable\": \"train_accuracy\", \"value\": 0.8591836734693877}, {\"epoch\": 198, \"seed\": 1, \"variable\": \"train_accuracy\", \"value\": 0.863265306122449}, {\"epoch\": 199, \"seed\": 1, \"variable\": \"train_accuracy\", \"value\": 0.8673469387755102}, {\"epoch\": 200, \"seed\": 1, \"variable\": \"train_accuracy\", \"value\": 0.8693877551020408}, {\"epoch\": 1, \"seed\": 2, \"variable\": \"train_accuracy\", \"value\": 0.5102040816326531}, {\"epoch\": 2, \"seed\": 2, \"variable\": \"train_accuracy\", \"value\": 0.673469387755102}, {\"epoch\": 3, \"seed\": 2, \"variable\": \"train_accuracy\", \"value\": 0.7020408163265306}, {\"epoch\": 4, \"seed\": 2, \"variable\": \"train_accuracy\", \"value\": 0.710204081632653}, {\"epoch\": 5, \"seed\": 2, \"variable\": \"train_accuracy\", \"value\": 0.7183673469387755}, {\"epoch\": 6, \"seed\": 2, \"variable\": \"train_accuracy\", \"value\": 0.7204081632653061}, {\"epoch\": 7, \"seed\": 2, \"variable\": \"train_accuracy\", \"value\": 0.726530612244898}, {\"epoch\": 8, \"seed\": 2, \"variable\": \"train_accuracy\", \"value\": 0.7448979591836735}, {\"epoch\": 9, \"seed\": 2, \"variable\": \"train_accuracy\", \"value\": 0.746938775510204}, {\"epoch\": 10, \"seed\": 2, \"variable\": \"train_accuracy\", \"value\": 0.7448979591836735}, {\"epoch\": 11, \"seed\": 2, \"variable\": \"train_accuracy\", \"value\": 0.7326530612244898}, {\"epoch\": 12, \"seed\": 2, \"variable\": \"train_accuracy\", \"value\": 0.7428571428571429}, {\"epoch\": 13, \"seed\": 2, \"variable\": \"train_accuracy\", \"value\": 0.7673469387755102}, {\"epoch\": 14, \"seed\": 2, \"variable\": \"train_accuracy\", \"value\": 0.7836734693877551}, {\"epoch\": 15, \"seed\": 2, \"variable\": \"train_accuracy\", \"value\": 0.7857142857142857}, {\"epoch\": 16, \"seed\": 2, \"variable\": \"train_accuracy\", \"value\": 0.7959183673469388}, {\"epoch\": 17, \"seed\": 2, \"variable\": \"train_accuracy\", \"value\": 0.8}, {\"epoch\": 18, \"seed\": 2, \"variable\": \"train_accuracy\", \"value\": 0.8061224489795918}, {\"epoch\": 19, \"seed\": 2, \"variable\": \"train_accuracy\", \"value\": 0.8081632653061225}, {\"epoch\": 20, \"seed\": 2, \"variable\": \"train_accuracy\", \"value\": 0.810204081632653}, {\"epoch\": 21, \"seed\": 2, \"variable\": \"train_accuracy\", \"value\": 0.8020408163265306}, {\"epoch\": 22, \"seed\": 2, \"variable\": \"train_accuracy\", \"value\": 0.810204081632653}, {\"epoch\": 23, \"seed\": 2, \"variable\": \"train_accuracy\", \"value\": 0.8122448979591836}, {\"epoch\": 24, \"seed\": 2, \"variable\": \"train_accuracy\", \"value\": 0.8122448979591836}, {\"epoch\": 25, \"seed\": 2, \"variable\": \"train_accuracy\", \"value\": 0.8122448979591836}, {\"epoch\": 26, \"seed\": 2, \"variable\": \"train_accuracy\", \"value\": 0.8040816326530612}, {\"epoch\": 27, \"seed\": 2, \"variable\": \"train_accuracy\", \"value\": 0.8020408163265306}, {\"epoch\": 28, \"seed\": 2, \"variable\": \"train_accuracy\", \"value\": 0.8142857142857143}, {\"epoch\": 29, \"seed\": 2, \"variable\": \"train_accuracy\", \"value\": 0.8142857142857143}, {\"epoch\": 30, \"seed\": 2, \"variable\": \"train_accuracy\", \"value\": 0.810204081632653}, {\"epoch\": 31, \"seed\": 2, \"variable\": \"train_accuracy\", \"value\": 0.7959183673469388}, {\"epoch\": 32, \"seed\": 2, \"variable\": \"train_accuracy\", \"value\": 0.8040816326530612}, {\"epoch\": 33, \"seed\": 2, \"variable\": \"train_accuracy\", \"value\": 0.7979591836734694}, {\"epoch\": 34, \"seed\": 2, \"variable\": \"train_accuracy\", \"value\": 0.8}, {\"epoch\": 35, \"seed\": 2, \"variable\": \"train_accuracy\", \"value\": 0.8040816326530612}, {\"epoch\": 36, \"seed\": 2, \"variable\": \"train_accuracy\", \"value\": 0.8040816326530612}, {\"epoch\": 37, \"seed\": 2, \"variable\": \"train_accuracy\", \"value\": 0.8061224489795918}, {\"epoch\": 38, \"seed\": 2, \"variable\": \"train_accuracy\", \"value\": 0.8040816326530612}, {\"epoch\": 39, \"seed\": 2, \"variable\": \"train_accuracy\", \"value\": 0.810204081632653}, {\"epoch\": 40, \"seed\": 2, \"variable\": \"train_accuracy\", \"value\": 0.8122448979591836}, {\"epoch\": 41, \"seed\": 2, \"variable\": \"train_accuracy\", \"value\": 0.810204081632653}, {\"epoch\": 42, \"seed\": 2, \"variable\": \"train_accuracy\", \"value\": 0.810204081632653}, {\"epoch\": 43, \"seed\": 2, \"variable\": \"train_accuracy\", \"value\": 0.8081632653061225}, {\"epoch\": 44, \"seed\": 2, \"variable\": \"train_accuracy\", \"value\": 0.8081632653061225}, {\"epoch\": 45, \"seed\": 2, \"variable\": \"train_accuracy\", \"value\": 0.8081632653061225}, {\"epoch\": 46, \"seed\": 2, \"variable\": \"train_accuracy\", \"value\": 0.8061224489795918}, {\"epoch\": 47, \"seed\": 2, \"variable\": \"train_accuracy\", \"value\": 0.8020408163265306}, {\"epoch\": 48, \"seed\": 2, \"variable\": \"train_accuracy\", \"value\": 0.8020408163265306}, {\"epoch\": 49, \"seed\": 2, \"variable\": \"train_accuracy\", \"value\": 0.8061224489795918}, {\"epoch\": 50, \"seed\": 2, \"variable\": \"train_accuracy\", \"value\": 0.8040816326530612}, {\"epoch\": 51, \"seed\": 2, \"variable\": \"train_accuracy\", \"value\": 0.8081632653061225}, {\"epoch\": 52, \"seed\": 2, \"variable\": \"train_accuracy\", \"value\": 0.810204081632653}, {\"epoch\": 53, \"seed\": 2, \"variable\": \"train_accuracy\", \"value\": 0.810204081632653}, {\"epoch\": 54, \"seed\": 2, \"variable\": \"train_accuracy\", \"value\": 0.8061224489795918}, {\"epoch\": 55, \"seed\": 2, \"variable\": \"train_accuracy\", \"value\": 0.810204081632653}, {\"epoch\": 56, \"seed\": 2, \"variable\": \"train_accuracy\", \"value\": 0.8061224489795918}, {\"epoch\": 57, \"seed\": 2, \"variable\": \"train_accuracy\", \"value\": 0.8020408163265306}, {\"epoch\": 58, \"seed\": 2, \"variable\": \"train_accuracy\", \"value\": 0.8061224489795918}, {\"epoch\": 59, \"seed\": 2, \"variable\": \"train_accuracy\", \"value\": 0.8061224489795918}, {\"epoch\": 60, \"seed\": 2, \"variable\": \"train_accuracy\", \"value\": 0.8122448979591836}, {\"epoch\": 61, \"seed\": 2, \"variable\": \"train_accuracy\", \"value\": 0.8142857142857143}, {\"epoch\": 62, \"seed\": 2, \"variable\": \"train_accuracy\", \"value\": 0.8163265306122449}, {\"epoch\": 63, \"seed\": 2, \"variable\": \"train_accuracy\", \"value\": 0.810204081632653}, {\"epoch\": 64, \"seed\": 2, \"variable\": \"train_accuracy\", \"value\": 0.7959183673469388}, {\"epoch\": 65, \"seed\": 2, \"variable\": \"train_accuracy\", \"value\": 0.7795918367346939}, {\"epoch\": 66, \"seed\": 2, \"variable\": \"train_accuracy\", \"value\": 0.8}, {\"epoch\": 67, \"seed\": 2, \"variable\": \"train_accuracy\", \"value\": 0.8}, {\"epoch\": 68, \"seed\": 2, \"variable\": \"train_accuracy\", \"value\": 0.8}, {\"epoch\": 69, \"seed\": 2, \"variable\": \"train_accuracy\", \"value\": 0.8}, {\"epoch\": 70, \"seed\": 2, \"variable\": \"train_accuracy\", \"value\": 0.8}, {\"epoch\": 71, \"seed\": 2, \"variable\": \"train_accuracy\", \"value\": 0.8}, {\"epoch\": 72, \"seed\": 2, \"variable\": \"train_accuracy\", \"value\": 0.8}, {\"epoch\": 73, \"seed\": 2, \"variable\": \"train_accuracy\", \"value\": 0.8}, {\"epoch\": 74, \"seed\": 2, \"variable\": \"train_accuracy\", \"value\": 0.8}, {\"epoch\": 75, \"seed\": 2, \"variable\": \"train_accuracy\", \"value\": 0.8020408163265306}, {\"epoch\": 76, \"seed\": 2, \"variable\": \"train_accuracy\", \"value\": 0.8020408163265306}, {\"epoch\": 77, \"seed\": 2, \"variable\": \"train_accuracy\", \"value\": 0.8040816326530612}, {\"epoch\": 78, \"seed\": 2, \"variable\": \"train_accuracy\", \"value\": 0.8040816326530612}, {\"epoch\": 79, \"seed\": 2, \"variable\": \"train_accuracy\", \"value\": 0.8061224489795918}, {\"epoch\": 80, \"seed\": 2, \"variable\": \"train_accuracy\", \"value\": 0.8020408163265306}, {\"epoch\": 81, \"seed\": 2, \"variable\": \"train_accuracy\", \"value\": 0.8081632653061225}, {\"epoch\": 82, \"seed\": 2, \"variable\": \"train_accuracy\", \"value\": 0.8081632653061225}, {\"epoch\": 83, \"seed\": 2, \"variable\": \"train_accuracy\", \"value\": 0.8061224489795918}, {\"epoch\": 84, \"seed\": 2, \"variable\": \"train_accuracy\", \"value\": 0.810204081632653}, {\"epoch\": 85, \"seed\": 2, \"variable\": \"train_accuracy\", \"value\": 0.8081632653061225}, {\"epoch\": 86, \"seed\": 2, \"variable\": \"train_accuracy\", \"value\": 0.8122448979591836}, {\"epoch\": 87, \"seed\": 2, \"variable\": \"train_accuracy\", \"value\": 0.8142857142857143}, {\"epoch\": 88, \"seed\": 2, \"variable\": \"train_accuracy\", \"value\": 0.7979591836734694}, {\"epoch\": 89, \"seed\": 2, \"variable\": \"train_accuracy\", \"value\": 0.8}, {\"epoch\": 90, \"seed\": 2, \"variable\": \"train_accuracy\", \"value\": 0.8040816326530612}, {\"epoch\": 91, \"seed\": 2, \"variable\": \"train_accuracy\", \"value\": 0.810204081632653}, {\"epoch\": 92, \"seed\": 2, \"variable\": \"train_accuracy\", \"value\": 0.8142857142857143}, {\"epoch\": 93, \"seed\": 2, \"variable\": \"train_accuracy\", \"value\": 0.8081632653061225}, {\"epoch\": 94, \"seed\": 2, \"variable\": \"train_accuracy\", \"value\": 0.8040816326530612}, {\"epoch\": 95, \"seed\": 2, \"variable\": \"train_accuracy\", \"value\": 0.810204081632653}, {\"epoch\": 96, \"seed\": 2, \"variable\": \"train_accuracy\", \"value\": 0.8122448979591836}, {\"epoch\": 97, \"seed\": 2, \"variable\": \"train_accuracy\", \"value\": 0.8122448979591836}, {\"epoch\": 98, \"seed\": 2, \"variable\": \"train_accuracy\", \"value\": 0.8122448979591836}, {\"epoch\": 99, \"seed\": 2, \"variable\": \"train_accuracy\", \"value\": 0.8081632653061225}, {\"epoch\": 100, \"seed\": 2, \"variable\": \"train_accuracy\", \"value\": 0.8040816326530612}, {\"epoch\": 101, \"seed\": 2, \"variable\": \"train_accuracy\", \"value\": 0.8061224489795918}, {\"epoch\": 102, \"seed\": 2, \"variable\": \"train_accuracy\", \"value\": 0.8163265306122449}, {\"epoch\": 103, \"seed\": 2, \"variable\": \"train_accuracy\", \"value\": 0.8183673469387756}, {\"epoch\": 104, \"seed\": 2, \"variable\": \"train_accuracy\", \"value\": 0.8061224489795918}, {\"epoch\": 105, \"seed\": 2, \"variable\": \"train_accuracy\", \"value\": 0.8}, {\"epoch\": 106, \"seed\": 2, \"variable\": \"train_accuracy\", \"value\": 0.8081632653061225}, {\"epoch\": 107, \"seed\": 2, \"variable\": \"train_accuracy\", \"value\": 0.8163265306122449}, {\"epoch\": 108, \"seed\": 2, \"variable\": \"train_accuracy\", \"value\": 0.8204081632653061}, {\"epoch\": 109, \"seed\": 2, \"variable\": \"train_accuracy\", \"value\": 0.8183673469387756}, {\"epoch\": 110, \"seed\": 2, \"variable\": \"train_accuracy\", \"value\": 0.8204081632653061}, {\"epoch\": 111, \"seed\": 2, \"variable\": \"train_accuracy\", \"value\": 0.8081632653061225}, {\"epoch\": 112, \"seed\": 2, \"variable\": \"train_accuracy\", \"value\": 0.7877551020408163}, {\"epoch\": 113, \"seed\": 2, \"variable\": \"train_accuracy\", \"value\": 0.8142857142857143}, {\"epoch\": 114, \"seed\": 2, \"variable\": \"train_accuracy\", \"value\": 0.8183673469387756}, {\"epoch\": 115, \"seed\": 2, \"variable\": \"train_accuracy\", \"value\": 0.8163265306122449}, {\"epoch\": 116, \"seed\": 2, \"variable\": \"train_accuracy\", \"value\": 0.8142857142857143}, {\"epoch\": 117, \"seed\": 2, \"variable\": \"train_accuracy\", \"value\": 0.8081632653061225}, {\"epoch\": 118, \"seed\": 2, \"variable\": \"train_accuracy\", \"value\": 0.8122448979591836}, {\"epoch\": 119, \"seed\": 2, \"variable\": \"train_accuracy\", \"value\": 0.8061224489795918}, {\"epoch\": 120, \"seed\": 2, \"variable\": \"train_accuracy\", \"value\": 0.8183673469387756}, {\"epoch\": 121, \"seed\": 2, \"variable\": \"train_accuracy\", \"value\": 0.8204081632653061}, {\"epoch\": 122, \"seed\": 2, \"variable\": \"train_accuracy\", \"value\": 0.8204081632653061}, {\"epoch\": 123, \"seed\": 2, \"variable\": \"train_accuracy\", \"value\": 0.8204081632653061}, {\"epoch\": 124, \"seed\": 2, \"variable\": \"train_accuracy\", \"value\": 0.8224489795918367}, {\"epoch\": 125, \"seed\": 2, \"variable\": \"train_accuracy\", \"value\": 0.8224489795918367}, {\"epoch\": 126, \"seed\": 2, \"variable\": \"train_accuracy\", \"value\": 0.8224489795918367}, {\"epoch\": 127, \"seed\": 2, \"variable\": \"train_accuracy\", \"value\": 0.8224489795918367}, {\"epoch\": 128, \"seed\": 2, \"variable\": \"train_accuracy\", \"value\": 0.8183673469387756}, {\"epoch\": 129, \"seed\": 2, \"variable\": \"train_accuracy\", \"value\": 0.7959183673469388}, {\"epoch\": 130, \"seed\": 2, \"variable\": \"train_accuracy\", \"value\": 0.8081632653061225}, {\"epoch\": 131, \"seed\": 2, \"variable\": \"train_accuracy\", \"value\": 0.8204081632653061}, {\"epoch\": 132, \"seed\": 2, \"variable\": \"train_accuracy\", \"value\": 0.8204081632653061}, {\"epoch\": 133, \"seed\": 2, \"variable\": \"train_accuracy\", \"value\": 0.8204081632653061}, {\"epoch\": 134, \"seed\": 2, \"variable\": \"train_accuracy\", \"value\": 0.8224489795918367}, {\"epoch\": 135, \"seed\": 2, \"variable\": \"train_accuracy\", \"value\": 0.8224489795918367}, {\"epoch\": 136, \"seed\": 2, \"variable\": \"train_accuracy\", \"value\": 0.8224489795918367}, {\"epoch\": 137, \"seed\": 2, \"variable\": \"train_accuracy\", \"value\": 0.8224489795918367}, {\"epoch\": 138, \"seed\": 2, \"variable\": \"train_accuracy\", \"value\": 0.8204081632653061}, {\"epoch\": 139, \"seed\": 2, \"variable\": \"train_accuracy\", \"value\": 0.8163265306122449}, {\"epoch\": 140, \"seed\": 2, \"variable\": \"train_accuracy\", \"value\": 0.8020408163265306}, {\"epoch\": 141, \"seed\": 2, \"variable\": \"train_accuracy\", \"value\": 0.8}, {\"epoch\": 142, \"seed\": 2, \"variable\": \"train_accuracy\", \"value\": 0.8040816326530612}, {\"epoch\": 143, \"seed\": 2, \"variable\": \"train_accuracy\", \"value\": 0.8081632653061225}, {\"epoch\": 144, \"seed\": 2, \"variable\": \"train_accuracy\", \"value\": 0.8081632653061225}, {\"epoch\": 145, \"seed\": 2, \"variable\": \"train_accuracy\", \"value\": 0.8204081632653061}, {\"epoch\": 146, \"seed\": 2, \"variable\": \"train_accuracy\", \"value\": 0.8244897959183674}, {\"epoch\": 147, \"seed\": 2, \"variable\": \"train_accuracy\", \"value\": 0.8244897959183674}, {\"epoch\": 148, \"seed\": 2, \"variable\": \"train_accuracy\", \"value\": 0.8224489795918367}, {\"epoch\": 149, \"seed\": 2, \"variable\": \"train_accuracy\", \"value\": 0.8183673469387756}, {\"epoch\": 150, \"seed\": 2, \"variable\": \"train_accuracy\", \"value\": 0.8020408163265306}, {\"epoch\": 151, \"seed\": 2, \"variable\": \"train_accuracy\", \"value\": 0.8081632653061225}, {\"epoch\": 152, \"seed\": 2, \"variable\": \"train_accuracy\", \"value\": 0.8204081632653061}, {\"epoch\": 153, \"seed\": 2, \"variable\": \"train_accuracy\", \"value\": 0.8204081632653061}, {\"epoch\": 154, \"seed\": 2, \"variable\": \"train_accuracy\", \"value\": 0.8204081632653061}, {\"epoch\": 155, \"seed\": 2, \"variable\": \"train_accuracy\", \"value\": 0.8224489795918367}, {\"epoch\": 156, \"seed\": 2, \"variable\": \"train_accuracy\", \"value\": 0.8224489795918367}, {\"epoch\": 157, \"seed\": 2, \"variable\": \"train_accuracy\", \"value\": 0.8224489795918367}, {\"epoch\": 158, \"seed\": 2, \"variable\": \"train_accuracy\", \"value\": 0.8224489795918367}, {\"epoch\": 159, \"seed\": 2, \"variable\": \"train_accuracy\", \"value\": 0.8183673469387756}, {\"epoch\": 160, \"seed\": 2, \"variable\": \"train_accuracy\", \"value\": 0.8020408163265306}, {\"epoch\": 161, \"seed\": 2, \"variable\": \"train_accuracy\", \"value\": 0.8081632653061225}, {\"epoch\": 162, \"seed\": 2, \"variable\": \"train_accuracy\", \"value\": 0.8163265306122449}, {\"epoch\": 163, \"seed\": 2, \"variable\": \"train_accuracy\", \"value\": 0.8204081632653061}, {\"epoch\": 164, \"seed\": 2, \"variable\": \"train_accuracy\", \"value\": 0.8204081632653061}, {\"epoch\": 165, \"seed\": 2, \"variable\": \"train_accuracy\", \"value\": 0.8204081632653061}, {\"epoch\": 166, \"seed\": 2, \"variable\": \"train_accuracy\", \"value\": 0.8224489795918367}, {\"epoch\": 167, \"seed\": 2, \"variable\": \"train_accuracy\", \"value\": 0.8204081632653061}, {\"epoch\": 168, \"seed\": 2, \"variable\": \"train_accuracy\", \"value\": 0.8224489795918367}, {\"epoch\": 169, \"seed\": 2, \"variable\": \"train_accuracy\", \"value\": 0.8224489795918367}, {\"epoch\": 170, \"seed\": 2, \"variable\": \"train_accuracy\", \"value\": 0.8224489795918367}, {\"epoch\": 171, \"seed\": 2, \"variable\": \"train_accuracy\", \"value\": 0.8163265306122449}, {\"epoch\": 172, \"seed\": 2, \"variable\": \"train_accuracy\", \"value\": 0.8142857142857143}, {\"epoch\": 173, \"seed\": 2, \"variable\": \"train_accuracy\", \"value\": 0.8183673469387756}, {\"epoch\": 174, \"seed\": 2, \"variable\": \"train_accuracy\", \"value\": 0.8183673469387756}, {\"epoch\": 175, \"seed\": 2, \"variable\": \"train_accuracy\", \"value\": 0.8204081632653061}, {\"epoch\": 176, \"seed\": 2, \"variable\": \"train_accuracy\", \"value\": 0.8204081632653061}, {\"epoch\": 177, \"seed\": 2, \"variable\": \"train_accuracy\", \"value\": 0.8163265306122449}, {\"epoch\": 178, \"seed\": 2, \"variable\": \"train_accuracy\", \"value\": 0.8142857142857143}, {\"epoch\": 179, \"seed\": 2, \"variable\": \"train_accuracy\", \"value\": 0.8204081632653061}, {\"epoch\": 180, \"seed\": 2, \"variable\": \"train_accuracy\", \"value\": 0.8183673469387756}, {\"epoch\": 181, \"seed\": 2, \"variable\": \"train_accuracy\", \"value\": 0.8224489795918367}, {\"epoch\": 182, \"seed\": 2, \"variable\": \"train_accuracy\", \"value\": 0.8163265306122449}, {\"epoch\": 183, \"seed\": 2, \"variable\": \"train_accuracy\", \"value\": 0.810204081632653}, {\"epoch\": 184, \"seed\": 2, \"variable\": \"train_accuracy\", \"value\": 0.8061224489795918}, {\"epoch\": 185, \"seed\": 2, \"variable\": \"train_accuracy\", \"value\": 0.8204081632653061}, {\"epoch\": 186, \"seed\": 2, \"variable\": \"train_accuracy\", \"value\": 0.8224489795918367}, {\"epoch\": 187, \"seed\": 2, \"variable\": \"train_accuracy\", \"value\": 0.8224489795918367}, {\"epoch\": 188, \"seed\": 2, \"variable\": \"train_accuracy\", \"value\": 0.8224489795918367}, {\"epoch\": 189, \"seed\": 2, \"variable\": \"train_accuracy\", \"value\": 0.8224489795918367}, {\"epoch\": 190, \"seed\": 2, \"variable\": \"train_accuracy\", \"value\": 0.8224489795918367}, {\"epoch\": 191, \"seed\": 2, \"variable\": \"train_accuracy\", \"value\": 0.8224489795918367}, {\"epoch\": 192, \"seed\": 2, \"variable\": \"train_accuracy\", \"value\": 0.8224489795918367}, {\"epoch\": 193, \"seed\": 2, \"variable\": \"train_accuracy\", \"value\": 0.8244897959183674}, {\"epoch\": 194, \"seed\": 2, \"variable\": \"train_accuracy\", \"value\": 0.8224489795918367}, {\"epoch\": 195, \"seed\": 2, \"variable\": \"train_accuracy\", \"value\": 0.8204081632653061}, {\"epoch\": 196, \"seed\": 2, \"variable\": \"train_accuracy\", \"value\": 0.8183673469387756}, {\"epoch\": 197, \"seed\": 2, \"variable\": \"train_accuracy\", \"value\": 0.8183673469387756}, {\"epoch\": 198, \"seed\": 2, \"variable\": \"train_accuracy\", \"value\": 0.8183673469387756}, {\"epoch\": 199, \"seed\": 2, \"variable\": \"train_accuracy\", \"value\": 0.8183673469387756}, {\"epoch\": 200, \"seed\": 2, \"variable\": \"train_accuracy\", \"value\": 0.8204081632653061}, {\"epoch\": 1, \"seed\": 3, \"variable\": \"train_accuracy\", \"value\": 0.4061224489795918}, {\"epoch\": 2, \"seed\": 3, \"variable\": \"train_accuracy\", \"value\": 0.6428571428571429}, {\"epoch\": 3, \"seed\": 3, \"variable\": \"train_accuracy\", \"value\": 0.6612244897959184}, {\"epoch\": 4, \"seed\": 3, \"variable\": \"train_accuracy\", \"value\": 0.6632653061224489}, {\"epoch\": 5, \"seed\": 3, \"variable\": \"train_accuracy\", \"value\": 0.6755102040816326}, {\"epoch\": 6, \"seed\": 3, \"variable\": \"train_accuracy\", \"value\": 0.6836734693877551}, {\"epoch\": 7, \"seed\": 3, \"variable\": \"train_accuracy\", \"value\": 0.6877551020408164}, {\"epoch\": 8, \"seed\": 3, \"variable\": \"train_accuracy\", \"value\": 0.6816326530612244}, {\"epoch\": 9, \"seed\": 3, \"variable\": \"train_accuracy\", \"value\": 0.6938775510204082}, {\"epoch\": 10, \"seed\": 3, \"variable\": \"train_accuracy\", \"value\": 0.6938775510204082}, {\"epoch\": 11, \"seed\": 3, \"variable\": \"train_accuracy\", \"value\": 0.7040816326530612}, {\"epoch\": 12, \"seed\": 3, \"variable\": \"train_accuracy\", \"value\": 0.6918367346938775}, {\"epoch\": 13, \"seed\": 3, \"variable\": \"train_accuracy\", \"value\": 0.6714285714285714}, {\"epoch\": 14, \"seed\": 3, \"variable\": \"train_accuracy\", \"value\": 0.6979591836734694}, {\"epoch\": 15, \"seed\": 3, \"variable\": \"train_accuracy\", \"value\": 0.7061224489795919}, {\"epoch\": 16, \"seed\": 3, \"variable\": \"train_accuracy\", \"value\": 0.7}, {\"epoch\": 17, \"seed\": 3, \"variable\": \"train_accuracy\", \"value\": 0.6918367346938775}, {\"epoch\": 18, \"seed\": 3, \"variable\": \"train_accuracy\", \"value\": 0.6938775510204082}, {\"epoch\": 19, \"seed\": 3, \"variable\": \"train_accuracy\", \"value\": 0.6938775510204082}, {\"epoch\": 20, \"seed\": 3, \"variable\": \"train_accuracy\", \"value\": 0.6836734693877551}, {\"epoch\": 21, \"seed\": 3, \"variable\": \"train_accuracy\", \"value\": 0.710204081632653}, {\"epoch\": 22, \"seed\": 3, \"variable\": \"train_accuracy\", \"value\": 0.7142857142857143}, {\"epoch\": 23, \"seed\": 3, \"variable\": \"train_accuracy\", \"value\": 0.7142857142857143}, {\"epoch\": 24, \"seed\": 3, \"variable\": \"train_accuracy\", \"value\": 0.7122448979591837}, {\"epoch\": 25, \"seed\": 3, \"variable\": \"train_accuracy\", \"value\": 0.7061224489795919}, {\"epoch\": 26, \"seed\": 3, \"variable\": \"train_accuracy\", \"value\": 0.7061224489795919}, {\"epoch\": 27, \"seed\": 3, \"variable\": \"train_accuracy\", \"value\": 0.7163265306122449}, {\"epoch\": 28, \"seed\": 3, \"variable\": \"train_accuracy\", \"value\": 0.726530612244898}, {\"epoch\": 29, \"seed\": 3, \"variable\": \"train_accuracy\", \"value\": 0.7306122448979592}, {\"epoch\": 30, \"seed\": 3, \"variable\": \"train_accuracy\", \"value\": 0.736734693877551}, {\"epoch\": 31, \"seed\": 3, \"variable\": \"train_accuracy\", \"value\": 0.7244897959183674}, {\"epoch\": 32, \"seed\": 3, \"variable\": \"train_accuracy\", \"value\": 0.7244897959183674}, {\"epoch\": 33, \"seed\": 3, \"variable\": \"train_accuracy\", \"value\": 0.7224489795918367}, {\"epoch\": 34, \"seed\": 3, \"variable\": \"train_accuracy\", \"value\": 0.7387755102040816}, {\"epoch\": 35, \"seed\": 3, \"variable\": \"train_accuracy\", \"value\": 0.7346938775510204}, {\"epoch\": 36, \"seed\": 3, \"variable\": \"train_accuracy\", \"value\": 0.7326530612244898}, {\"epoch\": 37, \"seed\": 3, \"variable\": \"train_accuracy\", \"value\": 0.7326530612244898}, {\"epoch\": 38, \"seed\": 3, \"variable\": \"train_accuracy\", \"value\": 0.7489795918367347}, {\"epoch\": 39, \"seed\": 3, \"variable\": \"train_accuracy\", \"value\": 0.7489795918367347}, {\"epoch\": 40, \"seed\": 3, \"variable\": \"train_accuracy\", \"value\": 0.726530612244898}, {\"epoch\": 41, \"seed\": 3, \"variable\": \"train_accuracy\", \"value\": 0.763265306122449}, {\"epoch\": 42, \"seed\": 3, \"variable\": \"train_accuracy\", \"value\": 0.7612244897959184}, {\"epoch\": 43, \"seed\": 3, \"variable\": \"train_accuracy\", \"value\": 0.763265306122449}, {\"epoch\": 44, \"seed\": 3, \"variable\": \"train_accuracy\", \"value\": 0.7448979591836735}, {\"epoch\": 45, \"seed\": 3, \"variable\": \"train_accuracy\", \"value\": 0.763265306122449}, {\"epoch\": 46, \"seed\": 3, \"variable\": \"train_accuracy\", \"value\": 0.7489795918367347}, {\"epoch\": 47, \"seed\": 3, \"variable\": \"train_accuracy\", \"value\": 0.7714285714285715}, {\"epoch\": 48, \"seed\": 3, \"variable\": \"train_accuracy\", \"value\": 0.7979591836734694}, {\"epoch\": 49, \"seed\": 3, \"variable\": \"train_accuracy\", \"value\": 0.8}, {\"epoch\": 50, \"seed\": 3, \"variable\": \"train_accuracy\", \"value\": 0.7979591836734694}, {\"epoch\": 51, \"seed\": 3, \"variable\": \"train_accuracy\", \"value\": 0.7959183673469388}, {\"epoch\": 52, \"seed\": 3, \"variable\": \"train_accuracy\", \"value\": 0.8}, {\"epoch\": 53, \"seed\": 3, \"variable\": \"train_accuracy\", \"value\": 0.810204081632653}, {\"epoch\": 54, \"seed\": 3, \"variable\": \"train_accuracy\", \"value\": 0.8306122448979592}, {\"epoch\": 55, \"seed\": 3, \"variable\": \"train_accuracy\", \"value\": 0.8285714285714286}, {\"epoch\": 56, \"seed\": 3, \"variable\": \"train_accuracy\", \"value\": 0.8204081632653061}, {\"epoch\": 57, \"seed\": 3, \"variable\": \"train_accuracy\", \"value\": 0.8244897959183674}, {\"epoch\": 58, \"seed\": 3, \"variable\": \"train_accuracy\", \"value\": 0.8306122448979592}, {\"epoch\": 59, \"seed\": 3, \"variable\": \"train_accuracy\", \"value\": 0.8285714285714286}, {\"epoch\": 60, \"seed\": 3, \"variable\": \"train_accuracy\", \"value\": 0.8285714285714286}, {\"epoch\": 61, \"seed\": 3, \"variable\": \"train_accuracy\", \"value\": 0.8224489795918367}, {\"epoch\": 62, \"seed\": 3, \"variable\": \"train_accuracy\", \"value\": 0.826530612244898}, {\"epoch\": 63, \"seed\": 3, \"variable\": \"train_accuracy\", \"value\": 0.826530612244898}, {\"epoch\": 64, \"seed\": 3, \"variable\": \"train_accuracy\", \"value\": 0.8387755102040816}, {\"epoch\": 65, \"seed\": 3, \"variable\": \"train_accuracy\", \"value\": 0.826530612244898}, {\"epoch\": 66, \"seed\": 3, \"variable\": \"train_accuracy\", \"value\": 0.8306122448979592}, {\"epoch\": 67, \"seed\": 3, \"variable\": \"train_accuracy\", \"value\": 0.8346938775510204}, {\"epoch\": 68, \"seed\": 3, \"variable\": \"train_accuracy\", \"value\": 0.8387755102040816}, {\"epoch\": 69, \"seed\": 3, \"variable\": \"train_accuracy\", \"value\": 0.8306122448979592}, {\"epoch\": 70, \"seed\": 3, \"variable\": \"train_accuracy\", \"value\": 0.826530612244898}, {\"epoch\": 71, \"seed\": 3, \"variable\": \"train_accuracy\", \"value\": 0.8346938775510204}, {\"epoch\": 72, \"seed\": 3, \"variable\": \"train_accuracy\", \"value\": 0.8285714285714286}, {\"epoch\": 73, \"seed\": 3, \"variable\": \"train_accuracy\", \"value\": 0.8346938775510204}, {\"epoch\": 74, \"seed\": 3, \"variable\": \"train_accuracy\", \"value\": 0.8306122448979592}, {\"epoch\": 75, \"seed\": 3, \"variable\": \"train_accuracy\", \"value\": 0.8346938775510204}, {\"epoch\": 76, \"seed\": 3, \"variable\": \"train_accuracy\", \"value\": 0.8367346938775511}, {\"epoch\": 77, \"seed\": 3, \"variable\": \"train_accuracy\", \"value\": 0.8489795918367347}, {\"epoch\": 78, \"seed\": 3, \"variable\": \"train_accuracy\", \"value\": 0.8408163265306122}, {\"epoch\": 79, \"seed\": 3, \"variable\": \"train_accuracy\", \"value\": 0.8387755102040816}, {\"epoch\": 80, \"seed\": 3, \"variable\": \"train_accuracy\", \"value\": 0.8367346938775511}, {\"epoch\": 81, \"seed\": 3, \"variable\": \"train_accuracy\", \"value\": 0.8387755102040816}, {\"epoch\": 82, \"seed\": 3, \"variable\": \"train_accuracy\", \"value\": 0.8530612244897959}, {\"epoch\": 83, \"seed\": 3, \"variable\": \"train_accuracy\", \"value\": 0.8489795918367347}, {\"epoch\": 84, \"seed\": 3, \"variable\": \"train_accuracy\", \"value\": 0.8408163265306122}, {\"epoch\": 85, \"seed\": 3, \"variable\": \"train_accuracy\", \"value\": 0.8183673469387756}, {\"epoch\": 86, \"seed\": 3, \"variable\": \"train_accuracy\", \"value\": 0.8387755102040816}, {\"epoch\": 87, \"seed\": 3, \"variable\": \"train_accuracy\", \"value\": 0.8469387755102041}, {\"epoch\": 88, \"seed\": 3, \"variable\": \"train_accuracy\", \"value\": 0.8387755102040816}, {\"epoch\": 89, \"seed\": 3, \"variable\": \"train_accuracy\", \"value\": 0.8387755102040816}, {\"epoch\": 90, \"seed\": 3, \"variable\": \"train_accuracy\", \"value\": 0.8510204081632653}, {\"epoch\": 91, \"seed\": 3, \"variable\": \"train_accuracy\", \"value\": 0.8489795918367347}, {\"epoch\": 92, \"seed\": 3, \"variable\": \"train_accuracy\", \"value\": 0.8387755102040816}, {\"epoch\": 93, \"seed\": 3, \"variable\": \"train_accuracy\", \"value\": 0.8408163265306122}, {\"epoch\": 94, \"seed\": 3, \"variable\": \"train_accuracy\", \"value\": 0.8346938775510204}, {\"epoch\": 95, \"seed\": 3, \"variable\": \"train_accuracy\", \"value\": 0.8448979591836735}, {\"epoch\": 96, \"seed\": 3, \"variable\": \"train_accuracy\", \"value\": 0.8346938775510204}, {\"epoch\": 97, \"seed\": 3, \"variable\": \"train_accuracy\", \"value\": 0.8591836734693877}, {\"epoch\": 98, \"seed\": 3, \"variable\": \"train_accuracy\", \"value\": 0.8448979591836735}, {\"epoch\": 99, \"seed\": 3, \"variable\": \"train_accuracy\", \"value\": 0.826530612244898}, {\"epoch\": 100, \"seed\": 3, \"variable\": \"train_accuracy\", \"value\": 0.8387755102040816}, {\"epoch\": 101, \"seed\": 3, \"variable\": \"train_accuracy\", \"value\": 0.8530612244897959}, {\"epoch\": 102, \"seed\": 3, \"variable\": \"train_accuracy\", \"value\": 0.8530612244897959}, {\"epoch\": 103, \"seed\": 3, \"variable\": \"train_accuracy\", \"value\": 0.8571428571428571}, {\"epoch\": 104, \"seed\": 3, \"variable\": \"train_accuracy\", \"value\": 0.8510204081632653}, {\"epoch\": 105, \"seed\": 3, \"variable\": \"train_accuracy\", \"value\": 0.8530612244897959}, {\"epoch\": 106, \"seed\": 3, \"variable\": \"train_accuracy\", \"value\": 0.8591836734693877}, {\"epoch\": 107, \"seed\": 3, \"variable\": \"train_accuracy\", \"value\": 0.8571428571428571}, {\"epoch\": 108, \"seed\": 3, \"variable\": \"train_accuracy\", \"value\": 0.8591836734693877}, {\"epoch\": 109, \"seed\": 3, \"variable\": \"train_accuracy\", \"value\": 0.8428571428571429}, {\"epoch\": 110, \"seed\": 3, \"variable\": \"train_accuracy\", \"value\": 0.8408163265306122}, {\"epoch\": 111, \"seed\": 3, \"variable\": \"train_accuracy\", \"value\": 0.8551020408163266}, {\"epoch\": 112, \"seed\": 3, \"variable\": \"train_accuracy\", \"value\": 0.8428571428571429}, {\"epoch\": 113, \"seed\": 3, \"variable\": \"train_accuracy\", \"value\": 0.8591836734693877}, {\"epoch\": 114, \"seed\": 3, \"variable\": \"train_accuracy\", \"value\": 0.8612244897959184}, {\"epoch\": 115, \"seed\": 3, \"variable\": \"train_accuracy\", \"value\": 0.8469387755102041}, {\"epoch\": 116, \"seed\": 3, \"variable\": \"train_accuracy\", \"value\": 0.8510204081632653}, {\"epoch\": 117, \"seed\": 3, \"variable\": \"train_accuracy\", \"value\": 0.8571428571428571}, {\"epoch\": 118, \"seed\": 3, \"variable\": \"train_accuracy\", \"value\": 0.8571428571428571}, {\"epoch\": 119, \"seed\": 3, \"variable\": \"train_accuracy\", \"value\": 0.8469387755102041}, {\"epoch\": 120, \"seed\": 3, \"variable\": \"train_accuracy\", \"value\": 0.8530612244897959}, {\"epoch\": 121, \"seed\": 3, \"variable\": \"train_accuracy\", \"value\": 0.8571428571428571}, {\"epoch\": 122, \"seed\": 3, \"variable\": \"train_accuracy\", \"value\": 0.8551020408163266}, {\"epoch\": 123, \"seed\": 3, \"variable\": \"train_accuracy\", \"value\": 0.8551020408163266}, {\"epoch\": 124, \"seed\": 3, \"variable\": \"train_accuracy\", \"value\": 0.8551020408163266}, {\"epoch\": 125, \"seed\": 3, \"variable\": \"train_accuracy\", \"value\": 0.8469387755102041}, {\"epoch\": 126, \"seed\": 3, \"variable\": \"train_accuracy\", \"value\": 0.8530612244897959}, {\"epoch\": 127, \"seed\": 3, \"variable\": \"train_accuracy\", \"value\": 0.8612244897959184}, {\"epoch\": 128, \"seed\": 3, \"variable\": \"train_accuracy\", \"value\": 0.8551020408163266}, {\"epoch\": 129, \"seed\": 3, \"variable\": \"train_accuracy\", \"value\": 0.8448979591836735}, {\"epoch\": 130, \"seed\": 3, \"variable\": \"train_accuracy\", \"value\": 0.8448979591836735}, {\"epoch\": 131, \"seed\": 3, \"variable\": \"train_accuracy\", \"value\": 0.8448979591836735}, {\"epoch\": 132, \"seed\": 3, \"variable\": \"train_accuracy\", \"value\": 0.8408163265306122}, {\"epoch\": 133, \"seed\": 3, \"variable\": \"train_accuracy\", \"value\": 0.8428571428571429}, {\"epoch\": 134, \"seed\": 3, \"variable\": \"train_accuracy\", \"value\": 0.8510204081632653}, {\"epoch\": 135, \"seed\": 3, \"variable\": \"train_accuracy\", \"value\": 0.8408163265306122}, {\"epoch\": 136, \"seed\": 3, \"variable\": \"train_accuracy\", \"value\": 0.8489795918367347}, {\"epoch\": 137, \"seed\": 3, \"variable\": \"train_accuracy\", \"value\": 0.8469387755102041}, {\"epoch\": 138, \"seed\": 3, \"variable\": \"train_accuracy\", \"value\": 0.8387755102040816}, {\"epoch\": 139, \"seed\": 3, \"variable\": \"train_accuracy\", \"value\": 0.8510204081632653}, {\"epoch\": 140, \"seed\": 3, \"variable\": \"train_accuracy\", \"value\": 0.8530612244897959}, {\"epoch\": 141, \"seed\": 3, \"variable\": \"train_accuracy\", \"value\": 0.8489795918367347}, {\"epoch\": 142, \"seed\": 3, \"variable\": \"train_accuracy\", \"value\": 0.8448979591836735}, {\"epoch\": 143, \"seed\": 3, \"variable\": \"train_accuracy\", \"value\": 0.8408163265306122}, {\"epoch\": 144, \"seed\": 3, \"variable\": \"train_accuracy\", \"value\": 0.8285714285714286}, {\"epoch\": 145, \"seed\": 3, \"variable\": \"train_accuracy\", \"value\": 0.8408163265306122}, {\"epoch\": 146, \"seed\": 3, \"variable\": \"train_accuracy\", \"value\": 0.8367346938775511}, {\"epoch\": 147, \"seed\": 3, \"variable\": \"train_accuracy\", \"value\": 0.8387755102040816}, {\"epoch\": 148, \"seed\": 3, \"variable\": \"train_accuracy\", \"value\": 0.8428571428571429}, {\"epoch\": 149, \"seed\": 3, \"variable\": \"train_accuracy\", \"value\": 0.8489795918367347}, {\"epoch\": 150, \"seed\": 3, \"variable\": \"train_accuracy\", \"value\": 0.8530612244897959}, {\"epoch\": 151, \"seed\": 3, \"variable\": \"train_accuracy\", \"value\": 0.8591836734693877}, {\"epoch\": 152, \"seed\": 3, \"variable\": \"train_accuracy\", \"value\": 0.8551020408163266}, {\"epoch\": 153, \"seed\": 3, \"variable\": \"train_accuracy\", \"value\": 0.8469387755102041}, {\"epoch\": 154, \"seed\": 3, \"variable\": \"train_accuracy\", \"value\": 0.8408163265306122}, {\"epoch\": 155, \"seed\": 3, \"variable\": \"train_accuracy\", \"value\": 0.8551020408163266}, {\"epoch\": 156, \"seed\": 3, \"variable\": \"train_accuracy\", \"value\": 0.8489795918367347}, {\"epoch\": 157, \"seed\": 3, \"variable\": \"train_accuracy\", \"value\": 0.8489795918367347}, {\"epoch\": 158, \"seed\": 3, \"variable\": \"train_accuracy\", \"value\": 0.8448979591836735}, {\"epoch\": 159, \"seed\": 3, \"variable\": \"train_accuracy\", \"value\": 0.8571428571428571}, {\"epoch\": 160, \"seed\": 3, \"variable\": \"train_accuracy\", \"value\": 0.8612244897959184}, {\"epoch\": 161, \"seed\": 3, \"variable\": \"train_accuracy\", \"value\": 0.8591836734693877}, {\"epoch\": 162, \"seed\": 3, \"variable\": \"train_accuracy\", \"value\": 0.8571428571428571}, {\"epoch\": 163, \"seed\": 3, \"variable\": \"train_accuracy\", \"value\": 0.8510204081632653}, {\"epoch\": 164, \"seed\": 3, \"variable\": \"train_accuracy\", \"value\": 0.8612244897959184}, {\"epoch\": 165, \"seed\": 3, \"variable\": \"train_accuracy\", \"value\": 0.8591836734693877}, {\"epoch\": 166, \"seed\": 3, \"variable\": \"train_accuracy\", \"value\": 0.8591836734693877}, {\"epoch\": 167, \"seed\": 3, \"variable\": \"train_accuracy\", \"value\": 0.8551020408163266}, {\"epoch\": 168, \"seed\": 3, \"variable\": \"train_accuracy\", \"value\": 0.8653061224489796}, {\"epoch\": 169, \"seed\": 3, \"variable\": \"train_accuracy\", \"value\": 0.8612244897959184}, {\"epoch\": 170, \"seed\": 3, \"variable\": \"train_accuracy\", \"value\": 0.8571428571428571}, {\"epoch\": 171, \"seed\": 3, \"variable\": \"train_accuracy\", \"value\": 0.8428571428571429}, {\"epoch\": 172, \"seed\": 3, \"variable\": \"train_accuracy\", \"value\": 0.8448979591836735}, {\"epoch\": 173, \"seed\": 3, \"variable\": \"train_accuracy\", \"value\": 0.8489795918367347}, {\"epoch\": 174, \"seed\": 3, \"variable\": \"train_accuracy\", \"value\": 0.8551020408163266}, {\"epoch\": 175, \"seed\": 3, \"variable\": \"train_accuracy\", \"value\": 0.8571428571428571}, {\"epoch\": 176, \"seed\": 3, \"variable\": \"train_accuracy\", \"value\": 0.8428571428571429}, {\"epoch\": 177, \"seed\": 3, \"variable\": \"train_accuracy\", \"value\": 0.8510204081632653}, {\"epoch\": 178, \"seed\": 3, \"variable\": \"train_accuracy\", \"value\": 0.8530612244897959}, {\"epoch\": 179, \"seed\": 3, \"variable\": \"train_accuracy\", \"value\": 0.8612244897959184}, {\"epoch\": 180, \"seed\": 3, \"variable\": \"train_accuracy\", \"value\": 0.8530612244897959}, {\"epoch\": 181, \"seed\": 3, \"variable\": \"train_accuracy\", \"value\": 0.8530612244897959}, {\"epoch\": 182, \"seed\": 3, \"variable\": \"train_accuracy\", \"value\": 0.863265306122449}, {\"epoch\": 183, \"seed\": 3, \"variable\": \"train_accuracy\", \"value\": 0.8612244897959184}, {\"epoch\": 184, \"seed\": 3, \"variable\": \"train_accuracy\", \"value\": 0.8571428571428571}, {\"epoch\": 185, \"seed\": 3, \"variable\": \"train_accuracy\", \"value\": 0.8591836734693877}, {\"epoch\": 186, \"seed\": 3, \"variable\": \"train_accuracy\", \"value\": 0.8591836734693877}, {\"epoch\": 187, \"seed\": 3, \"variable\": \"train_accuracy\", \"value\": 0.8387755102040816}, {\"epoch\": 188, \"seed\": 3, \"variable\": \"train_accuracy\", \"value\": 0.8408163265306122}, {\"epoch\": 189, \"seed\": 3, \"variable\": \"train_accuracy\", \"value\": 0.8653061224489796}, {\"epoch\": 190, \"seed\": 3, \"variable\": \"train_accuracy\", \"value\": 0.8591836734693877}, {\"epoch\": 191, \"seed\": 3, \"variable\": \"train_accuracy\", \"value\": 0.8591836734693877}, {\"epoch\": 192, \"seed\": 3, \"variable\": \"train_accuracy\", \"value\": 0.8551020408163266}, {\"epoch\": 193, \"seed\": 3, \"variable\": \"train_accuracy\", \"value\": 0.8571428571428571}, {\"epoch\": 194, \"seed\": 3, \"variable\": \"train_accuracy\", \"value\": 0.8510204081632653}, {\"epoch\": 195, \"seed\": 3, \"variable\": \"train_accuracy\", \"value\": 0.8571428571428571}, {\"epoch\": 196, \"seed\": 3, \"variable\": \"train_accuracy\", \"value\": 0.8653061224489796}, {\"epoch\": 197, \"seed\": 3, \"variable\": \"train_accuracy\", \"value\": 0.863265306122449}, {\"epoch\": 198, \"seed\": 3, \"variable\": \"train_accuracy\", \"value\": 0.8571428571428571}, {\"epoch\": 199, \"seed\": 3, \"variable\": \"train_accuracy\", \"value\": 0.8693877551020408}, {\"epoch\": 200, \"seed\": 3, \"variable\": \"train_accuracy\", \"value\": 0.8571428571428571}, {\"epoch\": 1, \"seed\": 4, \"variable\": \"train_accuracy\", \"value\": 0.4306122448979592}, {\"epoch\": 2, \"seed\": 4, \"variable\": \"train_accuracy\", \"value\": 0.6204081632653061}, {\"epoch\": 3, \"seed\": 4, \"variable\": \"train_accuracy\", \"value\": 0.6551020408163265}, {\"epoch\": 4, \"seed\": 4, \"variable\": \"train_accuracy\", \"value\": 0.6836734693877551}, {\"epoch\": 5, \"seed\": 4, \"variable\": \"train_accuracy\", \"value\": 0.6938775510204082}, {\"epoch\": 6, \"seed\": 4, \"variable\": \"train_accuracy\", \"value\": 0.7}, {\"epoch\": 7, \"seed\": 4, \"variable\": \"train_accuracy\", \"value\": 0.7224489795918367}, {\"epoch\": 8, \"seed\": 4, \"variable\": \"train_accuracy\", \"value\": 0.7244897959183674}, {\"epoch\": 9, \"seed\": 4, \"variable\": \"train_accuracy\", \"value\": 0.7224489795918367}, {\"epoch\": 10, \"seed\": 4, \"variable\": \"train_accuracy\", \"value\": 0.7285714285714285}, {\"epoch\": 11, \"seed\": 4, \"variable\": \"train_accuracy\", \"value\": 0.7346938775510204}, {\"epoch\": 12, \"seed\": 4, \"variable\": \"train_accuracy\", \"value\": 0.7408163265306122}, {\"epoch\": 13, \"seed\": 4, \"variable\": \"train_accuracy\", \"value\": 0.7448979591836735}, {\"epoch\": 14, \"seed\": 4, \"variable\": \"train_accuracy\", \"value\": 0.7653061224489796}, {\"epoch\": 15, \"seed\": 4, \"variable\": \"train_accuracy\", \"value\": 0.7755102040816326}, {\"epoch\": 16, \"seed\": 4, \"variable\": \"train_accuracy\", \"value\": 0.7775510204081633}, {\"epoch\": 17, \"seed\": 4, \"variable\": \"train_accuracy\", \"value\": 0.7979591836734694}, {\"epoch\": 18, \"seed\": 4, \"variable\": \"train_accuracy\", \"value\": 0.7755102040816326}, {\"epoch\": 19, \"seed\": 4, \"variable\": \"train_accuracy\", \"value\": 0.7448979591836735}, {\"epoch\": 20, \"seed\": 4, \"variable\": \"train_accuracy\", \"value\": 0.7816326530612245}, {\"epoch\": 21, \"seed\": 4, \"variable\": \"train_accuracy\", \"value\": 0.8040816326530612}, {\"epoch\": 22, \"seed\": 4, \"variable\": \"train_accuracy\", \"value\": 0.8224489795918367}, {\"epoch\": 23, \"seed\": 4, \"variable\": \"train_accuracy\", \"value\": 0.826530612244898}, {\"epoch\": 24, \"seed\": 4, \"variable\": \"train_accuracy\", \"value\": 0.8040816326530612}, {\"epoch\": 25, \"seed\": 4, \"variable\": \"train_accuracy\", \"value\": 0.8142857142857143}, {\"epoch\": 26, \"seed\": 4, \"variable\": \"train_accuracy\", \"value\": 0.8061224489795918}, {\"epoch\": 27, \"seed\": 4, \"variable\": \"train_accuracy\", \"value\": 0.8183673469387756}, {\"epoch\": 28, \"seed\": 4, \"variable\": \"train_accuracy\", \"value\": 0.8244897959183674}, {\"epoch\": 29, \"seed\": 4, \"variable\": \"train_accuracy\", \"value\": 0.8326530612244898}, {\"epoch\": 30, \"seed\": 4, \"variable\": \"train_accuracy\", \"value\": 0.8367346938775511}, {\"epoch\": 31, \"seed\": 4, \"variable\": \"train_accuracy\", \"value\": 0.8306122448979592}, {\"epoch\": 32, \"seed\": 4, \"variable\": \"train_accuracy\", \"value\": 0.8285714285714286}, {\"epoch\": 33, \"seed\": 4, \"variable\": \"train_accuracy\", \"value\": 0.8326530612244898}, {\"epoch\": 34, \"seed\": 4, \"variable\": \"train_accuracy\", \"value\": 0.8285714285714286}, {\"epoch\": 35, \"seed\": 4, \"variable\": \"train_accuracy\", \"value\": 0.8142857142857143}, {\"epoch\": 36, \"seed\": 4, \"variable\": \"train_accuracy\", \"value\": 0.8244897959183674}, {\"epoch\": 37, \"seed\": 4, \"variable\": \"train_accuracy\", \"value\": 0.8367346938775511}, {\"epoch\": 38, \"seed\": 4, \"variable\": \"train_accuracy\", \"value\": 0.8387755102040816}, {\"epoch\": 39, \"seed\": 4, \"variable\": \"train_accuracy\", \"value\": 0.8285714285714286}, {\"epoch\": 40, \"seed\": 4, \"variable\": \"train_accuracy\", \"value\": 0.8142857142857143}, {\"epoch\": 41, \"seed\": 4, \"variable\": \"train_accuracy\", \"value\": 0.8306122448979592}, {\"epoch\": 42, \"seed\": 4, \"variable\": \"train_accuracy\", \"value\": 0.8346938775510204}, {\"epoch\": 43, \"seed\": 4, \"variable\": \"train_accuracy\", \"value\": 0.8346938775510204}, {\"epoch\": 44, \"seed\": 4, \"variable\": \"train_accuracy\", \"value\": 0.8244897959183674}, {\"epoch\": 45, \"seed\": 4, \"variable\": \"train_accuracy\", \"value\": 0.8204081632653061}, {\"epoch\": 46, \"seed\": 4, \"variable\": \"train_accuracy\", \"value\": 0.8285714285714286}, {\"epoch\": 47, \"seed\": 4, \"variable\": \"train_accuracy\", \"value\": 0.8306122448979592}, {\"epoch\": 48, \"seed\": 4, \"variable\": \"train_accuracy\", \"value\": 0.8408163265306122}, {\"epoch\": 49, \"seed\": 4, \"variable\": \"train_accuracy\", \"value\": 0.8326530612244898}, {\"epoch\": 50, \"seed\": 4, \"variable\": \"train_accuracy\", \"value\": 0.826530612244898}, {\"epoch\": 51, \"seed\": 4, \"variable\": \"train_accuracy\", \"value\": 0.8367346938775511}, {\"epoch\": 52, \"seed\": 4, \"variable\": \"train_accuracy\", \"value\": 0.8346938775510204}, {\"epoch\": 53, \"seed\": 4, \"variable\": \"train_accuracy\", \"value\": 0.8326530612244898}, {\"epoch\": 54, \"seed\": 4, \"variable\": \"train_accuracy\", \"value\": 0.826530612244898}, {\"epoch\": 55, \"seed\": 4, \"variable\": \"train_accuracy\", \"value\": 0.8163265306122449}, {\"epoch\": 56, \"seed\": 4, \"variable\": \"train_accuracy\", \"value\": 0.8285714285714286}, {\"epoch\": 57, \"seed\": 4, \"variable\": \"train_accuracy\", \"value\": 0.8285714285714286}, {\"epoch\": 58, \"seed\": 4, \"variable\": \"train_accuracy\", \"value\": 0.8367346938775511}, {\"epoch\": 59, \"seed\": 4, \"variable\": \"train_accuracy\", \"value\": 0.8448979591836735}, {\"epoch\": 60, \"seed\": 4, \"variable\": \"train_accuracy\", \"value\": 0.8387755102040816}, {\"epoch\": 61, \"seed\": 4, \"variable\": \"train_accuracy\", \"value\": 0.8285714285714286}, {\"epoch\": 62, \"seed\": 4, \"variable\": \"train_accuracy\", \"value\": 0.8224489795918367}, {\"epoch\": 63, \"seed\": 4, \"variable\": \"train_accuracy\", \"value\": 0.8387755102040816}, {\"epoch\": 64, \"seed\": 4, \"variable\": \"train_accuracy\", \"value\": 0.8408163265306122}, {\"epoch\": 65, \"seed\": 4, \"variable\": \"train_accuracy\", \"value\": 0.8224489795918367}, {\"epoch\": 66, \"seed\": 4, \"variable\": \"train_accuracy\", \"value\": 0.8408163265306122}, {\"epoch\": 67, \"seed\": 4, \"variable\": \"train_accuracy\", \"value\": 0.8387755102040816}, {\"epoch\": 68, \"seed\": 4, \"variable\": \"train_accuracy\", \"value\": 0.8387755102040816}, {\"epoch\": 69, \"seed\": 4, \"variable\": \"train_accuracy\", \"value\": 0.8224489795918367}, {\"epoch\": 70, \"seed\": 4, \"variable\": \"train_accuracy\", \"value\": 0.8183673469387756}, {\"epoch\": 71, \"seed\": 4, \"variable\": \"train_accuracy\", \"value\": 0.8367346938775511}, {\"epoch\": 72, \"seed\": 4, \"variable\": \"train_accuracy\", \"value\": 0.8367346938775511}, {\"epoch\": 73, \"seed\": 4, \"variable\": \"train_accuracy\", \"value\": 0.8448979591836735}, {\"epoch\": 74, \"seed\": 4, \"variable\": \"train_accuracy\", \"value\": 0.8367346938775511}, {\"epoch\": 75, \"seed\": 4, \"variable\": \"train_accuracy\", \"value\": 0.8387755102040816}, {\"epoch\": 76, \"seed\": 4, \"variable\": \"train_accuracy\", \"value\": 0.8326530612244898}, {\"epoch\": 77, \"seed\": 4, \"variable\": \"train_accuracy\", \"value\": 0.8346938775510204}, {\"epoch\": 78, \"seed\": 4, \"variable\": \"train_accuracy\", \"value\": 0.8408163265306122}, {\"epoch\": 79, \"seed\": 4, \"variable\": \"train_accuracy\", \"value\": 0.8387755102040816}, {\"epoch\": 80, \"seed\": 4, \"variable\": \"train_accuracy\", \"value\": 0.8346938775510204}, {\"epoch\": 81, \"seed\": 4, \"variable\": \"train_accuracy\", \"value\": 0.8408163265306122}, {\"epoch\": 82, \"seed\": 4, \"variable\": \"train_accuracy\", \"value\": 0.8285714285714286}, {\"epoch\": 83, \"seed\": 4, \"variable\": \"train_accuracy\", \"value\": 0.8306122448979592}, {\"epoch\": 84, \"seed\": 4, \"variable\": \"train_accuracy\", \"value\": 0.8346938775510204}, {\"epoch\": 85, \"seed\": 4, \"variable\": \"train_accuracy\", \"value\": 0.8306122448979592}, {\"epoch\": 86, \"seed\": 4, \"variable\": \"train_accuracy\", \"value\": 0.8285714285714286}, {\"epoch\": 87, \"seed\": 4, \"variable\": \"train_accuracy\", \"value\": 0.8326530612244898}, {\"epoch\": 88, \"seed\": 4, \"variable\": \"train_accuracy\", \"value\": 0.8448979591836735}, {\"epoch\": 89, \"seed\": 4, \"variable\": \"train_accuracy\", \"value\": 0.8408163265306122}, {\"epoch\": 90, \"seed\": 4, \"variable\": \"train_accuracy\", \"value\": 0.8448979591836735}, {\"epoch\": 91, \"seed\": 4, \"variable\": \"train_accuracy\", \"value\": 0.8469387755102041}, {\"epoch\": 92, \"seed\": 4, \"variable\": \"train_accuracy\", \"value\": 0.8408163265306122}, {\"epoch\": 93, \"seed\": 4, \"variable\": \"train_accuracy\", \"value\": 0.8244897959183674}, {\"epoch\": 94, \"seed\": 4, \"variable\": \"train_accuracy\", \"value\": 0.826530612244898}, {\"epoch\": 95, \"seed\": 4, \"variable\": \"train_accuracy\", \"value\": 0.8285714285714286}, {\"epoch\": 96, \"seed\": 4, \"variable\": \"train_accuracy\", \"value\": 0.8428571428571429}, {\"epoch\": 97, \"seed\": 4, \"variable\": \"train_accuracy\", \"value\": 0.8408163265306122}, {\"epoch\": 98, \"seed\": 4, \"variable\": \"train_accuracy\", \"value\": 0.8367346938775511}, {\"epoch\": 99, \"seed\": 4, \"variable\": \"train_accuracy\", \"value\": 0.8346938775510204}, {\"epoch\": 100, \"seed\": 4, \"variable\": \"train_accuracy\", \"value\": 0.8285714285714286}, {\"epoch\": 101, \"seed\": 4, \"variable\": \"train_accuracy\", \"value\": 0.8367346938775511}, {\"epoch\": 102, \"seed\": 4, \"variable\": \"train_accuracy\", \"value\": 0.8346938775510204}, {\"epoch\": 103, \"seed\": 4, \"variable\": \"train_accuracy\", \"value\": 0.8326530612244898}, {\"epoch\": 104, \"seed\": 4, \"variable\": \"train_accuracy\", \"value\": 0.8326530612244898}, {\"epoch\": 105, \"seed\": 4, \"variable\": \"train_accuracy\", \"value\": 0.8408163265306122}, {\"epoch\": 106, \"seed\": 4, \"variable\": \"train_accuracy\", \"value\": 0.8428571428571429}, {\"epoch\": 107, \"seed\": 4, \"variable\": \"train_accuracy\", \"value\": 0.8428571428571429}, {\"epoch\": 108, \"seed\": 4, \"variable\": \"train_accuracy\", \"value\": 0.8326530612244898}, {\"epoch\": 109, \"seed\": 4, \"variable\": \"train_accuracy\", \"value\": 0.8367346938775511}, {\"epoch\": 110, \"seed\": 4, \"variable\": \"train_accuracy\", \"value\": 0.8306122448979592}, {\"epoch\": 111, \"seed\": 4, \"variable\": \"train_accuracy\", \"value\": 0.8367346938775511}, {\"epoch\": 112, \"seed\": 4, \"variable\": \"train_accuracy\", \"value\": 0.8387755102040816}, {\"epoch\": 113, \"seed\": 4, \"variable\": \"train_accuracy\", \"value\": 0.8428571428571429}, {\"epoch\": 114, \"seed\": 4, \"variable\": \"train_accuracy\", \"value\": 0.8346938775510204}, {\"epoch\": 115, \"seed\": 4, \"variable\": \"train_accuracy\", \"value\": 0.8346938775510204}, {\"epoch\": 116, \"seed\": 4, \"variable\": \"train_accuracy\", \"value\": 0.8428571428571429}, {\"epoch\": 117, \"seed\": 4, \"variable\": \"train_accuracy\", \"value\": 0.8326530612244898}, {\"epoch\": 118, \"seed\": 4, \"variable\": \"train_accuracy\", \"value\": 0.8326530612244898}, {\"epoch\": 119, \"seed\": 4, \"variable\": \"train_accuracy\", \"value\": 0.8408163265306122}, {\"epoch\": 120, \"seed\": 4, \"variable\": \"train_accuracy\", \"value\": 0.8428571428571429}, {\"epoch\": 121, \"seed\": 4, \"variable\": \"train_accuracy\", \"value\": 0.8408163265306122}, {\"epoch\": 122, \"seed\": 4, \"variable\": \"train_accuracy\", \"value\": 0.8428571428571429}, {\"epoch\": 123, \"seed\": 4, \"variable\": \"train_accuracy\", \"value\": 0.8285714285714286}, {\"epoch\": 124, \"seed\": 4, \"variable\": \"train_accuracy\", \"value\": 0.8306122448979592}, {\"epoch\": 125, \"seed\": 4, \"variable\": \"train_accuracy\", \"value\": 0.8408163265306122}, {\"epoch\": 126, \"seed\": 4, \"variable\": \"train_accuracy\", \"value\": 0.8408163265306122}, {\"epoch\": 127, \"seed\": 4, \"variable\": \"train_accuracy\", \"value\": 0.8428571428571429}, {\"epoch\": 128, \"seed\": 4, \"variable\": \"train_accuracy\", \"value\": 0.8408163265306122}, {\"epoch\": 129, \"seed\": 4, \"variable\": \"train_accuracy\", \"value\": 0.8387755102040816}, {\"epoch\": 130, \"seed\": 4, \"variable\": \"train_accuracy\", \"value\": 0.8306122448979592}, {\"epoch\": 131, \"seed\": 4, \"variable\": \"train_accuracy\", \"value\": 0.8346938775510204}, {\"epoch\": 132, \"seed\": 4, \"variable\": \"train_accuracy\", \"value\": 0.8469387755102041}, {\"epoch\": 133, \"seed\": 4, \"variable\": \"train_accuracy\", \"value\": 0.8428571428571429}, {\"epoch\": 134, \"seed\": 4, \"variable\": \"train_accuracy\", \"value\": 0.8244897959183674}, {\"epoch\": 135, \"seed\": 4, \"variable\": \"train_accuracy\", \"value\": 0.8387755102040816}, {\"epoch\": 136, \"seed\": 4, \"variable\": \"train_accuracy\", \"value\": 0.8346938775510204}, {\"epoch\": 137, \"seed\": 4, \"variable\": \"train_accuracy\", \"value\": 0.8387755102040816}, {\"epoch\": 138, \"seed\": 4, \"variable\": \"train_accuracy\", \"value\": 0.8285714285714286}, {\"epoch\": 139, \"seed\": 4, \"variable\": \"train_accuracy\", \"value\": 0.8346938775510204}, {\"epoch\": 140, \"seed\": 4, \"variable\": \"train_accuracy\", \"value\": 0.8428571428571429}, {\"epoch\": 141, \"seed\": 4, \"variable\": \"train_accuracy\", \"value\": 0.8408163265306122}, {\"epoch\": 142, \"seed\": 4, \"variable\": \"train_accuracy\", \"value\": 0.8448979591836735}, {\"epoch\": 143, \"seed\": 4, \"variable\": \"train_accuracy\", \"value\": 0.8428571428571429}, {\"epoch\": 144, \"seed\": 4, \"variable\": \"train_accuracy\", \"value\": 0.8428571428571429}, {\"epoch\": 145, \"seed\": 4, \"variable\": \"train_accuracy\", \"value\": 0.8408163265306122}, {\"epoch\": 146, \"seed\": 4, \"variable\": \"train_accuracy\", \"value\": 0.8408163265306122}, {\"epoch\": 147, \"seed\": 4, \"variable\": \"train_accuracy\", \"value\": 0.8448979591836735}, {\"epoch\": 148, \"seed\": 4, \"variable\": \"train_accuracy\", \"value\": 0.8428571428571429}, {\"epoch\": 149, \"seed\": 4, \"variable\": \"train_accuracy\", \"value\": 0.8428571428571429}, {\"epoch\": 150, \"seed\": 4, \"variable\": \"train_accuracy\", \"value\": 0.8367346938775511}, {\"epoch\": 151, \"seed\": 4, \"variable\": \"train_accuracy\", \"value\": 0.8346938775510204}, {\"epoch\": 152, \"seed\": 4, \"variable\": \"train_accuracy\", \"value\": 0.8306122448979592}, {\"epoch\": 153, \"seed\": 4, \"variable\": \"train_accuracy\", \"value\": 0.8387755102040816}, {\"epoch\": 154, \"seed\": 4, \"variable\": \"train_accuracy\", \"value\": 0.8428571428571429}, {\"epoch\": 155, \"seed\": 4, \"variable\": \"train_accuracy\", \"value\": 0.8489795918367347}, {\"epoch\": 156, \"seed\": 4, \"variable\": \"train_accuracy\", \"value\": 0.8408163265306122}, {\"epoch\": 157, \"seed\": 4, \"variable\": \"train_accuracy\", \"value\": 0.8428571428571429}, {\"epoch\": 158, \"seed\": 4, \"variable\": \"train_accuracy\", \"value\": 0.8326530612244898}, {\"epoch\": 159, \"seed\": 4, \"variable\": \"train_accuracy\", \"value\": 0.8387755102040816}, {\"epoch\": 160, \"seed\": 4, \"variable\": \"train_accuracy\", \"value\": 0.8387755102040816}, {\"epoch\": 161, \"seed\": 4, \"variable\": \"train_accuracy\", \"value\": 0.8428571428571429}, {\"epoch\": 162, \"seed\": 4, \"variable\": \"train_accuracy\", \"value\": 0.8428571428571429}, {\"epoch\": 163, \"seed\": 4, \"variable\": \"train_accuracy\", \"value\": 0.8326530612244898}, {\"epoch\": 164, \"seed\": 4, \"variable\": \"train_accuracy\", \"value\": 0.8387755102040816}, {\"epoch\": 165, \"seed\": 4, \"variable\": \"train_accuracy\", \"value\": 0.8367346938775511}, {\"epoch\": 166, \"seed\": 4, \"variable\": \"train_accuracy\", \"value\": 0.8285714285714286}, {\"epoch\": 167, \"seed\": 4, \"variable\": \"train_accuracy\", \"value\": 0.8387755102040816}, {\"epoch\": 168, \"seed\": 4, \"variable\": \"train_accuracy\", \"value\": 0.8428571428571429}, {\"epoch\": 169, \"seed\": 4, \"variable\": \"train_accuracy\", \"value\": 0.8448979591836735}, {\"epoch\": 170, \"seed\": 4, \"variable\": \"train_accuracy\", \"value\": 0.8346938775510204}, {\"epoch\": 171, \"seed\": 4, \"variable\": \"train_accuracy\", \"value\": 0.8408163265306122}, {\"epoch\": 172, \"seed\": 4, \"variable\": \"train_accuracy\", \"value\": 0.8408163265306122}, {\"epoch\": 173, \"seed\": 4, \"variable\": \"train_accuracy\", \"value\": 0.8448979591836735}, {\"epoch\": 174, \"seed\": 4, \"variable\": \"train_accuracy\", \"value\": 0.8387755102040816}, {\"epoch\": 175, \"seed\": 4, \"variable\": \"train_accuracy\", \"value\": 0.8387755102040816}, {\"epoch\": 176, \"seed\": 4, \"variable\": \"train_accuracy\", \"value\": 0.8387755102040816}, {\"epoch\": 177, \"seed\": 4, \"variable\": \"train_accuracy\", \"value\": 0.8428571428571429}, {\"epoch\": 178, \"seed\": 4, \"variable\": \"train_accuracy\", \"value\": 0.8428571428571429}, {\"epoch\": 179, \"seed\": 4, \"variable\": \"train_accuracy\", \"value\": 0.8448979591836735}, {\"epoch\": 180, \"seed\": 4, \"variable\": \"train_accuracy\", \"value\": 0.8367346938775511}, {\"epoch\": 181, \"seed\": 4, \"variable\": \"train_accuracy\", \"value\": 0.8346938775510204}, {\"epoch\": 182, \"seed\": 4, \"variable\": \"train_accuracy\", \"value\": 0.8224489795918367}, {\"epoch\": 183, \"seed\": 4, \"variable\": \"train_accuracy\", \"value\": 0.8244897959183674}, {\"epoch\": 184, \"seed\": 4, \"variable\": \"train_accuracy\", \"value\": 0.8428571428571429}, {\"epoch\": 185, \"seed\": 4, \"variable\": \"train_accuracy\", \"value\": 0.8428571428571429}, {\"epoch\": 186, \"seed\": 4, \"variable\": \"train_accuracy\", \"value\": 0.8387755102040816}, {\"epoch\": 187, \"seed\": 4, \"variable\": \"train_accuracy\", \"value\": 0.8408163265306122}, {\"epoch\": 188, \"seed\": 4, \"variable\": \"train_accuracy\", \"value\": 0.8448979591836735}, {\"epoch\": 189, \"seed\": 4, \"variable\": \"train_accuracy\", \"value\": 0.8448979591836735}, {\"epoch\": 190, \"seed\": 4, \"variable\": \"train_accuracy\", \"value\": 0.8346938775510204}, {\"epoch\": 191, \"seed\": 4, \"variable\": \"train_accuracy\", \"value\": 0.8387755102040816}, {\"epoch\": 192, \"seed\": 4, \"variable\": \"train_accuracy\", \"value\": 0.8408163265306122}, {\"epoch\": 193, \"seed\": 4, \"variable\": \"train_accuracy\", \"value\": 0.8469387755102041}, {\"epoch\": 194, \"seed\": 4, \"variable\": \"train_accuracy\", \"value\": 0.8448979591836735}, {\"epoch\": 195, \"seed\": 4, \"variable\": \"train_accuracy\", \"value\": 0.8387755102040816}, {\"epoch\": 196, \"seed\": 4, \"variable\": \"train_accuracy\", \"value\": 0.8387755102040816}, {\"epoch\": 197, \"seed\": 4, \"variable\": \"train_accuracy\", \"value\": 0.8408163265306122}, {\"epoch\": 198, \"seed\": 4, \"variable\": \"train_accuracy\", \"value\": 0.8448979591836735}, {\"epoch\": 199, \"seed\": 4, \"variable\": \"train_accuracy\", \"value\": 0.8428571428571429}, {\"epoch\": 200, \"seed\": 4, \"variable\": \"train_accuracy\", \"value\": 0.8469387755102041}, {\"epoch\": 1, \"seed\": 5, \"variable\": \"train_accuracy\", \"value\": 0.5142857142857142}, {\"epoch\": 2, \"seed\": 5, \"variable\": \"train_accuracy\", \"value\": 0.6448979591836734}, {\"epoch\": 3, \"seed\": 5, \"variable\": \"train_accuracy\", \"value\": 0.6877551020408164}, {\"epoch\": 4, \"seed\": 5, \"variable\": \"train_accuracy\", \"value\": 0.6918367346938775}, {\"epoch\": 5, \"seed\": 5, \"variable\": \"train_accuracy\", \"value\": 0.6836734693877551}, {\"epoch\": 6, \"seed\": 5, \"variable\": \"train_accuracy\", \"value\": 0.7122448979591837}, {\"epoch\": 7, \"seed\": 5, \"variable\": \"train_accuracy\", \"value\": 0.7142857142857143}, {\"epoch\": 8, \"seed\": 5, \"variable\": \"train_accuracy\", \"value\": 0.7224489795918367}, {\"epoch\": 9, \"seed\": 5, \"variable\": \"train_accuracy\", \"value\": 0.7306122448979592}, {\"epoch\": 10, \"seed\": 5, \"variable\": \"train_accuracy\", \"value\": 0.7204081632653061}, {\"epoch\": 11, \"seed\": 5, \"variable\": \"train_accuracy\", \"value\": 0.7142857142857143}, {\"epoch\": 12, \"seed\": 5, \"variable\": \"train_accuracy\", \"value\": 0.7204081632653061}, {\"epoch\": 13, \"seed\": 5, \"variable\": \"train_accuracy\", \"value\": 0.7285714285714285}, {\"epoch\": 14, \"seed\": 5, \"variable\": \"train_accuracy\", \"value\": 0.7387755102040816}, {\"epoch\": 15, \"seed\": 5, \"variable\": \"train_accuracy\", \"value\": 0.7428571428571429}, {\"epoch\": 16, \"seed\": 5, \"variable\": \"train_accuracy\", \"value\": 0.736734693877551}, {\"epoch\": 17, \"seed\": 5, \"variable\": \"train_accuracy\", \"value\": 0.7408163265306122}, {\"epoch\": 18, \"seed\": 5, \"variable\": \"train_accuracy\", \"value\": 0.7408163265306122}, {\"epoch\": 19, \"seed\": 5, \"variable\": \"train_accuracy\", \"value\": 0.7510204081632653}, {\"epoch\": 20, \"seed\": 5, \"variable\": \"train_accuracy\", \"value\": 0.7448979591836735}, {\"epoch\": 21, \"seed\": 5, \"variable\": \"train_accuracy\", \"value\": 0.7510204081632653}, {\"epoch\": 22, \"seed\": 5, \"variable\": \"train_accuracy\", \"value\": 0.7551020408163265}, {\"epoch\": 23, \"seed\": 5, \"variable\": \"train_accuracy\", \"value\": 0.7306122448979592}, {\"epoch\": 24, \"seed\": 5, \"variable\": \"train_accuracy\", \"value\": 0.7571428571428571}, {\"epoch\": 25, \"seed\": 5, \"variable\": \"train_accuracy\", \"value\": 0.7551020408163265}, {\"epoch\": 26, \"seed\": 5, \"variable\": \"train_accuracy\", \"value\": 0.7571428571428571}, {\"epoch\": 27, \"seed\": 5, \"variable\": \"train_accuracy\", \"value\": 0.763265306122449}, {\"epoch\": 28, \"seed\": 5, \"variable\": \"train_accuracy\", \"value\": 0.7571428571428571}, {\"epoch\": 29, \"seed\": 5, \"variable\": \"train_accuracy\", \"value\": 0.763265306122449}, {\"epoch\": 30, \"seed\": 5, \"variable\": \"train_accuracy\", \"value\": 0.753061224489796}, {\"epoch\": 31, \"seed\": 5, \"variable\": \"train_accuracy\", \"value\": 0.7673469387755102}, {\"epoch\": 32, \"seed\": 5, \"variable\": \"train_accuracy\", \"value\": 0.763265306122449}, {\"epoch\": 33, \"seed\": 5, \"variable\": \"train_accuracy\", \"value\": 0.7612244897959184}, {\"epoch\": 34, \"seed\": 5, \"variable\": \"train_accuracy\", \"value\": 0.7571428571428571}, {\"epoch\": 35, \"seed\": 5, \"variable\": \"train_accuracy\", \"value\": 0.7551020408163265}, {\"epoch\": 36, \"seed\": 5, \"variable\": \"train_accuracy\", \"value\": 0.7693877551020408}, {\"epoch\": 37, \"seed\": 5, \"variable\": \"train_accuracy\", \"value\": 0.7673469387755102}, {\"epoch\": 38, \"seed\": 5, \"variable\": \"train_accuracy\", \"value\": 0.7693877551020408}, {\"epoch\": 39, \"seed\": 5, \"variable\": \"train_accuracy\", \"value\": 0.7673469387755102}, {\"epoch\": 40, \"seed\": 5, \"variable\": \"train_accuracy\", \"value\": 0.7653061224489796}, {\"epoch\": 41, \"seed\": 5, \"variable\": \"train_accuracy\", \"value\": 0.7510204081632653}, {\"epoch\": 42, \"seed\": 5, \"variable\": \"train_accuracy\", \"value\": 0.6795918367346939}, {\"epoch\": 43, \"seed\": 5, \"variable\": \"train_accuracy\", \"value\": 0.6857142857142857}, {\"epoch\": 44, \"seed\": 5, \"variable\": \"train_accuracy\", \"value\": 0.7387755102040816}, {\"epoch\": 45, \"seed\": 5, \"variable\": \"train_accuracy\", \"value\": 0.746938775510204}, {\"epoch\": 46, \"seed\": 5, \"variable\": \"train_accuracy\", \"value\": 0.7816326530612245}, {\"epoch\": 47, \"seed\": 5, \"variable\": \"train_accuracy\", \"value\": 0.8}, {\"epoch\": 48, \"seed\": 5, \"variable\": \"train_accuracy\", \"value\": 0.8}, {\"epoch\": 49, \"seed\": 5, \"variable\": \"train_accuracy\", \"value\": 0.8}, {\"epoch\": 50, \"seed\": 5, \"variable\": \"train_accuracy\", \"value\": 0.8}, {\"epoch\": 51, \"seed\": 5, \"variable\": \"train_accuracy\", \"value\": 0.8122448979591836}, {\"epoch\": 52, \"seed\": 5, \"variable\": \"train_accuracy\", \"value\": 0.810204081632653}, {\"epoch\": 53, \"seed\": 5, \"variable\": \"train_accuracy\", \"value\": 0.7959183673469388}, {\"epoch\": 54, \"seed\": 5, \"variable\": \"train_accuracy\", \"value\": 0.826530612244898}, {\"epoch\": 55, \"seed\": 5, \"variable\": \"train_accuracy\", \"value\": 0.8081632653061225}, {\"epoch\": 56, \"seed\": 5, \"variable\": \"train_accuracy\", \"value\": 0.810204081632653}, {\"epoch\": 57, \"seed\": 5, \"variable\": \"train_accuracy\", \"value\": 0.8163265306122449}, {\"epoch\": 58, \"seed\": 5, \"variable\": \"train_accuracy\", \"value\": 0.8224489795918367}, {\"epoch\": 59, \"seed\": 5, \"variable\": \"train_accuracy\", \"value\": 0.826530612244898}, {\"epoch\": 60, \"seed\": 5, \"variable\": \"train_accuracy\", \"value\": 0.826530612244898}, {\"epoch\": 61, \"seed\": 5, \"variable\": \"train_accuracy\", \"value\": 0.8285714285714286}, {\"epoch\": 62, \"seed\": 5, \"variable\": \"train_accuracy\", \"value\": 0.8204081632653061}, {\"epoch\": 63, \"seed\": 5, \"variable\": \"train_accuracy\", \"value\": 0.8224489795918367}, {\"epoch\": 64, \"seed\": 5, \"variable\": \"train_accuracy\", \"value\": 0.8163265306122449}, {\"epoch\": 65, \"seed\": 5, \"variable\": \"train_accuracy\", \"value\": 0.8224489795918367}, {\"epoch\": 66, \"seed\": 5, \"variable\": \"train_accuracy\", \"value\": 0.8285714285714286}, {\"epoch\": 67, \"seed\": 5, \"variable\": \"train_accuracy\", \"value\": 0.8244897959183674}, {\"epoch\": 68, \"seed\": 5, \"variable\": \"train_accuracy\", \"value\": 0.8285714285714286}, {\"epoch\": 69, \"seed\": 5, \"variable\": \"train_accuracy\", \"value\": 0.8244897959183674}, {\"epoch\": 70, \"seed\": 5, \"variable\": \"train_accuracy\", \"value\": 0.8306122448979592}, {\"epoch\": 71, \"seed\": 5, \"variable\": \"train_accuracy\", \"value\": 0.8306122448979592}, {\"epoch\": 72, \"seed\": 5, \"variable\": \"train_accuracy\", \"value\": 0.8224489795918367}, {\"epoch\": 73, \"seed\": 5, \"variable\": \"train_accuracy\", \"value\": 0.8244897959183674}, {\"epoch\": 74, \"seed\": 5, \"variable\": \"train_accuracy\", \"value\": 0.8285714285714286}, {\"epoch\": 75, \"seed\": 5, \"variable\": \"train_accuracy\", \"value\": 0.8244897959183674}, {\"epoch\": 76, \"seed\": 5, \"variable\": \"train_accuracy\", \"value\": 0.8244897959183674}, {\"epoch\": 77, \"seed\": 5, \"variable\": \"train_accuracy\", \"value\": 0.8326530612244898}, {\"epoch\": 78, \"seed\": 5, \"variable\": \"train_accuracy\", \"value\": 0.8346938775510204}, {\"epoch\": 79, \"seed\": 5, \"variable\": \"train_accuracy\", \"value\": 0.8285714285714286}, {\"epoch\": 80, \"seed\": 5, \"variable\": \"train_accuracy\", \"value\": 0.8183673469387756}, {\"epoch\": 81, \"seed\": 5, \"variable\": \"train_accuracy\", \"value\": 0.8142857142857143}, {\"epoch\": 82, \"seed\": 5, \"variable\": \"train_accuracy\", \"value\": 0.8183673469387756}, {\"epoch\": 83, \"seed\": 5, \"variable\": \"train_accuracy\", \"value\": 0.8244897959183674}, {\"epoch\": 84, \"seed\": 5, \"variable\": \"train_accuracy\", \"value\": 0.8244897959183674}, {\"epoch\": 85, \"seed\": 5, \"variable\": \"train_accuracy\", \"value\": 0.8142857142857143}, {\"epoch\": 86, \"seed\": 5, \"variable\": \"train_accuracy\", \"value\": 0.826530612244898}, {\"epoch\": 87, \"seed\": 5, \"variable\": \"train_accuracy\", \"value\": 0.8244897959183674}, {\"epoch\": 88, \"seed\": 5, \"variable\": \"train_accuracy\", \"value\": 0.826530612244898}, {\"epoch\": 89, \"seed\": 5, \"variable\": \"train_accuracy\", \"value\": 0.8244897959183674}, {\"epoch\": 90, \"seed\": 5, \"variable\": \"train_accuracy\", \"value\": 0.826530612244898}, {\"epoch\": 91, \"seed\": 5, \"variable\": \"train_accuracy\", \"value\": 0.8285714285714286}, {\"epoch\": 92, \"seed\": 5, \"variable\": \"train_accuracy\", \"value\": 0.8183673469387756}, {\"epoch\": 93, \"seed\": 5, \"variable\": \"train_accuracy\", \"value\": 0.8244897959183674}, {\"epoch\": 94, \"seed\": 5, \"variable\": \"train_accuracy\", \"value\": 0.8142857142857143}, {\"epoch\": 95, \"seed\": 5, \"variable\": \"train_accuracy\", \"value\": 0.8142857142857143}, {\"epoch\": 96, \"seed\": 5, \"variable\": \"train_accuracy\", \"value\": 0.8244897959183674}, {\"epoch\": 97, \"seed\": 5, \"variable\": \"train_accuracy\", \"value\": 0.8244897959183674}, {\"epoch\": 98, \"seed\": 5, \"variable\": \"train_accuracy\", \"value\": 0.826530612244898}, {\"epoch\": 99, \"seed\": 5, \"variable\": \"train_accuracy\", \"value\": 0.8346938775510204}, {\"epoch\": 100, \"seed\": 5, \"variable\": \"train_accuracy\", \"value\": 0.826530612244898}, {\"epoch\": 101, \"seed\": 5, \"variable\": \"train_accuracy\", \"value\": 0.8224489795918367}, {\"epoch\": 102, \"seed\": 5, \"variable\": \"train_accuracy\", \"value\": 0.789795918367347}, {\"epoch\": 103, \"seed\": 5, \"variable\": \"train_accuracy\", \"value\": 0.7918367346938775}, {\"epoch\": 104, \"seed\": 5, \"variable\": \"train_accuracy\", \"value\": 0.8183673469387756}, {\"epoch\": 105, \"seed\": 5, \"variable\": \"train_accuracy\", \"value\": 0.8183673469387756}, {\"epoch\": 106, \"seed\": 5, \"variable\": \"train_accuracy\", \"value\": 0.8285714285714286}, {\"epoch\": 107, \"seed\": 5, \"variable\": \"train_accuracy\", \"value\": 0.8244897959183674}, {\"epoch\": 108, \"seed\": 5, \"variable\": \"train_accuracy\", \"value\": 0.8244897959183674}, {\"epoch\": 109, \"seed\": 5, \"variable\": \"train_accuracy\", \"value\": 0.8204081632653061}, {\"epoch\": 110, \"seed\": 5, \"variable\": \"train_accuracy\", \"value\": 0.8224489795918367}, {\"epoch\": 111, \"seed\": 5, \"variable\": \"train_accuracy\", \"value\": 0.8204081632653061}, {\"epoch\": 112, \"seed\": 5, \"variable\": \"train_accuracy\", \"value\": 0.8040816326530612}, {\"epoch\": 113, \"seed\": 5, \"variable\": \"train_accuracy\", \"value\": 0.826530612244898}, {\"epoch\": 114, \"seed\": 5, \"variable\": \"train_accuracy\", \"value\": 0.8244897959183674}, {\"epoch\": 115, \"seed\": 5, \"variable\": \"train_accuracy\", \"value\": 0.8346938775510204}, {\"epoch\": 116, \"seed\": 5, \"variable\": \"train_accuracy\", \"value\": 0.8224489795918367}, {\"epoch\": 117, \"seed\": 5, \"variable\": \"train_accuracy\", \"value\": 0.8367346938775511}, {\"epoch\": 118, \"seed\": 5, \"variable\": \"train_accuracy\", \"value\": 0.8142857142857143}, {\"epoch\": 119, \"seed\": 5, \"variable\": \"train_accuracy\", \"value\": 0.8285714285714286}, {\"epoch\": 120, \"seed\": 5, \"variable\": \"train_accuracy\", \"value\": 0.8326530612244898}, {\"epoch\": 121, \"seed\": 5, \"variable\": \"train_accuracy\", \"value\": 0.8367346938775511}, {\"epoch\": 122, \"seed\": 5, \"variable\": \"train_accuracy\", \"value\": 0.8306122448979592}, {\"epoch\": 123, \"seed\": 5, \"variable\": \"train_accuracy\", \"value\": 0.8020408163265306}, {\"epoch\": 124, \"seed\": 5, \"variable\": \"train_accuracy\", \"value\": 0.8183673469387756}, {\"epoch\": 125, \"seed\": 5, \"variable\": \"train_accuracy\", \"value\": 0.8244897959183674}, {\"epoch\": 126, \"seed\": 5, \"variable\": \"train_accuracy\", \"value\": 0.8306122448979592}, {\"epoch\": 127, \"seed\": 5, \"variable\": \"train_accuracy\", \"value\": 0.8122448979591836}, {\"epoch\": 128, \"seed\": 5, \"variable\": \"train_accuracy\", \"value\": 0.8224489795918367}, {\"epoch\": 129, \"seed\": 5, \"variable\": \"train_accuracy\", \"value\": 0.8306122448979592}, {\"epoch\": 130, \"seed\": 5, \"variable\": \"train_accuracy\", \"value\": 0.8285714285714286}, {\"epoch\": 131, \"seed\": 5, \"variable\": \"train_accuracy\", \"value\": 0.8244897959183674}, {\"epoch\": 132, \"seed\": 5, \"variable\": \"train_accuracy\", \"value\": 0.8306122448979592}, {\"epoch\": 133, \"seed\": 5, \"variable\": \"train_accuracy\", \"value\": 0.8326530612244898}, {\"epoch\": 134, \"seed\": 5, \"variable\": \"train_accuracy\", \"value\": 0.8285714285714286}, {\"epoch\": 135, \"seed\": 5, \"variable\": \"train_accuracy\", \"value\": 0.8285714285714286}, {\"epoch\": 136, \"seed\": 5, \"variable\": \"train_accuracy\", \"value\": 0.8224489795918367}, {\"epoch\": 137, \"seed\": 5, \"variable\": \"train_accuracy\", \"value\": 0.8244897959183674}, {\"epoch\": 138, \"seed\": 5, \"variable\": \"train_accuracy\", \"value\": 0.8285714285714286}, {\"epoch\": 139, \"seed\": 5, \"variable\": \"train_accuracy\", \"value\": 0.8285714285714286}, {\"epoch\": 140, \"seed\": 5, \"variable\": \"train_accuracy\", \"value\": 0.8326530612244898}, {\"epoch\": 141, \"seed\": 5, \"variable\": \"train_accuracy\", \"value\": 0.8326530612244898}, {\"epoch\": 142, \"seed\": 5, \"variable\": \"train_accuracy\", \"value\": 0.8081632653061225}, {\"epoch\": 143, \"seed\": 5, \"variable\": \"train_accuracy\", \"value\": 0.8163265306122449}, {\"epoch\": 144, \"seed\": 5, \"variable\": \"train_accuracy\", \"value\": 0.8244897959183674}, {\"epoch\": 145, \"seed\": 5, \"variable\": \"train_accuracy\", \"value\": 0.8326530612244898}, {\"epoch\": 146, \"seed\": 5, \"variable\": \"train_accuracy\", \"value\": 0.8285714285714286}, {\"epoch\": 147, \"seed\": 5, \"variable\": \"train_accuracy\", \"value\": 0.8224489795918367}, {\"epoch\": 148, \"seed\": 5, \"variable\": \"train_accuracy\", \"value\": 0.8244897959183674}, {\"epoch\": 149, \"seed\": 5, \"variable\": \"train_accuracy\", \"value\": 0.8346938775510204}, {\"epoch\": 150, \"seed\": 5, \"variable\": \"train_accuracy\", \"value\": 0.8346938775510204}, {\"epoch\": 151, \"seed\": 5, \"variable\": \"train_accuracy\", \"value\": 0.8285714285714286}, {\"epoch\": 152, \"seed\": 5, \"variable\": \"train_accuracy\", \"value\": 0.8142857142857143}, {\"epoch\": 153, \"seed\": 5, \"variable\": \"train_accuracy\", \"value\": 0.826530612244898}, {\"epoch\": 154, \"seed\": 5, \"variable\": \"train_accuracy\", \"value\": 0.8142857142857143}, {\"epoch\": 155, \"seed\": 5, \"variable\": \"train_accuracy\", \"value\": 0.8306122448979592}, {\"epoch\": 156, \"seed\": 5, \"variable\": \"train_accuracy\", \"value\": 0.826530612244898}, {\"epoch\": 157, \"seed\": 5, \"variable\": \"train_accuracy\", \"value\": 0.8346938775510204}, {\"epoch\": 158, \"seed\": 5, \"variable\": \"train_accuracy\", \"value\": 0.8306122448979592}, {\"epoch\": 159, \"seed\": 5, \"variable\": \"train_accuracy\", \"value\": 0.8367346938775511}, {\"epoch\": 160, \"seed\": 5, \"variable\": \"train_accuracy\", \"value\": 0.8367346938775511}, {\"epoch\": 161, \"seed\": 5, \"variable\": \"train_accuracy\", \"value\": 0.8142857142857143}, {\"epoch\": 162, \"seed\": 5, \"variable\": \"train_accuracy\", \"value\": 0.8204081632653061}, {\"epoch\": 163, \"seed\": 5, \"variable\": \"train_accuracy\", \"value\": 0.8285714285714286}, {\"epoch\": 164, \"seed\": 5, \"variable\": \"train_accuracy\", \"value\": 0.8326530612244898}, {\"epoch\": 165, \"seed\": 5, \"variable\": \"train_accuracy\", \"value\": 0.8326530612244898}, {\"epoch\": 166, \"seed\": 5, \"variable\": \"train_accuracy\", \"value\": 0.8244897959183674}, {\"epoch\": 167, \"seed\": 5, \"variable\": \"train_accuracy\", \"value\": 0.8163265306122449}, {\"epoch\": 168, \"seed\": 5, \"variable\": \"train_accuracy\", \"value\": 0.8224489795918367}, {\"epoch\": 169, \"seed\": 5, \"variable\": \"train_accuracy\", \"value\": 0.8244897959183674}, {\"epoch\": 170, \"seed\": 5, \"variable\": \"train_accuracy\", \"value\": 0.8326530612244898}, {\"epoch\": 171, \"seed\": 5, \"variable\": \"train_accuracy\", \"value\": 0.8346938775510204}, {\"epoch\": 172, \"seed\": 5, \"variable\": \"train_accuracy\", \"value\": 0.8346938775510204}, {\"epoch\": 173, \"seed\": 5, \"variable\": \"train_accuracy\", \"value\": 0.8306122448979592}, {\"epoch\": 174, \"seed\": 5, \"variable\": \"train_accuracy\", \"value\": 0.8346938775510204}, {\"epoch\": 175, \"seed\": 5, \"variable\": \"train_accuracy\", \"value\": 0.8326530612244898}, {\"epoch\": 176, \"seed\": 5, \"variable\": \"train_accuracy\", \"value\": 0.8326530612244898}, {\"epoch\": 177, \"seed\": 5, \"variable\": \"train_accuracy\", \"value\": 0.8285714285714286}, {\"epoch\": 178, \"seed\": 5, \"variable\": \"train_accuracy\", \"value\": 0.8326530612244898}, {\"epoch\": 179, \"seed\": 5, \"variable\": \"train_accuracy\", \"value\": 0.8387755102040816}, {\"epoch\": 180, \"seed\": 5, \"variable\": \"train_accuracy\", \"value\": 0.8387755102040816}, {\"epoch\": 181, \"seed\": 5, \"variable\": \"train_accuracy\", \"value\": 0.8244897959183674}, {\"epoch\": 182, \"seed\": 5, \"variable\": \"train_accuracy\", \"value\": 0.8387755102040816}, {\"epoch\": 183, \"seed\": 5, \"variable\": \"train_accuracy\", \"value\": 0.826530612244898}, {\"epoch\": 184, \"seed\": 5, \"variable\": \"train_accuracy\", \"value\": 0.8224489795918367}, {\"epoch\": 185, \"seed\": 5, \"variable\": \"train_accuracy\", \"value\": 0.8183673469387756}, {\"epoch\": 186, \"seed\": 5, \"variable\": \"train_accuracy\", \"value\": 0.826530612244898}, {\"epoch\": 187, \"seed\": 5, \"variable\": \"train_accuracy\", \"value\": 0.8346938775510204}, {\"epoch\": 188, \"seed\": 5, \"variable\": \"train_accuracy\", \"value\": 0.8346938775510204}, {\"epoch\": 189, \"seed\": 5, \"variable\": \"train_accuracy\", \"value\": 0.826530612244898}, {\"epoch\": 190, \"seed\": 5, \"variable\": \"train_accuracy\", \"value\": 0.826530612244898}, {\"epoch\": 191, \"seed\": 5, \"variable\": \"train_accuracy\", \"value\": 0.8244897959183674}, {\"epoch\": 192, \"seed\": 5, \"variable\": \"train_accuracy\", \"value\": 0.826530612244898}, {\"epoch\": 193, \"seed\": 5, \"variable\": \"train_accuracy\", \"value\": 0.826530612244898}, {\"epoch\": 194, \"seed\": 5, \"variable\": \"train_accuracy\", \"value\": 0.8224489795918367}, {\"epoch\": 195, \"seed\": 5, \"variable\": \"train_accuracy\", \"value\": 0.8306122448979592}, {\"epoch\": 196, \"seed\": 5, \"variable\": \"train_accuracy\", \"value\": 0.826530612244898}, {\"epoch\": 197, \"seed\": 5, \"variable\": \"train_accuracy\", \"value\": 0.8326530612244898}, {\"epoch\": 198, \"seed\": 5, \"variable\": \"train_accuracy\", \"value\": 0.8204081632653061}, {\"epoch\": 199, \"seed\": 5, \"variable\": \"train_accuracy\", \"value\": 0.8326530612244898}, {\"epoch\": 200, \"seed\": 5, \"variable\": \"train_accuracy\", \"value\": 0.826530612244898}, {\"epoch\": 1, \"seed\": 0, \"variable\": \"val_accuracy\", \"value\": 0.4238095238095238}, {\"epoch\": 2, \"seed\": 0, \"variable\": \"val_accuracy\", \"value\": 0.6333333333333333}, {\"epoch\": 3, \"seed\": 0, \"variable\": \"val_accuracy\", \"value\": 0.6523809523809524}, {\"epoch\": 4, \"seed\": 0, \"variable\": \"val_accuracy\", \"value\": 0.6333333333333333}, {\"epoch\": 5, \"seed\": 0, \"variable\": \"val_accuracy\", \"value\": 0.6523809523809524}, {\"epoch\": 6, \"seed\": 0, \"variable\": \"val_accuracy\", \"value\": 0.6476190476190476}, {\"epoch\": 7, \"seed\": 0, \"variable\": \"val_accuracy\", \"value\": 0.638095238095238}, {\"epoch\": 8, \"seed\": 0, \"variable\": \"val_accuracy\", \"value\": 0.680952380952381}, {\"epoch\": 9, \"seed\": 0, \"variable\": \"val_accuracy\", \"value\": 0.6761904761904762}, {\"epoch\": 10, \"seed\": 0, \"variable\": \"val_accuracy\", \"value\": 0.6714285714285714}, {\"epoch\": 11, \"seed\": 0, \"variable\": \"val_accuracy\", \"value\": 0.7}, {\"epoch\": 12, \"seed\": 0, \"variable\": \"val_accuracy\", \"value\": 0.719047619047619}, {\"epoch\": 13, \"seed\": 0, \"variable\": \"val_accuracy\", \"value\": 0.7380952380952381}, {\"epoch\": 14, \"seed\": 0, \"variable\": \"val_accuracy\", \"value\": 0.7428571428571429}, {\"epoch\": 15, \"seed\": 0, \"variable\": \"val_accuracy\", \"value\": 0.7904761904761904}, {\"epoch\": 16, \"seed\": 0, \"variable\": \"val_accuracy\", \"value\": 0.8}, {\"epoch\": 17, \"seed\": 0, \"variable\": \"val_accuracy\", \"value\": 0.7904761904761904}, {\"epoch\": 18, \"seed\": 0, \"variable\": \"val_accuracy\", \"value\": 0.7761904761904762}, {\"epoch\": 19, \"seed\": 0, \"variable\": \"val_accuracy\", \"value\": 0.8}, {\"epoch\": 20, \"seed\": 0, \"variable\": \"val_accuracy\", \"value\": 0.8}, {\"epoch\": 21, \"seed\": 0, \"variable\": \"val_accuracy\", \"value\": 0.780952380952381}, {\"epoch\": 22, \"seed\": 0, \"variable\": \"val_accuracy\", \"value\": 0.8}, {\"epoch\": 23, \"seed\": 0, \"variable\": \"val_accuracy\", \"value\": 0.8095238095238095}, {\"epoch\": 24, \"seed\": 0, \"variable\": \"val_accuracy\", \"value\": 0.8}, {\"epoch\": 25, \"seed\": 0, \"variable\": \"val_accuracy\", \"value\": 0.7904761904761904}, {\"epoch\": 26, \"seed\": 0, \"variable\": \"val_accuracy\", \"value\": 0.8095238095238095}, {\"epoch\": 27, \"seed\": 0, \"variable\": \"val_accuracy\", \"value\": 0.7666666666666667}, {\"epoch\": 28, \"seed\": 0, \"variable\": \"val_accuracy\", \"value\": 0.8095238095238095}, {\"epoch\": 29, \"seed\": 0, \"variable\": \"val_accuracy\", \"value\": 0.8095238095238095}, {\"epoch\": 30, \"seed\": 0, \"variable\": \"val_accuracy\", \"value\": 0.7857142857142857}, {\"epoch\": 31, \"seed\": 0, \"variable\": \"val_accuracy\", \"value\": 0.7952380952380952}, {\"epoch\": 32, \"seed\": 0, \"variable\": \"val_accuracy\", \"value\": 0.7904761904761904}, {\"epoch\": 33, \"seed\": 0, \"variable\": \"val_accuracy\", \"value\": 0.8047619047619048}, {\"epoch\": 34, \"seed\": 0, \"variable\": \"val_accuracy\", \"value\": 0.7952380952380952}, {\"epoch\": 35, \"seed\": 0, \"variable\": \"val_accuracy\", \"value\": 0.8}, {\"epoch\": 36, \"seed\": 0, \"variable\": \"val_accuracy\", \"value\": 0.7714285714285715}, {\"epoch\": 37, \"seed\": 0, \"variable\": \"val_accuracy\", \"value\": 0.8047619047619048}, {\"epoch\": 38, \"seed\": 0, \"variable\": \"val_accuracy\", \"value\": 0.7619047619047619}, {\"epoch\": 39, \"seed\": 0, \"variable\": \"val_accuracy\", \"value\": 0.8095238095238095}, {\"epoch\": 40, \"seed\": 0, \"variable\": \"val_accuracy\", \"value\": 0.7857142857142857}, {\"epoch\": 41, \"seed\": 0, \"variable\": \"val_accuracy\", \"value\": 0.7761904761904762}, {\"epoch\": 42, \"seed\": 0, \"variable\": \"val_accuracy\", \"value\": 0.8142857142857143}, {\"epoch\": 43, \"seed\": 0, \"variable\": \"val_accuracy\", \"value\": 0.8095238095238095}, {\"epoch\": 44, \"seed\": 0, \"variable\": \"val_accuracy\", \"value\": 0.8142857142857143}, {\"epoch\": 45, \"seed\": 0, \"variable\": \"val_accuracy\", \"value\": 0.7714285714285715}, {\"epoch\": 46, \"seed\": 0, \"variable\": \"val_accuracy\", \"value\": 0.8095238095238095}, {\"epoch\": 47, \"seed\": 0, \"variable\": \"val_accuracy\", \"value\": 0.8047619047619048}, {\"epoch\": 48, \"seed\": 0, \"variable\": \"val_accuracy\", \"value\": 0.7952380952380952}, {\"epoch\": 49, \"seed\": 0, \"variable\": \"val_accuracy\", \"value\": 0.8142857142857143}, {\"epoch\": 50, \"seed\": 0, \"variable\": \"val_accuracy\", \"value\": 0.7904761904761904}, {\"epoch\": 51, \"seed\": 0, \"variable\": \"val_accuracy\", \"value\": 0.7952380952380952}, {\"epoch\": 52, \"seed\": 0, \"variable\": \"val_accuracy\", \"value\": 0.8095238095238095}, {\"epoch\": 53, \"seed\": 0, \"variable\": \"val_accuracy\", \"value\": 0.8}, {\"epoch\": 54, \"seed\": 0, \"variable\": \"val_accuracy\", \"value\": 0.7904761904761904}, {\"epoch\": 55, \"seed\": 0, \"variable\": \"val_accuracy\", \"value\": 0.8}, {\"epoch\": 56, \"seed\": 0, \"variable\": \"val_accuracy\", \"value\": 0.8047619047619048}, {\"epoch\": 57, \"seed\": 0, \"variable\": \"val_accuracy\", \"value\": 0.819047619047619}, {\"epoch\": 58, \"seed\": 0, \"variable\": \"val_accuracy\", \"value\": 0.7952380952380952}, {\"epoch\": 59, \"seed\": 0, \"variable\": \"val_accuracy\", \"value\": 0.7857142857142857}, {\"epoch\": 60, \"seed\": 0, \"variable\": \"val_accuracy\", \"value\": 0.7619047619047619}, {\"epoch\": 61, \"seed\": 0, \"variable\": \"val_accuracy\", \"value\": 0.8095238095238095}, {\"epoch\": 62, \"seed\": 0, \"variable\": \"val_accuracy\", \"value\": 0.7714285714285715}, {\"epoch\": 63, \"seed\": 0, \"variable\": \"val_accuracy\", \"value\": 0.8142857142857143}, {\"epoch\": 64, \"seed\": 0, \"variable\": \"val_accuracy\", \"value\": 0.8}, {\"epoch\": 65, \"seed\": 0, \"variable\": \"val_accuracy\", \"value\": 0.780952380952381}, {\"epoch\": 66, \"seed\": 0, \"variable\": \"val_accuracy\", \"value\": 0.7904761904761904}, {\"epoch\": 67, \"seed\": 0, \"variable\": \"val_accuracy\", \"value\": 0.8047619047619048}, {\"epoch\": 68, \"seed\": 0, \"variable\": \"val_accuracy\", \"value\": 0.8047619047619048}, {\"epoch\": 69, \"seed\": 0, \"variable\": \"val_accuracy\", \"value\": 0.8047619047619048}, {\"epoch\": 70, \"seed\": 0, \"variable\": \"val_accuracy\", \"value\": 0.8095238095238095}, {\"epoch\": 71, \"seed\": 0, \"variable\": \"val_accuracy\", \"value\": 0.8142857142857143}, {\"epoch\": 72, \"seed\": 0, \"variable\": \"val_accuracy\", \"value\": 0.8}, {\"epoch\": 73, \"seed\": 0, \"variable\": \"val_accuracy\", \"value\": 0.8095238095238095}, {\"epoch\": 74, \"seed\": 0, \"variable\": \"val_accuracy\", \"value\": 0.8095238095238095}, {\"epoch\": 75, \"seed\": 0, \"variable\": \"val_accuracy\", \"value\": 0.7904761904761904}, {\"epoch\": 76, \"seed\": 0, \"variable\": \"val_accuracy\", \"value\": 0.8142857142857143}, {\"epoch\": 77, \"seed\": 0, \"variable\": \"val_accuracy\", \"value\": 0.7952380952380952}, {\"epoch\": 78, \"seed\": 0, \"variable\": \"val_accuracy\", \"value\": 0.8047619047619048}, {\"epoch\": 79, \"seed\": 0, \"variable\": \"val_accuracy\", \"value\": 0.8047619047619048}, {\"epoch\": 80, \"seed\": 0, \"variable\": \"val_accuracy\", \"value\": 0.8047619047619048}, {\"epoch\": 81, \"seed\": 0, \"variable\": \"val_accuracy\", \"value\": 0.8047619047619048}, {\"epoch\": 82, \"seed\": 0, \"variable\": \"val_accuracy\", \"value\": 0.819047619047619}, {\"epoch\": 83, \"seed\": 0, \"variable\": \"val_accuracy\", \"value\": 0.8047619047619048}, {\"epoch\": 84, \"seed\": 0, \"variable\": \"val_accuracy\", \"value\": 0.8047619047619048}, {\"epoch\": 85, \"seed\": 0, \"variable\": \"val_accuracy\", \"value\": 0.8095238095238095}, {\"epoch\": 86, \"seed\": 0, \"variable\": \"val_accuracy\", \"value\": 0.8}, {\"epoch\": 87, \"seed\": 0, \"variable\": \"val_accuracy\", \"value\": 0.8047619047619048}, {\"epoch\": 88, \"seed\": 0, \"variable\": \"val_accuracy\", \"value\": 0.8}, {\"epoch\": 89, \"seed\": 0, \"variable\": \"val_accuracy\", \"value\": 0.8}, {\"epoch\": 90, \"seed\": 0, \"variable\": \"val_accuracy\", \"value\": 0.8047619047619048}, {\"epoch\": 91, \"seed\": 0, \"variable\": \"val_accuracy\", \"value\": 0.8095238095238095}, {\"epoch\": 92, \"seed\": 0, \"variable\": \"val_accuracy\", \"value\": 0.8047619047619048}, {\"epoch\": 93, \"seed\": 0, \"variable\": \"val_accuracy\", \"value\": 0.8047619047619048}, {\"epoch\": 94, \"seed\": 0, \"variable\": \"val_accuracy\", \"value\": 0.8}, {\"epoch\": 95, \"seed\": 0, \"variable\": \"val_accuracy\", \"value\": 0.8047619047619048}, {\"epoch\": 96, \"seed\": 0, \"variable\": \"val_accuracy\", \"value\": 0.8095238095238095}, {\"epoch\": 97, \"seed\": 0, \"variable\": \"val_accuracy\", \"value\": 0.7952380952380952}, {\"epoch\": 98, \"seed\": 0, \"variable\": \"val_accuracy\", \"value\": 0.8047619047619048}, {\"epoch\": 99, \"seed\": 0, \"variable\": \"val_accuracy\", \"value\": 0.8}, {\"epoch\": 100, \"seed\": 0, \"variable\": \"val_accuracy\", \"value\": 0.8}, {\"epoch\": 101, \"seed\": 0, \"variable\": \"val_accuracy\", \"value\": 0.7857142857142857}, {\"epoch\": 102, \"seed\": 0, \"variable\": \"val_accuracy\", \"value\": 0.8}, {\"epoch\": 103, \"seed\": 0, \"variable\": \"val_accuracy\", \"value\": 0.8095238095238095}, {\"epoch\": 104, \"seed\": 0, \"variable\": \"val_accuracy\", \"value\": 0.8047619047619048}, {\"epoch\": 105, \"seed\": 0, \"variable\": \"val_accuracy\", \"value\": 0.7952380952380952}, {\"epoch\": 106, \"seed\": 0, \"variable\": \"val_accuracy\", \"value\": 0.8}, {\"epoch\": 107, \"seed\": 0, \"variable\": \"val_accuracy\", \"value\": 0.7904761904761904}, {\"epoch\": 108, \"seed\": 0, \"variable\": \"val_accuracy\", \"value\": 0.8}, {\"epoch\": 109, \"seed\": 0, \"variable\": \"val_accuracy\", \"value\": 0.7904761904761904}, {\"epoch\": 110, \"seed\": 0, \"variable\": \"val_accuracy\", \"value\": 0.7952380952380952}, {\"epoch\": 111, \"seed\": 0, \"variable\": \"val_accuracy\", \"value\": 0.8047619047619048}, {\"epoch\": 112, \"seed\": 0, \"variable\": \"val_accuracy\", \"value\": 0.8}, {\"epoch\": 113, \"seed\": 0, \"variable\": \"val_accuracy\", \"value\": 0.780952380952381}, {\"epoch\": 114, \"seed\": 0, \"variable\": \"val_accuracy\", \"value\": 0.8047619047619048}, {\"epoch\": 115, \"seed\": 0, \"variable\": \"val_accuracy\", \"value\": 0.8}, {\"epoch\": 116, \"seed\": 0, \"variable\": \"val_accuracy\", \"value\": 0.7952380952380952}, {\"epoch\": 117, \"seed\": 0, \"variable\": \"val_accuracy\", \"value\": 0.8}, {\"epoch\": 118, \"seed\": 0, \"variable\": \"val_accuracy\", \"value\": 0.7952380952380952}, {\"epoch\": 119, \"seed\": 0, \"variable\": \"val_accuracy\", \"value\": 0.8}, {\"epoch\": 120, \"seed\": 0, \"variable\": \"val_accuracy\", \"value\": 0.8047619047619048}, {\"epoch\": 121, \"seed\": 0, \"variable\": \"val_accuracy\", \"value\": 0.8047619047619048}, {\"epoch\": 122, \"seed\": 0, \"variable\": \"val_accuracy\", \"value\": 0.7761904761904762}, {\"epoch\": 123, \"seed\": 0, \"variable\": \"val_accuracy\", \"value\": 0.8095238095238095}, {\"epoch\": 124, \"seed\": 0, \"variable\": \"val_accuracy\", \"value\": 0.7952380952380952}, {\"epoch\": 125, \"seed\": 0, \"variable\": \"val_accuracy\", \"value\": 0.8047619047619048}, {\"epoch\": 126, \"seed\": 0, \"variable\": \"val_accuracy\", \"value\": 0.8}, {\"epoch\": 127, \"seed\": 0, \"variable\": \"val_accuracy\", \"value\": 0.8095238095238095}, {\"epoch\": 128, \"seed\": 0, \"variable\": \"val_accuracy\", \"value\": 0.8}, {\"epoch\": 129, \"seed\": 0, \"variable\": \"val_accuracy\", \"value\": 0.8047619047619048}, {\"epoch\": 130, \"seed\": 0, \"variable\": \"val_accuracy\", \"value\": 0.8}, {\"epoch\": 131, \"seed\": 0, \"variable\": \"val_accuracy\", \"value\": 0.8}, {\"epoch\": 132, \"seed\": 0, \"variable\": \"val_accuracy\", \"value\": 0.8095238095238095}, {\"epoch\": 133, \"seed\": 0, \"variable\": \"val_accuracy\", \"value\": 0.7952380952380952}, {\"epoch\": 134, \"seed\": 0, \"variable\": \"val_accuracy\", \"value\": 0.8}, {\"epoch\": 135, \"seed\": 0, \"variable\": \"val_accuracy\", \"value\": 0.8047619047619048}, {\"epoch\": 136, \"seed\": 0, \"variable\": \"val_accuracy\", \"value\": 0.8047619047619048}, {\"epoch\": 137, \"seed\": 0, \"variable\": \"val_accuracy\", \"value\": 0.7952380952380952}, {\"epoch\": 138, \"seed\": 0, \"variable\": \"val_accuracy\", \"value\": 0.8047619047619048}, {\"epoch\": 139, \"seed\": 0, \"variable\": \"val_accuracy\", \"value\": 0.780952380952381}, {\"epoch\": 140, \"seed\": 0, \"variable\": \"val_accuracy\", \"value\": 0.7952380952380952}, {\"epoch\": 141, \"seed\": 0, \"variable\": \"val_accuracy\", \"value\": 0.8047619047619048}, {\"epoch\": 142, \"seed\": 0, \"variable\": \"val_accuracy\", \"value\": 0.7952380952380952}, {\"epoch\": 143, \"seed\": 0, \"variable\": \"val_accuracy\", \"value\": 0.8}, {\"epoch\": 144, \"seed\": 0, \"variable\": \"val_accuracy\", \"value\": 0.8047619047619048}, {\"epoch\": 145, \"seed\": 0, \"variable\": \"val_accuracy\", \"value\": 0.8}, {\"epoch\": 146, \"seed\": 0, \"variable\": \"val_accuracy\", \"value\": 0.8}, {\"epoch\": 147, \"seed\": 0, \"variable\": \"val_accuracy\", \"value\": 0.8095238095238095}, {\"epoch\": 148, \"seed\": 0, \"variable\": \"val_accuracy\", \"value\": 0.7904761904761904}, {\"epoch\": 149, \"seed\": 0, \"variable\": \"val_accuracy\", \"value\": 0.7952380952380952}, {\"epoch\": 150, \"seed\": 0, \"variable\": \"val_accuracy\", \"value\": 0.8142857142857143}, {\"epoch\": 151, \"seed\": 0, \"variable\": \"val_accuracy\", \"value\": 0.8}, {\"epoch\": 152, \"seed\": 0, \"variable\": \"val_accuracy\", \"value\": 0.8}, {\"epoch\": 153, \"seed\": 0, \"variable\": \"val_accuracy\", \"value\": 0.7952380952380952}, {\"epoch\": 154, \"seed\": 0, \"variable\": \"val_accuracy\", \"value\": 0.8}, {\"epoch\": 155, \"seed\": 0, \"variable\": \"val_accuracy\", \"value\": 0.8047619047619048}, {\"epoch\": 156, \"seed\": 0, \"variable\": \"val_accuracy\", \"value\": 0.7952380952380952}, {\"epoch\": 157, \"seed\": 0, \"variable\": \"val_accuracy\", \"value\": 0.8}, {\"epoch\": 158, \"seed\": 0, \"variable\": \"val_accuracy\", \"value\": 0.8047619047619048}, {\"epoch\": 159, \"seed\": 0, \"variable\": \"val_accuracy\", \"value\": 0.780952380952381}, {\"epoch\": 160, \"seed\": 0, \"variable\": \"val_accuracy\", \"value\": 0.8047619047619048}, {\"epoch\": 161, \"seed\": 0, \"variable\": \"val_accuracy\", \"value\": 0.7714285714285715}, {\"epoch\": 162, \"seed\": 0, \"variable\": \"val_accuracy\", \"value\": 0.8047619047619048}, {\"epoch\": 163, \"seed\": 0, \"variable\": \"val_accuracy\", \"value\": 0.8047619047619048}, {\"epoch\": 164, \"seed\": 0, \"variable\": \"val_accuracy\", \"value\": 0.8}, {\"epoch\": 165, \"seed\": 0, \"variable\": \"val_accuracy\", \"value\": 0.7952380952380952}, {\"epoch\": 166, \"seed\": 0, \"variable\": \"val_accuracy\", \"value\": 0.8}, {\"epoch\": 167, \"seed\": 0, \"variable\": \"val_accuracy\", \"value\": 0.8}, {\"epoch\": 168, \"seed\": 0, \"variable\": \"val_accuracy\", \"value\": 0.8047619047619048}, {\"epoch\": 169, \"seed\": 0, \"variable\": \"val_accuracy\", \"value\": 0.8047619047619048}, {\"epoch\": 170, \"seed\": 0, \"variable\": \"val_accuracy\", \"value\": 0.8047619047619048}, {\"epoch\": 171, \"seed\": 0, \"variable\": \"val_accuracy\", \"value\": 0.7952380952380952}, {\"epoch\": 172, \"seed\": 0, \"variable\": \"val_accuracy\", \"value\": 0.8047619047619048}, {\"epoch\": 173, \"seed\": 0, \"variable\": \"val_accuracy\", \"value\": 0.8}, {\"epoch\": 174, \"seed\": 0, \"variable\": \"val_accuracy\", \"value\": 0.8}, {\"epoch\": 175, \"seed\": 0, \"variable\": \"val_accuracy\", \"value\": 0.8}, {\"epoch\": 176, \"seed\": 0, \"variable\": \"val_accuracy\", \"value\": 0.8}, {\"epoch\": 177, \"seed\": 0, \"variable\": \"val_accuracy\", \"value\": 0.8047619047619048}, {\"epoch\": 178, \"seed\": 0, \"variable\": \"val_accuracy\", \"value\": 0.7904761904761904}, {\"epoch\": 179, \"seed\": 0, \"variable\": \"val_accuracy\", \"value\": 0.8047619047619048}, {\"epoch\": 180, \"seed\": 0, \"variable\": \"val_accuracy\", \"value\": 0.8047619047619048}, {\"epoch\": 181, \"seed\": 0, \"variable\": \"val_accuracy\", \"value\": 0.8047619047619048}, {\"epoch\": 182, \"seed\": 0, \"variable\": \"val_accuracy\", \"value\": 0.8}, {\"epoch\": 183, \"seed\": 0, \"variable\": \"val_accuracy\", \"value\": 0.7952380952380952}, {\"epoch\": 184, \"seed\": 0, \"variable\": \"val_accuracy\", \"value\": 0.8}, {\"epoch\": 185, \"seed\": 0, \"variable\": \"val_accuracy\", \"value\": 0.8047619047619048}, {\"epoch\": 186, \"seed\": 0, \"variable\": \"val_accuracy\", \"value\": 0.8095238095238095}, {\"epoch\": 187, \"seed\": 0, \"variable\": \"val_accuracy\", \"value\": 0.7952380952380952}, {\"epoch\": 188, \"seed\": 0, \"variable\": \"val_accuracy\", \"value\": 0.8}, {\"epoch\": 189, \"seed\": 0, \"variable\": \"val_accuracy\", \"value\": 0.7952380952380952}, {\"epoch\": 190, \"seed\": 0, \"variable\": \"val_accuracy\", \"value\": 0.8}, {\"epoch\": 191, \"seed\": 0, \"variable\": \"val_accuracy\", \"value\": 0.8047619047619048}, {\"epoch\": 192, \"seed\": 0, \"variable\": \"val_accuracy\", \"value\": 0.7952380952380952}, {\"epoch\": 193, \"seed\": 0, \"variable\": \"val_accuracy\", \"value\": 0.8047619047619048}, {\"epoch\": 194, \"seed\": 0, \"variable\": \"val_accuracy\", \"value\": 0.8}, {\"epoch\": 195, \"seed\": 0, \"variable\": \"val_accuracy\", \"value\": 0.8}, {\"epoch\": 196, \"seed\": 0, \"variable\": \"val_accuracy\", \"value\": 0.8}, {\"epoch\": 197, \"seed\": 0, \"variable\": \"val_accuracy\", \"value\": 0.8}, {\"epoch\": 198, \"seed\": 0, \"variable\": \"val_accuracy\", \"value\": 0.8047619047619048}, {\"epoch\": 199, \"seed\": 0, \"variable\": \"val_accuracy\", \"value\": 0.7952380952380952}, {\"epoch\": 200, \"seed\": 0, \"variable\": \"val_accuracy\", \"value\": 0.7952380952380952}, {\"epoch\": 1, \"seed\": 1, \"variable\": \"val_accuracy\", \"value\": 0.3523809523809524}, {\"epoch\": 2, \"seed\": 1, \"variable\": \"val_accuracy\", \"value\": 0.6095238095238096}, {\"epoch\": 3, \"seed\": 1, \"variable\": \"val_accuracy\", \"value\": 0.6238095238095238}, {\"epoch\": 4, \"seed\": 1, \"variable\": \"val_accuracy\", \"value\": 0.6238095238095238}, {\"epoch\": 5, \"seed\": 1, \"variable\": \"val_accuracy\", \"value\": 0.6333333333333333}, {\"epoch\": 6, \"seed\": 1, \"variable\": \"val_accuracy\", \"value\": 0.638095238095238}, {\"epoch\": 7, \"seed\": 1, \"variable\": \"val_accuracy\", \"value\": 0.6571428571428571}, {\"epoch\": 8, \"seed\": 1, \"variable\": \"val_accuracy\", \"value\": 0.6666666666666666}, {\"epoch\": 9, \"seed\": 1, \"variable\": \"val_accuracy\", \"value\": 0.6619047619047619}, {\"epoch\": 10, \"seed\": 1, \"variable\": \"val_accuracy\", \"value\": 0.6904761904761905}, {\"epoch\": 11, \"seed\": 1, \"variable\": \"val_accuracy\", \"value\": 0.7238095238095238}, {\"epoch\": 12, \"seed\": 1, \"variable\": \"val_accuracy\", \"value\": 0.6857142857142857}, {\"epoch\": 13, \"seed\": 1, \"variable\": \"val_accuracy\", \"value\": 0.7285714285714285}, {\"epoch\": 14, \"seed\": 1, \"variable\": \"val_accuracy\", \"value\": 0.6904761904761905}, {\"epoch\": 15, \"seed\": 1, \"variable\": \"val_accuracy\", \"value\": 0.7238095238095238}, {\"epoch\": 16, \"seed\": 1, \"variable\": \"val_accuracy\", \"value\": 0.7333333333333333}, {\"epoch\": 17, \"seed\": 1, \"variable\": \"val_accuracy\", \"value\": 0.7333333333333333}, {\"epoch\": 18, \"seed\": 1, \"variable\": \"val_accuracy\", \"value\": 0.7333333333333333}, {\"epoch\": 19, \"seed\": 1, \"variable\": \"val_accuracy\", \"value\": 0.7333333333333333}, {\"epoch\": 20, \"seed\": 1, \"variable\": \"val_accuracy\", \"value\": 0.7238095238095238}, {\"epoch\": 21, \"seed\": 1, \"variable\": \"val_accuracy\", \"value\": 0.7333333333333333}, {\"epoch\": 22, \"seed\": 1, \"variable\": \"val_accuracy\", \"value\": 0.719047619047619}, {\"epoch\": 23, \"seed\": 1, \"variable\": \"val_accuracy\", \"value\": 0.7380952380952381}, {\"epoch\": 24, \"seed\": 1, \"variable\": \"val_accuracy\", \"value\": 0.6904761904761905}, {\"epoch\": 25, \"seed\": 1, \"variable\": \"val_accuracy\", \"value\": 0.7142857142857143}, {\"epoch\": 26, \"seed\": 1, \"variable\": \"val_accuracy\", \"value\": 0.7380952380952381}, {\"epoch\": 27, \"seed\": 1, \"variable\": \"val_accuracy\", \"value\": 0.7285714285714285}, {\"epoch\": 28, \"seed\": 1, \"variable\": \"val_accuracy\", \"value\": 0.719047619047619}, {\"epoch\": 29, \"seed\": 1, \"variable\": \"val_accuracy\", \"value\": 0.7333333333333333}, {\"epoch\": 30, \"seed\": 1, \"variable\": \"val_accuracy\", \"value\": 0.7333333333333333}, {\"epoch\": 31, \"seed\": 1, \"variable\": \"val_accuracy\", \"value\": 0.7238095238095238}, {\"epoch\": 32, \"seed\": 1, \"variable\": \"val_accuracy\", \"value\": 0.7380952380952381}, {\"epoch\": 33, \"seed\": 1, \"variable\": \"val_accuracy\", \"value\": 0.7}, {\"epoch\": 34, \"seed\": 1, \"variable\": \"val_accuracy\", \"value\": 0.7428571428571429}, {\"epoch\": 35, \"seed\": 1, \"variable\": \"val_accuracy\", \"value\": 0.7238095238095238}, {\"epoch\": 36, \"seed\": 1, \"variable\": \"val_accuracy\", \"value\": 0.7428571428571429}, {\"epoch\": 37, \"seed\": 1, \"variable\": \"val_accuracy\", \"value\": 0.7095238095238096}, {\"epoch\": 38, \"seed\": 1, \"variable\": \"val_accuracy\", \"value\": 0.7571428571428571}, {\"epoch\": 39, \"seed\": 1, \"variable\": \"val_accuracy\", \"value\": 0.7238095238095238}, {\"epoch\": 40, \"seed\": 1, \"variable\": \"val_accuracy\", \"value\": 0.7}, {\"epoch\": 41, \"seed\": 1, \"variable\": \"val_accuracy\", \"value\": 0.7428571428571429}, {\"epoch\": 42, \"seed\": 1, \"variable\": \"val_accuracy\", \"value\": 0.7380952380952381}, {\"epoch\": 43, \"seed\": 1, \"variable\": \"val_accuracy\", \"value\": 0.7476190476190476}, {\"epoch\": 44, \"seed\": 1, \"variable\": \"val_accuracy\", \"value\": 0.7333333333333333}, {\"epoch\": 45, \"seed\": 1, \"variable\": \"val_accuracy\", \"value\": 0.7238095238095238}, {\"epoch\": 46, \"seed\": 1, \"variable\": \"val_accuracy\", \"value\": 0.7285714285714285}, {\"epoch\": 47, \"seed\": 1, \"variable\": \"val_accuracy\", \"value\": 0.7095238095238096}, {\"epoch\": 48, \"seed\": 1, \"variable\": \"val_accuracy\", \"value\": 0.7047619047619048}, {\"epoch\": 49, \"seed\": 1, \"variable\": \"val_accuracy\", \"value\": 0.7380952380952381}, {\"epoch\": 50, \"seed\": 1, \"variable\": \"val_accuracy\", \"value\": 0.7333333333333333}, {\"epoch\": 51, \"seed\": 1, \"variable\": \"val_accuracy\", \"value\": 0.7095238095238096}, {\"epoch\": 52, \"seed\": 1, \"variable\": \"val_accuracy\", \"value\": 0.7428571428571429}, {\"epoch\": 53, \"seed\": 1, \"variable\": \"val_accuracy\", \"value\": 0.7285714285714285}, {\"epoch\": 54, \"seed\": 1, \"variable\": \"val_accuracy\", \"value\": 0.7428571428571429}, {\"epoch\": 55, \"seed\": 1, \"variable\": \"val_accuracy\", \"value\": 0.7476190476190476}, {\"epoch\": 56, \"seed\": 1, \"variable\": \"val_accuracy\", \"value\": 0.7333333333333333}, {\"epoch\": 57, \"seed\": 1, \"variable\": \"val_accuracy\", \"value\": 0.7428571428571429}, {\"epoch\": 58, \"seed\": 1, \"variable\": \"val_accuracy\", \"value\": 0.7333333333333333}, {\"epoch\": 59, \"seed\": 1, \"variable\": \"val_accuracy\", \"value\": 0.7571428571428571}, {\"epoch\": 60, \"seed\": 1, \"variable\": \"val_accuracy\", \"value\": 0.7142857142857143}, {\"epoch\": 61, \"seed\": 1, \"variable\": \"val_accuracy\", \"value\": 0.7523809523809524}, {\"epoch\": 62, \"seed\": 1, \"variable\": \"val_accuracy\", \"value\": 0.7476190476190476}, {\"epoch\": 63, \"seed\": 1, \"variable\": \"val_accuracy\", \"value\": 0.7333333333333333}, {\"epoch\": 64, \"seed\": 1, \"variable\": \"val_accuracy\", \"value\": 0.7571428571428571}, {\"epoch\": 65, \"seed\": 1, \"variable\": \"val_accuracy\", \"value\": 0.7571428571428571}, {\"epoch\": 66, \"seed\": 1, \"variable\": \"val_accuracy\", \"value\": 0.7238095238095238}, {\"epoch\": 67, \"seed\": 1, \"variable\": \"val_accuracy\", \"value\": 0.7523809523809524}, {\"epoch\": 68, \"seed\": 1, \"variable\": \"val_accuracy\", \"value\": 0.7619047619047619}, {\"epoch\": 69, \"seed\": 1, \"variable\": \"val_accuracy\", \"value\": 0.719047619047619}, {\"epoch\": 70, \"seed\": 1, \"variable\": \"val_accuracy\", \"value\": 0.7380952380952381}, {\"epoch\": 71, \"seed\": 1, \"variable\": \"val_accuracy\", \"value\": 0.7047619047619048}, {\"epoch\": 72, \"seed\": 1, \"variable\": \"val_accuracy\", \"value\": 0.7380952380952381}, {\"epoch\": 73, \"seed\": 1, \"variable\": \"val_accuracy\", \"value\": 0.7428571428571429}, {\"epoch\": 74, \"seed\": 1, \"variable\": \"val_accuracy\", \"value\": 0.7428571428571429}, {\"epoch\": 75, \"seed\": 1, \"variable\": \"val_accuracy\", \"value\": 0.7428571428571429}, {\"epoch\": 76, \"seed\": 1, \"variable\": \"val_accuracy\", \"value\": 0.7523809523809524}, {\"epoch\": 77, \"seed\": 1, \"variable\": \"val_accuracy\", \"value\": 0.7476190476190476}, {\"epoch\": 78, \"seed\": 1, \"variable\": \"val_accuracy\", \"value\": 0.7285714285714285}, {\"epoch\": 79, \"seed\": 1, \"variable\": \"val_accuracy\", \"value\": 0.7380952380952381}, {\"epoch\": 80, \"seed\": 1, \"variable\": \"val_accuracy\", \"value\": 0.7142857142857143}, {\"epoch\": 81, \"seed\": 1, \"variable\": \"val_accuracy\", \"value\": 0.7428571428571429}, {\"epoch\": 82, \"seed\": 1, \"variable\": \"val_accuracy\", \"value\": 0.7380952380952381}, {\"epoch\": 83, \"seed\": 1, \"variable\": \"val_accuracy\", \"value\": 0.7238095238095238}, {\"epoch\": 84, \"seed\": 1, \"variable\": \"val_accuracy\", \"value\": 0.7238095238095238}, {\"epoch\": 85, \"seed\": 1, \"variable\": \"val_accuracy\", \"value\": 0.7238095238095238}, {\"epoch\": 86, \"seed\": 1, \"variable\": \"val_accuracy\", \"value\": 0.7380952380952381}, {\"epoch\": 87, \"seed\": 1, \"variable\": \"val_accuracy\", \"value\": 0.7333333333333333}, {\"epoch\": 88, \"seed\": 1, \"variable\": \"val_accuracy\", \"value\": 0.7476190476190476}, {\"epoch\": 89, \"seed\": 1, \"variable\": \"val_accuracy\", \"value\": 0.7428571428571429}, {\"epoch\": 90, \"seed\": 1, \"variable\": \"val_accuracy\", \"value\": 0.7380952380952381}, {\"epoch\": 91, \"seed\": 1, \"variable\": \"val_accuracy\", \"value\": 0.7238095238095238}, {\"epoch\": 92, \"seed\": 1, \"variable\": \"val_accuracy\", \"value\": 0.7380952380952381}, {\"epoch\": 93, \"seed\": 1, \"variable\": \"val_accuracy\", \"value\": 0.719047619047619}, {\"epoch\": 94, \"seed\": 1, \"variable\": \"val_accuracy\", \"value\": 0.7285714285714285}, {\"epoch\": 95, \"seed\": 1, \"variable\": \"val_accuracy\", \"value\": 0.7333333333333333}, {\"epoch\": 96, \"seed\": 1, \"variable\": \"val_accuracy\", \"value\": 0.7428571428571429}, {\"epoch\": 97, \"seed\": 1, \"variable\": \"val_accuracy\", \"value\": 0.7285714285714285}, {\"epoch\": 98, \"seed\": 1, \"variable\": \"val_accuracy\", \"value\": 0.7333333333333333}, {\"epoch\": 99, \"seed\": 1, \"variable\": \"val_accuracy\", \"value\": 0.7380952380952381}, {\"epoch\": 100, \"seed\": 1, \"variable\": \"val_accuracy\", \"value\": 0.7380952380952381}, {\"epoch\": 101, \"seed\": 1, \"variable\": \"val_accuracy\", \"value\": 0.7380952380952381}, {\"epoch\": 102, \"seed\": 1, \"variable\": \"val_accuracy\", \"value\": 0.719047619047619}, {\"epoch\": 103, \"seed\": 1, \"variable\": \"val_accuracy\", \"value\": 0.7571428571428571}, {\"epoch\": 104, \"seed\": 1, \"variable\": \"val_accuracy\", \"value\": 0.7523809523809524}, {\"epoch\": 105, \"seed\": 1, \"variable\": \"val_accuracy\", \"value\": 0.7476190476190476}, {\"epoch\": 106, \"seed\": 1, \"variable\": \"val_accuracy\", \"value\": 0.7476190476190476}, {\"epoch\": 107, \"seed\": 1, \"variable\": \"val_accuracy\", \"value\": 0.7380952380952381}, {\"epoch\": 108, \"seed\": 1, \"variable\": \"val_accuracy\", \"value\": 0.7238095238095238}, {\"epoch\": 109, \"seed\": 1, \"variable\": \"val_accuracy\", \"value\": 0.7571428571428571}, {\"epoch\": 110, \"seed\": 1, \"variable\": \"val_accuracy\", \"value\": 0.7333333333333333}, {\"epoch\": 111, \"seed\": 1, \"variable\": \"val_accuracy\", \"value\": 0.7095238095238096}, {\"epoch\": 112, \"seed\": 1, \"variable\": \"val_accuracy\", \"value\": 0.7380952380952381}, {\"epoch\": 113, \"seed\": 1, \"variable\": \"val_accuracy\", \"value\": 0.7476190476190476}, {\"epoch\": 114, \"seed\": 1, \"variable\": \"val_accuracy\", \"value\": 0.7428571428571429}, {\"epoch\": 115, \"seed\": 1, \"variable\": \"val_accuracy\", \"value\": 0.7380952380952381}, {\"epoch\": 116, \"seed\": 1, \"variable\": \"val_accuracy\", \"value\": 0.7333333333333333}, {\"epoch\": 117, \"seed\": 1, \"variable\": \"val_accuracy\", \"value\": 0.7571428571428571}, {\"epoch\": 118, \"seed\": 1, \"variable\": \"val_accuracy\", \"value\": 0.7238095238095238}, {\"epoch\": 119, \"seed\": 1, \"variable\": \"val_accuracy\", \"value\": 0.7142857142857143}, {\"epoch\": 120, \"seed\": 1, \"variable\": \"val_accuracy\", \"value\": 0.7285714285714285}, {\"epoch\": 121, \"seed\": 1, \"variable\": \"val_accuracy\", \"value\": 0.7}, {\"epoch\": 122, \"seed\": 1, \"variable\": \"val_accuracy\", \"value\": 0.7095238095238096}, {\"epoch\": 123, \"seed\": 1, \"variable\": \"val_accuracy\", \"value\": 0.7380952380952381}, {\"epoch\": 124, \"seed\": 1, \"variable\": \"val_accuracy\", \"value\": 0.7476190476190476}, {\"epoch\": 125, \"seed\": 1, \"variable\": \"val_accuracy\", \"value\": 0.7476190476190476}, {\"epoch\": 126, \"seed\": 1, \"variable\": \"val_accuracy\", \"value\": 0.7428571428571429}, {\"epoch\": 127, \"seed\": 1, \"variable\": \"val_accuracy\", \"value\": 0.7523809523809524}, {\"epoch\": 128, \"seed\": 1, \"variable\": \"val_accuracy\", \"value\": 0.7333333333333333}, {\"epoch\": 129, \"seed\": 1, \"variable\": \"val_accuracy\", \"value\": 0.7476190476190476}, {\"epoch\": 130, \"seed\": 1, \"variable\": \"val_accuracy\", \"value\": 0.7380952380952381}, {\"epoch\": 131, \"seed\": 1, \"variable\": \"val_accuracy\", \"value\": 0.7428571428571429}, {\"epoch\": 132, \"seed\": 1, \"variable\": \"val_accuracy\", \"value\": 0.7333333333333333}, {\"epoch\": 133, \"seed\": 1, \"variable\": \"val_accuracy\", \"value\": 0.7476190476190476}, {\"epoch\": 134, \"seed\": 1, \"variable\": \"val_accuracy\", \"value\": 0.7142857142857143}, {\"epoch\": 135, \"seed\": 1, \"variable\": \"val_accuracy\", \"value\": 0.7476190476190476}, {\"epoch\": 136, \"seed\": 1, \"variable\": \"val_accuracy\", \"value\": 0.7380952380952381}, {\"epoch\": 137, \"seed\": 1, \"variable\": \"val_accuracy\", \"value\": 0.7285714285714285}, {\"epoch\": 138, \"seed\": 1, \"variable\": \"val_accuracy\", \"value\": 0.7523809523809524}, {\"epoch\": 139, \"seed\": 1, \"variable\": \"val_accuracy\", \"value\": 0.7238095238095238}, {\"epoch\": 140, \"seed\": 1, \"variable\": \"val_accuracy\", \"value\": 0.7476190476190476}, {\"epoch\": 141, \"seed\": 1, \"variable\": \"val_accuracy\", \"value\": 0.7380952380952381}, {\"epoch\": 142, \"seed\": 1, \"variable\": \"val_accuracy\", \"value\": 0.7380952380952381}, {\"epoch\": 143, \"seed\": 1, \"variable\": \"val_accuracy\", \"value\": 0.7333333333333333}, {\"epoch\": 144, \"seed\": 1, \"variable\": \"val_accuracy\", \"value\": 0.7428571428571429}, {\"epoch\": 145, \"seed\": 1, \"variable\": \"val_accuracy\", \"value\": 0.7380952380952381}, {\"epoch\": 146, \"seed\": 1, \"variable\": \"val_accuracy\", \"value\": 0.7428571428571429}, {\"epoch\": 147, \"seed\": 1, \"variable\": \"val_accuracy\", \"value\": 0.7333333333333333}, {\"epoch\": 148, \"seed\": 1, \"variable\": \"val_accuracy\", \"value\": 0.7380952380952381}, {\"epoch\": 149, \"seed\": 1, \"variable\": \"val_accuracy\", \"value\": 0.7285714285714285}, {\"epoch\": 150, \"seed\": 1, \"variable\": \"val_accuracy\", \"value\": 0.7428571428571429}, {\"epoch\": 151, \"seed\": 1, \"variable\": \"val_accuracy\", \"value\": 0.7285714285714285}, {\"epoch\": 152, \"seed\": 1, \"variable\": \"val_accuracy\", \"value\": 0.7428571428571429}, {\"epoch\": 153, \"seed\": 1, \"variable\": \"val_accuracy\", \"value\": 0.7142857142857143}, {\"epoch\": 154, \"seed\": 1, \"variable\": \"val_accuracy\", \"value\": 0.7285714285714285}, {\"epoch\": 155, \"seed\": 1, \"variable\": \"val_accuracy\", \"value\": 0.7238095238095238}, {\"epoch\": 156, \"seed\": 1, \"variable\": \"val_accuracy\", \"value\": 0.7285714285714285}, {\"epoch\": 157, \"seed\": 1, \"variable\": \"val_accuracy\", \"value\": 0.7238095238095238}, {\"epoch\": 158, \"seed\": 1, \"variable\": \"val_accuracy\", \"value\": 0.7238095238095238}, {\"epoch\": 159, \"seed\": 1, \"variable\": \"val_accuracy\", \"value\": 0.7238095238095238}, {\"epoch\": 160, \"seed\": 1, \"variable\": \"val_accuracy\", \"value\": 0.7285714285714285}, {\"epoch\": 161, \"seed\": 1, \"variable\": \"val_accuracy\", \"value\": 0.7428571428571429}, {\"epoch\": 162, \"seed\": 1, \"variable\": \"val_accuracy\", \"value\": 0.7523809523809524}, {\"epoch\": 163, \"seed\": 1, \"variable\": \"val_accuracy\", \"value\": 0.7476190476190476}, {\"epoch\": 164, \"seed\": 1, \"variable\": \"val_accuracy\", \"value\": 0.7428571428571429}, {\"epoch\": 165, \"seed\": 1, \"variable\": \"val_accuracy\", \"value\": 0.7380952380952381}, {\"epoch\": 166, \"seed\": 1, \"variable\": \"val_accuracy\", \"value\": 0.7285714285714285}, {\"epoch\": 167, \"seed\": 1, \"variable\": \"val_accuracy\", \"value\": 0.7380952380952381}, {\"epoch\": 168, \"seed\": 1, \"variable\": \"val_accuracy\", \"value\": 0.7333333333333333}, {\"epoch\": 169, \"seed\": 1, \"variable\": \"val_accuracy\", \"value\": 0.7285714285714285}, {\"epoch\": 170, \"seed\": 1, \"variable\": \"val_accuracy\", \"value\": 0.7285714285714285}, {\"epoch\": 171, \"seed\": 1, \"variable\": \"val_accuracy\", \"value\": 0.7285714285714285}, {\"epoch\": 172, \"seed\": 1, \"variable\": \"val_accuracy\", \"value\": 0.7285714285714285}, {\"epoch\": 173, \"seed\": 1, \"variable\": \"val_accuracy\", \"value\": 0.7380952380952381}, {\"epoch\": 174, \"seed\": 1, \"variable\": \"val_accuracy\", \"value\": 0.7380952380952381}, {\"epoch\": 175, \"seed\": 1, \"variable\": \"val_accuracy\", \"value\": 0.7285714285714285}, {\"epoch\": 176, \"seed\": 1, \"variable\": \"val_accuracy\", \"value\": 0.7523809523809524}, {\"epoch\": 177, \"seed\": 1, \"variable\": \"val_accuracy\", \"value\": 0.7380952380952381}, {\"epoch\": 178, \"seed\": 1, \"variable\": \"val_accuracy\", \"value\": 0.7333333333333333}, {\"epoch\": 179, \"seed\": 1, \"variable\": \"val_accuracy\", \"value\": 0.7238095238095238}, {\"epoch\": 180, \"seed\": 1, \"variable\": \"val_accuracy\", \"value\": 0.7238095238095238}, {\"epoch\": 181, \"seed\": 1, \"variable\": \"val_accuracy\", \"value\": 0.7380952380952381}, {\"epoch\": 182, \"seed\": 1, \"variable\": \"val_accuracy\", \"value\": 0.719047619047619}, {\"epoch\": 183, \"seed\": 1, \"variable\": \"val_accuracy\", \"value\": 0.7142857142857143}, {\"epoch\": 184, \"seed\": 1, \"variable\": \"val_accuracy\", \"value\": 0.7238095238095238}, {\"epoch\": 185, \"seed\": 1, \"variable\": \"val_accuracy\", \"value\": 0.719047619047619}, {\"epoch\": 186, \"seed\": 1, \"variable\": \"val_accuracy\", \"value\": 0.719047619047619}, {\"epoch\": 187, \"seed\": 1, \"variable\": \"val_accuracy\", \"value\": 0.7476190476190476}, {\"epoch\": 188, \"seed\": 1, \"variable\": \"val_accuracy\", \"value\": 0.7285714285714285}, {\"epoch\": 189, \"seed\": 1, \"variable\": \"val_accuracy\", \"value\": 0.7285714285714285}, {\"epoch\": 190, \"seed\": 1, \"variable\": \"val_accuracy\", \"value\": 0.7476190476190476}, {\"epoch\": 191, \"seed\": 1, \"variable\": \"val_accuracy\", \"value\": 0.7285714285714285}, {\"epoch\": 192, \"seed\": 1, \"variable\": \"val_accuracy\", \"value\": 0.7333333333333333}, {\"epoch\": 193, \"seed\": 1, \"variable\": \"val_accuracy\", \"value\": 0.7428571428571429}, {\"epoch\": 194, \"seed\": 1, \"variable\": \"val_accuracy\", \"value\": 0.7285714285714285}, {\"epoch\": 195, \"seed\": 1, \"variable\": \"val_accuracy\", \"value\": 0.7142857142857143}, {\"epoch\": 196, \"seed\": 1, \"variable\": \"val_accuracy\", \"value\": 0.7285714285714285}, {\"epoch\": 197, \"seed\": 1, \"variable\": \"val_accuracy\", \"value\": 0.7380952380952381}, {\"epoch\": 198, \"seed\": 1, \"variable\": \"val_accuracy\", \"value\": 0.7333333333333333}, {\"epoch\": 199, \"seed\": 1, \"variable\": \"val_accuracy\", \"value\": 0.7333333333333333}, {\"epoch\": 200, \"seed\": 1, \"variable\": \"val_accuracy\", \"value\": 0.7285714285714285}, {\"epoch\": 1, \"seed\": 2, \"variable\": \"val_accuracy\", \"value\": 0.5285714285714286}, {\"epoch\": 2, \"seed\": 2, \"variable\": \"val_accuracy\", \"value\": 0.6857142857142857}, {\"epoch\": 3, \"seed\": 2, \"variable\": \"val_accuracy\", \"value\": 0.7095238095238096}, {\"epoch\": 4, \"seed\": 2, \"variable\": \"val_accuracy\", \"value\": 0.7238095238095238}, {\"epoch\": 5, \"seed\": 2, \"variable\": \"val_accuracy\", \"value\": 0.7285714285714285}, {\"epoch\": 6, \"seed\": 2, \"variable\": \"val_accuracy\", \"value\": 0.7047619047619048}, {\"epoch\": 7, \"seed\": 2, \"variable\": \"val_accuracy\", \"value\": 0.7095238095238096}, {\"epoch\": 8, \"seed\": 2, \"variable\": \"val_accuracy\", \"value\": 0.7333333333333333}, {\"epoch\": 9, \"seed\": 2, \"variable\": \"val_accuracy\", \"value\": 0.7095238095238096}, {\"epoch\": 10, \"seed\": 2, \"variable\": \"val_accuracy\", \"value\": 0.7238095238095238}, {\"epoch\": 11, \"seed\": 2, \"variable\": \"val_accuracy\", \"value\": 0.7047619047619048}, {\"epoch\": 12, \"seed\": 2, \"variable\": \"val_accuracy\", \"value\": 0.7380952380952381}, {\"epoch\": 13, \"seed\": 2, \"variable\": \"val_accuracy\", \"value\": 0.7666666666666667}, {\"epoch\": 14, \"seed\": 2, \"variable\": \"val_accuracy\", \"value\": 0.780952380952381}, {\"epoch\": 15, \"seed\": 2, \"variable\": \"val_accuracy\", \"value\": 0.7761904761904762}, {\"epoch\": 16, \"seed\": 2, \"variable\": \"val_accuracy\", \"value\": 0.8}, {\"epoch\": 17, \"seed\": 2, \"variable\": \"val_accuracy\", \"value\": 0.8}, {\"epoch\": 18, \"seed\": 2, \"variable\": \"val_accuracy\", \"value\": 0.8047619047619048}, {\"epoch\": 19, \"seed\": 2, \"variable\": \"val_accuracy\", \"value\": 0.7761904761904762}, {\"epoch\": 20, \"seed\": 2, \"variable\": \"val_accuracy\", \"value\": 0.7857142857142857}, {\"epoch\": 21, \"seed\": 2, \"variable\": \"val_accuracy\", \"value\": 0.7761904761904762}, {\"epoch\": 22, \"seed\": 2, \"variable\": \"val_accuracy\", \"value\": 0.7857142857142857}, {\"epoch\": 23, \"seed\": 2, \"variable\": \"val_accuracy\", \"value\": 0.780952380952381}, {\"epoch\": 24, \"seed\": 2, \"variable\": \"val_accuracy\", \"value\": 0.8}, {\"epoch\": 25, \"seed\": 2, \"variable\": \"val_accuracy\", \"value\": 0.7857142857142857}, {\"epoch\": 26, \"seed\": 2, \"variable\": \"val_accuracy\", \"value\": 0.7761904761904762}, {\"epoch\": 27, \"seed\": 2, \"variable\": \"val_accuracy\", \"value\": 0.8}, {\"epoch\": 28, \"seed\": 2, \"variable\": \"val_accuracy\", \"value\": 0.7904761904761904}, {\"epoch\": 29, \"seed\": 2, \"variable\": \"val_accuracy\", \"value\": 0.8}, {\"epoch\": 30, \"seed\": 2, \"variable\": \"val_accuracy\", \"value\": 0.7904761904761904}, {\"epoch\": 31, \"seed\": 2, \"variable\": \"val_accuracy\", \"value\": 0.7952380952380952}, {\"epoch\": 32, \"seed\": 2, \"variable\": \"val_accuracy\", \"value\": 0.8}, {\"epoch\": 33, \"seed\": 2, \"variable\": \"val_accuracy\", \"value\": 0.7714285714285715}, {\"epoch\": 34, \"seed\": 2, \"variable\": \"val_accuracy\", \"value\": 0.8}, {\"epoch\": 35, \"seed\": 2, \"variable\": \"val_accuracy\", \"value\": 0.7952380952380952}, {\"epoch\": 36, \"seed\": 2, \"variable\": \"val_accuracy\", \"value\": 0.7904761904761904}, {\"epoch\": 37, \"seed\": 2, \"variable\": \"val_accuracy\", \"value\": 0.8}, {\"epoch\": 38, \"seed\": 2, \"variable\": \"val_accuracy\", \"value\": 0.7904761904761904}, {\"epoch\": 39, \"seed\": 2, \"variable\": \"val_accuracy\", \"value\": 0.7952380952380952}, {\"epoch\": 40, \"seed\": 2, \"variable\": \"val_accuracy\", \"value\": 0.7904761904761904}, {\"epoch\": 41, \"seed\": 2, \"variable\": \"val_accuracy\", \"value\": 0.8}, {\"epoch\": 42, \"seed\": 2, \"variable\": \"val_accuracy\", \"value\": 0.7857142857142857}, {\"epoch\": 43, \"seed\": 2, \"variable\": \"val_accuracy\", \"value\": 0.8}, {\"epoch\": 44, \"seed\": 2, \"variable\": \"val_accuracy\", \"value\": 0.7904761904761904}, {\"epoch\": 45, \"seed\": 2, \"variable\": \"val_accuracy\", \"value\": 0.8}, {\"epoch\": 46, \"seed\": 2, \"variable\": \"val_accuracy\", \"value\": 0.7523809523809524}, {\"epoch\": 47, \"seed\": 2, \"variable\": \"val_accuracy\", \"value\": 0.7904761904761904}, {\"epoch\": 48, \"seed\": 2, \"variable\": \"val_accuracy\", \"value\": 0.8}, {\"epoch\": 49, \"seed\": 2, \"variable\": \"val_accuracy\", \"value\": 0.7952380952380952}, {\"epoch\": 50, \"seed\": 2, \"variable\": \"val_accuracy\", \"value\": 0.8}, {\"epoch\": 51, \"seed\": 2, \"variable\": \"val_accuracy\", \"value\": 0.7952380952380952}, {\"epoch\": 52, \"seed\": 2, \"variable\": \"val_accuracy\", \"value\": 0.8}, {\"epoch\": 53, \"seed\": 2, \"variable\": \"val_accuracy\", \"value\": 0.7619047619047619}, {\"epoch\": 54, \"seed\": 2, \"variable\": \"val_accuracy\", \"value\": 0.8}, {\"epoch\": 55, \"seed\": 2, \"variable\": \"val_accuracy\", \"value\": 0.8}, {\"epoch\": 56, \"seed\": 2, \"variable\": \"val_accuracy\", \"value\": 0.7666666666666667}, {\"epoch\": 57, \"seed\": 2, \"variable\": \"val_accuracy\", \"value\": 0.7904761904761904}, {\"epoch\": 58, \"seed\": 2, \"variable\": \"val_accuracy\", \"value\": 0.8}, {\"epoch\": 59, \"seed\": 2, \"variable\": \"val_accuracy\", \"value\": 0.7952380952380952}, {\"epoch\": 60, \"seed\": 2, \"variable\": \"val_accuracy\", \"value\": 0.7952380952380952}, {\"epoch\": 61, \"seed\": 2, \"variable\": \"val_accuracy\", \"value\": 0.7904761904761904}, {\"epoch\": 62, \"seed\": 2, \"variable\": \"val_accuracy\", \"value\": 0.7857142857142857}, {\"epoch\": 63, \"seed\": 2, \"variable\": \"val_accuracy\", \"value\": 0.8}, {\"epoch\": 64, \"seed\": 2, \"variable\": \"val_accuracy\", \"value\": 0.7380952380952381}, {\"epoch\": 65, \"seed\": 2, \"variable\": \"val_accuracy\", \"value\": 0.780952380952381}, {\"epoch\": 66, \"seed\": 2, \"variable\": \"val_accuracy\", \"value\": 0.8}, {\"epoch\": 67, \"seed\": 2, \"variable\": \"val_accuracy\", \"value\": 0.8}, {\"epoch\": 68, \"seed\": 2, \"variable\": \"val_accuracy\", \"value\": 0.8}, {\"epoch\": 69, \"seed\": 2, \"variable\": \"val_accuracy\", \"value\": 0.8}, {\"epoch\": 70, \"seed\": 2, \"variable\": \"val_accuracy\", \"value\": 0.8}, {\"epoch\": 71, \"seed\": 2, \"variable\": \"val_accuracy\", \"value\": 0.8}, {\"epoch\": 72, \"seed\": 2, \"variable\": \"val_accuracy\", \"value\": 0.8}, {\"epoch\": 73, \"seed\": 2, \"variable\": \"val_accuracy\", \"value\": 0.8}, {\"epoch\": 74, \"seed\": 2, \"variable\": \"val_accuracy\", \"value\": 0.8}, {\"epoch\": 75, \"seed\": 2, \"variable\": \"val_accuracy\", \"value\": 0.8}, {\"epoch\": 76, \"seed\": 2, \"variable\": \"val_accuracy\", \"value\": 0.8}, {\"epoch\": 77, \"seed\": 2, \"variable\": \"val_accuracy\", \"value\": 0.7904761904761904}, {\"epoch\": 78, \"seed\": 2, \"variable\": \"val_accuracy\", \"value\": 0.7904761904761904}, {\"epoch\": 79, \"seed\": 2, \"variable\": \"val_accuracy\", \"value\": 0.7952380952380952}, {\"epoch\": 80, \"seed\": 2, \"variable\": \"val_accuracy\", \"value\": 0.7952380952380952}, {\"epoch\": 81, \"seed\": 2, \"variable\": \"val_accuracy\", \"value\": 0.7904761904761904}, {\"epoch\": 82, \"seed\": 2, \"variable\": \"val_accuracy\", \"value\": 0.7952380952380952}, {\"epoch\": 83, \"seed\": 2, \"variable\": \"val_accuracy\", \"value\": 0.7952380952380952}, {\"epoch\": 84, \"seed\": 2, \"variable\": \"val_accuracy\", \"value\": 0.780952380952381}, {\"epoch\": 85, \"seed\": 2, \"variable\": \"val_accuracy\", \"value\": 0.7857142857142857}, {\"epoch\": 86, \"seed\": 2, \"variable\": \"val_accuracy\", \"value\": 0.7904761904761904}, {\"epoch\": 87, \"seed\": 2, \"variable\": \"val_accuracy\", \"value\": 0.8}, {\"epoch\": 88, \"seed\": 2, \"variable\": \"val_accuracy\", \"value\": 0.7857142857142857}, {\"epoch\": 89, \"seed\": 2, \"variable\": \"val_accuracy\", \"value\": 0.7952380952380952}, {\"epoch\": 90, \"seed\": 2, \"variable\": \"val_accuracy\", \"value\": 0.7952380952380952}, {\"epoch\": 91, \"seed\": 2, \"variable\": \"val_accuracy\", \"value\": 0.8}, {\"epoch\": 92, \"seed\": 2, \"variable\": \"val_accuracy\", \"value\": 0.8}, {\"epoch\": 93, \"seed\": 2, \"variable\": \"val_accuracy\", \"value\": 0.7904761904761904}, {\"epoch\": 94, \"seed\": 2, \"variable\": \"val_accuracy\", \"value\": 0.7857142857142857}, {\"epoch\": 95, \"seed\": 2, \"variable\": \"val_accuracy\", \"value\": 0.7904761904761904}, {\"epoch\": 96, \"seed\": 2, \"variable\": \"val_accuracy\", \"value\": 0.8047619047619048}, {\"epoch\": 97, \"seed\": 2, \"variable\": \"val_accuracy\", \"value\": 0.7904761904761904}, {\"epoch\": 98, \"seed\": 2, \"variable\": \"val_accuracy\", \"value\": 0.7904761904761904}, {\"epoch\": 99, \"seed\": 2, \"variable\": \"val_accuracy\", \"value\": 0.7857142857142857}, {\"epoch\": 100, \"seed\": 2, \"variable\": \"val_accuracy\", \"value\": 0.8}, {\"epoch\": 101, \"seed\": 2, \"variable\": \"val_accuracy\", \"value\": 0.8}, {\"epoch\": 102, \"seed\": 2, \"variable\": \"val_accuracy\", \"value\": 0.7952380952380952}, {\"epoch\": 103, \"seed\": 2, \"variable\": \"val_accuracy\", \"value\": 0.8047619047619048}, {\"epoch\": 104, \"seed\": 2, \"variable\": \"val_accuracy\", \"value\": 0.7952380952380952}, {\"epoch\": 105, \"seed\": 2, \"variable\": \"val_accuracy\", \"value\": 0.7952380952380952}, {\"epoch\": 106, \"seed\": 2, \"variable\": \"val_accuracy\", \"value\": 0.8}, {\"epoch\": 107, \"seed\": 2, \"variable\": \"val_accuracy\", \"value\": 0.8095238095238095}, {\"epoch\": 108, \"seed\": 2, \"variable\": \"val_accuracy\", \"value\": 0.8095238095238095}, {\"epoch\": 109, \"seed\": 2, \"variable\": \"val_accuracy\", \"value\": 0.8095238095238095}, {\"epoch\": 110, \"seed\": 2, \"variable\": \"val_accuracy\", \"value\": 0.8}, {\"epoch\": 111, \"seed\": 2, \"variable\": \"val_accuracy\", \"value\": 0.8}, {\"epoch\": 112, \"seed\": 2, \"variable\": \"val_accuracy\", \"value\": 0.7666666666666667}, {\"epoch\": 113, \"seed\": 2, \"variable\": \"val_accuracy\", \"value\": 0.8095238095238095}, {\"epoch\": 114, \"seed\": 2, \"variable\": \"val_accuracy\", \"value\": 0.7952380952380952}, {\"epoch\": 115, \"seed\": 2, \"variable\": \"val_accuracy\", \"value\": 0.7952380952380952}, {\"epoch\": 116, \"seed\": 2, \"variable\": \"val_accuracy\", \"value\": 0.7904761904761904}, {\"epoch\": 117, \"seed\": 2, \"variable\": \"val_accuracy\", \"value\": 0.8}, {\"epoch\": 118, \"seed\": 2, \"variable\": \"val_accuracy\", \"value\": 0.7857142857142857}, {\"epoch\": 119, \"seed\": 2, \"variable\": \"val_accuracy\", \"value\": 0.7952380952380952}, {\"epoch\": 120, \"seed\": 2, \"variable\": \"val_accuracy\", \"value\": 0.8047619047619048}, {\"epoch\": 121, \"seed\": 2, \"variable\": \"val_accuracy\", \"value\": 0.8095238095238095}, {\"epoch\": 122, \"seed\": 2, \"variable\": \"val_accuracy\", \"value\": 0.8095238095238095}, {\"epoch\": 123, \"seed\": 2, \"variable\": \"val_accuracy\", \"value\": 0.8095238095238095}, {\"epoch\": 124, \"seed\": 2, \"variable\": \"val_accuracy\", \"value\": 0.8095238095238095}, {\"epoch\": 125, \"seed\": 2, \"variable\": \"val_accuracy\", \"value\": 0.8047619047619048}, {\"epoch\": 126, \"seed\": 2, \"variable\": \"val_accuracy\", \"value\": 0.8095238095238095}, {\"epoch\": 127, \"seed\": 2, \"variable\": \"val_accuracy\", \"value\": 0.8047619047619048}, {\"epoch\": 128, \"seed\": 2, \"variable\": \"val_accuracy\", \"value\": 0.8047619047619048}, {\"epoch\": 129, \"seed\": 2, \"variable\": \"val_accuracy\", \"value\": 0.7714285714285715}, {\"epoch\": 130, \"seed\": 2, \"variable\": \"val_accuracy\", \"value\": 0.7952380952380952}, {\"epoch\": 131, \"seed\": 2, \"variable\": \"val_accuracy\", \"value\": 0.8047619047619048}, {\"epoch\": 132, \"seed\": 2, \"variable\": \"val_accuracy\", \"value\": 0.8047619047619048}, {\"epoch\": 133, \"seed\": 2, \"variable\": \"val_accuracy\", \"value\": 0.8095238095238095}, {\"epoch\": 134, \"seed\": 2, \"variable\": \"val_accuracy\", \"value\": 0.8095238095238095}, {\"epoch\": 135, \"seed\": 2, \"variable\": \"val_accuracy\", \"value\": 0.8047619047619048}, {\"epoch\": 136, \"seed\": 2, \"variable\": \"val_accuracy\", \"value\": 0.8095238095238095}, {\"epoch\": 137, \"seed\": 2, \"variable\": \"val_accuracy\", \"value\": 0.8047619047619048}, {\"epoch\": 138, \"seed\": 2, \"variable\": \"val_accuracy\", \"value\": 0.8095238095238095}, {\"epoch\": 139, \"seed\": 2, \"variable\": \"val_accuracy\", \"value\": 0.8047619047619048}, {\"epoch\": 140, \"seed\": 2, \"variable\": \"val_accuracy\", \"value\": 0.7952380952380952}, {\"epoch\": 141, \"seed\": 2, \"variable\": \"val_accuracy\", \"value\": 0.780952380952381}, {\"epoch\": 142, \"seed\": 2, \"variable\": \"val_accuracy\", \"value\": 0.7952380952380952}, {\"epoch\": 143, \"seed\": 2, \"variable\": \"val_accuracy\", \"value\": 0.7761904761904762}, {\"epoch\": 144, \"seed\": 2, \"variable\": \"val_accuracy\", \"value\": 0.8047619047619048}, {\"epoch\": 145, \"seed\": 2, \"variable\": \"val_accuracy\", \"value\": 0.8047619047619048}, {\"epoch\": 146, \"seed\": 2, \"variable\": \"val_accuracy\", \"value\": 0.8047619047619048}, {\"epoch\": 147, \"seed\": 2, \"variable\": \"val_accuracy\", \"value\": 0.8}, {\"epoch\": 148, \"seed\": 2, \"variable\": \"val_accuracy\", \"value\": 0.8047619047619048}, {\"epoch\": 149, \"seed\": 2, \"variable\": \"val_accuracy\", \"value\": 0.8047619047619048}, {\"epoch\": 150, \"seed\": 2, \"variable\": \"val_accuracy\", \"value\": 0.7666666666666667}, {\"epoch\": 151, \"seed\": 2, \"variable\": \"val_accuracy\", \"value\": 0.7952380952380952}, {\"epoch\": 152, \"seed\": 2, \"variable\": \"val_accuracy\", \"value\": 0.7904761904761904}, {\"epoch\": 153, \"seed\": 2, \"variable\": \"val_accuracy\", \"value\": 0.8095238095238095}, {\"epoch\": 154, \"seed\": 2, \"variable\": \"val_accuracy\", \"value\": 0.8095238095238095}, {\"epoch\": 155, \"seed\": 2, \"variable\": \"val_accuracy\", \"value\": 0.8095238095238095}, {\"epoch\": 156, \"seed\": 2, \"variable\": \"val_accuracy\", \"value\": 0.8047619047619048}, {\"epoch\": 157, \"seed\": 2, \"variable\": \"val_accuracy\", \"value\": 0.8095238095238095}, {\"epoch\": 158, \"seed\": 2, \"variable\": \"val_accuracy\", \"value\": 0.8047619047619048}, {\"epoch\": 159, \"seed\": 2, \"variable\": \"val_accuracy\", \"value\": 0.8047619047619048}, {\"epoch\": 160, \"seed\": 2, \"variable\": \"val_accuracy\", \"value\": 0.7666666666666667}, {\"epoch\": 161, \"seed\": 2, \"variable\": \"val_accuracy\", \"value\": 0.7952380952380952}, {\"epoch\": 162, \"seed\": 2, \"variable\": \"val_accuracy\", \"value\": 0.7857142857142857}, {\"epoch\": 163, \"seed\": 2, \"variable\": \"val_accuracy\", \"value\": 0.8095238095238095}, {\"epoch\": 164, \"seed\": 2, \"variable\": \"val_accuracy\", \"value\": 0.8}, {\"epoch\": 165, \"seed\": 2, \"variable\": \"val_accuracy\", \"value\": 0.8047619047619048}, {\"epoch\": 166, \"seed\": 2, \"variable\": \"val_accuracy\", \"value\": 0.8095238095238095}, {\"epoch\": 167, \"seed\": 2, \"variable\": \"val_accuracy\", \"value\": 0.8047619047619048}, {\"epoch\": 168, \"seed\": 2, \"variable\": \"val_accuracy\", \"value\": 0.8095238095238095}, {\"epoch\": 169, \"seed\": 2, \"variable\": \"val_accuracy\", \"value\": 0.8047619047619048}, {\"epoch\": 170, \"seed\": 2, \"variable\": \"val_accuracy\", \"value\": 0.8}, {\"epoch\": 171, \"seed\": 2, \"variable\": \"val_accuracy\", \"value\": 0.7904761904761904}, {\"epoch\": 172, \"seed\": 2, \"variable\": \"val_accuracy\", \"value\": 0.8047619047619048}, {\"epoch\": 173, \"seed\": 2, \"variable\": \"val_accuracy\", \"value\": 0.7952380952380952}, {\"epoch\": 174, \"seed\": 2, \"variable\": \"val_accuracy\", \"value\": 0.8095238095238095}, {\"epoch\": 175, \"seed\": 2, \"variable\": \"val_accuracy\", \"value\": 0.8}, {\"epoch\": 176, \"seed\": 2, \"variable\": \"val_accuracy\", \"value\": 0.8047619047619048}, {\"epoch\": 177, \"seed\": 2, \"variable\": \"val_accuracy\", \"value\": 0.7857142857142857}, {\"epoch\": 178, \"seed\": 2, \"variable\": \"val_accuracy\", \"value\": 0.8047619047619048}, {\"epoch\": 179, \"seed\": 2, \"variable\": \"val_accuracy\", \"value\": 0.7857142857142857}, {\"epoch\": 180, \"seed\": 2, \"variable\": \"val_accuracy\", \"value\": 0.8047619047619048}, {\"epoch\": 181, \"seed\": 2, \"variable\": \"val_accuracy\", \"value\": 0.8047619047619048}, {\"epoch\": 182, \"seed\": 2, \"variable\": \"val_accuracy\", \"value\": 0.8}, {\"epoch\": 183, \"seed\": 2, \"variable\": \"val_accuracy\", \"value\": 0.7761904761904762}, {\"epoch\": 184, \"seed\": 2, \"variable\": \"val_accuracy\", \"value\": 0.7952380952380952}, {\"epoch\": 185, \"seed\": 2, \"variable\": \"val_accuracy\", \"value\": 0.7904761904761904}, {\"epoch\": 186, \"seed\": 2, \"variable\": \"val_accuracy\", \"value\": 0.8047619047619048}, {\"epoch\": 187, \"seed\": 2, \"variable\": \"val_accuracy\", \"value\": 0.8047619047619048}, {\"epoch\": 188, \"seed\": 2, \"variable\": \"val_accuracy\", \"value\": 0.8047619047619048}, {\"epoch\": 189, \"seed\": 2, \"variable\": \"val_accuracy\", \"value\": 0.8047619047619048}, {\"epoch\": 190, \"seed\": 2, \"variable\": \"val_accuracy\", \"value\": 0.8047619047619048}, {\"epoch\": 191, \"seed\": 2, \"variable\": \"val_accuracy\", \"value\": 0.8047619047619048}, {\"epoch\": 192, \"seed\": 2, \"variable\": \"val_accuracy\", \"value\": 0.8047619047619048}, {\"epoch\": 193, \"seed\": 2, \"variable\": \"val_accuracy\", \"value\": 0.8}, {\"epoch\": 194, \"seed\": 2, \"variable\": \"val_accuracy\", \"value\": 0.7904761904761904}, {\"epoch\": 195, \"seed\": 2, \"variable\": \"val_accuracy\", \"value\": 0.8095238095238095}, {\"epoch\": 196, \"seed\": 2, \"variable\": \"val_accuracy\", \"value\": 0.7904761904761904}, {\"epoch\": 197, \"seed\": 2, \"variable\": \"val_accuracy\", \"value\": 0.8047619047619048}, {\"epoch\": 198, \"seed\": 2, \"variable\": \"val_accuracy\", \"value\": 0.780952380952381}, {\"epoch\": 199, \"seed\": 2, \"variable\": \"val_accuracy\", \"value\": 0.8047619047619048}, {\"epoch\": 200, \"seed\": 2, \"variable\": \"val_accuracy\", \"value\": 0.7952380952380952}, {\"epoch\": 1, \"seed\": 3, \"variable\": \"val_accuracy\", \"value\": 0.4714285714285714}, {\"epoch\": 2, \"seed\": 3, \"variable\": \"val_accuracy\", \"value\": 0.580952380952381}, {\"epoch\": 3, \"seed\": 3, \"variable\": \"val_accuracy\", \"value\": 0.5571428571428572}, {\"epoch\": 4, \"seed\": 3, \"variable\": \"val_accuracy\", \"value\": 0.5761904761904761}, {\"epoch\": 5, \"seed\": 3, \"variable\": \"val_accuracy\", \"value\": 0.5761904761904761}, {\"epoch\": 6, \"seed\": 3, \"variable\": \"val_accuracy\", \"value\": 0.5952380952380952}, {\"epoch\": 7, \"seed\": 3, \"variable\": \"val_accuracy\", \"value\": 0.5904761904761905}, {\"epoch\": 8, \"seed\": 3, \"variable\": \"val_accuracy\", \"value\": 0.5904761904761905}, {\"epoch\": 9, \"seed\": 3, \"variable\": \"val_accuracy\", \"value\": 0.5619047619047619}, {\"epoch\": 10, \"seed\": 3, \"variable\": \"val_accuracy\", \"value\": 0.5904761904761905}, {\"epoch\": 11, \"seed\": 3, \"variable\": \"val_accuracy\", \"value\": 0.5666666666666667}, {\"epoch\": 12, \"seed\": 3, \"variable\": \"val_accuracy\", \"value\": 0.5857142857142857}, {\"epoch\": 13, \"seed\": 3, \"variable\": \"val_accuracy\", \"value\": 0.5523809523809524}, {\"epoch\": 14, \"seed\": 3, \"variable\": \"val_accuracy\", \"value\": 0.5761904761904761}, {\"epoch\": 15, \"seed\": 3, \"variable\": \"val_accuracy\", \"value\": 0.580952380952381}, {\"epoch\": 16, \"seed\": 3, \"variable\": \"val_accuracy\", \"value\": 0.5523809523809524}, {\"epoch\": 17, \"seed\": 3, \"variable\": \"val_accuracy\", \"value\": 0.580952380952381}, {\"epoch\": 18, \"seed\": 3, \"variable\": \"val_accuracy\", \"value\": 0.5619047619047619}, {\"epoch\": 19, \"seed\": 3, \"variable\": \"val_accuracy\", \"value\": 0.580952380952381}, {\"epoch\": 20, \"seed\": 3, \"variable\": \"val_accuracy\", \"value\": 0.5619047619047619}, {\"epoch\": 21, \"seed\": 3, \"variable\": \"val_accuracy\", \"value\": 0.5857142857142857}, {\"epoch\": 22, \"seed\": 3, \"variable\": \"val_accuracy\", \"value\": 0.5952380952380952}, {\"epoch\": 23, \"seed\": 3, \"variable\": \"val_accuracy\", \"value\": 0.5619047619047619}, {\"epoch\": 24, \"seed\": 3, \"variable\": \"val_accuracy\", \"value\": 0.580952380952381}, {\"epoch\": 25, \"seed\": 3, \"variable\": \"val_accuracy\", \"value\": 0.5571428571428572}, {\"epoch\": 26, \"seed\": 3, \"variable\": \"val_accuracy\", \"value\": 0.6}, {\"epoch\": 27, \"seed\": 3, \"variable\": \"val_accuracy\", \"value\": 0.5714285714285714}, {\"epoch\": 28, \"seed\": 3, \"variable\": \"val_accuracy\", \"value\": 0.6}, {\"epoch\": 29, \"seed\": 3, \"variable\": \"val_accuracy\", \"value\": 0.5904761904761905}, {\"epoch\": 30, \"seed\": 3, \"variable\": \"val_accuracy\", \"value\": 0.6047619047619047}, {\"epoch\": 31, \"seed\": 3, \"variable\": \"val_accuracy\", \"value\": 0.5904761904761905}, {\"epoch\": 32, \"seed\": 3, \"variable\": \"val_accuracy\", \"value\": 0.6190476190476191}, {\"epoch\": 33, \"seed\": 3, \"variable\": \"val_accuracy\", \"value\": 0.6190476190476191}, {\"epoch\": 34, \"seed\": 3, \"variable\": \"val_accuracy\", \"value\": 0.6095238095238096}, {\"epoch\": 35, \"seed\": 3, \"variable\": \"val_accuracy\", \"value\": 0.6142857142857143}, {\"epoch\": 36, \"seed\": 3, \"variable\": \"val_accuracy\", \"value\": 0.6095238095238096}, {\"epoch\": 37, \"seed\": 3, \"variable\": \"val_accuracy\", \"value\": 0.6238095238095238}, {\"epoch\": 38, \"seed\": 3, \"variable\": \"val_accuracy\", \"value\": 0.6095238095238096}, {\"epoch\": 39, \"seed\": 3, \"variable\": \"val_accuracy\", \"value\": 0.6285714285714286}, {\"epoch\": 40, \"seed\": 3, \"variable\": \"val_accuracy\", \"value\": 0.5952380952380952}, {\"epoch\": 41, \"seed\": 3, \"variable\": \"val_accuracy\", \"value\": 0.638095238095238}, {\"epoch\": 42, \"seed\": 3, \"variable\": \"val_accuracy\", \"value\": 0.638095238095238}, {\"epoch\": 43, \"seed\": 3, \"variable\": \"val_accuracy\", \"value\": 0.6523809523809524}, {\"epoch\": 44, \"seed\": 3, \"variable\": \"val_accuracy\", \"value\": 0.6238095238095238}, {\"epoch\": 45, \"seed\": 3, \"variable\": \"val_accuracy\", \"value\": 0.6523809523809524}, {\"epoch\": 46, \"seed\": 3, \"variable\": \"val_accuracy\", \"value\": 0.6285714285714286}, {\"epoch\": 47, \"seed\": 3, \"variable\": \"val_accuracy\", \"value\": 0.6571428571428571}, {\"epoch\": 48, \"seed\": 3, \"variable\": \"val_accuracy\", \"value\": 0.6904761904761905}, {\"epoch\": 49, \"seed\": 3, \"variable\": \"val_accuracy\", \"value\": 0.6952380952380952}, {\"epoch\": 50, \"seed\": 3, \"variable\": \"val_accuracy\", \"value\": 0.6619047619047619}, {\"epoch\": 51, \"seed\": 3, \"variable\": \"val_accuracy\", \"value\": 0.6952380952380952}, {\"epoch\": 52, \"seed\": 3, \"variable\": \"val_accuracy\", \"value\": 0.6761904761904762}, {\"epoch\": 53, \"seed\": 3, \"variable\": \"val_accuracy\", \"value\": 0.7095238095238096}, {\"epoch\": 54, \"seed\": 3, \"variable\": \"val_accuracy\", \"value\": 0.7095238095238096}, {\"epoch\": 55, \"seed\": 3, \"variable\": \"val_accuracy\", \"value\": 0.7095238095238096}, {\"epoch\": 56, \"seed\": 3, \"variable\": \"val_accuracy\", \"value\": 0.7047619047619048}, {\"epoch\": 57, \"seed\": 3, \"variable\": \"val_accuracy\", \"value\": 0.7142857142857143}, {\"epoch\": 58, \"seed\": 3, \"variable\": \"val_accuracy\", \"value\": 0.7238095238095238}, {\"epoch\": 59, \"seed\": 3, \"variable\": \"val_accuracy\", \"value\": 0.7285714285714285}, {\"epoch\": 60, \"seed\": 3, \"variable\": \"val_accuracy\", \"value\": 0.7285714285714285}, {\"epoch\": 61, \"seed\": 3, \"variable\": \"val_accuracy\", \"value\": 0.7238095238095238}, {\"epoch\": 62, \"seed\": 3, \"variable\": \"val_accuracy\", \"value\": 0.7428571428571429}, {\"epoch\": 63, \"seed\": 3, \"variable\": \"val_accuracy\", \"value\": 0.719047619047619}, {\"epoch\": 64, \"seed\": 3, \"variable\": \"val_accuracy\", \"value\": 0.7476190476190476}, {\"epoch\": 65, \"seed\": 3, \"variable\": \"val_accuracy\", \"value\": 0.7333333333333333}, {\"epoch\": 66, \"seed\": 3, \"variable\": \"val_accuracy\", \"value\": 0.7666666666666667}, {\"epoch\": 67, \"seed\": 3, \"variable\": \"val_accuracy\", \"value\": 0.7761904761904762}, {\"epoch\": 68, \"seed\": 3, \"variable\": \"val_accuracy\", \"value\": 0.7428571428571429}, {\"epoch\": 69, \"seed\": 3, \"variable\": \"val_accuracy\", \"value\": 0.7571428571428571}, {\"epoch\": 70, \"seed\": 3, \"variable\": \"val_accuracy\", \"value\": 0.7428571428571429}, {\"epoch\": 71, \"seed\": 3, \"variable\": \"val_accuracy\", \"value\": 0.7619047619047619}, {\"epoch\": 72, \"seed\": 3, \"variable\": \"val_accuracy\", \"value\": 0.7428571428571429}, {\"epoch\": 73, \"seed\": 3, \"variable\": \"val_accuracy\", \"value\": 0.7380952380952381}, {\"epoch\": 74, \"seed\": 3, \"variable\": \"val_accuracy\", \"value\": 0.7095238095238096}, {\"epoch\": 75, \"seed\": 3, \"variable\": \"val_accuracy\", \"value\": 0.7571428571428571}, {\"epoch\": 76, \"seed\": 3, \"variable\": \"val_accuracy\", \"value\": 0.7571428571428571}, {\"epoch\": 77, \"seed\": 3, \"variable\": \"val_accuracy\", \"value\": 0.7619047619047619}, {\"epoch\": 78, \"seed\": 3, \"variable\": \"val_accuracy\", \"value\": 0.7380952380952381}, {\"epoch\": 79, \"seed\": 3, \"variable\": \"val_accuracy\", \"value\": 0.780952380952381}, {\"epoch\": 80, \"seed\": 3, \"variable\": \"val_accuracy\", \"value\": 0.719047619047619}, {\"epoch\": 81, \"seed\": 3, \"variable\": \"val_accuracy\", \"value\": 0.780952380952381}, {\"epoch\": 82, \"seed\": 3, \"variable\": \"val_accuracy\", \"value\": 0.7523809523809524}, {\"epoch\": 83, \"seed\": 3, \"variable\": \"val_accuracy\", \"value\": 0.7523809523809524}, {\"epoch\": 84, \"seed\": 3, \"variable\": \"val_accuracy\", \"value\": 0.7476190476190476}, {\"epoch\": 85, \"seed\": 3, \"variable\": \"val_accuracy\", \"value\": 0.7333333333333333}, {\"epoch\": 86, \"seed\": 3, \"variable\": \"val_accuracy\", \"value\": 0.7571428571428571}, {\"epoch\": 87, \"seed\": 3, \"variable\": \"val_accuracy\", \"value\": 0.7666666666666667}, {\"epoch\": 88, \"seed\": 3, \"variable\": \"val_accuracy\", \"value\": 0.7571428571428571}, {\"epoch\": 89, \"seed\": 3, \"variable\": \"val_accuracy\", \"value\": 0.7380952380952381}, {\"epoch\": 90, \"seed\": 3, \"variable\": \"val_accuracy\", \"value\": 0.7476190476190476}, {\"epoch\": 91, \"seed\": 3, \"variable\": \"val_accuracy\", \"value\": 0.7619047619047619}, {\"epoch\": 92, \"seed\": 3, \"variable\": \"val_accuracy\", \"value\": 0.7238095238095238}, {\"epoch\": 93, \"seed\": 3, \"variable\": \"val_accuracy\", \"value\": 0.7761904761904762}, {\"epoch\": 94, \"seed\": 3, \"variable\": \"val_accuracy\", \"value\": 0.719047619047619}, {\"epoch\": 95, \"seed\": 3, \"variable\": \"val_accuracy\", \"value\": 0.7428571428571429}, {\"epoch\": 96, \"seed\": 3, \"variable\": \"val_accuracy\", \"value\": 0.7333333333333333}, {\"epoch\": 97, \"seed\": 3, \"variable\": \"val_accuracy\", \"value\": 0.7428571428571429}, {\"epoch\": 98, \"seed\": 3, \"variable\": \"val_accuracy\", \"value\": 0.7619047619047619}, {\"epoch\": 99, \"seed\": 3, \"variable\": \"val_accuracy\", \"value\": 0.7142857142857143}, {\"epoch\": 100, \"seed\": 3, \"variable\": \"val_accuracy\", \"value\": 0.7666666666666667}, {\"epoch\": 101, \"seed\": 3, \"variable\": \"val_accuracy\", \"value\": 0.7476190476190476}, {\"epoch\": 102, \"seed\": 3, \"variable\": \"val_accuracy\", \"value\": 0.780952380952381}, {\"epoch\": 103, \"seed\": 3, \"variable\": \"val_accuracy\", \"value\": 0.7285714285714285}, {\"epoch\": 104, \"seed\": 3, \"variable\": \"val_accuracy\", \"value\": 0.7714285714285715}, {\"epoch\": 105, \"seed\": 3, \"variable\": \"val_accuracy\", \"value\": 0.7428571428571429}, {\"epoch\": 106, \"seed\": 3, \"variable\": \"val_accuracy\", \"value\": 0.7714285714285715}, {\"epoch\": 107, \"seed\": 3, \"variable\": \"val_accuracy\", \"value\": 0.7523809523809524}, {\"epoch\": 108, \"seed\": 3, \"variable\": \"val_accuracy\", \"value\": 0.7571428571428571}, {\"epoch\": 109, \"seed\": 3, \"variable\": \"val_accuracy\", \"value\": 0.7238095238095238}, {\"epoch\": 110, \"seed\": 3, \"variable\": \"val_accuracy\", \"value\": 0.7523809523809524}, {\"epoch\": 111, \"seed\": 3, \"variable\": \"val_accuracy\", \"value\": 0.7476190476190476}, {\"epoch\": 112, \"seed\": 3, \"variable\": \"val_accuracy\", \"value\": 0.6952380952380952}, {\"epoch\": 113, \"seed\": 3, \"variable\": \"val_accuracy\", \"value\": 0.7571428571428571}, {\"epoch\": 114, \"seed\": 3, \"variable\": \"val_accuracy\", \"value\": 0.7333333333333333}, {\"epoch\": 115, \"seed\": 3, \"variable\": \"val_accuracy\", \"value\": 0.7619047619047619}, {\"epoch\": 116, \"seed\": 3, \"variable\": \"val_accuracy\", \"value\": 0.719047619047619}, {\"epoch\": 117, \"seed\": 3, \"variable\": \"val_accuracy\", \"value\": 0.7476190476190476}, {\"epoch\": 118, \"seed\": 3, \"variable\": \"val_accuracy\", \"value\": 0.7428571428571429}, {\"epoch\": 119, \"seed\": 3, \"variable\": \"val_accuracy\", \"value\": 0.7333333333333333}, {\"epoch\": 120, \"seed\": 3, \"variable\": \"val_accuracy\", \"value\": 0.7428571428571429}, {\"epoch\": 121, \"seed\": 3, \"variable\": \"val_accuracy\", \"value\": 0.7476190476190476}, {\"epoch\": 122, \"seed\": 3, \"variable\": \"val_accuracy\", \"value\": 0.7428571428571429}, {\"epoch\": 123, \"seed\": 3, \"variable\": \"val_accuracy\", \"value\": 0.7523809523809524}, {\"epoch\": 124, \"seed\": 3, \"variable\": \"val_accuracy\", \"value\": 0.7380952380952381}, {\"epoch\": 125, \"seed\": 3, \"variable\": \"val_accuracy\", \"value\": 0.7476190476190476}, {\"epoch\": 126, \"seed\": 3, \"variable\": \"val_accuracy\", \"value\": 0.7428571428571429}, {\"epoch\": 127, \"seed\": 3, \"variable\": \"val_accuracy\", \"value\": 0.7428571428571429}, {\"epoch\": 128, \"seed\": 3, \"variable\": \"val_accuracy\", \"value\": 0.7380952380952381}, {\"epoch\": 129, \"seed\": 3, \"variable\": \"val_accuracy\", \"value\": 0.7761904761904762}, {\"epoch\": 130, \"seed\": 3, \"variable\": \"val_accuracy\", \"value\": 0.7380952380952381}, {\"epoch\": 131, \"seed\": 3, \"variable\": \"val_accuracy\", \"value\": 0.7523809523809524}, {\"epoch\": 132, \"seed\": 3, \"variable\": \"val_accuracy\", \"value\": 0.7238095238095238}, {\"epoch\": 133, \"seed\": 3, \"variable\": \"val_accuracy\", \"value\": 0.7380952380952381}, {\"epoch\": 134, \"seed\": 3, \"variable\": \"val_accuracy\", \"value\": 0.7523809523809524}, {\"epoch\": 135, \"seed\": 3, \"variable\": \"val_accuracy\", \"value\": 0.7428571428571429}, {\"epoch\": 136, \"seed\": 3, \"variable\": \"val_accuracy\", \"value\": 0.7523809523809524}, {\"epoch\": 137, \"seed\": 3, \"variable\": \"val_accuracy\", \"value\": 0.7619047619047619}, {\"epoch\": 138, \"seed\": 3, \"variable\": \"val_accuracy\", \"value\": 0.7523809523809524}, {\"epoch\": 139, \"seed\": 3, \"variable\": \"val_accuracy\", \"value\": 0.7476190476190476}, {\"epoch\": 140, \"seed\": 3, \"variable\": \"val_accuracy\", \"value\": 0.7333333333333333}, {\"epoch\": 141, \"seed\": 3, \"variable\": \"val_accuracy\", \"value\": 0.7714285714285715}, {\"epoch\": 142, \"seed\": 3, \"variable\": \"val_accuracy\", \"value\": 0.7285714285714285}, {\"epoch\": 143, \"seed\": 3, \"variable\": \"val_accuracy\", \"value\": 0.7666666666666667}, {\"epoch\": 144, \"seed\": 3, \"variable\": \"val_accuracy\", \"value\": 0.7333333333333333}, {\"epoch\": 145, \"seed\": 3, \"variable\": \"val_accuracy\", \"value\": 0.7619047619047619}, {\"epoch\": 146, \"seed\": 3, \"variable\": \"val_accuracy\", \"value\": 0.719047619047619}, {\"epoch\": 147, \"seed\": 3, \"variable\": \"val_accuracy\", \"value\": 0.7714285714285715}, {\"epoch\": 148, \"seed\": 3, \"variable\": \"val_accuracy\", \"value\": 0.7333333333333333}, {\"epoch\": 149, \"seed\": 3, \"variable\": \"val_accuracy\", \"value\": 0.7428571428571429}, {\"epoch\": 150, \"seed\": 3, \"variable\": \"val_accuracy\", \"value\": 0.7380952380952381}, {\"epoch\": 151, \"seed\": 3, \"variable\": \"val_accuracy\", \"value\": 0.7380952380952381}, {\"epoch\": 152, \"seed\": 3, \"variable\": \"val_accuracy\", \"value\": 0.7476190476190476}, {\"epoch\": 153, \"seed\": 3, \"variable\": \"val_accuracy\", \"value\": 0.7428571428571429}, {\"epoch\": 154, \"seed\": 3, \"variable\": \"val_accuracy\", \"value\": 0.7285714285714285}, {\"epoch\": 155, \"seed\": 3, \"variable\": \"val_accuracy\", \"value\": 0.7476190476190476}, {\"epoch\": 156, \"seed\": 3, \"variable\": \"val_accuracy\", \"value\": 0.7428571428571429}, {\"epoch\": 157, \"seed\": 3, \"variable\": \"val_accuracy\", \"value\": 0.7380952380952381}, {\"epoch\": 158, \"seed\": 3, \"variable\": \"val_accuracy\", \"value\": 0.7523809523809524}, {\"epoch\": 159, \"seed\": 3, \"variable\": \"val_accuracy\", \"value\": 0.7428571428571429}, {\"epoch\": 160, \"seed\": 3, \"variable\": \"val_accuracy\", \"value\": 0.7285714285714285}, {\"epoch\": 161, \"seed\": 3, \"variable\": \"val_accuracy\", \"value\": 0.7476190476190476}, {\"epoch\": 162, \"seed\": 3, \"variable\": \"val_accuracy\", \"value\": 0.719047619047619}, {\"epoch\": 163, \"seed\": 3, \"variable\": \"val_accuracy\", \"value\": 0.7333333333333333}, {\"epoch\": 164, \"seed\": 3, \"variable\": \"val_accuracy\", \"value\": 0.7285714285714285}, {\"epoch\": 165, \"seed\": 3, \"variable\": \"val_accuracy\", \"value\": 0.7380952380952381}, {\"epoch\": 166, \"seed\": 3, \"variable\": \"val_accuracy\", \"value\": 0.7238095238095238}, {\"epoch\": 167, \"seed\": 3, \"variable\": \"val_accuracy\", \"value\": 0.7428571428571429}, {\"epoch\": 168, \"seed\": 3, \"variable\": \"val_accuracy\", \"value\": 0.7238095238095238}, {\"epoch\": 169, \"seed\": 3, \"variable\": \"val_accuracy\", \"value\": 0.7333333333333333}, {\"epoch\": 170, \"seed\": 3, \"variable\": \"val_accuracy\", \"value\": 0.719047619047619}, {\"epoch\": 171, \"seed\": 3, \"variable\": \"val_accuracy\", \"value\": 0.7476190476190476}, {\"epoch\": 172, \"seed\": 3, \"variable\": \"val_accuracy\", \"value\": 0.7476190476190476}, {\"epoch\": 173, \"seed\": 3, \"variable\": \"val_accuracy\", \"value\": 0.7238095238095238}, {\"epoch\": 174, \"seed\": 3, \"variable\": \"val_accuracy\", \"value\": 0.7380952380952381}, {\"epoch\": 175, \"seed\": 3, \"variable\": \"val_accuracy\", \"value\": 0.7571428571428571}, {\"epoch\": 176, \"seed\": 3, \"variable\": \"val_accuracy\", \"value\": 0.719047619047619}, {\"epoch\": 177, \"seed\": 3, \"variable\": \"val_accuracy\", \"value\": 0.7571428571428571}, {\"epoch\": 178, \"seed\": 3, \"variable\": \"val_accuracy\", \"value\": 0.7285714285714285}, {\"epoch\": 179, \"seed\": 3, \"variable\": \"val_accuracy\", \"value\": 0.7619047619047619}, {\"epoch\": 180, \"seed\": 3, \"variable\": \"val_accuracy\", \"value\": 0.7285714285714285}, {\"epoch\": 181, \"seed\": 3, \"variable\": \"val_accuracy\", \"value\": 0.7523809523809524}, {\"epoch\": 182, \"seed\": 3, \"variable\": \"val_accuracy\", \"value\": 0.7333333333333333}, {\"epoch\": 183, \"seed\": 3, \"variable\": \"val_accuracy\", \"value\": 0.7333333333333333}, {\"epoch\": 184, \"seed\": 3, \"variable\": \"val_accuracy\", \"value\": 0.7238095238095238}, {\"epoch\": 185, \"seed\": 3, \"variable\": \"val_accuracy\", \"value\": 0.7571428571428571}, {\"epoch\": 186, \"seed\": 3, \"variable\": \"val_accuracy\", \"value\": 0.7428571428571429}, {\"epoch\": 187, \"seed\": 3, \"variable\": \"val_accuracy\", \"value\": 0.7285714285714285}, {\"epoch\": 188, \"seed\": 3, \"variable\": \"val_accuracy\", \"value\": 0.7571428571428571}, {\"epoch\": 189, \"seed\": 3, \"variable\": \"val_accuracy\", \"value\": 0.7333333333333333}, {\"epoch\": 190, \"seed\": 3, \"variable\": \"val_accuracy\", \"value\": 0.7428571428571429}, {\"epoch\": 191, \"seed\": 3, \"variable\": \"val_accuracy\", \"value\": 0.7238095238095238}, {\"epoch\": 192, \"seed\": 3, \"variable\": \"val_accuracy\", \"value\": 0.7523809523809524}, {\"epoch\": 193, \"seed\": 3, \"variable\": \"val_accuracy\", \"value\": 0.719047619047619}, {\"epoch\": 194, \"seed\": 3, \"variable\": \"val_accuracy\", \"value\": 0.7476190476190476}, {\"epoch\": 195, \"seed\": 3, \"variable\": \"val_accuracy\", \"value\": 0.7333333333333333}, {\"epoch\": 196, \"seed\": 3, \"variable\": \"val_accuracy\", \"value\": 0.7333333333333333}, {\"epoch\": 197, \"seed\": 3, \"variable\": \"val_accuracy\", \"value\": 0.7285714285714285}, {\"epoch\": 198, \"seed\": 3, \"variable\": \"val_accuracy\", \"value\": 0.7428571428571429}, {\"epoch\": 199, \"seed\": 3, \"variable\": \"val_accuracy\", \"value\": 0.7333333333333333}, {\"epoch\": 200, \"seed\": 3, \"variable\": \"val_accuracy\", \"value\": 0.7380952380952381}, {\"epoch\": 1, \"seed\": 4, \"variable\": \"val_accuracy\", \"value\": 0.46190476190476193}, {\"epoch\": 2, \"seed\": 4, \"variable\": \"val_accuracy\", \"value\": 0.5904761904761905}, {\"epoch\": 3, \"seed\": 4, \"variable\": \"val_accuracy\", \"value\": 0.5857142857142857}, {\"epoch\": 4, \"seed\": 4, \"variable\": \"val_accuracy\", \"value\": 0.5714285714285714}, {\"epoch\": 5, \"seed\": 4, \"variable\": \"val_accuracy\", \"value\": 0.5857142857142857}, {\"epoch\": 6, \"seed\": 4, \"variable\": \"val_accuracy\", \"value\": 0.5952380952380952}, {\"epoch\": 7, \"seed\": 4, \"variable\": \"val_accuracy\", \"value\": 0.6285714285714286}, {\"epoch\": 8, \"seed\": 4, \"variable\": \"val_accuracy\", \"value\": 0.6095238095238096}, {\"epoch\": 9, \"seed\": 4, \"variable\": \"val_accuracy\", \"value\": 0.6333333333333333}, {\"epoch\": 10, \"seed\": 4, \"variable\": \"val_accuracy\", \"value\": 0.6190476190476191}, {\"epoch\": 11, \"seed\": 4, \"variable\": \"val_accuracy\", \"value\": 0.6238095238095238}, {\"epoch\": 12, \"seed\": 4, \"variable\": \"val_accuracy\", \"value\": 0.6476190476190476}, {\"epoch\": 13, \"seed\": 4, \"variable\": \"val_accuracy\", \"value\": 0.6619047619047619}, {\"epoch\": 14, \"seed\": 4, \"variable\": \"val_accuracy\", \"value\": 0.680952380952381}, {\"epoch\": 15, \"seed\": 4, \"variable\": \"val_accuracy\", \"value\": 0.6952380952380952}, {\"epoch\": 16, \"seed\": 4, \"variable\": \"val_accuracy\", \"value\": 0.7428571428571429}, {\"epoch\": 17, \"seed\": 4, \"variable\": \"val_accuracy\", \"value\": 0.7238095238095238}, {\"epoch\": 18, \"seed\": 4, \"variable\": \"val_accuracy\", \"value\": 0.7428571428571429}, {\"epoch\": 19, \"seed\": 4, \"variable\": \"val_accuracy\", \"value\": 0.680952380952381}, {\"epoch\": 20, \"seed\": 4, \"variable\": \"val_accuracy\", \"value\": 0.7523809523809524}, {\"epoch\": 21, \"seed\": 4, \"variable\": \"val_accuracy\", \"value\": 0.7571428571428571}, {\"epoch\": 22, \"seed\": 4, \"variable\": \"val_accuracy\", \"value\": 0.780952380952381}, {\"epoch\": 23, \"seed\": 4, \"variable\": \"val_accuracy\", \"value\": 0.7952380952380952}, {\"epoch\": 24, \"seed\": 4, \"variable\": \"val_accuracy\", \"value\": 0.7714285714285715}, {\"epoch\": 25, \"seed\": 4, \"variable\": \"val_accuracy\", \"value\": 0.7857142857142857}, {\"epoch\": 26, \"seed\": 4, \"variable\": \"val_accuracy\", \"value\": 0.780952380952381}, {\"epoch\": 27, \"seed\": 4, \"variable\": \"val_accuracy\", \"value\": 0.8}, {\"epoch\": 28, \"seed\": 4, \"variable\": \"val_accuracy\", \"value\": 0.7666666666666667}, {\"epoch\": 29, \"seed\": 4, \"variable\": \"val_accuracy\", \"value\": 0.8}, {\"epoch\": 30, \"seed\": 4, \"variable\": \"val_accuracy\", \"value\": 0.7904761904761904}, {\"epoch\": 31, \"seed\": 4, \"variable\": \"val_accuracy\", \"value\": 0.8}, {\"epoch\": 32, \"seed\": 4, \"variable\": \"val_accuracy\", \"value\": 0.7904761904761904}, {\"epoch\": 33, \"seed\": 4, \"variable\": \"val_accuracy\", \"value\": 0.780952380952381}, {\"epoch\": 34, \"seed\": 4, \"variable\": \"val_accuracy\", \"value\": 0.8}, {\"epoch\": 35, \"seed\": 4, \"variable\": \"val_accuracy\", \"value\": 0.7619047619047619}, {\"epoch\": 36, \"seed\": 4, \"variable\": \"val_accuracy\", \"value\": 0.7857142857142857}, {\"epoch\": 37, \"seed\": 4, \"variable\": \"val_accuracy\", \"value\": 0.780952380952381}, {\"epoch\": 38, \"seed\": 4, \"variable\": \"val_accuracy\", \"value\": 0.7857142857142857}, {\"epoch\": 39, \"seed\": 4, \"variable\": \"val_accuracy\", \"value\": 0.7857142857142857}, {\"epoch\": 40, \"seed\": 4, \"variable\": \"val_accuracy\", \"value\": 0.7619047619047619}, {\"epoch\": 41, \"seed\": 4, \"variable\": \"val_accuracy\", \"value\": 0.780952380952381}, {\"epoch\": 42, \"seed\": 4, \"variable\": \"val_accuracy\", \"value\": 0.780952380952381}, {\"epoch\": 43, \"seed\": 4, \"variable\": \"val_accuracy\", \"value\": 0.780952380952381}, {\"epoch\": 44, \"seed\": 4, \"variable\": \"val_accuracy\", \"value\": 0.780952380952381}, {\"epoch\": 45, \"seed\": 4, \"variable\": \"val_accuracy\", \"value\": 0.7666666666666667}, {\"epoch\": 46, \"seed\": 4, \"variable\": \"val_accuracy\", \"value\": 0.780952380952381}, {\"epoch\": 47, \"seed\": 4, \"variable\": \"val_accuracy\", \"value\": 0.7761904761904762}, {\"epoch\": 48, \"seed\": 4, \"variable\": \"val_accuracy\", \"value\": 0.7857142857142857}, {\"epoch\": 49, \"seed\": 4, \"variable\": \"val_accuracy\", \"value\": 0.7857142857142857}, {\"epoch\": 50, \"seed\": 4, \"variable\": \"val_accuracy\", \"value\": 0.780952380952381}, {\"epoch\": 51, \"seed\": 4, \"variable\": \"val_accuracy\", \"value\": 0.7952380952380952}, {\"epoch\": 52, \"seed\": 4, \"variable\": \"val_accuracy\", \"value\": 0.7904761904761904}, {\"epoch\": 53, \"seed\": 4, \"variable\": \"val_accuracy\", \"value\": 0.780952380952381}, {\"epoch\": 54, \"seed\": 4, \"variable\": \"val_accuracy\", \"value\": 0.7904761904761904}, {\"epoch\": 55, \"seed\": 4, \"variable\": \"val_accuracy\", \"value\": 0.7666666666666667}, {\"epoch\": 56, \"seed\": 4, \"variable\": \"val_accuracy\", \"value\": 0.780952380952381}, {\"epoch\": 57, \"seed\": 4, \"variable\": \"val_accuracy\", \"value\": 0.7761904761904762}, {\"epoch\": 58, \"seed\": 4, \"variable\": \"val_accuracy\", \"value\": 0.7904761904761904}, {\"epoch\": 59, \"seed\": 4, \"variable\": \"val_accuracy\", \"value\": 0.7904761904761904}, {\"epoch\": 60, \"seed\": 4, \"variable\": \"val_accuracy\", \"value\": 0.7857142857142857}, {\"epoch\": 61, \"seed\": 4, \"variable\": \"val_accuracy\", \"value\": 0.7857142857142857}, {\"epoch\": 62, \"seed\": 4, \"variable\": \"val_accuracy\", \"value\": 0.7714285714285715}, {\"epoch\": 63, \"seed\": 4, \"variable\": \"val_accuracy\", \"value\": 0.780952380952381}, {\"epoch\": 64, \"seed\": 4, \"variable\": \"val_accuracy\", \"value\": 0.7904761904761904}, {\"epoch\": 65, \"seed\": 4, \"variable\": \"val_accuracy\", \"value\": 0.7666666666666667}, {\"epoch\": 66, \"seed\": 4, \"variable\": \"val_accuracy\", \"value\": 0.7952380952380952}, {\"epoch\": 67, \"seed\": 4, \"variable\": \"val_accuracy\", \"value\": 0.7904761904761904}, {\"epoch\": 68, \"seed\": 4, \"variable\": \"val_accuracy\", \"value\": 0.7761904761904762}, {\"epoch\": 69, \"seed\": 4, \"variable\": \"val_accuracy\", \"value\": 0.7857142857142857}, {\"epoch\": 70, \"seed\": 4, \"variable\": \"val_accuracy\", \"value\": 0.7761904761904762}, {\"epoch\": 71, \"seed\": 4, \"variable\": \"val_accuracy\", \"value\": 0.7761904761904762}, {\"epoch\": 72, \"seed\": 4, \"variable\": \"val_accuracy\", \"value\": 0.7714285714285715}, {\"epoch\": 73, \"seed\": 4, \"variable\": \"val_accuracy\", \"value\": 0.7904761904761904}, {\"epoch\": 74, \"seed\": 4, \"variable\": \"val_accuracy\", \"value\": 0.7761904761904762}, {\"epoch\": 75, \"seed\": 4, \"variable\": \"val_accuracy\", \"value\": 0.7904761904761904}, {\"epoch\": 76, \"seed\": 4, \"variable\": \"val_accuracy\", \"value\": 0.7761904761904762}, {\"epoch\": 77, \"seed\": 4, \"variable\": \"val_accuracy\", \"value\": 0.7904761904761904}, {\"epoch\": 78, \"seed\": 4, \"variable\": \"val_accuracy\", \"value\": 0.7761904761904762}, {\"epoch\": 79, \"seed\": 4, \"variable\": \"val_accuracy\", \"value\": 0.7904761904761904}, {\"epoch\": 80, \"seed\": 4, \"variable\": \"val_accuracy\", \"value\": 0.7714285714285715}, {\"epoch\": 81, \"seed\": 4, \"variable\": \"val_accuracy\", \"value\": 0.7857142857142857}, {\"epoch\": 82, \"seed\": 4, \"variable\": \"val_accuracy\", \"value\": 0.7666666666666667}, {\"epoch\": 83, \"seed\": 4, \"variable\": \"val_accuracy\", \"value\": 0.7857142857142857}, {\"epoch\": 84, \"seed\": 4, \"variable\": \"val_accuracy\", \"value\": 0.7761904761904762}, {\"epoch\": 85, \"seed\": 4, \"variable\": \"val_accuracy\", \"value\": 0.780952380952381}, {\"epoch\": 86, \"seed\": 4, \"variable\": \"val_accuracy\", \"value\": 0.780952380952381}, {\"epoch\": 87, \"seed\": 4, \"variable\": \"val_accuracy\", \"value\": 0.7761904761904762}, {\"epoch\": 88, \"seed\": 4, \"variable\": \"val_accuracy\", \"value\": 0.7904761904761904}, {\"epoch\": 89, \"seed\": 4, \"variable\": \"val_accuracy\", \"value\": 0.7904761904761904}, {\"epoch\": 90, \"seed\": 4, \"variable\": \"val_accuracy\", \"value\": 0.780952380952381}, {\"epoch\": 91, \"seed\": 4, \"variable\": \"val_accuracy\", \"value\": 0.7714285714285715}, {\"epoch\": 92, \"seed\": 4, \"variable\": \"val_accuracy\", \"value\": 0.780952380952381}, {\"epoch\": 93, \"seed\": 4, \"variable\": \"val_accuracy\", \"value\": 0.7666666666666667}, {\"epoch\": 94, \"seed\": 4, \"variable\": \"val_accuracy\", \"value\": 0.7904761904761904}, {\"epoch\": 95, \"seed\": 4, \"variable\": \"val_accuracy\", \"value\": 0.7761904761904762}, {\"epoch\": 96, \"seed\": 4, \"variable\": \"val_accuracy\", \"value\": 0.7952380952380952}, {\"epoch\": 97, \"seed\": 4, \"variable\": \"val_accuracy\", \"value\": 0.780952380952381}, {\"epoch\": 98, \"seed\": 4, \"variable\": \"val_accuracy\", \"value\": 0.7857142857142857}, {\"epoch\": 99, \"seed\": 4, \"variable\": \"val_accuracy\", \"value\": 0.7761904761904762}, {\"epoch\": 100, \"seed\": 4, \"variable\": \"val_accuracy\", \"value\": 0.780952380952381}, {\"epoch\": 101, \"seed\": 4, \"variable\": \"val_accuracy\", \"value\": 0.7761904761904762}, {\"epoch\": 102, \"seed\": 4, \"variable\": \"val_accuracy\", \"value\": 0.7904761904761904}, {\"epoch\": 103, \"seed\": 4, \"variable\": \"val_accuracy\", \"value\": 0.7904761904761904}, {\"epoch\": 104, \"seed\": 4, \"variable\": \"val_accuracy\", \"value\": 0.7761904761904762}, {\"epoch\": 105, \"seed\": 4, \"variable\": \"val_accuracy\", \"value\": 0.7952380952380952}, {\"epoch\": 106, \"seed\": 4, \"variable\": \"val_accuracy\", \"value\": 0.7761904761904762}, {\"epoch\": 107, \"seed\": 4, \"variable\": \"val_accuracy\", \"value\": 0.780952380952381}, {\"epoch\": 108, \"seed\": 4, \"variable\": \"val_accuracy\", \"value\": 0.7666666666666667}, {\"epoch\": 109, \"seed\": 4, \"variable\": \"val_accuracy\", \"value\": 0.7761904761904762}, {\"epoch\": 110, \"seed\": 4, \"variable\": \"val_accuracy\", \"value\": 0.7666666666666667}, {\"epoch\": 111, \"seed\": 4, \"variable\": \"val_accuracy\", \"value\": 0.7857142857142857}, {\"epoch\": 112, \"seed\": 4, \"variable\": \"val_accuracy\", \"value\": 0.7714285714285715}, {\"epoch\": 113, \"seed\": 4, \"variable\": \"val_accuracy\", \"value\": 0.7857142857142857}, {\"epoch\": 114, \"seed\": 4, \"variable\": \"val_accuracy\", \"value\": 0.7904761904761904}, {\"epoch\": 115, \"seed\": 4, \"variable\": \"val_accuracy\", \"value\": 0.7714285714285715}, {\"epoch\": 116, \"seed\": 4, \"variable\": \"val_accuracy\", \"value\": 0.7761904761904762}, {\"epoch\": 117, \"seed\": 4, \"variable\": \"val_accuracy\", \"value\": 0.7619047619047619}, {\"epoch\": 118, \"seed\": 4, \"variable\": \"val_accuracy\", \"value\": 0.7857142857142857}, {\"epoch\": 119, \"seed\": 4, \"variable\": \"val_accuracy\", \"value\": 0.7761904761904762}, {\"epoch\": 120, \"seed\": 4, \"variable\": \"val_accuracy\", \"value\": 0.7904761904761904}, {\"epoch\": 121, \"seed\": 4, \"variable\": \"val_accuracy\", \"value\": 0.7857142857142857}, {\"epoch\": 122, \"seed\": 4, \"variable\": \"val_accuracy\", \"value\": 0.780952380952381}, {\"epoch\": 123, \"seed\": 4, \"variable\": \"val_accuracy\", \"value\": 0.7904761904761904}, {\"epoch\": 124, \"seed\": 4, \"variable\": \"val_accuracy\", \"value\": 0.7761904761904762}, {\"epoch\": 125, \"seed\": 4, \"variable\": \"val_accuracy\", \"value\": 0.7857142857142857}, {\"epoch\": 126, \"seed\": 4, \"variable\": \"val_accuracy\", \"value\": 0.7761904761904762}, {\"epoch\": 127, \"seed\": 4, \"variable\": \"val_accuracy\", \"value\": 0.7857142857142857}, {\"epoch\": 128, \"seed\": 4, \"variable\": \"val_accuracy\", \"value\": 0.7904761904761904}, {\"epoch\": 129, \"seed\": 4, \"variable\": \"val_accuracy\", \"value\": 0.7761904761904762}, {\"epoch\": 130, \"seed\": 4, \"variable\": \"val_accuracy\", \"value\": 0.7857142857142857}, {\"epoch\": 131, \"seed\": 4, \"variable\": \"val_accuracy\", \"value\": 0.7714285714285715}, {\"epoch\": 132, \"seed\": 4, \"variable\": \"val_accuracy\", \"value\": 0.7904761904761904}, {\"epoch\": 133, \"seed\": 4, \"variable\": \"val_accuracy\", \"value\": 0.7857142857142857}, {\"epoch\": 134, \"seed\": 4, \"variable\": \"val_accuracy\", \"value\": 0.7714285714285715}, {\"epoch\": 135, \"seed\": 4, \"variable\": \"val_accuracy\", \"value\": 0.7857142857142857}, {\"epoch\": 136, \"seed\": 4, \"variable\": \"val_accuracy\", \"value\": 0.7761904761904762}, {\"epoch\": 137, \"seed\": 4, \"variable\": \"val_accuracy\", \"value\": 0.7857142857142857}, {\"epoch\": 138, \"seed\": 4, \"variable\": \"val_accuracy\", \"value\": 0.7619047619047619}, {\"epoch\": 139, \"seed\": 4, \"variable\": \"val_accuracy\", \"value\": 0.7857142857142857}, {\"epoch\": 140, \"seed\": 4, \"variable\": \"val_accuracy\", \"value\": 0.7761904761904762}, {\"epoch\": 141, \"seed\": 4, \"variable\": \"val_accuracy\", \"value\": 0.7857142857142857}, {\"epoch\": 142, \"seed\": 4, \"variable\": \"val_accuracy\", \"value\": 0.7857142857142857}, {\"epoch\": 143, \"seed\": 4, \"variable\": \"val_accuracy\", \"value\": 0.7904761904761904}, {\"epoch\": 144, \"seed\": 4, \"variable\": \"val_accuracy\", \"value\": 0.780952380952381}, {\"epoch\": 145, \"seed\": 4, \"variable\": \"val_accuracy\", \"value\": 0.7904761904761904}, {\"epoch\": 146, \"seed\": 4, \"variable\": \"val_accuracy\", \"value\": 0.7904761904761904}, {\"epoch\": 147, \"seed\": 4, \"variable\": \"val_accuracy\", \"value\": 0.7904761904761904}, {\"epoch\": 148, \"seed\": 4, \"variable\": \"val_accuracy\", \"value\": 0.7761904761904762}, {\"epoch\": 149, \"seed\": 4, \"variable\": \"val_accuracy\", \"value\": 0.7857142857142857}, {\"epoch\": 150, \"seed\": 4, \"variable\": \"val_accuracy\", \"value\": 0.7761904761904762}, {\"epoch\": 151, \"seed\": 4, \"variable\": \"val_accuracy\", \"value\": 0.7857142857142857}, {\"epoch\": 152, \"seed\": 4, \"variable\": \"val_accuracy\", \"value\": 0.7761904761904762}, {\"epoch\": 153, \"seed\": 4, \"variable\": \"val_accuracy\", \"value\": 0.7904761904761904}, {\"epoch\": 154, \"seed\": 4, \"variable\": \"val_accuracy\", \"value\": 0.7857142857142857}, {\"epoch\": 155, \"seed\": 4, \"variable\": \"val_accuracy\", \"value\": 0.7904761904761904}, {\"epoch\": 156, \"seed\": 4, \"variable\": \"val_accuracy\", \"value\": 0.7904761904761904}, {\"epoch\": 157, \"seed\": 4, \"variable\": \"val_accuracy\", \"value\": 0.7952380952380952}, {\"epoch\": 158, \"seed\": 4, \"variable\": \"val_accuracy\", \"value\": 0.7761904761904762}, {\"epoch\": 159, \"seed\": 4, \"variable\": \"val_accuracy\", \"value\": 0.7904761904761904}, {\"epoch\": 160, \"seed\": 4, \"variable\": \"val_accuracy\", \"value\": 0.780952380952381}, {\"epoch\": 161, \"seed\": 4, \"variable\": \"val_accuracy\", \"value\": 0.7761904761904762}, {\"epoch\": 162, \"seed\": 4, \"variable\": \"val_accuracy\", \"value\": 0.7857142857142857}, {\"epoch\": 163, \"seed\": 4, \"variable\": \"val_accuracy\", \"value\": 0.7761904761904762}, {\"epoch\": 164, \"seed\": 4, \"variable\": \"val_accuracy\", \"value\": 0.7904761904761904}, {\"epoch\": 165, \"seed\": 4, \"variable\": \"val_accuracy\", \"value\": 0.7666666666666667}, {\"epoch\": 166, \"seed\": 4, \"variable\": \"val_accuracy\", \"value\": 0.7904761904761904}, {\"epoch\": 167, \"seed\": 4, \"variable\": \"val_accuracy\", \"value\": 0.780952380952381}, {\"epoch\": 168, \"seed\": 4, \"variable\": \"val_accuracy\", \"value\": 0.7857142857142857}, {\"epoch\": 169, \"seed\": 4, \"variable\": \"val_accuracy\", \"value\": 0.7904761904761904}, {\"epoch\": 170, \"seed\": 4, \"variable\": \"val_accuracy\", \"value\": 0.7714285714285715}, {\"epoch\": 171, \"seed\": 4, \"variable\": \"val_accuracy\", \"value\": 0.7904761904761904}, {\"epoch\": 172, \"seed\": 4, \"variable\": \"val_accuracy\", \"value\": 0.7761904761904762}, {\"epoch\": 173, \"seed\": 4, \"variable\": \"val_accuracy\", \"value\": 0.7761904761904762}, {\"epoch\": 174, \"seed\": 4, \"variable\": \"val_accuracy\", \"value\": 0.7714285714285715}, {\"epoch\": 175, \"seed\": 4, \"variable\": \"val_accuracy\", \"value\": 0.7761904761904762}, {\"epoch\": 176, \"seed\": 4, \"variable\": \"val_accuracy\", \"value\": 0.7761904761904762}, {\"epoch\": 177, \"seed\": 4, \"variable\": \"val_accuracy\", \"value\": 0.7857142857142857}, {\"epoch\": 178, \"seed\": 4, \"variable\": \"val_accuracy\", \"value\": 0.7714285714285715}, {\"epoch\": 179, \"seed\": 4, \"variable\": \"val_accuracy\", \"value\": 0.780952380952381}, {\"epoch\": 180, \"seed\": 4, \"variable\": \"val_accuracy\", \"value\": 0.7714285714285715}, {\"epoch\": 181, \"seed\": 4, \"variable\": \"val_accuracy\", \"value\": 0.780952380952381}, {\"epoch\": 182, \"seed\": 4, \"variable\": \"val_accuracy\", \"value\": 0.7666666666666667}, {\"epoch\": 183, \"seed\": 4, \"variable\": \"val_accuracy\", \"value\": 0.7857142857142857}, {\"epoch\": 184, \"seed\": 4, \"variable\": \"val_accuracy\", \"value\": 0.7714285714285715}, {\"epoch\": 185, \"seed\": 4, \"variable\": \"val_accuracy\", \"value\": 0.7904761904761904}, {\"epoch\": 186, \"seed\": 4, \"variable\": \"val_accuracy\", \"value\": 0.7761904761904762}, {\"epoch\": 187, \"seed\": 4, \"variable\": \"val_accuracy\", \"value\": 0.780952380952381}, {\"epoch\": 188, \"seed\": 4, \"variable\": \"val_accuracy\", \"value\": 0.7761904761904762}, {\"epoch\": 189, \"seed\": 4, \"variable\": \"val_accuracy\", \"value\": 0.780952380952381}, {\"epoch\": 190, \"seed\": 4, \"variable\": \"val_accuracy\", \"value\": 0.7714285714285715}, {\"epoch\": 191, \"seed\": 4, \"variable\": \"val_accuracy\", \"value\": 0.7714285714285715}, {\"epoch\": 192, \"seed\": 4, \"variable\": \"val_accuracy\", \"value\": 0.7761904761904762}, {\"epoch\": 193, \"seed\": 4, \"variable\": \"val_accuracy\", \"value\": 0.780952380952381}, {\"epoch\": 194, \"seed\": 4, \"variable\": \"val_accuracy\", \"value\": 0.7666666666666667}, {\"epoch\": 195, \"seed\": 4, \"variable\": \"val_accuracy\", \"value\": 0.780952380952381}, {\"epoch\": 196, \"seed\": 4, \"variable\": \"val_accuracy\", \"value\": 0.7714285714285715}, {\"epoch\": 197, \"seed\": 4, \"variable\": \"val_accuracy\", \"value\": 0.780952380952381}, {\"epoch\": 198, \"seed\": 4, \"variable\": \"val_accuracy\", \"value\": 0.7761904761904762}, {\"epoch\": 199, \"seed\": 4, \"variable\": \"val_accuracy\", \"value\": 0.7857142857142857}, {\"epoch\": 200, \"seed\": 4, \"variable\": \"val_accuracy\", \"value\": 0.7761904761904762}, {\"epoch\": 1, \"seed\": 5, \"variable\": \"val_accuracy\", \"value\": 0.45714285714285713}, {\"epoch\": 2, \"seed\": 5, \"variable\": \"val_accuracy\", \"value\": 0.5904761904761905}, {\"epoch\": 3, \"seed\": 5, \"variable\": \"val_accuracy\", \"value\": 0.6047619047619047}, {\"epoch\": 4, \"seed\": 5, \"variable\": \"val_accuracy\", \"value\": 0.6047619047619047}, {\"epoch\": 5, \"seed\": 5, \"variable\": \"val_accuracy\", \"value\": 0.6285714285714286}, {\"epoch\": 6, \"seed\": 5, \"variable\": \"val_accuracy\", \"value\": 0.6}, {\"epoch\": 7, \"seed\": 5, \"variable\": \"val_accuracy\", \"value\": 0.6190476190476191}, {\"epoch\": 8, \"seed\": 5, \"variable\": \"val_accuracy\", \"value\": 0.6142857142857143}, {\"epoch\": 9, \"seed\": 5, \"variable\": \"val_accuracy\", \"value\": 0.6}, {\"epoch\": 10, \"seed\": 5, \"variable\": \"val_accuracy\", \"value\": 0.6142857142857143}, {\"epoch\": 11, \"seed\": 5, \"variable\": \"val_accuracy\", \"value\": 0.5904761904761905}, {\"epoch\": 12, \"seed\": 5, \"variable\": \"val_accuracy\", \"value\": 0.6047619047619047}, {\"epoch\": 13, \"seed\": 5, \"variable\": \"val_accuracy\", \"value\": 0.6047619047619047}, {\"epoch\": 14, \"seed\": 5, \"variable\": \"val_accuracy\", \"value\": 0.5857142857142857}, {\"epoch\": 15, \"seed\": 5, \"variable\": \"val_accuracy\", \"value\": 0.6047619047619047}, {\"epoch\": 16, \"seed\": 5, \"variable\": \"val_accuracy\", \"value\": 0.5952380952380952}, {\"epoch\": 17, \"seed\": 5, \"variable\": \"val_accuracy\", \"value\": 0.6047619047619047}, {\"epoch\": 18, \"seed\": 5, \"variable\": \"val_accuracy\", \"value\": 0.6095238095238096}, {\"epoch\": 19, \"seed\": 5, \"variable\": \"val_accuracy\", \"value\": 0.6428571428571429}, {\"epoch\": 20, \"seed\": 5, \"variable\": \"val_accuracy\", \"value\": 0.6142857142857143}, {\"epoch\": 21, \"seed\": 5, \"variable\": \"val_accuracy\", \"value\": 0.638095238095238}, {\"epoch\": 22, \"seed\": 5, \"variable\": \"val_accuracy\", \"value\": 0.6285714285714286}, {\"epoch\": 23, \"seed\": 5, \"variable\": \"val_accuracy\", \"value\": 0.6476190476190476}, {\"epoch\": 24, \"seed\": 5, \"variable\": \"val_accuracy\", \"value\": 0.6476190476190476}, {\"epoch\": 25, \"seed\": 5, \"variable\": \"val_accuracy\", \"value\": 0.6666666666666666}, {\"epoch\": 26, \"seed\": 5, \"variable\": \"val_accuracy\", \"value\": 0.6523809523809524}, {\"epoch\": 27, \"seed\": 5, \"variable\": \"val_accuracy\", \"value\": 0.6476190476190476}, {\"epoch\": 28, \"seed\": 5, \"variable\": \"val_accuracy\", \"value\": 0.6571428571428571}, {\"epoch\": 29, \"seed\": 5, \"variable\": \"val_accuracy\", \"value\": 0.6619047619047619}, {\"epoch\": 30, \"seed\": 5, \"variable\": \"val_accuracy\", \"value\": 0.6523809523809524}, {\"epoch\": 31, \"seed\": 5, \"variable\": \"val_accuracy\", \"value\": 0.6523809523809524}, {\"epoch\": 32, \"seed\": 5, \"variable\": \"val_accuracy\", \"value\": 0.6571428571428571}, {\"epoch\": 33, \"seed\": 5, \"variable\": \"val_accuracy\", \"value\": 0.6523809523809524}, {\"epoch\": 34, \"seed\": 5, \"variable\": \"val_accuracy\", \"value\": 0.6714285714285714}, {\"epoch\": 35, \"seed\": 5, \"variable\": \"val_accuracy\", \"value\": 0.6714285714285714}, {\"epoch\": 36, \"seed\": 5, \"variable\": \"val_accuracy\", \"value\": 0.6904761904761905}, {\"epoch\": 37, \"seed\": 5, \"variable\": \"val_accuracy\", \"value\": 0.6714285714285714}, {\"epoch\": 38, \"seed\": 5, \"variable\": \"val_accuracy\", \"value\": 0.6904761904761905}, {\"epoch\": 39, \"seed\": 5, \"variable\": \"val_accuracy\", \"value\": 0.7047619047619048}, {\"epoch\": 40, \"seed\": 5, \"variable\": \"val_accuracy\", \"value\": 0.6952380952380952}, {\"epoch\": 41, \"seed\": 5, \"variable\": \"val_accuracy\", \"value\": 0.7}, {\"epoch\": 42, \"seed\": 5, \"variable\": \"val_accuracy\", \"value\": 0.6619047619047619}, {\"epoch\": 43, \"seed\": 5, \"variable\": \"val_accuracy\", \"value\": 0.6666666666666666}, {\"epoch\": 44, \"seed\": 5, \"variable\": \"val_accuracy\", \"value\": 0.680952380952381}, {\"epoch\": 45, \"seed\": 5, \"variable\": \"val_accuracy\", \"value\": 0.7}, {\"epoch\": 46, \"seed\": 5, \"variable\": \"val_accuracy\", \"value\": 0.7047619047619048}, {\"epoch\": 47, \"seed\": 5, \"variable\": \"val_accuracy\", \"value\": 0.680952380952381}, {\"epoch\": 48, \"seed\": 5, \"variable\": \"val_accuracy\", \"value\": 0.680952380952381}, {\"epoch\": 49, \"seed\": 5, \"variable\": \"val_accuracy\", \"value\": 0.7095238095238096}, {\"epoch\": 50, \"seed\": 5, \"variable\": \"val_accuracy\", \"value\": 0.7285714285714285}, {\"epoch\": 51, \"seed\": 5, \"variable\": \"val_accuracy\", \"value\": 0.7476190476190476}, {\"epoch\": 52, \"seed\": 5, \"variable\": \"val_accuracy\", \"value\": 0.7380952380952381}, {\"epoch\": 53, \"seed\": 5, \"variable\": \"val_accuracy\", \"value\": 0.7380952380952381}, {\"epoch\": 54, \"seed\": 5, \"variable\": \"val_accuracy\", \"value\": 0.7571428571428571}, {\"epoch\": 55, \"seed\": 5, \"variable\": \"val_accuracy\", \"value\": 0.7523809523809524}, {\"epoch\": 56, \"seed\": 5, \"variable\": \"val_accuracy\", \"value\": 0.7380952380952381}, {\"epoch\": 57, \"seed\": 5, \"variable\": \"val_accuracy\", \"value\": 0.7285714285714285}, {\"epoch\": 58, \"seed\": 5, \"variable\": \"val_accuracy\", \"value\": 0.7619047619047619}, {\"epoch\": 59, \"seed\": 5, \"variable\": \"val_accuracy\", \"value\": 0.7666666666666667}, {\"epoch\": 60, \"seed\": 5, \"variable\": \"val_accuracy\", \"value\": 0.7619047619047619}, {\"epoch\": 61, \"seed\": 5, \"variable\": \"val_accuracy\", \"value\": 0.7666666666666667}, {\"epoch\": 62, \"seed\": 5, \"variable\": \"val_accuracy\", \"value\": 0.7476190476190476}, {\"epoch\": 63, \"seed\": 5, \"variable\": \"val_accuracy\", \"value\": 0.7619047619047619}, {\"epoch\": 64, \"seed\": 5, \"variable\": \"val_accuracy\", \"value\": 0.7619047619047619}, {\"epoch\": 65, \"seed\": 5, \"variable\": \"val_accuracy\", \"value\": 0.7666666666666667}, {\"epoch\": 66, \"seed\": 5, \"variable\": \"val_accuracy\", \"value\": 0.7666666666666667}, {\"epoch\": 67, \"seed\": 5, \"variable\": \"val_accuracy\", \"value\": 0.7666666666666667}, {\"epoch\": 68, \"seed\": 5, \"variable\": \"val_accuracy\", \"value\": 0.7523809523809524}, {\"epoch\": 69, \"seed\": 5, \"variable\": \"val_accuracy\", \"value\": 0.7714285714285715}, {\"epoch\": 70, \"seed\": 5, \"variable\": \"val_accuracy\", \"value\": 0.7714285714285715}, {\"epoch\": 71, \"seed\": 5, \"variable\": \"val_accuracy\", \"value\": 0.7571428571428571}, {\"epoch\": 72, \"seed\": 5, \"variable\": \"val_accuracy\", \"value\": 0.7666666666666667}, {\"epoch\": 73, \"seed\": 5, \"variable\": \"val_accuracy\", \"value\": 0.7619047619047619}, {\"epoch\": 74, \"seed\": 5, \"variable\": \"val_accuracy\", \"value\": 0.7714285714285715}, {\"epoch\": 75, \"seed\": 5, \"variable\": \"val_accuracy\", \"value\": 0.7952380952380952}, {\"epoch\": 76, \"seed\": 5, \"variable\": \"val_accuracy\", \"value\": 0.7714285714285715}, {\"epoch\": 77, \"seed\": 5, \"variable\": \"val_accuracy\", \"value\": 0.780952380952381}, {\"epoch\": 78, \"seed\": 5, \"variable\": \"val_accuracy\", \"value\": 0.7904761904761904}, {\"epoch\": 79, \"seed\": 5, \"variable\": \"val_accuracy\", \"value\": 0.7857142857142857}, {\"epoch\": 80, \"seed\": 5, \"variable\": \"val_accuracy\", \"value\": 0.780952380952381}, {\"epoch\": 81, \"seed\": 5, \"variable\": \"val_accuracy\", \"value\": 0.7666666666666667}, {\"epoch\": 82, \"seed\": 5, \"variable\": \"val_accuracy\", \"value\": 0.7619047619047619}, {\"epoch\": 83, \"seed\": 5, \"variable\": \"val_accuracy\", \"value\": 0.7619047619047619}, {\"epoch\": 84, \"seed\": 5, \"variable\": \"val_accuracy\", \"value\": 0.7523809523809524}, {\"epoch\": 85, \"seed\": 5, \"variable\": \"val_accuracy\", \"value\": 0.7571428571428571}, {\"epoch\": 86, \"seed\": 5, \"variable\": \"val_accuracy\", \"value\": 0.7714285714285715}, {\"epoch\": 87, \"seed\": 5, \"variable\": \"val_accuracy\", \"value\": 0.7714285714285715}, {\"epoch\": 88, \"seed\": 5, \"variable\": \"val_accuracy\", \"value\": 0.7714285714285715}, {\"epoch\": 89, \"seed\": 5, \"variable\": \"val_accuracy\", \"value\": 0.7761904761904762}, {\"epoch\": 90, \"seed\": 5, \"variable\": \"val_accuracy\", \"value\": 0.7761904761904762}, {\"epoch\": 91, \"seed\": 5, \"variable\": \"val_accuracy\", \"value\": 0.7761904761904762}, {\"epoch\": 92, \"seed\": 5, \"variable\": \"val_accuracy\", \"value\": 0.7761904761904762}, {\"epoch\": 93, \"seed\": 5, \"variable\": \"val_accuracy\", \"value\": 0.7761904761904762}, {\"epoch\": 94, \"seed\": 5, \"variable\": \"val_accuracy\", \"value\": 0.7666666666666667}, {\"epoch\": 95, \"seed\": 5, \"variable\": \"val_accuracy\", \"value\": 0.7761904761904762}, {\"epoch\": 96, \"seed\": 5, \"variable\": \"val_accuracy\", \"value\": 0.7714285714285715}, {\"epoch\": 97, \"seed\": 5, \"variable\": \"val_accuracy\", \"value\": 0.7714285714285715}, {\"epoch\": 98, \"seed\": 5, \"variable\": \"val_accuracy\", \"value\": 0.7714285714285715}, {\"epoch\": 99, \"seed\": 5, \"variable\": \"val_accuracy\", \"value\": 0.7666666666666667}, {\"epoch\": 100, \"seed\": 5, \"variable\": \"val_accuracy\", \"value\": 0.7666666666666667}, {\"epoch\": 101, \"seed\": 5, \"variable\": \"val_accuracy\", \"value\": 0.7571428571428571}, {\"epoch\": 102, \"seed\": 5, \"variable\": \"val_accuracy\", \"value\": 0.7619047619047619}, {\"epoch\": 103, \"seed\": 5, \"variable\": \"val_accuracy\", \"value\": 0.7428571428571429}, {\"epoch\": 104, \"seed\": 5, \"variable\": \"val_accuracy\", \"value\": 0.7476190476190476}, {\"epoch\": 105, \"seed\": 5, \"variable\": \"val_accuracy\", \"value\": 0.7619047619047619}, {\"epoch\": 106, \"seed\": 5, \"variable\": \"val_accuracy\", \"value\": 0.7666666666666667}, {\"epoch\": 107, \"seed\": 5, \"variable\": \"val_accuracy\", \"value\": 0.7666666666666667}, {\"epoch\": 108, \"seed\": 5, \"variable\": \"val_accuracy\", \"value\": 0.7666666666666667}, {\"epoch\": 109, \"seed\": 5, \"variable\": \"val_accuracy\", \"value\": 0.7333333333333333}, {\"epoch\": 110, \"seed\": 5, \"variable\": \"val_accuracy\", \"value\": 0.7619047619047619}, {\"epoch\": 111, \"seed\": 5, \"variable\": \"val_accuracy\", \"value\": 0.7523809523809524}, {\"epoch\": 112, \"seed\": 5, \"variable\": \"val_accuracy\", \"value\": 0.7523809523809524}, {\"epoch\": 113, \"seed\": 5, \"variable\": \"val_accuracy\", \"value\": 0.7619047619047619}, {\"epoch\": 114, \"seed\": 5, \"variable\": \"val_accuracy\", \"value\": 0.7428571428571429}, {\"epoch\": 115, \"seed\": 5, \"variable\": \"val_accuracy\", \"value\": 0.7428571428571429}, {\"epoch\": 116, \"seed\": 5, \"variable\": \"val_accuracy\", \"value\": 0.7571428571428571}, {\"epoch\": 117, \"seed\": 5, \"variable\": \"val_accuracy\", \"value\": 0.7476190476190476}, {\"epoch\": 118, \"seed\": 5, \"variable\": \"val_accuracy\", \"value\": 0.719047619047619}, {\"epoch\": 119, \"seed\": 5, \"variable\": \"val_accuracy\", \"value\": 0.7523809523809524}, {\"epoch\": 120, \"seed\": 5, \"variable\": \"val_accuracy\", \"value\": 0.7571428571428571}, {\"epoch\": 121, \"seed\": 5, \"variable\": \"val_accuracy\", \"value\": 0.7571428571428571}, {\"epoch\": 122, \"seed\": 5, \"variable\": \"val_accuracy\", \"value\": 0.7523809523809524}, {\"epoch\": 123, \"seed\": 5, \"variable\": \"val_accuracy\", \"value\": 0.7523809523809524}, {\"epoch\": 124, \"seed\": 5, \"variable\": \"val_accuracy\", \"value\": 0.7619047619047619}, {\"epoch\": 125, \"seed\": 5, \"variable\": \"val_accuracy\", \"value\": 0.7523809523809524}, {\"epoch\": 126, \"seed\": 5, \"variable\": \"val_accuracy\", \"value\": 0.7619047619047619}, {\"epoch\": 127, \"seed\": 5, \"variable\": \"val_accuracy\", \"value\": 0.7333333333333333}, {\"epoch\": 128, \"seed\": 5, \"variable\": \"val_accuracy\", \"value\": 0.7476190476190476}, {\"epoch\": 129, \"seed\": 5, \"variable\": \"val_accuracy\", \"value\": 0.7666666666666667}, {\"epoch\": 130, \"seed\": 5, \"variable\": \"val_accuracy\", \"value\": 0.7666666666666667}, {\"epoch\": 131, \"seed\": 5, \"variable\": \"val_accuracy\", \"value\": 0.7428571428571429}, {\"epoch\": 132, \"seed\": 5, \"variable\": \"val_accuracy\", \"value\": 0.7523809523809524}, {\"epoch\": 133, \"seed\": 5, \"variable\": \"val_accuracy\", \"value\": 0.7380952380952381}, {\"epoch\": 134, \"seed\": 5, \"variable\": \"val_accuracy\", \"value\": 0.7476190476190476}, {\"epoch\": 135, \"seed\": 5, \"variable\": \"val_accuracy\", \"value\": 0.7666666666666667}, {\"epoch\": 136, \"seed\": 5, \"variable\": \"val_accuracy\", \"value\": 0.7619047619047619}, {\"epoch\": 137, \"seed\": 5, \"variable\": \"val_accuracy\", \"value\": 0.7666666666666667}, {\"epoch\": 138, \"seed\": 5, \"variable\": \"val_accuracy\", \"value\": 0.7619047619047619}, {\"epoch\": 139, \"seed\": 5, \"variable\": \"val_accuracy\", \"value\": 0.7619047619047619}, {\"epoch\": 140, \"seed\": 5, \"variable\": \"val_accuracy\", \"value\": 0.7619047619047619}, {\"epoch\": 141, \"seed\": 5, \"variable\": \"val_accuracy\", \"value\": 0.7476190476190476}, {\"epoch\": 142, \"seed\": 5, \"variable\": \"val_accuracy\", \"value\": 0.7476190476190476}, {\"epoch\": 143, \"seed\": 5, \"variable\": \"val_accuracy\", \"value\": 0.7666666666666667}, {\"epoch\": 144, \"seed\": 5, \"variable\": \"val_accuracy\", \"value\": 0.7571428571428571}, {\"epoch\": 145, \"seed\": 5, \"variable\": \"val_accuracy\", \"value\": 0.7761904761904762}, {\"epoch\": 146, \"seed\": 5, \"variable\": \"val_accuracy\", \"value\": 0.7666666666666667}, {\"epoch\": 147, \"seed\": 5, \"variable\": \"val_accuracy\", \"value\": 0.7666666666666667}, {\"epoch\": 148, \"seed\": 5, \"variable\": \"val_accuracy\", \"value\": 0.7571428571428571}, {\"epoch\": 149, \"seed\": 5, \"variable\": \"val_accuracy\", \"value\": 0.7571428571428571}, {\"epoch\": 150, \"seed\": 5, \"variable\": \"val_accuracy\", \"value\": 0.7523809523809524}, {\"epoch\": 151, \"seed\": 5, \"variable\": \"val_accuracy\", \"value\": 0.7666666666666667}, {\"epoch\": 152, \"seed\": 5, \"variable\": \"val_accuracy\", \"value\": 0.7380952380952381}, {\"epoch\": 153, \"seed\": 5, \"variable\": \"val_accuracy\", \"value\": 0.7619047619047619}, {\"epoch\": 154, \"seed\": 5, \"variable\": \"val_accuracy\", \"value\": 0.7571428571428571}, {\"epoch\": 155, \"seed\": 5, \"variable\": \"val_accuracy\", \"value\": 0.7619047619047619}, {\"epoch\": 156, \"seed\": 5, \"variable\": \"val_accuracy\", \"value\": 0.7761904761904762}, {\"epoch\": 157, \"seed\": 5, \"variable\": \"val_accuracy\", \"value\": 0.7523809523809524}, {\"epoch\": 158, \"seed\": 5, \"variable\": \"val_accuracy\", \"value\": 0.7571428571428571}, {\"epoch\": 159, \"seed\": 5, \"variable\": \"val_accuracy\", \"value\": 0.7523809523809524}, {\"epoch\": 160, \"seed\": 5, \"variable\": \"val_accuracy\", \"value\": 0.7714285714285715}, {\"epoch\": 161, \"seed\": 5, \"variable\": \"val_accuracy\", \"value\": 0.7285714285714285}, {\"epoch\": 162, \"seed\": 5, \"variable\": \"val_accuracy\", \"value\": 0.7380952380952381}, {\"epoch\": 163, \"seed\": 5, \"variable\": \"val_accuracy\", \"value\": 0.7380952380952381}, {\"epoch\": 164, \"seed\": 5, \"variable\": \"val_accuracy\", \"value\": 0.7428571428571429}, {\"epoch\": 165, \"seed\": 5, \"variable\": \"val_accuracy\", \"value\": 0.7571428571428571}, {\"epoch\": 166, \"seed\": 5, \"variable\": \"val_accuracy\", \"value\": 0.7666666666666667}, {\"epoch\": 167, \"seed\": 5, \"variable\": \"val_accuracy\", \"value\": 0.7095238095238096}, {\"epoch\": 168, \"seed\": 5, \"variable\": \"val_accuracy\", \"value\": 0.7523809523809524}, {\"epoch\": 169, \"seed\": 5, \"variable\": \"val_accuracy\", \"value\": 0.7571428571428571}, {\"epoch\": 170, \"seed\": 5, \"variable\": \"val_accuracy\", \"value\": 0.7619047619047619}, {\"epoch\": 171, \"seed\": 5, \"variable\": \"val_accuracy\", \"value\": 0.7619047619047619}, {\"epoch\": 172, \"seed\": 5, \"variable\": \"val_accuracy\", \"value\": 0.7619047619047619}, {\"epoch\": 173, \"seed\": 5, \"variable\": \"val_accuracy\", \"value\": 0.7571428571428571}, {\"epoch\": 174, \"seed\": 5, \"variable\": \"val_accuracy\", \"value\": 0.7523809523809524}, {\"epoch\": 175, \"seed\": 5, \"variable\": \"val_accuracy\", \"value\": 0.7714285714285715}, {\"epoch\": 176, \"seed\": 5, \"variable\": \"val_accuracy\", \"value\": 0.7523809523809524}, {\"epoch\": 177, \"seed\": 5, \"variable\": \"val_accuracy\", \"value\": 0.7523809523809524}, {\"epoch\": 178, \"seed\": 5, \"variable\": \"val_accuracy\", \"value\": 0.7619047619047619}, {\"epoch\": 179, \"seed\": 5, \"variable\": \"val_accuracy\", \"value\": 0.7380952380952381}, {\"epoch\": 180, \"seed\": 5, \"variable\": \"val_accuracy\", \"value\": 0.7285714285714285}, {\"epoch\": 181, \"seed\": 5, \"variable\": \"val_accuracy\", \"value\": 0.7666666666666667}, {\"epoch\": 182, \"seed\": 5, \"variable\": \"val_accuracy\", \"value\": 0.7619047619047619}, {\"epoch\": 183, \"seed\": 5, \"variable\": \"val_accuracy\", \"value\": 0.7523809523809524}, {\"epoch\": 184, \"seed\": 5, \"variable\": \"val_accuracy\", \"value\": 0.7523809523809524}, {\"epoch\": 185, \"seed\": 5, \"variable\": \"val_accuracy\", \"value\": 0.7571428571428571}, {\"epoch\": 186, \"seed\": 5, \"variable\": \"val_accuracy\", \"value\": 0.7666666666666667}, {\"epoch\": 187, \"seed\": 5, \"variable\": \"val_accuracy\", \"value\": 0.7619047619047619}, {\"epoch\": 188, \"seed\": 5, \"variable\": \"val_accuracy\", \"value\": 0.7666666666666667}, {\"epoch\": 189, \"seed\": 5, \"variable\": \"val_accuracy\", \"value\": 0.7571428571428571}, {\"epoch\": 190, \"seed\": 5, \"variable\": \"val_accuracy\", \"value\": 0.7666666666666667}, {\"epoch\": 191, \"seed\": 5, \"variable\": \"val_accuracy\", \"value\": 0.7571428571428571}, {\"epoch\": 192, \"seed\": 5, \"variable\": \"val_accuracy\", \"value\": 0.7666666666666667}, {\"epoch\": 193, \"seed\": 5, \"variable\": \"val_accuracy\", \"value\": 0.7476190476190476}, {\"epoch\": 194, \"seed\": 5, \"variable\": \"val_accuracy\", \"value\": 0.7714285714285715}, {\"epoch\": 195, \"seed\": 5, \"variable\": \"val_accuracy\", \"value\": 0.7666666666666667}, {\"epoch\": 196, \"seed\": 5, \"variable\": \"val_accuracy\", \"value\": 0.7380952380952381}, {\"epoch\": 197, \"seed\": 5, \"variable\": \"val_accuracy\", \"value\": 0.7428571428571429}, {\"epoch\": 198, \"seed\": 5, \"variable\": \"val_accuracy\", \"value\": 0.7428571428571429}, {\"epoch\": 199, \"seed\": 5, \"variable\": \"val_accuracy\", \"value\": 0.7714285714285715}, {\"epoch\": 200, \"seed\": 5, \"variable\": \"val_accuracy\", \"value\": 0.7380952380952381}]}}, {\"mode\": \"vega-lite\"});\n",
       "</script>"
      ],
      "text/plain": [
       "alt.Chart(...)"
      ]
     },
     "execution_count": 8,
     "metadata": {},
     "output_type": "execute_result"
    }
   ],
   "source": [
    "import altair as alt\n",
    "alt.data_transformers.disable_max_rows()\n",
    "\n",
    "source = results.reset_index().drop(['n','test_size','val_size'],axis=1).melt(id_vars=['epoch','seed'])\n",
    "\n",
    "alt.Chart(source).mark_line().encode(\n",
    "    x='epoch',\n",
    "    y=alt.Y('value',title='Accuracy'),\n",
    "    color='variable',\n",
    "    column='seed'\n",
    ")"
   ]
  },
  {
   "cell_type": "markdown",
   "metadata": {},
   "source": [
    "#### Problem 2\n",
    "Run a similar experiment but vary the learning rate as below. Keep the seed constant (seed=0). What do the graphs tell you about the parameter ``n`` (i.e., $\\eta$)?"
   ]
  },
  {
   "cell_type": "code",
   "execution_count": 10,
   "metadata": {
    "tags": []
   },
   "outputs": [],
   "source": [
    "ns = [0.01,0.1]\n",
    "results = None\n",
    "#"
   ]
  },
  {
   "cell_type": "markdown",
   "metadata": {},
   "source": [
    "**Upload your solution/answer to Canvas.**"
   ]
  },
  {
   "cell_type": "code",
   "execution_count": 11,
   "metadata": {
    "tags": []
   },
   "outputs": [
    {
     "data": {
      "text/html": [
       "\n",
       "<style>\n",
       "  #altair-viz-533293f4ac8f4596849c20e2be9a3817.vega-embed {\n",
       "    width: 100%;\n",
       "    display: flex;\n",
       "  }\n",
       "\n",
       "  #altair-viz-533293f4ac8f4596849c20e2be9a3817.vega-embed details,\n",
       "  #altair-viz-533293f4ac8f4596849c20e2be9a3817.vega-embed details summary {\n",
       "    position: relative;\n",
       "  }\n",
       "</style>\n",
       "<div id=\"altair-viz-533293f4ac8f4596849c20e2be9a3817\"></div>\n",
       "<script type=\"text/javascript\">\n",
       "  var VEGA_DEBUG = (typeof VEGA_DEBUG == \"undefined\") ? {} : VEGA_DEBUG;\n",
       "  (function(spec, embedOpt){\n",
       "    let outputDiv = document.currentScript.previousElementSibling;\n",
       "    if (outputDiv.id !== \"altair-viz-533293f4ac8f4596849c20e2be9a3817\") {\n",
       "      outputDiv = document.getElementById(\"altair-viz-533293f4ac8f4596849c20e2be9a3817\");\n",
       "    }\n",
       "    const paths = {\n",
       "      \"vega\": \"https://cdn.jsdelivr.net/npm/vega@5?noext\",\n",
       "      \"vega-lib\": \"https://cdn.jsdelivr.net/npm/vega-lib?noext\",\n",
       "      \"vega-lite\": \"https://cdn.jsdelivr.net/npm/vega-lite@5.8.0?noext\",\n",
       "      \"vega-embed\": \"https://cdn.jsdelivr.net/npm/vega-embed@6?noext\",\n",
       "    };\n",
       "\n",
       "    function maybeLoadScript(lib, version) {\n",
       "      var key = `${lib.replace(\"-\", \"\")}_version`;\n",
       "      return (VEGA_DEBUG[key] == version) ?\n",
       "        Promise.resolve(paths[lib]) :\n",
       "        new Promise(function(resolve, reject) {\n",
       "          var s = document.createElement('script');\n",
       "          document.getElementsByTagName(\"head\")[0].appendChild(s);\n",
       "          s.async = true;\n",
       "          s.onload = () => {\n",
       "            VEGA_DEBUG[key] = version;\n",
       "            return resolve(paths[lib]);\n",
       "          };\n",
       "          s.onerror = () => reject(`Error loading script: ${paths[lib]}`);\n",
       "          s.src = paths[lib];\n",
       "        });\n",
       "    }\n",
       "\n",
       "    function showError(err) {\n",
       "      outputDiv.innerHTML = `<div class=\"error\" style=\"color:red;\">${err}</div>`;\n",
       "      throw err;\n",
       "    }\n",
       "\n",
       "    function displayChart(vegaEmbed) {\n",
       "      vegaEmbed(outputDiv, spec, embedOpt)\n",
       "        .catch(err => showError(`Javascript Error: ${err.message}<br>This usually means there's a typo in your chart specification. See the javascript console for the full traceback.`));\n",
       "    }\n",
       "\n",
       "    if(typeof define === \"function\" && define.amd) {\n",
       "      requirejs.config({paths});\n",
       "      require([\"vega-embed\"], displayChart, err => showError(`Error loading script: ${err.message}`));\n",
       "    } else {\n",
       "      maybeLoadScript(\"vega\", \"5\")\n",
       "        .then(() => maybeLoadScript(\"vega-lite\", \"5.8.0\"))\n",
       "        .then(() => maybeLoadScript(\"vega-embed\", \"6\"))\n",
       "        .catch(showError)\n",
       "        .then(() => displayChart(vegaEmbed));\n",
       "    }\n",
       "  })({\"config\": {\"view\": {\"continuousWidth\": 300, \"continuousHeight\": 300}}, \"data\": {\"name\": \"data-a579392de8c43aa476877a71948efe67\"}, \"mark\": {\"type\": \"line\"}, \"encoding\": {\"color\": {\"field\": \"variable\", \"type\": \"nominal\"}, \"column\": {\"field\": \"n\", \"type\": \"quantitative\"}, \"x\": {\"field\": \"epoch\", \"type\": \"quantitative\"}, \"y\": {\"field\": \"value\", \"title\": \"Accuracy\", \"type\": \"quantitative\"}}, \"$schema\": \"https://vega.github.io/schema/vega-lite/v5.8.0.json\", \"datasets\": {\"data-a579392de8c43aa476877a71948efe67\": [{\"epoch\": 1, \"n\": 0.01, \"variable\": \"train_accuracy\", \"value\": 0.4673469387755102}, {\"epoch\": 2, \"n\": 0.01, \"variable\": \"train_accuracy\", \"value\": 0.49387755102040815}, {\"epoch\": 3, \"n\": 0.01, \"variable\": \"train_accuracy\", \"value\": 0.5081632653061224}, {\"epoch\": 4, \"n\": 0.01, \"variable\": \"train_accuracy\", \"value\": 0.5183673469387755}, {\"epoch\": 5, \"n\": 0.01, \"variable\": \"train_accuracy\", \"value\": 0.5306122448979592}, {\"epoch\": 6, \"n\": 0.01, \"variable\": \"train_accuracy\", \"value\": 0.5489795918367347}, {\"epoch\": 7, \"n\": 0.01, \"variable\": \"train_accuracy\", \"value\": 0.6}, {\"epoch\": 8, \"n\": 0.01, \"variable\": \"train_accuracy\", \"value\": 0.6163265306122448}, {\"epoch\": 9, \"n\": 0.01, \"variable\": \"train_accuracy\", \"value\": 0.6326530612244898}, {\"epoch\": 10, \"n\": 0.01, \"variable\": \"train_accuracy\", \"value\": 0.6510204081632653}, {\"epoch\": 11, \"n\": 0.01, \"variable\": \"train_accuracy\", \"value\": 0.6551020408163265}, {\"epoch\": 12, \"n\": 0.01, \"variable\": \"train_accuracy\", \"value\": 0.6673469387755102}, {\"epoch\": 13, \"n\": 0.01, \"variable\": \"train_accuracy\", \"value\": 0.689795918367347}, {\"epoch\": 14, \"n\": 0.01, \"variable\": \"train_accuracy\", \"value\": 0.7020408163265306}, {\"epoch\": 15, \"n\": 0.01, \"variable\": \"train_accuracy\", \"value\": 0.7204081632653061}, {\"epoch\": 16, \"n\": 0.01, \"variable\": \"train_accuracy\", \"value\": 0.7408163265306122}, {\"epoch\": 17, \"n\": 0.01, \"variable\": \"train_accuracy\", \"value\": 0.7571428571428571}, {\"epoch\": 18, \"n\": 0.01, \"variable\": \"train_accuracy\", \"value\": 0.763265306122449}, {\"epoch\": 19, \"n\": 0.01, \"variable\": \"train_accuracy\", \"value\": 0.7653061224489796}, {\"epoch\": 20, \"n\": 0.01, \"variable\": \"train_accuracy\", \"value\": 0.7714285714285715}, {\"epoch\": 21, \"n\": 0.01, \"variable\": \"train_accuracy\", \"value\": 0.7795918367346939}, {\"epoch\": 22, \"n\": 0.01, \"variable\": \"train_accuracy\", \"value\": 0.7918367346938775}, {\"epoch\": 23, \"n\": 0.01, \"variable\": \"train_accuracy\", \"value\": 0.8}, {\"epoch\": 24, \"n\": 0.01, \"variable\": \"train_accuracy\", \"value\": 0.8}, {\"epoch\": 25, \"n\": 0.01, \"variable\": \"train_accuracy\", \"value\": 0.8040816326530612}, {\"epoch\": 26, \"n\": 0.01, \"variable\": \"train_accuracy\", \"value\": 0.8061224489795918}, {\"epoch\": 27, \"n\": 0.01, \"variable\": \"train_accuracy\", \"value\": 0.8081632653061225}, {\"epoch\": 28, \"n\": 0.01, \"variable\": \"train_accuracy\", \"value\": 0.8081632653061225}, {\"epoch\": 29, \"n\": 0.01, \"variable\": \"train_accuracy\", \"value\": 0.8040816326530612}, {\"epoch\": 30, \"n\": 0.01, \"variable\": \"train_accuracy\", \"value\": 0.8040816326530612}, {\"epoch\": 31, \"n\": 0.01, \"variable\": \"train_accuracy\", \"value\": 0.810204081632653}, {\"epoch\": 32, \"n\": 0.01, \"variable\": \"train_accuracy\", \"value\": 0.810204081632653}, {\"epoch\": 33, \"n\": 0.01, \"variable\": \"train_accuracy\", \"value\": 0.810204081632653}, {\"epoch\": 34, \"n\": 0.01, \"variable\": \"train_accuracy\", \"value\": 0.8142857142857143}, {\"epoch\": 35, \"n\": 0.01, \"variable\": \"train_accuracy\", \"value\": 0.8142857142857143}, {\"epoch\": 36, \"n\": 0.01, \"variable\": \"train_accuracy\", \"value\": 0.8163265306122449}, {\"epoch\": 37, \"n\": 0.01, \"variable\": \"train_accuracy\", \"value\": 0.8183673469387756}, {\"epoch\": 38, \"n\": 0.01, \"variable\": \"train_accuracy\", \"value\": 0.8204081632653061}, {\"epoch\": 39, \"n\": 0.01, \"variable\": \"train_accuracy\", \"value\": 0.8204081632653061}, {\"epoch\": 40, \"n\": 0.01, \"variable\": \"train_accuracy\", \"value\": 0.8224489795918367}, {\"epoch\": 41, \"n\": 0.01, \"variable\": \"train_accuracy\", \"value\": 0.8224489795918367}, {\"epoch\": 42, \"n\": 0.01, \"variable\": \"train_accuracy\", \"value\": 0.8244897959183674}, {\"epoch\": 43, \"n\": 0.01, \"variable\": \"train_accuracy\", \"value\": 0.826530612244898}, {\"epoch\": 44, \"n\": 0.01, \"variable\": \"train_accuracy\", \"value\": 0.8285714285714286}, {\"epoch\": 45, \"n\": 0.01, \"variable\": \"train_accuracy\", \"value\": 0.8285714285714286}, {\"epoch\": 46, \"n\": 0.01, \"variable\": \"train_accuracy\", \"value\": 0.8285714285714286}, {\"epoch\": 47, \"n\": 0.01, \"variable\": \"train_accuracy\", \"value\": 0.8326530612244898}, {\"epoch\": 48, \"n\": 0.01, \"variable\": \"train_accuracy\", \"value\": 0.8306122448979592}, {\"epoch\": 49, \"n\": 0.01, \"variable\": \"train_accuracy\", \"value\": 0.8306122448979592}, {\"epoch\": 50, \"n\": 0.01, \"variable\": \"train_accuracy\", \"value\": 0.8306122448979592}, {\"epoch\": 51, \"n\": 0.01, \"variable\": \"train_accuracy\", \"value\": 0.8306122448979592}, {\"epoch\": 52, \"n\": 0.01, \"variable\": \"train_accuracy\", \"value\": 0.8306122448979592}, {\"epoch\": 53, \"n\": 0.01, \"variable\": \"train_accuracy\", \"value\": 0.8306122448979592}, {\"epoch\": 54, \"n\": 0.01, \"variable\": \"train_accuracy\", \"value\": 0.8285714285714286}, {\"epoch\": 55, \"n\": 0.01, \"variable\": \"train_accuracy\", \"value\": 0.8285714285714286}, {\"epoch\": 56, \"n\": 0.01, \"variable\": \"train_accuracy\", \"value\": 0.8306122448979592}, {\"epoch\": 57, \"n\": 0.01, \"variable\": \"train_accuracy\", \"value\": 0.8306122448979592}, {\"epoch\": 58, \"n\": 0.01, \"variable\": \"train_accuracy\", \"value\": 0.8306122448979592}, {\"epoch\": 59, \"n\": 0.01, \"variable\": \"train_accuracy\", \"value\": 0.8285714285714286}, {\"epoch\": 60, \"n\": 0.01, \"variable\": \"train_accuracy\", \"value\": 0.8285714285714286}, {\"epoch\": 61, \"n\": 0.01, \"variable\": \"train_accuracy\", \"value\": 0.8285714285714286}, {\"epoch\": 62, \"n\": 0.01, \"variable\": \"train_accuracy\", \"value\": 0.8285714285714286}, {\"epoch\": 63, \"n\": 0.01, \"variable\": \"train_accuracy\", \"value\": 0.8285714285714286}, {\"epoch\": 64, \"n\": 0.01, \"variable\": \"train_accuracy\", \"value\": 0.8285714285714286}, {\"epoch\": 65, \"n\": 0.01, \"variable\": \"train_accuracy\", \"value\": 0.8285714285714286}, {\"epoch\": 66, \"n\": 0.01, \"variable\": \"train_accuracy\", \"value\": 0.8285714285714286}, {\"epoch\": 67, \"n\": 0.01, \"variable\": \"train_accuracy\", \"value\": 0.8285714285714286}, {\"epoch\": 68, \"n\": 0.01, \"variable\": \"train_accuracy\", \"value\": 0.8285714285714286}, {\"epoch\": 69, \"n\": 0.01, \"variable\": \"train_accuracy\", \"value\": 0.8285714285714286}, {\"epoch\": 70, \"n\": 0.01, \"variable\": \"train_accuracy\", \"value\": 0.8285714285714286}, {\"epoch\": 71, \"n\": 0.01, \"variable\": \"train_accuracy\", \"value\": 0.8285714285714286}, {\"epoch\": 72, \"n\": 0.01, \"variable\": \"train_accuracy\", \"value\": 0.8285714285714286}, {\"epoch\": 73, \"n\": 0.01, \"variable\": \"train_accuracy\", \"value\": 0.8285714285714286}, {\"epoch\": 74, \"n\": 0.01, \"variable\": \"train_accuracy\", \"value\": 0.8285714285714286}, {\"epoch\": 75, \"n\": 0.01, \"variable\": \"train_accuracy\", \"value\": 0.8285714285714286}, {\"epoch\": 76, \"n\": 0.01, \"variable\": \"train_accuracy\", \"value\": 0.8285714285714286}, {\"epoch\": 77, \"n\": 0.01, \"variable\": \"train_accuracy\", \"value\": 0.826530612244898}, {\"epoch\": 78, \"n\": 0.01, \"variable\": \"train_accuracy\", \"value\": 0.826530612244898}, {\"epoch\": 79, \"n\": 0.01, \"variable\": \"train_accuracy\", \"value\": 0.826530612244898}, {\"epoch\": 80, \"n\": 0.01, \"variable\": \"train_accuracy\", \"value\": 0.826530612244898}, {\"epoch\": 81, \"n\": 0.01, \"variable\": \"train_accuracy\", \"value\": 0.826530612244898}, {\"epoch\": 82, \"n\": 0.01, \"variable\": \"train_accuracy\", \"value\": 0.826530612244898}, {\"epoch\": 83, \"n\": 0.01, \"variable\": \"train_accuracy\", \"value\": 0.826530612244898}, {\"epoch\": 84, \"n\": 0.01, \"variable\": \"train_accuracy\", \"value\": 0.826530612244898}, {\"epoch\": 85, \"n\": 0.01, \"variable\": \"train_accuracy\", \"value\": 0.826530612244898}, {\"epoch\": 86, \"n\": 0.01, \"variable\": \"train_accuracy\", \"value\": 0.826530612244898}, {\"epoch\": 87, \"n\": 0.01, \"variable\": \"train_accuracy\", \"value\": 0.826530612244898}, {\"epoch\": 88, \"n\": 0.01, \"variable\": \"train_accuracy\", \"value\": 0.826530612244898}, {\"epoch\": 89, \"n\": 0.01, \"variable\": \"train_accuracy\", \"value\": 0.826530612244898}, {\"epoch\": 90, \"n\": 0.01, \"variable\": \"train_accuracy\", \"value\": 0.826530612244898}, {\"epoch\": 91, \"n\": 0.01, \"variable\": \"train_accuracy\", \"value\": 0.826530612244898}, {\"epoch\": 92, \"n\": 0.01, \"variable\": \"train_accuracy\", \"value\": 0.826530612244898}, {\"epoch\": 93, \"n\": 0.01, \"variable\": \"train_accuracy\", \"value\": 0.826530612244898}, {\"epoch\": 94, \"n\": 0.01, \"variable\": \"train_accuracy\", \"value\": 0.826530612244898}, {\"epoch\": 95, \"n\": 0.01, \"variable\": \"train_accuracy\", \"value\": 0.826530612244898}, {\"epoch\": 96, \"n\": 0.01, \"variable\": \"train_accuracy\", \"value\": 0.826530612244898}, {\"epoch\": 97, \"n\": 0.01, \"variable\": \"train_accuracy\", \"value\": 0.826530612244898}, {\"epoch\": 98, \"n\": 0.01, \"variable\": \"train_accuracy\", \"value\": 0.8285714285714286}, {\"epoch\": 99, \"n\": 0.01, \"variable\": \"train_accuracy\", \"value\": 0.8285714285714286}, {\"epoch\": 100, \"n\": 0.01, \"variable\": \"train_accuracy\", \"value\": 0.8285714285714286}, {\"epoch\": 101, \"n\": 0.01, \"variable\": \"train_accuracy\", \"value\": 0.8285714285714286}, {\"epoch\": 102, \"n\": 0.01, \"variable\": \"train_accuracy\", \"value\": 0.8285714285714286}, {\"epoch\": 103, \"n\": 0.01, \"variable\": \"train_accuracy\", \"value\": 0.8285714285714286}, {\"epoch\": 104, \"n\": 0.01, \"variable\": \"train_accuracy\", \"value\": 0.8285714285714286}, {\"epoch\": 105, \"n\": 0.01, \"variable\": \"train_accuracy\", \"value\": 0.8285714285714286}, {\"epoch\": 106, \"n\": 0.01, \"variable\": \"train_accuracy\", \"value\": 0.8285714285714286}, {\"epoch\": 107, \"n\": 0.01, \"variable\": \"train_accuracy\", \"value\": 0.8285714285714286}, {\"epoch\": 108, \"n\": 0.01, \"variable\": \"train_accuracy\", \"value\": 0.826530612244898}, {\"epoch\": 109, \"n\": 0.01, \"variable\": \"train_accuracy\", \"value\": 0.826530612244898}, {\"epoch\": 110, \"n\": 0.01, \"variable\": \"train_accuracy\", \"value\": 0.826530612244898}, {\"epoch\": 111, \"n\": 0.01, \"variable\": \"train_accuracy\", \"value\": 0.826530612244898}, {\"epoch\": 112, \"n\": 0.01, \"variable\": \"train_accuracy\", \"value\": 0.826530612244898}, {\"epoch\": 113, \"n\": 0.01, \"variable\": \"train_accuracy\", \"value\": 0.826530612244898}, {\"epoch\": 114, \"n\": 0.01, \"variable\": \"train_accuracy\", \"value\": 0.826530612244898}, {\"epoch\": 115, \"n\": 0.01, \"variable\": \"train_accuracy\", \"value\": 0.826530612244898}, {\"epoch\": 116, \"n\": 0.01, \"variable\": \"train_accuracy\", \"value\": 0.826530612244898}, {\"epoch\": 117, \"n\": 0.01, \"variable\": \"train_accuracy\", \"value\": 0.826530612244898}, {\"epoch\": 118, \"n\": 0.01, \"variable\": \"train_accuracy\", \"value\": 0.826530612244898}, {\"epoch\": 119, \"n\": 0.01, \"variable\": \"train_accuracy\", \"value\": 0.826530612244898}, {\"epoch\": 120, \"n\": 0.01, \"variable\": \"train_accuracy\", \"value\": 0.826530612244898}, {\"epoch\": 121, \"n\": 0.01, \"variable\": \"train_accuracy\", \"value\": 0.826530612244898}, {\"epoch\": 122, \"n\": 0.01, \"variable\": \"train_accuracy\", \"value\": 0.826530612244898}, {\"epoch\": 123, \"n\": 0.01, \"variable\": \"train_accuracy\", \"value\": 0.826530612244898}, {\"epoch\": 124, \"n\": 0.01, \"variable\": \"train_accuracy\", \"value\": 0.826530612244898}, {\"epoch\": 125, \"n\": 0.01, \"variable\": \"train_accuracy\", \"value\": 0.826530612244898}, {\"epoch\": 126, \"n\": 0.01, \"variable\": \"train_accuracy\", \"value\": 0.826530612244898}, {\"epoch\": 127, \"n\": 0.01, \"variable\": \"train_accuracy\", \"value\": 0.826530612244898}, {\"epoch\": 128, \"n\": 0.01, \"variable\": \"train_accuracy\", \"value\": 0.826530612244898}, {\"epoch\": 129, \"n\": 0.01, \"variable\": \"train_accuracy\", \"value\": 0.826530612244898}, {\"epoch\": 130, \"n\": 0.01, \"variable\": \"train_accuracy\", \"value\": 0.826530612244898}, {\"epoch\": 131, \"n\": 0.01, \"variable\": \"train_accuracy\", \"value\": 0.826530612244898}, {\"epoch\": 132, \"n\": 0.01, \"variable\": \"train_accuracy\", \"value\": 0.826530612244898}, {\"epoch\": 133, \"n\": 0.01, \"variable\": \"train_accuracy\", \"value\": 0.826530612244898}, {\"epoch\": 134, \"n\": 0.01, \"variable\": \"train_accuracy\", \"value\": 0.8285714285714286}, {\"epoch\": 135, \"n\": 0.01, \"variable\": \"train_accuracy\", \"value\": 0.8285714285714286}, {\"epoch\": 136, \"n\": 0.01, \"variable\": \"train_accuracy\", \"value\": 0.8285714285714286}, {\"epoch\": 137, \"n\": 0.01, \"variable\": \"train_accuracy\", \"value\": 0.8285714285714286}, {\"epoch\": 138, \"n\": 0.01, \"variable\": \"train_accuracy\", \"value\": 0.8306122448979592}, {\"epoch\": 139, \"n\": 0.01, \"variable\": \"train_accuracy\", \"value\": 0.8326530612244898}, {\"epoch\": 140, \"n\": 0.01, \"variable\": \"train_accuracy\", \"value\": 0.8326530612244898}, {\"epoch\": 141, \"n\": 0.01, \"variable\": \"train_accuracy\", \"value\": 0.8326530612244898}, {\"epoch\": 142, \"n\": 0.01, \"variable\": \"train_accuracy\", \"value\": 0.8326530612244898}, {\"epoch\": 143, \"n\": 0.01, \"variable\": \"train_accuracy\", \"value\": 0.8326530612244898}, {\"epoch\": 144, \"n\": 0.01, \"variable\": \"train_accuracy\", \"value\": 0.8326530612244898}, {\"epoch\": 145, \"n\": 0.01, \"variable\": \"train_accuracy\", \"value\": 0.8326530612244898}, {\"epoch\": 146, \"n\": 0.01, \"variable\": \"train_accuracy\", \"value\": 0.8326530612244898}, {\"epoch\": 147, \"n\": 0.01, \"variable\": \"train_accuracy\", \"value\": 0.8326530612244898}, {\"epoch\": 148, \"n\": 0.01, \"variable\": \"train_accuracy\", \"value\": 0.8326530612244898}, {\"epoch\": 149, \"n\": 0.01, \"variable\": \"train_accuracy\", \"value\": 0.8326530612244898}, {\"epoch\": 150, \"n\": 0.01, \"variable\": \"train_accuracy\", \"value\": 0.8326530612244898}, {\"epoch\": 151, \"n\": 0.01, \"variable\": \"train_accuracy\", \"value\": 0.8326530612244898}, {\"epoch\": 152, \"n\": 0.01, \"variable\": \"train_accuracy\", \"value\": 0.8326530612244898}, {\"epoch\": 153, \"n\": 0.01, \"variable\": \"train_accuracy\", \"value\": 0.8326530612244898}, {\"epoch\": 154, \"n\": 0.01, \"variable\": \"train_accuracy\", \"value\": 0.8326530612244898}, {\"epoch\": 155, \"n\": 0.01, \"variable\": \"train_accuracy\", \"value\": 0.8326530612244898}, {\"epoch\": 156, \"n\": 0.01, \"variable\": \"train_accuracy\", \"value\": 0.8326530612244898}, {\"epoch\": 157, \"n\": 0.01, \"variable\": \"train_accuracy\", \"value\": 0.8326530612244898}, {\"epoch\": 158, \"n\": 0.01, \"variable\": \"train_accuracy\", \"value\": 0.8326530612244898}, {\"epoch\": 159, \"n\": 0.01, \"variable\": \"train_accuracy\", \"value\": 0.8326530612244898}, {\"epoch\": 160, \"n\": 0.01, \"variable\": \"train_accuracy\", \"value\": 0.8326530612244898}, {\"epoch\": 161, \"n\": 0.01, \"variable\": \"train_accuracy\", \"value\": 0.8326530612244898}, {\"epoch\": 162, \"n\": 0.01, \"variable\": \"train_accuracy\", \"value\": 0.8326530612244898}, {\"epoch\": 163, \"n\": 0.01, \"variable\": \"train_accuracy\", \"value\": 0.8326530612244898}, {\"epoch\": 164, \"n\": 0.01, \"variable\": \"train_accuracy\", \"value\": 0.8326530612244898}, {\"epoch\": 165, \"n\": 0.01, \"variable\": \"train_accuracy\", \"value\": 0.8326530612244898}, {\"epoch\": 166, \"n\": 0.01, \"variable\": \"train_accuracy\", \"value\": 0.8326530612244898}, {\"epoch\": 167, \"n\": 0.01, \"variable\": \"train_accuracy\", \"value\": 0.8326530612244898}, {\"epoch\": 168, \"n\": 0.01, \"variable\": \"train_accuracy\", \"value\": 0.8326530612244898}, {\"epoch\": 169, \"n\": 0.01, \"variable\": \"train_accuracy\", \"value\": 0.8326530612244898}, {\"epoch\": 170, \"n\": 0.01, \"variable\": \"train_accuracy\", \"value\": 0.8326530612244898}, {\"epoch\": 171, \"n\": 0.01, \"variable\": \"train_accuracy\", \"value\": 0.8326530612244898}, {\"epoch\": 172, \"n\": 0.01, \"variable\": \"train_accuracy\", \"value\": 0.8326530612244898}, {\"epoch\": 173, \"n\": 0.01, \"variable\": \"train_accuracy\", \"value\": 0.8326530612244898}, {\"epoch\": 174, \"n\": 0.01, \"variable\": \"train_accuracy\", \"value\": 0.8326530612244898}, {\"epoch\": 175, \"n\": 0.01, \"variable\": \"train_accuracy\", \"value\": 0.8326530612244898}, {\"epoch\": 176, \"n\": 0.01, \"variable\": \"train_accuracy\", \"value\": 0.8326530612244898}, {\"epoch\": 177, \"n\": 0.01, \"variable\": \"train_accuracy\", \"value\": 0.8326530612244898}, {\"epoch\": 178, \"n\": 0.01, \"variable\": \"train_accuracy\", \"value\": 0.8326530612244898}, {\"epoch\": 179, \"n\": 0.01, \"variable\": \"train_accuracy\", \"value\": 0.8326530612244898}, {\"epoch\": 180, \"n\": 0.01, \"variable\": \"train_accuracy\", \"value\": 0.8326530612244898}, {\"epoch\": 181, \"n\": 0.01, \"variable\": \"train_accuracy\", \"value\": 0.8326530612244898}, {\"epoch\": 182, \"n\": 0.01, \"variable\": \"train_accuracy\", \"value\": 0.8326530612244898}, {\"epoch\": 183, \"n\": 0.01, \"variable\": \"train_accuracy\", \"value\": 0.8326530612244898}, {\"epoch\": 184, \"n\": 0.01, \"variable\": \"train_accuracy\", \"value\": 0.8326530612244898}, {\"epoch\": 185, \"n\": 0.01, \"variable\": \"train_accuracy\", \"value\": 0.8326530612244898}, {\"epoch\": 186, \"n\": 0.01, \"variable\": \"train_accuracy\", \"value\": 0.8326530612244898}, {\"epoch\": 187, \"n\": 0.01, \"variable\": \"train_accuracy\", \"value\": 0.8326530612244898}, {\"epoch\": 188, \"n\": 0.01, \"variable\": \"train_accuracy\", \"value\": 0.8326530612244898}, {\"epoch\": 189, \"n\": 0.01, \"variable\": \"train_accuracy\", \"value\": 0.8326530612244898}, {\"epoch\": 190, \"n\": 0.01, \"variable\": \"train_accuracy\", \"value\": 0.8326530612244898}, {\"epoch\": 191, \"n\": 0.01, \"variable\": \"train_accuracy\", \"value\": 0.8326530612244898}, {\"epoch\": 192, \"n\": 0.01, \"variable\": \"train_accuracy\", \"value\": 0.8326530612244898}, {\"epoch\": 193, \"n\": 0.01, \"variable\": \"train_accuracy\", \"value\": 0.8326530612244898}, {\"epoch\": 194, \"n\": 0.01, \"variable\": \"train_accuracy\", \"value\": 0.8326530612244898}, {\"epoch\": 195, \"n\": 0.01, \"variable\": \"train_accuracy\", \"value\": 0.8326530612244898}, {\"epoch\": 196, \"n\": 0.01, \"variable\": \"train_accuracy\", \"value\": 0.8326530612244898}, {\"epoch\": 197, \"n\": 0.01, \"variable\": \"train_accuracy\", \"value\": 0.8326530612244898}, {\"epoch\": 198, \"n\": 0.01, \"variable\": \"train_accuracy\", \"value\": 0.8326530612244898}, {\"epoch\": 199, \"n\": 0.01, \"variable\": \"train_accuracy\", \"value\": 0.8326530612244898}, {\"epoch\": 200, \"n\": 0.01, \"variable\": \"train_accuracy\", \"value\": 0.8326530612244898}, {\"epoch\": 1, \"n\": 0.1, \"variable\": \"train_accuracy\", \"value\": 0.4673469387755102}, {\"epoch\": 2, \"n\": 0.1, \"variable\": \"train_accuracy\", \"value\": 0.6061224489795919}, {\"epoch\": 3, \"n\": 0.1, \"variable\": \"train_accuracy\", \"value\": 0.6612244897959184}, {\"epoch\": 4, \"n\": 0.1, \"variable\": \"train_accuracy\", \"value\": 0.7204081632653061}, {\"epoch\": 5, \"n\": 0.1, \"variable\": \"train_accuracy\", \"value\": 0.7551020408163265}, {\"epoch\": 6, \"n\": 0.1, \"variable\": \"train_accuracy\", \"value\": 0.6510204081632653}, {\"epoch\": 7, \"n\": 0.1, \"variable\": \"train_accuracy\", \"value\": 0.6775510204081633}, {\"epoch\": 8, \"n\": 0.1, \"variable\": \"train_accuracy\", \"value\": 0.7306122448979592}, {\"epoch\": 9, \"n\": 0.1, \"variable\": \"train_accuracy\", \"value\": 0.7816326530612245}, {\"epoch\": 10, \"n\": 0.1, \"variable\": \"train_accuracy\", \"value\": 0.8163265306122449}, {\"epoch\": 11, \"n\": 0.1, \"variable\": \"train_accuracy\", \"value\": 0.8183673469387756}, {\"epoch\": 12, \"n\": 0.1, \"variable\": \"train_accuracy\", \"value\": 0.8142857142857143}, {\"epoch\": 13, \"n\": 0.1, \"variable\": \"train_accuracy\", \"value\": 0.8040816326530612}, {\"epoch\": 14, \"n\": 0.1, \"variable\": \"train_accuracy\", \"value\": 0.8061224489795918}, {\"epoch\": 15, \"n\": 0.1, \"variable\": \"train_accuracy\", \"value\": 0.8183673469387756}, {\"epoch\": 16, \"n\": 0.1, \"variable\": \"train_accuracy\", \"value\": 0.8142857142857143}, {\"epoch\": 17, \"n\": 0.1, \"variable\": \"train_accuracy\", \"value\": 0.8163265306122449}, {\"epoch\": 18, \"n\": 0.1, \"variable\": \"train_accuracy\", \"value\": 0.810204081632653}, {\"epoch\": 19, \"n\": 0.1, \"variable\": \"train_accuracy\", \"value\": 0.8061224489795918}, {\"epoch\": 20, \"n\": 0.1, \"variable\": \"train_accuracy\", \"value\": 0.8163265306122449}, {\"epoch\": 21, \"n\": 0.1, \"variable\": \"train_accuracy\", \"value\": 0.8183673469387756}, {\"epoch\": 22, \"n\": 0.1, \"variable\": \"train_accuracy\", \"value\": 0.8081632653061225}, {\"epoch\": 23, \"n\": 0.1, \"variable\": \"train_accuracy\", \"value\": 0.8081632653061225}, {\"epoch\": 24, \"n\": 0.1, \"variable\": \"train_accuracy\", \"value\": 0.8122448979591836}, {\"epoch\": 25, \"n\": 0.1, \"variable\": \"train_accuracy\", \"value\": 0.810204081632653}, {\"epoch\": 26, \"n\": 0.1, \"variable\": \"train_accuracy\", \"value\": 0.810204081632653}, {\"epoch\": 27, \"n\": 0.1, \"variable\": \"train_accuracy\", \"value\": 0.810204081632653}, {\"epoch\": 28, \"n\": 0.1, \"variable\": \"train_accuracy\", \"value\": 0.8142857142857143}, {\"epoch\": 29, \"n\": 0.1, \"variable\": \"train_accuracy\", \"value\": 0.810204081632653}, {\"epoch\": 30, \"n\": 0.1, \"variable\": \"train_accuracy\", \"value\": 0.8122448979591836}, {\"epoch\": 31, \"n\": 0.1, \"variable\": \"train_accuracy\", \"value\": 0.810204081632653}, {\"epoch\": 32, \"n\": 0.1, \"variable\": \"train_accuracy\", \"value\": 0.8142857142857143}, {\"epoch\": 33, \"n\": 0.1, \"variable\": \"train_accuracy\", \"value\": 0.8122448979591836}, {\"epoch\": 34, \"n\": 0.1, \"variable\": \"train_accuracy\", \"value\": 0.8142857142857143}, {\"epoch\": 35, \"n\": 0.1, \"variable\": \"train_accuracy\", \"value\": 0.8122448979591836}, {\"epoch\": 36, \"n\": 0.1, \"variable\": \"train_accuracy\", \"value\": 0.8183673469387756}, {\"epoch\": 37, \"n\": 0.1, \"variable\": \"train_accuracy\", \"value\": 0.8142857142857143}, {\"epoch\": 38, \"n\": 0.1, \"variable\": \"train_accuracy\", \"value\": 0.8224489795918367}, {\"epoch\": 39, \"n\": 0.1, \"variable\": \"train_accuracy\", \"value\": 0.8163265306122449}, {\"epoch\": 40, \"n\": 0.1, \"variable\": \"train_accuracy\", \"value\": 0.8244897959183674}, {\"epoch\": 41, \"n\": 0.1, \"variable\": \"train_accuracy\", \"value\": 0.8163265306122449}, {\"epoch\": 42, \"n\": 0.1, \"variable\": \"train_accuracy\", \"value\": 0.8244897959183674}, {\"epoch\": 43, \"n\": 0.1, \"variable\": \"train_accuracy\", \"value\": 0.8204081632653061}, {\"epoch\": 44, \"n\": 0.1, \"variable\": \"train_accuracy\", \"value\": 0.8244897959183674}, {\"epoch\": 45, \"n\": 0.1, \"variable\": \"train_accuracy\", \"value\": 0.8204081632653061}, {\"epoch\": 46, \"n\": 0.1, \"variable\": \"train_accuracy\", \"value\": 0.8244897959183674}, {\"epoch\": 47, \"n\": 0.1, \"variable\": \"train_accuracy\", \"value\": 0.8244897959183674}, {\"epoch\": 48, \"n\": 0.1, \"variable\": \"train_accuracy\", \"value\": 0.8244897959183674}, {\"epoch\": 49, \"n\": 0.1, \"variable\": \"train_accuracy\", \"value\": 0.8244897959183674}, {\"epoch\": 50, \"n\": 0.1, \"variable\": \"train_accuracy\", \"value\": 0.8224489795918367}, {\"epoch\": 51, \"n\": 0.1, \"variable\": \"train_accuracy\", \"value\": 0.8244897959183674}, {\"epoch\": 52, \"n\": 0.1, \"variable\": \"train_accuracy\", \"value\": 0.8224489795918367}, {\"epoch\": 53, \"n\": 0.1, \"variable\": \"train_accuracy\", \"value\": 0.8244897959183674}, {\"epoch\": 54, \"n\": 0.1, \"variable\": \"train_accuracy\", \"value\": 0.8224489795918367}, {\"epoch\": 55, \"n\": 0.1, \"variable\": \"train_accuracy\", \"value\": 0.8244897959183674}, {\"epoch\": 56, \"n\": 0.1, \"variable\": \"train_accuracy\", \"value\": 0.8224489795918367}, {\"epoch\": 57, \"n\": 0.1, \"variable\": \"train_accuracy\", \"value\": 0.8244897959183674}, {\"epoch\": 58, \"n\": 0.1, \"variable\": \"train_accuracy\", \"value\": 0.8224489795918367}, {\"epoch\": 59, \"n\": 0.1, \"variable\": \"train_accuracy\", \"value\": 0.8244897959183674}, {\"epoch\": 60, \"n\": 0.1, \"variable\": \"train_accuracy\", \"value\": 0.8224489795918367}, {\"epoch\": 61, \"n\": 0.1, \"variable\": \"train_accuracy\", \"value\": 0.8244897959183674}, {\"epoch\": 62, \"n\": 0.1, \"variable\": \"train_accuracy\", \"value\": 0.8224489795918367}, {\"epoch\": 63, \"n\": 0.1, \"variable\": \"train_accuracy\", \"value\": 0.8244897959183674}, {\"epoch\": 64, \"n\": 0.1, \"variable\": \"train_accuracy\", \"value\": 0.8224489795918367}, {\"epoch\": 65, \"n\": 0.1, \"variable\": \"train_accuracy\", \"value\": 0.8244897959183674}, {\"epoch\": 66, \"n\": 0.1, \"variable\": \"train_accuracy\", \"value\": 0.8224489795918367}, {\"epoch\": 67, \"n\": 0.1, \"variable\": \"train_accuracy\", \"value\": 0.8244897959183674}, {\"epoch\": 68, \"n\": 0.1, \"variable\": \"train_accuracy\", \"value\": 0.8224489795918367}, {\"epoch\": 69, \"n\": 0.1, \"variable\": \"train_accuracy\", \"value\": 0.8244897959183674}, {\"epoch\": 70, \"n\": 0.1, \"variable\": \"train_accuracy\", \"value\": 0.8224489795918367}, {\"epoch\": 71, \"n\": 0.1, \"variable\": \"train_accuracy\", \"value\": 0.826530612244898}, {\"epoch\": 72, \"n\": 0.1, \"variable\": \"train_accuracy\", \"value\": 0.8224489795918367}, {\"epoch\": 73, \"n\": 0.1, \"variable\": \"train_accuracy\", \"value\": 0.826530612244898}, {\"epoch\": 74, \"n\": 0.1, \"variable\": \"train_accuracy\", \"value\": 0.8244897959183674}, {\"epoch\": 75, \"n\": 0.1, \"variable\": \"train_accuracy\", \"value\": 0.826530612244898}, {\"epoch\": 76, \"n\": 0.1, \"variable\": \"train_accuracy\", \"value\": 0.8244897959183674}, {\"epoch\": 77, \"n\": 0.1, \"variable\": \"train_accuracy\", \"value\": 0.8244897959183674}, {\"epoch\": 78, \"n\": 0.1, \"variable\": \"train_accuracy\", \"value\": 0.8244897959183674}, {\"epoch\": 79, \"n\": 0.1, \"variable\": \"train_accuracy\", \"value\": 0.8244897959183674}, {\"epoch\": 80, \"n\": 0.1, \"variable\": \"train_accuracy\", \"value\": 0.826530612244898}, {\"epoch\": 81, \"n\": 0.1, \"variable\": \"train_accuracy\", \"value\": 0.826530612244898}, {\"epoch\": 82, \"n\": 0.1, \"variable\": \"train_accuracy\", \"value\": 0.826530612244898}, {\"epoch\": 83, \"n\": 0.1, \"variable\": \"train_accuracy\", \"value\": 0.826530612244898}, {\"epoch\": 84, \"n\": 0.1, \"variable\": \"train_accuracy\", \"value\": 0.826530612244898}, {\"epoch\": 85, \"n\": 0.1, \"variable\": \"train_accuracy\", \"value\": 0.826530612244898}, {\"epoch\": 86, \"n\": 0.1, \"variable\": \"train_accuracy\", \"value\": 0.826530612244898}, {\"epoch\": 87, \"n\": 0.1, \"variable\": \"train_accuracy\", \"value\": 0.826530612244898}, {\"epoch\": 88, \"n\": 0.1, \"variable\": \"train_accuracy\", \"value\": 0.826530612244898}, {\"epoch\": 89, \"n\": 0.1, \"variable\": \"train_accuracy\", \"value\": 0.826530612244898}, {\"epoch\": 90, \"n\": 0.1, \"variable\": \"train_accuracy\", \"value\": 0.826530612244898}, {\"epoch\": 91, \"n\": 0.1, \"variable\": \"train_accuracy\", \"value\": 0.826530612244898}, {\"epoch\": 92, \"n\": 0.1, \"variable\": \"train_accuracy\", \"value\": 0.826530612244898}, {\"epoch\": 93, \"n\": 0.1, \"variable\": \"train_accuracy\", \"value\": 0.826530612244898}, {\"epoch\": 94, \"n\": 0.1, \"variable\": \"train_accuracy\", \"value\": 0.826530612244898}, {\"epoch\": 95, \"n\": 0.1, \"variable\": \"train_accuracy\", \"value\": 0.826530612244898}, {\"epoch\": 96, \"n\": 0.1, \"variable\": \"train_accuracy\", \"value\": 0.826530612244898}, {\"epoch\": 97, \"n\": 0.1, \"variable\": \"train_accuracy\", \"value\": 0.826530612244898}, {\"epoch\": 98, \"n\": 0.1, \"variable\": \"train_accuracy\", \"value\": 0.826530612244898}, {\"epoch\": 99, \"n\": 0.1, \"variable\": \"train_accuracy\", \"value\": 0.826530612244898}, {\"epoch\": 100, \"n\": 0.1, \"variable\": \"train_accuracy\", \"value\": 0.826530612244898}, {\"epoch\": 101, \"n\": 0.1, \"variable\": \"train_accuracy\", \"value\": 0.826530612244898}, {\"epoch\": 102, \"n\": 0.1, \"variable\": \"train_accuracy\", \"value\": 0.826530612244898}, {\"epoch\": 103, \"n\": 0.1, \"variable\": \"train_accuracy\", \"value\": 0.826530612244898}, {\"epoch\": 104, \"n\": 0.1, \"variable\": \"train_accuracy\", \"value\": 0.826530612244898}, {\"epoch\": 105, \"n\": 0.1, \"variable\": \"train_accuracy\", \"value\": 0.826530612244898}, {\"epoch\": 106, \"n\": 0.1, \"variable\": \"train_accuracy\", \"value\": 0.826530612244898}, {\"epoch\": 107, \"n\": 0.1, \"variable\": \"train_accuracy\", \"value\": 0.826530612244898}, {\"epoch\": 108, \"n\": 0.1, \"variable\": \"train_accuracy\", \"value\": 0.826530612244898}, {\"epoch\": 109, \"n\": 0.1, \"variable\": \"train_accuracy\", \"value\": 0.826530612244898}, {\"epoch\": 110, \"n\": 0.1, \"variable\": \"train_accuracy\", \"value\": 0.826530612244898}, {\"epoch\": 111, \"n\": 0.1, \"variable\": \"train_accuracy\", \"value\": 0.826530612244898}, {\"epoch\": 112, \"n\": 0.1, \"variable\": \"train_accuracy\", \"value\": 0.826530612244898}, {\"epoch\": 113, \"n\": 0.1, \"variable\": \"train_accuracy\", \"value\": 0.826530612244898}, {\"epoch\": 114, \"n\": 0.1, \"variable\": \"train_accuracy\", \"value\": 0.826530612244898}, {\"epoch\": 115, \"n\": 0.1, \"variable\": \"train_accuracy\", \"value\": 0.826530612244898}, {\"epoch\": 116, \"n\": 0.1, \"variable\": \"train_accuracy\", \"value\": 0.826530612244898}, {\"epoch\": 117, \"n\": 0.1, \"variable\": \"train_accuracy\", \"value\": 0.826530612244898}, {\"epoch\": 118, \"n\": 0.1, \"variable\": \"train_accuracy\", \"value\": 0.826530612244898}, {\"epoch\": 119, \"n\": 0.1, \"variable\": \"train_accuracy\", \"value\": 0.826530612244898}, {\"epoch\": 120, \"n\": 0.1, \"variable\": \"train_accuracy\", \"value\": 0.8285714285714286}, {\"epoch\": 121, \"n\": 0.1, \"variable\": \"train_accuracy\", \"value\": 0.8285714285714286}, {\"epoch\": 122, \"n\": 0.1, \"variable\": \"train_accuracy\", \"value\": 0.8285714285714286}, {\"epoch\": 123, \"n\": 0.1, \"variable\": \"train_accuracy\", \"value\": 0.8285714285714286}, {\"epoch\": 124, \"n\": 0.1, \"variable\": \"train_accuracy\", \"value\": 0.8285714285714286}, {\"epoch\": 125, \"n\": 0.1, \"variable\": \"train_accuracy\", \"value\": 0.8285714285714286}, {\"epoch\": 126, \"n\": 0.1, \"variable\": \"train_accuracy\", \"value\": 0.8285714285714286}, {\"epoch\": 127, \"n\": 0.1, \"variable\": \"train_accuracy\", \"value\": 0.8285714285714286}, {\"epoch\": 128, \"n\": 0.1, \"variable\": \"train_accuracy\", \"value\": 0.8285714285714286}, {\"epoch\": 129, \"n\": 0.1, \"variable\": \"train_accuracy\", \"value\": 0.8285714285714286}, {\"epoch\": 130, \"n\": 0.1, \"variable\": \"train_accuracy\", \"value\": 0.8285714285714286}, {\"epoch\": 131, \"n\": 0.1, \"variable\": \"train_accuracy\", \"value\": 0.8285714285714286}, {\"epoch\": 132, \"n\": 0.1, \"variable\": \"train_accuracy\", \"value\": 0.8285714285714286}, {\"epoch\": 133, \"n\": 0.1, \"variable\": \"train_accuracy\", \"value\": 0.8285714285714286}, {\"epoch\": 134, \"n\": 0.1, \"variable\": \"train_accuracy\", \"value\": 0.8285714285714286}, {\"epoch\": 135, \"n\": 0.1, \"variable\": \"train_accuracy\", \"value\": 0.8285714285714286}, {\"epoch\": 136, \"n\": 0.1, \"variable\": \"train_accuracy\", \"value\": 0.8285714285714286}, {\"epoch\": 137, \"n\": 0.1, \"variable\": \"train_accuracy\", \"value\": 0.8285714285714286}, {\"epoch\": 138, \"n\": 0.1, \"variable\": \"train_accuracy\", \"value\": 0.8285714285714286}, {\"epoch\": 139, \"n\": 0.1, \"variable\": \"train_accuracy\", \"value\": 0.8285714285714286}, {\"epoch\": 140, \"n\": 0.1, \"variable\": \"train_accuracy\", \"value\": 0.8285714285714286}, {\"epoch\": 141, \"n\": 0.1, \"variable\": \"train_accuracy\", \"value\": 0.8285714285714286}, {\"epoch\": 142, \"n\": 0.1, \"variable\": \"train_accuracy\", \"value\": 0.8306122448979592}, {\"epoch\": 143, \"n\": 0.1, \"variable\": \"train_accuracy\", \"value\": 0.8306122448979592}, {\"epoch\": 144, \"n\": 0.1, \"variable\": \"train_accuracy\", \"value\": 0.8306122448979592}, {\"epoch\": 145, \"n\": 0.1, \"variable\": \"train_accuracy\", \"value\": 0.8306122448979592}, {\"epoch\": 146, \"n\": 0.1, \"variable\": \"train_accuracy\", \"value\": 0.8306122448979592}, {\"epoch\": 147, \"n\": 0.1, \"variable\": \"train_accuracy\", \"value\": 0.8306122448979592}, {\"epoch\": 148, \"n\": 0.1, \"variable\": \"train_accuracy\", \"value\": 0.8306122448979592}, {\"epoch\": 149, \"n\": 0.1, \"variable\": \"train_accuracy\", \"value\": 0.8306122448979592}, {\"epoch\": 150, \"n\": 0.1, \"variable\": \"train_accuracy\", \"value\": 0.8306122448979592}, {\"epoch\": 151, \"n\": 0.1, \"variable\": \"train_accuracy\", \"value\": 0.8306122448979592}, {\"epoch\": 152, \"n\": 0.1, \"variable\": \"train_accuracy\", \"value\": 0.8306122448979592}, {\"epoch\": 153, \"n\": 0.1, \"variable\": \"train_accuracy\", \"value\": 0.8306122448979592}, {\"epoch\": 154, \"n\": 0.1, \"variable\": \"train_accuracy\", \"value\": 0.8306122448979592}, {\"epoch\": 155, \"n\": 0.1, \"variable\": \"train_accuracy\", \"value\": 0.8306122448979592}, {\"epoch\": 156, \"n\": 0.1, \"variable\": \"train_accuracy\", \"value\": 0.8306122448979592}, {\"epoch\": 157, \"n\": 0.1, \"variable\": \"train_accuracy\", \"value\": 0.8306122448979592}, {\"epoch\": 158, \"n\": 0.1, \"variable\": \"train_accuracy\", \"value\": 0.8306122448979592}, {\"epoch\": 159, \"n\": 0.1, \"variable\": \"train_accuracy\", \"value\": 0.8306122448979592}, {\"epoch\": 160, \"n\": 0.1, \"variable\": \"train_accuracy\", \"value\": 0.8306122448979592}, {\"epoch\": 161, \"n\": 0.1, \"variable\": \"train_accuracy\", \"value\": 0.8306122448979592}, {\"epoch\": 162, \"n\": 0.1, \"variable\": \"train_accuracy\", \"value\": 0.8306122448979592}, {\"epoch\": 163, \"n\": 0.1, \"variable\": \"train_accuracy\", \"value\": 0.8306122448979592}, {\"epoch\": 164, \"n\": 0.1, \"variable\": \"train_accuracy\", \"value\": 0.8306122448979592}, {\"epoch\": 165, \"n\": 0.1, \"variable\": \"train_accuracy\", \"value\": 0.8306122448979592}, {\"epoch\": 166, \"n\": 0.1, \"variable\": \"train_accuracy\", \"value\": 0.8306122448979592}, {\"epoch\": 167, \"n\": 0.1, \"variable\": \"train_accuracy\", \"value\": 0.8306122448979592}, {\"epoch\": 168, \"n\": 0.1, \"variable\": \"train_accuracy\", \"value\": 0.8306122448979592}, {\"epoch\": 169, \"n\": 0.1, \"variable\": \"train_accuracy\", \"value\": 0.8306122448979592}, {\"epoch\": 170, \"n\": 0.1, \"variable\": \"train_accuracy\", \"value\": 0.8306122448979592}, {\"epoch\": 171, \"n\": 0.1, \"variable\": \"train_accuracy\", \"value\": 0.8306122448979592}, {\"epoch\": 172, \"n\": 0.1, \"variable\": \"train_accuracy\", \"value\": 0.8306122448979592}, {\"epoch\": 173, \"n\": 0.1, \"variable\": \"train_accuracy\", \"value\": 0.8306122448979592}, {\"epoch\": 174, \"n\": 0.1, \"variable\": \"train_accuracy\", \"value\": 0.8306122448979592}, {\"epoch\": 175, \"n\": 0.1, \"variable\": \"train_accuracy\", \"value\": 0.8306122448979592}, {\"epoch\": 176, \"n\": 0.1, \"variable\": \"train_accuracy\", \"value\": 0.8306122448979592}, {\"epoch\": 177, \"n\": 0.1, \"variable\": \"train_accuracy\", \"value\": 0.8306122448979592}, {\"epoch\": 178, \"n\": 0.1, \"variable\": \"train_accuracy\", \"value\": 0.8306122448979592}, {\"epoch\": 179, \"n\": 0.1, \"variable\": \"train_accuracy\", \"value\": 0.8306122448979592}, {\"epoch\": 180, \"n\": 0.1, \"variable\": \"train_accuracy\", \"value\": 0.8306122448979592}, {\"epoch\": 181, \"n\": 0.1, \"variable\": \"train_accuracy\", \"value\": 0.8306122448979592}, {\"epoch\": 182, \"n\": 0.1, \"variable\": \"train_accuracy\", \"value\": 0.8306122448979592}, {\"epoch\": 183, \"n\": 0.1, \"variable\": \"train_accuracy\", \"value\": 0.8306122448979592}, {\"epoch\": 184, \"n\": 0.1, \"variable\": \"train_accuracy\", \"value\": 0.8306122448979592}, {\"epoch\": 185, \"n\": 0.1, \"variable\": \"train_accuracy\", \"value\": 0.8306122448979592}, {\"epoch\": 186, \"n\": 0.1, \"variable\": \"train_accuracy\", \"value\": 0.8306122448979592}, {\"epoch\": 187, \"n\": 0.1, \"variable\": \"train_accuracy\", \"value\": 0.8306122448979592}, {\"epoch\": 188, \"n\": 0.1, \"variable\": \"train_accuracy\", \"value\": 0.8306122448979592}, {\"epoch\": 189, \"n\": 0.1, \"variable\": \"train_accuracy\", \"value\": 0.8306122448979592}, {\"epoch\": 190, \"n\": 0.1, \"variable\": \"train_accuracy\", \"value\": 0.8306122448979592}, {\"epoch\": 191, \"n\": 0.1, \"variable\": \"train_accuracy\", \"value\": 0.8306122448979592}, {\"epoch\": 192, \"n\": 0.1, \"variable\": \"train_accuracy\", \"value\": 0.8306122448979592}, {\"epoch\": 193, \"n\": 0.1, \"variable\": \"train_accuracy\", \"value\": 0.8306122448979592}, {\"epoch\": 194, \"n\": 0.1, \"variable\": \"train_accuracy\", \"value\": 0.8306122448979592}, {\"epoch\": 195, \"n\": 0.1, \"variable\": \"train_accuracy\", \"value\": 0.8306122448979592}, {\"epoch\": 196, \"n\": 0.1, \"variable\": \"train_accuracy\", \"value\": 0.8306122448979592}, {\"epoch\": 197, \"n\": 0.1, \"variable\": \"train_accuracy\", \"value\": 0.8306122448979592}, {\"epoch\": 198, \"n\": 0.1, \"variable\": \"train_accuracy\", \"value\": 0.8306122448979592}, {\"epoch\": 199, \"n\": 0.1, \"variable\": \"train_accuracy\", \"value\": 0.8306122448979592}, {\"epoch\": 200, \"n\": 0.1, \"variable\": \"train_accuracy\", \"value\": 0.8306122448979592}, {\"epoch\": 1, \"n\": 0.01, \"variable\": \"val_accuracy\", \"value\": 0.4238095238095238}, {\"epoch\": 2, \"n\": 0.01, \"variable\": \"val_accuracy\", \"value\": 0.4380952380952381}, {\"epoch\": 3, \"n\": 0.01, \"variable\": \"val_accuracy\", \"value\": 0.44285714285714284}, {\"epoch\": 4, \"n\": 0.01, \"variable\": \"val_accuracy\", \"value\": 0.44761904761904764}, {\"epoch\": 5, \"n\": 0.01, \"variable\": \"val_accuracy\", \"value\": 0.4666666666666667}, {\"epoch\": 6, \"n\": 0.01, \"variable\": \"val_accuracy\", \"value\": 0.4666666666666667}, {\"epoch\": 7, \"n\": 0.01, \"variable\": \"val_accuracy\", \"value\": 0.4857142857142857}, {\"epoch\": 8, \"n\": 0.01, \"variable\": \"val_accuracy\", \"value\": 0.48095238095238096}, {\"epoch\": 9, \"n\": 0.01, \"variable\": \"val_accuracy\", \"value\": 0.49047619047619045}, {\"epoch\": 10, \"n\": 0.01, \"variable\": \"val_accuracy\", \"value\": 0.5}, {\"epoch\": 11, \"n\": 0.01, \"variable\": \"val_accuracy\", \"value\": 0.5238095238095238}, {\"epoch\": 12, \"n\": 0.01, \"variable\": \"val_accuracy\", \"value\": 0.5428571428571428}, {\"epoch\": 13, \"n\": 0.01, \"variable\": \"val_accuracy\", \"value\": 0.580952380952381}, {\"epoch\": 14, \"n\": 0.01, \"variable\": \"val_accuracy\", \"value\": 0.5857142857142857}, {\"epoch\": 15, \"n\": 0.01, \"variable\": \"val_accuracy\", \"value\": 0.6}, {\"epoch\": 16, \"n\": 0.01, \"variable\": \"val_accuracy\", \"value\": 0.6190476190476191}, {\"epoch\": 17, \"n\": 0.01, \"variable\": \"val_accuracy\", \"value\": 0.6333333333333333}, {\"epoch\": 18, \"n\": 0.01, \"variable\": \"val_accuracy\", \"value\": 0.6523809523809524}, {\"epoch\": 19, \"n\": 0.01, \"variable\": \"val_accuracy\", \"value\": 0.6761904761904762}, {\"epoch\": 20, \"n\": 0.01, \"variable\": \"val_accuracy\", \"value\": 0.7142857142857143}, {\"epoch\": 21, \"n\": 0.01, \"variable\": \"val_accuracy\", \"value\": 0.7238095238095238}, {\"epoch\": 22, \"n\": 0.01, \"variable\": \"val_accuracy\", \"value\": 0.7380952380952381}, {\"epoch\": 23, \"n\": 0.01, \"variable\": \"val_accuracy\", \"value\": 0.7428571428571429}, {\"epoch\": 24, \"n\": 0.01, \"variable\": \"val_accuracy\", \"value\": 0.7666666666666667}, {\"epoch\": 25, \"n\": 0.01, \"variable\": \"val_accuracy\", \"value\": 0.7714285714285715}, {\"epoch\": 26, \"n\": 0.01, \"variable\": \"val_accuracy\", \"value\": 0.7714285714285715}, {\"epoch\": 27, \"n\": 0.01, \"variable\": \"val_accuracy\", \"value\": 0.7761904761904762}, {\"epoch\": 28, \"n\": 0.01, \"variable\": \"val_accuracy\", \"value\": 0.7714285714285715}, {\"epoch\": 29, \"n\": 0.01, \"variable\": \"val_accuracy\", \"value\": 0.780952380952381}, {\"epoch\": 30, \"n\": 0.01, \"variable\": \"val_accuracy\", \"value\": 0.7904761904761904}, {\"epoch\": 31, \"n\": 0.01, \"variable\": \"val_accuracy\", \"value\": 0.7952380952380952}, {\"epoch\": 32, \"n\": 0.01, \"variable\": \"val_accuracy\", \"value\": 0.7904761904761904}, {\"epoch\": 33, \"n\": 0.01, \"variable\": \"val_accuracy\", \"value\": 0.7952380952380952}, {\"epoch\": 34, \"n\": 0.01, \"variable\": \"val_accuracy\", \"value\": 0.7904761904761904}, {\"epoch\": 35, \"n\": 0.01, \"variable\": \"val_accuracy\", \"value\": 0.7904761904761904}, {\"epoch\": 36, \"n\": 0.01, \"variable\": \"val_accuracy\", \"value\": 0.7952380952380952}, {\"epoch\": 37, \"n\": 0.01, \"variable\": \"val_accuracy\", \"value\": 0.7952380952380952}, {\"epoch\": 38, \"n\": 0.01, \"variable\": \"val_accuracy\", \"value\": 0.7952380952380952}, {\"epoch\": 39, \"n\": 0.01, \"variable\": \"val_accuracy\", \"value\": 0.7904761904761904}, {\"epoch\": 40, \"n\": 0.01, \"variable\": \"val_accuracy\", \"value\": 0.7904761904761904}, {\"epoch\": 41, \"n\": 0.01, \"variable\": \"val_accuracy\", \"value\": 0.7857142857142857}, {\"epoch\": 42, \"n\": 0.01, \"variable\": \"val_accuracy\", \"value\": 0.7857142857142857}, {\"epoch\": 43, \"n\": 0.01, \"variable\": \"val_accuracy\", \"value\": 0.7904761904761904}, {\"epoch\": 44, \"n\": 0.01, \"variable\": \"val_accuracy\", \"value\": 0.7904761904761904}, {\"epoch\": 45, \"n\": 0.01, \"variable\": \"val_accuracy\", \"value\": 0.7904761904761904}, {\"epoch\": 46, \"n\": 0.01, \"variable\": \"val_accuracy\", \"value\": 0.7952380952380952}, {\"epoch\": 47, \"n\": 0.01, \"variable\": \"val_accuracy\", \"value\": 0.7904761904761904}, {\"epoch\": 48, \"n\": 0.01, \"variable\": \"val_accuracy\", \"value\": 0.7904761904761904}, {\"epoch\": 49, \"n\": 0.01, \"variable\": \"val_accuracy\", \"value\": 0.7904761904761904}, {\"epoch\": 50, \"n\": 0.01, \"variable\": \"val_accuracy\", \"value\": 0.7952380952380952}, {\"epoch\": 51, \"n\": 0.01, \"variable\": \"val_accuracy\", \"value\": 0.7952380952380952}, {\"epoch\": 52, \"n\": 0.01, \"variable\": \"val_accuracy\", \"value\": 0.7904761904761904}, {\"epoch\": 53, \"n\": 0.01, \"variable\": \"val_accuracy\", \"value\": 0.7904761904761904}, {\"epoch\": 54, \"n\": 0.01, \"variable\": \"val_accuracy\", \"value\": 0.7904761904761904}, {\"epoch\": 55, \"n\": 0.01, \"variable\": \"val_accuracy\", \"value\": 0.7904761904761904}, {\"epoch\": 56, \"n\": 0.01, \"variable\": \"val_accuracy\", \"value\": 0.7904761904761904}, {\"epoch\": 57, \"n\": 0.01, \"variable\": \"val_accuracy\", \"value\": 0.7904761904761904}, {\"epoch\": 58, \"n\": 0.01, \"variable\": \"val_accuracy\", \"value\": 0.7904761904761904}, {\"epoch\": 59, \"n\": 0.01, \"variable\": \"val_accuracy\", \"value\": 0.7904761904761904}, {\"epoch\": 60, \"n\": 0.01, \"variable\": \"val_accuracy\", \"value\": 0.7904761904761904}, {\"epoch\": 61, \"n\": 0.01, \"variable\": \"val_accuracy\", \"value\": 0.7857142857142857}, {\"epoch\": 62, \"n\": 0.01, \"variable\": \"val_accuracy\", \"value\": 0.7857142857142857}, {\"epoch\": 63, \"n\": 0.01, \"variable\": \"val_accuracy\", \"value\": 0.7857142857142857}, {\"epoch\": 64, \"n\": 0.01, \"variable\": \"val_accuracy\", \"value\": 0.7857142857142857}, {\"epoch\": 65, \"n\": 0.01, \"variable\": \"val_accuracy\", \"value\": 0.7857142857142857}, {\"epoch\": 66, \"n\": 0.01, \"variable\": \"val_accuracy\", \"value\": 0.7904761904761904}, {\"epoch\": 67, \"n\": 0.01, \"variable\": \"val_accuracy\", \"value\": 0.7904761904761904}, {\"epoch\": 68, \"n\": 0.01, \"variable\": \"val_accuracy\", \"value\": 0.7904761904761904}, {\"epoch\": 69, \"n\": 0.01, \"variable\": \"val_accuracy\", \"value\": 0.7904761904761904}, {\"epoch\": 70, \"n\": 0.01, \"variable\": \"val_accuracy\", \"value\": 0.7904761904761904}, {\"epoch\": 71, \"n\": 0.01, \"variable\": \"val_accuracy\", \"value\": 0.7904761904761904}, {\"epoch\": 72, \"n\": 0.01, \"variable\": \"val_accuracy\", \"value\": 0.7904761904761904}, {\"epoch\": 73, \"n\": 0.01, \"variable\": \"val_accuracy\", \"value\": 0.7904761904761904}, {\"epoch\": 74, \"n\": 0.01, \"variable\": \"val_accuracy\", \"value\": 0.7904761904761904}, {\"epoch\": 75, \"n\": 0.01, \"variable\": \"val_accuracy\", \"value\": 0.7904761904761904}, {\"epoch\": 76, \"n\": 0.01, \"variable\": \"val_accuracy\", \"value\": 0.7904761904761904}, {\"epoch\": 77, \"n\": 0.01, \"variable\": \"val_accuracy\", \"value\": 0.7904761904761904}, {\"epoch\": 78, \"n\": 0.01, \"variable\": \"val_accuracy\", \"value\": 0.7904761904761904}, {\"epoch\": 79, \"n\": 0.01, \"variable\": \"val_accuracy\", \"value\": 0.7904761904761904}, {\"epoch\": 80, \"n\": 0.01, \"variable\": \"val_accuracy\", \"value\": 0.7904761904761904}, {\"epoch\": 81, \"n\": 0.01, \"variable\": \"val_accuracy\", \"value\": 0.7904761904761904}, {\"epoch\": 82, \"n\": 0.01, \"variable\": \"val_accuracy\", \"value\": 0.7904761904761904}, {\"epoch\": 83, \"n\": 0.01, \"variable\": \"val_accuracy\", \"value\": 0.7904761904761904}, {\"epoch\": 84, \"n\": 0.01, \"variable\": \"val_accuracy\", \"value\": 0.7904761904761904}, {\"epoch\": 85, \"n\": 0.01, \"variable\": \"val_accuracy\", \"value\": 0.7904761904761904}, {\"epoch\": 86, \"n\": 0.01, \"variable\": \"val_accuracy\", \"value\": 0.7904761904761904}, {\"epoch\": 87, \"n\": 0.01, \"variable\": \"val_accuracy\", \"value\": 0.7904761904761904}, {\"epoch\": 88, \"n\": 0.01, \"variable\": \"val_accuracy\", \"value\": 0.7904761904761904}, {\"epoch\": 89, \"n\": 0.01, \"variable\": \"val_accuracy\", \"value\": 0.7904761904761904}, {\"epoch\": 90, \"n\": 0.01, \"variable\": \"val_accuracy\", \"value\": 0.7904761904761904}, {\"epoch\": 91, \"n\": 0.01, \"variable\": \"val_accuracy\", \"value\": 0.7904761904761904}, {\"epoch\": 92, \"n\": 0.01, \"variable\": \"val_accuracy\", \"value\": 0.7904761904761904}, {\"epoch\": 93, \"n\": 0.01, \"variable\": \"val_accuracy\", \"value\": 0.7904761904761904}, {\"epoch\": 94, \"n\": 0.01, \"variable\": \"val_accuracy\", \"value\": 0.7904761904761904}, {\"epoch\": 95, \"n\": 0.01, \"variable\": \"val_accuracy\", \"value\": 0.7904761904761904}, {\"epoch\": 96, \"n\": 0.01, \"variable\": \"val_accuracy\", \"value\": 0.7904761904761904}, {\"epoch\": 97, \"n\": 0.01, \"variable\": \"val_accuracy\", \"value\": 0.7904761904761904}, {\"epoch\": 98, \"n\": 0.01, \"variable\": \"val_accuracy\", \"value\": 0.7904761904761904}, {\"epoch\": 99, \"n\": 0.01, \"variable\": \"val_accuracy\", \"value\": 0.7904761904761904}, {\"epoch\": 100, \"n\": 0.01, \"variable\": \"val_accuracy\", \"value\": 0.7904761904761904}, {\"epoch\": 101, \"n\": 0.01, \"variable\": \"val_accuracy\", \"value\": 0.7904761904761904}, {\"epoch\": 102, \"n\": 0.01, \"variable\": \"val_accuracy\", \"value\": 0.7904761904761904}, {\"epoch\": 103, \"n\": 0.01, \"variable\": \"val_accuracy\", \"value\": 0.7904761904761904}, {\"epoch\": 104, \"n\": 0.01, \"variable\": \"val_accuracy\", \"value\": 0.7904761904761904}, {\"epoch\": 105, \"n\": 0.01, \"variable\": \"val_accuracy\", \"value\": 0.7904761904761904}, {\"epoch\": 106, \"n\": 0.01, \"variable\": \"val_accuracy\", \"value\": 0.7904761904761904}, {\"epoch\": 107, \"n\": 0.01, \"variable\": \"val_accuracy\", \"value\": 0.7904761904761904}, {\"epoch\": 108, \"n\": 0.01, \"variable\": \"val_accuracy\", \"value\": 0.7904761904761904}, {\"epoch\": 109, \"n\": 0.01, \"variable\": \"val_accuracy\", \"value\": 0.7904761904761904}, {\"epoch\": 110, \"n\": 0.01, \"variable\": \"val_accuracy\", \"value\": 0.7904761904761904}, {\"epoch\": 111, \"n\": 0.01, \"variable\": \"val_accuracy\", \"value\": 0.7904761904761904}, {\"epoch\": 112, \"n\": 0.01, \"variable\": \"val_accuracy\", \"value\": 0.7904761904761904}, {\"epoch\": 113, \"n\": 0.01, \"variable\": \"val_accuracy\", \"value\": 0.7904761904761904}, {\"epoch\": 114, \"n\": 0.01, \"variable\": \"val_accuracy\", \"value\": 0.7904761904761904}, {\"epoch\": 115, \"n\": 0.01, \"variable\": \"val_accuracy\", \"value\": 0.7904761904761904}, {\"epoch\": 116, \"n\": 0.01, \"variable\": \"val_accuracy\", \"value\": 0.7857142857142857}, {\"epoch\": 117, \"n\": 0.01, \"variable\": \"val_accuracy\", \"value\": 0.7857142857142857}, {\"epoch\": 118, \"n\": 0.01, \"variable\": \"val_accuracy\", \"value\": 0.7857142857142857}, {\"epoch\": 119, \"n\": 0.01, \"variable\": \"val_accuracy\", \"value\": 0.7857142857142857}, {\"epoch\": 120, \"n\": 0.01, \"variable\": \"val_accuracy\", \"value\": 0.7857142857142857}, {\"epoch\": 121, \"n\": 0.01, \"variable\": \"val_accuracy\", \"value\": 0.7857142857142857}, {\"epoch\": 122, \"n\": 0.01, \"variable\": \"val_accuracy\", \"value\": 0.7857142857142857}, {\"epoch\": 123, \"n\": 0.01, \"variable\": \"val_accuracy\", \"value\": 0.7857142857142857}, {\"epoch\": 124, \"n\": 0.01, \"variable\": \"val_accuracy\", \"value\": 0.7857142857142857}, {\"epoch\": 125, \"n\": 0.01, \"variable\": \"val_accuracy\", \"value\": 0.7857142857142857}, {\"epoch\": 126, \"n\": 0.01, \"variable\": \"val_accuracy\", \"value\": 0.7857142857142857}, {\"epoch\": 127, \"n\": 0.01, \"variable\": \"val_accuracy\", \"value\": 0.7857142857142857}, {\"epoch\": 128, \"n\": 0.01, \"variable\": \"val_accuracy\", \"value\": 0.7857142857142857}, {\"epoch\": 129, \"n\": 0.01, \"variable\": \"val_accuracy\", \"value\": 0.7857142857142857}, {\"epoch\": 130, \"n\": 0.01, \"variable\": \"val_accuracy\", \"value\": 0.7857142857142857}, {\"epoch\": 131, \"n\": 0.01, \"variable\": \"val_accuracy\", \"value\": 0.7857142857142857}, {\"epoch\": 132, \"n\": 0.01, \"variable\": \"val_accuracy\", \"value\": 0.7857142857142857}, {\"epoch\": 133, \"n\": 0.01, \"variable\": \"val_accuracy\", \"value\": 0.7857142857142857}, {\"epoch\": 134, \"n\": 0.01, \"variable\": \"val_accuracy\", \"value\": 0.7857142857142857}, {\"epoch\": 135, \"n\": 0.01, \"variable\": \"val_accuracy\", \"value\": 0.7857142857142857}, {\"epoch\": 136, \"n\": 0.01, \"variable\": \"val_accuracy\", \"value\": 0.7857142857142857}, {\"epoch\": 137, \"n\": 0.01, \"variable\": \"val_accuracy\", \"value\": 0.7857142857142857}, {\"epoch\": 138, \"n\": 0.01, \"variable\": \"val_accuracy\", \"value\": 0.7857142857142857}, {\"epoch\": 139, \"n\": 0.01, \"variable\": \"val_accuracy\", \"value\": 0.7857142857142857}, {\"epoch\": 140, \"n\": 0.01, \"variable\": \"val_accuracy\", \"value\": 0.7857142857142857}, {\"epoch\": 141, \"n\": 0.01, \"variable\": \"val_accuracy\", \"value\": 0.7857142857142857}, {\"epoch\": 142, \"n\": 0.01, \"variable\": \"val_accuracy\", \"value\": 0.7857142857142857}, {\"epoch\": 143, \"n\": 0.01, \"variable\": \"val_accuracy\", \"value\": 0.7857142857142857}, {\"epoch\": 144, \"n\": 0.01, \"variable\": \"val_accuracy\", \"value\": 0.7857142857142857}, {\"epoch\": 145, \"n\": 0.01, \"variable\": \"val_accuracy\", \"value\": 0.7857142857142857}, {\"epoch\": 146, \"n\": 0.01, \"variable\": \"val_accuracy\", \"value\": 0.7857142857142857}, {\"epoch\": 147, \"n\": 0.01, \"variable\": \"val_accuracy\", \"value\": 0.7857142857142857}, {\"epoch\": 148, \"n\": 0.01, \"variable\": \"val_accuracy\", \"value\": 0.7857142857142857}, {\"epoch\": 149, \"n\": 0.01, \"variable\": \"val_accuracy\", \"value\": 0.7857142857142857}, {\"epoch\": 150, \"n\": 0.01, \"variable\": \"val_accuracy\", \"value\": 0.7857142857142857}, {\"epoch\": 151, \"n\": 0.01, \"variable\": \"val_accuracy\", \"value\": 0.7857142857142857}, {\"epoch\": 152, \"n\": 0.01, \"variable\": \"val_accuracy\", \"value\": 0.7857142857142857}, {\"epoch\": 153, \"n\": 0.01, \"variable\": \"val_accuracy\", \"value\": 0.7857142857142857}, {\"epoch\": 154, \"n\": 0.01, \"variable\": \"val_accuracy\", \"value\": 0.7857142857142857}, {\"epoch\": 155, \"n\": 0.01, \"variable\": \"val_accuracy\", \"value\": 0.7857142857142857}, {\"epoch\": 156, \"n\": 0.01, \"variable\": \"val_accuracy\", \"value\": 0.7857142857142857}, {\"epoch\": 157, \"n\": 0.01, \"variable\": \"val_accuracy\", \"value\": 0.7857142857142857}, {\"epoch\": 158, \"n\": 0.01, \"variable\": \"val_accuracy\", \"value\": 0.7857142857142857}, {\"epoch\": 159, \"n\": 0.01, \"variable\": \"val_accuracy\", \"value\": 0.7857142857142857}, {\"epoch\": 160, \"n\": 0.01, \"variable\": \"val_accuracy\", \"value\": 0.7857142857142857}, {\"epoch\": 161, \"n\": 0.01, \"variable\": \"val_accuracy\", \"value\": 0.7857142857142857}, {\"epoch\": 162, \"n\": 0.01, \"variable\": \"val_accuracy\", \"value\": 0.7857142857142857}, {\"epoch\": 163, \"n\": 0.01, \"variable\": \"val_accuracy\", \"value\": 0.7857142857142857}, {\"epoch\": 164, \"n\": 0.01, \"variable\": \"val_accuracy\", \"value\": 0.7857142857142857}, {\"epoch\": 165, \"n\": 0.01, \"variable\": \"val_accuracy\", \"value\": 0.7857142857142857}, {\"epoch\": 166, \"n\": 0.01, \"variable\": \"val_accuracy\", \"value\": 0.7857142857142857}, {\"epoch\": 167, \"n\": 0.01, \"variable\": \"val_accuracy\", \"value\": 0.7857142857142857}, {\"epoch\": 168, \"n\": 0.01, \"variable\": \"val_accuracy\", \"value\": 0.7857142857142857}, {\"epoch\": 169, \"n\": 0.01, \"variable\": \"val_accuracy\", \"value\": 0.7857142857142857}, {\"epoch\": 170, \"n\": 0.01, \"variable\": \"val_accuracy\", \"value\": 0.7857142857142857}, {\"epoch\": 171, \"n\": 0.01, \"variable\": \"val_accuracy\", \"value\": 0.7857142857142857}, {\"epoch\": 172, \"n\": 0.01, \"variable\": \"val_accuracy\", \"value\": 0.7857142857142857}, {\"epoch\": 173, \"n\": 0.01, \"variable\": \"val_accuracy\", \"value\": 0.7857142857142857}, {\"epoch\": 174, \"n\": 0.01, \"variable\": \"val_accuracy\", \"value\": 0.7857142857142857}, {\"epoch\": 175, \"n\": 0.01, \"variable\": \"val_accuracy\", \"value\": 0.7857142857142857}, {\"epoch\": 176, \"n\": 0.01, \"variable\": \"val_accuracy\", \"value\": 0.7857142857142857}, {\"epoch\": 177, \"n\": 0.01, \"variable\": \"val_accuracy\", \"value\": 0.7857142857142857}, {\"epoch\": 178, \"n\": 0.01, \"variable\": \"val_accuracy\", \"value\": 0.7857142857142857}, {\"epoch\": 179, \"n\": 0.01, \"variable\": \"val_accuracy\", \"value\": 0.7857142857142857}, {\"epoch\": 180, \"n\": 0.01, \"variable\": \"val_accuracy\", \"value\": 0.7857142857142857}, {\"epoch\": 181, \"n\": 0.01, \"variable\": \"val_accuracy\", \"value\": 0.7857142857142857}, {\"epoch\": 182, \"n\": 0.01, \"variable\": \"val_accuracy\", \"value\": 0.7857142857142857}, {\"epoch\": 183, \"n\": 0.01, \"variable\": \"val_accuracy\", \"value\": 0.7857142857142857}, {\"epoch\": 184, \"n\": 0.01, \"variable\": \"val_accuracy\", \"value\": 0.7857142857142857}, {\"epoch\": 185, \"n\": 0.01, \"variable\": \"val_accuracy\", \"value\": 0.7857142857142857}, {\"epoch\": 186, \"n\": 0.01, \"variable\": \"val_accuracy\", \"value\": 0.7857142857142857}, {\"epoch\": 187, \"n\": 0.01, \"variable\": \"val_accuracy\", \"value\": 0.7857142857142857}, {\"epoch\": 188, \"n\": 0.01, \"variable\": \"val_accuracy\", \"value\": 0.7857142857142857}, {\"epoch\": 189, \"n\": 0.01, \"variable\": \"val_accuracy\", \"value\": 0.7857142857142857}, {\"epoch\": 190, \"n\": 0.01, \"variable\": \"val_accuracy\", \"value\": 0.7857142857142857}, {\"epoch\": 191, \"n\": 0.01, \"variable\": \"val_accuracy\", \"value\": 0.7857142857142857}, {\"epoch\": 192, \"n\": 0.01, \"variable\": \"val_accuracy\", \"value\": 0.7857142857142857}, {\"epoch\": 193, \"n\": 0.01, \"variable\": \"val_accuracy\", \"value\": 0.7857142857142857}, {\"epoch\": 194, \"n\": 0.01, \"variable\": \"val_accuracy\", \"value\": 0.7857142857142857}, {\"epoch\": 195, \"n\": 0.01, \"variable\": \"val_accuracy\", \"value\": 0.7857142857142857}, {\"epoch\": 196, \"n\": 0.01, \"variable\": \"val_accuracy\", \"value\": 0.7904761904761904}, {\"epoch\": 197, \"n\": 0.01, \"variable\": \"val_accuracy\", \"value\": 0.7904761904761904}, {\"epoch\": 198, \"n\": 0.01, \"variable\": \"val_accuracy\", \"value\": 0.7904761904761904}, {\"epoch\": 199, \"n\": 0.01, \"variable\": \"val_accuracy\", \"value\": 0.7904761904761904}, {\"epoch\": 200, \"n\": 0.01, \"variable\": \"val_accuracy\", \"value\": 0.7904761904761904}, {\"epoch\": 1, \"n\": 0.1, \"variable\": \"val_accuracy\", \"value\": 0.4238095238095238}, {\"epoch\": 2, \"n\": 0.1, \"variable\": \"val_accuracy\", \"value\": 0.5428571428571428}, {\"epoch\": 3, \"n\": 0.1, \"variable\": \"val_accuracy\", \"value\": 0.5714285714285714}, {\"epoch\": 4, \"n\": 0.1, \"variable\": \"val_accuracy\", \"value\": 0.5857142857142857}, {\"epoch\": 5, \"n\": 0.1, \"variable\": \"val_accuracy\", \"value\": 0.6761904761904762}, {\"epoch\": 6, \"n\": 0.1, \"variable\": \"val_accuracy\", \"value\": 0.6}, {\"epoch\": 7, \"n\": 0.1, \"variable\": \"val_accuracy\", \"value\": 0.6190476190476191}, {\"epoch\": 8, \"n\": 0.1, \"variable\": \"val_accuracy\", \"value\": 0.6666666666666666}, {\"epoch\": 9, \"n\": 0.1, \"variable\": \"val_accuracy\", \"value\": 0.7238095238095238}, {\"epoch\": 10, \"n\": 0.1, \"variable\": \"val_accuracy\", \"value\": 0.7428571428571429}, {\"epoch\": 11, \"n\": 0.1, \"variable\": \"val_accuracy\", \"value\": 0.7333333333333333}, {\"epoch\": 12, \"n\": 0.1, \"variable\": \"val_accuracy\", \"value\": 0.7523809523809524}, {\"epoch\": 13, \"n\": 0.1, \"variable\": \"val_accuracy\", \"value\": 0.7285714285714285}, {\"epoch\": 14, \"n\": 0.1, \"variable\": \"val_accuracy\", \"value\": 0.7571428571428571}, {\"epoch\": 15, \"n\": 0.1, \"variable\": \"val_accuracy\", \"value\": 0.7571428571428571}, {\"epoch\": 16, \"n\": 0.1, \"variable\": \"val_accuracy\", \"value\": 0.7523809523809524}, {\"epoch\": 17, \"n\": 0.1, \"variable\": \"val_accuracy\", \"value\": 0.7666666666666667}, {\"epoch\": 18, \"n\": 0.1, \"variable\": \"val_accuracy\", \"value\": 0.7285714285714285}, {\"epoch\": 19, \"n\": 0.1, \"variable\": \"val_accuracy\", \"value\": 0.7571428571428571}, {\"epoch\": 20, \"n\": 0.1, \"variable\": \"val_accuracy\", \"value\": 0.7476190476190476}, {\"epoch\": 21, \"n\": 0.1, \"variable\": \"val_accuracy\", \"value\": 0.7666666666666667}, {\"epoch\": 22, \"n\": 0.1, \"variable\": \"val_accuracy\", \"value\": 0.7333333333333333}, {\"epoch\": 23, \"n\": 0.1, \"variable\": \"val_accuracy\", \"value\": 0.7571428571428571}, {\"epoch\": 24, \"n\": 0.1, \"variable\": \"val_accuracy\", \"value\": 0.7285714285714285}, {\"epoch\": 25, \"n\": 0.1, \"variable\": \"val_accuracy\", \"value\": 0.7571428571428571}, {\"epoch\": 26, \"n\": 0.1, \"variable\": \"val_accuracy\", \"value\": 0.7285714285714285}, {\"epoch\": 27, \"n\": 0.1, \"variable\": \"val_accuracy\", \"value\": 0.7619047619047619}, {\"epoch\": 28, \"n\": 0.1, \"variable\": \"val_accuracy\", \"value\": 0.7285714285714285}, {\"epoch\": 29, \"n\": 0.1, \"variable\": \"val_accuracy\", \"value\": 0.7619047619047619}, {\"epoch\": 30, \"n\": 0.1, \"variable\": \"val_accuracy\", \"value\": 0.7285714285714285}, {\"epoch\": 31, \"n\": 0.1, \"variable\": \"val_accuracy\", \"value\": 0.7619047619047619}, {\"epoch\": 32, \"n\": 0.1, \"variable\": \"val_accuracy\", \"value\": 0.7333333333333333}, {\"epoch\": 33, \"n\": 0.1, \"variable\": \"val_accuracy\", \"value\": 0.7619047619047619}, {\"epoch\": 34, \"n\": 0.1, \"variable\": \"val_accuracy\", \"value\": 0.7285714285714285}, {\"epoch\": 35, \"n\": 0.1, \"variable\": \"val_accuracy\", \"value\": 0.7571428571428571}, {\"epoch\": 36, \"n\": 0.1, \"variable\": \"val_accuracy\", \"value\": 0.7285714285714285}, {\"epoch\": 37, \"n\": 0.1, \"variable\": \"val_accuracy\", \"value\": 0.7571428571428571}, {\"epoch\": 38, \"n\": 0.1, \"variable\": \"val_accuracy\", \"value\": 0.7285714285714285}, {\"epoch\": 39, \"n\": 0.1, \"variable\": \"val_accuracy\", \"value\": 0.7523809523809524}, {\"epoch\": 40, \"n\": 0.1, \"variable\": \"val_accuracy\", \"value\": 0.7333333333333333}, {\"epoch\": 41, \"n\": 0.1, \"variable\": \"val_accuracy\", \"value\": 0.7523809523809524}, {\"epoch\": 42, \"n\": 0.1, \"variable\": \"val_accuracy\", \"value\": 0.7380952380952381}, {\"epoch\": 43, \"n\": 0.1, \"variable\": \"val_accuracy\", \"value\": 0.7523809523809524}, {\"epoch\": 44, \"n\": 0.1, \"variable\": \"val_accuracy\", \"value\": 0.7333333333333333}, {\"epoch\": 45, \"n\": 0.1, \"variable\": \"val_accuracy\", \"value\": 0.7571428571428571}, {\"epoch\": 46, \"n\": 0.1, \"variable\": \"val_accuracy\", \"value\": 0.7333333333333333}, {\"epoch\": 47, \"n\": 0.1, \"variable\": \"val_accuracy\", \"value\": 0.7571428571428571}, {\"epoch\": 48, \"n\": 0.1, \"variable\": \"val_accuracy\", \"value\": 0.7333333333333333}, {\"epoch\": 49, \"n\": 0.1, \"variable\": \"val_accuracy\", \"value\": 0.7571428571428571}, {\"epoch\": 50, \"n\": 0.1, \"variable\": \"val_accuracy\", \"value\": 0.7333333333333333}, {\"epoch\": 51, \"n\": 0.1, \"variable\": \"val_accuracy\", \"value\": 0.7523809523809524}, {\"epoch\": 52, \"n\": 0.1, \"variable\": \"val_accuracy\", \"value\": 0.7380952380952381}, {\"epoch\": 53, \"n\": 0.1, \"variable\": \"val_accuracy\", \"value\": 0.7523809523809524}, {\"epoch\": 54, \"n\": 0.1, \"variable\": \"val_accuracy\", \"value\": 0.7428571428571429}, {\"epoch\": 55, \"n\": 0.1, \"variable\": \"val_accuracy\", \"value\": 0.7523809523809524}, {\"epoch\": 56, \"n\": 0.1, \"variable\": \"val_accuracy\", \"value\": 0.7428571428571429}, {\"epoch\": 57, \"n\": 0.1, \"variable\": \"val_accuracy\", \"value\": 0.7523809523809524}, {\"epoch\": 58, \"n\": 0.1, \"variable\": \"val_accuracy\", \"value\": 0.7428571428571429}, {\"epoch\": 59, \"n\": 0.1, \"variable\": \"val_accuracy\", \"value\": 0.7523809523809524}, {\"epoch\": 60, \"n\": 0.1, \"variable\": \"val_accuracy\", \"value\": 0.7428571428571429}, {\"epoch\": 61, \"n\": 0.1, \"variable\": \"val_accuracy\", \"value\": 0.7523809523809524}, {\"epoch\": 62, \"n\": 0.1, \"variable\": \"val_accuracy\", \"value\": 0.7428571428571429}, {\"epoch\": 63, \"n\": 0.1, \"variable\": \"val_accuracy\", \"value\": 0.7523809523809524}, {\"epoch\": 64, \"n\": 0.1, \"variable\": \"val_accuracy\", \"value\": 0.7428571428571429}, {\"epoch\": 65, \"n\": 0.1, \"variable\": \"val_accuracy\", \"value\": 0.7523809523809524}, {\"epoch\": 66, \"n\": 0.1, \"variable\": \"val_accuracy\", \"value\": 0.7428571428571429}, {\"epoch\": 67, \"n\": 0.1, \"variable\": \"val_accuracy\", \"value\": 0.7523809523809524}, {\"epoch\": 68, \"n\": 0.1, \"variable\": \"val_accuracy\", \"value\": 0.7428571428571429}, {\"epoch\": 69, \"n\": 0.1, \"variable\": \"val_accuracy\", \"value\": 0.7571428571428571}, {\"epoch\": 70, \"n\": 0.1, \"variable\": \"val_accuracy\", \"value\": 0.7476190476190476}, {\"epoch\": 71, \"n\": 0.1, \"variable\": \"val_accuracy\", \"value\": 0.7571428571428571}, {\"epoch\": 72, \"n\": 0.1, \"variable\": \"val_accuracy\", \"value\": 0.7476190476190476}, {\"epoch\": 73, \"n\": 0.1, \"variable\": \"val_accuracy\", \"value\": 0.7523809523809524}, {\"epoch\": 74, \"n\": 0.1, \"variable\": \"val_accuracy\", \"value\": 0.7476190476190476}, {\"epoch\": 75, \"n\": 0.1, \"variable\": \"val_accuracy\", \"value\": 0.7523809523809524}, {\"epoch\": 76, \"n\": 0.1, \"variable\": \"val_accuracy\", \"value\": 0.7476190476190476}, {\"epoch\": 77, \"n\": 0.1, \"variable\": \"val_accuracy\", \"value\": 0.7523809523809524}, {\"epoch\": 78, \"n\": 0.1, \"variable\": \"val_accuracy\", \"value\": 0.7476190476190476}, {\"epoch\": 79, \"n\": 0.1, \"variable\": \"val_accuracy\", \"value\": 0.7523809523809524}, {\"epoch\": 80, \"n\": 0.1, \"variable\": \"val_accuracy\", \"value\": 0.7523809523809524}, {\"epoch\": 81, \"n\": 0.1, \"variable\": \"val_accuracy\", \"value\": 0.7523809523809524}, {\"epoch\": 82, \"n\": 0.1, \"variable\": \"val_accuracy\", \"value\": 0.7523809523809524}, {\"epoch\": 83, \"n\": 0.1, \"variable\": \"val_accuracy\", \"value\": 0.7523809523809524}, {\"epoch\": 84, \"n\": 0.1, \"variable\": \"val_accuracy\", \"value\": 0.7523809523809524}, {\"epoch\": 85, \"n\": 0.1, \"variable\": \"val_accuracy\", \"value\": 0.7523809523809524}, {\"epoch\": 86, \"n\": 0.1, \"variable\": \"val_accuracy\", \"value\": 0.7523809523809524}, {\"epoch\": 87, \"n\": 0.1, \"variable\": \"val_accuracy\", \"value\": 0.7523809523809524}, {\"epoch\": 88, \"n\": 0.1, \"variable\": \"val_accuracy\", \"value\": 0.7523809523809524}, {\"epoch\": 89, \"n\": 0.1, \"variable\": \"val_accuracy\", \"value\": 0.7523809523809524}, {\"epoch\": 90, \"n\": 0.1, \"variable\": \"val_accuracy\", \"value\": 0.7523809523809524}, {\"epoch\": 91, \"n\": 0.1, \"variable\": \"val_accuracy\", \"value\": 0.7523809523809524}, {\"epoch\": 92, \"n\": 0.1, \"variable\": \"val_accuracy\", \"value\": 0.7523809523809524}, {\"epoch\": 93, \"n\": 0.1, \"variable\": \"val_accuracy\", \"value\": 0.7523809523809524}, {\"epoch\": 94, \"n\": 0.1, \"variable\": \"val_accuracy\", \"value\": 0.7523809523809524}, {\"epoch\": 95, \"n\": 0.1, \"variable\": \"val_accuracy\", \"value\": 0.7523809523809524}, {\"epoch\": 96, \"n\": 0.1, \"variable\": \"val_accuracy\", \"value\": 0.7476190476190476}, {\"epoch\": 97, \"n\": 0.1, \"variable\": \"val_accuracy\", \"value\": 0.7476190476190476}, {\"epoch\": 98, \"n\": 0.1, \"variable\": \"val_accuracy\", \"value\": 0.7476190476190476}, {\"epoch\": 99, \"n\": 0.1, \"variable\": \"val_accuracy\", \"value\": 0.7476190476190476}, {\"epoch\": 100, \"n\": 0.1, \"variable\": \"val_accuracy\", \"value\": 0.7476190476190476}, {\"epoch\": 101, \"n\": 0.1, \"variable\": \"val_accuracy\", \"value\": 0.7476190476190476}, {\"epoch\": 102, \"n\": 0.1, \"variable\": \"val_accuracy\", \"value\": 0.7476190476190476}, {\"epoch\": 103, \"n\": 0.1, \"variable\": \"val_accuracy\", \"value\": 0.7476190476190476}, {\"epoch\": 104, \"n\": 0.1, \"variable\": \"val_accuracy\", \"value\": 0.7476190476190476}, {\"epoch\": 105, \"n\": 0.1, \"variable\": \"val_accuracy\", \"value\": 0.7476190476190476}, {\"epoch\": 106, \"n\": 0.1, \"variable\": \"val_accuracy\", \"value\": 0.7476190476190476}, {\"epoch\": 107, \"n\": 0.1, \"variable\": \"val_accuracy\", \"value\": 0.7476190476190476}, {\"epoch\": 108, \"n\": 0.1, \"variable\": \"val_accuracy\", \"value\": 0.7476190476190476}, {\"epoch\": 109, \"n\": 0.1, \"variable\": \"val_accuracy\", \"value\": 0.7476190476190476}, {\"epoch\": 110, \"n\": 0.1, \"variable\": \"val_accuracy\", \"value\": 0.7476190476190476}, {\"epoch\": 111, \"n\": 0.1, \"variable\": \"val_accuracy\", \"value\": 0.7476190476190476}, {\"epoch\": 112, \"n\": 0.1, \"variable\": \"val_accuracy\", \"value\": 0.7476190476190476}, {\"epoch\": 113, \"n\": 0.1, \"variable\": \"val_accuracy\", \"value\": 0.7476190476190476}, {\"epoch\": 114, \"n\": 0.1, \"variable\": \"val_accuracy\", \"value\": 0.7476190476190476}, {\"epoch\": 115, \"n\": 0.1, \"variable\": \"val_accuracy\", \"value\": 0.7476190476190476}, {\"epoch\": 116, \"n\": 0.1, \"variable\": \"val_accuracy\", \"value\": 0.7476190476190476}, {\"epoch\": 117, \"n\": 0.1, \"variable\": \"val_accuracy\", \"value\": 0.7476190476190476}, {\"epoch\": 118, \"n\": 0.1, \"variable\": \"val_accuracy\", \"value\": 0.7476190476190476}, {\"epoch\": 119, \"n\": 0.1, \"variable\": \"val_accuracy\", \"value\": 0.7476190476190476}, {\"epoch\": 120, \"n\": 0.1, \"variable\": \"val_accuracy\", \"value\": 0.7476190476190476}, {\"epoch\": 121, \"n\": 0.1, \"variable\": \"val_accuracy\", \"value\": 0.7476190476190476}, {\"epoch\": 122, \"n\": 0.1, \"variable\": \"val_accuracy\", \"value\": 0.7476190476190476}, {\"epoch\": 123, \"n\": 0.1, \"variable\": \"val_accuracy\", \"value\": 0.7476190476190476}, {\"epoch\": 124, \"n\": 0.1, \"variable\": \"val_accuracy\", \"value\": 0.7476190476190476}, {\"epoch\": 125, \"n\": 0.1, \"variable\": \"val_accuracy\", \"value\": 0.7476190476190476}, {\"epoch\": 126, \"n\": 0.1, \"variable\": \"val_accuracy\", \"value\": 0.7476190476190476}, {\"epoch\": 127, \"n\": 0.1, \"variable\": \"val_accuracy\", \"value\": 0.7476190476190476}, {\"epoch\": 128, \"n\": 0.1, \"variable\": \"val_accuracy\", \"value\": 0.7476190476190476}, {\"epoch\": 129, \"n\": 0.1, \"variable\": \"val_accuracy\", \"value\": 0.7476190476190476}, {\"epoch\": 130, \"n\": 0.1, \"variable\": \"val_accuracy\", \"value\": 0.7476190476190476}, {\"epoch\": 131, \"n\": 0.1, \"variable\": \"val_accuracy\", \"value\": 0.7476190476190476}, {\"epoch\": 132, \"n\": 0.1, \"variable\": \"val_accuracy\", \"value\": 0.7476190476190476}, {\"epoch\": 133, \"n\": 0.1, \"variable\": \"val_accuracy\", \"value\": 0.7476190476190476}, {\"epoch\": 134, \"n\": 0.1, \"variable\": \"val_accuracy\", \"value\": 0.7476190476190476}, {\"epoch\": 135, \"n\": 0.1, \"variable\": \"val_accuracy\", \"value\": 0.7476190476190476}, {\"epoch\": 136, \"n\": 0.1, \"variable\": \"val_accuracy\", \"value\": 0.7476190476190476}, {\"epoch\": 137, \"n\": 0.1, \"variable\": \"val_accuracy\", \"value\": 0.7476190476190476}, {\"epoch\": 138, \"n\": 0.1, \"variable\": \"val_accuracy\", \"value\": 0.7476190476190476}, {\"epoch\": 139, \"n\": 0.1, \"variable\": \"val_accuracy\", \"value\": 0.7476190476190476}, {\"epoch\": 140, \"n\": 0.1, \"variable\": \"val_accuracy\", \"value\": 0.7476190476190476}, {\"epoch\": 141, \"n\": 0.1, \"variable\": \"val_accuracy\", \"value\": 0.7476190476190476}, {\"epoch\": 142, \"n\": 0.1, \"variable\": \"val_accuracy\", \"value\": 0.7476190476190476}, {\"epoch\": 143, \"n\": 0.1, \"variable\": \"val_accuracy\", \"value\": 0.7476190476190476}, {\"epoch\": 144, \"n\": 0.1, \"variable\": \"val_accuracy\", \"value\": 0.7476190476190476}, {\"epoch\": 145, \"n\": 0.1, \"variable\": \"val_accuracy\", \"value\": 0.7476190476190476}, {\"epoch\": 146, \"n\": 0.1, \"variable\": \"val_accuracy\", \"value\": 0.7476190476190476}, {\"epoch\": 147, \"n\": 0.1, \"variable\": \"val_accuracy\", \"value\": 0.7476190476190476}, {\"epoch\": 148, \"n\": 0.1, \"variable\": \"val_accuracy\", \"value\": 0.7476190476190476}, {\"epoch\": 149, \"n\": 0.1, \"variable\": \"val_accuracy\", \"value\": 0.7476190476190476}, {\"epoch\": 150, \"n\": 0.1, \"variable\": \"val_accuracy\", \"value\": 0.7476190476190476}, {\"epoch\": 151, \"n\": 0.1, \"variable\": \"val_accuracy\", \"value\": 0.7476190476190476}, {\"epoch\": 152, \"n\": 0.1, \"variable\": \"val_accuracy\", \"value\": 0.7476190476190476}, {\"epoch\": 153, \"n\": 0.1, \"variable\": \"val_accuracy\", \"value\": 0.7476190476190476}, {\"epoch\": 154, \"n\": 0.1, \"variable\": \"val_accuracy\", \"value\": 0.7476190476190476}, {\"epoch\": 155, \"n\": 0.1, \"variable\": \"val_accuracy\", \"value\": 0.7476190476190476}, {\"epoch\": 156, \"n\": 0.1, \"variable\": \"val_accuracy\", \"value\": 0.7476190476190476}, {\"epoch\": 157, \"n\": 0.1, \"variable\": \"val_accuracy\", \"value\": 0.7476190476190476}, {\"epoch\": 158, \"n\": 0.1, \"variable\": \"val_accuracy\", \"value\": 0.7476190476190476}, {\"epoch\": 159, \"n\": 0.1, \"variable\": \"val_accuracy\", \"value\": 0.7476190476190476}, {\"epoch\": 160, \"n\": 0.1, \"variable\": \"val_accuracy\", \"value\": 0.7476190476190476}, {\"epoch\": 161, \"n\": 0.1, \"variable\": \"val_accuracy\", \"value\": 0.7476190476190476}, {\"epoch\": 162, \"n\": 0.1, \"variable\": \"val_accuracy\", \"value\": 0.7476190476190476}, {\"epoch\": 163, \"n\": 0.1, \"variable\": \"val_accuracy\", \"value\": 0.7476190476190476}, {\"epoch\": 164, \"n\": 0.1, \"variable\": \"val_accuracy\", \"value\": 0.7476190476190476}, {\"epoch\": 165, \"n\": 0.1, \"variable\": \"val_accuracy\", \"value\": 0.7476190476190476}, {\"epoch\": 166, \"n\": 0.1, \"variable\": \"val_accuracy\", \"value\": 0.7476190476190476}, {\"epoch\": 167, \"n\": 0.1, \"variable\": \"val_accuracy\", \"value\": 0.7476190476190476}, {\"epoch\": 168, \"n\": 0.1, \"variable\": \"val_accuracy\", \"value\": 0.7476190476190476}, {\"epoch\": 169, \"n\": 0.1, \"variable\": \"val_accuracy\", \"value\": 0.7476190476190476}, {\"epoch\": 170, \"n\": 0.1, \"variable\": \"val_accuracy\", \"value\": 0.7476190476190476}, {\"epoch\": 171, \"n\": 0.1, \"variable\": \"val_accuracy\", \"value\": 0.7476190476190476}, {\"epoch\": 172, \"n\": 0.1, \"variable\": \"val_accuracy\", \"value\": 0.7476190476190476}, {\"epoch\": 173, \"n\": 0.1, \"variable\": \"val_accuracy\", \"value\": 0.7476190476190476}, {\"epoch\": 174, \"n\": 0.1, \"variable\": \"val_accuracy\", \"value\": 0.7476190476190476}, {\"epoch\": 175, \"n\": 0.1, \"variable\": \"val_accuracy\", \"value\": 0.7476190476190476}, {\"epoch\": 176, \"n\": 0.1, \"variable\": \"val_accuracy\", \"value\": 0.7476190476190476}, {\"epoch\": 177, \"n\": 0.1, \"variable\": \"val_accuracy\", \"value\": 0.7476190476190476}, {\"epoch\": 178, \"n\": 0.1, \"variable\": \"val_accuracy\", \"value\": 0.7476190476190476}, {\"epoch\": 179, \"n\": 0.1, \"variable\": \"val_accuracy\", \"value\": 0.7476190476190476}, {\"epoch\": 180, \"n\": 0.1, \"variable\": \"val_accuracy\", \"value\": 0.7476190476190476}, {\"epoch\": 181, \"n\": 0.1, \"variable\": \"val_accuracy\", \"value\": 0.7476190476190476}, {\"epoch\": 182, \"n\": 0.1, \"variable\": \"val_accuracy\", \"value\": 0.7476190476190476}, {\"epoch\": 183, \"n\": 0.1, \"variable\": \"val_accuracy\", \"value\": 0.7476190476190476}, {\"epoch\": 184, \"n\": 0.1, \"variable\": \"val_accuracy\", \"value\": 0.7476190476190476}, {\"epoch\": 185, \"n\": 0.1, \"variable\": \"val_accuracy\", \"value\": 0.7476190476190476}, {\"epoch\": 186, \"n\": 0.1, \"variable\": \"val_accuracy\", \"value\": 0.7476190476190476}, {\"epoch\": 187, \"n\": 0.1, \"variable\": \"val_accuracy\", \"value\": 0.7476190476190476}, {\"epoch\": 188, \"n\": 0.1, \"variable\": \"val_accuracy\", \"value\": 0.7476190476190476}, {\"epoch\": 189, \"n\": 0.1, \"variable\": \"val_accuracy\", \"value\": 0.7476190476190476}, {\"epoch\": 190, \"n\": 0.1, \"variable\": \"val_accuracy\", \"value\": 0.7523809523809524}, {\"epoch\": 191, \"n\": 0.1, \"variable\": \"val_accuracy\", \"value\": 0.7523809523809524}, {\"epoch\": 192, \"n\": 0.1, \"variable\": \"val_accuracy\", \"value\": 0.7523809523809524}, {\"epoch\": 193, \"n\": 0.1, \"variable\": \"val_accuracy\", \"value\": 0.7523809523809524}, {\"epoch\": 194, \"n\": 0.1, \"variable\": \"val_accuracy\", \"value\": 0.7523809523809524}, {\"epoch\": 195, \"n\": 0.1, \"variable\": \"val_accuracy\", \"value\": 0.7523809523809524}, {\"epoch\": 196, \"n\": 0.1, \"variable\": \"val_accuracy\", \"value\": 0.7523809523809524}, {\"epoch\": 197, \"n\": 0.1, \"variable\": \"val_accuracy\", \"value\": 0.7523809523809524}, {\"epoch\": 198, \"n\": 0.1, \"variable\": \"val_accuracy\", \"value\": 0.7523809523809524}, {\"epoch\": 199, \"n\": 0.1, \"variable\": \"val_accuracy\", \"value\": 0.7523809523809524}, {\"epoch\": 200, \"n\": 0.1, \"variable\": \"val_accuracy\", \"value\": 0.7523809523809524}]}}, {\"mode\": \"vega-lite\"});\n",
       "</script>"
      ],
      "text/plain": [
       "alt.Chart(...)"
      ]
     },
     "execution_count": 11,
     "metadata": {},
     "output_type": "execute_result"
    }
   ],
   "source": [
    "source = results.reset_index().drop(['seed','test_size','val_size'],axis=1).melt(id_vars=['epoch','n'])\n",
    "\n",
    "alt.Chart(source).mark_line().encode(\n",
    "    x='epoch',\n",
    "    y=alt.Y('value',title='Accuracy'),\n",
    "    color='variable',\n",
    "    column='n'\n",
    ")"
   ]
  },
  {
   "cell_type": "markdown",
   "metadata": {},
   "source": [
    "#### Exercise 1\n",
    "The first step to evaluating any classification problem is establishing a baseline. Write a function that calculates the baseline accuracy if you predict the majority class on the test dataset."
   ]
  },
  {
   "cell_type": "code",
   "execution_count": 12,
   "metadata": {
    "tags": []
   },
   "outputs": [
    {
     "data": {
      "text/html": [
       "<div>\n",
       "<style scoped>\n",
       "    .dataframe tbody tr th:only-of-type {\n",
       "        vertical-align: middle;\n",
       "    }\n",
       "\n",
       "    .dataframe tbody tr th {\n",
       "        vertical-align: top;\n",
       "    }\n",
       "\n",
       "    .dataframe thead th {\n",
       "        text-align: right;\n",
       "    }\n",
       "</style>\n",
       "<table border=\"1\" class=\"dataframe\">\n",
       "  <thead>\n",
       "    <tr style=\"text-align: right;\">\n",
       "      <th></th>\n",
       "      <th>accuracy_test</th>\n",
       "      <th>accuracy_train2</th>\n",
       "      <th>accuracy_val</th>\n",
       "    </tr>\n",
       "    <tr>\n",
       "      <th>seed</th>\n",
       "      <th></th>\n",
       "      <th></th>\n",
       "      <th></th>\n",
       "    </tr>\n",
       "  </thead>\n",
       "  <tbody>\n",
       "    <tr>\n",
       "      <th>0</th>\n",
       "      <td>0.826667</td>\n",
       "      <td>0.846939</td>\n",
       "      <td>0.885714</td>\n",
       "    </tr>\n",
       "    <tr>\n",
       "      <th>1</th>\n",
       "      <td>0.843333</td>\n",
       "      <td>0.844898</td>\n",
       "      <td>0.866667</td>\n",
       "    </tr>\n",
       "    <tr>\n",
       "      <th>2</th>\n",
       "      <td>0.856667</td>\n",
       "      <td>0.838776</td>\n",
       "      <td>0.861905</td>\n",
       "    </tr>\n",
       "    <tr>\n",
       "      <th>3</th>\n",
       "      <td>0.846667</td>\n",
       "      <td>0.834694</td>\n",
       "      <td>0.885714</td>\n",
       "    </tr>\n",
       "    <tr>\n",
       "      <th>4</th>\n",
       "      <td>0.850000</td>\n",
       "      <td>0.848980</td>\n",
       "      <td>0.847619</td>\n",
       "    </tr>\n",
       "    <tr>\n",
       "      <th>5</th>\n",
       "      <td>0.803333</td>\n",
       "      <td>0.857143</td>\n",
       "      <td>0.895238</td>\n",
       "    </tr>\n",
       "  </tbody>\n",
       "</table>\n",
       "</div>"
      ],
      "text/plain": [
       "      accuracy_test  accuracy_train2  accuracy_val\n",
       "seed                                              \n",
       "0          0.826667         0.846939      0.885714\n",
       "1          0.843333         0.844898      0.866667\n",
       "2          0.856667         0.838776      0.861905\n",
       "3          0.846667         0.834694      0.885714\n",
       "4          0.850000         0.848980      0.847619\n",
       "5          0.803333         0.857143      0.895238"
      ]
     },
     "execution_count": 12,
     "metadata": {},
     "output_type": "execute_result"
    }
   ],
   "source": [
    "from sklearn.model_selection import train_test_split\n",
    "import numpy as np\n",
    "\n",
    "seeds = [0,1,2,3,4,5]\n",
    "results = []\n",
    "columns=[\"accuracy_test\",\"accuracy_train2\",\"accuracy_val\"]\n",
    "#index_name.set_index(\"seed\")\n",
    "for seed in seeds:\n",
    "    np.random.seed(seed)\n",
    "    X_train, X_test, t_train, t_test = train_test_split(X2, t, test_size=0.3)\n",
    "    X_train2, X_val, t_train2, t_val = train_test_split(X_train, t_train, test_size=0.3)\n",
    "\n",
    "    ## Your solution in evaluate_baseline(...)\n",
    "    accuracy_test,accuracy_train2,accuracy_val = Lab3_helper.evaluate_baseline(t_test,t_train2,t_val)\n",
    "    \n",
    "    results.append(pd.Series([accuracy_test,accuracy_train2,accuracy_val],index=columns,name=seed))\n",
    "\n",
    "results = pd.concat(results,axis=1).T\n",
    "results.index.name = \"seed\"\n",
    "results"
   ]
  },
  {
   "cell_type": "markdown",
   "metadata": {},
   "source": [
    "Once you have done this, you will notice that the baseline accuracy is simply the fraction of the majority class in the dataset. For example:"
   ]
  },
  {
   "cell_type": "code",
   "execution_count": 13,
   "metadata": {
    "tags": []
   },
   "outputs": [
    {
     "data": {
      "text/plain": [
       "0.8033333333333333"
      ]
     },
     "execution_count": 13,
     "metadata": {},
     "output_type": "execute_result"
    }
   ],
   "source": [
    "frac_majority_class = t_test.value_counts(normalize=True)[0]\n",
    "frac_majority_class"
   ]
  },
  {
   "cell_type": "markdown",
   "metadata": {},
   "source": [
    "Note how this is the same value as accuracy_test with ``seed=5``."
   ]
  },
  {
   "cell_type": "code",
   "execution_count": 14,
   "metadata": {
    "tags": []
   },
   "outputs": [
    {
     "data": {
      "text/html": [
       "\n",
       "<style>\n",
       "  #altair-viz-a75f5a3b1808475c94eab3908402bff6.vega-embed {\n",
       "    width: 100%;\n",
       "    display: flex;\n",
       "  }\n",
       "\n",
       "  #altair-viz-a75f5a3b1808475c94eab3908402bff6.vega-embed details,\n",
       "  #altair-viz-a75f5a3b1808475c94eab3908402bff6.vega-embed details summary {\n",
       "    position: relative;\n",
       "  }\n",
       "</style>\n",
       "<div id=\"altair-viz-a75f5a3b1808475c94eab3908402bff6\"></div>\n",
       "<script type=\"text/javascript\">\n",
       "  var VEGA_DEBUG = (typeof VEGA_DEBUG == \"undefined\") ? {} : VEGA_DEBUG;\n",
       "  (function(spec, embedOpt){\n",
       "    let outputDiv = document.currentScript.previousElementSibling;\n",
       "    if (outputDiv.id !== \"altair-viz-a75f5a3b1808475c94eab3908402bff6\") {\n",
       "      outputDiv = document.getElementById(\"altair-viz-a75f5a3b1808475c94eab3908402bff6\");\n",
       "    }\n",
       "    const paths = {\n",
       "      \"vega\": \"https://cdn.jsdelivr.net/npm/vega@5?noext\",\n",
       "      \"vega-lib\": \"https://cdn.jsdelivr.net/npm/vega-lib?noext\",\n",
       "      \"vega-lite\": \"https://cdn.jsdelivr.net/npm/vega-lite@5.8.0?noext\",\n",
       "      \"vega-embed\": \"https://cdn.jsdelivr.net/npm/vega-embed@6?noext\",\n",
       "    };\n",
       "\n",
       "    function maybeLoadScript(lib, version) {\n",
       "      var key = `${lib.replace(\"-\", \"\")}_version`;\n",
       "      return (VEGA_DEBUG[key] == version) ?\n",
       "        Promise.resolve(paths[lib]) :\n",
       "        new Promise(function(resolve, reject) {\n",
       "          var s = document.createElement('script');\n",
       "          document.getElementsByTagName(\"head\")[0].appendChild(s);\n",
       "          s.async = true;\n",
       "          s.onload = () => {\n",
       "            VEGA_DEBUG[key] = version;\n",
       "            return resolve(paths[lib]);\n",
       "          };\n",
       "          s.onerror = () => reject(`Error loading script: ${paths[lib]}`);\n",
       "          s.src = paths[lib];\n",
       "        });\n",
       "    }\n",
       "\n",
       "    function showError(err) {\n",
       "      outputDiv.innerHTML = `<div class=\"error\" style=\"color:red;\">${err}</div>`;\n",
       "      throw err;\n",
       "    }\n",
       "\n",
       "    function displayChart(vegaEmbed) {\n",
       "      vegaEmbed(outputDiv, spec, embedOpt)\n",
       "        .catch(err => showError(`Javascript Error: ${err.message}<br>This usually means there's a typo in your chart specification. See the javascript console for the full traceback.`));\n",
       "    }\n",
       "\n",
       "    if(typeof define === \"function\" && define.amd) {\n",
       "      requirejs.config({paths});\n",
       "      require([\"vega-embed\"], displayChart, err => showError(`Error loading script: ${err.message}`));\n",
       "    } else {\n",
       "      maybeLoadScript(\"vega\", \"5\")\n",
       "        .then(() => maybeLoadScript(\"vega-lite\", \"5.8.0\"))\n",
       "        .then(() => maybeLoadScript(\"vega-embed\", \"6\"))\n",
       "        .catch(showError)\n",
       "        .then(() => displayChart(vegaEmbed));\n",
       "    }\n",
       "  })({\"config\": {\"view\": {\"continuousWidth\": 300, \"continuousHeight\": 300}}, \"data\": {\"name\": \"data-065034c924b62dd4a0a98ba9303dcb62\"}, \"mark\": {\"type\": \"boxplot\"}, \"encoding\": {\"x\": {\"field\": \"variable\", \"type\": \"nominal\"}, \"y\": {\"field\": \"value\", \"scale\": {\"domain\": [0.7, 1]}, \"type\": \"quantitative\"}}, \"$schema\": \"https://vega.github.io/schema/vega-lite/v5.8.0.json\", \"datasets\": {\"data-065034c924b62dd4a0a98ba9303dcb62\": [{\"variable\": \"accuracy_test\", \"value\": 0.8266666666666667}, {\"variable\": \"accuracy_test\", \"value\": 0.8433333333333334}, {\"variable\": \"accuracy_test\", \"value\": 0.8566666666666667}, {\"variable\": \"accuracy_test\", \"value\": 0.8466666666666667}, {\"variable\": \"accuracy_test\", \"value\": 0.85}, {\"variable\": \"accuracy_test\", \"value\": 0.8033333333333333}, {\"variable\": \"accuracy_train2\", \"value\": 0.8469387755102041}, {\"variable\": \"accuracy_train2\", \"value\": 0.8448979591836735}, {\"variable\": \"accuracy_train2\", \"value\": 0.8387755102040816}, {\"variable\": \"accuracy_train2\", \"value\": 0.8346938775510204}, {\"variable\": \"accuracy_train2\", \"value\": 0.8489795918367347}, {\"variable\": \"accuracy_train2\", \"value\": 0.8571428571428571}, {\"variable\": \"accuracy_val\", \"value\": 0.8857142857142857}, {\"variable\": \"accuracy_val\", \"value\": 0.8666666666666667}, {\"variable\": \"accuracy_val\", \"value\": 0.861904761904762}, {\"variable\": \"accuracy_val\", \"value\": 0.8857142857142857}, {\"variable\": \"accuracy_val\", \"value\": 0.8476190476190476}, {\"variable\": \"accuracy_val\", \"value\": 0.8952380952380953}]}}, {\"mode\": \"vega-lite\"});\n",
       "</script>"
      ],
      "text/plain": [
       "alt.Chart(...)"
      ]
     },
     "execution_count": 14,
     "metadata": {},
     "output_type": "execute_result"
    }
   ],
   "source": [
    "import altair as alt\n",
    "\n",
    "source = results.melt()\n",
    "\n",
    "alt.Chart(source).mark_boxplot().encode(\n",
    "    x='variable:N',\n",
    "    y=alt.Y('value:Q',scale=alt.Scale(domain=(0.7, 1)))\n",
    ")"
   ]
  },
  {
   "cell_type": "markdown",
   "metadata": {},
   "source": [
    "#### Exercise 2\n",
    "Write a function that makes predictions for an X matrix using the weights."
   ]
  },
  {
   "cell_type": "code",
   "execution_count": 15,
   "metadata": {
    "tags": []
   },
   "outputs": [
    {
     "data": {
      "text/plain": [
       "993    0\n",
       "859    0\n",
       "298    0\n",
       "553    0\n",
       "672    0\n",
       "      ..\n",
       "167    0\n",
       "998    0\n",
       "984    0\n",
       "491    0\n",
       "10     0\n",
       "Length: 300, dtype: int64"
      ]
     },
     "execution_count": 15,
     "metadata": {},
     "output_type": "execute_result"
    }
   ],
   "source": [
    "w,X_test,t_test,results = Lab3_helper.train(X2,t,seed=0)\n",
    "\n",
    "y_test = Lab3_helper.predict(w,X_test)\n",
    "y_test"
   ]
  },
  {
   "cell_type": "code",
   "execution_count": 16,
   "metadata": {
    "tags": []
   },
   "outputs": [
    {
     "data": {
      "text/plain": [
       "0    242\n",
       "1     58\n",
       "Name: count, dtype: int64"
      ]
     },
     "execution_count": 16,
     "metadata": {},
     "output_type": "execute_result"
    }
   ],
   "source": [
    "y_test.value_counts()"
   ]
  },
  {
   "cell_type": "code",
   "execution_count": 17,
   "metadata": {
    "tags": []
   },
   "outputs": [
    {
     "data": {
      "image/png": "[encoded data removed]",
      "text/plain": [
       "<Figure size 640x480 with 1 Axes>"
      ]
     },
     "metadata": {},
     "output_type": "display_data"
    }
   ],
   "source": [
    "ax = y_test.value_counts().plot.bar()\n",
    "ax.set_xlabel('Prediction');"
   ]
  },
  {
   "cell_type": "markdown",
   "metadata": {},
   "source": [
    "#### Exercise 3\n",
    "Write a function that calculates the confusion matrix."
   ]
  },
  {
   "cell_type": "code",
   "execution_count": 18,
   "metadata": {
    "tags": []
   },
   "outputs": [
    {
     "data": {
      "text/html": [
       "<div>\n",
       "<style scoped>\n",
       "    .dataframe tbody tr th:only-of-type {\n",
       "        vertical-align: middle;\n",
       "    }\n",
       "\n",
       "    .dataframe tbody tr th {\n",
       "        vertical-align: top;\n",
       "    }\n",
       "\n",
       "    .dataframe thead th {\n",
       "        text-align: right;\n",
       "    }\n",
       "</style>\n",
       "<table border=\"1\" class=\"dataframe\">\n",
       "  <thead>\n",
       "    <tr style=\"text-align: right;\">\n",
       "      <th></th>\n",
       "      <th>0</th>\n",
       "      <th>1</th>\n",
       "    </tr>\n",
       "  </thead>\n",
       "  <tbody>\n",
       "    <tr>\n",
       "      <th>0</th>\n",
       "      <td>212</td>\n",
       "      <td>36</td>\n",
       "    </tr>\n",
       "    <tr>\n",
       "      <th>1</th>\n",
       "      <td>30</td>\n",
       "      <td>22</td>\n",
       "    </tr>\n",
       "  </tbody>\n",
       "</table>\n",
       "</div>"
      ],
      "text/plain": [
       "     0   1\n",
       "0  212  36\n",
       "1   30  22"
      ]
     },
     "execution_count": 18,
     "metadata": {},
     "output_type": "execute_result"
    }
   ],
   "source": [
    "y_test = Lab3_helper.predict(w,X_test)\n",
    "\n",
    "cm = Lab3_helper.confusion_matrix(t_test,y_test,labels=[0,1])\n",
    "cm"
   ]
  },
  {
   "cell_type": "markdown",
   "metadata": {},
   "source": [
    "#### Exercise 4\n",
    "Sensitivity, recall, hit rate, or true positive rate (TPR)\n",
    "\n",
    "${\\displaystyle \\mathrm {TPR} ={\\frac {\\mathrm {TP} }{\\mathrm {P} }}={\\frac {\\mathrm {TP} }{\\mathrm {TP} +\\mathrm {FN} }}=1-\\mathrm {FNR} }$\n",
    "\n",
    "specificity, selectivity or true negative rate (TNR)\n",
    "\n",
    "${\\displaystyle \\mathrm {TNR} ={\\frac {\\mathrm {TN} }{\\mathrm {N} }}={\\frac {\\mathrm {TN} }{\\mathrm {TN} +\\mathrm {FP} }}=1-\\mathrm {FPR} }$\n",
    "\n",
    "precision or positive predictive value (PPV)\n",
    "\n",
    "${\\displaystyle \\mathrm {PPV} ={\\frac {\\mathrm {TP} }{\\mathrm {TP} +\\mathrm {FP} }}=1-\\mathrm {FDR} }$\n",
    "\n",
    "F1\n",
    "\n",
    "${\\displaystyle F_{1}={\\frac {2}{\\mathrm {recall^{-1}} +\\mathrm {precision^{-1}} }}=2\\cdot {\\frac {\\mathrm {precision} \\cdot \\mathrm {recall} }{\\mathrm {precision} +\\mathrm {recall} }}={\\frac {\\mathrm {tp} }{\\mathrm {tp} +{\\frac {1}{2}}(\\mathrm {fp} +\\mathrm {fn} )}}}$\n",
    "\n",
    "Write a function that calculates accuracy, sensitivity/recall, specificity, precision, and F1"
   ]
  },
  {
   "cell_type": "code",
   "execution_count": 19,
   "metadata": {
    "lines_to_next_cell": 2,
    "tags": []
   },
   "outputs": [
    {
     "data": {
      "text/plain": [
       "{'accuracy': 0.78,\n",
       " 'sensitivity/recall': 0.4230769230769231,\n",
       " 'specificity': 0.8548387096774194,\n",
       " 'precision': 0.3793103448275862,\n",
       " 'F1': 0.4}"
      ]
     },
     "execution_count": 19,
     "metadata": {},
     "output_type": "execute_result"
    }
   ],
   "source": [
    "stats = Lab3_helper.evaluation(cm,positive_class=1)\n",
    "stats"
   ]
  },
  {
   "cell_type": "code",
   "execution_count": 20,
   "metadata": {
    "tags": []
   },
   "outputs": [
    {
     "data": {
      "text/plain": [
       "{'accuracy': 0.78,\n",
       " 'sensitivity/recall': 0.8548387096774194,\n",
       " 'specificity': 0.4230769230769231,\n",
       " 'precision': 0.8760330578512396,\n",
       " 'F1': 0.8653061224489798}"
      ]
     },
     "execution_count": 20,
     "metadata": {},
     "output_type": "execute_result"
    }
   ],
   "source": [
    "stats = Lab3_helper.evaluation(cm,positive_class=0)\n",
    "stats"
   ]
  },
  {
   "cell_type": "markdown",
   "metadata": {},
   "source": [
    "#### Exercise 5\n",
    "Create a function that trains our neural network for each of the seeds and then returns variable importance of each feature as:\n",
    "\n",
    "${\\it importance}(w_i) = \\frac{1}{|seeds|}\\sum_{s \\in seeds} \\frac{\\sqrt{w_i^2}}{max\\left(\\sqrt{w_0^2}, \\sqrt{w_1^2} ... \\sqrt{w_d^2}\\right)}$\n",
    "\n",
    "Basically, compute the variable importance for each seed and then average."
   ]
  },
  {
   "cell_type": "code",
   "execution_count": 21,
   "metadata": {
    "tags": []
   },
   "outputs": [
    {
     "data": {
      "text/plain": [
       "Stroke_No               0.654807\n",
       "Stroke_Yes              0.650848\n",
       "stroke_code             0.643480\n",
       "KidneyDisease_Yes       0.504048\n",
       "GenHealth_Poor          0.503386\n",
       "                          ...   \n",
       "Race_Asian              0.031975\n",
       "AgeCategory_35-39       0.030765\n",
       "smoking_code            0.030713\n",
       "AgeCategory_18-24       0.028640\n",
       "PhysicalActivity_Yes    0.028193\n",
       "Length: 63, dtype: float64"
      ]
     },
     "execution_count": 21,
     "metadata": {},
     "output_type": "execute_result"
    }
   ],
   "source": [
    "seeds = [0,1,2,3,4,5]\n",
    "importances = Lab3_helper.importance(X2,t,seeds)\n",
    "importances.sort_values(ascending=False)"
   ]
  },
  {
   "cell_type": "markdown",
   "metadata": {},
   "source": [
    "#### Problem 3: Compare these variable importances to the variable importances achieved by test-based permutation variable importance. \n",
    "\n",
    "To complete this problem, you will have to copy your previous lab's solutions to this notebook or Lab3_helper.py. From there, you can make the modifications necessary to train and evaluate the neural network instead of the Bayesian classifier."
   ]
  },
  {
   "cell_type": "code",
   "execution_count": 22,
   "metadata": {
    "tags": []
   },
   "outputs": [
    {
     "name": "stdout",
     "output_type": "stream",
     "text": [
      "Here is what I get when I run test based feature importance (you still need to do your own :))\n"
     ]
    },
    {
     "data": {
      "text/plain": [
       "stroke_code                        0.038111\n",
       "Stroke_Yes                         0.036500\n",
       "Stroke_No                          0.036111\n",
       "KidneyDisease_Yes                  0.025167\n",
       "GenHealth_Poor                     0.025000\n",
       "                                     ...   \n",
       "AgeCategory_30-34                 -0.000611\n",
       "AgeCategory_35-39                 -0.000611\n",
       "AgeCategory_50-54                 -0.000889\n",
       "Diabetic_Yes (during pregnancy)   -0.001000\n",
       "SkinCancer_No                     -0.001111\n",
       "Length: 63, dtype: float64"
      ]
     },
     "execution_count": 22,
     "metadata": {},
     "output_type": "execute_result"
    }
   ],
   "source": [
    "#"
   ]
  },
  {
   "cell_type": "markdown",
   "metadata": {},
   "source": [
    "**Upload your solution/answer to Canvas.**"
   ]
  },
  {
   "cell_type": "code",
   "execution_count": 26,
   "metadata": {
    "tags": []
   },
   "outputs": [],
   "source": [
    "# Good job!\n",
    "# Don't forget to push with ./submit.sh"
   ]
  },
  {
   "cell_type": "markdown",
   "metadata": {},
   "source": [
    "#### Having trouble with the test cases and the autograder?\n",
    "\n",
    "You can always load up the answers for the autograder. The autograder runs your code and compares your answer to the expected answer. I manually review your code, so there is no need to hide this from you."
   ]
  },
  {
   "cell_type": "code",
   "execution_count": 28,
   "metadata": {
    "tags": []
   },
   "outputs": [
    {
     "data": {
      "text/plain": [
       "dict_keys(['exercise_1', 'exercise_2', 'exercise_3', 'exercise_4', 'exercise_5'])"
      ]
     },
     "execution_count": 28,
     "metadata": {},
     "output_type": "execute_result"
    }
   ],
   "source": [
    "import joblib\n",
    "answers = joblib.load(f\"{home}/csc-466-student/tests/answers_Lab3.joblib\")\n",
    "answers.keys()"
   ]
  },
  {
   "cell_type": "code",
   "execution_count": null,
   "metadata": {
    "tags": []
   },
   "outputs": [],
   "source": [
    "answers['exercise_2']"
   ]
  },
  {
   "cell_type": "code",
   "execution_count": null,
   "metadata": {},
   "outputs": [],
   "source": []
  },
  {
   "cell_type": "code",
   "execution_count": null,
   "metadata": {},
   "outputs": [],
   "source": []
  }
 ],
 "metadata": {
  "kernelspec": {
   "display_name": "Python 3 (ipykernel)",
   "language": "python",
   "name": "python3"
  },
  "language_info": {
   "codemirror_mode": {
    "name": "ipython",
    "version": 3
   },
   "file_extension": ".py",
   "mimetype": "text/x-python",
   "name": "python",
   "nbconvert_exporter": "python",
   "pygments_lexer": "ipython3",
   "version": "3.9.7"
  }
 },
 "nbformat": 4,
 "nbformat_minor": 4
}
