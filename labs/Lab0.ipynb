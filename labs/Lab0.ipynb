{
 "cells": [
  {
   "cell_type": "markdown",
   "metadata": {
    "id": "hGe9-Pj0uZwg"
   },
   "source": [
    "# Reading in Data\n",
    "\n",
    "In this lesson, we will analyze a data set of COVID-19 cases from Portugal as of May 28, 2020. Let's start by reading in the data."
   ]
  },
  {
   "cell_type": "code",
   "execution_count": null,
   "metadata": {
    "id": "Ak2gYqYjZlmI"
   },
   "outputs": [],
   "source": [
    "import pandas as pd\n",
    "\n",
    "url = \"http://dlsun.github.io/pods/data/covid/\"\n",
    "portugal_data = pd.read_csv(url + \"portugal_2020-05-28.csv\")\n",
    "portugal_data"
   ]
  },
  {
   "cell_type": "markdown",
   "metadata": {
    "id": "JRe0ZadWVZeH"
   },
   "source": [
    "The data is stored in a data type called a `DataFrame`. A `DataFrame` is a two-dimensional object, with rows and columns.\n",
    "\n",
    "We can access a single column, such as the \"sex\" column:"
   ]
  },
  {
   "cell_type": "code",
   "execution_count": null,
   "metadata": {
    "id": "o5h2b_okVRAn"
   },
   "outputs": [],
   "source": [
    "portugal_data[\"sex\"]"
   ]
  },
  {
   "cell_type": "markdown",
   "metadata": {
    "id": "Jrg0bB58V7yZ"
   },
   "source": [
    "We can also access a single row, such as row 10 (which is actually the 11th row because Python uses 0-based indexing):"
   ]
  },
  {
   "cell_type": "code",
   "execution_count": null,
   "metadata": {
    "id": "l73yJ3YBV-S7"
   },
   "outputs": [],
   "source": [
    "portugal_data.loc[10]"
   ]
  },
  {
   "cell_type": "markdown",
   "metadata": {
    "id": "iP6JOeUbWTuf"
   },
   "source": [
    "A single row or column is stored in a data type called a `Series`. A `Series` is a one-dimensional object."
   ]
  },
  {
   "cell_type": "markdown",
   "metadata": {
    "id": "Fcv0gijGWeS5"
   },
   "source": [
    "We can also access multiple columns by passing in a _list_ of column names. The result is necessarily a `DataFrame` because we have multiple rows _and_ multiple columns."
   ]
  },
  {
   "cell_type": "code",
   "execution_count": null,
   "metadata": {
    "id": "8_FMHncKVpRE"
   },
   "outputs": [],
   "source": [
    "portugal_data[[\"sex\", \"age\"]]"
   ]
  },
  {
   "cell_type": "markdown",
   "metadata": {
    "id": "PmZdqOg4U_Zh"
   },
   "source": [
    "# Categorical Data\n",
    "\n",
    "All three of the columns in the data set are **categorical** (as opposed to quantitative). To summarize a categorical variable, we count the number of observations in each category."
   ]
  },
  {
   "cell_type": "code",
   "execution_count": null,
   "metadata": {
    "id": "x_APacWrU8lm"
   },
   "outputs": [],
   "source": [
    "portugal_data[\"sex\"].value_counts()"
   ]
  },
  {
   "cell_type": "markdown",
   "metadata": {
    "id": "_VNuZpUoZdrH"
   },
   "source": [
    "A **bar plot** is used to visualize a categorical variable. To make a bar plot, call `.plot.bar()` on the counts that we just calculated. Notice that we can chain commands."
   ]
  },
  {
   "cell_type": "code",
   "execution_count": null,
   "metadata": {
    "id": "z71t3yhUZ1Q0"
   },
   "outputs": [],
   "source": [
    "portugal_data[\"sex\"].value_counts().plot.bar()"
   ]
  },
  {
   "cell_type": "markdown",
   "metadata": {
    "id": "yX4gXoT5XW-m"
   },
   "source": [
    "**Problem 1.** Summarize and visualize the \"fatality\" variable. What do you think the values in this column represent?"
   ]
  },
  {
   "cell_type": "code",
   "execution_count": null,
   "metadata": {
    "id": "sLf3duOcXW0s"
   },
   "outputs": [],
   "source": [
    "# YOUR CODE HERE"
   ]
  },
  {
   "cell_type": "markdown",
   "metadata": {
    "id": "uG6KNR-UXC87"
   },
   "source": [
    "**Problem 2.** Summarize and visualize the \"age\" variable. How do the categories seem to be ordered? Can you figure out a way to get the categories to be ordered naturally?"
   ]
  },
  {
   "cell_type": "code",
   "execution_count": null,
   "metadata": {
    "id": "QCPI1dMdXCwS"
   },
   "outputs": [],
   "source": [
    "# YOUR CODE HERE"
   ]
  },
  {
   "cell_type": "markdown",
   "metadata": {
    "id": "tKvM2-pUX9v7"
   },
   "source": [
    "## Comparing Distributions\n",
    "\n",
    "A data set of COVID cases in Italy can be found at the following URL: http://dlsun.github.io/pods/data/covid/italy_2020-05-26.csv.\n",
    "\n",
    "**Problem 3.** Read in this data into the variable `italy_data` and make a graph of the \"age\" variable for this data set."
   ]
  },
  {
   "cell_type": "code",
   "execution_count": null,
   "metadata": {
    "id": "EKAz3WvHaMr6"
   },
   "outputs": [],
   "source": [
    "italy_data = # READ IN DATA"
   ]
  },
  {
   "cell_type": "markdown",
   "metadata": {
    "id": "iJdeDHT3bvFv"
   },
   "source": [
    "If we want to compare the \"age\" variable across the two data sets (Portugal and Italy), we will need to plot them on the same graph. We can do this by stacking the counts side by side in a `DataFrame`."
   ]
  },
  {
   "cell_type": "code",
   "execution_count": null,
   "metadata": {
    "id": "u4a-hP4sbu2M"
   },
   "outputs": [],
   "source": [
    "cases_by_age = pd.concat(\n",
    "    [portugal_data.age.value_counts(), italy_data.age.value_counts()],\n",
    "    axis=\"columns\",\n",
    "    keys=[\"Portugal\", \"Italy\"]\n",
    "    ).sort_index()\n",
    "\n",
    "cases_by_age"
   ]
  },
  {
   "cell_type": "markdown",
   "metadata": {
    "id": "a1ThbyRYd4dO"
   },
   "source": [
    "Calling `.plot.bar()` on this `DataFrame` will produce a grouped bar plot."
   ]
  },
  {
   "cell_type": "code",
   "execution_count": null,
   "metadata": {
    "id": "ORQtm6kCd4UM"
   },
   "outputs": [],
   "source": [
    "cases_by_age.plot.bar()"
   ]
  },
  {
   "cell_type": "markdown",
   "metadata": {
    "id": "MDxCbuZgeRhj"
   },
   "source": [
    "Unfortunately, it is a bit hard to compare the two distributions because there are so many more cases in Italy than there are in Portugal. We can solve this problem by converting the counts into proportions or percentages of the total.\n",
    "\n",
    "To do this, we need to divide by the total count. This operation is called **normalization**. We can do the normalization when we call `.value_counts()`."
   ]
  },
  {
   "cell_type": "code",
   "execution_count": null,
   "metadata": {
    "id": "YqhRXFqweRWY"
   },
   "outputs": [],
   "source": [
    "distributions = pd.concat(\n",
    "    [portugal_data.age.value_counts(normalize=True), \n",
    "     italy_data.age.value_counts(normalize=True)],\n",
    "     axis=\"columns\",\n",
    "     keys=[\"Portugal\", \"Italy\"]\n",
    "     ).sort_index()\n",
    "\n",
    "distributions"
   ]
  },
  {
   "cell_type": "code",
   "execution_count": null,
   "metadata": {
    "id": "auX6u3rChbZE"
   },
   "outputs": [],
   "source": [
    "distributions.plot.bar()"
   ]
  },
  {
   "cell_type": "markdown",
   "metadata": {
    "id": "FQS609rOfe2I"
   },
   "source": [
    "Or we can do it after-the-fact, by calculating the total of each column and dividing."
   ]
  },
  {
   "cell_type": "code",
   "execution_count": null,
   "metadata": {
    "id": "SMcCXP2OhLiL"
   },
   "outputs": [],
   "source": [
    "distributions = cases_by_age / cases_by_age.sum()\n",
    "distributions.plot.bar()"
   ]
  },
  {
   "cell_type": "markdown",
   "metadata": {
    "id": "xJTDWWHch2LP"
   },
   "source": [
    "## Relationships between Two Categorical Variables"
   ]
  },
  {
   "cell_type": "markdown",
   "metadata": {
    "id": "3C2dzfogh-3E"
   },
   "source": [
    "The most interesting questions usually involve more than one variable.\n",
    "\n",
    "1. Does fatality differ across sex?\n",
    "2. Does fatality differ across age?\n",
    "\n",
    "To summarize more than one categorical variable, we can call `.value_counts()` on a `DataFrame` with multiple columns. "
   ]
  },
  {
   "cell_type": "code",
   "execution_count": null,
   "metadata": {
    "id": "WzzxmiLNh2Bf"
   },
   "outputs": [],
   "source": [
    "fatality_by_sex = portugal_data[[\"fatality\", \"sex\"]].value_counts()\n",
    "fatality_by_sex"
   ]
  },
  {
   "cell_type": "markdown",
   "metadata": {
    "id": "2cm-D9YyldI7"
   },
   "source": [
    "It is easier to read this if the counts are arranged in a **two-way table**, with one variable indexing rows and the other indexing columns."
   ]
  },
  {
   "cell_type": "code",
   "execution_count": null,
   "metadata": {
    "id": "QMfMD5Ghk_Ru"
   },
   "outputs": [],
   "source": [
    "fatality_sex_table = fatality_by_sex.unstack(\"fatality\").sort_index()\n",
    "fatality_sex_table"
   ]
  },
  {
   "cell_type": "markdown",
   "metadata": {
    "id": "XfLb1RPSmqmk"
   },
   "source": [
    "We can make a grouped bar plot of these counts, just like we did above.\n",
    "\n"
   ]
  },
  {
   "cell_type": "code",
   "execution_count": null,
   "metadata": {
    "id": "uogmur2smqcj"
   },
   "outputs": [],
   "source": [
    "fatality_sex_table.plot.bar()"
   ]
  },
  {
   "cell_type": "markdown",
   "metadata": {
    "id": "NTsOEkj2l1YT"
   },
   "source": [
    "It is difficult to compare fatality rates for men and women because many more women test positive for COVID than men. We can normalize the counts for each sex, in the same way that we normalized the counts for the different countries (Portugal vs. Italy).\n",
    "\n",
    "First, we need to calculate the total for each sex.\n"
   ]
  },
  {
   "cell_type": "code",
   "execution_count": null,
   "metadata": {
    "id": "MBxM78dLl1R_"
   },
   "outputs": [],
   "source": [
    "sex_counts = fatality_sex_table.sum(axis=\"columns\")\n",
    "sex_counts"
   ]
  },
  {
   "cell_type": "markdown",
   "metadata": {
    "id": "cr_Z6lP4pWoj"
   },
   "source": [
    "Now, we need to divide each row by the corresponding total. This is called the \"conditional distribution of fatality given sex\"."
   ]
  },
  {
   "cell_type": "code",
   "execution_count": null,
   "metadata": {
    "id": "lAXkvAnWpWZT"
   },
   "outputs": [],
   "source": [
    "fatality_given_sex = fatality_sex_table.divide(sex_counts, axis=\"rows\")\n",
    "fatality_given_sex.plot.bar()\n",
    "fatality_given_sex"
   ]
  },
  {
   "cell_type": "markdown",
   "metadata": {
    "id": "uCxQ76b5pwZQ"
   },
   "source": [
    "If there are only two categories in a conditional distribution, then one of the categories is redundant (since the numbers have to add up to 1). For clarity, we can plot just one of these categories."
   ]
  },
  {
   "cell_type": "code",
   "execution_count": null,
   "metadata": {
    "id": "FpnN0efLpkK2"
   },
   "outputs": [],
   "source": [
    "fatality_given_sex[1].plot.bar()"
   ]
  },
  {
   "cell_type": "markdown",
   "metadata": {
    "id": "A9xfP2nhrsyU"
   },
   "source": [
    "We see that men have a higher COVID-19 fatality rate than women."
   ]
  },
  {
   "cell_type": "markdown",
   "metadata": {
    "id": "q9LNQMnU1ist"
   },
   "source": [
    "**Problem 4.** Make a visualization showing the COVID-19 fatality rate for each age group in Portugal."
   ]
  },
  {
   "cell_type": "code",
   "execution_count": null,
   "metadata": {
    "id": "37ZPKWa-1il7"
   },
   "outputs": [],
   "source": [
    "# YOUR CODE HERE"
   ]
  },
  {
   "cell_type": "markdown",
   "metadata": {
    "id": "wXa8fYNMorUj"
   },
   "source": [
    "## Case Study\n",
    "\n",
    "We will now compare the Portugal data to Colombia data collected on the same day."
   ]
  },
  {
   "cell_type": "code",
   "execution_count": null,
   "metadata": {
    "id": "MP3cYQBKmJ9q"
   },
   "outputs": [],
   "source": [
    "colombia_data = pd.read_csv(url + \"colombia_2020-05-28.csv\")\n",
    "colombia_data"
   ]
  },
  {
   "cell_type": "markdown",
   "metadata": {
    "id": "VXuGkyN8tir9"
   },
   "source": [
    "The Colombia data is more raw than the Portugal data. We need to transform some of the variables to make it comparable to the Portugal data."
   ]
  },
  {
   "cell_type": "markdown",
   "metadata": {
    "id": "PkUXUYqCy0NT"
   },
   "source": [
    "### Transforming a Categorical Variable\n",
    "\n",
    "Each row represents a case, but there is no column that corresponds directly to fatality. We will transform the \"Estado\" (state) column into a fatality column. If a patient died, then their state is marked as \"Fallecido\" (deceased). "
   ]
  },
  {
   "cell_type": "code",
   "execution_count": null,
   "metadata": {
    "id": "yotz0JAOtfzD"
   },
   "outputs": [],
   "source": [
    "colombia_data[\"Estado\"].map({\n",
    "    \"Fallecido\": 1\n",
    "})"
   ]
  },
  {
   "cell_type": "markdown",
   "metadata": {
    "id": "pIrg0P2sySzO"
   },
   "source": [
    "There are other states, but because we did not specify their value, they were replaced by NaNs. We will fill these NaNs with 0s."
   ]
  },
  {
   "cell_type": "code",
   "execution_count": null,
   "metadata": {
    "id": "vTPPj-GSw7N5"
   },
   "outputs": [],
   "source": [
    "colombia_data[\"fatality\"] = colombia_data[\"Estado\"].map({\n",
    "    \"Fallecido\": 1\n",
    "}).fillna(0)\n",
    "\n",
    "colombia_data"
   ]
  },
  {
   "cell_type": "markdown",
   "metadata": {
    "id": "ERtmMZ0hy5iA"
   },
   "source": [
    "### Transforming a Quantitative Variable Into a Categorical Variable\n",
    "\n",
    "We also need to convert \"Edad\" (age), which is a quantitative variable in this data set, into age ranges."
   ]
  },
  {
   "cell_type": "code",
   "execution_count": null,
   "metadata": {
    "id": "Vd_kTG0uygF-"
   },
   "outputs": [],
   "source": [
    "colombia_data[\"age\"] = pd.cut(\n",
    "    colombia_data[\"Edad\"], \n",
    "    bins=[0, 10, 20, 30, 40, 50, 60, 70, 80, 120],\n",
    "    labels=[\"0-9\", \"10-19\", \"20-29\", \"30-39\", \"40-49\", \"50-59\", \"60-69\", \"70-79\", \"80+\"],\n",
    "    right=False)\n",
    "\n",
    "colombia_data"
   ]
  },
  {
   "cell_type": "markdown",
   "metadata": {
    "id": "ya7-RKc70T_U"
   },
   "source": [
    "**Problem 5.** Calculate the overall fatality rate for Colombia. Compare it with the rate for Portugal."
   ]
  },
  {
   "cell_type": "code",
   "execution_count": null,
   "metadata": {
    "id": "4EP1FSz7yhSh"
   },
   "outputs": [],
   "source": [
    "# YOUR CODE HERE"
   ]
  },
  {
   "cell_type": "markdown",
   "metadata": {
    "id": "PgYgoACl0Z7w"
   },
   "source": [
    "**Problem 6.** Calculate the fatality rates for each age group for Colombia. Make a visualization comparing these rates with the ones for Portugal. Do you notice anything strange? (Compare with your answer to the previous exercise.) Can you explain what is going on?"
   ]
  },
  {
   "cell_type": "code",
   "execution_count": null,
   "metadata": {
    "id": "lv6aYGzx18Q7"
   },
   "outputs": [],
   "source": [
    "# YOUR CODE HERE"
   ]
  }
 ],
 "metadata": {
  "colab": {
   "collapsed_sections": [],
   "name": "Data Science Workshop - Data Analysis Part 1",
   "provenance": []
  },
  "kernelspec": {
   "display_name": "Python 3 (ipykernel)",
   "language": "python",
   "name": "python3"
  },
  "language_info": {
   "codemirror_mode": {
    "name": "ipython",
    "version": 3
   },
   "file_extension": ".py",
   "mimetype": "text/x-python",
   "name": "python",
   "nbconvert_exporter": "python",
   "pygments_lexer": "ipython3",
   "version": "3.9.7"
  }
 },
 "nbformat": 4,
 "nbformat_minor": 4
}
