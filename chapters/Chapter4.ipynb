{
 "cells": [
  {
   "cell_type": "markdown",
   "metadata": {
    "hideCode": false,
    "hidePrompt": false,
    "slideshow": {
     "slide_type": "slide"
    }
   },
   "source": [
    "# Chapter 4 - Decision Trees\n",
    "\n",
    "Paul E. Anderson"
   ]
  },
  {
   "cell_type": "code",
   "execution_count": 2,
   "metadata": {
    "slideshow": {
     "slide_type": "skip"
    }
   },
   "outputs": [],
   "source": [
    "%load_ext autoreload\n",
    "%autoreload 2\n",
    "\n",
    "from pathlib import Path\n",
    "home = str(Path.home()) # all other paths are relative to this path. change to something else if this is not the case on your system"
   ]
  },
  {
   "cell_type": "markdown",
   "metadata": {
    "slideshow": {
     "slide_type": "subslide"
    }
   },
   "source": [
    "## How would you communicate your decision about a typical Thursday night?\n",
    "\n",
    "Let's pretend you have a new roommate who is part of an exchange program from your favorite foreign city. They are a little confused about what to do on their first Thursday night in town, so they ask you for help. You talk to them for a while, but it becomes clear they really won't leave you alone until you diagram your decision making progress. Let's take 5-10 minutes and come up with a tree you can share with the class :)\n",
    "\n",
    "Here are your features:\n",
    "* Deadline? $\\in$ {Urgent, Near, None}\n",
    "* Lazy? $\\in$ {Yes, No}\n",
    "* Party? $\\in$ {Yes, No party going on tonight}\n",
    "\n",
    "You are trying to predict one of the following activities:\n",
    "* Activity $\\in$ {Party, TV, Pub, Study}"
   ]
  },
  {
   "cell_type": "markdown",
   "metadata": {
    "slideshow": {
     "slide_type": "subslide"
    }
   },
   "source": [
    "### What if we needed a way to create a tree that generalized to many people?\n",
    "\n",
    "Onto our decision tree algorithm!"
   ]
  },
  {
   "cell_type": "code",
   "execution_count": 3,
   "metadata": {
    "slideshow": {
     "slide_type": "fragment"
    }
   },
   "outputs": [
    {
     "data": {
      "text/html": [
       "<div>\n",
       "<style scoped>\n",
       "    .dataframe tbody tr th:only-of-type {\n",
       "        vertical-align: middle;\n",
       "    }\n",
       "\n",
       "    .dataframe tbody tr th {\n",
       "        vertical-align: top;\n",
       "    }\n",
       "\n",
       "    .dataframe thead th {\n",
       "        text-align: right;\n",
       "    }\n",
       "</style>\n",
       "<table border=\"1\" class=\"dataframe\">\n",
       "  <thead>\n",
       "    <tr style=\"text-align: right;\">\n",
       "      <th></th>\n",
       "      <th>Deadline?</th>\n",
       "      <th>Is there a party?</th>\n",
       "      <th>Lazy?</th>\n",
       "      <th>Activity</th>\n",
       "    </tr>\n",
       "  </thead>\n",
       "  <tbody>\n",
       "    <tr>\n",
       "      <th>0</th>\n",
       "      <td>Urgent</td>\n",
       "      <td>Yes</td>\n",
       "      <td>Yes</td>\n",
       "      <td>Party</td>\n",
       "    </tr>\n",
       "    <tr>\n",
       "      <th>1</th>\n",
       "      <td>Urgent</td>\n",
       "      <td>No</td>\n",
       "      <td>Yes</td>\n",
       "      <td>Study</td>\n",
       "    </tr>\n",
       "    <tr>\n",
       "      <th>2</th>\n",
       "      <td>Near</td>\n",
       "      <td>Yes</td>\n",
       "      <td>Yes</td>\n",
       "      <td>Party</td>\n",
       "    </tr>\n",
       "    <tr>\n",
       "      <th>3</th>\n",
       "      <td>None</td>\n",
       "      <td>Yes</td>\n",
       "      <td>No</td>\n",
       "      <td>Party</td>\n",
       "    </tr>\n",
       "    <tr>\n",
       "      <th>4</th>\n",
       "      <td>None</td>\n",
       "      <td>No</td>\n",
       "      <td>Yes</td>\n",
       "      <td>Pub</td>\n",
       "    </tr>\n",
       "    <tr>\n",
       "      <th>5</th>\n",
       "      <td>None</td>\n",
       "      <td>Yes</td>\n",
       "      <td>No</td>\n",
       "      <td>Party</td>\n",
       "    </tr>\n",
       "    <tr>\n",
       "      <th>6</th>\n",
       "      <td>Near</td>\n",
       "      <td>No</td>\n",
       "      <td>No</td>\n",
       "      <td>Study</td>\n",
       "    </tr>\n",
       "    <tr>\n",
       "      <th>7</th>\n",
       "      <td>Near</td>\n",
       "      <td>No</td>\n",
       "      <td>Yes</td>\n",
       "      <td>TV</td>\n",
       "    </tr>\n",
       "    <tr>\n",
       "      <th>8</th>\n",
       "      <td>Near</td>\n",
       "      <td>Yes</td>\n",
       "      <td>Yes</td>\n",
       "      <td>Party</td>\n",
       "    </tr>\n",
       "    <tr>\n",
       "      <th>9</th>\n",
       "      <td>Urgent</td>\n",
       "      <td>No</td>\n",
       "      <td>No</td>\n",
       "      <td>Study</td>\n",
       "    </tr>\n",
       "  </tbody>\n",
       "</table>\n",
       "</div>"
      ],
      "text/plain": [
       "  Deadline? Is there a party? Lazy? Activity\n",
       "0    Urgent               Yes   Yes    Party\n",
       "1    Urgent                No   Yes    Study\n",
       "2      Near               Yes   Yes    Party\n",
       "3      None               Yes    No    Party\n",
       "4      None                No   Yes      Pub\n",
       "5      None               Yes    No    Party\n",
       "6      Near                No    No    Study\n",
       "7      Near                No   Yes       TV\n",
       "8      Near               Yes   Yes    Party\n",
       "9    Urgent                No    No    Study"
      ]
     },
     "execution_count": 3,
     "metadata": {},
     "output_type": "execute_result"
    }
   ],
   "source": [
    "import pandas as pd\n",
    "import numpy as np\n",
    "\n",
    "df = pd.read_csv(f'{home}/csc-466-student/data/activity.csv')\n",
    "df"
   ]
  },
  {
   "cell_type": "markdown",
   "metadata": {
    "slideshow": {
     "slide_type": "subslide"
    }
   },
   "source": [
    "### Let's play a game of 20 questions\n",
    "\n",
    "You've got 20 questions and you are trying to quess what your opponent is thinking by asking questions. \n",
    "\n",
    "For each question, you are trying to ask something that gives you the most information given what you already know. \n",
    "\n",
    "It is common to ask things like \"Is it an animal?\" before asking \"Is it a cat?\"\n",
    "\n",
    "We need a way to encode this mathematically, and this leads us to information theory."
   ]
  },
  {
   "cell_type": "markdown",
   "metadata": {
    "slideshow": {
     "slide_type": "subslide"
    }
   },
   "source": [
    "We will reserve the writing of the decision tree algorithm to lab this week. Instead, we will focus on defining the process mathematically. To do this, we need to start discussing sets and metrics we can use about sets."
   ]
  },
  {
   "cell_type": "markdown",
   "metadata": {},
   "source": [
    "### Entropy\n",
    "\n",
    "We will first discuss the entropy of the universe. If said universe consisted of a set of items. \n",
    "\n",
    "Let $S$ be a set of items. Each element of $S$ can take on one of $Y$ values. We will write the unique values of $Y$ as $V_Y$.\n",
    "\n",
    "$p(y)$ proportion of the number of elements in class ${\\displaystyle y}$ to the number of elements in set\n",
    "\n",
    "${\\displaystyle \\mathrm {H} {(S)}=\\sum _{y\\in V_Y}{-p(y)\\log _{2}p(y)}}$"
   ]
  },
  {
   "cell_type": "markdown",
   "metadata": {
    "slideshow": {
     "slide_type": "subslide"
    }
   },
   "source": [
    "Let's look at our concrete example:"
   ]
  },
  {
   "cell_type": "code",
   "execution_count": 4,
   "metadata": {
    "slideshow": {
     "slide_type": "fragment"
    }
   },
   "outputs": [
    {
     "data": {
      "text/plain": [
       "array(['Party', 'Study', 'Party', 'Party', 'Pub', 'Party', 'Study', 'TV',\n",
       "       'Party', 'Study'], dtype=object)"
      ]
     },
     "execution_count": 4,
     "metadata": {},
     "output_type": "execute_result"
    }
   ],
   "source": [
    "S = df['Activity'].values\n",
    "S"
   ]
  },
  {
   "cell_type": "code",
   "execution_count": 5,
   "metadata": {
    "slideshow": {
     "slide_type": "fragment"
    }
   },
   "outputs": [
    {
     "data": {
      "text/plain": [
       "array(['Party', 'Study', 'Pub', 'TV'], dtype=object)"
      ]
     },
     "execution_count": 5,
     "metadata": {},
     "output_type": "execute_result"
    }
   ],
   "source": [
    "VY = df['Activity'].unique()\n",
    "VY"
   ]
  },
  {
   "cell_type": "markdown",
   "metadata": {},
   "source": [
    "**Stop and think:** Can you write a loop to calculate entropy using ``VY`` and ``S``?"
   ]
  },
  {
   "cell_type": "code",
   "execution_count": 6,
   "metadata": {},
   "outputs": [
    {
     "data": {
      "text/plain": [
       "1.6854752972273346"
      ]
     },
     "execution_count": 6,
     "metadata": {},
     "output_type": "execute_result"
    }
   ],
   "source": [
    "entropy = 0\n",
    "# Your solution here\n",
    "entropy"
   ]
  },
  {
   "cell_type": "markdown",
   "metadata": {},
   "source": [
    "**Stop and think:** In your own words, how would you calculate the entropy after asking whether there is a deadline?\n",
    "\n",
    "**Your answer here**"
   ]
  },
  {
   "cell_type": "markdown",
   "metadata": {},
   "source": [
    "**Note:** When calculating entropy for classification in a decision tree, you will always calculate the entropy on the column you are trying to predict."
   ]
  },
  {
   "cell_type": "code",
   "execution_count": 7,
   "metadata": {},
   "outputs": [
    {
     "data": {
      "text/plain": [
       "array(['Urgent', 'Near', 'None'], dtype=object)"
      ]
     },
     "execution_count": 7,
     "metadata": {},
     "output_type": "execute_result"
    }
   ],
   "source": [
    "df['Deadline?'].unique()"
   ]
  },
  {
   "cell_type": "markdown",
   "metadata": {},
   "source": [
    "**Let's now do the entropy calculation for only those samples with an urgent deadline.**"
   ]
  },
  {
   "cell_type": "code",
   "execution_count": 8,
   "metadata": {},
   "outputs": [
    {
     "data": {
      "text/html": [
       "<div>\n",
       "<style scoped>\n",
       "    .dataframe tbody tr th:only-of-type {\n",
       "        vertical-align: middle;\n",
       "    }\n",
       "\n",
       "    .dataframe tbody tr th {\n",
       "        vertical-align: top;\n",
       "    }\n",
       "\n",
       "    .dataframe thead th {\n",
       "        text-align: right;\n",
       "    }\n",
       "</style>\n",
       "<table border=\"1\" class=\"dataframe\">\n",
       "  <thead>\n",
       "    <tr style=\"text-align: right;\">\n",
       "      <th></th>\n",
       "      <th>Deadline?</th>\n",
       "      <th>Is there a party?</th>\n",
       "      <th>Lazy?</th>\n",
       "      <th>Activity</th>\n",
       "    </tr>\n",
       "  </thead>\n",
       "  <tbody>\n",
       "    <tr>\n",
       "      <th>0</th>\n",
       "      <td>Urgent</td>\n",
       "      <td>Yes</td>\n",
       "      <td>Yes</td>\n",
       "      <td>Party</td>\n",
       "    </tr>\n",
       "    <tr>\n",
       "      <th>1</th>\n",
       "      <td>Urgent</td>\n",
       "      <td>No</td>\n",
       "      <td>Yes</td>\n",
       "      <td>Study</td>\n",
       "    </tr>\n",
       "    <tr>\n",
       "      <th>9</th>\n",
       "      <td>Urgent</td>\n",
       "      <td>No</td>\n",
       "      <td>No</td>\n",
       "      <td>Study</td>\n",
       "    </tr>\n",
       "  </tbody>\n",
       "</table>\n",
       "</div>"
      ],
      "text/plain": [
       "  Deadline? Is there a party? Lazy? Activity\n",
       "0    Urgent               Yes   Yes    Party\n",
       "1    Urgent                No   Yes    Study\n",
       "9    Urgent                No    No    Study"
      ]
     },
     "execution_count": 8,
     "metadata": {},
     "output_type": "execute_result"
    }
   ],
   "source": [
    "df_urgent = df.loc[df['Deadline?'] == 'Urgent']\n",
    "df_urgent"
   ]
  },
  {
   "cell_type": "code",
   "execution_count": 9,
   "metadata": {},
   "outputs": [],
   "source": [
    "def calc_entropy(S):\n",
    "    VY = S.unique()\n",
    "    entropy = 0\n",
    "    # Your solution here\n",
    "    return entropy"
   ]
  },
  {
   "cell_type": "code",
   "execution_count": 10,
   "metadata": {},
   "outputs": [
    {
     "data": {
      "text/plain": [
       "1.6854752972273346"
      ]
     },
     "execution_count": 10,
     "metadata": {},
     "output_type": "execute_result"
    }
   ],
   "source": [
    "calc_entropy(df['Activity'])"
   ]
  },
  {
   "cell_type": "code",
   "execution_count": 11,
   "metadata": {},
   "outputs": [
    {
     "data": {
      "text/plain": [
       "0.9182958340544896"
      ]
     },
     "execution_count": 11,
     "metadata": {},
     "output_type": "execute_result"
    }
   ],
   "source": [
    "calc_entropy(df_urgent['Activity'])"
   ]
  },
  {
   "cell_type": "markdown",
   "metadata": {},
   "source": [
    "**Stop and think:** What is the exact question we are trying to answer?\n",
    "\n",
    "**Your solution here**"
   ]
  },
  {
   "cell_type": "markdown",
   "metadata": {},
   "source": [
    "Now we will print out the conditional entropy for each unique value of deadline. This is called the *specific conditional entropy*."
   ]
  },
  {
   "cell_type": "code",
   "execution_count": 12,
   "metadata": {},
   "outputs": [
    {
     "name": "stdout",
     "output_type": "stream",
     "text": [
      "1.6854752972273346\n",
      "Urgent 0.9182958340544896 3 0.27548875021634683\n",
      "Near 1.5 4 0.6000000000000001\n",
      "None 0.9182958340544896 3 0.27548875021634683\n"
     ]
    },
    {
     "data": {
      "text/plain": [
       "1.1509775004326936"
      ]
     },
     "execution_count": 12,
     "metadata": {},
     "output_type": "execute_result"
    }
   ],
   "source": [
    "print(calc_entropy(df['Activity']))\n",
    "cond_entropy = 0\n",
    "for value in df['Deadline?'].unique():\n",
    "    df2 = df.loc[df['Deadline?'] == value]\n",
    "    print(value,calc_entropy(df2['Activity']),len(df2),len(df2)/len(df)*calc_entropy(df2['Activity']))\n",
    "    cond_entropy += len(df2)/len(df)*calc_entropy(df2['Activity'])\n",
    "cond_entropy"
   ]
  },
  {
   "cell_type": "markdown",
   "metadata": {},
   "source": [
    "**We can put this into a function:**"
   ]
  },
  {
   "cell_type": "code",
   "execution_count": 15,
   "metadata": {},
   "outputs": [],
   "source": [
    "def calc_cond_entropy(X,S):\n",
    "    cond_entropy = 0\n",
    "    for value in X.unique():\n",
    "        S_cond_value = S[X == value]\n",
    "        cond_entropy += len(S_cond_value)/len(S)*calc_entropy(S_cond_value)\n",
    "    return cond_entropy"
   ]
  },
  {
   "cell_type": "code",
   "execution_count": 16,
   "metadata": {},
   "outputs": [
    {
     "data": {
      "text/plain": [
       "1.1509775004326936"
      ]
     },
     "execution_count": 16,
     "metadata": {},
     "output_type": "execute_result"
    }
   ],
   "source": [
    "calc_cond_entropy(df['Deadline?'],df['Activity'])"
   ]
  },
  {
   "cell_type": "code",
   "execution_count": 17,
   "metadata": {},
   "outputs": [
    {
     "data": {
      "text/plain": [
       "0.6854752972273344"
      ]
     },
     "execution_count": 17,
     "metadata": {},
     "output_type": "execute_result"
    }
   ],
   "source": [
    "calc_cond_entropy(df['Is there a party?'],df['Activity'])"
   ]
  },
  {
   "cell_type": "code",
   "execution_count": 18,
   "metadata": {},
   "outputs": [
    {
     "data": {
      "text/plain": [
       "1.4754887502163467"
      ]
     },
     "execution_count": 18,
     "metadata": {},
     "output_type": "execute_result"
    }
   ],
   "source": [
    "calc_cond_entropy(df['Lazy?'],df['Activity'])"
   ]
  },
  {
   "cell_type": "markdown",
   "metadata": {
    "slideshow": {
     "slide_type": "subslide"
    }
   },
   "source": [
    "**Stop and think:** How do you calculate the entropy knowing the specific value for a question such as deadline?"
   ]
  },
  {
   "cell_type": "markdown",
   "metadata": {
    "slideshow": {
     "slide_type": "fragment"
    }
   },
   "source": [
    "Your solution here"
   ]
  },
  {
   "cell_type": "markdown",
   "metadata": {
    "slideshow": {
     "slide_type": "subslide"
    }
   },
   "source": [
    "**Stop and think:** How do you measure the entropy after you ask a question such as deadline?"
   ]
  },
  {
   "cell_type": "markdown",
   "metadata": {
    "slideshow": {
     "slide_type": "fragment"
    }
   },
   "source": [
    "Your solution here"
   ]
  },
  {
   "cell_type": "markdown",
   "metadata": {
    "slideshow": {
     "slide_type": "subslide"
    }
   },
   "source": [
    "### Now onto the ID3 algorithm!\n",
    "From Marsland Chapter 12:\n",
    "\n",
    "\n",
    "* If all examples have the same label:\n",
    "    * return a leaf with that label\n",
    "* Else if there are no features left to test:\n",
    "    * return a leaf with the most common label\n",
    "* Else:\n",
    "    * choose the feature named $F$ (i.e., column) that maximises the information gain of $S$ to be the next node.\n",
    "    * add a branch from the current node for each unique value f in $X_F$\n",
    "    * for each branch:\n",
    "        * calculate $S_f$ by removing $F$ from the set of features\n",
    "        * recursively call the algorithm with $S_f$ , to compute the gain relative to the current set of examples"
   ]
  },
  {
   "cell_type": "markdown",
   "metadata": {},
   "source": [
    "Let's now define information gain as the difference between the entropy prior to the split to the entropy after the split."
   ]
  },
  {
   "cell_type": "code",
   "execution_count": 19,
   "metadata": {},
   "outputs": [],
   "source": [
    "def information_gain(X,S):\n",
    "    orig_entropy = calc_entropy(S)\n",
    "    cond_entropy = calc_cond_entropy(X,S)\n",
    "    return orig_entropy - cond_entropy"
   ]
  },
  {
   "cell_type": "code",
   "execution_count": 20,
   "metadata": {},
   "outputs": [
    {
     "data": {
      "text/plain": [
       "0.20998654701098785"
      ]
     },
     "execution_count": 20,
     "metadata": {},
     "output_type": "execute_result"
    }
   ],
   "source": [
    "information_gain(df['Lazy?'],df['Activity'])"
   ]
  },
  {
   "cell_type": "code",
   "execution_count": 21,
   "metadata": {},
   "outputs": [
    {
     "data": {
      "text/plain": [
       "1.0000000000000002"
      ]
     },
     "execution_count": 21,
     "metadata": {},
     "output_type": "execute_result"
    }
   ],
   "source": [
    "information_gain(df['Is there a party?'],df['Activity'])"
   ]
  },
  {
   "cell_type": "code",
   "execution_count": 22,
   "metadata": {},
   "outputs": [
    {
     "data": {
      "text/plain": [
       "0.5344977967946409"
      ]
     },
     "execution_count": 22,
     "metadata": {},
     "output_type": "execute_result"
    }
   ],
   "source": [
    "information_gain(df['Deadline?'],df['Activity'])"
   ]
  },
  {
   "cell_type": "markdown",
   "metadata": {
    "slideshow": {
     "slide_type": "subslide"
    }
   },
   "source": [
    "### Let's make our tree!\n",
    "\n",
    "To the whiteboard or computer! Below is some scratch work to get us started. Once you have the pattern, you can continue on your own to practice. We will store our tree in a dictionary."
   ]
  },
  {
   "cell_type": "code",
   "execution_count": 37,
   "metadata": {},
   "outputs": [
    {
     "name": "stdout",
     "output_type": "stream",
     "text": [
      "{\n",
      "    \"Is there a party?\": {\n",
      "        \"No\": [],\n",
      "        \"Yes\": []\n",
      "    }\n",
      "}\n"
     ]
    }
   ],
   "source": [
    "tree = {\"Is there a party?\":{\"Yes\":[],\"No\":[]}}\n",
    "import json\n",
    "print(json.dumps(tree,sort_keys=True, indent=4))"
   ]
  },
  {
   "cell_type": "code",
   "execution_count": 39,
   "metadata": {},
   "outputs": [
    {
     "data": {
      "text/html": [
       "<div>\n",
       "<style scoped>\n",
       "    .dataframe tbody tr th:only-of-type {\n",
       "        vertical-align: middle;\n",
       "    }\n",
       "\n",
       "    .dataframe tbody tr th {\n",
       "        vertical-align: top;\n",
       "    }\n",
       "\n",
       "    .dataframe thead th {\n",
       "        text-align: right;\n",
       "    }\n",
       "</style>\n",
       "<table border=\"1\" class=\"dataframe\">\n",
       "  <thead>\n",
       "    <tr style=\"text-align: right;\">\n",
       "      <th></th>\n",
       "      <th>Deadline?</th>\n",
       "      <th>Lazy?</th>\n",
       "      <th>Activity</th>\n",
       "    </tr>\n",
       "  </thead>\n",
       "  <tbody>\n",
       "    <tr>\n",
       "      <th>1</th>\n",
       "      <td>Urgent</td>\n",
       "      <td>Yes</td>\n",
       "      <td>Study</td>\n",
       "    </tr>\n",
       "    <tr>\n",
       "      <th>4</th>\n",
       "      <td>None</td>\n",
       "      <td>Yes</td>\n",
       "      <td>Pub</td>\n",
       "    </tr>\n",
       "    <tr>\n",
       "      <th>6</th>\n",
       "      <td>Near</td>\n",
       "      <td>No</td>\n",
       "      <td>Study</td>\n",
       "    </tr>\n",
       "    <tr>\n",
       "      <th>7</th>\n",
       "      <td>Near</td>\n",
       "      <td>Yes</td>\n",
       "      <td>TV</td>\n",
       "    </tr>\n",
       "    <tr>\n",
       "      <th>9</th>\n",
       "      <td>Urgent</td>\n",
       "      <td>No</td>\n",
       "      <td>Study</td>\n",
       "    </tr>\n",
       "  </tbody>\n",
       "</table>\n",
       "</div>"
      ],
      "text/plain": [
       "  Deadline? Lazy? Activity\n",
       "1    Urgent   Yes    Study\n",
       "4      None   Yes      Pub\n",
       "6      Near    No    Study\n",
       "7      Near   Yes       TV\n",
       "9    Urgent    No    Study"
      ]
     },
     "execution_count": 39,
     "metadata": {},
     "output_type": "execute_result"
    }
   ],
   "source": [
    "new_df = df.loc[df['Is there a party?'] == 'No'].drop('Is there a party?',axis=1)\n",
    "new_df"
   ]
  },
  {
   "cell_type": "code",
   "execution_count": 40,
   "metadata": {},
   "outputs": [
    {
     "data": {
      "text/plain": [
       "0.41997309402197514"
      ]
     },
     "execution_count": 40,
     "metadata": {},
     "output_type": "execute_result"
    }
   ],
   "source": [
    "information_gain(new_df['Lazy?'],new_df['Activity'])"
   ]
  },
  {
   "cell_type": "code",
   "execution_count": 41,
   "metadata": {},
   "outputs": [
    {
     "data": {
      "text/plain": [
       "0.9709505944546687"
      ]
     },
     "execution_count": 41,
     "metadata": {},
     "output_type": "execute_result"
    }
   ],
   "source": [
    "information_gain(new_df['Deadline?'],new_df['Activity'])"
   ]
  },
  {
   "cell_type": "code",
   "execution_count": 43,
   "metadata": {},
   "outputs": [
    {
     "name": "stdout",
     "output_type": "stream",
     "text": [
      "{\n",
      "    \"Deadline?\": {\n",
      "        \"Near\": null,\n",
      "        \"None\": null,\n",
      "        \"Urgent\": null\n",
      "    }\n",
      "}\n"
     ]
    }
   ],
   "source": [
    "new_tree = {\"Deadline?\":{\"Urgent\":None,\"Near\":None,\"None\":None}}\n",
    "print(json.dumps(new_tree,sort_keys=True, indent=4))"
   ]
  },
  {
   "cell_type": "code",
   "execution_count": 45,
   "metadata": {},
   "outputs": [
    {
     "name": "stdout",
     "output_type": "stream",
     "text": [
      "{\n",
      "    \"Is there a party?\": {\n",
      "        \"No\": {\n",
      "            \"Deadline?\": {\n",
      "                \"Near\": null,\n",
      "                \"None\": null,\n",
      "                \"Urgent\": null\n",
      "            }\n",
      "        },\n",
      "        \"Yes\": []\n",
      "    }\n",
      "}\n"
     ]
    }
   ],
   "source": [
    "tree['Is there a party?']['No'] = new_tree\n",
    "print(json.dumps(tree,sort_keys=True, indent=4))"
   ]
  },
  {
   "cell_type": "code",
   "execution_count": 47,
   "metadata": {},
   "outputs": [
    {
     "data": {
      "text/html": [
       "<div>\n",
       "<style scoped>\n",
       "    .dataframe tbody tr th:only-of-type {\n",
       "        vertical-align: middle;\n",
       "    }\n",
       "\n",
       "    .dataframe tbody tr th {\n",
       "        vertical-align: top;\n",
       "    }\n",
       "\n",
       "    .dataframe thead th {\n",
       "        text-align: right;\n",
       "    }\n",
       "</style>\n",
       "<table border=\"1\" class=\"dataframe\">\n",
       "  <thead>\n",
       "    <tr style=\"text-align: right;\">\n",
       "      <th></th>\n",
       "      <th>Lazy?</th>\n",
       "      <th>Activity</th>\n",
       "    </tr>\n",
       "  </thead>\n",
       "  <tbody>\n",
       "    <tr>\n",
       "      <th>4</th>\n",
       "      <td>Yes</td>\n",
       "      <td>Pub</td>\n",
       "    </tr>\n",
       "  </tbody>\n",
       "</table>\n",
       "</div>"
      ],
      "text/plain": [
       "  Lazy? Activity\n",
       "4   Yes      Pub"
      ]
     },
     "execution_count": 47,
     "metadata": {},
     "output_type": "execute_result"
    }
   ],
   "source": [
    "new_df2 = new_df.loc[new_df['Deadline?'] == 'None'].drop('Deadline?',axis=1)\n",
    "new_df2"
   ]
  },
  {
   "cell_type": "markdown",
   "metadata": {},
   "source": [
    "Does this hit a base case?\n",
    "\n",
    "Answer: Yes. There is only one label and it is Pub."
   ]
  },
  {
   "cell_type": "code",
   "execution_count": 48,
   "metadata": {},
   "outputs": [
    {
     "name": "stdout",
     "output_type": "stream",
     "text": [
      "{\n",
      "    \"Is there a party?\": {\n",
      "        \"No\": {\n",
      "            \"Deadline?\": {\n",
      "                \"Near\": null,\n",
      "                \"None\": \"Pub\",\n",
      "                \"Urgent\": null\n",
      "            }\n",
      "        },\n",
      "        \"Yes\": []\n",
      "    }\n",
      "}\n"
     ]
    }
   ],
   "source": [
    "tree['Is there a party?']['No']['Deadline?']['None'] = \"Pub\"\n",
    "print(json.dumps(tree,sort_keys=True, indent=4))"
   ]
  },
  {
   "cell_type": "code",
   "execution_count": 49,
   "metadata": {},
   "outputs": [
    {
     "data": {
      "text/html": [
       "<div>\n",
       "<style scoped>\n",
       "    .dataframe tbody tr th:only-of-type {\n",
       "        vertical-align: middle;\n",
       "    }\n",
       "\n",
       "    .dataframe tbody tr th {\n",
       "        vertical-align: top;\n",
       "    }\n",
       "\n",
       "    .dataframe thead th {\n",
       "        text-align: right;\n",
       "    }\n",
       "</style>\n",
       "<table border=\"1\" class=\"dataframe\">\n",
       "  <thead>\n",
       "    <tr style=\"text-align: right;\">\n",
       "      <th></th>\n",
       "      <th>Lazy?</th>\n",
       "      <th>Activity</th>\n",
       "    </tr>\n",
       "  </thead>\n",
       "  <tbody>\n",
       "    <tr>\n",
       "      <th>6</th>\n",
       "      <td>No</td>\n",
       "      <td>Study</td>\n",
       "    </tr>\n",
       "    <tr>\n",
       "      <th>7</th>\n",
       "      <td>Yes</td>\n",
       "      <td>TV</td>\n",
       "    </tr>\n",
       "  </tbody>\n",
       "</table>\n",
       "</div>"
      ],
      "text/plain": [
       "  Lazy? Activity\n",
       "6    No    Study\n",
       "7   Yes       TV"
      ]
     },
     "execution_count": 49,
     "metadata": {},
     "output_type": "execute_result"
    }
   ],
   "source": [
    "new_df2 = new_df.loc[new_df['Deadline?'] == 'Near'].drop('Deadline?',axis=1)\n",
    "new_df2"
   ]
  },
  {
   "cell_type": "code",
   "execution_count": 50,
   "metadata": {},
   "outputs": [
    {
     "data": {
      "text/plain": [
       "1.0"
      ]
     },
     "execution_count": 50,
     "metadata": {},
     "output_type": "execute_result"
    }
   ],
   "source": [
    "information_gain(new_df2['Lazy?'],new_df2['Activity'])"
   ]
  },
  {
   "cell_type": "code",
   "execution_count": 51,
   "metadata": {},
   "outputs": [
    {
     "data": {
      "text/html": [
       "<div>\n",
       "<style scoped>\n",
       "    .dataframe tbody tr th:only-of-type {\n",
       "        vertical-align: middle;\n",
       "    }\n",
       "\n",
       "    .dataframe tbody tr th {\n",
       "        vertical-align: top;\n",
       "    }\n",
       "\n",
       "    .dataframe thead th {\n",
       "        text-align: right;\n",
       "    }\n",
       "</style>\n",
       "<table border=\"1\" class=\"dataframe\">\n",
       "  <thead>\n",
       "    <tr style=\"text-align: right;\">\n",
       "      <th></th>\n",
       "      <th>Activity</th>\n",
       "    </tr>\n",
       "  </thead>\n",
       "  <tbody>\n",
       "    <tr>\n",
       "      <th>7</th>\n",
       "      <td>TV</td>\n",
       "    </tr>\n",
       "  </tbody>\n",
       "</table>\n",
       "</div>"
      ],
      "text/plain": [
       "  Activity\n",
       "7       TV"
      ]
     },
     "execution_count": 51,
     "metadata": {},
     "output_type": "execute_result"
    }
   ],
   "source": [
    "new_df3 = new_df2.loc[new_df2['Lazy?'] == 'Yes'].drop('Lazy?',axis=1)\n",
    "new_df3"
   ]
  },
  {
   "cell_type": "code",
   "execution_count": 53,
   "metadata": {},
   "outputs": [
    {
     "name": "stdout",
     "output_type": "stream",
     "text": [
      "{\n",
      "    \"Is there a party?\": {\n",
      "        \"No\": {\n",
      "            \"Deadline?\": {\n",
      "                \"Near\": {\n",
      "                    \"Lazy?\": {\n",
      "                        \"No\": null,\n",
      "                        \"Yes\": null\n",
      "                    }\n",
      "                },\n",
      "                \"None\": \"Pub\",\n",
      "                \"Urgent\": null\n",
      "            }\n",
      "        },\n",
      "        \"Yes\": []\n",
      "    }\n",
      "}\n"
     ]
    }
   ],
   "source": [
    "tree['Is there a party?']['No']['Deadline?']['Near'] = {\"Lazy?\":{\"No\":None,\"Yes\":None}}\n",
    "print(json.dumps(tree,sort_keys=True, indent=4))"
   ]
  },
  {
   "cell_type": "code",
   "execution_count": 54,
   "metadata": {},
   "outputs": [
    {
     "name": "stdout",
     "output_type": "stream",
     "text": [
      "{\n",
      "    \"Is there a party?\": {\n",
      "        \"No\": {\n",
      "            \"Deadline?\": {\n",
      "                \"Near\": {\n",
      "                    \"Lazy?\": {\n",
      "                        \"No\": null,\n",
      "                        \"Yes\": \"TV\"\n",
      "                    }\n",
      "                },\n",
      "                \"None\": \"Pub\",\n",
      "                \"Urgent\": null\n",
      "            }\n",
      "        },\n",
      "        \"Yes\": []\n",
      "    }\n",
      "}\n"
     ]
    }
   ],
   "source": [
    "tree['Is there a party?']['No']['Deadline?']['Near']['Lazy?']['Yes'] = 'TV'\n",
    "print(json.dumps(tree,sort_keys=True, indent=4))"
   ]
  },
  {
   "cell_type": "markdown",
   "metadata": {},
   "source": [
    "### Advances"
   ]
  },
  {
   "cell_type": "markdown",
   "metadata": {
    "slideshow": {
     "slide_type": "subslide"
    }
   },
   "source": [
    "Now that we have a basic algorithm, what are some of the advances:\n",
    "* Continuous variables\n",
    "* C4.5 with pruning"
   ]
  },
  {
   "cell_type": "markdown",
   "metadata": {
    "slideshow": {
     "slide_type": "subslide"
    }
   },
   "source": [
    "**Stop and think:** How would you adapt for continuous variables?"
   ]
  },
  {
   "cell_type": "markdown",
   "metadata": {
    "slideshow": {
     "slide_type": "subslide"
    }
   },
   "source": [
    "So our next natural question is ... how do we compare algorithms?\n",
    "\n",
    "##### Your solution here"
   ]
  },
  {
   "cell_type": "markdown",
   "metadata": {},
   "source": [
    "## Practice Problems"
   ]
  },
  {
   "cell_type": "markdown",
   "metadata": {},
   "source": [
    "**Practice problem 1:** Construct the full decision tree and show all of the calculations of entropy and information gain for the following data set. Show all of your work. "
   ]
  },
  {
   "cell_type": "code",
   "execution_count": 1,
   "metadata": {},
   "outputs": [
    {
     "data": {
      "text/html": [
       "<div>\n",
       "<style scoped>\n",
       "    .dataframe tbody tr th:only-of-type {\n",
       "        vertical-align: middle;\n",
       "    }\n",
       "\n",
       "    .dataframe tbody tr th {\n",
       "        vertical-align: top;\n",
       "    }\n",
       "\n",
       "    .dataframe thead th {\n",
       "        text-align: right;\n",
       "    }\n",
       "</style>\n",
       "<table border=\"1\" class=\"dataframe\">\n",
       "  <thead>\n",
       "    <tr style=\"text-align: right;\">\n",
       "      <th></th>\n",
       "      <th>Furniture/F</th>\n",
       "      <th># Rooms/R</th>\n",
       "      <th>Kitchen/K</th>\n",
       "      <th>Acceptable</th>\n",
       "    </tr>\n",
       "    <tr>\n",
       "      <th>ID</th>\n",
       "      <th></th>\n",
       "      <th></th>\n",
       "      <th></th>\n",
       "      <th></th>\n",
       "    </tr>\n",
       "  </thead>\n",
       "  <tbody>\n",
       "    <tr>\n",
       "      <th>1</th>\n",
       "      <td>Not included</td>\n",
       "      <td>3</td>\n",
       "      <td>New</td>\n",
       "      <td>Yes</td>\n",
       "    </tr>\n",
       "    <tr>\n",
       "      <th>2</th>\n",
       "      <td>Included</td>\n",
       "      <td>3</td>\n",
       "      <td>Old</td>\n",
       "      <td>No</td>\n",
       "    </tr>\n",
       "    <tr>\n",
       "      <th>3</th>\n",
       "      <td>Not included</td>\n",
       "      <td>4</td>\n",
       "      <td>Old</td>\n",
       "      <td>Yes</td>\n",
       "    </tr>\n",
       "    <tr>\n",
       "      <th>4</th>\n",
       "      <td>Not included</td>\n",
       "      <td>3</td>\n",
       "      <td>Old</td>\n",
       "      <td>No</td>\n",
       "    </tr>\n",
       "    <tr>\n",
       "      <th>5</th>\n",
       "      <td>Included</td>\n",
       "      <td>4</td>\n",
       "      <td>Old</td>\n",
       "      <td>Yes</td>\n",
       "    </tr>\n",
       "  </tbody>\n",
       "</table>\n",
       "</div>"
      ],
      "text/plain": [
       "     Furniture/F  # Rooms/R Kitchen/K Acceptable\n",
       "ID                                              \n",
       "1   Not included          3       New        Yes\n",
       "2       Included          3       Old         No\n",
       "3   Not included          4       Old        Yes\n",
       "4   Not included          3       Old         No\n",
       "5       Included          4       Old        Yes"
      ]
     },
     "execution_count": 1,
     "metadata": {},
     "output_type": "execute_result"
    }
   ],
   "source": [
    "import pandas as pd\n",
    "table = pd.DataFrame([\n",
    "    [1,\"Not included\",3,\"New\",\"Yes\"],\n",
    "    [2,\"Included\",3,\"Old\",\"No\"],\n",
    "    [3,\"Not included\",4,\"Old\",\"Yes\"],\n",
    "    [4,\"Not included\",3,\"Old\",\"No\"],\n",
    "    [5,\"Included\",4,\"Old\",\"Yes\"],    \n",
    "],columns=[\"ID\",\"Furniture/F\",\"# Rooms/R\",\"Kitchen/K\",\"Acceptable\"]).set_index(\"ID\")\n",
    "table"
   ]
  }
 ],
 "metadata": {
  "celltoolbar": "Slideshow",
  "hide_code_all_hidden": false,
  "kernelspec": {
   "display_name": "Python 3 (ipykernel)",
   "language": "python",
   "name": "python3"
  },
  "language_info": {
   "codemirror_mode": {
    "name": "ipython",
    "version": 3
   },
   "file_extension": ".py",
   "mimetype": "text/x-python",
   "name": "python",
   "nbconvert_exporter": "python",
   "pygments_lexer": "ipython3",
   "version": "3.9.7"
  }
 },
 "nbformat": 4,
 "nbformat_minor": 4
}
